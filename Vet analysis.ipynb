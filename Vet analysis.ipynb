{
 "cells": [
  {
   "cell_type": "markdown",
   "metadata": {},
   "source": [
    "### Import packages"
   ]
  },
  {
   "cell_type": "code",
   "execution_count": 12,
   "metadata": {},
   "outputs": [],
   "source": [
    "import sqlite3\n",
    "import pandas as pd\n",
    "from bs4 import BeautifulSoup\n",
    "import numpy as np"
   ]
  },
  {
   "cell_type": "markdown",
   "metadata": {},
   "source": [
    "### Import qualtrics data"
   ]
  },
  {
   "cell_type": "code",
   "execution_count": 2,
   "metadata": {},
   "outputs": [],
   "source": [
    "r = pd.read_csv('Vet/Vet+Survey+1_December+3,+2020_17.30.csv', header=None).T.iloc[17:]"
   ]
  },
  {
   "cell_type": "markdown",
   "metadata": {},
   "source": [
    "### Prepare qualtrics data"
   ]
  },
  {
   "cell_type": "code",
   "execution_count": 3,
   "metadata": {},
   "outputs": [],
   "source": [
    "#delete first (incomplete) survey response\n",
    "del r[2]"
   ]
  },
  {
   "cell_type": "code",
   "execution_count": 4,
   "metadata": {},
   "outputs": [],
   "source": [
    "#rename columns\n",
    "r.columns = ['qid','header','res']"
   ]
  },
  {
   "cell_type": "code",
   "execution_count": 5,
   "metadata": {},
   "outputs": [],
   "source": [
    "#exctract url from header\n",
    "r['url'] = [x.split(' - ')[0] for x in r['header']]"
   ]
  },
  {
   "cell_type": "code",
   "execution_count": 14,
   "metadata": {},
   "outputs": [
    {
     "data": {
      "text/html": [
       "<div>\n",
       "<style scoped>\n",
       "    .dataframe tbody tr th:only-of-type {\n",
       "        vertical-align: middle;\n",
       "    }\n",
       "\n",
       "    .dataframe tbody tr th {\n",
       "        vertical-align: top;\n",
       "    }\n",
       "\n",
       "    .dataframe thead th {\n",
       "        text-align: right;\n",
       "    }\n",
       "</style>\n",
       "<table border=\"1\" class=\"dataframe\">\n",
       "  <thead>\n",
       "    <tr style=\"text-align: right;\">\n",
       "      <th></th>\n",
       "      <th>qid</th>\n",
       "      <th>header</th>\n",
       "      <th>res</th>\n",
       "      <th>url</th>\n",
       "    </tr>\n",
       "  </thead>\n",
       "  <tbody>\n",
       "    <tr>\n",
       "      <th>17</th>\n",
       "      <td>QID2</td>\n",
       "      <td>https://www.gofundme.com/f/tracy039s-kidney-do...</td>\n",
       "      <td>False Positive</td>\n",
       "      <td>https://www.gofundme.com/f/tracy039s-kidney-do...</td>\n",
       "    </tr>\n",
       "    <tr>\n",
       "      <th>18</th>\n",
       "      <td>QID3</td>\n",
       "      <td>https://www.gofundme.com/f/save-letty-the-pitb...</td>\n",
       "      <td>True Positive</td>\n",
       "      <td>https://www.gofundme.com/f/save-letty-the-pitb...</td>\n",
       "    </tr>\n",
       "    <tr>\n",
       "      <th>19</th>\n",
       "      <td>QID4</td>\n",
       "      <td>https://www.gofundme.com/f/1n5fdq742o - hi,  i...</td>\n",
       "      <td>False Positive</td>\n",
       "      <td>https://www.gofundme.com/f/1n5fdq742o</td>\n",
       "    </tr>\n",
       "    <tr>\n",
       "      <th>20</th>\n",
       "      <td>QID5</td>\n",
       "      <td>https://www.gofundme.com/f/letshelpty - ty is ...</td>\n",
       "      <td>True Positive</td>\n",
       "      <td>https://www.gofundme.com/f/letshelpty</td>\n",
       "    </tr>\n",
       "    <tr>\n",
       "      <th>21</th>\n",
       "      <td>QID6</td>\n",
       "      <td>https://www.gofundme.com/f/fortheloveofRiley -...</td>\n",
       "      <td>True Positive</td>\n",
       "      <td>https://www.gofundme.com/f/fortheloveofRiley</td>\n",
       "    </tr>\n",
       "  </tbody>\n",
       "</table>\n",
       "</div>"
      ],
      "text/plain": [
       "     qid                                             header             res  \\\n",
       "17  QID2  https://www.gofundme.com/f/tracy039s-kidney-do...  False Positive   \n",
       "18  QID3  https://www.gofundme.com/f/save-letty-the-pitb...   True Positive   \n",
       "19  QID4  https://www.gofundme.com/f/1n5fdq742o - hi,  i...  False Positive   \n",
       "20  QID5  https://www.gofundme.com/f/letshelpty - ty is ...   True Positive   \n",
       "21  QID6  https://www.gofundme.com/f/fortheloveofRiley -...   True Positive   \n",
       "\n",
       "                                                  url  \n",
       "17  https://www.gofundme.com/f/tracy039s-kidney-do...  \n",
       "18  https://www.gofundme.com/f/save-letty-the-pitb...  \n",
       "19              https://www.gofundme.com/f/1n5fdq742o  \n",
       "20              https://www.gofundme.com/f/letshelpty  \n",
       "21       https://www.gofundme.com/f/fortheloveofRiley  "
      ]
     },
     "execution_count": 14,
     "metadata": {},
     "output_type": "execute_result"
    }
   ],
   "source": [
    "r.head()"
   ]
  },
  {
   "cell_type": "markdown",
   "metadata": {},
   "source": [
    "### Import feed data"
   ]
  },
  {
   "cell_type": "code",
   "execution_count": 7,
   "metadata": {},
   "outputs": [
    {
     "name": "stderr",
     "output_type": "stream",
     "text": [
      "/opt/anaconda3/lib/python3.7/site-packages/bs4/__init__.py:314: UserWarning: \"b'.'\" looks like a filename, not markup. You should probably open this file and pass the filehandle into Beautiful Soup.\n",
      "  ' Beautiful Soup.' % markup)\n",
      "/opt/anaconda3/lib/python3.7/site-packages/bs4/__init__.py:314: UserWarning: \"b'/'\" looks like a filename, not markup. You should probably open this file and pass the filehandle into Beautiful Soup.\n",
      "  ' Beautiful Soup.' % markup)\n"
     ]
    }
   ],
   "source": [
    "conn = sqlite3.connect(\"gfm.db\")\n",
    "feed = pd.read_sql_query(\"SELECT url, fund_description FROM feed_tb\", conn)\n",
    "feed = feed.drop_duplicates('url')\n",
    "feed['fund_description'] = [' '.join(BeautifulSoup(x).findAll(text=True)).replace(u'\\xa0', u' ') for x in feed['fund_description']]\n",
    "feed['fund_description'] = feed['fund_description'].str.lower()"
   ]
  },
  {
   "cell_type": "markdown",
   "metadata": {},
   "source": [
    "### Define search terms and function"
   ]
  },
  {
   "cell_type": "code",
   "execution_count": 8,
   "metadata": {},
   "outputs": [],
   "source": [
    "search_terms = [\n",
    "    ['pet','veterinary'],\n",
    "    ['pet','veterinarian'],\n",
    "    ['pet','vet'],\n",
    "    ['dog','veterinary'],\n",
    "    ['dog','veterinarian'],\n",
    "    ['dog','vet'],\n",
    "    ['service dog','veterinary'],\n",
    "    ['service dog','veterinarian'],\n",
    "    ['service dog','vet'],\n",
    "    ['puppy','veterinary'],\n",
    "    ['puppy','veterinarian'],\n",
    "    ['puppy','vet'],\n",
    "    ['kitty','veterinary'],\n",
    "    ['kitty','veterinarian'],\n",
    "    ['kitty','vet'],\n",
    "    ['cat','veterinary'],\n",
    "    ['cat','veterinarian'],\n",
    "    ['cat','vet']\n",
    "]"
   ]
  },
  {
   "cell_type": "code",
   "execution_count": 9,
   "metadata": {},
   "outputs": [],
   "source": [
    "def CountTerms(df, terms):\n",
    "    '''\n",
    "    input: pandas df of campaign descriptions, list of terms\n",
    "    '''\n",
    "    results = {}\n",
    "    for term in terms:\n",
    "        if type(term) == list:\n",
    "            search_term_0 = r\"\\b{0}\\b\".format(term[0])\n",
    "            search_term_1 = r\"\\b{0}\\b\".format(term[1])\n",
    "            res_0 = np.array(df['fund_description'].str.contains(search_term_0).to_list())\n",
    "            res_1 = np.array(df['fund_description'].str.contains(search_term_1).to_list())\n",
    "            res_and = np.logical_and(res_0, res_1).astype(int).tolist()\n",
    "            label = (\" + \").join(term)\n",
    "            results[label] = res_and\n",
    "        else:\n",
    "            search_term = r\"\\b{0}\\b\".format(term)\n",
    "            results[term] = df['fund_description'].str.contains(search_term).astype(int).to_list()\n",
    "    return results"
   ]
  },
  {
   "cell_type": "markdown",
   "metadata": {},
   "source": [
    "### Execute search"
   ]
  },
  {
   "cell_type": "code",
   "execution_count": 13,
   "metadata": {},
   "outputs": [],
   "source": [
    "count_dict = CountTerms(feed, search_terms)\n",
    "counts = pd.DataFrame(count_dict)"
   ]
  },
  {
   "cell_type": "code",
   "execution_count": 19,
   "metadata": {},
   "outputs": [],
   "source": [
    "counts_sum = counts.sum(axis=1)"
   ]
  },
  {
   "cell_type": "markdown",
   "metadata": {},
   "source": [
    "### Merge counts with feed"
   ]
  },
  {
   "cell_type": "code",
   "execution_count": 20,
   "metadata": {},
   "outputs": [],
   "source": [
    "feed.reset_index(drop=True, inplace=True)\n",
    "counts.reset_index(drop=True, inplace=True)"
   ]
  },
  {
   "cell_type": "code",
   "execution_count": 21,
   "metadata": {},
   "outputs": [],
   "source": [
    "merged = pd.concat([feed, counts], axis=1)"
   ]
  },
  {
   "cell_type": "code",
   "execution_count": 25,
   "metadata": {},
   "outputs": [],
   "source": [
    "merged['counts_sum'] = counts_sum"
   ]
  },
  {
   "cell_type": "markdown",
   "metadata": {},
   "source": [
    "### Merge manual review with feed"
   ]
  },
  {
   "cell_type": "code",
   "execution_count": 26,
   "metadata": {},
   "outputs": [],
   "source": [
    "df = merged.merge(r, on='url')"
   ]
  },
  {
   "cell_type": "code",
   "execution_count": 27,
   "metadata": {},
   "outputs": [],
   "source": [
    "df = df[df['counts_sum'] > 0]"
   ]
  },
  {
   "cell_type": "markdown",
   "metadata": {},
   "source": [
    "### Inspect results"
   ]
  },
  {
   "cell_type": "code",
   "execution_count": 30,
   "metadata": {},
   "outputs": [
    {
     "data": {
      "text/html": [
       "<div>\n",
       "<style scoped>\n",
       "    .dataframe tbody tr th:only-of-type {\n",
       "        vertical-align: middle;\n",
       "    }\n",
       "\n",
       "    .dataframe tbody tr th {\n",
       "        vertical-align: top;\n",
       "    }\n",
       "\n",
       "    .dataframe thead th {\n",
       "        text-align: right;\n",
       "    }\n",
       "</style>\n",
       "<table border=\"1\" class=\"dataframe\">\n",
       "  <thead>\n",
       "    <tr style=\"text-align: right;\">\n",
       "      <th></th>\n",
       "      <th>url</th>\n",
       "      <th>fund_description</th>\n",
       "      <th>pet + veterinary</th>\n",
       "      <th>pet + veterinarian</th>\n",
       "      <th>pet + vet</th>\n",
       "      <th>dog + veterinary</th>\n",
       "      <th>dog + veterinarian</th>\n",
       "      <th>dog + vet</th>\n",
       "      <th>service dog + veterinary</th>\n",
       "      <th>service dog + veterinarian</th>\n",
       "      <th>...</th>\n",
       "      <th>kitty + veterinary</th>\n",
       "      <th>kitty + veterinarian</th>\n",
       "      <th>kitty + vet</th>\n",
       "      <th>cat + veterinary</th>\n",
       "      <th>cat + veterinarian</th>\n",
       "      <th>cat + vet</th>\n",
       "      <th>counts_sum</th>\n",
       "      <th>qid</th>\n",
       "      <th>header</th>\n",
       "      <th>res</th>\n",
       "    </tr>\n",
       "  </thead>\n",
       "  <tbody>\n",
       "    <tr>\n",
       "      <th>0</th>\n",
       "      <td>https://www.gofundme.com/f/tracy039s-kidney-do...</td>\n",
       "      <td>for those of you that may not know tracy, and ...</td>\n",
       "      <td>0</td>\n",
       "      <td>0</td>\n",
       "      <td>1</td>\n",
       "      <td>0</td>\n",
       "      <td>0</td>\n",
       "      <td>0</td>\n",
       "      <td>0</td>\n",
       "      <td>0</td>\n",
       "      <td>...</td>\n",
       "      <td>0</td>\n",
       "      <td>0</td>\n",
       "      <td>0</td>\n",
       "      <td>0</td>\n",
       "      <td>0</td>\n",
       "      <td>0</td>\n",
       "      <td>1</td>\n",
       "      <td>QID2</td>\n",
       "      <td>https://www.gofundme.com/f/tracy039s-kidney-do...</td>\n",
       "      <td>False Positive</td>\n",
       "    </tr>\n",
       "    <tr>\n",
       "      <th>1</th>\n",
       "      <td>https://www.gofundme.com/f/save-letty-the-pitb...</td>\n",
       "      <td>meet letty the pitbull.  she is my precocious ...</td>\n",
       "      <td>0</td>\n",
       "      <td>0</td>\n",
       "      <td>0</td>\n",
       "      <td>0</td>\n",
       "      <td>0</td>\n",
       "      <td>0</td>\n",
       "      <td>0</td>\n",
       "      <td>0</td>\n",
       "      <td>...</td>\n",
       "      <td>0</td>\n",
       "      <td>0</td>\n",
       "      <td>0</td>\n",
       "      <td>0</td>\n",
       "      <td>0</td>\n",
       "      <td>0</td>\n",
       "      <td>1</td>\n",
       "      <td>QID3</td>\n",
       "      <td>https://www.gofundme.com/f/save-letty-the-pitb...</td>\n",
       "      <td>True Positive</td>\n",
       "    </tr>\n",
       "    <tr>\n",
       "      <th>2</th>\n",
       "      <td>https://www.gofundme.com/f/1n5fdq742o</td>\n",
       "      <td>hi,  i'm gail.  i am a 71-year-old woman who s...</td>\n",
       "      <td>0</td>\n",
       "      <td>0</td>\n",
       "      <td>0</td>\n",
       "      <td>0</td>\n",
       "      <td>1</td>\n",
       "      <td>0</td>\n",
       "      <td>0</td>\n",
       "      <td>1</td>\n",
       "      <td>...</td>\n",
       "      <td>0</td>\n",
       "      <td>0</td>\n",
       "      <td>0</td>\n",
       "      <td>0</td>\n",
       "      <td>0</td>\n",
       "      <td>0</td>\n",
       "      <td>2</td>\n",
       "      <td>QID4</td>\n",
       "      <td>https://www.gofundme.com/f/1n5fdq742o - hi,  i...</td>\n",
       "      <td>False Positive</td>\n",
       "    </tr>\n",
       "    <tr>\n",
       "      <th>3</th>\n",
       "      <td>https://www.gofundme.com/f/letshelpty</td>\n",
       "      <td>ty is our beloved orange kitty. my brother and...</td>\n",
       "      <td>1</td>\n",
       "      <td>0</td>\n",
       "      <td>0</td>\n",
       "      <td>0</td>\n",
       "      <td>0</td>\n",
       "      <td>0</td>\n",
       "      <td>0</td>\n",
       "      <td>0</td>\n",
       "      <td>...</td>\n",
       "      <td>1</td>\n",
       "      <td>0</td>\n",
       "      <td>0</td>\n",
       "      <td>1</td>\n",
       "      <td>0</td>\n",
       "      <td>0</td>\n",
       "      <td>3</td>\n",
       "      <td>QID5</td>\n",
       "      <td>https://www.gofundme.com/f/letshelpty - ty is ...</td>\n",
       "      <td>True Positive</td>\n",
       "    </tr>\n",
       "    <tr>\n",
       "      <th>4</th>\n",
       "      <td>https://www.gofundme.com/f/fortheloveofRiley</td>\n",
       "      <td>last week, was unremarkable.  just a normal su...</td>\n",
       "      <td>1</td>\n",
       "      <td>1</td>\n",
       "      <td>1</td>\n",
       "      <td>0</td>\n",
       "      <td>0</td>\n",
       "      <td>0</td>\n",
       "      <td>0</td>\n",
       "      <td>0</td>\n",
       "      <td>...</td>\n",
       "      <td>0</td>\n",
       "      <td>0</td>\n",
       "      <td>0</td>\n",
       "      <td>0</td>\n",
       "      <td>0</td>\n",
       "      <td>0</td>\n",
       "      <td>3</td>\n",
       "      <td>QID6</td>\n",
       "      <td>https://www.gofundme.com/f/fortheloveofRiley -...</td>\n",
       "      <td>True Positive</td>\n",
       "    </tr>\n",
       "  </tbody>\n",
       "</table>\n",
       "<p>5 rows × 24 columns</p>\n",
       "</div>"
      ],
      "text/plain": [
       "                                                 url  \\\n",
       "0  https://www.gofundme.com/f/tracy039s-kidney-do...   \n",
       "1  https://www.gofundme.com/f/save-letty-the-pitb...   \n",
       "2              https://www.gofundme.com/f/1n5fdq742o   \n",
       "3              https://www.gofundme.com/f/letshelpty   \n",
       "4       https://www.gofundme.com/f/fortheloveofRiley   \n",
       "\n",
       "                                    fund_description  pet + veterinary  \\\n",
       "0  for those of you that may not know tracy, and ...                 0   \n",
       "1  meet letty the pitbull.  she is my precocious ...                 0   \n",
       "2  hi,  i'm gail.  i am a 71-year-old woman who s...                 0   \n",
       "3  ty is our beloved orange kitty. my brother and...                 1   \n",
       "4  last week, was unremarkable.  just a normal su...                 1   \n",
       "\n",
       "   pet + veterinarian  pet + vet  dog + veterinary  dog + veterinarian  \\\n",
       "0                   0          1                 0                   0   \n",
       "1                   0          0                 0                   0   \n",
       "2                   0          0                 0                   1   \n",
       "3                   0          0                 0                   0   \n",
       "4                   1          1                 0                   0   \n",
       "\n",
       "   dog + vet  service dog + veterinary  service dog + veterinarian  ...  \\\n",
       "0          0                         0                           0  ...   \n",
       "1          0                         0                           0  ...   \n",
       "2          0                         0                           1  ...   \n",
       "3          0                         0                           0  ...   \n",
       "4          0                         0                           0  ...   \n",
       "\n",
       "   kitty + veterinary  kitty + veterinarian  kitty + vet  cat + veterinary  \\\n",
       "0                   0                     0            0                 0   \n",
       "1                   0                     0            0                 0   \n",
       "2                   0                     0            0                 0   \n",
       "3                   1                     0            0                 1   \n",
       "4                   0                     0            0                 0   \n",
       "\n",
       "   cat + veterinarian  cat + vet  counts_sum   qid  \\\n",
       "0                   0          0           1  QID2   \n",
       "1                   0          0           1  QID3   \n",
       "2                   0          0           2  QID4   \n",
       "3                   0          0           3  QID5   \n",
       "4                   0          0           3  QID6   \n",
       "\n",
       "                                              header             res  \n",
       "0  https://www.gofundme.com/f/tracy039s-kidney-do...  False Positive  \n",
       "1  https://www.gofundme.com/f/save-letty-the-pitb...   True Positive  \n",
       "2  https://www.gofundme.com/f/1n5fdq742o - hi,  i...  False Positive  \n",
       "3  https://www.gofundme.com/f/letshelpty - ty is ...   True Positive  \n",
       "4  https://www.gofundme.com/f/fortheloveofRiley -...   True Positive  \n",
       "\n",
       "[5 rows x 24 columns]"
      ]
     },
     "execution_count": 30,
     "metadata": {},
     "output_type": "execute_result"
    }
   ],
   "source": [
    "df.head()"
   ]
  },
  {
   "cell_type": "code",
   "execution_count": 29,
   "metadata": {},
   "outputs": [
    {
     "data": {
      "text/plain": [
       "True Positive     269\n",
       "False Positive    149\n",
       "Name: res, dtype: int64"
      ]
     },
     "execution_count": 29,
     "metadata": {},
     "output_type": "execute_result"
    }
   ],
   "source": [
    "df['res'].value_counts()"
   ]
  },
  {
   "cell_type": "code",
   "execution_count": 35,
   "metadata": {},
   "outputs": [
    {
     "data": {
      "text/html": [
       "<div>\n",
       "<style scoped>\n",
       "    .dataframe tbody tr th:only-of-type {\n",
       "        vertical-align: middle;\n",
       "    }\n",
       "\n",
       "    .dataframe tbody tr th {\n",
       "        vertical-align: top;\n",
       "    }\n",
       "\n",
       "    .dataframe thead th {\n",
       "        text-align: right;\n",
       "    }\n",
       "</style>\n",
       "<table border=\"1\" class=\"dataframe\">\n",
       "  <thead>\n",
       "    <tr style=\"text-align: right;\">\n",
       "      <th>service dog + vet</th>\n",
       "      <th>0</th>\n",
       "      <th>1</th>\n",
       "    </tr>\n",
       "    <tr>\n",
       "      <th>res</th>\n",
       "      <th></th>\n",
       "      <th></th>\n",
       "    </tr>\n",
       "  </thead>\n",
       "  <tbody>\n",
       "    <tr>\n",
       "      <th>False Positive</th>\n",
       "      <td>107</td>\n",
       "      <td>42</td>\n",
       "    </tr>\n",
       "    <tr>\n",
       "      <th>True Positive</th>\n",
       "      <td>250</td>\n",
       "      <td>19</td>\n",
       "    </tr>\n",
       "  </tbody>\n",
       "</table>\n",
       "</div>"
      ],
      "text/plain": [
       "service dog + vet    0   1\n",
       "res                       \n",
       "False Positive     107  42\n",
       "True Positive      250  19"
      ]
     },
     "execution_count": 35,
     "metadata": {},
     "output_type": "execute_result"
    }
   ],
   "source": [
    "pd.crosstab(df['res'],df['service dog + veterinary'])\n",
    "pd.crosstab(df['res'],df['service dog + veterinarian'])\n",
    "pd.crosstab(df['res'],df['service dog + vet'])"
   ]
  },
  {
   "cell_type": "code",
   "execution_count": 38,
   "metadata": {},
   "outputs": [],
   "source": [
    "pet_urls_to_exclude = df[df['res'] == 'True Positive']['url'].tolist()"
   ]
  },
  {
   "cell_type": "code",
   "execution_count": null,
   "metadata": {},
   "outputs": [],
   "source": []
  }
 ],
 "metadata": {
  "kernelspec": {
   "display_name": "Python 3",
   "language": "python",
   "name": "python3"
  },
  "language_info": {
   "codemirror_mode": {
    "name": "ipython",
    "version": 3
   },
   "file_extension": ".py",
   "mimetype": "text/x-python",
   "name": "python",
   "nbconvert_exporter": "python",
   "pygments_lexer": "ipython3",
   "version": "3.7.6"
  }
 },
 "nbformat": 4,
 "nbformat_minor": 4
}
