{
 "cells": [
  {
   "cell_type": "markdown",
   "metadata": {},
   "source": [
    "### Import packages"
   ]
  },
  {
   "cell_type": "code",
   "execution_count": 1,
   "metadata": {},
   "outputs": [],
   "source": [
    "import pandas as pd\n",
    "import numpy as np\n",
    "from rapidfuzz import fuzz\n",
    "from rapidfuzz import process"
   ]
  },
  {
   "cell_type": "markdown",
   "metadata": {},
   "source": [
    "### Import data"
   ]
  },
  {
   "cell_type": "code",
   "execution_count": 2,
   "metadata": {},
   "outputs": [],
   "source": [
    "ccsr = pd.read_excel('Manual_Review/disease_hierarchy_12.18.2020.xlsx')"
   ]
  },
  {
   "cell_type": "code",
   "execution_count": 3,
   "metadata": {},
   "outputs": [],
   "source": [
    "er = pd.read_csv('Comparing algorithms/er_rounds_3-6.csv')"
   ]
  },
  {
   "cell_type": "code",
   "execution_count": 26,
   "metadata": {},
   "outputs": [],
   "source": [
    "er = pd.read_csv('Comparing algorithms/er_3-6_more_models.csv')"
   ]
  },
  {
   "cell_type": "code",
   "execution_count": 27,
   "metadata": {},
   "outputs": [],
   "source": [
    "er = er[(er['ner_model'] == 'ner_jsl') & (er['er_model'] == 'sbiobertresolve_icd10cm_augmented')]"
   ]
  },
  {
   "cell_type": "code",
   "execution_count": null,
   "metadata": {},
   "outputs": [],
   "source": []
  },
  {
   "cell_type": "code",
   "execution_count": 51,
   "metadata": {},
   "outputs": [],
   "source": [
    "er = pd.read_csv('Comparing algorithms/elmo_spark_ner.csv')"
   ]
  },
  {
   "cell_type": "code",
   "execution_count": 52,
   "metadata": {},
   "outputs": [],
   "source": [
    "er['entity_code'] = [x[2:-2] for x in er['ents']]"
   ]
  },
  {
   "cell_type": "code",
   "execution_count": null,
   "metadata": {},
   "outputs": [],
   "source": []
  },
  {
   "cell_type": "code",
   "execution_count": 238,
   "metadata": {},
   "outputs": [],
   "source": [
    "er = pd.read_csv('Comparing algorithms/er_3-6_new_jsl.csv')"
   ]
  },
  {
   "cell_type": "code",
   "execution_count": 356,
   "metadata": {},
   "outputs": [],
   "source": [
    "er = pd.read_csv('Comparing algorithms/er_3-6_new_jsl_3.csv')"
   ]
  },
  {
   "cell_type": "code",
   "execution_count": 289,
   "metadata": {},
   "outputs": [],
   "source": [
    "er = er[(er['ner_model'] == 'ner_jsl') & (er['er_model'] == 'sbiobertresolve_icd10cm_augmented')]"
   ]
  },
  {
   "cell_type": "code",
   "execution_count": null,
   "metadata": {},
   "outputs": [],
   "source": []
  },
  {
   "cell_type": "code",
   "execution_count": 31,
   "metadata": {},
   "outputs": [],
   "source": [
    "er = pd.read_csv('Comparing algorithms/ner_jsl_with_rules.csv')\n",
    "er = er[['url','ner_chunk','codes']]\n",
    "er = er.rename(columns={'codes':'entity_code'})"
   ]
  },
  {
   "cell_type": "markdown",
   "metadata": {},
   "source": [
    "### Inspect data"
   ]
  },
  {
   "cell_type": "code",
   "execution_count": 4,
   "metadata": {},
   "outputs": [
    {
     "data": {
      "text/html": [
       "<div>\n",
       "<style scoped>\n",
       "    .dataframe tbody tr th:only-of-type {\n",
       "        vertical-align: middle;\n",
       "    }\n",
       "\n",
       "    .dataframe tbody tr th {\n",
       "        vertical-align: top;\n",
       "    }\n",
       "\n",
       "    .dataframe thead th {\n",
       "        text-align: right;\n",
       "    }\n",
       "</style>\n",
       "<table border=\"1\" class=\"dataframe\">\n",
       "  <thead>\n",
       "    <tr style=\"text-align: right;\">\n",
       "      <th></th>\n",
       "      <th>ICD-10-CM CODE</th>\n",
       "      <th>ICD-10-CM CODE DESCRIPTION</th>\n",
       "      <th>Level 3</th>\n",
       "      <th>Level 2</th>\n",
       "      <th>Level 1</th>\n",
       "    </tr>\n",
       "  </thead>\n",
       "  <tbody>\n",
       "    <tr>\n",
       "      <th>0</th>\n",
       "      <td>I200</td>\n",
       "      <td>Unstable angina</td>\n",
       "      <td>Coronary atherosclerosis and other heart disease</td>\n",
       "      <td>Coronary artery disease</td>\n",
       "      <td>Cardiovascular diseases</td>\n",
       "    </tr>\n",
       "    <tr>\n",
       "      <th>1</th>\n",
       "      <td>I201</td>\n",
       "      <td>Angina pectoris with documented spasm</td>\n",
       "      <td>Coronary atherosclerosis and other heart disease</td>\n",
       "      <td>Coronary artery disease</td>\n",
       "      <td>Cardiovascular diseases</td>\n",
       "    </tr>\n",
       "    <tr>\n",
       "      <th>2</th>\n",
       "      <td>I208</td>\n",
       "      <td>Other forms of angina pectoris</td>\n",
       "      <td>Coronary atherosclerosis and other heart disease</td>\n",
       "      <td>Coronary artery disease</td>\n",
       "      <td>Cardiovascular diseases</td>\n",
       "    </tr>\n",
       "    <tr>\n",
       "      <th>3</th>\n",
       "      <td>I209</td>\n",
       "      <td>Angina pectoris, unspecified</td>\n",
       "      <td>Coronary atherosclerosis and other heart disease</td>\n",
       "      <td>Coronary artery disease</td>\n",
       "      <td>Cardiovascular diseases</td>\n",
       "    </tr>\n",
       "    <tr>\n",
       "      <th>4</th>\n",
       "      <td>I2101</td>\n",
       "      <td>ST elevation (STEMI) myocardial infarction inv...</td>\n",
       "      <td>Acute myocardial infarction</td>\n",
       "      <td>Coronary artery disease</td>\n",
       "      <td>Cardiovascular diseases</td>\n",
       "    </tr>\n",
       "  </tbody>\n",
       "</table>\n",
       "</div>"
      ],
      "text/plain": [
       "  ICD-10-CM CODE                         ICD-10-CM CODE DESCRIPTION  \\\n",
       "0           I200                                    Unstable angina   \n",
       "1           I201              Angina pectoris with documented spasm   \n",
       "2           I208                     Other forms of angina pectoris   \n",
       "3           I209                       Angina pectoris, unspecified   \n",
       "4          I2101  ST elevation (STEMI) myocardial infarction inv...   \n",
       "\n",
       "                                            Level 3                  Level 2  \\\n",
       "0  Coronary atherosclerosis and other heart disease  Coronary artery disease   \n",
       "1  Coronary atherosclerosis and other heart disease  Coronary artery disease   \n",
       "2  Coronary atherosclerosis and other heart disease  Coronary artery disease   \n",
       "3  Coronary atherosclerosis and other heart disease  Coronary artery disease   \n",
       "4                       Acute myocardial infarction  Coronary artery disease   \n",
       "\n",
       "                   Level 1  \n",
       "0  Cardiovascular diseases  \n",
       "1  Cardiovascular diseases  \n",
       "2  Cardiovascular diseases  \n",
       "3  Cardiovascular diseases  \n",
       "4  Cardiovascular diseases  "
      ]
     },
     "execution_count": 4,
     "metadata": {},
     "output_type": "execute_result"
    }
   ],
   "source": [
    "ccsr.head()"
   ]
  },
  {
   "cell_type": "code",
   "execution_count": 18,
   "metadata": {},
   "outputs": [
    {
     "data": {
      "text/html": [
       "<div>\n",
       "<style scoped>\n",
       "    .dataframe tbody tr th:only-of-type {\n",
       "        vertical-align: middle;\n",
       "    }\n",
       "\n",
       "    .dataframe tbody tr th {\n",
       "        vertical-align: top;\n",
       "    }\n",
       "\n",
       "    .dataframe thead th {\n",
       "        text-align: right;\n",
       "    }\n",
       "</style>\n",
       "<table border=\"1\" class=\"dataframe\">\n",
       "  <thead>\n",
       "    <tr style=\"text-align: right;\">\n",
       "      <th></th>\n",
       "      <th>url</th>\n",
       "      <th>ner_chunk</th>\n",
       "      <th>entity_code</th>\n",
       "    </tr>\n",
       "  </thead>\n",
       "  <tbody>\n",
       "    <tr>\n",
       "      <th>0</th>\n",
       "      <td>https://www.gofundme.com/f/please-help-karens-...</td>\n",
       "      <td>lymphoma</td>\n",
       "      <td>C859</td>\n",
       "    </tr>\n",
       "    <tr>\n",
       "      <th>1</th>\n",
       "      <td>https://www.gofundme.com/f/patrickwalter</td>\n",
       "      <td>congenital heart defect</td>\n",
       "      <td>Q249</td>\n",
       "    </tr>\n",
       "    <tr>\n",
       "      <th>2</th>\n",
       "      <td>https://www.gofundme.com/f/gspdys</td>\n",
       "      <td>Oskaloosa</td>\n",
       "      <td>F488</td>\n",
       "    </tr>\n",
       "    <tr>\n",
       "      <th>3</th>\n",
       "      <td>https://www.gofundme.com/f/gspdys</td>\n",
       "      <td>infection</td>\n",
       "      <td>P399</td>\n",
       "    </tr>\n",
       "    <tr>\n",
       "      <th>4</th>\n",
       "      <td>https://www.gofundme.com/f/gspdys</td>\n",
       "      <td>infections</td>\n",
       "      <td>P399</td>\n",
       "    </tr>\n",
       "  </tbody>\n",
       "</table>\n",
       "</div>"
      ],
      "text/plain": [
       "                                                 url                ner_chunk  \\\n",
       "0  https://www.gofundme.com/f/please-help-karens-...                 lymphoma   \n",
       "1           https://www.gofundme.com/f/patrickwalter  congenital heart defect   \n",
       "2                  https://www.gofundme.com/f/gspdys                Oskaloosa   \n",
       "3                  https://www.gofundme.com/f/gspdys                infection   \n",
       "4                  https://www.gofundme.com/f/gspdys               infections   \n",
       "\n",
       "  entity_code  \n",
       "0        C859  \n",
       "1        Q249  \n",
       "2        F488  \n",
       "3        P399  \n",
       "4        P399  "
      ]
     },
     "execution_count": 18,
     "metadata": {},
     "output_type": "execute_result"
    }
   ],
   "source": [
    "er.head(5)"
   ]
  },
  {
   "cell_type": "code",
   "execution_count": 28,
   "metadata": {},
   "outputs": [],
   "source": [
    "urls = er['url'].unique().tolist()"
   ]
  },
  {
   "cell_type": "code",
   "execution_count": 49,
   "metadata": {},
   "outputs": [],
   "source": [
    "url_toadd = []\n",
    "ner_toadd = []\n",
    "ent_toadd = []\n",
    "\n",
    "for url in urls:\n",
    "    if url in er['url'].unique():\n",
    "        continue\n",
    "    else:\n",
    "        url_toadd.append(url)\n",
    "        ner_toadd.append(np.nan)\n",
    "        ent_toadd.append(np.nan)"
   ]
  },
  {
   "cell_type": "code",
   "execution_count": 48,
   "metadata": {},
   "outputs": [
    {
     "data": {
      "text/plain": [
       "0"
      ]
     },
     "execution_count": 48,
     "metadata": {},
     "output_type": "execute_result"
    }
   ],
   "source": [
    "len(ent_toadd)"
   ]
  },
  {
   "cell_type": "code",
   "execution_count": 50,
   "metadata": {},
   "outputs": [],
   "source": [
    "er_df = pd.DataFrame({'url':url_toadd,'ner_chunk':ner_toadd,'entity_code':ent_toadd})"
   ]
  },
  {
   "cell_type": "code",
   "execution_count": 51,
   "metadata": {},
   "outputs": [],
   "source": [
    "er = pd.concat([er, er_df])"
   ]
  },
  {
   "cell_type": "code",
   "execution_count": 52,
   "metadata": {},
   "outputs": [
    {
     "data": {
      "text/plain": [
       "200"
      ]
     },
     "execution_count": 52,
     "metadata": {},
     "output_type": "execute_result"
    }
   ],
   "source": [
    "er['url'].nunique()"
   ]
  },
  {
   "cell_type": "markdown",
   "metadata": {},
   "source": [
    "### Define ER -> ICD10 mapping function"
   ]
  },
  {
   "cell_type": "code",
   "execution_count": 53,
   "metadata": {},
   "outputs": [],
   "source": [
    "def AddCCSRInfo(er, ccsr):\n",
    "    \n",
    "    desc = []\n",
    "    level_3 = []\n",
    "    level_2 = []\n",
    "    level_1 = []\n",
    "    codes = {'old':[],'new':[]}\n",
    "    \n",
    "    er = er.fillna('NAN')\n",
    "    \n",
    "    for code in er['entity_code']:\n",
    "        if code == 'NAN':\n",
    "            desc.append(np.nan)\n",
    "            level_3.append(np.nan)\n",
    "            level_2.append(np.nan)\n",
    "            level_1.append(np.nan)\n",
    "            continue\n",
    "            \n",
    "        icd = ccsr[ccsr['ICD-10-CM CODE'] == code]\n",
    "        \n",
    "        if len(icd) > 0:\n",
    "            icd = icd.values.tolist()[0]\n",
    "            desc.append(icd[1])\n",
    "            level_3.append(icd[2])\n",
    "            level_2.append(icd[3])\n",
    "            level_1.append(icd[4])\n",
    "        else:\n",
    "            if len(code) == 3:\n",
    "                code_zero = code + '0'\n",
    "                icd = ccsr[ccsr['ICD-10-CM CODE'] == code_zero]\n",
    "                if len(icd) > 0:\n",
    "                    icd = icd.values.tolist()[0]\n",
    "                    desc.append(icd[1])\n",
    "                    level_3.append(icd[2])\n",
    "                    level_2.append(icd[3])\n",
    "                    level_1.append(icd[4])\n",
    "                else:\n",
    "                    new_code = process.extractOne(code, ccsr['ICD-10-CM CODE'].tolist())[0]\n",
    "                    codes['old'].append(code)\n",
    "                    codes['new'].append(new_code)\n",
    "                    icd = ccsr[ccsr['ICD-10-CM CODE'] == new_code].values.tolist()[0]\n",
    "                    desc.append(icd[1])\n",
    "                    level_3.append(icd[2])\n",
    "                    level_2.append(icd[3])\n",
    "                    level_1.append(icd[4])\n",
    "            else:\n",
    "                new_code = process.extractOne(code, ccsr['ICD-10-CM CODE'].tolist())[0]\n",
    "                codes['old'].append(code)\n",
    "                codes['new'].append(new_code)\n",
    "                icd = ccsr[ccsr['ICD-10-CM CODE'] == new_code].values.tolist()[0]\n",
    "                desc.append(icd[1])\n",
    "                level_3.append(icd[2])\n",
    "                level_2.append(icd[3])\n",
    "                level_1.append(icd[4])\n",
    "    \n",
    "    df = pd.DataFrame({'desc':desc, 'level_3':level_3, 'level_2': level_2, 'level_1': level_1})\n",
    "    er = er.reset_index()\n",
    "    df = df.reset_index()\n",
    "    r = pd.concat([er, df], axis=1)\n",
    "    \n",
    "    return r, pd.DataFrame(codes)"
   ]
  },
  {
   "cell_type": "code",
   "execution_count": 54,
   "metadata": {},
   "outputs": [],
   "source": [
    "def GetCategories(er):\n",
    "    cat = []\n",
    "    dic = []\n",
    "    for url in er['url'].unique():\n",
    "        df = er[er['url'] == url]\n",
    "        l = df[['level_1','confidence']].groupby('level_1').agg(['count','sum']).index.tolist()\n",
    "        d = df[['level_1','confidence']].groupby('level_1').agg(['count','sum']).to_dict()\n",
    "        cat.append(l)\n",
    "        dic.append(d)\n",
    "    return pd.DataFrame({'url':er['url'].unique(),'categories':cat,'categories_metadata':dic})"
   ]
  },
  {
   "cell_type": "code",
   "execution_count": 296,
   "metadata": {},
   "outputs": [
    {
     "data": {
      "text/plain": [
       "count    656.000000\n",
       "mean       0.608878\n",
       "std        0.350318\n",
       "min        0.058900\n",
       "25%        0.263450\n",
       "50%        0.577700\n",
       "75%        0.988900\n",
       "max        0.999300\n",
       "Name: confidence, dtype: float64"
      ]
     },
     "execution_count": 296,
     "metadata": {},
     "output_type": "execute_result"
    }
   ],
   "source": [
    "er['confidence'].describe()"
   ]
  },
  {
   "cell_type": "code",
   "execution_count": 297,
   "metadata": {},
   "outputs": [
    {
     "data": {
      "text/plain": [
       "<matplotlib.axes._subplots.AxesSubplot at 0x7fc23bb04a10>"
      ]
     },
     "execution_count": 297,
     "metadata": {},
     "output_type": "execute_result"
    },
    {
     "data": {
      "image/png": "[encoded data removed]",
      "text/plain": [
       "<Figure size 432x288 with 1 Axes>"
      ]
     },
     "metadata": {
      "needs_background": "light"
     },
     "output_type": "display_data"
    }
   ],
   "source": [
    "er['confidence'].hist()"
   ]
  },
  {
   "cell_type": "code",
   "execution_count": 55,
   "metadata": {},
   "outputs": [],
   "source": [
    "er_with_ccsr, codes_log = AddCCSRInfo(er, ccsr) #takes ~1minute"
   ]
  },
  {
   "cell_type": "code",
   "execution_count": 56,
   "metadata": {},
   "outputs": [],
   "source": [
    "er_with_ccsr['confidence'] = [1 for x in er_with_ccsr['url']]\n",
    "er_with_ccsr = er_with_ccsr.fillna('Nonspecific')"
   ]
  },
  {
   "cell_type": "code",
   "execution_count": 57,
   "metadata": {},
   "outputs": [],
   "source": [
    "categories = GetCategories(er_with_ccsr)"
   ]
  },
  {
   "cell_type": "code",
   "execution_count": 58,
   "metadata": {},
   "outputs": [
    {
     "data": {
      "text/html": [
       "<div>\n",
       "<style scoped>\n",
       "    .dataframe tbody tr th:only-of-type {\n",
       "        vertical-align: middle;\n",
       "    }\n",
       "\n",
       "    .dataframe tbody tr th {\n",
       "        vertical-align: top;\n",
       "    }\n",
       "\n",
       "    .dataframe thead th {\n",
       "        text-align: right;\n",
       "    }\n",
       "</style>\n",
       "<table border=\"1\" class=\"dataframe\">\n",
       "  <thead>\n",
       "    <tr style=\"text-align: right;\">\n",
       "      <th></th>\n",
       "      <th>old</th>\n",
       "      <th>new</th>\n",
       "    </tr>\n",
       "  </thead>\n",
       "  <tbody>\n",
       "    <tr>\n",
       "      <th>0</th>\n",
       "      <td>C859</td>\n",
       "      <td>C8259</td>\n",
       "    </tr>\n",
       "    <tr>\n",
       "      <th>1</th>\n",
       "      <td>T781</td>\n",
       "      <td>T781XXA</td>\n",
       "    </tr>\n",
       "    <tr>\n",
       "      <th>2</th>\n",
       "      <td>G470</td>\n",
       "      <td>G4700</td>\n",
       "    </tr>\n",
       "    <tr>\n",
       "      <th>3</th>\n",
       "      <td>C5092</td>\n",
       "      <td>C50912</td>\n",
       "    </tr>\n",
       "    <tr>\n",
       "      <th>4</th>\n",
       "      <td>M4199</td>\n",
       "      <td>M419</td>\n",
       "    </tr>\n",
       "  </tbody>\n",
       "</table>\n",
       "</div>"
      ],
      "text/plain": [
       "     old      new\n",
       "0   C859    C8259\n",
       "1   T781  T781XXA\n",
       "2   G470    G4700\n",
       "3  C5092   C50912\n",
       "4  M4199     M419"
      ]
     },
     "execution_count": 58,
     "metadata": {},
     "output_type": "execute_result"
    }
   ],
   "source": [
    "codes_log.head()"
   ]
  },
  {
   "cell_type": "markdown",
   "metadata": {},
   "source": [
    "### Format data for comparison with reference set"
   ]
  },
  {
   "cell_type": "code",
   "execution_count": 59,
   "metadata": {},
   "outputs": [],
   "source": [
    "def list2lofd(df):\n",
    "    '''convert cat column from comma delimited to list of dictionaries with 1 or 0 for each category'''\n",
    "    \n",
    "    disease_categories = [\n",
    "        'Cardiovascular diseases',\n",
    "        'Endocrine diseases',\n",
    "        'Gastrointestinal diseases',\n",
    "        'Genitourinary disorders',\n",
    "        'Infections',\n",
    "        'Injuries and external causes',\n",
    "        'Mental, behavioral, and substance use disorders',\n",
    "        'Musculoskeletal diseases',\n",
    "        'Neoplasms',\n",
    "        'Nervous system diseases',\n",
    "        'Nonspecific',\n",
    "        'Other noncommunicable diseases',\n",
    "        'Pregnancy and childbirth',\n",
    "        'Respiratory diseases'\n",
    "    ]\n",
    "    \n",
    "    r = []\n",
    "    \n",
    "    for index,row in df.iterrows():\n",
    "        lofd = []\n",
    "        as_list = row['categories']\n",
    "        for disease in disease_categories:\n",
    "            if disease in as_list:\n",
    "                lofd.append({disease:1})\n",
    "            else:\n",
    "                lofd.append({disease:0})\n",
    "        r.append(lofd)\n",
    "    return r"
   ]
  },
  {
   "cell_type": "code",
   "execution_count": 60,
   "metadata": {},
   "outputs": [],
   "source": [
    "categories['lofd'] = list2lofd(categories)"
   ]
  },
  {
   "cell_type": "code",
   "execution_count": 61,
   "metadata": {},
   "outputs": [],
   "source": [
    "#convert to long format\n",
    "long = categories.explode('lofd')"
   ]
  },
  {
   "cell_type": "code",
   "execution_count": 62,
   "metadata": {},
   "outputs": [],
   "source": [
    "#extract key, value from dictionary\n",
    "long.insert(loc=2, column='cat', value=[list(x.items())[0][0] for x in long['lofd']])\n",
    "long.insert(loc=3, column='count', value=[list(x.items())[0][1] for x in long['lofd']])"
   ]
  },
  {
   "cell_type": "code",
   "execution_count": 63,
   "metadata": {},
   "outputs": [],
   "source": [
    "long = long[['url','cat','count']]"
   ]
  },
  {
   "cell_type": "code",
   "execution_count": 64,
   "metadata": {},
   "outputs": [],
   "source": [
    "long = long.replace('Mental, behavioral, and substance use disorders', 'Mental and substance use disorders')"
   ]
  },
  {
   "cell_type": "code",
   "execution_count": 65,
   "metadata": {},
   "outputs": [],
   "source": [
    "#create pivot tables\n",
    "pivot = long.pivot_table(index=['url'], columns='cat', values='count', aggfunc=(pd.Series.sum), fill_value=0)"
   ]
  },
  {
   "cell_type": "code",
   "execution_count": 66,
   "metadata": {},
   "outputs": [],
   "source": [
    "pivot.columns.name = ''\n",
    "pivot = pivot.reset_index()"
   ]
  },
  {
   "cell_type": "code",
   "execution_count": 67,
   "metadata": {},
   "outputs": [
    {
     "data": {
      "text/html": [
       "<div>\n",
       "<style scoped>\n",
       "    .dataframe tbody tr th:only-of-type {\n",
       "        vertical-align: middle;\n",
       "    }\n",
       "\n",
       "    .dataframe tbody tr th {\n",
       "        vertical-align: top;\n",
       "    }\n",
       "\n",
       "    .dataframe thead th {\n",
       "        text-align: right;\n",
       "    }\n",
       "</style>\n",
       "<table border=\"1\" class=\"dataframe\">\n",
       "  <thead>\n",
       "    <tr style=\"text-align: right;\">\n",
       "      <th></th>\n",
       "      <th>url</th>\n",
       "      <th>Cardiovascular diseases</th>\n",
       "      <th>Endocrine diseases</th>\n",
       "      <th>Gastrointestinal diseases</th>\n",
       "      <th>Genitourinary disorders</th>\n",
       "      <th>Infections</th>\n",
       "      <th>Injuries and external causes</th>\n",
       "      <th>Mental and substance use disorders</th>\n",
       "      <th>Musculoskeletal diseases</th>\n",
       "      <th>Neoplasms</th>\n",
       "      <th>Nervous system diseases</th>\n",
       "      <th>Nonspecific</th>\n",
       "      <th>Other noncommunicable diseases</th>\n",
       "      <th>Pregnancy and childbirth</th>\n",
       "      <th>Respiratory diseases</th>\n",
       "    </tr>\n",
       "  </thead>\n",
       "  <tbody>\n",
       "    <tr>\n",
       "      <th>0</th>\n",
       "      <td>https://www.gofundme.com/f/1v3emdk740</td>\n",
       "      <td>0</td>\n",
       "      <td>0</td>\n",
       "      <td>0</td>\n",
       "      <td>0</td>\n",
       "      <td>0</td>\n",
       "      <td>0</td>\n",
       "      <td>0</td>\n",
       "      <td>0</td>\n",
       "      <td>0</td>\n",
       "      <td>0</td>\n",
       "      <td>1</td>\n",
       "      <td>0</td>\n",
       "      <td>0</td>\n",
       "      <td>0</td>\n",
       "    </tr>\n",
       "    <tr>\n",
       "      <th>1</th>\n",
       "      <td>https://www.gofundme.com/f/1xizs9mpo0</td>\n",
       "      <td>0</td>\n",
       "      <td>0</td>\n",
       "      <td>0</td>\n",
       "      <td>0</td>\n",
       "      <td>0</td>\n",
       "      <td>0</td>\n",
       "      <td>0</td>\n",
       "      <td>0</td>\n",
       "      <td>0</td>\n",
       "      <td>0</td>\n",
       "      <td>1</td>\n",
       "      <td>0</td>\n",
       "      <td>0</td>\n",
       "      <td>0</td>\n",
       "    </tr>\n",
       "    <tr>\n",
       "      <th>2</th>\n",
       "      <td>https://www.gofundme.com/f/1zk33nyftc</td>\n",
       "      <td>0</td>\n",
       "      <td>0</td>\n",
       "      <td>0</td>\n",
       "      <td>0</td>\n",
       "      <td>0</td>\n",
       "      <td>1</td>\n",
       "      <td>1</td>\n",
       "      <td>0</td>\n",
       "      <td>0</td>\n",
       "      <td>0</td>\n",
       "      <td>1</td>\n",
       "      <td>0</td>\n",
       "      <td>0</td>\n",
       "      <td>0</td>\n",
       "    </tr>\n",
       "    <tr>\n",
       "      <th>3</th>\n",
       "      <td>https://www.gofundme.com/f/22efh5hg</td>\n",
       "      <td>0</td>\n",
       "      <td>0</td>\n",
       "      <td>0</td>\n",
       "      <td>0</td>\n",
       "      <td>0</td>\n",
       "      <td>0</td>\n",
       "      <td>0</td>\n",
       "      <td>1</td>\n",
       "      <td>0</td>\n",
       "      <td>0</td>\n",
       "      <td>0</td>\n",
       "      <td>0</td>\n",
       "      <td>0</td>\n",
       "      <td>0</td>\n",
       "    </tr>\n",
       "    <tr>\n",
       "      <th>4</th>\n",
       "      <td>https://www.gofundme.com/f/22kcir7teo</td>\n",
       "      <td>1</td>\n",
       "      <td>0</td>\n",
       "      <td>0</td>\n",
       "      <td>1</td>\n",
       "      <td>1</td>\n",
       "      <td>0</td>\n",
       "      <td>0</td>\n",
       "      <td>0</td>\n",
       "      <td>0</td>\n",
       "      <td>0</td>\n",
       "      <td>1</td>\n",
       "      <td>0</td>\n",
       "      <td>0</td>\n",
       "      <td>0</td>\n",
       "    </tr>\n",
       "  </tbody>\n",
       "</table>\n",
       "</div>"
      ],
      "text/plain": [
       "                                     url  Cardiovascular diseases  \\\n",
       "0  https://www.gofundme.com/f/1v3emdk740                        0   \n",
       "1  https://www.gofundme.com/f/1xizs9mpo0                        0   \n",
       "2  https://www.gofundme.com/f/1zk33nyftc                        0   \n",
       "3    https://www.gofundme.com/f/22efh5hg                        0   \n",
       "4  https://www.gofundme.com/f/22kcir7teo                        1   \n",
       "\n",
       "   Endocrine diseases  Gastrointestinal diseases  Genitourinary disorders  \\\n",
       "0                   0                          0                        0   \n",
       "1                   0                          0                        0   \n",
       "2                   0                          0                        0   \n",
       "3                   0                          0                        0   \n",
       "4                   0                          0                        1   \n",
       "\n",
       "   Infections  Injuries and external causes  \\\n",
       "0           0                             0   \n",
       "1           0                             0   \n",
       "2           0                             1   \n",
       "3           0                             0   \n",
       "4           1                             0   \n",
       "\n",
       "   Mental and substance use disorders  Musculoskeletal diseases  Neoplasms  \\\n",
       "0                                   0                         0          0   \n",
       "1                                   0                         0          0   \n",
       "2                                   1                         0          0   \n",
       "3                                   0                         1          0   \n",
       "4                                   0                         0          0   \n",
       "\n",
       "   Nervous system diseases  Nonspecific  Other noncommunicable diseases  \\\n",
       "0                        0            1                               0   \n",
       "1                        0            1                               0   \n",
       "2                        0            1                               0   \n",
       "3                        0            0                               0   \n",
       "4                        0            1                               0   \n",
       "\n",
       "   Pregnancy and childbirth  Respiratory diseases  \n",
       "0                         0                     0  \n",
       "1                         0                     0  \n",
       "2                         0                     0  \n",
       "3                         0                     0  \n",
       "4                         0                     0  "
      ]
     },
     "execution_count": 67,
     "metadata": {},
     "output_type": "execute_result"
    }
   ],
   "source": [
    "pivot.head()"
   ]
  },
  {
   "cell_type": "markdown",
   "metadata": {},
   "source": [
    "### Import reference data"
   ]
  },
  {
   "cell_type": "code",
   "execution_count": 68,
   "metadata": {},
   "outputs": [],
   "source": [
    "ref = pd.read_csv('Manual_Review/reference_set/reference_set_any_pivot.csv')"
   ]
  },
  {
   "cell_type": "code",
   "execution_count": 69,
   "metadata": {},
   "outputs": [
    {
     "data": {
      "text/html": [
       "<div>\n",
       "<style scoped>\n",
       "    .dataframe tbody tr th:only-of-type {\n",
       "        vertical-align: middle;\n",
       "    }\n",
       "\n",
       "    .dataframe tbody tr th {\n",
       "        vertical-align: top;\n",
       "    }\n",
       "\n",
       "    .dataframe thead th {\n",
       "        text-align: right;\n",
       "    }\n",
       "</style>\n",
       "<table border=\"1\" class=\"dataframe\">\n",
       "  <thead>\n",
       "    <tr style=\"text-align: right;\">\n",
       "      <th></th>\n",
       "      <th>url</th>\n",
       "      <th>Cardiovascular diseases</th>\n",
       "      <th>Endocrine diseases</th>\n",
       "      <th>Gastrointestinal diseases</th>\n",
       "      <th>Genitourinary disorders</th>\n",
       "      <th>Infections</th>\n",
       "      <th>Injuries and external causes</th>\n",
       "      <th>Mental and substance use disorders</th>\n",
       "      <th>Musculoskeletal diseases</th>\n",
       "      <th>Neoplasms</th>\n",
       "      <th>Nervous system diseases</th>\n",
       "      <th>Nonspecific</th>\n",
       "      <th>Other noncommunicable diseases</th>\n",
       "      <th>Pregnancy and childbirth</th>\n",
       "      <th>Respiratory diseases</th>\n",
       "    </tr>\n",
       "  </thead>\n",
       "  <tbody>\n",
       "    <tr>\n",
       "      <th>0</th>\n",
       "      <td>https://www.gofundme.com/f/1v3emdk740</td>\n",
       "      <td>0</td>\n",
       "      <td>0</td>\n",
       "      <td>0</td>\n",
       "      <td>0</td>\n",
       "      <td>0</td>\n",
       "      <td>0</td>\n",
       "      <td>0</td>\n",
       "      <td>0</td>\n",
       "      <td>0</td>\n",
       "      <td>0</td>\n",
       "      <td>1</td>\n",
       "      <td>0</td>\n",
       "      <td>0</td>\n",
       "      <td>0</td>\n",
       "    </tr>\n",
       "    <tr>\n",
       "      <th>1</th>\n",
       "      <td>https://www.gofundme.com/f/1xizs9mpo0</td>\n",
       "      <td>0</td>\n",
       "      <td>0</td>\n",
       "      <td>0</td>\n",
       "      <td>0</td>\n",
       "      <td>0</td>\n",
       "      <td>0</td>\n",
       "      <td>0</td>\n",
       "      <td>0</td>\n",
       "      <td>0</td>\n",
       "      <td>0</td>\n",
       "      <td>0</td>\n",
       "      <td>0</td>\n",
       "      <td>0</td>\n",
       "      <td>1</td>\n",
       "    </tr>\n",
       "    <tr>\n",
       "      <th>2</th>\n",
       "      <td>https://www.gofundme.com/f/1zk33nyftc</td>\n",
       "      <td>0</td>\n",
       "      <td>1</td>\n",
       "      <td>0</td>\n",
       "      <td>0</td>\n",
       "      <td>0</td>\n",
       "      <td>0</td>\n",
       "      <td>1</td>\n",
       "      <td>0</td>\n",
       "      <td>0</td>\n",
       "      <td>0</td>\n",
       "      <td>0</td>\n",
       "      <td>0</td>\n",
       "      <td>0</td>\n",
       "      <td>0</td>\n",
       "    </tr>\n",
       "    <tr>\n",
       "      <th>3</th>\n",
       "      <td>https://www.gofundme.com/f/22efh5hg</td>\n",
       "      <td>0</td>\n",
       "      <td>0</td>\n",
       "      <td>0</td>\n",
       "      <td>0</td>\n",
       "      <td>0</td>\n",
       "      <td>0</td>\n",
       "      <td>0</td>\n",
       "      <td>1</td>\n",
       "      <td>0</td>\n",
       "      <td>0</td>\n",
       "      <td>0</td>\n",
       "      <td>0</td>\n",
       "      <td>0</td>\n",
       "      <td>0</td>\n",
       "    </tr>\n",
       "    <tr>\n",
       "      <th>4</th>\n",
       "      <td>https://www.gofundme.com/f/22kcir7teo</td>\n",
       "      <td>1</td>\n",
       "      <td>0</td>\n",
       "      <td>0</td>\n",
       "      <td>1</td>\n",
       "      <td>1</td>\n",
       "      <td>0</td>\n",
       "      <td>0</td>\n",
       "      <td>1</td>\n",
       "      <td>0</td>\n",
       "      <td>0</td>\n",
       "      <td>0</td>\n",
       "      <td>0</td>\n",
       "      <td>0</td>\n",
       "      <td>1</td>\n",
       "    </tr>\n",
       "  </tbody>\n",
       "</table>\n",
       "</div>"
      ],
      "text/plain": [
       "                                     url  Cardiovascular diseases  \\\n",
       "0  https://www.gofundme.com/f/1v3emdk740                        0   \n",
       "1  https://www.gofundme.com/f/1xizs9mpo0                        0   \n",
       "2  https://www.gofundme.com/f/1zk33nyftc                        0   \n",
       "3    https://www.gofundme.com/f/22efh5hg                        0   \n",
       "4  https://www.gofundme.com/f/22kcir7teo                        1   \n",
       "\n",
       "   Endocrine diseases  Gastrointestinal diseases  Genitourinary disorders  \\\n",
       "0                   0                          0                        0   \n",
       "1                   0                          0                        0   \n",
       "2                   1                          0                        0   \n",
       "3                   0                          0                        0   \n",
       "4                   0                          0                        1   \n",
       "\n",
       "   Infections  Injuries and external causes  \\\n",
       "0           0                             0   \n",
       "1           0                             0   \n",
       "2           0                             0   \n",
       "3           0                             0   \n",
       "4           1                             0   \n",
       "\n",
       "   Mental and substance use disorders  Musculoskeletal diseases  Neoplasms  \\\n",
       "0                                   0                         0          0   \n",
       "1                                   0                         0          0   \n",
       "2                                   1                         0          0   \n",
       "3                                   0                         1          0   \n",
       "4                                   0                         1          0   \n",
       "\n",
       "   Nervous system diseases  Nonspecific  Other noncommunicable diseases  \\\n",
       "0                        0            1                               0   \n",
       "1                        0            0                               0   \n",
       "2                        0            0                               0   \n",
       "3                        0            0                               0   \n",
       "4                        0            0                               0   \n",
       "\n",
       "   Pregnancy and childbirth  Respiratory diseases  \n",
       "0                         0                     0  \n",
       "1                         0                     1  \n",
       "2                         0                     0  \n",
       "3                         0                     0  \n",
       "4                         0                     1  "
      ]
     },
     "execution_count": 69,
     "metadata": {},
     "output_type": "execute_result"
    }
   ],
   "source": [
    "ref.head()"
   ]
  },
  {
   "cell_type": "markdown",
   "metadata": {},
   "source": [
    "### Check that ER and reference urls are aligned"
   ]
  },
  {
   "cell_type": "code",
   "execution_count": 70,
   "metadata": {},
   "outputs": [
    {
     "data": {
      "text/plain": [
       "False"
      ]
     },
     "execution_count": 70,
     "metadata": {},
     "output_type": "execute_result"
    }
   ],
   "source": [
    "ref['url'].equals(pivot['url'])"
   ]
  },
  {
   "cell_type": "code",
   "execution_count": 71,
   "metadata": {},
   "outputs": [
    {
     "data": {
      "text/html": [
       "<div>\n",
       "<style scoped>\n",
       "    .dataframe tbody tr th:only-of-type {\n",
       "        vertical-align: middle;\n",
       "    }\n",
       "\n",
       "    .dataframe tbody tr th {\n",
       "        vertical-align: top;\n",
       "    }\n",
       "\n",
       "    .dataframe thead th {\n",
       "        text-align: right;\n",
       "    }\n",
       "</style>\n",
       "<table border=\"1\" class=\"dataframe\">\n",
       "  <thead>\n",
       "    <tr style=\"text-align: right;\">\n",
       "      <th></th>\n",
       "      <th>url</th>\n",
       "      <th>Cardiovascular diseases</th>\n",
       "      <th>Endocrine diseases</th>\n",
       "      <th>Gastrointestinal diseases</th>\n",
       "      <th>Genitourinary disorders</th>\n",
       "      <th>Infections</th>\n",
       "      <th>Injuries and external causes</th>\n",
       "      <th>Mental and substance use disorders</th>\n",
       "      <th>Musculoskeletal diseases</th>\n",
       "      <th>Neoplasms</th>\n",
       "      <th>Nervous system diseases</th>\n",
       "      <th>Nonspecific</th>\n",
       "      <th>Other noncommunicable diseases</th>\n",
       "      <th>Pregnancy and childbirth</th>\n",
       "      <th>Respiratory diseases</th>\n",
       "    </tr>\n",
       "  </thead>\n",
       "  <tbody>\n",
       "    <tr>\n",
       "      <th>29</th>\n",
       "      <td>https://www.gofundme.com/f/Amarilindo</td>\n",
       "      <td>0</td>\n",
       "      <td>0</td>\n",
       "      <td>0</td>\n",
       "      <td>0</td>\n",
       "      <td>0</td>\n",
       "      <td>0</td>\n",
       "      <td>0</td>\n",
       "      <td>0</td>\n",
       "      <td>0</td>\n",
       "      <td>0</td>\n",
       "      <td>1</td>\n",
       "      <td>0</td>\n",
       "      <td>0</td>\n",
       "      <td>0</td>\n",
       "    </tr>\n",
       "  </tbody>\n",
       "</table>\n",
       "</div>"
      ],
      "text/plain": [
       "                                      url  Cardiovascular diseases  \\\n",
       "29  https://www.gofundme.com/f/Amarilindo                        0   \n",
       "\n",
       "    Endocrine diseases  Gastrointestinal diseases  Genitourinary disorders  \\\n",
       "29                   0                          0                        0   \n",
       "\n",
       "    Infections  Injuries and external causes  \\\n",
       "29           0                             0   \n",
       "\n",
       "    Mental and substance use disorders  Musculoskeletal diseases  Neoplasms  \\\n",
       "29                                   0                         0          0   \n",
       "\n",
       "    Nervous system diseases  Nonspecific  Other noncommunicable diseases  \\\n",
       "29                        0            1                               0   \n",
       "\n",
       "    Pregnancy and childbirth  Respiratory diseases  \n",
       "29                         0                     0  "
      ]
     },
     "execution_count": 71,
     "metadata": {},
     "output_type": "execute_result"
    }
   ],
   "source": [
    "ref[~ref['url'].isin(pivot['url'])]"
   ]
  },
  {
   "cell_type": "code",
   "execution_count": 72,
   "metadata": {},
   "outputs": [
    {
     "data": {
      "text/html": [
       "<div>\n",
       "<style scoped>\n",
       "    .dataframe tbody tr th:only-of-type {\n",
       "        vertical-align: middle;\n",
       "    }\n",
       "\n",
       "    .dataframe tbody tr th {\n",
       "        vertical-align: top;\n",
       "    }\n",
       "\n",
       "    .dataframe thead th {\n",
       "        text-align: right;\n",
       "    }\n",
       "</style>\n",
       "<table border=\"1\" class=\"dataframe\">\n",
       "  <thead>\n",
       "    <tr style=\"text-align: right;\">\n",
       "      <th></th>\n",
       "      <th>url</th>\n",
       "      <th>Cardiovascular diseases</th>\n",
       "      <th>Endocrine diseases</th>\n",
       "      <th>Gastrointestinal diseases</th>\n",
       "      <th>Genitourinary disorders</th>\n",
       "      <th>Infections</th>\n",
       "      <th>Injuries and external causes</th>\n",
       "      <th>Mental and substance use disorders</th>\n",
       "      <th>Musculoskeletal diseases</th>\n",
       "      <th>Neoplasms</th>\n",
       "      <th>Nervous system diseases</th>\n",
       "      <th>Nonspecific</th>\n",
       "      <th>Other noncommunicable diseases</th>\n",
       "      <th>Pregnancy and childbirth</th>\n",
       "      <th>Respiratory diseases</th>\n",
       "    </tr>\n",
       "  </thead>\n",
       "  <tbody>\n",
       "    <tr>\n",
       "      <th>71</th>\n",
       "      <td>https://www.gofundme.com/f/esperanza-para-mi-v...</td>\n",
       "      <td>0</td>\n",
       "      <td>0</td>\n",
       "      <td>0</td>\n",
       "      <td>0</td>\n",
       "      <td>0</td>\n",
       "      <td>0</td>\n",
       "      <td>0</td>\n",
       "      <td>0</td>\n",
       "      <td>0</td>\n",
       "      <td>0</td>\n",
       "      <td>1</td>\n",
       "      <td>0</td>\n",
       "      <td>0</td>\n",
       "      <td>0</td>\n",
       "    </tr>\n",
       "  </tbody>\n",
       "</table>\n",
       "</div>"
      ],
      "text/plain": [
       "                                                  url  \\\n",
       "71  https://www.gofundme.com/f/esperanza-para-mi-v...   \n",
       "\n",
       "    Cardiovascular diseases  Endocrine diseases  Gastrointestinal diseases  \\\n",
       "71                        0                   0                          0   \n",
       "\n",
       "    Genitourinary disorders  Infections  Injuries and external causes  \\\n",
       "71                        0           0                             0   \n",
       "\n",
       "    Mental and substance use disorders  Musculoskeletal diseases  Neoplasms  \\\n",
       "71                                   0                         0          0   \n",
       "\n",
       "    Nervous system diseases  Nonspecific  Other noncommunicable diseases  \\\n",
       "71                        0            1                               0   \n",
       "\n",
       "    Pregnancy and childbirth  Respiratory diseases  \n",
       "71                         0                     0  "
      ]
     },
     "execution_count": 72,
     "metadata": {},
     "output_type": "execute_result"
    }
   ],
   "source": [
    "pivot[~pivot['url'].isin(ref['url'])]"
   ]
  },
  {
   "cell_type": "code",
   "execution_count": 73,
   "metadata": {},
   "outputs": [],
   "source": [
    "ref = ref[ref['url'].isin(pivot['url'])]\n",
    "pivot = pivot[pivot['url'].isin(ref['url'])]"
   ]
  },
  {
   "cell_type": "code",
   "execution_count": 74,
   "metadata": {},
   "outputs": [
    {
     "data": {
      "text/plain": [
       "(199, 15)"
      ]
     },
     "execution_count": 74,
     "metadata": {},
     "output_type": "execute_result"
    }
   ],
   "source": [
    "ref.shape"
   ]
  },
  {
   "cell_type": "code",
   "execution_count": 75,
   "metadata": {},
   "outputs": [
    {
     "data": {
      "text/plain": [
       "(199, 15)"
      ]
     },
     "execution_count": 75,
     "metadata": {},
     "output_type": "execute_result"
    }
   ],
   "source": [
    "pivot.shape"
   ]
  },
  {
   "cell_type": "code",
   "execution_count": 76,
   "metadata": {},
   "outputs": [],
   "source": [
    "ref = ref.reset_index()\n",
    "pivot = pivot.reset_index()"
   ]
  },
  {
   "cell_type": "code",
   "execution_count": 77,
   "metadata": {},
   "outputs": [
    {
     "data": {
      "text/plain": [
       "True"
      ]
     },
     "execution_count": 77,
     "metadata": {},
     "output_type": "execute_result"
    }
   ],
   "source": [
    "ref['url'].equals(pivot['url'])"
   ]
  },
  {
   "cell_type": "code",
   "execution_count": 78,
   "metadata": {},
   "outputs": [],
   "source": [
    "ref_urls = ref['url']\n",
    "\n",
    "del ref['url']\n",
    "del pivot['url']"
   ]
  },
  {
   "cell_type": "code",
   "execution_count": 79,
   "metadata": {},
   "outputs": [],
   "source": [
    "del ref['index']\n",
    "del pivot['index']"
   ]
  },
  {
   "cell_type": "markdown",
   "metadata": {},
   "source": [
    "### Compute metrics"
   ]
  },
  {
   "cell_type": "code",
   "execution_count": 80,
   "metadata": {},
   "outputs": [],
   "source": [
    "import numpy as np\n",
    "from sklearn.metrics import recall_score, precision_score, f1_score, accuracy_score"
   ]
  },
  {
   "cell_type": "code",
   "execution_count": 81,
   "metadata": {},
   "outputs": [],
   "source": [
    "from sklearn.metrics import classification_report"
   ]
  },
  {
   "cell_type": "code",
   "execution_count": 82,
   "metadata": {},
   "outputs": [],
   "source": [
    "#calculated weighted average\n",
    "#https://stackoverflow.com/questions/46732881/how-to-calculate-f1-score-for-multilabel-classification\n",
    "\n",
    "y_true = []\n",
    "y_pred = []\n",
    "for col in pivot.columns:\n",
    "    true = ref[col].tolist()\n",
    "    pred = pivot[col].tolist()\n",
    "    y_true.append(true)\n",
    "    y_pred.append(pred)\n",
    "    "
   ]
  },
  {
   "cell_type": "code",
   "execution_count": 83,
   "metadata": {},
   "outputs": [
    {
     "name": "stdout",
     "output_type": "stream",
     "text": [
      "0.7478260869565218\n",
      "0.6318840579710145\n",
      "0.645667858711337\n"
     ]
    }
   ],
   "source": [
    "print(precision_score(y_true=y_true, y_pred=y_pred, average='weighted'))\n",
    "print(recall_score(y_true=y_true, y_pred=y_pred, average='weighted'))\n",
    "print(f1_score(y_true=y_true, y_pred=y_pred, average='weighted'))"
   ]
  },
  {
   "cell_type": "code",
   "execution_count": 84,
   "metadata": {},
   "outputs": [],
   "source": [
    "cat = []\n",
    "precision = []\n",
    "recall = []\n",
    "f1 = []\n",
    "acc = []\n",
    "refe = []\n",
    "piv = []\n",
    "for col in pivot.columns:\n",
    "    cat.append(col)\n",
    "    precision.append(round(precision_score(ref[col], pivot[col]),2))\n",
    "    recall.append(round(recall_score(ref[col], pivot[col]),2))\n",
    "    f1.append(round(f1_score(ref[col], pivot[col]),2))\n",
    "    acc.append(round(accuracy_score(ref[col], pivot[col]),2))\n",
    "    refe.append(sum(ref[col]))\n",
    "    piv.append(sum(pivot[col]))"
   ]
  },
  {
   "cell_type": "code",
   "execution_count": 85,
   "metadata": {},
   "outputs": [],
   "source": [
    "df = pd.DataFrame({'category':cat, \n",
    "                   'ref_count':refe,\n",
    "                   'test_count':piv,\n",
    "              'precision':precision,\n",
    "              'recall':recall,\n",
    "             'f1':f1,\n",
    "            'acc':acc})"
   ]
  },
  {
   "cell_type": "code",
   "execution_count": 86,
   "metadata": {},
   "outputs": [
    {
     "data": {
      "text/html": [
       "<div>\n",
       "<style scoped>\n",
       "    .dataframe tbody tr th:only-of-type {\n",
       "        vertical-align: middle;\n",
       "    }\n",
       "\n",
       "    .dataframe tbody tr th {\n",
       "        vertical-align: top;\n",
       "    }\n",
       "\n",
       "    .dataframe thead th {\n",
       "        text-align: right;\n",
       "    }\n",
       "</style>\n",
       "<table border=\"1\" class=\"dataframe\">\n",
       "  <thead>\n",
       "    <tr style=\"text-align: right;\">\n",
       "      <th></th>\n",
       "      <th>category</th>\n",
       "      <th>ref_count</th>\n",
       "      <th>test_count</th>\n",
       "      <th>precision</th>\n",
       "      <th>recall</th>\n",
       "      <th>f1</th>\n",
       "      <th>acc</th>\n",
       "    </tr>\n",
       "  </thead>\n",
       "  <tbody>\n",
       "    <tr>\n",
       "      <th>0</th>\n",
       "      <td>Cardiovascular diseases</td>\n",
       "      <td>31</td>\n",
       "      <td>19</td>\n",
       "      <td>0.79</td>\n",
       "      <td>0.48</td>\n",
       "      <td>0.60</td>\n",
       "      <td>0.90</td>\n",
       "    </tr>\n",
       "    <tr>\n",
       "      <th>1</th>\n",
       "      <td>Endocrine diseases</td>\n",
       "      <td>12</td>\n",
       "      <td>10</td>\n",
       "      <td>0.60</td>\n",
       "      <td>0.50</td>\n",
       "      <td>0.55</td>\n",
       "      <td>0.95</td>\n",
       "    </tr>\n",
       "    <tr>\n",
       "      <th>2</th>\n",
       "      <td>Gastrointestinal diseases</td>\n",
       "      <td>9</td>\n",
       "      <td>4</td>\n",
       "      <td>0.50</td>\n",
       "      <td>0.22</td>\n",
       "      <td>0.31</td>\n",
       "      <td>0.95</td>\n",
       "    </tr>\n",
       "    <tr>\n",
       "      <th>3</th>\n",
       "      <td>Genitourinary disorders</td>\n",
       "      <td>21</td>\n",
       "      <td>9</td>\n",
       "      <td>0.89</td>\n",
       "      <td>0.38</td>\n",
       "      <td>0.53</td>\n",
       "      <td>0.93</td>\n",
       "    </tr>\n",
       "    <tr>\n",
       "      <th>4</th>\n",
       "      <td>Infections</td>\n",
       "      <td>16</td>\n",
       "      <td>15</td>\n",
       "      <td>0.67</td>\n",
       "      <td>0.62</td>\n",
       "      <td>0.65</td>\n",
       "      <td>0.94</td>\n",
       "    </tr>\n",
       "    <tr>\n",
       "      <th>5</th>\n",
       "      <td>Injuries and external causes</td>\n",
       "      <td>29</td>\n",
       "      <td>25</td>\n",
       "      <td>0.76</td>\n",
       "      <td>0.66</td>\n",
       "      <td>0.70</td>\n",
       "      <td>0.92</td>\n",
       "    </tr>\n",
       "    <tr>\n",
       "      <th>6</th>\n",
       "      <td>Mental and substance use disorders</td>\n",
       "      <td>17</td>\n",
       "      <td>14</td>\n",
       "      <td>0.71</td>\n",
       "      <td>0.59</td>\n",
       "      <td>0.65</td>\n",
       "      <td>0.94</td>\n",
       "    </tr>\n",
       "    <tr>\n",
       "      <th>7</th>\n",
       "      <td>Musculoskeletal diseases</td>\n",
       "      <td>19</td>\n",
       "      <td>13</td>\n",
       "      <td>0.92</td>\n",
       "      <td>0.63</td>\n",
       "      <td>0.75</td>\n",
       "      <td>0.96</td>\n",
       "    </tr>\n",
       "    <tr>\n",
       "      <th>8</th>\n",
       "      <td>Neoplasms</td>\n",
       "      <td>79</td>\n",
       "      <td>80</td>\n",
       "      <td>0.92</td>\n",
       "      <td>0.94</td>\n",
       "      <td>0.93</td>\n",
       "      <td>0.94</td>\n",
       "    </tr>\n",
       "    <tr>\n",
       "      <th>9</th>\n",
       "      <td>Nervous system diseases</td>\n",
       "      <td>36</td>\n",
       "      <td>23</td>\n",
       "      <td>0.91</td>\n",
       "      <td>0.58</td>\n",
       "      <td>0.71</td>\n",
       "      <td>0.91</td>\n",
       "    </tr>\n",
       "    <tr>\n",
       "      <th>10</th>\n",
       "      <td>Nonspecific</td>\n",
       "      <td>45</td>\n",
       "      <td>83</td>\n",
       "      <td>0.35</td>\n",
       "      <td>0.64</td>\n",
       "      <td>0.45</td>\n",
       "      <td>0.65</td>\n",
       "    </tr>\n",
       "    <tr>\n",
       "      <th>11</th>\n",
       "      <td>Other noncommunicable diseases</td>\n",
       "      <td>13</td>\n",
       "      <td>13</td>\n",
       "      <td>0.23</td>\n",
       "      <td>0.23</td>\n",
       "      <td>0.23</td>\n",
       "      <td>0.90</td>\n",
       "    </tr>\n",
       "    <tr>\n",
       "      <th>12</th>\n",
       "      <td>Pregnancy and childbirth</td>\n",
       "      <td>2</td>\n",
       "      <td>1</td>\n",
       "      <td>0.00</td>\n",
       "      <td>0.00</td>\n",
       "      <td>0.00</td>\n",
       "      <td>0.98</td>\n",
       "    </tr>\n",
       "    <tr>\n",
       "      <th>13</th>\n",
       "      <td>Respiratory diseases</td>\n",
       "      <td>16</td>\n",
       "      <td>10</td>\n",
       "      <td>0.90</td>\n",
       "      <td>0.56</td>\n",
       "      <td>0.69</td>\n",
       "      <td>0.96</td>\n",
       "    </tr>\n",
       "  </tbody>\n",
       "</table>\n",
       "</div>"
      ],
      "text/plain": [
       "                              category  ref_count  test_count  precision  \\\n",
       "0              Cardiovascular diseases         31          19       0.79   \n",
       "1                   Endocrine diseases         12          10       0.60   \n",
       "2            Gastrointestinal diseases          9           4       0.50   \n",
       "3              Genitourinary disorders         21           9       0.89   \n",
       "4                           Infections         16          15       0.67   \n",
       "5         Injuries and external causes         29          25       0.76   \n",
       "6   Mental and substance use disorders         17          14       0.71   \n",
       "7             Musculoskeletal diseases         19          13       0.92   \n",
       "8                            Neoplasms         79          80       0.92   \n",
       "9              Nervous system diseases         36          23       0.91   \n",
       "10                         Nonspecific         45          83       0.35   \n",
       "11      Other noncommunicable diseases         13          13       0.23   \n",
       "12            Pregnancy and childbirth          2           1       0.00   \n",
       "13                Respiratory diseases         16          10       0.90   \n",
       "\n",
       "    recall    f1   acc  \n",
       "0     0.48  0.60  0.90  \n",
       "1     0.50  0.55  0.95  \n",
       "2     0.22  0.31  0.95  \n",
       "3     0.38  0.53  0.93  \n",
       "4     0.62  0.65  0.94  \n",
       "5     0.66  0.70  0.92  \n",
       "6     0.59  0.65  0.94  \n",
       "7     0.63  0.75  0.96  \n",
       "8     0.94  0.93  0.94  \n",
       "9     0.58  0.71  0.91  \n",
       "10    0.64  0.45  0.65  \n",
       "11    0.23  0.23  0.90  \n",
       "12    0.00  0.00  0.98  \n",
       "13    0.56  0.69  0.96  "
      ]
     },
     "execution_count": 86,
     "metadata": {},
     "output_type": "execute_result"
    }
   ],
   "source": [
    "df"
   ]
  },
  {
   "cell_type": "code",
   "execution_count": 87,
   "metadata": {},
   "outputs": [
    {
     "name": "stdout",
     "output_type": "stream",
     "text": [
      "0.8316842105263157\n",
      "0.6526315789473683\n",
      "0.7199649122807018\n",
      "0.9322807017543859\n"
     ]
    }
   ],
   "source": [
    "df = df[~df['category'].isin(['Nonspecific','Pregnancy and childbirth','Other noncommunicable diseases'])]\n",
    "print(np.average(df['precision'], weights=df['ref_count']/df['ref_count'].sum()))\n",
    "print(np.average(df['recall'], weights=df['ref_count']/df['ref_count'].sum()))\n",
    "print(np.average(df['f1'], weights=df['ref_count']/df['ref_count'].sum()))\n",
    "print(np.average(df['acc'], weights=df['ref_count']/df['ref_count'].sum()))"
   ]
  },
  {
   "cell_type": "code",
   "execution_count": null,
   "metadata": {},
   "outputs": [],
   "source": []
  },
  {
   "cell_type": "code",
   "execution_count": null,
   "metadata": {},
   "outputs": [],
   "source": []
  },
  {
   "cell_type": "code",
   "execution_count": null,
   "metadata": {},
   "outputs": [],
   "source": []
  },
  {
   "cell_type": "markdown",
   "metadata": {},
   "source": [
    "# Predicting primary campaign"
   ]
  },
  {
   "cell_type": "code",
   "execution_count": 299,
   "metadata": {},
   "outputs": [],
   "source": [
    "top = pd.read_csv('Manual_Review/reference_set/reference_set_top.csv')[['url','label']]"
   ]
  },
  {
   "cell_type": "code",
   "execution_count": 291,
   "metadata": {},
   "outputs": [],
   "source": [
    "from collections import Counter\n",
    "r = []\n",
    "for url in er_with_ccsr['url'].unique():\n",
    "    sub = er_with_ccsr[er_with_ccsr['url'] == url][['level_1','sentence']].sort_values('sentence', ascending=True)\n",
    "    cats = Counter(sub['level_1'])\n",
    "    max_count = max(cats.values())\n",
    "    max_cats = [x[0]for x in cats.items() if x[1] == max_count]\n",
    "    for cat in sub['level_1']:\n",
    "        if cat in max_cats:\n",
    "            final_cat = cat\n",
    "    r.append({'url':url,'cat':cat})      "
   ]
  },
  {
   "cell_type": "code",
   "execution_count": 297,
   "metadata": {},
   "outputs": [],
   "source": [
    "er_top = pd.DataFrame(r).fillna('Nonspecific')"
   ]
  },
  {
   "cell_type": "code",
   "execution_count": 301,
   "metadata": {},
   "outputs": [],
   "source": [
    "top_merge = pd.merge(top, er_top, on='url')"
   ]
  },
  {
   "cell_type": "code",
   "execution_count": 307,
   "metadata": {},
   "outputs": [
    {
     "data": {
      "text/html": [
       "<div>\n",
       "<style scoped>\n",
       "    .dataframe tbody tr th:only-of-type {\n",
       "        vertical-align: middle;\n",
       "    }\n",
       "\n",
       "    .dataframe tbody tr th {\n",
       "        vertical-align: top;\n",
       "    }\n",
       "\n",
       "    .dataframe thead th {\n",
       "        text-align: right;\n",
       "    }\n",
       "</style>\n",
       "<table border=\"1\" class=\"dataframe\">\n",
       "  <thead>\n",
       "    <tr style=\"text-align: right;\">\n",
       "      <th></th>\n",
       "      <th>url</th>\n",
       "      <th>label</th>\n",
       "      <th>cat</th>\n",
       "    </tr>\n",
       "  </thead>\n",
       "  <tbody>\n",
       "    <tr>\n",
       "      <th>174</th>\n",
       "      <td>https://www.gofundme.com/f/650z2eo</td>\n",
       "      <td>Endocrine diseases</td>\n",
       "      <td>Nonspecific</td>\n",
       "    </tr>\n",
       "    <tr>\n",
       "      <th>175</th>\n",
       "      <td>https://www.gofundme.com/f/gspdys</td>\n",
       "      <td>Cardiovascular diseases</td>\n",
       "      <td>Cardiovascular diseases</td>\n",
       "    </tr>\n",
       "    <tr>\n",
       "      <th>176</th>\n",
       "      <td>https://www.gofundme.com/f/supermancoltonsmit</td>\n",
       "      <td>Nervous system diseases</td>\n",
       "      <td>Infections</td>\n",
       "    </tr>\n",
       "    <tr>\n",
       "      <th>177</th>\n",
       "      <td>https://www.gofundme.com/f/cecilia039s-kick-ca...</td>\n",
       "      <td>Neoplasms</td>\n",
       "      <td>Neoplasms</td>\n",
       "    </tr>\n",
       "    <tr>\n",
       "      <th>178</th>\n",
       "      <td>https://www.gofundme.com/f/xny684</td>\n",
       "      <td>Endocrine diseases</td>\n",
       "      <td>Endocrine diseases</td>\n",
       "    </tr>\n",
       "    <tr>\n",
       "      <th>179</th>\n",
       "      <td>https://www.gofundme.com/f/quimioterapias-y-ra...</td>\n",
       "      <td>Neoplasms</td>\n",
       "      <td>Neoplasms</td>\n",
       "    </tr>\n",
       "    <tr>\n",
       "      <th>180</th>\n",
       "      <td>https://www.gofundme.com/f/please-help-debbie-...</td>\n",
       "      <td>Nonspecific</td>\n",
       "      <td>Nonspecific</td>\n",
       "    </tr>\n",
       "    <tr>\n",
       "      <th>181</th>\n",
       "      <td>https://www.gofundme.com/f/help-baby-roman-fig...</td>\n",
       "      <td>Cardiovascular diseases</td>\n",
       "      <td>Nervous system diseases</td>\n",
       "    </tr>\n",
       "    <tr>\n",
       "      <th>182</th>\n",
       "      <td>https://www.gofundme.com/f/help-for-ana039s-me...</td>\n",
       "      <td>Nervous system diseases</td>\n",
       "      <td>Nonspecific</td>\n",
       "    </tr>\n",
       "    <tr>\n",
       "      <th>183</th>\n",
       "      <td>https://www.gofundme.com/f/Mizmig</td>\n",
       "      <td>Genitourinary disorders</td>\n",
       "      <td>Nonspecific</td>\n",
       "    </tr>\n",
       "    <tr>\n",
       "      <th>184</th>\n",
       "      <td>https://www.gofundme.com/f/1xizs9mpo0</td>\n",
       "      <td>Respiratory diseases</td>\n",
       "      <td>Nonspecific</td>\n",
       "    </tr>\n",
       "    <tr>\n",
       "      <th>185</th>\n",
       "      <td>https://www.gofundme.com/f/9jnjuhpc</td>\n",
       "      <td>Respiratory diseases</td>\n",
       "      <td>Respiratory diseases</td>\n",
       "    </tr>\n",
       "    <tr>\n",
       "      <th>186</th>\n",
       "      <td>https://www.gofundme.com/f/shandi</td>\n",
       "      <td>Neoplasms</td>\n",
       "      <td>Nonspecific</td>\n",
       "    </tr>\n",
       "    <tr>\n",
       "      <th>187</th>\n",
       "      <td>https://www.gofundme.com/f/eric-hoffman</td>\n",
       "      <td>Neoplasms</td>\n",
       "      <td>Neoplasms</td>\n",
       "    </tr>\n",
       "    <tr>\n",
       "      <th>188</th>\n",
       "      <td>https://www.gofundme.com/f/gy53ng</td>\n",
       "      <td>Injuries and external causes</td>\n",
       "      <td>Nonspecific</td>\n",
       "    </tr>\n",
       "    <tr>\n",
       "      <th>189</th>\n",
       "      <td>https://www.gofundme.com/f/help-my-mom-get-her...</td>\n",
       "      <td>Neoplasms</td>\n",
       "      <td>Neoplasms</td>\n",
       "    </tr>\n",
       "    <tr>\n",
       "      <th>190</th>\n",
       "      <td>https://www.gofundme.com/f/chiverhood-auction-...</td>\n",
       "      <td>Nervous system diseases</td>\n",
       "      <td>Nervous system diseases</td>\n",
       "    </tr>\n",
       "    <tr>\n",
       "      <th>191</th>\n",
       "      <td>https://www.gofundme.com/f/5pbs50</td>\n",
       "      <td>Musculoskeletal diseases</td>\n",
       "      <td>Nonspecific</td>\n",
       "    </tr>\n",
       "    <tr>\n",
       "      <th>192</th>\n",
       "      <td>https://www.gofundme.com/f/9pt477n8</td>\n",
       "      <td>Genitourinary disorders</td>\n",
       "      <td>Genitourinary disorders</td>\n",
       "    </tr>\n",
       "    <tr>\n",
       "      <th>193</th>\n",
       "      <td>https://www.gofundme.com/f/1v3emdk740</td>\n",
       "      <td>Nonspecific</td>\n",
       "      <td>Nonspecific</td>\n",
       "    </tr>\n",
       "    <tr>\n",
       "      <th>194</th>\n",
       "      <td>https://www.gofundme.com/f/2tgzb38</td>\n",
       "      <td>Cardiovascular diseases</td>\n",
       "      <td>Cardiovascular diseases</td>\n",
       "    </tr>\n",
       "    <tr>\n",
       "      <th>195</th>\n",
       "      <td>https://www.gofundme.com/f/zjp9du-cancer-sucks...</td>\n",
       "      <td>Neoplasms</td>\n",
       "      <td>Neoplasms</td>\n",
       "    </tr>\n",
       "    <tr>\n",
       "      <th>196</th>\n",
       "      <td>https://www.gofundme.com/f/helpCharlieSmile</td>\n",
       "      <td>Musculoskeletal diseases</td>\n",
       "      <td>Musculoskeletal diseases</td>\n",
       "    </tr>\n",
       "    <tr>\n",
       "      <th>197</th>\n",
       "      <td>https://www.gofundme.com/f/kim-partin-couch-me...</td>\n",
       "      <td>Neoplasms</td>\n",
       "      <td>Neoplasms</td>\n",
       "    </tr>\n",
       "    <tr>\n",
       "      <th>198</th>\n",
       "      <td>https://www.gofundme.com/f/drivingforbella</td>\n",
       "      <td>Nonspecific</td>\n",
       "      <td>Nonspecific</td>\n",
       "    </tr>\n",
       "  </tbody>\n",
       "</table>\n",
       "</div>"
      ],
      "text/plain": [
       "                                                   url  \\\n",
       "174                 https://www.gofundme.com/f/650z2eo   \n",
       "175                  https://www.gofundme.com/f/gspdys   \n",
       "176      https://www.gofundme.com/f/supermancoltonsmit   \n",
       "177  https://www.gofundme.com/f/cecilia039s-kick-ca...   \n",
       "178                  https://www.gofundme.com/f/xny684   \n",
       "179  https://www.gofundme.com/f/quimioterapias-y-ra...   \n",
       "180  https://www.gofundme.com/f/please-help-debbie-...   \n",
       "181  https://www.gofundme.com/f/help-baby-roman-fig...   \n",
       "182  https://www.gofundme.com/f/help-for-ana039s-me...   \n",
       "183                  https://www.gofundme.com/f/Mizmig   \n",
       "184              https://www.gofundme.com/f/1xizs9mpo0   \n",
       "185                https://www.gofundme.com/f/9jnjuhpc   \n",
       "186                  https://www.gofundme.com/f/shandi   \n",
       "187            https://www.gofundme.com/f/eric-hoffman   \n",
       "188                  https://www.gofundme.com/f/gy53ng   \n",
       "189  https://www.gofundme.com/f/help-my-mom-get-her...   \n",
       "190  https://www.gofundme.com/f/chiverhood-auction-...   \n",
       "191                  https://www.gofundme.com/f/5pbs50   \n",
       "192                https://www.gofundme.com/f/9pt477n8   \n",
       "193              https://www.gofundme.com/f/1v3emdk740   \n",
       "194                 https://www.gofundme.com/f/2tgzb38   \n",
       "195  https://www.gofundme.com/f/zjp9du-cancer-sucks...   \n",
       "196        https://www.gofundme.com/f/helpCharlieSmile   \n",
       "197  https://www.gofundme.com/f/kim-partin-couch-me...   \n",
       "198         https://www.gofundme.com/f/drivingforbella   \n",
       "\n",
       "                            label                       cat  \n",
       "174            Endocrine diseases               Nonspecific  \n",
       "175       Cardiovascular diseases   Cardiovascular diseases  \n",
       "176       Nervous system diseases                Infections  \n",
       "177                     Neoplasms                 Neoplasms  \n",
       "178            Endocrine diseases        Endocrine diseases  \n",
       "179                     Neoplasms                 Neoplasms  \n",
       "180                   Nonspecific               Nonspecific  \n",
       "181       Cardiovascular diseases   Nervous system diseases  \n",
       "182       Nervous system diseases               Nonspecific  \n",
       "183       Genitourinary disorders               Nonspecific  \n",
       "184          Respiratory diseases               Nonspecific  \n",
       "185          Respiratory diseases      Respiratory diseases  \n",
       "186                     Neoplasms               Nonspecific  \n",
       "187                     Neoplasms                 Neoplasms  \n",
       "188  Injuries and external causes               Nonspecific  \n",
       "189                     Neoplasms                 Neoplasms  \n",
       "190       Nervous system diseases   Nervous system diseases  \n",
       "191      Musculoskeletal diseases               Nonspecific  \n",
       "192       Genitourinary disorders   Genitourinary disorders  \n",
       "193                   Nonspecific               Nonspecific  \n",
       "194       Cardiovascular diseases   Cardiovascular diseases  \n",
       "195                     Neoplasms                 Neoplasms  \n",
       "196      Musculoskeletal diseases  Musculoskeletal diseases  \n",
       "197                     Neoplasms                 Neoplasms  \n",
       "198                   Nonspecific               Nonspecific  "
      ]
     },
     "execution_count": 307,
     "metadata": {},
     "output_type": "execute_result"
    }
   ],
   "source": [
    "top_merge.tail(25)"
   ]
  },
  {
   "cell_type": "code",
   "execution_count": 304,
   "metadata": {},
   "outputs": [
    {
     "data": {
      "text/plain": [
       "0.6130653266331658"
      ]
     },
     "execution_count": 304,
     "metadata": {},
     "output_type": "execute_result"
    }
   ],
   "source": [
    "accuracy_score(top_merge['label'],top_merge['cat'])"
   ]
  },
  {
   "cell_type": "code",
   "execution_count": 314,
   "metadata": {},
   "outputs": [
    {
     "data": {
      "text/html": [
       "<div>\n",
       "<style scoped>\n",
       "    .dataframe tbody tr th:only-of-type {\n",
       "        vertical-align: middle;\n",
       "    }\n",
       "\n",
       "    .dataframe tbody tr th {\n",
       "        vertical-align: top;\n",
       "    }\n",
       "\n",
       "    .dataframe thead th {\n",
       "        text-align: right;\n",
       "    }\n",
       "</style>\n",
       "<table border=\"1\" class=\"dataframe\">\n",
       "  <thead>\n",
       "    <tr style=\"text-align: right;\">\n",
       "      <th></th>\n",
       "      <th>url</th>\n",
       "      <th>fund_description</th>\n",
       "      <th>ner_model</th>\n",
       "      <th>doc_reconstruction</th>\n",
       "      <th>sent_embeddings</th>\n",
       "      <th>er_model</th>\n",
       "      <th>target_text</th>\n",
       "      <th>sentence</th>\n",
       "      <th>start_char</th>\n",
       "      <th>end_char</th>\n",
       "      <th>resolved_text</th>\n",
       "      <th>entity_code</th>\n",
       "      <th>confidence</th>\n",
       "      <th>distance</th>\n",
       "    </tr>\n",
       "  </thead>\n",
       "  <tbody>\n",
       "    <tr>\n",
       "      <th>3437</th>\n",
       "      <td>https://www.gofundme.com/f/please-help-karens-...</td>\n",
       "      <td>Help save my daughter's health&lt;br /&gt;&lt;br /&gt;Imag...</td>\n",
       "      <td>ner_jsl</td>\n",
       "      <td>none</td>\n",
       "      <td>sbiobert_base_cased_mli</td>\n",
       "      <td>sbiobertresolve_icd10cm_augmented</td>\n",
       "      <td>infection</td>\n",
       "      <td>0.0</td>\n",
       "      <td>362.0</td>\n",
       "      <td>370.0</td>\n",
       "      <td>infection</td>\n",
       "      <td>P399</td>\n",
       "      <td>0.9972</td>\n",
       "      <td>0.0000</td>\n",
       "    </tr>\n",
       "    <tr>\n",
       "      <th>3438</th>\n",
       "      <td>https://www.gofundme.com/f/please-help-karens-...</td>\n",
       "      <td>Help save my daughter's health&lt;br /&gt;&lt;br /&gt;Imag...</td>\n",
       "      <td>ner_jsl</td>\n",
       "      <td>none</td>\n",
       "      <td>sbiobert_base_cased_mli</td>\n",
       "      <td>sbiobertresolve_icd10cm_augmented</td>\n",
       "      <td>food allergies,</td>\n",
       "      <td>1.0</td>\n",
       "      <td>384.0</td>\n",
       "      <td>398.0</td>\n",
       "      <td>food allergy</td>\n",
       "      <td>T781</td>\n",
       "      <td>0.4201</td>\n",
       "      <td>4.1091</td>\n",
       "    </tr>\n",
       "    <tr>\n",
       "      <th>3439</th>\n",
       "      <td>https://www.gofundme.com/f/please-help-karens-...</td>\n",
       "      <td>Help save my daughter's health&lt;br /&gt;&lt;br /&gt;Imag...</td>\n",
       "      <td>ner_jsl</td>\n",
       "      <td>none</td>\n",
       "      <td>sbiobert_base_cased_mli</td>\n",
       "      <td>sbiobertresolve_icd10cm_augmented</td>\n",
       "      <td>mental illness.</td>\n",
       "      <td>2.0</td>\n",
       "      <td>424.0</td>\n",
       "      <td>438.0</td>\n",
       "      <td>mental illness</td>\n",
       "      <td>F99</td>\n",
       "      <td>0.7708</td>\n",
       "      <td>2.6044</td>\n",
       "    </tr>\n",
       "    <tr>\n",
       "      <th>3440</th>\n",
       "      <td>https://www.gofundme.com/f/please-help-karens-...</td>\n",
       "      <td>Help save my daughter's health&lt;br /&gt;&lt;br /&gt;Imag...</td>\n",
       "      <td>ner_jsl</td>\n",
       "      <td>none</td>\n",
       "      <td>sbiobert_base_cased_mli</td>\n",
       "      <td>sbiobertresolve_icd10cm_augmented</td>\n",
       "      <td>infection</td>\n",
       "      <td>3.0</td>\n",
       "      <td>590.0</td>\n",
       "      <td>598.0</td>\n",
       "      <td>infection</td>\n",
       "      <td>P399</td>\n",
       "      <td>0.9972</td>\n",
       "      <td>0.0000</td>\n",
       "    </tr>\n",
       "    <tr>\n",
       "      <th>3441</th>\n",
       "      <td>https://www.gofundme.com/f/please-help-karens-...</td>\n",
       "      <td>Help save my daughter's health&lt;br /&gt;&lt;br /&gt;Imag...</td>\n",
       "      <td>ner_jsl</td>\n",
       "      <td>none</td>\n",
       "      <td>sbiobert_base_cased_mli</td>\n",
       "      <td>sbiobertresolve_icd10cm_augmented</td>\n",
       "      <td>mania</td>\n",
       "      <td>4.0</td>\n",
       "      <td>652.0</td>\n",
       "      <td>656.0</td>\n",
       "      <td>mania</td>\n",
       "      <td>F309</td>\n",
       "      <td>0.9914</td>\n",
       "      <td>0.0000</td>\n",
       "    </tr>\n",
       "  </tbody>\n",
       "</table>\n",
       "</div>"
      ],
      "text/plain": [
       "                                                    url  \\\n",
       "3437  https://www.gofundme.com/f/please-help-karens-...   \n",
       "3438  https://www.gofundme.com/f/please-help-karens-...   \n",
       "3439  https://www.gofundme.com/f/please-help-karens-...   \n",
       "3440  https://www.gofundme.com/f/please-help-karens-...   \n",
       "3441  https://www.gofundme.com/f/please-help-karens-...   \n",
       "\n",
       "                                       fund_description ner_model  \\\n",
       "3437  Help save my daughter's health<br /><br />Imag...   ner_jsl   \n",
       "3438  Help save my daughter's health<br /><br />Imag...   ner_jsl   \n",
       "3439  Help save my daughter's health<br /><br />Imag...   ner_jsl   \n",
       "3440  Help save my daughter's health<br /><br />Imag...   ner_jsl   \n",
       "3441  Help save my daughter's health<br /><br />Imag...   ner_jsl   \n",
       "\n",
       "     doc_reconstruction          sent_embeddings  \\\n",
       "3437               none  sbiobert_base_cased_mli   \n",
       "3438               none  sbiobert_base_cased_mli   \n",
       "3439               none  sbiobert_base_cased_mli   \n",
       "3440               none  sbiobert_base_cased_mli   \n",
       "3441               none  sbiobert_base_cased_mli   \n",
       "\n",
       "                               er_model      target_text  sentence  \\\n",
       "3437  sbiobertresolve_icd10cm_augmented        infection       0.0   \n",
       "3438  sbiobertresolve_icd10cm_augmented  food allergies,       1.0   \n",
       "3439  sbiobertresolve_icd10cm_augmented  mental illness.       2.0   \n",
       "3440  sbiobertresolve_icd10cm_augmented        infection       3.0   \n",
       "3441  sbiobertresolve_icd10cm_augmented            mania       4.0   \n",
       "\n",
       "      start_char  end_char   resolved_text entity_code  confidence  distance  \n",
       "3437       362.0     370.0       infection        P399      0.9972    0.0000  \n",
       "3438       384.0     398.0    food allergy        T781      0.4201    4.1091  \n",
       "3439       424.0     438.0  mental illness         F99      0.7708    2.6044  \n",
       "3440       590.0     598.0       infection        P399      0.9972    0.0000  \n",
       "3441       652.0     656.0           mania        F309      0.9914    0.0000  "
      ]
     },
     "execution_count": 314,
     "metadata": {},
     "output_type": "execute_result"
    }
   ],
   "source": [
    "er.head()"
   ]
  },
  {
   "cell_type": "code",
   "execution_count": null,
   "metadata": {},
   "outputs": [],
   "source": []
  }
 ],
 "metadata": {
  "kernelspec": {
   "display_name": "Python 3",
   "language": "python",
   "name": "python3"
  },
  "language_info": {
   "codemirror_mode": {
    "name": "ipython",
    "version": 3
   },
   "file_extension": ".py",
   "mimetype": "text/x-python",
   "name": "python",
   "nbconvert_exporter": "python",
   "pygments_lexer": "ipython3",
   "version": "3.7.6"
  }
 },
 "nbformat": 4,
 "nbformat_minor": 4
}
