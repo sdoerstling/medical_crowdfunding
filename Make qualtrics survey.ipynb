{
 "cells": [
  {
   "cell_type": "markdown",
   "metadata": {},
   "source": [
    "### Import packages"
   ]
  },
  {
   "cell_type": "code",
   "execution_count": 1,
   "metadata": {},
   "outputs": [],
   "source": [
    "import pandas as pd\n",
    "import requests\n",
    "import http.client\n",
    "import mimetypes\n",
    "import base64\n",
    "import ast\n",
    "import os\n",
    "import json\n",
    "import sqlite3\n",
    "from bs4 import BeautifulSoup\n",
    "import fasttext"
   ]
  },
  {
   "cell_type": "markdown",
   "metadata": {},
   "source": [
    "### Get API access token"
   ]
  },
  {
   "cell_type": "code",
   "execution_count": 2,
   "metadata": {},
   "outputs": [],
   "source": [
    "#create the Base64 encoded basic authorization string\n",
    "clientID = '2bf6d937de32cac8d96791bbe0069259'\n",
    "clientsecret = 'VlzWvrSjFntRuBaTA1IilLIpLRkoV9iMpqiP4wj8nQRkY1BHdA9rpWq4RB7ZiQJA'\n",
    "auth = \"{0}:{1}\".format(clientID, clientsecret)\n",
    "encodedBytes=base64.b64encode(auth.encode(\"utf-8\"))\n",
    "authStr = str(encodedBytes, \"utf-8\")\n",
    "\n",
    "#create the connection \n",
    "conn = http.client.HTTPSConnection(\"iad1.qualtrics.com\")\n",
    "body = \"grant_type=client_credentials\"\n",
    "headers = {\n",
    "  'Content-Type': 'application/x-www-form-urlencoded'\n",
    "}\n",
    "headers['Authorization'] = 'Basic {0}'.format(authStr)\n",
    "\n",
    "#make the request\n",
    "conn.request(\"POST\", \"/oauth2/token\", body, headers)\n",
    "res = conn.getresponse()\n",
    "data = res.read()\n",
    "dict_str = data.decode(\"UTF-8\")\n",
    "mydata = ast.literal_eval(dict_str)\n",
    "access_token = mydata['access_token']\n",
    "apiToken = 'yIzlZBENgbbLOUKR6Snc3ikZ0QiQVxKXi5YSdEgr'"
   ]
  },
  {
   "cell_type": "markdown",
   "metadata": {},
   "source": [
    "### Test API connection"
   ]
  },
  {
   "cell_type": "code",
   "execution_count": 37,
   "metadata": {},
   "outputs": [
    {
     "name": "stdout",
     "output_type": "stream",
     "text": [
      "{\"result\":{\"brandId\":\"duke\",\"userId\":\"UR_3Ucmdd4qzbl0gRL\",\"userName\":\"sd363@duke.edu#duke\",\"accountType\":\"UT_6PDrWJo2ZeDbc4k\",\"firstName\":\"Steven\",\"lastName\":\"Doerstling\",\"email\":\"steven.doerstling@duke.edu\",\"datacenter\":\"viawest\"},\"meta\":{\"requestId\":\"a5d9bb59-b668-43f4-8259-222ba5e24267\",\"httpStatus\":\"200 - OK\",\"notice\":\"Request proxied. For faster response times, use this host instead: ca1.qualtrics.com\"}}\n"
     ]
    }
   ],
   "source": [
    "# conn = http.client.HTTPSConnection(\"iad1.qualtrics.com\")\n",
    "# body = ''\n",
    "# headers = {\n",
    "#   'Authorization': 'Bearer ' + access_token\n",
    "# }\n",
    "\n",
    "# # make the request\n",
    "# conn.request(\"GET\", \"/API/v3/whoami\", body, headers)\n",
    "# res = conn.getresponse()\n",
    "# data = res.read()\n",
    "# print(data.decode(\"utf-8\"))"
   ]
  },
  {
   "cell_type": "markdown",
   "metadata": {},
   "source": [
    "### Create new survey"
   ]
  },
  {
   "cell_type": "code",
   "execution_count": 3,
   "metadata": {},
   "outputs": [
    {
     "name": "stdout",
     "output_type": "stream",
     "text": [
      "Response survey create: {'SurveyID': 'SV_0BVi2Lg8EGbxqO9', 'DefaultBlockID': 'BL_eyS4vre6PoNT5MF'}\n"
     ]
    }
   ],
   "source": [
    "QUALTRICS_TOKEN = apiToken\n",
    "\n",
    "QUALTRICS_API_URL = \"https://ca1.qualtrics.com/API/v3/\"\n",
    "API_CALL_HEADERS = {\n",
    "    \"x-api-token\": QUALTRICS_TOKEN,\n",
    "    \"content-type\": \"application/json\",\n",
    "    \"Accept\": \"application/json\"\n",
    "}\n",
    "\n",
    "url = QUALTRICS_API_URL + \"survey-definitions\"\n",
    "survey_data = {\"SurveyName\": \"Crowdfunding - Manual Label Round 6\", \"Language\": \"EN\", \"ProjectCategory\": \"CORE\"}\n",
    "r = requests.post(url, json=survey_data, headers=API_CALL_HEADERS)\n",
    "r.raise_for_status()\n",
    "res = r.json()[\"result\"]\n",
    "print(f\"Response survey create: {res}\")\n",
    "survey_id = res[\"SurveyID\"]"
   ]
  },
  {
   "cell_type": "markdown",
   "metadata": {},
   "source": [
    "### Import campaign data to populate questions"
   ]
  },
  {
   "cell_type": "code",
   "execution_count": 7,
   "metadata": {},
   "outputs": [],
   "source": [
    "conn = sqlite3.connect(\"gfm.db\")\n",
    "feed = pd.read_sql_query(\"SELECT * FROM feed_tb\", conn)"
   ]
  },
  {
   "cell_type": "code",
   "execution_count": 8,
   "metadata": {},
   "outputs": [],
   "source": [
    "feed = feed.drop_duplicates('url')\n",
    "feed['fund_description'] = [x.replace('\\n','') for x in feed['fund_description']]\n",
    "feed['nchar']= [len(x) for x in feed['fund_description']]\n",
    "feed = feed[feed['nchar'] >= 100]"
   ]
  },
  {
   "cell_type": "code",
   "execution_count": 9,
   "metadata": {},
   "outputs": [],
   "source": [
    "def GetLanguage(df):\n",
    "    path_to_pretrained_model = 'fasttext_models/lid.176.bin'\n",
    "    fmodel = fasttext.load_model(path_to_pretrained_model)\n",
    "    r = fmodel.predict(feed['fund_description'].to_list())\n",
    "    labels = r[0]\n",
    "    labels = [i[0].split('__')[2] for i in labels]\n",
    "    scores = r[1]\n",
    "    scores = [i[0] for i in scores]\n",
    "    return labels, scores"
   ]
  },
  {
   "cell_type": "code",
   "execution_count": 10,
   "metadata": {},
   "outputs": [
    {
     "name": "stderr",
     "output_type": "stream",
     "text": [
      "Warning : `load_model` does not return WordVectorModel or SupervisedModel any more, but a `FastText` object which is very similar.\n"
     ]
    }
   ],
   "source": [
    "feed['language'], feed['lang_score'] = GetLanguage(feed)"
   ]
  },
  {
   "cell_type": "code",
   "execution_count": 11,
   "metadata": {},
   "outputs": [],
   "source": [
    "feed = feed[feed['language'] == 'en']"
   ]
  },
  {
   "cell_type": "code",
   "execution_count": 12,
   "metadata": {},
   "outputs": [
    {
     "data": {
      "text/plain": [
       "89676"
      ]
     },
     "execution_count": 12,
     "metadata": {},
     "output_type": "execute_result"
    }
   ],
   "source": [
    "len(feed)"
   ]
  },
  {
   "cell_type": "markdown",
   "metadata": {},
   "source": [
    "Make sure that there are no duplicate urls from previous reviews"
   ]
  },
  {
   "cell_type": "code",
   "execution_count": 10,
   "metadata": {},
   "outputs": [],
   "source": [
    "round_1 = pd.read_csv(\"Manual_review/round 1/example_50.csv\")\n",
    "round_1 = round_1[['url','fund_description']]"
   ]
  },
  {
   "cell_type": "code",
   "execution_count": 11,
   "metadata": {},
   "outputs": [],
   "source": [
    "round_2 = pd.read_csv(\"Manual_review/round 2/example_51-100.csv\")\n",
    "round_2 = round_2[['url','fund_description']]"
   ]
  },
  {
   "cell_type": "code",
   "execution_count": 12,
   "metadata": {},
   "outputs": [],
   "source": [
    "round_3 = pd.read_csv(\"Manual_Review/round 3/example_101-150.csv\")\n",
    "round_3 = round_3[['url','fund_description']]"
   ]
  },
  {
   "cell_type": "code",
   "execution_count": 13,
   "metadata": {},
   "outputs": [],
   "source": [
    "round_4 = pd.read_csv(\"Manual_Review/round 4/example_151-200.csv\")\n",
    "round_4 = round_4[['url','fund_description']]"
   ]
  },
  {
   "cell_type": "code",
   "execution_count": 15,
   "metadata": {},
   "outputs": [],
   "source": [
    "round_5 = pd.read_csv(\"Manual_Review/round 5/example_201-250.csv\")\n",
    "round_5 = round_5[['url','fund_description']]"
   ]
  },
  {
   "cell_type": "code",
   "execution_count": 16,
   "metadata": {},
   "outputs": [],
   "source": [
    "feed = feed[~feed['url'].isin(round_1['url'])]\n",
    "feed = feed[~feed['url'].isin(round_2['url'])]\n",
    "feed = feed[~feed['url'].isin(round_3['url'])]\n",
    "feed = feed[~feed['url'].isin(round_4['url'])]\n",
    "feed = feed[~feed['url'].isin(round_5['url'])]"
   ]
  },
  {
   "cell_type": "code",
   "execution_count": 22,
   "metadata": {},
   "outputs": [],
   "source": [
    "feed = feed[['url','fund_description']].sample(50)"
   ]
  },
  {
   "cell_type": "code",
   "execution_count": 23,
   "metadata": {},
   "outputs": [],
   "source": [
    "feed.to_csv(\"Manual_review/round 5/example_251-300.csv\", index=False)"
   ]
  },
  {
   "cell_type": "markdown",
   "metadata": {},
   "source": [
    "### Generate survey questions\n",
    "\n",
    "#### Upload these using online interface and delete default question block"
   ]
  },
  {
   "cell_type": "code",
   "execution_count": 24,
   "metadata": {},
   "outputs": [],
   "source": [
    "results = []\n",
    "for index, row in feed.iterrows():\n",
    "    doc = '''\n",
    "    [[AdvancedFormat]]\n",
    "\n",
    "    [[Block:{0}]]\n",
    "    \n",
    "    [[Question:MC:MultipleAnswer:Vertical]]\n",
    "    [[ID:{0}__base]]\n",
    "    {1}\n",
    "    \n",
    "    <br />\n",
    "    <br />\n",
    "    ------------------------------------------------\n",
    "    <br />\n",
    "    ------------------------------------------------\n",
    "    <br />\n",
    "    Please select all disease categories represented.\n",
    "    [[Choices]]\n",
    "    Cardiovascular diseases\n",
    "    Endocrine diseases\n",
    "    Gastrointestinal diseases\n",
    "    Genitourinary disorders\n",
    "    Infections\n",
    "    Injuries and external causes\n",
    "    Mental and substance use disorders\n",
    "    Musculoskeletal diseases\n",
    "    Neoplasms\n",
    "    Nervous system diseases\n",
    "    Nonspecific\n",
    "    Other noncommunicable diseases\n",
    "    Pregnancy and childbirth\n",
    "    Respiratory diseases\n",
    "    \n",
    "    [[Question:MC:SingleAnswer:Vertical]]\n",
    "    [[ID:{0}__top]]\n",
    "    Please select the primary disease category.\n",
    "    [[Choices]]\n",
    "    Cardiovascular diseases\n",
    "    Endocrine diseases\n",
    "    Gastrointestinal diseases\n",
    "    Genitourinary disorders\n",
    "    Infections\n",
    "    Injuries and external causes\n",
    "    Mental and substance use disorders\n",
    "    Musculoskeletal diseases\n",
    "    Neoplasms\n",
    "    Nervous system diseases\n",
    "    Nonspecific\n",
    "    Other noncommunicable diseases\n",
    "    Pregnancy and childbirth\n",
    "    Respiratory diseases\n",
    "    \n",
    "    [[Question:TE]]\n",
    "    [[ID:{0}__NOTES]]\n",
    "    Please make any notes below.\n",
    "\n",
    "    [[PageBreak]]\n",
    "\n",
    "    '''.format(row['url'],row['fund_description'])\n",
    "    results.append(doc)\n",
    "\n",
    "doc = \"\\n\".join(results)\n",
    "\n",
    "with open(\"Manual_review/round 6/survey_251-300.txt\", \"w\") as text_file:\n",
    "    text_file.write(doc)"
   ]
  },
  {
   "cell_type": "markdown",
   "metadata": {},
   "source": [
    "# Export data for super earners"
   ]
  },
  {
   "cell_type": "code",
   "execution_count": 4,
   "metadata": {},
   "outputs": [],
   "source": [
    "import pandas as pd\n",
    "import requests\n",
    "import http.client\n",
    "import mimetypes\n",
    "import base64\n",
    "import ast\n",
    "import os\n",
    "import json\n",
    "import sqlite3\n",
    "from bs4 import BeautifulSoup\n",
    "import fasttext"
   ]
  },
  {
   "cell_type": "code",
   "execution_count": 5,
   "metadata": {},
   "outputs": [],
   "source": [
    "feed = pd.read_csv('Super earners/data/sample_20.csv')"
   ]
  },
  {
   "cell_type": "code",
   "execution_count": 6,
   "metadata": {},
   "outputs": [],
   "source": [
    "feed = feed.drop_duplicates('url')\n",
    "feed['fund_description'] = [x.replace('\\n','') for x in feed['fund_description']]\n",
    "feed['nchar']= [len(x) for x in feed['fund_description']]\n",
    "feed = feed[feed['nchar'] >= 100]"
   ]
  },
  {
   "cell_type": "code",
   "execution_count": 7,
   "metadata": {},
   "outputs": [],
   "source": [
    "def GetLanguage(df):\n",
    "    path_to_pretrained_model = 'fasttext_models/lid.176.bin'\n",
    "    fmodel = fasttext.load_model(path_to_pretrained_model)\n",
    "    r = fmodel.predict(feed['fund_description'].to_list())\n",
    "    labels = r[0]\n",
    "    labels = [i[0].split('__')[2] for i in labels]\n",
    "    scores = r[1]\n",
    "    scores = [i[0] for i in scores]\n",
    "    return labels, scores"
   ]
  },
  {
   "cell_type": "code",
   "execution_count": 8,
   "metadata": {},
   "outputs": [
    {
     "name": "stderr",
     "output_type": "stream",
     "text": [
      "Warning : `load_model` does not return WordVectorModel or SupervisedModel any more, but a `FastText` object which is very similar.\n"
     ]
    }
   ],
   "source": [
    "feed['language'], feed['lang_score'] = GetLanguage(feed)"
   ]
  },
  {
   "cell_type": "code",
   "execution_count": 9,
   "metadata": {},
   "outputs": [],
   "source": [
    "feed = feed[feed['language'] == 'en']"
   ]
  },
  {
   "cell_type": "code",
   "execution_count": 10,
   "metadata": {},
   "outputs": [
    {
     "data": {
      "text/plain": [
       "20"
      ]
     },
     "execution_count": 10,
     "metadata": {},
     "output_type": "execute_result"
    }
   ],
   "source": [
    "len(feed)"
   ]
  },
  {
   "cell_type": "code",
   "execution_count": 11,
   "metadata": {},
   "outputs": [],
   "source": [
    "results = []\n",
    "for index, row in feed.iterrows():\n",
    "    doc = '''\n",
    "    [[AdvancedFormat]]\n",
    "\n",
    "    [[Block:{0}]]\n",
    "    \n",
    "    [[Question:MC:SingleAnswer:Vertical]]\n",
    "    [[ID:individual_or_organization]]\n",
    "    \n",
    "    <h1>{1}</h1>\n",
    "    \n",
    "    <br />\n",
    "    <br />\n",
    "    \n",
    "    <img src={2} alt=\"Flowers in Chania\">\n",
    "    \n",
    "    <br />\n",
    "    <br />\n",
    "    \n",
    "    {3}\n",
    "    \n",
    "    <br />\n",
    "    <br />\n",
    "    ------------------------------------------------\n",
    "    <br />\n",
    "    ------------------------------------------------\n",
    "    <br />\n",
    "     ------------------------------------------------\n",
    "    <br />\n",
    "    ------------------------------------------------\n",
    "    <br />\n",
    "    \n",
    "    \n",
    "    Is this campaign on behalf of an individual or organization\n",
    "    [[Choices]]\n",
    "    Individual\n",
    "    Organization\n",
    "    \n",
    "    [[Question:MC:SingleAnswer:Vertical]]\n",
    "    [[ID:links_external]]\n",
    "    Are there links to external websites or news articles?\n",
    "    [[Choices]]\n",
    "    Yes\n",
    "    No\n",
    "    \n",
    "    [[Question:MC:SingleAnswer:Vertical]]\n",
    "    [[ID:appeals]]\n",
    "    Is there at least one appeal to share the campaign (by social media, email, word of mouth, etc.)?\n",
    "    [[Choices]]\n",
    "    Yes\n",
    "    No\n",
    "    \n",
    "    [[Question:MC:SingleAnswer:Vertical]]\n",
    "    [[ID:author_relationship]]\n",
    "    What is the author's relationship to the campaign beneficiary?\n",
    "    [[Choices]]\n",
    "    Written by the beneficiary (first-person)\n",
    "    Parent\n",
    "    Spouse/partner\n",
    "    Child\n",
    "    Sibling\n",
    "    Friend(s)\n",
    "    Stranged\n",
    "    Extended family\n",
    "    Co-worker or community member\n",
    "    Other relationship (not otherwise specificied)\n",
    "    Unknown\n",
    "    \n",
    "    [[Question:MC:SingleAnswer:Vertical]]\n",
    "    [[ID:patient_culpability]]\n",
    "    Is there mention of the patient's culpability for the illness?\n",
    "    [[Choices]]\n",
    "    \"It's not their fault\"\n",
    "    Takes responsibility\n",
    "    No mention of culpability\n",
    "    \n",
    "    [[Question:MC:SingleAnswer:Vertical]]\n",
    "    [[ID:age]]\n",
    "    What is the patient's age?\n",
    "    [[Choices]]\n",
    "    Pediatric\n",
    "    Adult\n",
    "    Unclear\n",
    "    \n",
    "    [[Question:MC:SingleAnswer:Vertical]]\n",
    "    [[ID:gender]]\n",
    "    What is the patient's gender?\n",
    "    [[Choices]]\n",
    "    Female\n",
    "    Male\n",
    "    Other\n",
    "    \n",
    "    [[Question:MC:MultipleAnswer:Vertical]]\n",
    "    [[ID:family_role]]\n",
    "    What is the patient's family role? Select all that apply.\n",
    "    [[Choices]]\n",
    "    Parent\n",
    "    Grandparent\n",
    "    Spouse\n",
    "    Child\n",
    "    Sibling\n",
    "    Other\n",
    "    No mention of family role\n",
    "    \n",
    "    \n",
    "    [[Question:MC:SingleAnswer:Vertical]]\n",
    "    [[ID:career]]\n",
    "    Does the campaign mention the patient's job or career?\n",
    "    [[Choices]]\n",
    "    Yes\n",
    "    No\n",
    "    \n",
    "    [[Question:TE]]\n",
    "    [[ID:career_notes]]\n",
    "    If there is mention of job/career, please specify below.\n",
    "    \n",
    "    [[Question:MC:SingleAnswer:Vertical]]\n",
    "    [[ID:positive_char_ref_patient]]\n",
    "    Is there a positive character reference for the patient?\n",
    "    [[Choices]]\n",
    "    No\n",
    "    Yes - one\n",
    "    Yes - more than one\n",
    "    \n",
    "    [[Question:MC:SingleAnswer:Vertical]]\n",
    "    [[ID:positive_char_ref_other]]\n",
    "    Is there a positive character reference for the caregiver or family member of the patient?\n",
    "    [[Choices]]\n",
    "    No\n",
    "    Yes - one\n",
    "    Yes - more than one\n",
    "    \n",
    "    [[Question:MC:SingleAnswer:Vertical]]\n",
    "    [[ID:insurance]]\n",
    "    What is the patient's insurance status?\n",
    "    [[Choices]]\n",
    "    Currently insured\n",
    "    Currently uninsured\n",
    "    Unclear\n",
    "    \n",
    "    [[Question:MC:SingleAnswer:Vertical]]\n",
    "    [[ID:mention_funds]]\n",
    "    Does the campaign describe the intended use of funds or a specific financial burden?\n",
    "    [[Choices]]\n",
    "    Yes\n",
    "    No\n",
    "\n",
    "    [[Question:MC:MultipleAnswer:Vertical]]\n",
    "    [[ID:non_medical_funds]]\n",
    "    Does the campaign describe intended use of funds or a financial burden related to <strong>non-medical</strong> expenses? Select all that apply.\n",
    "    [[Choices]]\n",
    "    Accounting for lost earnings\n",
    "    Travel\n",
    "    Child care\n",
    "    Other non-medical expense (not otherwise specified)\n",
    "    Does not mention non-medical expenses or financial burden\n",
    "    \n",
    "    [[Question:MC:MultipleAnswer:Vertical]]\n",
    "    [[ID:medical_funds]]\n",
    "    Does the campaign mention intended use of funds or a financial burden related to <strong>medical</strong> expenses? Select all that apply.\n",
    "    [[Choices]]\n",
    "    Medical expenses - no mention of insurance coverage\n",
    "    Medical expenses - partly covered by insurance\n",
    "    Medial expenses - not covered by insurance\n",
    "    Medical expenses (not otherwise specified)\n",
    "    Does not mention medical expeneses or financial burden\n",
    "    \n",
    "    [[Question:MC:SingleAnswer:Vertical]]\n",
    "    [[ID:other_funds]]\n",
    "    Does the campaign mention intended use of funds for <strong>unclear/unspecified</strong> purposes?\n",
    "    [[Choices]]\n",
    "    Yes\n",
    "    No\n",
    "    \n",
    "    [[Question:TE]]\n",
    "    [[ID:notes]]\n",
    "    Feel free to make any notes below.\n",
    "\n",
    "\n",
    "    [[PageBreak]]\n",
    "\n",
    "    '''.format(\n",
    "        row['url'],\n",
    "        row['fund_name'],\n",
    "        row['campaign_photo_url'],\n",
    "        row['fund_description'])\n",
    "    results.append(doc)\n"
   ]
  },
  {
   "cell_type": "code",
   "execution_count": 12,
   "metadata": {},
   "outputs": [],
   "source": [
    "doc = \"\\n\".join(results)\n",
    "\n",
    "with open(\"Super earners/super_earners_sample_20_latest.txt\", \"w\") as text_file:\n",
    "    text_file.write(doc)"
   ]
  },
  {
   "cell_type": "markdown",
   "metadata": {},
   "source": [
    "### Now import survey .txt file to qualtrics.com and delete default question block\n",
    "\n",
    "### -------------------------------\n",
    "\n",
    "### EVERYTHING BELOW IS NOW OLD CODE"
   ]
  },
  {
   "cell_type": "markdown",
   "metadata": {},
   "source": [
    "# Export data for manual NER Review in prodigy"
   ]
  },
  {
   "cell_type": "code",
   "execution_count": 25,
   "metadata": {},
   "outputs": [],
   "source": [
    "from bs4 import BeautifulSoup as bs\n",
    "import re\n",
    "import sqlite3\n",
    "import pandas as pd\n",
    "import fasttext"
   ]
  },
  {
   "cell_type": "code",
   "execution_count": 59,
   "metadata": {},
   "outputs": [],
   "source": [
    "conn = sqlite3.connect(\"gfm.db\")\n",
    "feed = pd.read_sql_query(\"SELECT * FROM feed_tb\", conn)"
   ]
  },
  {
   "cell_type": "code",
   "execution_count": 60,
   "metadata": {},
   "outputs": [],
   "source": [
    "feed = feed.drop_duplicates('url')\n",
    "\n",
    "feed['nchar']= [len(x) for x in feed['fund_description']]\n",
    "feed = feed[feed['nchar'] >= 100]\n",
    "\n",
    "#regular expression to remove url\n",
    "url_reg = r'(?:(?:http|https):\\/\\/)?([-a-zA-Z0-9.]{2,256}\\.[a-z]{2,4})\\b(?:\\/[-a-zA-Z0-9@:%_\\+.~#?&//=]*)?'\n",
    "\n",
    "#regular expression to remove emojis\n",
    "emoji_pattern = re.compile(\"[\"\n",
    "        u\"\\U0001F600-\\U0001F64F\"  # emoticons\n",
    "        u\"\\U0001F300-\\U0001F5FF\"  # symbols & pictographs\n",
    "        u\"\\U0001F680-\\U0001F6FF\"  # transport & map symbols\n",
    "        u\"\\U0001F1E0-\\U0001F1FF\"  # flags (iOS)\n",
    "        u\"\\U0001F1F2-\\U0001F1F4\"  # Macau flag\n",
    "        u\"\\U0001F1E6-\\U0001F1FF\"  # flags\n",
    "        u\"\\U0001F600-\\U0001F64F\"\n",
    "        u\"\\U00002702-\\U000027B0\"\n",
    "        u\"\\U000024C2-\\U0001F251\"\n",
    "        u\"\\U0001f926-\\U0001f937\"\n",
    "        u\"\\U0001F1F2\"\n",
    "        u\"\\U0001F1F4\"\n",
    "        u\"\\U0001F620\"\n",
    "        u\"\\u200d\"\n",
    "        u\"\\u2640-\\u2642\"\n",
    "        \"]+\", flags=re.UNICODE)\n",
    "\n",
    "feed['fund_description'] = [bs(x).get_text().replace(\"\\n\",\"\").replace(u'\\xa0', u' ') for x in feed['fund_description']]\n",
    "feed['fund_description'] = [re.sub(url_reg,\"\",x) for x in feed['fund_description']]\n",
    "feed['fund_description'] = [emoji_pattern.sub(r'', x) for x in feed['fund_description']]\n",
    "feed['fund_description'] = [x.strip() for x in feed['fund_description']]\n",
    "\n",
    "\n",
    "feed['nchar']= [len(x) for x in feed['fund_description']]\n",
    "feed = feed[feed['nchar'] >= 100]"
   ]
  },
  {
   "cell_type": "code",
   "execution_count": 61,
   "metadata": {},
   "outputs": [],
   "source": [
    "def GetLanguage(df):\n",
    "    path_to_pretrained_model = 'fasttext_models/lid.176.bin'\n",
    "    fmodel = fasttext.load_model(path_to_pretrained_model)\n",
    "    r = fmodel.predict(feed['fund_description'].to_list())\n",
    "    labels = r[0]\n",
    "    labels = [i[0].split('__')[2] for i in labels]\n",
    "    scores = r[1]\n",
    "    scores = [i[0] for i in scores]\n",
    "    return labels, scores"
   ]
  },
  {
   "cell_type": "code",
   "execution_count": 62,
   "metadata": {},
   "outputs": [
    {
     "name": "stderr",
     "output_type": "stream",
     "text": [
      "Warning : `load_model` does not return WordVectorModel or SupervisedModel any more, but a `FastText` object which is very similar.\n"
     ]
    }
   ],
   "source": [
    "feed['language'], feed['lang_score'] = GetLanguage(feed)"
   ]
  },
  {
   "cell_type": "code",
   "execution_count": 63,
   "metadata": {},
   "outputs": [],
   "source": [
    "feed = feed[feed['language'] == 'en']"
   ]
  },
  {
   "cell_type": "code",
   "execution_count": 64,
   "metadata": {},
   "outputs": [
    {
     "data": {
      "text/plain": [
       "89493"
      ]
     },
     "execution_count": 64,
     "metadata": {},
     "output_type": "execute_result"
    }
   ],
   "source": [
    "len(feed)"
   ]
  },
  {
   "cell_type": "code",
   "execution_count": 65,
   "metadata": {},
   "outputs": [],
   "source": [
    "round_3 = pd.read_csv(\"Manual_Review/round 3/example_101-150.csv\")\n",
    "round_4 = pd.read_csv(\"Manual_Review/round 4/example_151-200.csv\")\n",
    "round_5 = pd.read_csv(\"Manual_Review/round 5/example_201-250.csv\")\n",
    "round_6 = pd.read_csv(\"Manual_Review/round 6/example_251-300.csv\")"
   ]
  },
  {
   "cell_type": "code",
   "execution_count": 66,
   "metadata": {},
   "outputs": [],
   "source": [
    "urls = round_3['url'].tolist() + round_4['url'].tolist() + round_5['url'].tolist() + round_6['url'].tolist()"
   ]
  },
  {
   "cell_type": "code",
   "execution_count": 67,
   "metadata": {},
   "outputs": [],
   "source": [
    "df = feed[feed['url'].isin(urls)][['url','fund_description']]"
   ]
  },
  {
   "cell_type": "code",
   "execution_count": 68,
   "metadata": {},
   "outputs": [
    {
     "name": "stdout",
     "output_type": "stream",
     "text": [
      "https://www.gofundme.com/f/evp227-fernando-diaz\n",
      "https://www.gofundme.com/f/esperanza-para-mi-viejito-transplante-de-pulmon\n",
      "https://www.gofundme.com/f/2ujjqk\n"
     ]
    }
   ],
   "source": [
    "for url in urls:\n",
    "    if df['url'].str.contains(url).any():\n",
    "        continue\n",
    "    else:\n",
    "        print(url)"
   ]
  },
  {
   "cell_type": "code",
   "execution_count": 69,
   "metadata": {},
   "outputs": [],
   "source": [
    "import json\n",
    "df = df.rename(columns={'fund_description':'text'})\n",
    "df.to_json('json/rounds_3-6_for_prodigy.json', orient=\"records\")"
   ]
  },
  {
   "cell_type": "code",
   "execution_count": null,
   "metadata": {},
   "outputs": [],
   "source": []
  },
  {
   "cell_type": "code",
   "execution_count": null,
   "metadata": {},
   "outputs": [],
   "source": []
  },
  {
   "cell_type": "markdown",
   "metadata": {},
   "source": [
    "### Get survey data"
   ]
  },
  {
   "cell_type": "code",
   "execution_count": 41,
   "metadata": {},
   "outputs": [],
   "source": [
    "conn = http.client.HTTPSConnection(\"ca1.qualtrics.com\")\n",
    "\n",
    "headers = { 'x-api-token': apiToken}\n",
    "\n",
    "conn.request(\"GET\", \"/API/v3/survey-definitions/{0}\".format(survey_id), headers=headers)\n",
    "\n",
    "res = conn.getresponse()\n",
    "data = res.read()\n"
   ]
  },
  {
   "cell_type": "code",
   "execution_count": 42,
   "metadata": {},
   "outputs": [],
   "source": [
    "a = json.loads(data.decode(\"utf-8\"))['result']['Questions']\n",
    "qids = [int(x[3:]) for x in a.keys()]\n",
    "#question id1 is from the deleted default block\n",
    "main_qids = range(2, int(max(qids)),17)"
   ]
  },
  {
   "cell_type": "markdown",
   "metadata": {},
   "source": [
    "### Add display logic to questions"
   ]
  },
  {
   "cell_type": "code",
   "execution_count": 43,
   "metadata": {},
   "outputs": [],
   "source": [
    "for main_qid in main_qids:\n",
    "    \n",
    "    headers = {\n",
    "       'accept': \"application/json\",\n",
    "       'content-type': \"application/json\",\n",
    "       \"x-api-token\": apiToken,\n",
    "    }\n",
    "    \n",
    "\n",
    "    #loop through nested categories\n",
    "    for n in range(1,16):\n",
    "        qid = main_qid + n + 1 #added +1 now that notes option is added after main question\n",
    "        questionID = \"QID{0}\".format(qid)\n",
    "        mainId = \"QID{0}\".format(main_qid)\n",
    "\n",
    "        baseUrl = \"https://{0}.qualtrics.com/API/v3/survey-definitions/{1}/questions/{2}\".format(\n",
    "        'ca1', survey_id, questionID)\n",
    "\n",
    "        data = a[questionID]\n",
    "        data['DisplayLogic'] = {\n",
    "            \"0\": {\n",
    "              \"0\": {\n",
    "                \"LogicType\": \"Question\",\n",
    "                \"QuestionID\": \"QID{0}\".format(main_qid),\n",
    "                \"QuestionIsInLoop\": \"no\",\n",
    "                \"ChoiceLocator\": \"q://QID{0}/SelectableChoice/{1}\".format(main_qid, n),\n",
    "                \"Operator\": \"Selected\",\n",
    "                \"QuestionIDFromLocator\": \"QID{0}\".format(main_qid),\n",
    "                \"LeftOperand\": \"q://QID{0}/SelectableChoice/{1}\".format(main_qid, n),\n",
    "                \"Type\": \"Expression\",\n",
    "                \"Description\": '''<span class=\"ConjDesc\">If</span> <span class=\"QuestionDesc\">{0}</span> <span class=\"LeftOpDesc\">CHOICE</span> <span class=\"OpDesc\">Is Selected</span>'''.format(a[mainId][\"QuestionText\"][:97])\n",
    "              },\n",
    "              \"Type\": \"If\"\n",
    "            },\n",
    "            \"Type\": \"BooleanExpression\",\n",
    "            \"inPage\": True\n",
    "        }\n",
    "\n",
    "\n",
    "        response = requests.put(baseUrl, json=data, headers=headers)"
   ]
  },
  {
   "cell_type": "code",
   "execution_count": null,
   "metadata": {},
   "outputs": [],
   "source": []
  }
 ],
 "metadata": {
  "kernelspec": {
   "display_name": "Python 3",
   "language": "python",
   "name": "python3"
  },
  "language_info": {
   "codemirror_mode": {
    "name": "ipython",
    "version": 3
   },
   "file_extension": ".py",
   "mimetype": "text/x-python",
   "name": "python",
   "nbconvert_exporter": "python",
   "pygments_lexer": "ipython3",
   "version": "3.7.6"
  }
 },
 "nbformat": 4,
 "nbformat_minor": 4
}
