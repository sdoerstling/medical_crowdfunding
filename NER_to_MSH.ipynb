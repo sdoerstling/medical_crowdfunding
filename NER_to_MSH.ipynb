{
 "cells": [
  {
   "cell_type": "markdown",
   "metadata": {},
   "source": [
    "### Import packages"
   ]
  },
  {
   "cell_type": "code",
   "execution_count": 1,
   "metadata": {},
   "outputs": [],
   "source": [
    "import pandas as pd\n",
    "import json\n",
    "import requests\n",
    "import lxml.html as lh\n",
    "from lxml.html import fromstring\n",
    "import numpy as np\n",
    "from copy import deepcopy"
   ]
  },
  {
   "cell_type": "markdown",
   "metadata": {},
   "source": [
    "### Import ner output data"
   ]
  },
  {
   "cell_type": "code",
   "execution_count": 19,
   "metadata": {},
   "outputs": [],
   "source": [
    "df = pd.read_csv('ner_output/ex_51-100_ner.csv')"
   ]
  },
  {
   "cell_type": "markdown",
   "metadata": {},
   "source": [
    "### Inspect data"
   ]
  },
  {
   "cell_type": "code",
   "execution_count": 3,
   "metadata": {},
   "outputs": [
    {
     "data": {
      "text/plain": [
       "(1202, 8)"
      ]
     },
     "execution_count": 3,
     "metadata": {},
     "output_type": "execute_result"
    }
   ],
   "source": [
    "df.shape"
   ]
  },
  {
   "cell_type": "code",
   "execution_count": 5,
   "metadata": {},
   "outputs": [
    {
     "data": {
      "text/plain": [
       "ner_clinical      440\n",
       "ner_diseases      321\n",
       "ner_healthcare    312\n",
       "ner_jsl           129\n",
       "Name: ner_model, dtype: int64"
      ]
     },
     "execution_count": 5,
     "metadata": {},
     "output_type": "execute_result"
    }
   ],
   "source": [
    "df['ner_model'].value_counts()"
   ]
  },
  {
   "cell_type": "markdown",
   "metadata": {},
   "source": [
    "### Remove stopwords"
   ]
  },
  {
   "cell_type": "code",
   "execution_count": 7,
   "metadata": {},
   "outputs": [
    {
     "name": "stderr",
     "output_type": "stream",
     "text": [
      "[nltk_data] Downloading package stopwords to /Users/sd363/nltk_data...\n",
      "[nltk_data]   Package stopwords is already up-to-date!\n"
     ]
    }
   ],
   "source": [
    "import nltk\n",
    "nltk.download('stopwords')\n",
    "from nltk.corpus import stopwords\n",
    "stop = stopwords.words('english')"
   ]
  },
  {
   "cell_type": "code",
   "execution_count": 21,
   "metadata": {},
   "outputs": [],
   "source": [
    "#replace NaN with blank string to make it easier for string manipulation\n",
    "df = df.fillna('')"
   ]
  },
  {
   "cell_type": "code",
   "execution_count": 22,
   "metadata": {},
   "outputs": [],
   "source": [
    "#make NER terms lowercase\n",
    "df['text'] = [x.lower() for x in df['text']]"
   ]
  },
  {
   "cell_type": "code",
   "execution_count": 23,
   "metadata": {},
   "outputs": [],
   "source": [
    "#remove stopwords\n",
    "df['text'] = df['text'].str.split().apply(lambda x: ' '.join(k for k in x if k not in stop))"
   ]
  },
  {
   "cell_type": "markdown",
   "metadata": {},
   "source": [
    "# Define UMLS function"
   ]
  },
  {
   "cell_type": "code",
   "execution_count": 31,
   "metadata": {},
   "outputs": [],
   "source": [
    "uri=\"https://utslogin.nlm.nih.gov\"\n",
    "#option 1 - username/pw authentication at /cas/v1/tickets\n",
    "#auth_endpoint = \"/cas/v1/tickets/\"\n",
    "#option 2 - api key authentication at /cas/v1/api-key\n",
    "auth_endpoint = \"/cas/v1/api-key\"\n",
    "\n",
    "class Authentication:\n",
    "\n",
    "    #def __init__(self, username,password):\n",
    "    def __init__(self, apikey):\n",
    "        #self.username=username\n",
    "        #self.password=password\n",
    "        self.apikey=apikey\n",
    "        self.service=\"http://umlsks.nlm.nih.gov\"\n",
    "\n",
    "    def gettgt(self):\n",
    "        #params = {'username': self.username,'password': self.password}\n",
    "        params = {'apikey': self.apikey}\n",
    "        h = {\"Content-type\": \"application/x-www-form-urlencoded\", \"Accept\": \"text/plain\", \"User-Agent\":\"python\" }\n",
    "        r = requests.post(uri+auth_endpoint,data=params,headers=h)\n",
    "        response = fromstring(r.text)\n",
    "        ## extract the entire URL needed from the HTML form (action attribute) returned - looks similar to https://utslogin.nlm.nih.gov/cas/v1/tickets/TGT-36471-aYqNLN2rFIJPXKzxwdTNC5ZT7z3B3cTAKfSc5ndHQcUxeaDOLN-cas\n",
    "        ## we make a POST call to this URL in the getst method\n",
    "        tgt = response.xpath('//form/@action')\n",
    "        return tgt\n",
    "\n",
    "    def getst(self,tgt):\n",
    "        params = {'service': self.service}\n",
    "        h = {\"Content-type\": \"application/x-www-form-urlencoded\", \"Accept\": \"text/plain\", \"User-Agent\":\"python\" }\n",
    "        r = requests.post(tgt,data=params,headers=h)\n",
    "        st = r.text\n",
    "        return st"
   ]
  },
  {
   "cell_type": "code",
   "execution_count": 26,
   "metadata": {},
   "outputs": [],
   "source": [
    "apikey = 'aa02411e-1700-4d59-8821-9a62d6851f4e'"
   ]
  },
  {
   "cell_type": "code",
   "execution_count": 27,
   "metadata": {},
   "outputs": [],
   "source": [
    "def GetTGT(apikey):\n",
    "    tgt = Authentication(apikey).gettgt()[0]\n",
    "    return tgt"
   ]
  },
  {
   "cell_type": "code",
   "execution_count": 28,
   "metadata": {},
   "outputs": [],
   "source": [
    "def GetTicket(apikey, tgt):\n",
    "    ticket = Authentication(apikey).getst(tgt)\n",
    "    return ticket"
   ]
  },
  {
   "cell_type": "code",
   "execution_count": 151,
   "metadata": {},
   "outputs": [],
   "source": [
    "def StringToCUI(string, apikey, tgt):\n",
    "    \n",
    "    #define results container\n",
    "    results = {}\n",
    "    \n",
    "    #get ticket\n",
    "    ticket = GetTicket(apikey, tgt)\n",
    "    \n",
    "    #define request parameters\n",
    "    query = {'ticket': ticket, 'pageSize': 500}\n",
    "\n",
    "    #define uri and endpoints\n",
    "    uri = \"https://uts-ws.nlm.nih.gov/rest\"\n",
    "    endpoint = '/search/current?string={0}&sabs=MSH'.format(string)\n",
    "    \n",
    "    #execute call\n",
    "    r = requests.get(uri+endpoint,params=query)\n",
    "    r.encoding = 'utf-8'\n",
    "    items  = json.loads(r.text)\n",
    "\n",
    "    if 'error' in items.keys():\n",
    "        results['string'] = string\n",
    "        results['cui'] = ''\n",
    "        results['num_cuis'] = 0\n",
    "    if items['result']['results'][0]['name'] == 'NO RESULTS':\n",
    "        results['string'] = string\n",
    "        results['cui'] = ''\n",
    "        results['num_cuis'] = 0\n",
    "    else:\n",
    "        results['string'] = string\n",
    "        results['cui'] = items['result']['results'][0]['ui']\n",
    "        results['num_cuis'] = len(items['result']['results'])\n",
    "\n",
    "    return results"
   ]
  },
  {
   "cell_type": "code",
   "execution_count": 102,
   "metadata": {},
   "outputs": [],
   "source": [
    "def CUIToMSH(cui, apikey, tgt):\n",
    "    #define results container\n",
    "    results = {}\n",
    "    \n",
    "    #get ticket\n",
    "    ticket = GetTicket(apikey, tgt)\n",
    "    \n",
    "    #define request parameters\n",
    "    query = {'ticket': ticket, 'pageSize': 500}\n",
    "\n",
    "    #define uri and endpoints\n",
    "    uri = \"https://uts-ws.nlm.nih.gov/rest\"\n",
    "    endpoint = '/content/current/CUI/{0}/atoms?sabs=MSH'.format(cui)\n",
    "    \n",
    "    #execute call\n",
    "    r = requests.get(uri+endpoint,params=query)\n",
    "    r.encoding = 'utf-8'\n",
    "    items  = json.loads(r.text)\n",
    "\n",
    "    if 'error' in items.keys():\n",
    "        results['cui'] = cui\n",
    "        results['mesh_ids'] = []\n",
    "        results['num_mesh_ids'] = 0\n",
    "    else:\n",
    "        mesh_ids = [x.split('/')[-1] for x in pd.DataFrame(items['result'])['sourceDescriptor']]\n",
    "        results['cui'] = cui\n",
    "        results['mesh_ids'] = list(set(mesh_ids)) #get list of unique mesh ids corresponding to a given CUI\n",
    "        results['num_mesh_ids'] = len(results['mesh_ids'])\n",
    "        \n",
    "    return results"
   ]
  },
  {
   "cell_type": "markdown",
   "metadata": {},
   "source": [
    "### Execute UMLS API Calls"
   ]
  },
  {
   "cell_type": "code",
   "execution_count": 140,
   "metadata": {},
   "outputs": [
    {
     "data": {
      "text/plain": [
       "'https://utslogin.nlm.nih.gov/cas/v1/api-key/TGT-519519-utdzez0ffldEiKCrK6qd9JWMV1hAe56M7cyjsbvgMVKHfGgkyg-cas'"
      ]
     },
     "execution_count": 140,
     "metadata": {},
     "output_type": "execute_result"
    }
   ],
   "source": [
    "tgt = GetTGT(apikey)\n",
    "tgt"
   ]
  },
  {
   "cell_type": "code",
   "execution_count": 142,
   "metadata": {},
   "outputs": [],
   "source": [
    "a = [StringToCUI(x, apikey, tgt) for x in df['text'].unique().tolist()]"
   ]
  },
  {
   "cell_type": "code",
   "execution_count": 154,
   "metadata": {},
   "outputs": [],
   "source": [
    "b = [CUIToMSH(x, apikey, tgt) for x in pd.DataFrame(a)['cui'].unique().tolist()]"
   ]
  },
  {
   "cell_type": "code",
   "execution_count": 197,
   "metadata": {},
   "outputs": [
    {
     "data": {
      "text/html": [
       "<div>\n",
       "<style scoped>\n",
       "    .dataframe tbody tr th:only-of-type {\n",
       "        vertical-align: middle;\n",
       "    }\n",
       "\n",
       "    .dataframe tbody tr th {\n",
       "        vertical-align: top;\n",
       "    }\n",
       "\n",
       "    .dataframe thead th {\n",
       "        text-align: right;\n",
       "    }\n",
       "</style>\n",
       "<table border=\"1\" class=\"dataframe\">\n",
       "  <thead>\n",
       "    <tr style=\"text-align: right;\">\n",
       "      <th></th>\n",
       "      <th>cui</th>\n",
       "      <th>mesh_ids</th>\n",
       "      <th>num_mesh_ids</th>\n",
       "    </tr>\n",
       "  </thead>\n",
       "  <tbody>\n",
       "    <tr>\n",
       "      <th>0</th>\n",
       "      <td>C0003864</td>\n",
       "      <td>[D001168]</td>\n",
       "      <td>1</td>\n",
       "    </tr>\n",
       "    <tr>\n",
       "      <th>1</th>\n",
       "      <td></td>\n",
       "      <td>[]</td>\n",
       "      <td>0</td>\n",
       "    </tr>\n",
       "    <tr>\n",
       "      <th>2</th>\n",
       "      <td>C0037315</td>\n",
       "      <td>[D012891]</td>\n",
       "      <td>1</td>\n",
       "    </tr>\n",
       "    <tr>\n",
       "      <th>3</th>\n",
       "      <td>C0011875</td>\n",
       "      <td>[D003925]</td>\n",
       "      <td>1</td>\n",
       "    </tr>\n",
       "    <tr>\n",
       "      <th>4</th>\n",
       "      <td>C0038454</td>\n",
       "      <td>[D020521]</td>\n",
       "      <td>1</td>\n",
       "    </tr>\n",
       "    <tr>\n",
       "      <th>...</th>\n",
       "      <td>...</td>\n",
       "      <td>...</td>\n",
       "      <td>...</td>\n",
       "    </tr>\n",
       "    <tr>\n",
       "      <th>162</th>\n",
       "      <td>C0002950</td>\n",
       "      <td>[D000785]</td>\n",
       "      <td>1</td>\n",
       "    </tr>\n",
       "    <tr>\n",
       "      <th>163</th>\n",
       "      <td>C0043250</td>\n",
       "      <td>[D014947]</td>\n",
       "      <td>1</td>\n",
       "    </tr>\n",
       "    <tr>\n",
       "      <th>164</th>\n",
       "      <td>C0005938</td>\n",
       "      <td>[D015519]</td>\n",
       "      <td>1</td>\n",
       "    </tr>\n",
       "    <tr>\n",
       "      <th>165</th>\n",
       "      <td>C0002033</td>\n",
       "      <td>[D000461]</td>\n",
       "      <td>1</td>\n",
       "    </tr>\n",
       "    <tr>\n",
       "      <th>166</th>\n",
       "      <td>C0005400</td>\n",
       "      <td>[D001652]</td>\n",
       "      <td>1</td>\n",
       "    </tr>\n",
       "  </tbody>\n",
       "</table>\n",
       "<p>167 rows × 3 columns</p>\n",
       "</div>"
      ],
      "text/plain": [
       "          cui   mesh_ids  num_mesh_ids\n",
       "0    C0003864  [D001168]             1\n",
       "1                     []             0\n",
       "2    C0037315  [D012891]             1\n",
       "3    C0011875  [D003925]             1\n",
       "4    C0038454  [D020521]             1\n",
       "..        ...        ...           ...\n",
       "162  C0002950  [D000785]             1\n",
       "163  C0043250  [D014947]             1\n",
       "164  C0005938  [D015519]             1\n",
       "165  C0002033  [D000461]             1\n",
       "166  C0005400  [D001652]             1\n",
       "\n",
       "[167 rows x 3 columns]"
      ]
     },
     "execution_count": 197,
     "metadata": {},
     "output_type": "execute_result"
    }
   ],
   "source": [
    "pd.DataFrame(b)"
   ]
  },
  {
   "cell_type": "code",
   "execution_count": 192,
   "metadata": {},
   "outputs": [],
   "source": [
    "params = {\n",
    "    'format': 'JSON',\n",
    "    'query': '''PREFIX rdf: <http://www.w3.org/1999/02/22-rdf-syntax-ns#>\n",
    "PREFIX rdfs: <http://www.w3.org/2000/01/rdf-schema#>\n",
    "PREFIX xsd: <http://www.w3.org/2001/XMLSchema#>\n",
    "PREFIX owl: <http://www.w3.org/2002/07/owl#>\n",
    "PREFIX meshv: <http://id.nlm.nih.gov/mesh/vocab#>\n",
    "PREFIX mesh: <http://id.nlm.nih.gov/mesh/>\n",
    "PREFIX mesh2015: <http://id.nlm.nih.gov/mesh/2015/>\n",
    "PREFIX mesh2016: <http://id.nlm.nih.gov/mesh/2016/>\n",
    "PREFIX mesh2017: <http://id.nlm.nih.gov/mesh/2017/>\n",
    "\n",
    "SELECT ?treeNum ?ancestorTreeNum ?ancestor ?alabel\n",
    "FROM <http://id.nlm.nih.gov/mesh>\n",
    "\n",
    "WHERE {\n",
    "   mesh:D002056 meshv:treeNumber ?treeNum .\n",
    "   ?treeNum meshv:parentTreeNumber+ ?ancestorTreeNum .\n",
    "   ?ancestor meshv:treeNumber ?ancestorTreeNum .\n",
    "   ?ancestor rdfs:label ?alabel\n",
    "   FILTER(REGEX(?treeNum,\"C\"))\n",
    "}\n",
    "\n",
    "ORDER BY ?ancestorTreeNum'''\n",
    "}"
   ]
  },
  {
   "cell_type": "code",
   "execution_count": 193,
   "metadata": {},
   "outputs": [],
   "source": [
    "sparql = requests.get('http://id.nlm.nih.gov/mesh/sparql', params=params)"
   ]
  },
  {
   "cell_type": "code",
   "execution_count": 194,
   "metadata": {},
   "outputs": [],
   "source": [
    "sparql.encoding = 'utf-8'\n",
    "bindings = json.loads(sparql.text)['results']['bindings']\n",
    "tree_num = [x['ancestorTreeNum']['value'] for x in bindings]\n",
    "tree_lab = [x['alabel']['value'] for x in bindings]"
   ]
  },
  {
   "cell_type": "code",
   "execution_count": 195,
   "metadata": {},
   "outputs": [
    {
     "data": {
      "text/plain": [
       "['Wounds and Injuries']"
      ]
     },
     "execution_count": 195,
     "metadata": {},
     "output_type": "execute_result"
    }
   ],
   "source": [
    "tree_lab"
   ]
  },
  {
   "cell_type": "code",
   "execution_count": 196,
   "metadata": {},
   "outputs": [
    {
     "data": {
      "text/plain": [
       "['http://id.nlm.nih.gov/mesh/C26']"
      ]
     },
     "execution_count": 196,
     "metadata": {},
     "output_type": "execute_result"
    }
   ],
   "source": [
    "tree_num"
   ]
  },
  {
   "cell_type": "code",
   "execution_count": null,
   "metadata": {},
   "outputs": [],
   "source": []
  }
 ],
 "metadata": {
  "kernelspec": {
   "display_name": "Python 3",
   "language": "python",
   "name": "python3"
  },
  "language_info": {
   "codemirror_mode": {
    "name": "ipython",
    "version": 3
   },
   "file_extension": ".py",
   "mimetype": "text/x-python",
   "name": "python",
   "nbconvert_exporter": "python",
   "pygments_lexer": "ipython3",
   "version": "3.7.6"
  }
 },
 "nbformat": 4,
 "nbformat_minor": 4
}
