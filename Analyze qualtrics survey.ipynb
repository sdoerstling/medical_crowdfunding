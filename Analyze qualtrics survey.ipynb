{
 "cells": [
  {
   "cell_type": "markdown",
   "metadata": {},
   "source": [
    "### Import dependencies"
   ]
  },
  {
   "cell_type": "code",
   "execution_count": 1,
   "metadata": {},
   "outputs": [],
   "source": [
    "import pandas as pd\n",
    "import numpy as np\n",
    "import itertools\n",
    "from sklearn.metrics import cohen_kappa_score\n",
    "\n",
    "import sqlite3\n",
    "import fasttext"
   ]
  },
  {
   "cell_type": "markdown",
   "metadata": {},
   "source": [
    "### Import data"
   ]
  },
  {
   "cell_type": "code",
   "execution_count": 61,
   "metadata": {},
   "outputs": [],
   "source": [
    "r3 = pd.read_csv('Manual_Review/round 3/Crowdfunding+-+Manual+Label+101-150_December+29,+2020_08.52.csv', header=None).T.iloc[17:]\n",
    "r4 = pd.read_csv('Manual_Review/round 4/Crowdfunding+-+Manual+Label+Round+4_January+7,+2021_18.13.csv', header=None).T.iloc[17:]\n",
    "r5 = pd.read_csv('Manual_Review/round 5/Crowdfunding+-+Manual+Label+Round+5_January+11,+2021_08.36.csv', header=None).T.iloc[17:]\n",
    "r6 = pd.read_csv('Manual_Review/round 6/Crowdfunding+-+Manual+Label+Round+6_January+15,+2021_09.35.csv', header=None).T.iloc[17:]"
   ]
  },
  {
   "cell_type": "markdown",
   "metadata": {},
   "source": [
    "### Inspect data"
   ]
  },
  {
   "cell_type": "code",
   "execution_count": 62,
   "metadata": {},
   "outputs": [
    {
     "name": "stdout",
     "output_type": "stream",
     "text": [
      "(150, 5)\n",
      "(150, 4)\n",
      "(150, 4)\n",
      "(150, 5)\n"
     ]
    }
   ],
   "source": [
    "print(r3.shape)\n",
    "print(r4.shape)\n",
    "print(r5.shape)\n",
    "print(r6.shape)"
   ]
  },
  {
   "cell_type": "code",
   "execution_count": 63,
   "metadata": {},
   "outputs": [
    {
     "data": {
      "text/html": [
       "<div>\n",
       "<style scoped>\n",
       "    .dataframe tbody tr th:only-of-type {\n",
       "        vertical-align: middle;\n",
       "    }\n",
       "\n",
       "    .dataframe tbody tr th {\n",
       "        vertical-align: top;\n",
       "    }\n",
       "\n",
       "    .dataframe thead th {\n",
       "        text-align: right;\n",
       "    }\n",
       "</style>\n",
       "<table border=\"1\" class=\"dataframe\">\n",
       "  <thead>\n",
       "    <tr style=\"text-align: right;\">\n",
       "      <th></th>\n",
       "      <th>0</th>\n",
       "      <th>1</th>\n",
       "      <th>2</th>\n",
       "      <th>3</th>\n",
       "      <th>4</th>\n",
       "    </tr>\n",
       "  </thead>\n",
       "  <tbody>\n",
       "    <tr>\n",
       "      <th>17</th>\n",
       "      <td>QID2</td>\n",
       "      <td>https://www.gofundme.com/f/please-help-karens-...</td>\n",
       "      <td>Infections,Injuries and external causes,Mental...</td>\n",
       "      <td>NaN</td>\n",
       "      <td>Infections,Mental and substance use disorders,...</td>\n",
       "    </tr>\n",
       "    <tr>\n",
       "      <th>18</th>\n",
       "      <td>QID3</td>\n",
       "      <td>https://www.gofundme.com/f/please-help-karens-...</td>\n",
       "      <td>Infections</td>\n",
       "      <td>NaN</td>\n",
       "      <td>Infections</td>\n",
       "    </tr>\n",
       "    <tr>\n",
       "      <th>19</th>\n",
       "      <td>QID4_TEXT</td>\n",
       "      <td>https://www.gofundme.com/f/please-help-karens-...</td>\n",
       "      <td>Allergy, unspecified, subsequent encounter--&gt;f...</td>\n",
       "      <td>NaN</td>\n",
       "      <td>Symptoms of mental illness d/t underlying food...</td>\n",
       "    </tr>\n",
       "    <tr>\n",
       "      <th>20</th>\n",
       "      <td>QID5</td>\n",
       "      <td>https://www.gofundme.com/f/patrickwalter__base...</td>\n",
       "      <td>Neoplasms</td>\n",
       "      <td>NaN</td>\n",
       "      <td>Neoplasms</td>\n",
       "    </tr>\n",
       "    <tr>\n",
       "      <th>21</th>\n",
       "      <td>QID6</td>\n",
       "      <td>https://www.gofundme.com/f/patrickwalter__top ...</td>\n",
       "      <td>Neoplasms</td>\n",
       "      <td>NaN</td>\n",
       "      <td>Neoplasms</td>\n",
       "    </tr>\n",
       "  </tbody>\n",
       "</table>\n",
       "</div>"
      ],
      "text/plain": [
       "            0                                                  1  \\\n",
       "17       QID2  https://www.gofundme.com/f/please-help-karens-...   \n",
       "18       QID3  https://www.gofundme.com/f/please-help-karens-...   \n",
       "19  QID4_TEXT  https://www.gofundme.com/f/please-help-karens-...   \n",
       "20       QID5  https://www.gofundme.com/f/patrickwalter__base...   \n",
       "21       QID6  https://www.gofundme.com/f/patrickwalter__top ...   \n",
       "\n",
       "                                                    2    3  \\\n",
       "17  Infections,Injuries and external causes,Mental...  NaN   \n",
       "18                                         Infections  NaN   \n",
       "19  Allergy, unspecified, subsequent encounter-->f...  NaN   \n",
       "20                                          Neoplasms  NaN   \n",
       "21                                          Neoplasms  NaN   \n",
       "\n",
       "                                                    4  \n",
       "17  Infections,Mental and substance use disorders,...  \n",
       "18                                         Infections  \n",
       "19  Symptoms of mental illness d/t underlying food...  \n",
       "20                                          Neoplasms  \n",
       "21                                          Neoplasms  "
      ]
     },
     "execution_count": 63,
     "metadata": {},
     "output_type": "execute_result"
    }
   ],
   "source": [
    "r3.head()"
   ]
  },
  {
   "cell_type": "code",
   "execution_count": 64,
   "metadata": {},
   "outputs": [
    {
     "data": {
      "text/html": [
       "<div>\n",
       "<style scoped>\n",
       "    .dataframe tbody tr th:only-of-type {\n",
       "        vertical-align: middle;\n",
       "    }\n",
       "\n",
       "    .dataframe tbody tr th {\n",
       "        vertical-align: top;\n",
       "    }\n",
       "\n",
       "    .dataframe thead th {\n",
       "        text-align: right;\n",
       "    }\n",
       "</style>\n",
       "<table border=\"1\" class=\"dataframe\">\n",
       "  <thead>\n",
       "    <tr style=\"text-align: right;\">\n",
       "      <th></th>\n",
       "      <th>0</th>\n",
       "      <th>1</th>\n",
       "      <th>2</th>\n",
       "      <th>3</th>\n",
       "    </tr>\n",
       "  </thead>\n",
       "  <tbody>\n",
       "    <tr>\n",
       "      <th>17</th>\n",
       "      <td>QID2</td>\n",
       "      <td>https://www.gofundme.com/f/healthecheryl__base...</td>\n",
       "      <td>Nervous system diseases,Other noncommunicable ...</td>\n",
       "      <td>Nervous system diseases,Other noncommunicable ...</td>\n",
       "    </tr>\n",
       "    <tr>\n",
       "      <th>18</th>\n",
       "      <td>QID3</td>\n",
       "      <td>https://www.gofundme.com/f/healthecheryl__top ...</td>\n",
       "      <td>Other noncommunicable diseases</td>\n",
       "      <td>Other noncommunicable diseases</td>\n",
       "    </tr>\n",
       "    <tr>\n",
       "      <th>19</th>\n",
       "      <td>QID4_TEXT</td>\n",
       "      <td>https://www.gofundme.com/f/healthecheryl__NOTE...</td>\n",
       "      <td>sarcoidosis listed under non communicable dise...</td>\n",
       "      <td>MS and sarcoidosis\\nmain is sarcoidosis</td>\n",
       "    </tr>\n",
       "    <tr>\n",
       "      <th>20</th>\n",
       "      <td>QID5</td>\n",
       "      <td>https://www.gofundme.com/f/22kcir7teo__base - ...</td>\n",
       "      <td>Cardiovascular diseases,Genitourinary disorder...</td>\n",
       "      <td>Cardiovascular diseases,Genitourinary disorder...</td>\n",
       "    </tr>\n",
       "    <tr>\n",
       "      <th>21</th>\n",
       "      <td>QID6</td>\n",
       "      <td>https://www.gofundme.com/f/22kcir7teo__top - P...</td>\n",
       "      <td>Genitourinary disorders</td>\n",
       "      <td>Infections</td>\n",
       "    </tr>\n",
       "  </tbody>\n",
       "</table>\n",
       "</div>"
      ],
      "text/plain": [
       "            0                                                  1  \\\n",
       "17       QID2  https://www.gofundme.com/f/healthecheryl__base...   \n",
       "18       QID3  https://www.gofundme.com/f/healthecheryl__top ...   \n",
       "19  QID4_TEXT  https://www.gofundme.com/f/healthecheryl__NOTE...   \n",
       "20       QID5  https://www.gofundme.com/f/22kcir7teo__base - ...   \n",
       "21       QID6  https://www.gofundme.com/f/22kcir7teo__top - P...   \n",
       "\n",
       "                                                    2  \\\n",
       "17  Nervous system diseases,Other noncommunicable ...   \n",
       "18                     Other noncommunicable diseases   \n",
       "19  sarcoidosis listed under non communicable dise...   \n",
       "20  Cardiovascular diseases,Genitourinary disorder...   \n",
       "21                            Genitourinary disorders   \n",
       "\n",
       "                                                    3  \n",
       "17  Nervous system diseases,Other noncommunicable ...  \n",
       "18                     Other noncommunicable diseases  \n",
       "19            MS and sarcoidosis\\nmain is sarcoidosis  \n",
       "20  Cardiovascular diseases,Genitourinary disorder...  \n",
       "21                                         Infections  "
      ]
     },
     "execution_count": 64,
     "metadata": {},
     "output_type": "execute_result"
    }
   ],
   "source": [
    "r4.head()"
   ]
  },
  {
   "cell_type": "code",
   "execution_count": 65,
   "metadata": {},
   "outputs": [
    {
     "data": {
      "text/html": [
       "<div>\n",
       "<style scoped>\n",
       "    .dataframe tbody tr th:only-of-type {\n",
       "        vertical-align: middle;\n",
       "    }\n",
       "\n",
       "    .dataframe tbody tr th {\n",
       "        vertical-align: top;\n",
       "    }\n",
       "\n",
       "    .dataframe thead th {\n",
       "        text-align: right;\n",
       "    }\n",
       "</style>\n",
       "<table border=\"1\" class=\"dataframe\">\n",
       "  <thead>\n",
       "    <tr style=\"text-align: right;\">\n",
       "      <th></th>\n",
       "      <th>0</th>\n",
       "      <th>1</th>\n",
       "      <th>2</th>\n",
       "      <th>3</th>\n",
       "    </tr>\n",
       "  </thead>\n",
       "  <tbody>\n",
       "    <tr>\n",
       "      <th>17</th>\n",
       "      <td>QID2</td>\n",
       "      <td>https://www.gofundme.com/f/d90qtg__base - Hell...</td>\n",
       "      <td>Cardiovascular diseases</td>\n",
       "      <td>Cardiovascular diseases,Nonspecific</td>\n",
       "    </tr>\n",
       "    <tr>\n",
       "      <th>18</th>\n",
       "      <td>QID3</td>\n",
       "      <td>https://www.gofundme.com/f/d90qtg__top - Pleas...</td>\n",
       "      <td>Cardiovascular diseases</td>\n",
       "      <td>Cardiovascular diseases</td>\n",
       "    </tr>\n",
       "    <tr>\n",
       "      <th>19</th>\n",
       "      <td>QID4_TEXT</td>\n",
       "      <td>https://www.gofundme.com/f/d90qtg__NOTES - Ple...</td>\n",
       "      <td>NaN</td>\n",
       "      <td>congestive heart failure, clots in my lungs an...</td>\n",
       "    </tr>\n",
       "    <tr>\n",
       "      <th>20</th>\n",
       "      <td>QID5</td>\n",
       "      <td>https://www.gofundme.com/f/breatheeasyaimee__b...</td>\n",
       "      <td>Nonspecific</td>\n",
       "      <td>Nonspecific</td>\n",
       "    </tr>\n",
       "    <tr>\n",
       "      <th>21</th>\n",
       "      <td>QID6</td>\n",
       "      <td>https://www.gofundme.com/f/breatheeasyaimee__t...</td>\n",
       "      <td>Nonspecific</td>\n",
       "      <td>Nonspecific</td>\n",
       "    </tr>\n",
       "  </tbody>\n",
       "</table>\n",
       "</div>"
      ],
      "text/plain": [
       "            0                                                  1  \\\n",
       "17       QID2  https://www.gofundme.com/f/d90qtg__base - Hell...   \n",
       "18       QID3  https://www.gofundme.com/f/d90qtg__top - Pleas...   \n",
       "19  QID4_TEXT  https://www.gofundme.com/f/d90qtg__NOTES - Ple...   \n",
       "20       QID5  https://www.gofundme.com/f/breatheeasyaimee__b...   \n",
       "21       QID6  https://www.gofundme.com/f/breatheeasyaimee__t...   \n",
       "\n",
       "                          2                                                  3  \n",
       "17  Cardiovascular diseases                Cardiovascular diseases,Nonspecific  \n",
       "18  Cardiovascular diseases                            Cardiovascular diseases  \n",
       "19                      NaN  congestive heart failure, clots in my lungs an...  \n",
       "20              Nonspecific                                        Nonspecific  \n",
       "21              Nonspecific                                        Nonspecific  "
      ]
     },
     "execution_count": 65,
     "metadata": {},
     "output_type": "execute_result"
    }
   ],
   "source": [
    "r5.head()"
   ]
  },
  {
   "cell_type": "code",
   "execution_count": 66,
   "metadata": {},
   "outputs": [
    {
     "data": {
      "text/html": [
       "<div>\n",
       "<style scoped>\n",
       "    .dataframe tbody tr th:only-of-type {\n",
       "        vertical-align: middle;\n",
       "    }\n",
       "\n",
       "    .dataframe tbody tr th {\n",
       "        vertical-align: top;\n",
       "    }\n",
       "\n",
       "    .dataframe thead th {\n",
       "        text-align: right;\n",
       "    }\n",
       "</style>\n",
       "<table border=\"1\" class=\"dataframe\">\n",
       "  <thead>\n",
       "    <tr style=\"text-align: right;\">\n",
       "      <th></th>\n",
       "      <th>0</th>\n",
       "      <th>1</th>\n",
       "      <th>2</th>\n",
       "      <th>3</th>\n",
       "      <th>4</th>\n",
       "    </tr>\n",
       "  </thead>\n",
       "  <tbody>\n",
       "    <tr>\n",
       "      <th>17</th>\n",
       "      <td>QID2</td>\n",
       "      <td>https://www.gofundme.com/f/nc89hu-battling-sta...</td>\n",
       "      <td>Neoplasms,Respiratory diseases</td>\n",
       "      <td>NaN</td>\n",
       "      <td>Neoplasms</td>\n",
       "    </tr>\n",
       "    <tr>\n",
       "      <th>18</th>\n",
       "      <td>QID3</td>\n",
       "      <td>https://www.gofundme.com/f/nc89hu-battling-sta...</td>\n",
       "      <td>Neoplasms</td>\n",
       "      <td>NaN</td>\n",
       "      <td>Neoplasms</td>\n",
       "    </tr>\n",
       "    <tr>\n",
       "      <th>19</th>\n",
       "      <td>QID4_TEXT</td>\n",
       "      <td>https://www.gofundme.com/f/nc89hu-battling-sta...</td>\n",
       "      <td>acute pulmonary edema</td>\n",
       "      <td>NaN</td>\n",
       "      <td>NaN</td>\n",
       "    </tr>\n",
       "    <tr>\n",
       "      <th>20</th>\n",
       "      <td>QID5</td>\n",
       "      <td>https://www.gofundme.com/f/javier-montenegros-...</td>\n",
       "      <td>Genitourinary disorders</td>\n",
       "      <td>NaN</td>\n",
       "      <td>Genitourinary disorders</td>\n",
       "    </tr>\n",
       "    <tr>\n",
       "      <th>21</th>\n",
       "      <td>QID6</td>\n",
       "      <td>https://www.gofundme.com/f/javier-montenegros-...</td>\n",
       "      <td>Genitourinary disorders</td>\n",
       "      <td>NaN</td>\n",
       "      <td>Genitourinary disorders</td>\n",
       "    </tr>\n",
       "  </tbody>\n",
       "</table>\n",
       "</div>"
      ],
      "text/plain": [
       "            0                                                  1  \\\n",
       "17       QID2  https://www.gofundme.com/f/nc89hu-battling-sta...   \n",
       "18       QID3  https://www.gofundme.com/f/nc89hu-battling-sta...   \n",
       "19  QID4_TEXT  https://www.gofundme.com/f/nc89hu-battling-sta...   \n",
       "20       QID5  https://www.gofundme.com/f/javier-montenegros-...   \n",
       "21       QID6  https://www.gofundme.com/f/javier-montenegros-...   \n",
       "\n",
       "                                 2    3                        4  \n",
       "17  Neoplasms,Respiratory diseases  NaN                Neoplasms  \n",
       "18                       Neoplasms  NaN                Neoplasms  \n",
       "19           acute pulmonary edema  NaN                      NaN  \n",
       "20         Genitourinary disorders  NaN  Genitourinary disorders  \n",
       "21         Genitourinary disorders  NaN  Genitourinary disorders  "
      ]
     },
     "execution_count": 66,
     "metadata": {},
     "output_type": "execute_result"
    }
   ],
   "source": [
    "r6.head()"
   ]
  },
  {
   "cell_type": "markdown",
   "metadata": {},
   "source": [
    "### Notes from inspection\n",
    "\n",
    "r3\n",
    "- need to delete column 3, this was a blank survey response\n",
    "- col2 is dennis\n",
    "\n",
    "r4\n",
    "- col2 is dennis\n",
    "\n",
    "r5\n",
    "- col2 is dennis\n",
    "\n",
    "r6\n",
    "- col2 is steven\n",
    "- col3 is dennis's second half\n",
    "- col4 is dennis's first half\n",
    "- need to merge 3 and 4"
   ]
  },
  {
   "cell_type": "markdown",
   "metadata": {},
   "source": [
    "### Clean data"
   ]
  },
  {
   "cell_type": "code",
   "execution_count": 67,
   "metadata": {},
   "outputs": [],
   "source": [
    "r3.columns = ['qid','header','dennis','blank','steven']\n",
    "r4.columns = ['qid', 'header', 'dennis', 'steven']\n",
    "r5.columns = ['qid', 'header', 'dennis', 'steven']\n",
    "r6.columns = ['qid', 'header', 'steven', 'dennis_2', 'dennis_1']"
   ]
  },
  {
   "cell_type": "code",
   "execution_count": 68,
   "metadata": {},
   "outputs": [],
   "source": [
    "r6 = r6.reset_index()"
   ]
  },
  {
   "cell_type": "code",
   "execution_count": 69,
   "metadata": {},
   "outputs": [
    {
     "data": {
      "text/html": [
       "<div>\n",
       "<style scoped>\n",
       "    .dataframe tbody tr th:only-of-type {\n",
       "        vertical-align: middle;\n",
       "    }\n",
       "\n",
       "    .dataframe tbody tr th {\n",
       "        vertical-align: top;\n",
       "    }\n",
       "\n",
       "    .dataframe thead th {\n",
       "        text-align: right;\n",
       "    }\n",
       "</style>\n",
       "<table border=\"1\" class=\"dataframe\">\n",
       "  <thead>\n",
       "    <tr style=\"text-align: right;\">\n",
       "      <th></th>\n",
       "      <th>index</th>\n",
       "      <th>qid</th>\n",
       "      <th>header</th>\n",
       "      <th>steven</th>\n",
       "      <th>dennis_2</th>\n",
       "      <th>dennis_1</th>\n",
       "    </tr>\n",
       "  </thead>\n",
       "  <tbody>\n",
       "    <tr>\n",
       "      <th>0</th>\n",
       "      <td>17</td>\n",
       "      <td>QID2</td>\n",
       "      <td>https://www.gofundme.com/f/nc89hu-battling-sta...</td>\n",
       "      <td>Neoplasms,Respiratory diseases</td>\n",
       "      <td>NaN</td>\n",
       "      <td>Neoplasms</td>\n",
       "    </tr>\n",
       "    <tr>\n",
       "      <th>1</th>\n",
       "      <td>18</td>\n",
       "      <td>QID3</td>\n",
       "      <td>https://www.gofundme.com/f/nc89hu-battling-sta...</td>\n",
       "      <td>Neoplasms</td>\n",
       "      <td>NaN</td>\n",
       "      <td>Neoplasms</td>\n",
       "    </tr>\n",
       "    <tr>\n",
       "      <th>2</th>\n",
       "      <td>19</td>\n",
       "      <td>QID4_TEXT</td>\n",
       "      <td>https://www.gofundme.com/f/nc89hu-battling-sta...</td>\n",
       "      <td>acute pulmonary edema</td>\n",
       "      <td>NaN</td>\n",
       "      <td>NaN</td>\n",
       "    </tr>\n",
       "    <tr>\n",
       "      <th>3</th>\n",
       "      <td>20</td>\n",
       "      <td>QID5</td>\n",
       "      <td>https://www.gofundme.com/f/javier-montenegros-...</td>\n",
       "      <td>Genitourinary disorders</td>\n",
       "      <td>NaN</td>\n",
       "      <td>Genitourinary disorders</td>\n",
       "    </tr>\n",
       "    <tr>\n",
       "      <th>4</th>\n",
       "      <td>21</td>\n",
       "      <td>QID6</td>\n",
       "      <td>https://www.gofundme.com/f/javier-montenegros-...</td>\n",
       "      <td>Genitourinary disorders</td>\n",
       "      <td>NaN</td>\n",
       "      <td>Genitourinary disorders</td>\n",
       "    </tr>\n",
       "    <tr>\n",
       "      <th>...</th>\n",
       "      <td>...</td>\n",
       "      <td>...</td>\n",
       "      <td>...</td>\n",
       "      <td>...</td>\n",
       "      <td>...</td>\n",
       "      <td>...</td>\n",
       "    </tr>\n",
       "    <tr>\n",
       "      <th>65</th>\n",
       "      <td>82</td>\n",
       "      <td>QID67_TEXT</td>\n",
       "      <td>https://www.gofundme.com/f/lets-help-ariel-kic...</td>\n",
       "      <td>NaN</td>\n",
       "      <td>NaN</td>\n",
       "      <td>NaN</td>\n",
       "    </tr>\n",
       "    <tr>\n",
       "      <th>66</th>\n",
       "      <td>83</td>\n",
       "      <td>QID68</td>\n",
       "      <td>https://www.gofundme.com/f/daphnee-strong__bas...</td>\n",
       "      <td>Neoplasms,Nonspecific</td>\n",
       "      <td>NaN</td>\n",
       "      <td>Neoplasms</td>\n",
       "    </tr>\n",
       "    <tr>\n",
       "      <th>67</th>\n",
       "      <td>84</td>\n",
       "      <td>QID69</td>\n",
       "      <td>https://www.gofundme.com/f/daphnee-strong__top...</td>\n",
       "      <td>Neoplasms</td>\n",
       "      <td>NaN</td>\n",
       "      <td>Neoplasms</td>\n",
       "    </tr>\n",
       "    <tr>\n",
       "      <th>68</th>\n",
       "      <td>85</td>\n",
       "      <td>QID70_TEXT</td>\n",
       "      <td>https://www.gofundme.com/f/daphnee-strong__NOT...</td>\n",
       "      <td>NaN</td>\n",
       "      <td>NaN</td>\n",
       "      <td>NaN</td>\n",
       "    </tr>\n",
       "    <tr>\n",
       "      <th>69</th>\n",
       "      <td>86</td>\n",
       "      <td>QID71</td>\n",
       "      <td>https://www.gofundme.com/f/3r332gm8__base - Th...</td>\n",
       "      <td>Mental and substance use disorders,Musculoskel...</td>\n",
       "      <td>Cardiovascular diseases,Gastrointestinal disea...</td>\n",
       "      <td>NaN</td>\n",
       "    </tr>\n",
       "  </tbody>\n",
       "</table>\n",
       "<p>70 rows × 6 columns</p>\n",
       "</div>"
      ],
      "text/plain": [
       "    index         qid                                             header  \\\n",
       "0      17        QID2  https://www.gofundme.com/f/nc89hu-battling-sta...   \n",
       "1      18        QID3  https://www.gofundme.com/f/nc89hu-battling-sta...   \n",
       "2      19   QID4_TEXT  https://www.gofundme.com/f/nc89hu-battling-sta...   \n",
       "3      20        QID5  https://www.gofundme.com/f/javier-montenegros-...   \n",
       "4      21        QID6  https://www.gofundme.com/f/javier-montenegros-...   \n",
       "..    ...         ...                                                ...   \n",
       "65     82  QID67_TEXT  https://www.gofundme.com/f/lets-help-ariel-kic...   \n",
       "66     83       QID68  https://www.gofundme.com/f/daphnee-strong__bas...   \n",
       "67     84       QID69  https://www.gofundme.com/f/daphnee-strong__top...   \n",
       "68     85  QID70_TEXT  https://www.gofundme.com/f/daphnee-strong__NOT...   \n",
       "69     86       QID71  https://www.gofundme.com/f/3r332gm8__base - Th...   \n",
       "\n",
       "                                               steven  \\\n",
       "0                      Neoplasms,Respiratory diseases   \n",
       "1                                           Neoplasms   \n",
       "2                               acute pulmonary edema   \n",
       "3                             Genitourinary disorders   \n",
       "4                             Genitourinary disorders   \n",
       "..                                                ...   \n",
       "65                                                NaN   \n",
       "66                              Neoplasms,Nonspecific   \n",
       "67                                          Neoplasms   \n",
       "68                                                NaN   \n",
       "69  Mental and substance use disorders,Musculoskel...   \n",
       "\n",
       "                                             dennis_2                 dennis_1  \n",
       "0                                                 NaN                Neoplasms  \n",
       "1                                                 NaN                Neoplasms  \n",
       "2                                                 NaN                      NaN  \n",
       "3                                                 NaN  Genitourinary disorders  \n",
       "4                                                 NaN  Genitourinary disorders  \n",
       "..                                                ...                      ...  \n",
       "65                                                NaN                      NaN  \n",
       "66                                                NaN                Neoplasms  \n",
       "67                                                NaN                Neoplasms  \n",
       "68                                                NaN                      NaN  \n",
       "69  Cardiovascular diseases,Gastrointestinal disea...                      NaN  \n",
       "\n",
       "[70 rows x 6 columns]"
      ]
     },
     "execution_count": 69,
     "metadata": {},
     "output_type": "execute_result"
    }
   ],
   "source": [
    "r6.head(70)"
   ]
  },
  {
   "cell_type": "code",
   "execution_count": 70,
   "metadata": {},
   "outputs": [],
   "source": [
    "first = r6['dennis_1'].iloc[:69].tolist()\n",
    "second = r6['dennis_2'].iloc[69:].tolist()\n",
    "new_dennis = first + second\n",
    "r6.loc[:,'dennis'] = new_dennis"
   ]
  },
  {
   "cell_type": "code",
   "execution_count": 71,
   "metadata": {},
   "outputs": [],
   "source": [
    "r3 = r3[['header','dennis','steven']]\n",
    "r4 = r4[['header','dennis','steven']]\n",
    "r5 = r5[['header','dennis','steven']]\n",
    "r6 = r6[['header','dennis','steven']]"
   ]
  },
  {
   "cell_type": "code",
   "execution_count": 72,
   "metadata": {},
   "outputs": [],
   "source": [
    "r3.loc[:,'round'] = [3 for x in range(len(r3))]\n",
    "r4.loc[:,'round'] = [4 for x in range(len(r4))]\n",
    "r5.loc[:,'round'] = [5 for x in range(len(r5))]\n",
    "r6.loc[:,'round'] = [6 for x in range(len(r6))]"
   ]
  },
  {
   "cell_type": "code",
   "execution_count": 73,
   "metadata": {},
   "outputs": [],
   "source": [
    "#rbind dfs\n",
    "m = pd.concat([r3, r4, r5, r6])"
   ]
  },
  {
   "cell_type": "code",
   "execution_count": 74,
   "metadata": {},
   "outputs": [],
   "source": [
    "#extract url from header\n",
    "m['url'] = [x.split(' - ')[0].split('__')[0] for x in m['header']]"
   ]
  },
  {
   "cell_type": "code",
   "execution_count": 75,
   "metadata": {},
   "outputs": [],
   "source": [
    "#extract question category from header\n",
    "m['qcat'] = ['base','top','NOTES'] * 200"
   ]
  },
  {
   "cell_type": "code",
   "execution_count": 76,
   "metadata": {},
   "outputs": [],
   "source": [
    "m = m[['url','qcat','dennis','steven','round']]"
   ]
  },
  {
   "cell_type": "code",
   "execution_count": 77,
   "metadata": {},
   "outputs": [],
   "source": [
    "#subset data\n",
    "\n",
    "# all categories that are in text\n",
    "base = m[m['qcat'] == 'base']\n",
    "\n",
    "# top (aka primary) category\n",
    "top = m[m['qcat'] == 'top']\n",
    "\n",
    "# notes\n",
    "notes = m[m['qcat'] == 'NOTES']"
   ]
  },
  {
   "cell_type": "code",
   "execution_count": 78,
   "metadata": {},
   "outputs": [
    {
     "name": "stdout",
     "output_type": "stream",
     "text": [
      "(200, 5)\n",
      "(200, 5)\n",
      "(200, 5)\n"
     ]
    }
   ],
   "source": [
    "print(base.shape)\n",
    "print(top.shape)\n",
    "print(notes.shape)"
   ]
  },
  {
   "cell_type": "code",
   "execution_count": 79,
   "metadata": {},
   "outputs": [],
   "source": [
    "#convert data from wide to long\n",
    "dennis_melt = pd.melt(base, id_vars=['url','qcat','round'], value_vars=['dennis'])\n",
    "steven_melt = pd.melt(base, id_vars=['url','qcat','round'], value_vars=['steven'])"
   ]
  },
  {
   "cell_type": "code",
   "execution_count": 80,
   "metadata": {},
   "outputs": [],
   "source": [
    "#merge melted data and rename columns\n",
    "melt = pd.concat([dennis_melt, steven_melt])\n",
    "melt = melt.rename(columns={'variable':'rater','value':'cat'})"
   ]
  },
  {
   "cell_type": "code",
   "execution_count": 81,
   "metadata": {},
   "outputs": [],
   "source": [
    "#reset index\n",
    "melt = melt.reset_index()\n",
    "del melt['index']"
   ]
  },
  {
   "cell_type": "code",
   "execution_count": 82,
   "metadata": {},
   "outputs": [],
   "source": [
    "def comma2lofd(df):\n",
    "    '''convert cat column from comma delimited to list of dictionaries with 1 or 0 for each category'''\n",
    "    \n",
    "    disease_categories = [\n",
    "        'Cardiovascular diseases',\n",
    "        'Endocrine diseases',\n",
    "        'Gastrointestinal diseases',\n",
    "        'Genitourinary disorders',\n",
    "        'Infections',\n",
    "        'Injuries and external causes',\n",
    "        'Mental and substance use disorders',\n",
    "        'Musculoskeletal diseases',\n",
    "        'Neoplasms',\n",
    "        'Nervous system diseases',\n",
    "        'Nonspecific',\n",
    "        'Other noncommunicable diseases',\n",
    "        'Pregnancy and childbirth',\n",
    "        'Respiratory diseases'\n",
    "    ]\n",
    "    \n",
    "    r = []\n",
    "    \n",
    "    for index,row in df.iterrows():\n",
    "        lofd = []\n",
    "        as_list = row['cat'].split(',')\n",
    "        for disease in disease_categories:\n",
    "            if disease in as_list:\n",
    "                lofd.append({disease:1})\n",
    "            else:\n",
    "                lofd.append({disease:0})\n",
    "        r.append(lofd)\n",
    "    return r"
   ]
  },
  {
   "cell_type": "code",
   "execution_count": 83,
   "metadata": {},
   "outputs": [],
   "source": [
    "melt['lofd'] = comma2lofd(melt)\n",
    "del melt['cat']"
   ]
  },
  {
   "cell_type": "code",
   "execution_count": 84,
   "metadata": {},
   "outputs": [],
   "source": [
    "#convert to long format\n",
    "long = melt.explode('lofd')"
   ]
  },
  {
   "cell_type": "code",
   "execution_count": 85,
   "metadata": {},
   "outputs": [],
   "source": [
    "#extract key, value from dictionary\n",
    "long.insert(loc=2, column='cat', value=[list(x.items())[0][0] for x in long['lofd']])\n",
    "long.insert(loc=3, column='count', value=[list(x.items())[0][1] for x in long['lofd']])\n",
    "\n",
    "long = long[['url','rater','round','cat','count']]"
   ]
  },
  {
   "cell_type": "code",
   "execution_count": 86,
   "metadata": {},
   "outputs": [],
   "source": [
    "#create pivot tables\n",
    "steven_pivot = long[long['rater'] == 'steven'].pivot_table(index=['url'], columns='cat', values='count', aggfunc=(pd.Series.sum), fill_value=0)\n",
    "dennis_pivot = long[long['rater'] == 'dennis'].pivot_table(index=['url'], columns='cat', values='count', aggfunc=(pd.Series.sum), fill_value=0)"
   ]
  },
  {
   "cell_type": "code",
   "execution_count": 87,
   "metadata": {},
   "outputs": [],
   "source": [
    "#calculate counts and percentage by category\n",
    "dennis_counts = dennis_pivot.describe().T\n",
    "dennis_counts['N'] = [round(x) for x in dennis_counts['count'] * dennis_counts['mean']]\n",
    "dennis_counts['PER'] = dennis_counts['N'] / dennis_counts['count']\n",
    "\n",
    "steven_counts = steven_pivot.describe().T\n",
    "steven_counts['N'] = [round(x) for x in steven_counts['count'] * steven_counts['mean']]\n",
    "steven_counts['PER'] = steven_counts['N'] / steven_counts['count']"
   ]
  },
  {
   "cell_type": "code",
   "execution_count": 88,
   "metadata": {},
   "outputs": [],
   "source": [
    "cat = []\n",
    "cohens_kappa = []\n",
    "for col in dennis_pivot.columns:\n",
    "    cat.append(col)\n",
    "    cohens_kappa.append(cohen_kappa_score(dennis_pivot[col], steven_pivot[col]))\n",
    "kappa_df = pd.DataFrame({'category':cat, \n",
    "              'cohens kappa':cohens_kappa,\n",
    "              'dennis count':dennis_counts['N'],\n",
    "              'steven count':steven_counts['N']}).sort_values('cohens kappa', ascending=False)"
   ]
  },
  {
   "cell_type": "code",
   "execution_count": 89,
   "metadata": {},
   "outputs": [
    {
     "data": {
      "text/html": [
       "<div>\n",
       "<style scoped>\n",
       "    .dataframe tbody tr th:only-of-type {\n",
       "        vertical-align: middle;\n",
       "    }\n",
       "\n",
       "    .dataframe tbody tr th {\n",
       "        vertical-align: top;\n",
       "    }\n",
       "\n",
       "    .dataframe thead th {\n",
       "        text-align: right;\n",
       "    }\n",
       "</style>\n",
       "<table border=\"1\" class=\"dataframe\">\n",
       "  <thead>\n",
       "    <tr style=\"text-align: right;\">\n",
       "      <th></th>\n",
       "      <th>category</th>\n",
       "      <th>cohens kappa</th>\n",
       "      <th>dennis count</th>\n",
       "      <th>steven count</th>\n",
       "    </tr>\n",
       "    <tr>\n",
       "      <th>cat</th>\n",
       "      <th></th>\n",
       "      <th></th>\n",
       "      <th></th>\n",
       "      <th></th>\n",
       "    </tr>\n",
       "  </thead>\n",
       "  <tbody>\n",
       "    <tr>\n",
       "      <th>Neoplasms</th>\n",
       "      <td>Neoplasms</td>\n",
       "      <td>0.979169</td>\n",
       "      <td>81</td>\n",
       "      <td>79</td>\n",
       "    </tr>\n",
       "    <tr>\n",
       "      <th>Infections</th>\n",
       "      <td>Infections</td>\n",
       "      <td>0.927954</td>\n",
       "      <td>16</td>\n",
       "      <td>14</td>\n",
       "    </tr>\n",
       "    <tr>\n",
       "      <th>Musculoskeletal diseases</th>\n",
       "      <td>Musculoskeletal diseases</td>\n",
       "      <td>0.877900</td>\n",
       "      <td>18</td>\n",
       "      <td>18</td>\n",
       "    </tr>\n",
       "    <tr>\n",
       "      <th>Genitourinary disorders</th>\n",
       "      <td>Genitourinary disorders</td>\n",
       "      <td>0.871589</td>\n",
       "      <td>19</td>\n",
       "      <td>15</td>\n",
       "    </tr>\n",
       "    <tr>\n",
       "      <th>Endocrine diseases</th>\n",
       "      <td>Endocrine diseases</td>\n",
       "      <td>0.861624</td>\n",
       "      <td>12</td>\n",
       "      <td>11</td>\n",
       "    </tr>\n",
       "    <tr>\n",
       "      <th>Mental and substance use disorders</th>\n",
       "      <td>Mental and substance use disorders</td>\n",
       "      <td>0.825175</td>\n",
       "      <td>16</td>\n",
       "      <td>15</td>\n",
       "    </tr>\n",
       "    <tr>\n",
       "      <th>Injuries and external causes</th>\n",
       "      <td>Injuries and external causes</td>\n",
       "      <td>0.811083</td>\n",
       "      <td>32</td>\n",
       "      <td>23</td>\n",
       "    </tr>\n",
       "    <tr>\n",
       "      <th>Respiratory diseases</th>\n",
       "      <td>Respiratory diseases</td>\n",
       "      <td>0.807384</td>\n",
       "      <td>19</td>\n",
       "      <td>15</td>\n",
       "    </tr>\n",
       "    <tr>\n",
       "      <th>Cardiovascular diseases</th>\n",
       "      <td>Cardiovascular diseases</td>\n",
       "      <td>0.781399</td>\n",
       "      <td>31</td>\n",
       "      <td>28</td>\n",
       "    </tr>\n",
       "    <tr>\n",
       "      <th>Gastrointestinal diseases</th>\n",
       "      <td>Gastrointestinal diseases</td>\n",
       "      <td>0.723757</td>\n",
       "      <td>9</td>\n",
       "      <td>10</td>\n",
       "    </tr>\n",
       "    <tr>\n",
       "      <th>Other noncommunicable diseases</th>\n",
       "      <td>Other noncommunicable diseases</td>\n",
       "      <td>0.701620</td>\n",
       "      <td>11</td>\n",
       "      <td>14</td>\n",
       "    </tr>\n",
       "    <tr>\n",
       "      <th>Nervous system diseases</th>\n",
       "      <td>Nervous system diseases</td>\n",
       "      <td>0.694831</td>\n",
       "      <td>33</td>\n",
       "      <td>29</td>\n",
       "    </tr>\n",
       "    <tr>\n",
       "      <th>Nonspecific</th>\n",
       "      <td>Nonspecific</td>\n",
       "      <td>0.436246</td>\n",
       "      <td>19</td>\n",
       "      <td>51</td>\n",
       "    </tr>\n",
       "    <tr>\n",
       "      <th>Pregnancy and childbirth</th>\n",
       "      <td>Pregnancy and childbirth</td>\n",
       "      <td>0.275362</td>\n",
       "      <td>5</td>\n",
       "      <td>2</td>\n",
       "    </tr>\n",
       "  </tbody>\n",
       "</table>\n",
       "</div>"
      ],
      "text/plain": [
       "                                                              category  \\\n",
       "cat                                                                      \n",
       "Neoplasms                                                    Neoplasms   \n",
       "Infections                                                  Infections   \n",
       "Musculoskeletal diseases                      Musculoskeletal diseases   \n",
       "Genitourinary disorders                        Genitourinary disorders   \n",
       "Endocrine diseases                                  Endocrine diseases   \n",
       "Mental and substance use disorders  Mental and substance use disorders   \n",
       "Injuries and external causes              Injuries and external causes   \n",
       "Respiratory diseases                              Respiratory diseases   \n",
       "Cardiovascular diseases                        Cardiovascular diseases   \n",
       "Gastrointestinal diseases                    Gastrointestinal diseases   \n",
       "Other noncommunicable diseases          Other noncommunicable diseases   \n",
       "Nervous system diseases                        Nervous system diseases   \n",
       "Nonspecific                                                Nonspecific   \n",
       "Pregnancy and childbirth                      Pregnancy and childbirth   \n",
       "\n",
       "                                    cohens kappa  dennis count  steven count  \n",
       "cat                                                                           \n",
       "Neoplasms                               0.979169            81            79  \n",
       "Infections                              0.927954            16            14  \n",
       "Musculoskeletal diseases                0.877900            18            18  \n",
       "Genitourinary disorders                 0.871589            19            15  \n",
       "Endocrine diseases                      0.861624            12            11  \n",
       "Mental and substance use disorders      0.825175            16            15  \n",
       "Injuries and external causes            0.811083            32            23  \n",
       "Respiratory diseases                    0.807384            19            15  \n",
       "Cardiovascular diseases                 0.781399            31            28  \n",
       "Gastrointestinal diseases               0.723757             9            10  \n",
       "Other noncommunicable diseases          0.701620            11            14  \n",
       "Nervous system diseases                 0.694831            33            29  \n",
       "Nonspecific                             0.436246            19            51  \n",
       "Pregnancy and childbirth                0.275362             5             2  "
      ]
     },
     "execution_count": 89,
     "metadata": {},
     "output_type": "execute_result"
    }
   ],
   "source": [
    "kappa_df"
   ]
  },
  {
   "cell_type": "code",
   "execution_count": 90,
   "metadata": {},
   "outputs": [
    {
     "data": {
      "text/plain": [
       "0.7553637283841376"
      ]
     },
     "execution_count": 90,
     "metadata": {},
     "output_type": "execute_result"
    }
   ],
   "source": [
    "kappa_df['cohens kappa'].mean()"
   ]
  },
  {
   "cell_type": "markdown",
   "metadata": {},
   "source": [
    "### Calculate Cohen's Kappa (top disease categories)"
   ]
  },
  {
   "cell_type": "code",
   "execution_count": 91,
   "metadata": {},
   "outputs": [
    {
     "data": {
      "text/plain": [
       "0.8202665013944841"
      ]
     },
     "execution_count": 91,
     "metadata": {},
     "output_type": "execute_result"
    }
   ],
   "source": [
    "top = top.fillna('Nonspecific')\n",
    "cohen_kappa_score(top['dennis'],top['steven'])"
   ]
  },
  {
   "cell_type": "markdown",
   "metadata": {},
   "source": [
    "# Resolving discrepancies"
   ]
  },
  {
   "cell_type": "markdown",
   "metadata": {},
   "source": [
    "### Disagreement in primary category"
   ]
  },
  {
   "cell_type": "code",
   "execution_count": 92,
   "metadata": {},
   "outputs": [],
   "source": [
    "def GetTopAgreement(df):    \n",
    "    top_agreement = []\n",
    "    for index,row in df.iterrows():\n",
    "        if row['dennis'] == row['steven']:\n",
    "            top_agreement.append(1)\n",
    "        else:\n",
    "            top_agreement.append(0)\n",
    "    return top_agreement"
   ]
  },
  {
   "cell_type": "code",
   "execution_count": 93,
   "metadata": {},
   "outputs": [],
   "source": [
    "top.loc[:,'agreement'] = GetTopAgreement(top)"
   ]
  },
  {
   "cell_type": "code",
   "execution_count": 94,
   "metadata": {},
   "outputs": [
    {
     "data": {
      "text/html": [
       "<div>\n",
       "<style scoped>\n",
       "    .dataframe tbody tr th:only-of-type {\n",
       "        vertical-align: middle;\n",
       "    }\n",
       "\n",
       "    .dataframe tbody tr th {\n",
       "        vertical-align: top;\n",
       "    }\n",
       "\n",
       "    .dataframe thead th {\n",
       "        text-align: right;\n",
       "    }\n",
       "</style>\n",
       "<table border=\"1\" class=\"dataframe\">\n",
       "  <thead>\n",
       "    <tr style=\"text-align: right;\">\n",
       "      <th></th>\n",
       "      <th>url</th>\n",
       "      <th>qcat</th>\n",
       "      <th>dennis</th>\n",
       "      <th>steven</th>\n",
       "      <th>round</th>\n",
       "      <th>agreement</th>\n",
       "    </tr>\n",
       "  </thead>\n",
       "  <tbody>\n",
       "    <tr>\n",
       "      <th>36</th>\n",
       "      <td>https://www.gofundme.com/f/help-me-see-your-world</td>\n",
       "      <td>top</td>\n",
       "      <td>Other noncommunicable diseases</td>\n",
       "      <td>Nervous system diseases</td>\n",
       "      <td>3</td>\n",
       "      <td>0</td>\n",
       "    </tr>\n",
       "    <tr>\n",
       "      <th>48</th>\n",
       "      <td>https://www.gofundme.com/f/nbpzd4</td>\n",
       "      <td>top</td>\n",
       "      <td>Gastrointestinal diseases</td>\n",
       "      <td>Respiratory diseases</td>\n",
       "      <td>3</td>\n",
       "      <td>0</td>\n",
       "    </tr>\n",
       "    <tr>\n",
       "      <th>72</th>\n",
       "      <td>https://www.gofundme.com/f/i2hr7g</td>\n",
       "      <td>top</td>\n",
       "      <td>Genitourinary disorders</td>\n",
       "      <td>Cardiovascular diseases</td>\n",
       "      <td>3</td>\n",
       "      <td>0</td>\n",
       "    </tr>\n",
       "    <tr>\n",
       "      <th>150</th>\n",
       "      <td>https://www.gofundme.com/f/meals-for-healthcar...</td>\n",
       "      <td>top</td>\n",
       "      <td>Respiratory diseases</td>\n",
       "      <td>Nonspecific</td>\n",
       "      <td>3</td>\n",
       "      <td>0</td>\n",
       "    </tr>\n",
       "    <tr>\n",
       "      <th>21</th>\n",
       "      <td>https://www.gofundme.com/f/22kcir7teo</td>\n",
       "      <td>top</td>\n",
       "      <td>Genitourinary disorders</td>\n",
       "      <td>Infections</td>\n",
       "      <td>4</td>\n",
       "      <td>0</td>\n",
       "    </tr>\n",
       "    <tr>\n",
       "      <th>84</th>\n",
       "      <td>https://www.gofundme.com/f/bre039s-transplant</td>\n",
       "      <td>top</td>\n",
       "      <td>Genitourinary disorders</td>\n",
       "      <td>Musculoskeletal diseases</td>\n",
       "      <td>4</td>\n",
       "      <td>0</td>\n",
       "    </tr>\n",
       "    <tr>\n",
       "      <th>111</th>\n",
       "      <td>https://www.gofundme.com/f/ceiling-hoist-lift-...</td>\n",
       "      <td>top</td>\n",
       "      <td>Injuries and external causes</td>\n",
       "      <td>Other noncommunicable diseases</td>\n",
       "      <td>4</td>\n",
       "      <td>0</td>\n",
       "    </tr>\n",
       "    <tr>\n",
       "      <th>117</th>\n",
       "      <td>https://www.gofundme.com/f/support-for-twins-c...</td>\n",
       "      <td>top</td>\n",
       "      <td>Pregnancy and childbirth</td>\n",
       "      <td>Other noncommunicable diseases</td>\n",
       "      <td>4</td>\n",
       "      <td>0</td>\n",
       "    </tr>\n",
       "    <tr>\n",
       "      <th>120</th>\n",
       "      <td>https://www.gofundme.com/f/the-jon-neal-fund</td>\n",
       "      <td>top</td>\n",
       "      <td>Mental and substance use disorders</td>\n",
       "      <td>Neoplasms</td>\n",
       "      <td>4</td>\n",
       "      <td>0</td>\n",
       "    </tr>\n",
       "    <tr>\n",
       "      <th>153</th>\n",
       "      <td>https://www.gofundme.com/f/q2nr88</td>\n",
       "      <td>top</td>\n",
       "      <td>Injuries and external causes</td>\n",
       "      <td>Infections</td>\n",
       "      <td>4</td>\n",
       "      <td>0</td>\n",
       "    </tr>\n",
       "    <tr>\n",
       "      <th>165</th>\n",
       "      <td>https://www.gofundme.com/f/jazerispath</td>\n",
       "      <td>top</td>\n",
       "      <td>Neoplasms</td>\n",
       "      <td>Infections</td>\n",
       "      <td>4</td>\n",
       "      <td>0</td>\n",
       "    </tr>\n",
       "    <tr>\n",
       "      <th>66</th>\n",
       "      <td>https://www.gofundme.com/f/e2km2k-your-help-wi...</td>\n",
       "      <td>top</td>\n",
       "      <td>Mental and substance use disorders</td>\n",
       "      <td>Cardiovascular diseases</td>\n",
       "      <td>5</td>\n",
       "      <td>0</td>\n",
       "    </tr>\n",
       "    <tr>\n",
       "      <th>93</th>\n",
       "      <td>https://www.gofundme.com/f/fight-matty-fight</td>\n",
       "      <td>top</td>\n",
       "      <td>Injuries and external causes</td>\n",
       "      <td>Respiratory diseases</td>\n",
       "      <td>5</td>\n",
       "      <td>0</td>\n",
       "    </tr>\n",
       "    <tr>\n",
       "      <th>99</th>\n",
       "      <td>https://www.gofundme.com/f/ron-brooms-medical-...</td>\n",
       "      <td>top</td>\n",
       "      <td>Cardiovascular diseases</td>\n",
       "      <td>Nonspecific</td>\n",
       "      <td>5</td>\n",
       "      <td>0</td>\n",
       "    </tr>\n",
       "    <tr>\n",
       "      <th>105</th>\n",
       "      <td>https://www.gofundme.com/f/shane-blanchard039s...</td>\n",
       "      <td>top</td>\n",
       "      <td>Nonspecific</td>\n",
       "      <td>Infections</td>\n",
       "      <td>5</td>\n",
       "      <td>0</td>\n",
       "    </tr>\n",
       "    <tr>\n",
       "      <th>126</th>\n",
       "      <td>https://www.gofundme.com/f/langhausen-medical-...</td>\n",
       "      <td>top</td>\n",
       "      <td>Nervous system diseases</td>\n",
       "      <td>Cardiovascular diseases</td>\n",
       "      <td>5</td>\n",
       "      <td>0</td>\n",
       "    </tr>\n",
       "    <tr>\n",
       "      <th>156</th>\n",
       "      <td>https://www.gofundme.com/f/bailey-finch-medica...</td>\n",
       "      <td>top</td>\n",
       "      <td>Cardiovascular diseases</td>\n",
       "      <td>Nonspecific</td>\n",
       "      <td>5</td>\n",
       "      <td>0</td>\n",
       "    </tr>\n",
       "    <tr>\n",
       "      <th>159</th>\n",
       "      <td>https://www.gofundme.com/f/urgent-gastrostomy</td>\n",
       "      <td>top</td>\n",
       "      <td>Gastrointestinal diseases</td>\n",
       "      <td>Endocrine diseases</td>\n",
       "      <td>5</td>\n",
       "      <td>0</td>\n",
       "    </tr>\n",
       "    <tr>\n",
       "      <th>16</th>\n",
       "      <td>https://www.gofundme.com/f/7t39wo</td>\n",
       "      <td>top</td>\n",
       "      <td>Cardiovascular diseases</td>\n",
       "      <td>Other noncommunicable diseases</td>\n",
       "      <td>6</td>\n",
       "      <td>0</td>\n",
       "    </tr>\n",
       "    <tr>\n",
       "      <th>22</th>\n",
       "      <td>https://www.gofundme.com/f/vpugwz-dentist-bill</td>\n",
       "      <td>top</td>\n",
       "      <td>Injuries and external causes</td>\n",
       "      <td>Gastrointestinal diseases</td>\n",
       "      <td>6</td>\n",
       "      <td>0</td>\n",
       "    </tr>\n",
       "    <tr>\n",
       "      <th>37</th>\n",
       "      <td>https://www.gofundme.com/f/undying-love-for-ou...</td>\n",
       "      <td>top</td>\n",
       "      <td>Respiratory diseases</td>\n",
       "      <td>Cardiovascular diseases</td>\n",
       "      <td>6</td>\n",
       "      <td>0</td>\n",
       "    </tr>\n",
       "    <tr>\n",
       "      <th>49</th>\n",
       "      <td>https://www.gofundme.com/f/TeamDanica-Monica</td>\n",
       "      <td>top</td>\n",
       "      <td>Musculoskeletal diseases</td>\n",
       "      <td>Nervous system diseases</td>\n",
       "      <td>6</td>\n",
       "      <td>0</td>\n",
       "    </tr>\n",
       "    <tr>\n",
       "      <th>70</th>\n",
       "      <td>https://www.gofundme.com/f/3r332gm8</td>\n",
       "      <td>top</td>\n",
       "      <td>Pregnancy and childbirth</td>\n",
       "      <td>Nervous system diseases</td>\n",
       "      <td>6</td>\n",
       "      <td>0</td>\n",
       "    </tr>\n",
       "    <tr>\n",
       "      <th>76</th>\n",
       "      <td>https://www.gofundme.com/f/650z2eo</td>\n",
       "      <td>top</td>\n",
       "      <td>Endocrine diseases</td>\n",
       "      <td>Other noncommunicable diseases</td>\n",
       "      <td>6</td>\n",
       "      <td>0</td>\n",
       "    </tr>\n",
       "    <tr>\n",
       "      <th>82</th>\n",
       "      <td>https://www.gofundme.com/f/supermancoltonsmit</td>\n",
       "      <td>top</td>\n",
       "      <td>Cardiovascular diseases</td>\n",
       "      <td>Nervous system diseases</td>\n",
       "      <td>6</td>\n",
       "      <td>0</td>\n",
       "    </tr>\n",
       "    <tr>\n",
       "      <th>88</th>\n",
       "      <td>https://www.gofundme.com/f/xny684</td>\n",
       "      <td>top</td>\n",
       "      <td>Endocrine diseases</td>\n",
       "      <td>Nonspecific</td>\n",
       "      <td>6</td>\n",
       "      <td>0</td>\n",
       "    </tr>\n",
       "    <tr>\n",
       "      <th>94</th>\n",
       "      <td>https://www.gofundme.com/f/please-help-debbie-...</td>\n",
       "      <td>top</td>\n",
       "      <td>Neoplasms</td>\n",
       "      <td>Nonspecific</td>\n",
       "      <td>6</td>\n",
       "      <td>0</td>\n",
       "    </tr>\n",
       "    <tr>\n",
       "      <th>103</th>\n",
       "      <td>https://www.gofundme.com/f/Mizmig</td>\n",
       "      <td>top</td>\n",
       "      <td>Musculoskeletal diseases</td>\n",
       "      <td>Nonspecific</td>\n",
       "      <td>6</td>\n",
       "      <td>0</td>\n",
       "    </tr>\n",
       "    <tr>\n",
       "      <th>127</th>\n",
       "      <td>https://www.gofundme.com/f/5pbs50</td>\n",
       "      <td>top</td>\n",
       "      <td>Injuries and external causes</td>\n",
       "      <td>Musculoskeletal diseases</td>\n",
       "      <td>6</td>\n",
       "      <td>0</td>\n",
       "    </tr>\n",
       "  </tbody>\n",
       "</table>\n",
       "</div>"
      ],
      "text/plain": [
       "                                                   url qcat  \\\n",
       "36   https://www.gofundme.com/f/help-me-see-your-world  top   \n",
       "48                   https://www.gofundme.com/f/nbpzd4  top   \n",
       "72                   https://www.gofundme.com/f/i2hr7g  top   \n",
       "150  https://www.gofundme.com/f/meals-for-healthcar...  top   \n",
       "21               https://www.gofundme.com/f/22kcir7teo  top   \n",
       "84       https://www.gofundme.com/f/bre039s-transplant  top   \n",
       "111  https://www.gofundme.com/f/ceiling-hoist-lift-...  top   \n",
       "117  https://www.gofundme.com/f/support-for-twins-c...  top   \n",
       "120       https://www.gofundme.com/f/the-jon-neal-fund  top   \n",
       "153                  https://www.gofundme.com/f/q2nr88  top   \n",
       "165             https://www.gofundme.com/f/jazerispath  top   \n",
       "66   https://www.gofundme.com/f/e2km2k-your-help-wi...  top   \n",
       "93        https://www.gofundme.com/f/fight-matty-fight  top   \n",
       "99   https://www.gofundme.com/f/ron-brooms-medical-...  top   \n",
       "105  https://www.gofundme.com/f/shane-blanchard039s...  top   \n",
       "126  https://www.gofundme.com/f/langhausen-medical-...  top   \n",
       "156  https://www.gofundme.com/f/bailey-finch-medica...  top   \n",
       "159      https://www.gofundme.com/f/urgent-gastrostomy  top   \n",
       "16                   https://www.gofundme.com/f/7t39wo  top   \n",
       "22      https://www.gofundme.com/f/vpugwz-dentist-bill  top   \n",
       "37   https://www.gofundme.com/f/undying-love-for-ou...  top   \n",
       "49        https://www.gofundme.com/f/TeamDanica-Monica  top   \n",
       "70                 https://www.gofundme.com/f/3r332gm8  top   \n",
       "76                  https://www.gofundme.com/f/650z2eo  top   \n",
       "82       https://www.gofundme.com/f/supermancoltonsmit  top   \n",
       "88                   https://www.gofundme.com/f/xny684  top   \n",
       "94   https://www.gofundme.com/f/please-help-debbie-...  top   \n",
       "103                  https://www.gofundme.com/f/Mizmig  top   \n",
       "127                  https://www.gofundme.com/f/5pbs50  top   \n",
       "\n",
       "                                 dennis                          steven  \\\n",
       "36       Other noncommunicable diseases         Nervous system diseases   \n",
       "48            Gastrointestinal diseases            Respiratory diseases   \n",
       "72              Genitourinary disorders         Cardiovascular diseases   \n",
       "150                Respiratory diseases                     Nonspecific   \n",
       "21              Genitourinary disorders                      Infections   \n",
       "84              Genitourinary disorders        Musculoskeletal diseases   \n",
       "111        Injuries and external causes  Other noncommunicable diseases   \n",
       "117            Pregnancy and childbirth  Other noncommunicable diseases   \n",
       "120  Mental and substance use disorders                       Neoplasms   \n",
       "153        Injuries and external causes                      Infections   \n",
       "165                           Neoplasms                      Infections   \n",
       "66   Mental and substance use disorders         Cardiovascular diseases   \n",
       "93         Injuries and external causes            Respiratory diseases   \n",
       "99              Cardiovascular diseases                     Nonspecific   \n",
       "105                         Nonspecific                      Infections   \n",
       "126             Nervous system diseases         Cardiovascular diseases   \n",
       "156             Cardiovascular diseases                     Nonspecific   \n",
       "159           Gastrointestinal diseases              Endocrine diseases   \n",
       "16              Cardiovascular diseases  Other noncommunicable diseases   \n",
       "22         Injuries and external causes       Gastrointestinal diseases   \n",
       "37                 Respiratory diseases         Cardiovascular diseases   \n",
       "49             Musculoskeletal diseases         Nervous system diseases   \n",
       "70             Pregnancy and childbirth         Nervous system diseases   \n",
       "76                   Endocrine diseases  Other noncommunicable diseases   \n",
       "82              Cardiovascular diseases         Nervous system diseases   \n",
       "88                   Endocrine diseases                     Nonspecific   \n",
       "94                            Neoplasms                     Nonspecific   \n",
       "103            Musculoskeletal diseases                     Nonspecific   \n",
       "127        Injuries and external causes        Musculoskeletal diseases   \n",
       "\n",
       "     round  agreement  \n",
       "36       3          0  \n",
       "48       3          0  \n",
       "72       3          0  \n",
       "150      3          0  \n",
       "21       4          0  \n",
       "84       4          0  \n",
       "111      4          0  \n",
       "117      4          0  \n",
       "120      4          0  \n",
       "153      4          0  \n",
       "165      4          0  \n",
       "66       5          0  \n",
       "93       5          0  \n",
       "99       5          0  \n",
       "105      5          0  \n",
       "126      5          0  \n",
       "156      5          0  \n",
       "159      5          0  \n",
       "16       6          0  \n",
       "22       6          0  \n",
       "37       6          0  \n",
       "49       6          0  \n",
       "70       6          0  \n",
       "76       6          0  \n",
       "82       6          0  \n",
       "88       6          0  \n",
       "94       6          0  \n",
       "103      6          0  \n",
       "127      6          0  "
      ]
     },
     "execution_count": 94,
     "metadata": {},
     "output_type": "execute_result"
    }
   ],
   "source": [
    "top[top['agreement'] == 0]"
   ]
  },
  {
   "cell_type": "markdown",
   "metadata": {},
   "source": [
    "### Disagreement in any category"
   ]
  },
  {
   "cell_type": "code",
   "execution_count": 95,
   "metadata": {},
   "outputs": [],
   "source": [
    "def GetAnyDisagreement(d, s):\n",
    "    r = []\n",
    "    for i in range(len(d)):\n",
    "        if d.iloc[i,:].tolist() == s.iloc[i,:].tolist():\n",
    "            r.append(1)\n",
    "        else:\n",
    "            r.append(0)\n",
    "    return r"
   ]
  },
  {
   "cell_type": "code",
   "execution_count": 96,
   "metadata": {},
   "outputs": [],
   "source": [
    "dennis_pivot.loc[:,'agreement'] = GetAnyDisagreement(dennis_pivot, steven_pivot)"
   ]
  },
  {
   "cell_type": "code",
   "execution_count": 97,
   "metadata": {},
   "outputs": [
    {
     "data": {
      "text/plain": [
       "1    133\n",
       "0     67\n",
       "Name: agreement, dtype: int64"
      ]
     },
     "execution_count": 97,
     "metadata": {},
     "output_type": "execute_result"
    }
   ],
   "source": [
    "dennis_pivot['agreement'].value_counts()"
   ]
  },
  {
   "cell_type": "markdown",
   "metadata": {},
   "source": [
    "### Make survey to review"
   ]
  },
  {
   "cell_type": "code",
   "execution_count": 98,
   "metadata": {},
   "outputs": [],
   "source": [
    "def GetURLs(d, top):\n",
    "    \n",
    "    #define results containers\n",
    "    any_and_top = []\n",
    "    any_only = []\n",
    "    \n",
    "    #subset data\n",
    "    d = d[d['agreement'] == 0]\n",
    "    top = top[top['agreement'] == 0]\n",
    "    \n",
    "    #loop through disagreements\n",
    "    for index, row in d.iterrows():\n",
    "        #check if url is also in top disagreements\n",
    "        if top['url'].str.contains(row['url']).any():\n",
    "            any_and_top.append(row['url'])\n",
    "        else:\n",
    "            any_only.append(row['url'])\n",
    "    \n",
    "    return any_and_top, any_only"
   ]
  },
  {
   "cell_type": "code",
   "execution_count": 99,
   "metadata": {},
   "outputs": [],
   "source": [
    "any_and_top, any_only = GetURLs(dennis_pivot.reset_index(), top)"
   ]
  },
  {
   "cell_type": "code",
   "execution_count": 100,
   "metadata": {},
   "outputs": [],
   "source": [
    "top_only = top[top['agreement'] == 0]['url'][~top[top['agreement'] == 0]['url'].isin(any_and_top)].tolist()"
   ]
  },
  {
   "cell_type": "markdown",
   "metadata": {},
   "source": [
    "### Import campaign data to populate questions"
   ]
  },
  {
   "cell_type": "code",
   "execution_count": 101,
   "metadata": {},
   "outputs": [],
   "source": [
    "conn = sqlite3.connect(\"gfm.db\")\n",
    "feed = pd.read_sql_query(\"SELECT url, fund_description FROM feed_tb\", conn)"
   ]
  },
  {
   "cell_type": "code",
   "execution_count": 102,
   "metadata": {},
   "outputs": [],
   "source": [
    "feed = feed.drop_duplicates('url')\n",
    "feed['fund_description'] = [x.replace('\\n','') for x in feed['fund_description']]\n",
    "feed['nchar']= [len(x) for x in feed['fund_description']]\n",
    "feed = feed[feed['nchar'] >= 100]"
   ]
  },
  {
   "cell_type": "code",
   "execution_count": 103,
   "metadata": {},
   "outputs": [],
   "source": [
    "def GetLanguage(df):\n",
    "    path_to_pretrained_model = 'fasttext_models/lid.176.bin'\n",
    "    fmodel = fasttext.load_model(path_to_pretrained_model)\n",
    "    r = fmodel.predict(feed['fund_description'].to_list())\n",
    "    labels = r[0]\n",
    "    labels = [i[0].split('__')[2] for i in labels]\n",
    "    scores = r[1]\n",
    "    scores = [i[0] for i in scores]\n",
    "    return labels, scores"
   ]
  },
  {
   "cell_type": "code",
   "execution_count": 104,
   "metadata": {},
   "outputs": [
    {
     "name": "stderr",
     "output_type": "stream",
     "text": [
      "Warning : `load_model` does not return WordVectorModel or SupervisedModel any more, but a `FastText` object which is very similar.\n"
     ]
    }
   ],
   "source": [
    "feed['language'], feed['lang_score'] = GetLanguage(feed)"
   ]
  },
  {
   "cell_type": "code",
   "execution_count": 105,
   "metadata": {},
   "outputs": [],
   "source": [
    "feed = feed[feed['language'] == 'en']"
   ]
  },
  {
   "cell_type": "code",
   "execution_count": 106,
   "metadata": {},
   "outputs": [
    {
     "data": {
      "text/plain": [
       "89676"
      ]
     },
     "execution_count": 106,
     "metadata": {},
     "output_type": "execute_result"
    }
   ],
   "source": [
    "len(feed)"
   ]
  },
  {
   "cell_type": "markdown",
   "metadata": {},
   "source": [
    "### Check that urls are correct"
   ]
  },
  {
   "cell_type": "code",
   "execution_count": 107,
   "metadata": {},
   "outputs": [
    {
     "name": "stdout",
     "output_type": "stream",
     "text": [
      "[True, True, True, True, True, True]\n"
     ]
    }
   ],
   "source": [
    "r = []\n",
    "for url in top_only:\n",
    "    r.append(feed['url'].str.contains(url).any())\n",
    "print(r)"
   ]
  },
  {
   "cell_type": "code",
   "execution_count": 108,
   "metadata": {},
   "outputs": [
    {
     "name": "stdout",
     "output_type": "stream",
     "text": [
      "[True, True, True, True, True, True, True, True, True, False, True, True, True, True, True, True, True, True, True, True, True, True, True]\n"
     ]
    }
   ],
   "source": [
    "r = []\n",
    "for url in any_and_top:\n",
    "    r.append(feed['url'].str.contains(url).any())\n",
    "print(r)"
   ]
  },
  {
   "cell_type": "code",
   "execution_count": 109,
   "metadata": {},
   "outputs": [
    {
     "data": {
      "text/plain": [
       "'https://www.gofundme.com/f/ceiling-hoist-lift-care-system-for-tucker-thigpe...'"
      ]
     },
     "execution_count": 109,
     "metadata": {},
     "output_type": "execute_result"
    }
   ],
   "source": [
    "any_and_top[9]"
   ]
  },
  {
   "cell_type": "code",
   "execution_count": 110,
   "metadata": {},
   "outputs": [],
   "source": [
    "from rapidfuzz import fuzz\n",
    "from rapidfuzz import process"
   ]
  },
  {
   "cell_type": "code",
   "execution_count": 111,
   "metadata": {},
   "outputs": [
    {
     "data": {
      "text/plain": [
       "('https://www.gofundme.com/f/ceiling-hoist-lift-care-system-for-tucker-thigpen',\n",
       " 99.33774834437087,\n",
       " 23139)"
      ]
     },
     "execution_count": 111,
     "metadata": {},
     "output_type": "execute_result"
    }
   ],
   "source": [
    "process.extractOne(any_and_top[9], feed['url'].tolist())"
   ]
  },
  {
   "cell_type": "code",
   "execution_count": 112,
   "metadata": {},
   "outputs": [],
   "source": [
    "any_and_top[9] = 'https://www.gofundme.com/f/ceiling-hoist-lift-care-system-for-tucker-thigpen'"
   ]
  },
  {
   "cell_type": "code",
   "execution_count": 113,
   "metadata": {},
   "outputs": [],
   "source": [
    "m['url'] = m['url'].replace({'https://www.gofundme.com/f/ceiling-hoist-lift-care-system-for-tucker-thigpe':'https://www.gofundme.com/f/ceiling-hoist-lift-care-system-for-tucker-thigpen'})"
   ]
  },
  {
   "cell_type": "code",
   "execution_count": 114,
   "metadata": {},
   "outputs": [],
   "source": [
    "top['url'] = top['url'].replace({'https://www.gofundme.com/f/ceiling-hoist-lift-care-system-for-tucker-thigpe':'https://www.gofundme.com/f/ceiling-hoist-lift-care-system-for-tucker-thigpen'})"
   ]
  },
  {
   "cell_type": "code",
   "execution_count": 115,
   "metadata": {},
   "outputs": [
    {
     "name": "stdout",
     "output_type": "stream",
     "text": [
      "[True, True, True, True, True, True, True, True, True, True, True, True, True, True, True, True, True, True, True, True, True, True, True]\n"
     ]
    }
   ],
   "source": [
    "r = []\n",
    "for url in any_and_top:\n",
    "    r.append(feed['url'].str.contains(url).any())\n",
    "print(r)"
   ]
  },
  {
   "cell_type": "code",
   "execution_count": 116,
   "metadata": {},
   "outputs": [
    {
     "name": "stdout",
     "output_type": "stream",
     "text": [
      "[True, True, True, True, True, True, True, True, True, True, True, True, True, True, True, True, True, True, True, True, True, True, True, True, True, True, True, True, True, True, True, True, True, True, True, True, True, True, True, True, True, True, True, True]\n"
     ]
    }
   ],
   "source": [
    "r = []\n",
    "for url in any_only:\n",
    "    r.append(feed['url'].str.contains(url).any())\n",
    "print(r)"
   ]
  },
  {
   "cell_type": "markdown",
   "metadata": {},
   "source": [
    "### Make Survey"
   ]
  },
  {
   "cell_type": "code",
   "execution_count": 117,
   "metadata": {},
   "outputs": [],
   "source": [
    "def MakeSurvey(l, feed, l_type, top, m):\n",
    "    df = feed[feed['url'].isin(l)]\n",
    "    results = []\n",
    "    for index, row in df.iterrows():\n",
    "        print(row['url'])\n",
    "        if l_type == 'top_only':\n",
    "            header = 'TOP [X], ANY [], BOTH []'\n",
    "            dennis =  top[top['url'] == row['url']]['dennis'].tolist()[0]\n",
    "            steven =  top[top['url'] == row['url']]['steven'].tolist()[0]\n",
    "        if l_type == 'any_only':\n",
    "            header = 'TOP [], ANY [X], BOTH []'\n",
    "            dennis = m[m['url'] == row['url']]['dennis'].tolist()[0]\n",
    "            steven =  m[m['url'] == row['url']]['steven'].tolist()[0]\n",
    "        if l_type == 'any_and_top':\n",
    "            header = 'TOP [], ANY [], BOTH [X]'\n",
    "            dennis_top = top[top['url'] == row['url']]['dennis'].tolist()[0]\n",
    "            dennis_any = m[m['url'] == row['url']]['dennis'].tolist()[0]\n",
    "            dennis_notes = m[m['url'] == row['url']]['dennis'].tolist()[2]\n",
    "            steven_top = top[top['url'] == row['url']]['steven'].tolist()[0]\n",
    "            steven_any = m[m['url'] == row['url']]['steven'].tolist()[0]\n",
    "            steven_notes = m[m['url'] == row['url']]['dennis'].tolist()[2]\n",
    "        \n",
    "        \n",
    "        doc = '''\n",
    "        [[AdvancedFormat]]\n",
    "\n",
    "        [[Block:{0}]]\n",
    "        \n",
    "\n",
    "        [[Question:MC:MultipleAnswer:Vertical]]\n",
    "        [[ID:{0}__base]]\n",
    "        Disagreement: {1}\n",
    "        <br />\n",
    "        Dennis top: {2}\n",
    "        <br />\n",
    "        Dennis any: {3}\n",
    "        <br />\n",
    "        Dennis notes: {4}\n",
    "        <br />\n",
    "        <br />\n",
    "        Steven top: {5}\n",
    "        <br />\n",
    "        Steven any: {6}\n",
    "        <br />\n",
    "        Steven notes: {7}\n",
    "        <br />\n",
    "        <br />\n",
    "        \n",
    "        \n",
    "        {8}\n",
    "\n",
    "        <br />\n",
    "        <br />\n",
    "        ------------------------------------------------\n",
    "        <br />\n",
    "        ------------------------------------------------\n",
    "        <br />\n",
    "        Please select all disease categories represented.\n",
    "        [[Choices]]\n",
    "        Cardiovascular diseases\n",
    "        Endocrine diseases\n",
    "        Gastrointestinal diseases\n",
    "        Genitourinary disorders\n",
    "        Infections\n",
    "        Injuries and external causes\n",
    "        Mental and substance use disorders\n",
    "        Musculoskeletal diseases\n",
    "        Neoplasms\n",
    "        Nervous system diseases\n",
    "        Nonspecific\n",
    "        Other noncommunicable diseases\n",
    "        Pregnancy and childbirth\n",
    "        Respiratory diseases\n",
    "\n",
    "        [[Question:MC:SingleAnswer:Vertical]]\n",
    "        [[ID:{0}__top]]\n",
    "        Please select the primary disease category.\n",
    "        [[Choices]]\n",
    "        Cardiovascular diseases\n",
    "        Endocrine diseases\n",
    "        Gastrointestinal diseases\n",
    "        Genitourinary disorders\n",
    "        Infections\n",
    "        Injuries and external causes\n",
    "        Mental and substance use disorders\n",
    "        Musculoskeletal diseases\n",
    "        Neoplasms\n",
    "        Nervous system diseases\n",
    "        Nonspecific\n",
    "        Other noncommunicable diseases\n",
    "        Pregnancy and childbirth\n",
    "        Respiratory diseases\n",
    "\n",
    "        [[Question:TE]]\n",
    "        [[ID:{0}__NOTES]]\n",
    "        Please make any notes below.\n",
    "\n",
    "        [[PageBreak]]\n",
    "\n",
    "        '''.format(row['url'],\n",
    "                   header,\n",
    "                   dennis_top,\n",
    "                   dennis_any,\n",
    "                   dennis_notes,\n",
    "                   steven_top,\n",
    "                   steven_any,\n",
    "                   steven_notes,\n",
    "                   row['fund_description'] \n",
    "                   )\n",
    "        results.append(doc)\n",
    "        \n",
    "        \n",
    "        doc = \"\\n\".join(results)\n",
    "        \n",
    "        with open(\"Manual_review/{0}.txt\".format(l_type), \"w\") as text_file:\n",
    "            text_file.write(doc)\n",
    "        \n",
    "    return print('all done')"
   ]
  },
  {
   "cell_type": "code",
   "execution_count": 118,
   "metadata": {},
   "outputs": [],
   "source": [
    "#old function format\n",
    "#MakeSurvey(top_only, feed, 'top_only', top, m)"
   ]
  },
  {
   "cell_type": "code",
   "execution_count": 119,
   "metadata": {},
   "outputs": [],
   "source": [
    "#old function format\n",
    "#MakeSurvey(any_only, feed, 'any_only', top, m)"
   ]
  },
  {
   "cell_type": "markdown",
   "metadata": {},
   "source": [
    "# Compile final reference set"
   ]
  },
  {
   "cell_type": "markdown",
   "metadata": {},
   "source": [
    "### Import data from qualtrics review of discrepancies"
   ]
  },
  {
   "cell_type": "code",
   "execution_count": 173,
   "metadata": {},
   "outputs": [],
   "source": [
    "resolved_top_only = pd.read_excel('Manual_Review/resolving_discrepancies/resolving_discrepancies_master.xlsx', sheet_name='top_only', header=None)\n",
    "resolved_any_only = pd.read_excel('Manual_Review/resolving_discrepancies/resolving_discrepancies_master.xlsx', sheet_name='any_only', header=None)\n",
    "resolved_any_and_top = pd.read_excel('Manual_Review/resolving_discrepancies/resolving_discrepancies_master.xlsx', sheet_name='any_and_top', header=None)"
   ]
  },
  {
   "cell_type": "markdown",
   "metadata": {},
   "source": [
    "### Clean data"
   ]
  },
  {
   "cell_type": "code",
   "execution_count": 174,
   "metadata": {},
   "outputs": [],
   "source": [
    "#rename columns\n",
    "resolved_top_only.columns = ['qid','header','resp']\n",
    "resolved_any_only.columns = ['qid','header','resp']\n",
    "resolved_any_and_top.columns = ['qid','header','resp']"
   ]
  },
  {
   "cell_type": "code",
   "execution_count": 175,
   "metadata": {},
   "outputs": [],
   "source": [
    "#extract url from header\n",
    "resolved_top_only.loc[:,'url'] = [x.split(' - ')[0].split('__')[0] for x in resolved_top_only['header']]\n",
    "resolved_any_only.loc[:,'url'] = [x.split(' - ')[0].split('__')[0] for x in resolved_any_only['header']]\n",
    "resolved_any_and_top.loc[:,'url'] = [x.split(' - ')[0].split('__')[0] for x in resolved_any_and_top['header']]"
   ]
  },
  {
   "cell_type": "code",
   "execution_count": 176,
   "metadata": {},
   "outputs": [
    {
     "name": "stdout",
     "output_type": "stream",
     "text": [
      "(18, 4)\n",
      "(132, 4)\n",
      "(69, 4)\n"
     ]
    }
   ],
   "source": [
    "print(resolved_top_only.shape)\n",
    "print(resolved_any_only.shape)\n",
    "print(resolved_any_and_top.shape)"
   ]
  },
  {
   "cell_type": "code",
   "execution_count": 177,
   "metadata": {},
   "outputs": [],
   "source": [
    "#add question category\n",
    "resolved_top_only.loc[:,'cat'] = ['base','top','NOTES'] * int(18/3)\n",
    "resolved_any_only.loc[:,'cat'] = ['base','top','NOTES'] * int(132/3)\n",
    "resolved_any_and_top.loc[:,'cat'] = ['base','top','NOTES'] * int(69/3)"
   ]
  },
  {
   "cell_type": "markdown",
   "metadata": {},
   "source": [
    "### Check that urls in each resolved category are unique"
   ]
  },
  {
   "cell_type": "code",
   "execution_count": 207,
   "metadata": {},
   "outputs": [
    {
     "name": "stdout",
     "output_type": "stream",
     "text": [
      "6\n",
      "44\n",
      "23\n",
      "6\n",
      "44\n",
      "23\n"
     ]
    }
   ],
   "source": [
    "print(len(top_only))\n",
    "print(len(any_only))\n",
    "print(len(any_and_top))\n",
    "\n",
    "print(resolved_top_only['url'].nunique())\n",
    "print(resolved_any_only['url'].nunique())\n",
    "print(resolved_any_and_top['url'].nunique())"
   ]
  },
  {
   "cell_type": "code",
   "execution_count": 215,
   "metadata": {},
   "outputs": [
    {
     "name": "stdout",
     "output_type": "stream",
     "text": [
      "0\n",
      "0\n",
      "0\n"
     ]
    }
   ],
   "source": [
    "print(sum([resolved_top_only['url'].str.contains(x).any() for x in resolved_any_only['url'].unique()]))\n",
    "print(sum([resolved_top_only['url'].str.contains(x).any() for x in resolved_any_and_top['url'].unique()]))\n",
    "print(sum([resolved_any_only['url'].str.contains(x).any() for x in resolved_any_and_top['url'].unique()]))"
   ]
  },
  {
   "cell_type": "markdown",
   "metadata": {},
   "source": [
    "### Build new reference"
   ]
  },
  {
   "cell_type": "code",
   "execution_count": 236,
   "metadata": {},
   "outputs": [],
   "source": [
    "#define function to build new reference set\n",
    "def BuildReference(m, t, a, at):\n",
    "    '''\n",
    "    Inputs:\n",
    "        m = as above, merged responses between dennis and steven\n",
    "            (this will serve as the base, replace resolved discrepancies as needed)\n",
    "        t = resolved_top_only\n",
    "        a = resolved_any_only\n",
    "        at = resolved_any_and_top\n",
    "    '''\n",
    "    \n",
    "    #define results container\n",
    "    r = []\n",
    "    \n",
    "    #loop through unique urls in m\n",
    "    for url in m['url'].unique():\n",
    "        \n",
    "        #subset base data\n",
    "        df = m[m['url'] == url]\n",
    "        df = df.reset_index()\n",
    "\n",
    "        if t['url'].str.contains(url).any():\n",
    "            \n",
    "            \n",
    "            \n",
    "            #susbet top data\n",
    "            t_ = t[t['url'] == url]\n",
    "            t_ = t_.reset_index()\n",
    "            \n",
    "            #get new value from resolved data\n",
    "            new_value = t_[t_['url'] == url].iloc[1]['resp']\n",
    "            \n",
    "            #add resolved response to working base data\n",
    "            df.at[1, 'steven'] = new_value\n",
    "            \n",
    "            #append results\n",
    "            r.append(df)\n",
    "            \n",
    "        elif a['url'].str.contains(url).any():\n",
    "            \n",
    "            \n",
    "            \n",
    "            #susbet any data\n",
    "            a_ = a[a['url'] == url]\n",
    "            a_ = a_.reset_index()\n",
    "            \n",
    "            #get new value from resolved data\n",
    "            new_value = a_[a_['url'] == url].iloc[0]['resp']\n",
    "            \n",
    "            #add resolved response to working base data\n",
    "            df.at[0, 'steven'] = new_value\n",
    "            \n",
    "            #append results\n",
    "            r.append(df)\n",
    "            \n",
    "        elif at['url'].str.contains(url).any():\n",
    "            \n",
    "            \n",
    "            #susbet top data\n",
    "            at_ = at[at['url'] == url]\n",
    "            at_ = at_.reset_index()\n",
    "            \n",
    "            #get new value from resolved data\n",
    "            new_value_any = at_[at_['url'] == url].iloc[0]['resp']\n",
    "            new_value_top = at_[at_['url'] == url].iloc[1]['resp']\n",
    "            \n",
    "            #add resolved response to working base data\n",
    "            df.at[0, 'steven'] = new_value_any\n",
    "            df.at[1, 'steven'] = new_value_top\n",
    "            \n",
    "            #append results\n",
    "            r.append(df)\n",
    "            \n",
    "        else:\n",
    "            r.append(df)\n",
    "    \n",
    "    results = pd.concat(r)\n",
    "    print('results shape: {0}'.format(results.shape))\n",
    "    print('all done')\n",
    "    return results"
   ]
  },
  {
   "cell_type": "code",
   "execution_count": 309,
   "metadata": {},
   "outputs": [
    {
     "name": "stdout",
     "output_type": "stream",
     "text": [
      "results shape: (600, 6)\n",
      "all done\n"
     ]
    }
   ],
   "source": [
    "ref = BuildReference(m, resolved_top_only, resolved_any_only, resolved_any_and_top)"
   ]
  },
  {
   "cell_type": "markdown",
   "metadata": {},
   "source": [
    "### Manually inspect some"
   ]
  },
  {
   "cell_type": "code",
   "execution_count": 310,
   "metadata": {},
   "outputs": [
    {
     "data": {
      "text/html": [
       "<div>\n",
       "<style scoped>\n",
       "    .dataframe tbody tr th:only-of-type {\n",
       "        vertical-align: middle;\n",
       "    }\n",
       "\n",
       "    .dataframe tbody tr th {\n",
       "        vertical-align: top;\n",
       "    }\n",
       "\n",
       "    .dataframe thead th {\n",
       "        text-align: right;\n",
       "    }\n",
       "</style>\n",
       "<table border=\"1\" class=\"dataframe\">\n",
       "  <thead>\n",
       "    <tr style=\"text-align: right;\">\n",
       "      <th></th>\n",
       "      <th>qid</th>\n",
       "      <th>header</th>\n",
       "      <th>resp</th>\n",
       "      <th>url</th>\n",
       "      <th>cat</th>\n",
       "    </tr>\n",
       "  </thead>\n",
       "  <tbody>\n",
       "    <tr>\n",
       "      <th>0</th>\n",
       "      <td>QID20</td>\n",
       "      <td>https://www.gofundme.com/f/help-me-see-your-wo...</td>\n",
       "      <td></td>\n",
       "      <td>https://www.gofundme.com/f/help-me-see-your-world</td>\n",
       "      <td>base</td>\n",
       "    </tr>\n",
       "    <tr>\n",
       "      <th>1</th>\n",
       "      <td>QID21</td>\n",
       "      <td>https://www.gofundme.com/f/help-me-see-your-wo...</td>\n",
       "      <td>Nervous system diseases</td>\n",
       "      <td>https://www.gofundme.com/f/help-me-see-your-world</td>\n",
       "      <td>top</td>\n",
       "    </tr>\n",
       "    <tr>\n",
       "      <th>2</th>\n",
       "      <td>QID22_TEXT</td>\n",
       "      <td>https://www.gofundme.com/f/help-me-see-your-wo...</td>\n",
       "      <td>interpreting primary medical condition as the ...</td>\n",
       "      <td>https://www.gofundme.com/f/help-me-see-your-world</td>\n",
       "      <td>NOTES</td>\n",
       "    </tr>\n",
       "  </tbody>\n",
       "</table>\n",
       "</div>"
      ],
      "text/plain": [
       "          qid                                             header  \\\n",
       "0       QID20  https://www.gofundme.com/f/help-me-see-your-wo...   \n",
       "1       QID21  https://www.gofundme.com/f/help-me-see-your-wo...   \n",
       "2  QID22_TEXT  https://www.gofundme.com/f/help-me-see-your-wo...   \n",
       "\n",
       "                                                resp  \\\n",
       "0                                                      \n",
       "1                            Nervous system diseases   \n",
       "2  interpreting primary medical condition as the ...   \n",
       "\n",
       "                                                 url    cat  \n",
       "0  https://www.gofundme.com/f/help-me-see-your-world   base  \n",
       "1  https://www.gofundme.com/f/help-me-see-your-world    top  \n",
       "2  https://www.gofundme.com/f/help-me-see-your-world  NOTES  "
      ]
     },
     "execution_count": 310,
     "metadata": {},
     "output_type": "execute_result"
    }
   ],
   "source": [
    "resolved_top_only[:3]"
   ]
  },
  {
   "cell_type": "code",
   "execution_count": 311,
   "metadata": {},
   "outputs": [
    {
     "data": {
      "text/html": [
       "<div>\n",
       "<style scoped>\n",
       "    .dataframe tbody tr th:only-of-type {\n",
       "        vertical-align: middle;\n",
       "    }\n",
       "\n",
       "    .dataframe tbody tr th {\n",
       "        vertical-align: top;\n",
       "    }\n",
       "\n",
       "    .dataframe thead th {\n",
       "        text-align: right;\n",
       "    }\n",
       "</style>\n",
       "<table border=\"1\" class=\"dataframe\">\n",
       "  <thead>\n",
       "    <tr style=\"text-align: right;\">\n",
       "      <th></th>\n",
       "      <th>index</th>\n",
       "      <th>url</th>\n",
       "      <th>qcat</th>\n",
       "      <th>dennis</th>\n",
       "      <th>steven</th>\n",
       "      <th>round</th>\n",
       "    </tr>\n",
       "  </thead>\n",
       "  <tbody>\n",
       "    <tr>\n",
       "      <th>0</th>\n",
       "      <td>35</td>\n",
       "      <td>https://www.gofundme.com/f/help-me-see-your-world</td>\n",
       "      <td>base</td>\n",
       "      <td>Nervous system diseases,Other noncommunicable ...</td>\n",
       "      <td>Nervous system diseases,Other noncommunicable ...</td>\n",
       "      <td>3</td>\n",
       "    </tr>\n",
       "    <tr>\n",
       "      <th>1</th>\n",
       "      <td>36</td>\n",
       "      <td>https://www.gofundme.com/f/help-me-see-your-world</td>\n",
       "      <td>top</td>\n",
       "      <td>Other noncommunicable diseases</td>\n",
       "      <td>Nervous system diseases</td>\n",
       "      <td>3</td>\n",
       "    </tr>\n",
       "    <tr>\n",
       "      <th>2</th>\n",
       "      <td>37</td>\n",
       "      <td>https://www.gofundme.com/f/help-me-see-your-world</td>\n",
       "      <td>NOTES</td>\n",
       "      <td>NaN</td>\n",
       "      <td>H47619\\tCortical blindness, unspecified side o...</td>\n",
       "      <td>3</td>\n",
       "    </tr>\n",
       "  </tbody>\n",
       "</table>\n",
       "</div>"
      ],
      "text/plain": [
       "   index                                                url   qcat  \\\n",
       "0     35  https://www.gofundme.com/f/help-me-see-your-world   base   \n",
       "1     36  https://www.gofundme.com/f/help-me-see-your-world    top   \n",
       "2     37  https://www.gofundme.com/f/help-me-see-your-world  NOTES   \n",
       "\n",
       "                                              dennis  \\\n",
       "0  Nervous system diseases,Other noncommunicable ...   \n",
       "1                     Other noncommunicable diseases   \n",
       "2                                                NaN   \n",
       "\n",
       "                                              steven  round  \n",
       "0  Nervous system diseases,Other noncommunicable ...      3  \n",
       "1                            Nervous system diseases      3  \n",
       "2  H47619\\tCortical blindness, unspecified side o...      3  "
      ]
     },
     "execution_count": 311,
     "metadata": {},
     "output_type": "execute_result"
    }
   ],
   "source": [
    "ref[ref['url'] == 'https://www.gofundme.com/f/help-me-see-your-world']"
   ]
  },
  {
   "cell_type": "code",
   "execution_count": 312,
   "metadata": {},
   "outputs": [
    {
     "data": {
      "text/plain": [
       "'Infections,Injuries and external causes,Mental and substance use disorders,Nonspecific'"
      ]
     },
     "execution_count": 312,
     "metadata": {},
     "output_type": "execute_result"
    }
   ],
   "source": [
    "resolved_any_only.iloc[0]['resp']"
   ]
  },
  {
   "cell_type": "code",
   "execution_count": 313,
   "metadata": {},
   "outputs": [
    {
     "data": {
      "text/plain": [
       "'Infections,Injuries and external causes,Mental and substance use disorders,Nonspecific'"
      ]
     },
     "execution_count": 313,
     "metadata": {},
     "output_type": "execute_result"
    }
   ],
   "source": [
    "ref[ref['url'] == resolved_any_only.iloc[0]['url']].iloc[0]['steven']"
   ]
  },
  {
   "cell_type": "code",
   "execution_count": 314,
   "metadata": {},
   "outputs": [
    {
     "data": {
      "text/html": [
       "<div>\n",
       "<style scoped>\n",
       "    .dataframe tbody tr th:only-of-type {\n",
       "        vertical-align: middle;\n",
       "    }\n",
       "\n",
       "    .dataframe tbody tr th {\n",
       "        vertical-align: top;\n",
       "    }\n",
       "\n",
       "    .dataframe thead th {\n",
       "        text-align: right;\n",
       "    }\n",
       "</style>\n",
       "<table border=\"1\" class=\"dataframe\">\n",
       "  <thead>\n",
       "    <tr style=\"text-align: right;\">\n",
       "      <th></th>\n",
       "      <th>qid</th>\n",
       "      <th>header</th>\n",
       "      <th>resp</th>\n",
       "      <th>url</th>\n",
       "      <th>cat</th>\n",
       "    </tr>\n",
       "  </thead>\n",
       "  <tbody>\n",
       "    <tr>\n",
       "      <th>3</th>\n",
       "      <td>QID5</td>\n",
       "      <td>https://www.gofundme.com/f/xny684__base - Disa...</td>\n",
       "      <td>Endocrine diseases,Nonspecific</td>\n",
       "      <td>https://www.gofundme.com/f/xny684</td>\n",
       "      <td>base</td>\n",
       "    </tr>\n",
       "    <tr>\n",
       "      <th>4</th>\n",
       "      <td>QID6</td>\n",
       "      <td>https://www.gofundme.com/f/xny684__top - Pleas...</td>\n",
       "      <td>Endocrine diseases</td>\n",
       "      <td>https://www.gofundme.com/f/xny684</td>\n",
       "      <td>top</td>\n",
       "    </tr>\n",
       "    <tr>\n",
       "      <th>5</th>\n",
       "      <td>QID7_TEXT</td>\n",
       "      <td>https://www.gofundme.com/f/xny684__NOTES - Ple...</td>\n",
       "      <td>NaN</td>\n",
       "      <td>https://www.gofundme.com/f/xny684</td>\n",
       "      <td>NOTES</td>\n",
       "    </tr>\n",
       "  </tbody>\n",
       "</table>\n",
       "</div>"
      ],
      "text/plain": [
       "         qid                                             header  \\\n",
       "3       QID5  https://www.gofundme.com/f/xny684__base - Disa...   \n",
       "4       QID6  https://www.gofundme.com/f/xny684__top - Pleas...   \n",
       "5  QID7_TEXT  https://www.gofundme.com/f/xny684__NOTES - Ple...   \n",
       "\n",
       "                             resp                                url    cat  \n",
       "3  Endocrine diseases,Nonspecific  https://www.gofundme.com/f/xny684   base  \n",
       "4              Endocrine diseases  https://www.gofundme.com/f/xny684    top  \n",
       "5                             NaN  https://www.gofundme.com/f/xny684  NOTES  "
      ]
     },
     "execution_count": 314,
     "metadata": {},
     "output_type": "execute_result"
    }
   ],
   "source": [
    "resolved_any_and_top[3:6]"
   ]
  },
  {
   "cell_type": "code",
   "execution_count": 315,
   "metadata": {},
   "outputs": [
    {
     "data": {
      "text/html": [
       "<div>\n",
       "<style scoped>\n",
       "    .dataframe tbody tr th:only-of-type {\n",
       "        vertical-align: middle;\n",
       "    }\n",
       "\n",
       "    .dataframe tbody tr th {\n",
       "        vertical-align: top;\n",
       "    }\n",
       "\n",
       "    .dataframe thead th {\n",
       "        text-align: right;\n",
       "    }\n",
       "</style>\n",
       "<table border=\"1\" class=\"dataframe\">\n",
       "  <thead>\n",
       "    <tr style=\"text-align: right;\">\n",
       "      <th></th>\n",
       "      <th>index</th>\n",
       "      <th>url</th>\n",
       "      <th>qcat</th>\n",
       "      <th>dennis</th>\n",
       "      <th>steven</th>\n",
       "      <th>round</th>\n",
       "    </tr>\n",
       "  </thead>\n",
       "  <tbody>\n",
       "    <tr>\n",
       "      <th>0</th>\n",
       "      <td>87</td>\n",
       "      <td>https://www.gofundme.com/f/xny684</td>\n",
       "      <td>base</td>\n",
       "      <td>Endocrine diseases</td>\n",
       "      <td>Endocrine diseases,Nonspecific</td>\n",
       "      <td>6</td>\n",
       "    </tr>\n",
       "    <tr>\n",
       "      <th>1</th>\n",
       "      <td>88</td>\n",
       "      <td>https://www.gofundme.com/f/xny684</td>\n",
       "      <td>top</td>\n",
       "      <td>Endocrine diseases</td>\n",
       "      <td>Endocrine diseases</td>\n",
       "      <td>6</td>\n",
       "    </tr>\n",
       "    <tr>\n",
       "      <th>2</th>\n",
       "      <td>89</td>\n",
       "      <td>https://www.gofundme.com/f/xny684</td>\n",
       "      <td>NOTES</td>\n",
       "      <td>NaN</td>\n",
       "      <td>NaN</td>\n",
       "      <td>6</td>\n",
       "    </tr>\n",
       "  </tbody>\n",
       "</table>\n",
       "</div>"
      ],
      "text/plain": [
       "   index                                url   qcat              dennis  \\\n",
       "0     87  https://www.gofundme.com/f/xny684   base  Endocrine diseases   \n",
       "1     88  https://www.gofundme.com/f/xny684    top  Endocrine diseases   \n",
       "2     89  https://www.gofundme.com/f/xny684  NOTES                 NaN   \n",
       "\n",
       "                           steven  round  \n",
       "0  Endocrine diseases,Nonspecific      6  \n",
       "1              Endocrine diseases      6  \n",
       "2                             NaN      6  "
      ]
     },
     "execution_count": 315,
     "metadata": {},
     "output_type": "execute_result"
    }
   ],
   "source": [
    "ref[ref['url'] == 'https://www.gofundme.com/f/xny684']"
   ]
  },
  {
   "cell_type": "markdown",
   "metadata": {},
   "source": [
    "### Clean new reference set"
   ]
  },
  {
   "cell_type": "code",
   "execution_count": 316,
   "metadata": {},
   "outputs": [],
   "source": [
    "#subset columns\n",
    "ref = ref[['url','qcat','steven']]\n",
    "ref = ref.rename(columns={'steven':'label'})"
   ]
  },
  {
   "cell_type": "code",
   "execution_count": 317,
   "metadata": {},
   "outputs": [
    {
     "data": {
      "text/plain": [
       "['https://www.gofundme.com/f/evp227-fernando-diaz',\n",
       " 'https://www.gofundme.com/f/esperanza-para-mi-viejito-transplante-de-pulmon_...',\n",
       " 'https://www.gofundme.com/f/ceiling-hoist-lift-care-system-for-tucker-thigpe...',\n",
       " 'https://www.gofundme.com/f/lets-do-our-part-to-help-the-front-line-workers_...',\n",
       " 'https://www.gofundme.com/f/help-noah-fight-stage-4-neuroendocrine-carcinoma...',\n",
       " 'https://www.gofundme.com/f/get-mike-home-via-a-visit-to-his-mom-and-the-wat...']"
      ]
     },
     "execution_count": 317,
     "metadata": {},
     "output_type": "execute_result"
    }
   ],
   "source": [
    "#check that urls are same as feed (some are abbreviated from qualtrics)\n",
    "urls_to_replace = ref[~ref['url'].isin(feed['url'])]['url'].unique().tolist()\n",
    "urls_to_replace"
   ]
  },
  {
   "cell_type": "code",
   "execution_count": 318,
   "metadata": {},
   "outputs": [
    {
     "data": {
      "text/html": [
       "<div>\n",
       "<style scoped>\n",
       "    .dataframe tbody tr th:only-of-type {\n",
       "        vertical-align: middle;\n",
       "    }\n",
       "\n",
       "    .dataframe tbody tr th {\n",
       "        vertical-align: top;\n",
       "    }\n",
       "\n",
       "    .dataframe thead th {\n",
       "        text-align: right;\n",
       "    }\n",
       "</style>\n",
       "<table border=\"1\" class=\"dataframe\">\n",
       "  <thead>\n",
       "    <tr style=\"text-align: right;\">\n",
       "      <th></th>\n",
       "      <th>url</th>\n",
       "      <th>qcat</th>\n",
       "      <th>label</th>\n",
       "    </tr>\n",
       "  </thead>\n",
       "  <tbody>\n",
       "    <tr>\n",
       "      <th>0</th>\n",
       "      <td>https://www.gofundme.com/f/evp227-fernando-diaz</td>\n",
       "      <td>base</td>\n",
       "      <td>Neoplasms</td>\n",
       "    </tr>\n",
       "    <tr>\n",
       "      <th>1</th>\n",
       "      <td>https://www.gofundme.com/f/evp227-fernando-diaz</td>\n",
       "      <td>top</td>\n",
       "      <td>Neoplasms</td>\n",
       "    </tr>\n",
       "    <tr>\n",
       "      <th>2</th>\n",
       "      <td>https://www.gofundme.com/f/evp227-fernando-diaz</td>\n",
       "      <td>NOTES</td>\n",
       "      <td>NaN</td>\n",
       "    </tr>\n",
       "  </tbody>\n",
       "</table>\n",
       "</div>"
      ],
      "text/plain": [
       "                                               url   qcat      label\n",
       "0  https://www.gofundme.com/f/evp227-fernando-diaz   base  Neoplasms\n",
       "1  https://www.gofundme.com/f/evp227-fernando-diaz    top  Neoplasms\n",
       "2  https://www.gofundme.com/f/evp227-fernando-diaz  NOTES        NaN"
      ]
     },
     "execution_count": 318,
     "metadata": {},
     "output_type": "execute_result"
    }
   ],
   "source": [
    "#'https://www.gofundme.com/f/evp227-fernando-diaz' is probably before filtering out spanish campaigns but it has english and was labeled\n",
    "ref[ref['url'] == 'https://www.gofundme.com/f/evp227-fernando-diaz']"
   ]
  },
  {
   "cell_type": "code",
   "execution_count": 319,
   "metadata": {},
   "outputs": [],
   "source": [
    "new_urls = []\n",
    "for url in urls_to_replace[1:]:\n",
    "    new_urls.append(process.extractOne(url, feed['url'].tolist())[0])\n",
    "ref = ref.replace(urls_to_replace[1:], new_urls)"
   ]
  },
  {
   "cell_type": "code",
   "execution_count": 320,
   "metadata": {},
   "outputs": [
    {
     "data": {
      "text/plain": [
       "['https://www.gofundme.com/f/evp227-fernando-diaz']"
      ]
     },
     "execution_count": 320,
     "metadata": {},
     "output_type": "execute_result"
    }
   ],
   "source": [
    "#checking that all were replaced\n",
    "ref[~ref['url'].isin(feed['url'])]['url'].unique().tolist()"
   ]
  },
  {
   "cell_type": "code",
   "execution_count": 321,
   "metadata": {},
   "outputs": [],
   "source": [
    "#subset data by question category\n",
    "ref_any = ref[ref['qcat'] == 'base']\n",
    "ref_top = ref[ref['qcat'] == 'top']"
   ]
  },
  {
   "cell_type": "code",
   "execution_count": 322,
   "metadata": {},
   "outputs": [
    {
     "name": "stdout",
     "output_type": "stream",
     "text": [
      "(200, 3)\n",
      "(200, 3)\n"
     ]
    }
   ],
   "source": [
    "print(ref_any.shape)\n",
    "print(ref_top.shape)"
   ]
  },
  {
   "cell_type": "code",
   "execution_count": 323,
   "metadata": {},
   "outputs": [
    {
     "data": {
      "text/plain": [
       "Index(['url', 'qcat', 'label'], dtype='object')"
      ]
     },
     "execution_count": 323,
     "metadata": {},
     "output_type": "execute_result"
    }
   ],
   "source": [
    "ref_any.columns"
   ]
  },
  {
   "cell_type": "code",
   "execution_count": 324,
   "metadata": {},
   "outputs": [],
   "source": [
    "def comma2lofd(df):\n",
    "    '''convert cat column from comma delimited to list of dictionaries with 1 or 0 for each category'''\n",
    "    \n",
    "    disease_categories = [\n",
    "        'Cardiovascular diseases',\n",
    "        'Endocrine diseases',\n",
    "        'Gastrointestinal diseases',\n",
    "        'Genitourinary disorders',\n",
    "        'Infections',\n",
    "        'Injuries and external causes',\n",
    "        'Mental and substance use disorders',\n",
    "        'Musculoskeletal diseases',\n",
    "        'Neoplasms',\n",
    "        'Nervous system diseases',\n",
    "        'Nonspecific',\n",
    "        'Other noncommunicable diseases',\n",
    "        'Pregnancy and childbirth',\n",
    "        'Respiratory diseases'\n",
    "    ]\n",
    "    \n",
    "    r = []\n",
    "    \n",
    "    for index,row in df.iterrows():\n",
    "        lofd = []\n",
    "        as_list = row['label'].split(',')\n",
    "        for disease in disease_categories:\n",
    "            if disease in as_list:\n",
    "                lofd.append({disease:1})\n",
    "            else:\n",
    "                lofd.append({disease:0})\n",
    "        r.append(lofd)\n",
    "    return r"
   ]
  },
  {
   "cell_type": "code",
   "execution_count": 332,
   "metadata": {},
   "outputs": [
    {
     "name": "stderr",
     "output_type": "stream",
     "text": [
      "/opt/anaconda3/lib/python3.7/site-packages/ipykernel_launcher.py:1: SettingWithCopyWarning: \n",
      "A value is trying to be set on a copy of a slice from a DataFrame.\n",
      "Try using .loc[row_indexer,col_indexer] = value instead\n",
      "\n",
      "See the caveats in the documentation: https://pandas.pydata.org/pandas-docs/stable/user_guide/indexing.html#returning-a-view-versus-a-copy\n",
      "  \"\"\"Entry point for launching an IPython kernel.\n"
     ]
    }
   ],
   "source": [
    "ref_any['lofd'] = comma2lofd(ref_any)"
   ]
  },
  {
   "cell_type": "code",
   "execution_count": 334,
   "metadata": {},
   "outputs": [],
   "source": [
    "#convert to long format\n",
    "long = ref_any.explode('lofd')"
   ]
  },
  {
   "cell_type": "code",
   "execution_count": 335,
   "metadata": {},
   "outputs": [],
   "source": [
    "#extract key, value from dictionary\n",
    "long.insert(loc=2, column='cat', value=[list(x.items())[0][0] for x in long['lofd']])\n",
    "long.insert(loc=3, column='count', value=[list(x.items())[0][1] for x in long['lofd']])"
   ]
  },
  {
   "cell_type": "code",
   "execution_count": 337,
   "metadata": {},
   "outputs": [],
   "source": [
    "long = long[['url','cat','count']]"
   ]
  },
  {
   "cell_type": "code",
   "execution_count": 348,
   "metadata": {},
   "outputs": [],
   "source": [
    "#create pivot table\n",
    "pivot = long.pivot_table(index=['url'], columns='cat', values='count', aggfunc=(pd.Series.sum), fill_value=0)"
   ]
  },
  {
   "cell_type": "code",
   "execution_count": 350,
   "metadata": {},
   "outputs": [],
   "source": [
    "pivot.columns.name = ''\n",
    "pivot = pivot.reset_index()"
   ]
  },
  {
   "cell_type": "markdown",
   "metadata": {},
   "source": [
    "### Export data"
   ]
  },
  {
   "cell_type": "code",
   "execution_count": 355,
   "metadata": {},
   "outputs": [],
   "source": [
    "ref_top.to_csv('Manual_Review/reference_set/reference_set_top.csv', index=False)\n",
    "long.to_csv('Manual_Review/reference_set/reference_set_any_long.csv', index=False)\n",
    "pivot.to_csv('Manual_Review/reference_set/reference_set_any_pivot.csv', index=False)"
   ]
  },
  {
   "cell_type": "code",
   "execution_count": null,
   "metadata": {},
   "outputs": [],
   "source": []
  }
 ],
 "metadata": {
  "kernelspec": {
   "display_name": "Python 3",
   "language": "python",
   "name": "python3"
  },
  "language_info": {
   "codemirror_mode": {
    "name": "ipython",
    "version": 3
   },
   "file_extension": ".py",
   "mimetype": "text/x-python",
   "name": "python",
   "nbconvert_exporter": "python",
   "pygments_lexer": "ipython3",
   "version": "3.7.6"
  }
 },
 "nbformat": 4,
 "nbformat_minor": 4
}
