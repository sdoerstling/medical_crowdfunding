{
 "cells": [
  {
   "cell_type": "markdown",
   "metadata": {},
   "source": [
    "Notes for methods\n",
    "- Location: included 50 US states plus Washington DC\n",
    "\n",
    "Questions for methods:\n",
    "- Should we exclude campaigns that do not have more detailed donation data?"
   ]
  },
  {
   "cell_type": "markdown",
   "metadata": {},
   "source": [
    "### Import packages"
   ]
  },
  {
   "cell_type": "code",
   "execution_count": 1,
   "metadata": {},
   "outputs": [],
   "source": [
    "import sqlite3\n",
    "import pandas as pd\n",
    "import json\n",
    "from itertools import chain\n",
    "from random import sample\n",
    "import numpy as np\n",
    "import os\n",
    "from bs4 import BeautifulSoup\n",
    "import string\n",
    "import re\n",
    "import xmltodict\n",
    "from xml.etree import ElementTree as ET\n",
    "import requests\n",
    "import json\n",
    "import seaborn as sns\n",
    "import matplotlib.pyplot as plt\n",
    "import zipcodes\n",
    "import fasttext\n",
    "from datetime import datetime"
   ]
  },
  {
   "cell_type": "markdown",
   "metadata": {},
   "source": [
    "### Queries and functions for reference"
   ]
  },
  {
   "cell_type": "code",
   "execution_count": null,
   "metadata": {},
   "outputs": [],
   "source": [
    "#Select random sample\n",
    "#pd.read_sql_query(\"SELECT url, fund_name, fund_description FROM feed_tb WHERE id IN (SELECT id FROM feed_tb ORDER BY RANDOM() LIMIT 20)\", conn)\n",
    "\n",
    "#remove html tags, remove \\xa0\n",
    "#feed['desc'] = [' '.join(BeautifulSoup(x).findAll(text=True)).replace(u'\\xa0', u' ') for x in feed['fund_description']]"
   ]
  },
  {
   "cell_type": "markdown",
   "metadata": {},
   "source": [
    "### Query db"
   ]
  },
  {
   "cell_type": "code",
   "execution_count": 2,
   "metadata": {},
   "outputs": [],
   "source": [
    "conn = sqlite3.connect(\"gfm.db\")"
   ]
  },
  {
   "cell_type": "code",
   "execution_count": 3,
   "metadata": {},
   "outputs": [],
   "source": [
    "donation = pd.read_sql_query(\"SELECT * FROM donation_tb\", conn)"
   ]
  },
  {
   "cell_type": "code",
   "execution_count": 3,
   "metadata": {},
   "outputs": [],
   "source": [
    "feed = pd.read_sql_query(\"SELECT url, current_amount, goal_amount, donation_count, created_at, city, postal_code, country FROM feed_tb\", conn)"
   ]
  },
  {
   "cell_type": "code",
   "execution_count": 3,
   "metadata": {},
   "outputs": [],
   "source": [
    "#feed = pd.read_sql_query(\"SELECT url, fund_description FROM feed_tb\", conn)"
   ]
  },
  {
   "cell_type": "code",
   "execution_count": 4,
   "metadata": {},
   "outputs": [],
   "source": [
    "feed = feed.drop_duplicates('url')"
   ]
  },
  {
   "cell_type": "code",
   "execution_count": 96,
   "metadata": {},
   "outputs": [],
   "source": [
    "#scrape = pd.read_sql_query(\"SELECT * FROM scrape_tb\", conn)"
   ]
  },
  {
   "cell_type": "code",
   "execution_count": 10,
   "metadata": {},
   "outputs": [
    {
     "data": {
      "text/plain": [
       "<matplotlib.axes._subplots.AxesSubplot at 0x7fcc53544c90>"
      ]
     },
     "execution_count": 10,
     "metadata": {},
     "output_type": "execute_result"
    },
    {
     "data": {
      "image/png": "[encoded data removed]",
      "text/plain": [
       "<Figure size 432x288 with 1 Axes>"
      ]
     },
     "metadata": {
      "needs_background": "light"
     },
     "output_type": "display_data"
    }
   ],
   "source": [
    "pd.Series(mstats.winsorize(feed['donation_count'], limits=[0.01,0.01])).hist()"
   ]
  },
  {
   "cell_type": "code",
   "execution_count": 9,
   "metadata": {},
   "outputs": [
    {
     "data": {
      "text/plain": [
       "<matplotlib.axes._subplots.AxesSubplot at 0x7fa0540a9510>"
      ]
     },
     "execution_count": 9,
     "metadata": {},
     "output_type": "execute_result"
    },
    {
     "data": {
      "image/png": "[encoded data removed]",
      "text/plain": [
       "<Figure size 432x288 with 1 Axes>"
      ]
     },
     "metadata": {
      "needs_background": "light"
     },
     "output_type": "display_data"
    }
   ],
   "source": [
    "feed['donation_count'].hist(bins=50)"
   ]
  },
  {
   "cell_type": "code",
   "execution_count": 10,
   "metadata": {},
   "outputs": [
    {
     "data": {
      "text/plain": [
       "count    92962.000000\n",
       "mean        69.046675\n",
       "std        192.516463\n",
       "min          0.000000\n",
       "25%         22.000000\n",
       "50%         39.000000\n",
       "75%         74.000000\n",
       "max      25561.000000\n",
       "Name: donation_count, dtype: float64"
      ]
     },
     "execution_count": 10,
     "metadata": {},
     "output_type": "execute_result"
    }
   ],
   "source": [
    "feed['donation_count'].describe()"
   ]
  },
  {
   "cell_type": "code",
   "execution_count": 8,
   "metadata": {},
   "outputs": [],
   "source": [
    "from scipy.stats import mstats"
   ]
  },
  {
   "cell_type": "code",
   "execution_count": 15,
   "metadata": {},
   "outputs": [
    {
     "data": {
      "text/plain": [
       "count    92962.000000\n",
       "mean        58.032121\n",
       "std         53.381579\n",
       "min          6.000000\n",
       "25%         22.000000\n",
       "50%         39.000000\n",
       "75%         74.000000\n",
       "max        209.000000\n",
       "dtype: float64"
      ]
     },
     "execution_count": 15,
     "metadata": {},
     "output_type": "execute_result"
    }
   ],
   "source": [
    "pd.Series(mstats.winsorize(feed['donation_count'], limits=[0.05,0.05])).describe()"
   ]
  },
  {
   "cell_type": "code",
   "execution_count": 17,
   "metadata": {},
   "outputs": [
    {
     "data": {
      "text/plain": [
       "<matplotlib.axes._subplots.AxesSubplot at 0x7fa053d99c10>"
      ]
     },
     "execution_count": 17,
     "metadata": {},
     "output_type": "execute_result"
    },
    {
     "data": {
      "image/png": "[encoded data removed]",
      "text/plain": [
       "<Figure size 432x288 with 1 Axes>"
      ]
     },
     "metadata": {
      "needs_background": "light"
     },
     "output_type": "display_data"
    }
   ],
   "source": [
    "pd.Series(mstats.winsorize(feed['donation_count'], limits=[0.05,0.05])).hist()"
   ]
  },
  {
   "cell_type": "code",
   "execution_count": 19,
   "metadata": {},
   "outputs": [
    {
     "data": {
      "text/plain": [
       "<matplotlib.axes._subplots.AxesSubplot at 0x7fa0536f4190>"
      ]
     },
     "execution_count": 19,
     "metadata": {},
     "output_type": "execute_result"
    },
    {
     "data": {
      "image/png": "[encoded data removed]",
      "text/plain": [
       "<Figure size 432x288 with 1 Axes>"
      ]
     },
     "metadata": {
      "needs_background": "light"
     },
     "output_type": "display_data"
    }
   ],
   "source": [
    "pd.Series(mstats.winsorize(feed['goal_amount'], limits=[0.05,0.05])).hist()"
   ]
  },
  {
   "cell_type": "code",
   "execution_count": 20,
   "metadata": {},
   "outputs": [
    {
     "data": {
      "text/plain": [
       "<matplotlib.axes._subplots.AxesSubplot at 0x7fa053360e10>"
      ]
     },
     "execution_count": 20,
     "metadata": {},
     "output_type": "execute_result"
    },
    {
     "data": {
      "image/png": "[encoded data removed]",
      "text/plain": [
       "<Figure size 432x288 with 1 Axes>"
      ]
     },
     "metadata": {
      "needs_background": "light"
     },
     "output_type": "display_data"
    }
   ],
   "source": [
    "pd.Series(mstats.winsorize(feed['current_amount'], limits=[0.05,0.05])).hist()"
   ]
  },
  {
   "cell_type": "code",
   "execution_count": 43,
   "metadata": {},
   "outputs": [],
   "source": [
    "feed.loc[:,'per_raised'] = feed['current_amount']/feed['goal_amount']"
   ]
  },
  {
   "cell_type": "code",
   "execution_count": 52,
   "metadata": {},
   "outputs": [],
   "source": [
    "feed.loc[:,'goal_amount_winsor_5'] = mstats.winsorize(feed['goal_amount'], limits=[0.05,0.05])\n",
    "feed.loc[:,'current_amount_winsor_5'] = mstats.winsorize(feed['current_amount'], limits=[0.05,0.05])\n",
    "feed.loc[:,'per_raised_winsor_5'] = mstats.winsorize(feed['per_raised'], limits=[0.05,0.05])\n",
    "\n",
    "feed.loc[:,'goal_amount_winsor_25'] = mstats.winsorize(feed['goal_amount'], limits=[0.025,0.025])\n",
    "feed.loc[:,'current_amount_winsor_25'] = mstats.winsorize(feed['current_amount'], limits=[0.025,0.025])\n",
    "feed.loc[:,'per_raised_winsor_25'] = mstats.winsorize(feed['per_raised'], limits=[0.025,0.025])\n",
    "\n",
    "feed.loc[:,'goal_amount_winsor_1'] = mstats.winsorize(feed['goal_amount'], limits=[0.01,0.01])\n",
    "feed.loc[:,'current_amount_winsor_1'] = mstats.winsorize(feed['current_amount'], limits=[0.01,0.01])\n",
    "feed.loc[:,'per_raised_winsor_1'] = mstats.winsorize(feed['per_raised'], limits=[0.01,0.01])"
   ]
  },
  {
   "cell_type": "code",
   "execution_count": 56,
   "metadata": {},
   "outputs": [
    {
     "data": {
      "text/html": [
       "<div>\n",
       "<style scoped>\n",
       "    .dataframe tbody tr th:only-of-type {\n",
       "        vertical-align: middle;\n",
       "    }\n",
       "\n",
       "    .dataframe tbody tr th {\n",
       "        vertical-align: top;\n",
       "    }\n",
       "\n",
       "    .dataframe thead th {\n",
       "        text-align: right;\n",
       "    }\n",
       "</style>\n",
       "<table border=\"1\" class=\"dataframe\">\n",
       "  <thead>\n",
       "    <tr style=\"text-align: right;\">\n",
       "      <th></th>\n",
       "      <th>count</th>\n",
       "      <th>mean</th>\n",
       "      <th>std</th>\n",
       "      <th>min</th>\n",
       "      <th>25%</th>\n",
       "      <th>50%</th>\n",
       "      <th>75%</th>\n",
       "      <th>max</th>\n",
       "    </tr>\n",
       "  </thead>\n",
       "  <tbody>\n",
       "    <tr>\n",
       "      <th>current_amount</th>\n",
       "      <td>92962.0</td>\n",
       "      <td>6355.697909</td>\n",
       "      <td>1.539945e+04</td>\n",
       "      <td>0.0000</td>\n",
       "      <td>1835.0000</td>\n",
       "      <td>3250.000</td>\n",
       "      <td>6694.750</td>\n",
       "      <td>2.696160e+06</td>\n",
       "    </tr>\n",
       "    <tr>\n",
       "      <th>current_amount_winsor_5</th>\n",
       "      <td>92962.0</td>\n",
       "      <td>5343.919612</td>\n",
       "      <td>5.432615e+03</td>\n",
       "      <td>290.0000</td>\n",
       "      <td>1835.0000</td>\n",
       "      <td>3250.000</td>\n",
       "      <td>6694.750</td>\n",
       "      <td>2.116600e+04</td>\n",
       "    </tr>\n",
       "    <tr>\n",
       "      <th>current_amount_winsor_25</th>\n",
       "      <td>92962.0</td>\n",
       "      <td>5686.827306</td>\n",
       "      <td>6.610255e+03</td>\n",
       "      <td>50.0000</td>\n",
       "      <td>1835.0000</td>\n",
       "      <td>3250.000</td>\n",
       "      <td>6694.750</td>\n",
       "      <td>3.110000e+04</td>\n",
       "    </tr>\n",
       "    <tr>\n",
       "      <th>current_amount_winsor_1</th>\n",
       "      <td>92962.0</td>\n",
       "      <td>5957.412835</td>\n",
       "      <td>7.835497e+03</td>\n",
       "      <td>0.0000</td>\n",
       "      <td>1835.0000</td>\n",
       "      <td>3250.000</td>\n",
       "      <td>6694.750</td>\n",
       "      <td>4.824800e+04</td>\n",
       "    </tr>\n",
       "    <tr>\n",
       "      <th>goal_amount</th>\n",
       "      <td>92962.0</td>\n",
       "      <td>63426.235408</td>\n",
       "      <td>5.603087e+06</td>\n",
       "      <td>1.0000</td>\n",
       "      <td>5000.0000</td>\n",
       "      <td>10000.000</td>\n",
       "      <td>20000.000</td>\n",
       "      <td>1.000000e+09</td>\n",
       "    </tr>\n",
       "    <tr>\n",
       "      <th>goal_amount_winsor_5</th>\n",
       "      <td>92962.0</td>\n",
       "      <td>15577.528850</td>\n",
       "      <td>1.680943e+04</td>\n",
       "      <td>1500.0000</td>\n",
       "      <td>5000.0000</td>\n",
       "      <td>10000.000</td>\n",
       "      <td>20000.000</td>\n",
       "      <td>6.500000e+04</td>\n",
       "    </tr>\n",
       "    <tr>\n",
       "      <th>goal_amount_winsor_25</th>\n",
       "      <td>92962.0</td>\n",
       "      <td>17025.715002</td>\n",
       "      <td>2.179818e+04</td>\n",
       "      <td>1000.0000</td>\n",
       "      <td>5000.0000</td>\n",
       "      <td>10000.000</td>\n",
       "      <td>20000.000</td>\n",
       "      <td>1.000000e+05</td>\n",
       "    </tr>\n",
       "    <tr>\n",
       "      <th>goal_amount_winsor_1</th>\n",
       "      <td>92962.0</td>\n",
       "      <td>18333.323422</td>\n",
       "      <td>2.847310e+04</td>\n",
       "      <td>415.0000</td>\n",
       "      <td>5000.0000</td>\n",
       "      <td>10000.000</td>\n",
       "      <td>20000.000</td>\n",
       "      <td>2.000000e+05</td>\n",
       "    </tr>\n",
       "    <tr>\n",
       "      <th>per_raised</th>\n",
       "      <td>92962.0</td>\n",
       "      <td>26.825210</td>\n",
       "      <td>8.075358e+02</td>\n",
       "      <td>0.0000</td>\n",
       "      <td>0.1855</td>\n",
       "      <td>0.427</td>\n",
       "      <td>0.791</td>\n",
       "      <td>9.201300e+04</td>\n",
       "    </tr>\n",
       "    <tr>\n",
       "      <th>per_raised_winsor_5</th>\n",
       "      <td>92962.0</td>\n",
       "      <td>0.514361</td>\n",
       "      <td>3.866108e-01</td>\n",
       "      <td>0.0261</td>\n",
       "      <td>0.1855</td>\n",
       "      <td>0.427</td>\n",
       "      <td>0.791</td>\n",
       "      <td>1.360000e+00</td>\n",
       "    </tr>\n",
       "    <tr>\n",
       "      <th>per_raised_winsor_25</th>\n",
       "      <td>92962.0</td>\n",
       "      <td>0.533224</td>\n",
       "      <td>4.394352e-01</td>\n",
       "      <td>0.0035</td>\n",
       "      <td>0.1855</td>\n",
       "      <td>0.427</td>\n",
       "      <td>0.791</td>\n",
       "      <td>1.925000e+00</td>\n",
       "    </tr>\n",
       "    <tr>\n",
       "      <th>per_raised_winsor_1</th>\n",
       "      <td>92962.0</td>\n",
       "      <td>0.561802</td>\n",
       "      <td>5.652302e-01</td>\n",
       "      <td>0.0000</td>\n",
       "      <td>0.1855</td>\n",
       "      <td>0.427</td>\n",
       "      <td>0.791</td>\n",
       "      <td>3.864000e+00</td>\n",
       "    </tr>\n",
       "  </tbody>\n",
       "</table>\n",
       "</div>"
      ],
      "text/plain": [
       "                            count          mean           std        min  \\\n",
       "current_amount            92962.0   6355.697909  1.539945e+04     0.0000   \n",
       "current_amount_winsor_5   92962.0   5343.919612  5.432615e+03   290.0000   \n",
       "current_amount_winsor_25  92962.0   5686.827306  6.610255e+03    50.0000   \n",
       "current_amount_winsor_1   92962.0   5957.412835  7.835497e+03     0.0000   \n",
       "goal_amount               92962.0  63426.235408  5.603087e+06     1.0000   \n",
       "goal_amount_winsor_5      92962.0  15577.528850  1.680943e+04  1500.0000   \n",
       "goal_amount_winsor_25     92962.0  17025.715002  2.179818e+04  1000.0000   \n",
       "goal_amount_winsor_1      92962.0  18333.323422  2.847310e+04   415.0000   \n",
       "per_raised                92962.0     26.825210  8.075358e+02     0.0000   \n",
       "per_raised_winsor_5       92962.0      0.514361  3.866108e-01     0.0261   \n",
       "per_raised_winsor_25      92962.0      0.533224  4.394352e-01     0.0035   \n",
       "per_raised_winsor_1       92962.0      0.561802  5.652302e-01     0.0000   \n",
       "\n",
       "                                25%        50%        75%           max  \n",
       "current_amount            1835.0000   3250.000   6694.750  2.696160e+06  \n",
       "current_amount_winsor_5   1835.0000   3250.000   6694.750  2.116600e+04  \n",
       "current_amount_winsor_25  1835.0000   3250.000   6694.750  3.110000e+04  \n",
       "current_amount_winsor_1   1835.0000   3250.000   6694.750  4.824800e+04  \n",
       "goal_amount               5000.0000  10000.000  20000.000  1.000000e+09  \n",
       "goal_amount_winsor_5      5000.0000  10000.000  20000.000  6.500000e+04  \n",
       "goal_amount_winsor_25     5000.0000  10000.000  20000.000  1.000000e+05  \n",
       "goal_amount_winsor_1      5000.0000  10000.000  20000.000  2.000000e+05  \n",
       "per_raised                   0.1855      0.427      0.791  9.201300e+04  \n",
       "per_raised_winsor_5          0.1855      0.427      0.791  1.360000e+00  \n",
       "per_raised_winsor_25         0.1855      0.427      0.791  1.925000e+00  \n",
       "per_raised_winsor_1          0.1855      0.427      0.791  3.864000e+00  "
      ]
     },
     "execution_count": 56,
     "metadata": {},
     "output_type": "execute_result"
    }
   ],
   "source": [
    "feed[[\n",
    "    'current_amount',\n",
    "    'current_amount_winsor_5',\n",
    "    'current_amount_winsor_25',\n",
    "    'current_amount_winsor_1',\n",
    "    'goal_amount',\n",
    "    'goal_amount_winsor_5',\n",
    "    'goal_amount_winsor_25',\n",
    "    'goal_amount_winsor_1',\n",
    "    'per_raised',\n",
    "    'per_raised_winsor_5',\n",
    "    'per_raised_winsor_25',\n",
    "    'per_raised_winsor_1'\n",
    "     ]\n",
    "    ].describe().T"
   ]
  },
  {
   "cell_type": "code",
   "execution_count": 71,
   "metadata": {},
   "outputs": [
    {
     "data": {
      "image/png": "[encoded data removed]",
      "text/plain": [
       "<Figure size 1080x1080 with 12 Axes>"
      ]
     },
     "metadata": {
      "needs_background": "light"
     },
     "output_type": "display_data"
    }
   ],
   "source": [
    "fig, axes = plt.subplots(4, 3, figsize=(15,15))\n",
    "\n",
    "j = 1000\n",
    "\n",
    "(feed['current_amount']/j).hist(bins=50, ax=axes[0,0])\n",
    "axes[0,0].set_title('Current Amount - Unwinsorized')\n",
    "axes[0,0].set_xlabel(\"Current Amount ($1000's)\")\n",
    "axes[0,0].set_ylabel(\"Frequency\")\n",
    "\n",
    "(feed['current_amount_winsor_1']/j).hist(bins=50, ax=axes[1,0])\n",
    "axes[1,0].set_title('Current Amount - Winsorized 1/99')\n",
    "axes[1,0].set_xlabel(\"Current Amount ($1000's)\")\n",
    "axes[1,0].set_ylabel(\"Frequency\")\n",
    "\n",
    "(feed['current_amount_winsor_25']/j).hist(bins=50, ax=axes[2,0])\n",
    "axes[2,0].set_title('Current Amount - Winsorized 2.5/97.5')\n",
    "axes[2,0].set_xlabel(\"Current Amount ($1000's)\")\n",
    "axes[2,0].set_ylabel(\"Frequency\")\n",
    "\n",
    "(feed['current_amount_winsor_5']/j).hist(bins=50, ax=axes[3,0])\n",
    "axes[3,0].set_title('Current Amount - Winsorized 5/95')\n",
    "axes[3,0].set_xlabel(\"Current Amount ($1000's)\")\n",
    "axes[3,0].set_ylabel(\"Frequency\")\n",
    "\n",
    "(feed['goal_amount']/j).hist(bins=50, ax=axes[0,1])\n",
    "axes[0,1].set_title('Goal Amount - Unwinsorized')\n",
    "axes[0,1].set_xlabel(\"Goal Amount ($1000's)\")\n",
    "axes[0,1].set_ylabel(\"Frequency\")\n",
    "\n",
    "(feed['goal_amount_winsor_1']/j).hist(bins=50, ax=axes[1,1])\n",
    "axes[1,1].set_title('Goal Amount - Winsorized 1/99')\n",
    "axes[1,1].set_xlabel(\"Goal Amount ($1000's)\")\n",
    "axes[1,1].set_ylabel(\"Frequency\")\n",
    "\n",
    "(feed['goal_amount_winsor_25']/j).hist(bins=50, ax=axes[2,1])\n",
    "axes[2,1].set_title('Goal Amount - Winsorized 2.5/97.5')\n",
    "axes[2,1].set_xlabel(\"Goal Amount ($1000's)\")\n",
    "axes[2,1].set_ylabel(\"Frequency\")\n",
    "\n",
    "(feed['goal_amount_winsor_5']/j).hist(bins=50, ax=axes[3,1])\n",
    "axes[3,1].set_title('Goal Amount - Winsorized 5/95')\n",
    "axes[3,1].set_xlabel(\"Goal Amount ($1000's)\")\n",
    "axes[3,1].set_ylabel(\"Frequency\")\n",
    "\n",
    "(feed['per_raised']*100).hist(bins=50, ax=axes[0,2])\n",
    "axes[0,2].set_title('Percent Raised - Unwinsorized')\n",
    "axes[0,2].set_xlabel(\"Percent raised (%)\")\n",
    "axes[0,2].set_ylabel(\"Frequency\")\n",
    "\n",
    "(feed['per_raised_winsor_1']*100).hist(bins=50, ax=axes[1,2])\n",
    "axes[1,2].set_title('Percent Raised - Winsorized 1/99')\n",
    "axes[1,2].set_xlabel(\"Percent raised (%)\")\n",
    "axes[1,2].set_ylabel(\"Frequency\")\n",
    "\n",
    "(feed['per_raised_winsor_25']*100).hist(bins=50, ax=axes[2,2])\n",
    "axes[2,2].set_title('Percent Raised - Winsorized 2.5/97.5')\n",
    "axes[2,2].set_xlabel(\"Percent raised (%)\")\n",
    "axes[2,2].set_ylabel(\"Frequency\")\n",
    "\n",
    "(feed['per_raised_winsor_5']*100).hist(bins=50, ax=axes[3,2])\n",
    "axes[3,2].set_title('Percent Raised - Winsorized 5/95')\n",
    "axes[3,2].set_xlabel(\"Percent raised (%)\")\n",
    "axes[3,2].set_ylabel(\"Frequency\")\n",
    "\n",
    "fig.tight_layout(pad=3.0)\n",
    "\n",
    "\n",
    "# axes[0].set_title('SE')\n",
    "# axes[1].set_title('CON1')\n",
    "# axes[2].set_title('CON2')\n",
    "\n",
    "# axes[0].set_xlabel(\"Goal Amount ($ millions)\")\n",
    "# axes[1].set_xlabel(\"Goal Amount ($ millions)\")\n",
    "# axes[2].set_xlabel(\"Goal Amount ($ millions)\")\n",
    "\n",
    "# axes[0].set_ylabel(\"Frequency\")\n",
    "# axes[1].set_ylabel(\"Frequency\")\n",
    "# axes[2].set_ylabel(\"Frequency\")"
   ]
  },
  {
   "cell_type": "code",
   "execution_count": 75,
   "metadata": {},
   "outputs": [
    {
     "data": {
      "text/plain": [
       "0.1437684215055614"
      ]
     },
     "execution_count": 75,
     "metadata": {},
     "output_type": "execute_result"
    }
   ],
   "source": [
    "pd.Series(feed['per_raised'] > 1).mean()"
   ]
  },
  {
   "cell_type": "code",
   "execution_count": 73,
   "metadata": {},
   "outputs": [
    {
     "data": {
      "text/plain": [
       "0.1437684215055614"
      ]
     },
     "execution_count": 73,
     "metadata": {},
     "output_type": "execute_result"
    }
   ],
   "source": [
    "13365/feed.shape[0]"
   ]
  },
  {
   "cell_type": "code",
   "execution_count": null,
   "metadata": {},
   "outputs": [],
   "source": []
  },
  {
   "cell_type": "code",
   "execution_count": 78,
   "metadata": {},
   "outputs": [],
   "source": [
    "df = feed[['url','current_amount','goal_amount','created_at']]"
   ]
  },
  {
   "cell_type": "code",
   "execution_count": 79,
   "metadata": {},
   "outputs": [],
   "source": [
    "percent_missing = df.isnull().sum() * 100 / len(df)\n",
    "missing_value_df = pd.DataFrame({'column_name': df.columns,\n",
    "                                 'percent_missing': percent_missing})"
   ]
  },
  {
   "cell_type": "code",
   "execution_count": 80,
   "metadata": {},
   "outputs": [
    {
     "data": {
      "text/html": [
       "<div>\n",
       "<style scoped>\n",
       "    .dataframe tbody tr th:only-of-type {\n",
       "        vertical-align: middle;\n",
       "    }\n",
       "\n",
       "    .dataframe tbody tr th {\n",
       "        vertical-align: top;\n",
       "    }\n",
       "\n",
       "    .dataframe thead th {\n",
       "        text-align: right;\n",
       "    }\n",
       "</style>\n",
       "<table border=\"1\" class=\"dataframe\">\n",
       "  <thead>\n",
       "    <tr style=\"text-align: right;\">\n",
       "      <th></th>\n",
       "      <th>column_name</th>\n",
       "      <th>percent_missing</th>\n",
       "    </tr>\n",
       "  </thead>\n",
       "  <tbody>\n",
       "    <tr>\n",
       "      <th>url</th>\n",
       "      <td>url</td>\n",
       "      <td>0.0</td>\n",
       "    </tr>\n",
       "    <tr>\n",
       "      <th>current_amount</th>\n",
       "      <td>current_amount</td>\n",
       "      <td>0.0</td>\n",
       "    </tr>\n",
       "    <tr>\n",
       "      <th>goal_amount</th>\n",
       "      <td>goal_amount</td>\n",
       "      <td>0.0</td>\n",
       "    </tr>\n",
       "    <tr>\n",
       "      <th>created_at</th>\n",
       "      <td>created_at</td>\n",
       "      <td>0.0</td>\n",
       "    </tr>\n",
       "  </tbody>\n",
       "</table>\n",
       "</div>"
      ],
      "text/plain": [
       "                   column_name  percent_missing\n",
       "url                        url              0.0\n",
       "current_amount  current_amount              0.0\n",
       "goal_amount        goal_amount              0.0\n",
       "created_at          created_at              0.0"
      ]
     },
     "execution_count": 80,
     "metadata": {},
     "output_type": "execute_result"
    }
   ],
   "source": [
    "missing_value_df"
   ]
  },
  {
   "cell_type": "code",
   "execution_count": 85,
   "metadata": {},
   "outputs": [
    {
     "name": "stdout",
     "output_type": "stream",
     "text": [
      "SpearmanrResult(correlation=0.4956879112948479, pvalue=0.0)\n",
      "SpearmanrResult(correlation=0.8759624677508121, pvalue=0.0)\n"
     ]
    }
   ],
   "source": [
    "import scipy\n",
    "print(scipy.stats.spearmanr(feed['goal_amount_winsor_1'], feed['current_amount']))\n",
    "print(scipy.stats.spearmanr(feed['donation_count'], feed['current_amount']))"
   ]
  },
  {
   "cell_type": "code",
   "execution_count": null,
   "metadata": {},
   "outputs": [],
   "source": []
  },
  {
   "cell_type": "code",
   "execution_count": 88,
   "metadata": {},
   "outputs": [],
   "source": [
    "from scipy import stats\n",
    "\n",
    "F, p = stats.f_oneway(feed['current_amount'][feed['year'] == 2010], \n",
    "                      feed['current_amount'][feed['year'] == 2011], \n",
    "                      feed['current_amount'][feed['year'] == 2012],\n",
    "                      feed['current_amount'][feed['year'] == 2013], \n",
    "                      feed['current_amount'][feed['year'] == 2014], \n",
    "                      feed['current_amount'][feed['year'] == 2015], \n",
    "                      feed['current_amount'][feed['year'] == 2016], \n",
    "                      feed['current_amount'][feed['year'] == 2017], \n",
    "                      feed['current_amount'][feed['year'] == 2018], \n",
    "                      feed['current_amount'][feed['year'] == 2019], \n",
    "                      feed['current_amount'][feed['year'] == 2020],\n",
    "                     )"
   ]
  },
  {
   "cell_type": "code",
   "execution_count": 89,
   "metadata": {},
   "outputs": [
    {
     "name": "stdout",
     "output_type": "stream",
     "text": [
      "60.86435413443495\n",
      "6.503800507086767e-124\n"
     ]
    }
   ],
   "source": [
    "print(F)\n",
    "print(p)"
   ]
  },
  {
   "cell_type": "code",
   "execution_count": null,
   "metadata": {},
   "outputs": [],
   "source": []
  },
  {
   "cell_type": "code",
   "execution_count": null,
   "metadata": {},
   "outputs": [],
   "source": []
  },
  {
   "cell_type": "markdown",
   "metadata": {},
   "source": [
    "## Data cleaning and defining new variables"
   ]
  },
  {
   "cell_type": "markdown",
   "metadata": {},
   "source": [
    "### Cleaning time"
   ]
  },
  {
   "cell_type": "code",
   "execution_count": 86,
   "metadata": {},
   "outputs": [],
   "source": [
    "feed['year'] = [x.split(\"-\")[0] for x in feed['created_at']]"
   ]
  },
  {
   "cell_type": "code",
   "execution_count": 87,
   "metadata": {},
   "outputs": [],
   "source": [
    "feed['year'] = feed['year'].astype(str).astype(int)"
   ]
  },
  {
   "cell_type": "markdown",
   "metadata": {},
   "source": [
    "### Cleaning financial data"
   ]
  },
  {
   "cell_type": "code",
   "execution_count": 8,
   "metadata": {},
   "outputs": [],
   "source": [
    "feed['per_raised'] = feed['current_amount']/feed['goal_amount']"
   ]
  },
  {
   "cell_type": "code",
   "execution_count": 9,
   "metadata": {},
   "outputs": [],
   "source": [
    "feed['hit_goal'] = [0 if x < 1 else 1 for x in feed['per_raised']]"
   ]
  },
  {
   "cell_type": "markdown",
   "metadata": {},
   "source": [
    "### Cleaning location"
   ]
  },
  {
   "cell_type": "code",
   "execution_count": 10,
   "metadata": {},
   "outputs": [
    {
     "data": {
      "text/plain": [
       "0           Kissimmee, FL\n",
       "1            New York, NY\n",
       "2            Prescott, AR\n",
       "3          Woodbridge, VA\n",
       "4             Alachua, FL\n",
       "               ...       \n",
       "99938        Gallatin, TN\n",
       "99939         Lilburn, GA\n",
       "99940     Saint Louis, MO\n",
       "99941           Boone, IA\n",
       "99942    Philadelphia, PA\n",
       "Name: city, Length: 92962, dtype: object"
      ]
     },
     "execution_count": 10,
     "metadata": {},
     "output_type": "execute_result"
    }
   ],
   "source": [
    "feed['city']"
   ]
  },
  {
   "cell_type": "markdown",
   "metadata": {},
   "source": [
    "It looks like the 'city' variable is in the form 'city, state'\n",
    "\n",
    "So we will extract the state from the city variable"
   ]
  },
  {
   "cell_type": "code",
   "execution_count": 11,
   "metadata": {},
   "outputs": [],
   "source": [
    "cities_split = [x.split(\",\") for x in feed['city']]\n",
    "\n",
    "def getState(d):\n",
    "    results = []\n",
    "    for l in d:\n",
    "        if(len(l)>1):\n",
    "            results.append(l[1][1:])\n",
    "        else:\n",
    "            results.append(\"NO_STATE\")\n",
    "    return results\n",
    "\n",
    "states = getState(cities_split)"
   ]
  },
  {
   "cell_type": "code",
   "execution_count": 12,
   "metadata": {},
   "outputs": [
    {
     "data": {
      "text/plain": [
       "Index(['CA', 'TX', 'FL', 'NY', 'IL', 'GA', 'PA', 'WA', 'MI', 'NC', 'OH', 'AZ',\n",
       "       'CO', 'VA', 'NJ', 'MN', 'MA', 'TN', 'OR', 'MO', 'IN', 'MD', 'WI', 'SC',\n",
       "       'UT', 'LA', 'OK', 'AL', 'NV', 'CT', 'KY', 'KS', 'IA', 'AR', 'ID', 'ME',\n",
       "       'NE', 'NM', 'NH', 'MT', 'MS', 'HI', 'NO_STATE', 'WV', 'AK', 'RI', 'SD',\n",
       "       'ND', 'VT', 'DE', 'WY', 'PR', 'DC', 'GU', 'US', 'Florida', 'VI',\n",
       "       'Minnesota', 'Oregon', 'Pa', 'Illinois', 'MP', 'Cincinnati', 'S',\n",
       "       'New Hampshire', 'AS'],\n",
       "      dtype='object')"
      ]
     },
     "execution_count": 12,
     "metadata": {},
     "output_type": "execute_result"
    }
   ],
   "source": [
    "pd.Series(states).value_counts().index"
   ]
  },
  {
   "cell_type": "markdown",
   "metadata": {},
   "source": [
    "Some states are not listed as abbreviations, so convert to abbreviations"
   ]
  },
  {
   "cell_type": "code",
   "execution_count": 13,
   "metadata": {},
   "outputs": [
    {
     "data": {
      "text/plain": [
       "Index(['CA', 'TX', 'FL', 'NY', 'IL', 'GA', 'PA', 'WA', 'MI', 'NC', 'OH', 'AZ',\n",
       "       'CO', 'VA', 'NJ', 'MN', 'MA', 'OR', 'TN', 'MO', 'IN', 'MD', 'WI', 'SC',\n",
       "       'UT', 'LA', 'OK', 'AL', 'NV', 'CT', 'KY', 'KS', 'IA', 'AR', 'ID', 'ME',\n",
       "       'NE', 'NM', 'NH', 'MT', 'MS', 'HI', 'NO_STATE', 'WV', 'AK', 'RI', 'SD',\n",
       "       'ND', 'VT', 'DE', 'WY', 'PR', 'DC', 'GU', 'US', 'VI', 'Pa', 'MP',\n",
       "       'Cincinnati', 'S', 'AS'],\n",
       "      dtype='object')"
      ]
     },
     "execution_count": 13,
     "metadata": {},
     "output_type": "execute_result"
    }
   ],
   "source": [
    "def CleanStates(states):\n",
    "    results = []\n",
    "    for state in states:\n",
    "        if state == \"Minnesota\":\n",
    "            results.append('MN')\n",
    "        elif state == \"Florida\":\n",
    "            results.append('FL')\n",
    "        elif state == \"Oregon\":\n",
    "            results.append('OR')\n",
    "        elif state == \"Illinois\":\n",
    "            results.append('IL')\n",
    "        elif state == \"New Hampshire\":\n",
    "            results.append('NH')\n",
    "        else:\n",
    "            results.append(state)\n",
    "    return results\n",
    "\n",
    "states = CleanStates(states)\n",
    "\n",
    "pd.Series(states).value_counts().index"
   ]
  },
  {
   "cell_type": "code",
   "execution_count": 14,
   "metadata": {},
   "outputs": [],
   "source": [
    "#add variable to rest of data to inspect\n",
    "feed['state'] = states"
   ]
  },
  {
   "cell_type": "markdown",
   "metadata": {},
   "source": [
    "Need to inspect these further:\n",
    "- PR\n",
    "- DC\n",
    "- Pa\n",
    "- MP\n",
    "- Cincinnati\n",
    "- S\n",
    "- AS\n",
    "- GU\n",
    "- VI"
   ]
  },
  {
   "cell_type": "code",
   "execution_count": 15,
   "metadata": {
    "scrolled": true
   },
   "outputs": [
    {
     "data": {
      "text/html": [
       "<div>\n",
       "<style scoped>\n",
       "    .dataframe tbody tr th:only-of-type {\n",
       "        vertical-align: middle;\n",
       "    }\n",
       "\n",
       "    .dataframe tbody tr th {\n",
       "        vertical-align: top;\n",
       "    }\n",
       "\n",
       "    .dataframe thead th {\n",
       "        text-align: right;\n",
       "    }\n",
       "</style>\n",
       "<table border=\"1\" class=\"dataframe\">\n",
       "  <thead>\n",
       "    <tr style=\"text-align: right;\">\n",
       "      <th></th>\n",
       "      <th>url</th>\n",
       "      <th>current_amount</th>\n",
       "      <th>goal_amount</th>\n",
       "      <th>donation_count</th>\n",
       "      <th>created_at</th>\n",
       "      <th>city</th>\n",
       "      <th>postal_code</th>\n",
       "      <th>country</th>\n",
       "      <th>year</th>\n",
       "      <th>per_raised</th>\n",
       "      <th>hit_goal</th>\n",
       "      <th>state</th>\n",
       "    </tr>\n",
       "  </thead>\n",
       "  <tbody>\n",
       "    <tr>\n",
       "      <th>113</th>\n",
       "      <td>https://www.gofundme.com/f/1qz4jqekk0</td>\n",
       "      <td>497.0</td>\n",
       "      <td>3000.0</td>\n",
       "      <td>19</td>\n",
       "      <td>2019-09-09T07:22:34-05:00</td>\n",
       "      <td>Arecibo, PR</td>\n",
       "      <td>614</td>\n",
       "      <td>US</td>\n",
       "      <td>2019</td>\n",
       "      <td>0.165667</td>\n",
       "      <td>0</td>\n",
       "      <td>PR</td>\n",
       "    </tr>\n",
       "    <tr>\n",
       "      <th>142</th>\n",
       "      <td>https://www.gofundme.com/f/pro-fondos-stephani...</td>\n",
       "      <td>910.0</td>\n",
       "      <td>10000.0</td>\n",
       "      <td>33</td>\n",
       "      <td>2019-06-14T10:55:30-05:00</td>\n",
       "      <td>Vega Baja, PR</td>\n",
       "      <td>693</td>\n",
       "      <td>US</td>\n",
       "      <td>2019</td>\n",
       "      <td>0.091000</td>\n",
       "      <td>0</td>\n",
       "      <td>PR</td>\n",
       "    </tr>\n",
       "    <tr>\n",
       "      <th>157</th>\n",
       "      <td>https://www.gofundme.com/f/k7nz2-gastos-medico...</td>\n",
       "      <td>3144.0</td>\n",
       "      <td>15000.0</td>\n",
       "      <td>60</td>\n",
       "      <td>2019-02-22T18:59:31-06:00</td>\n",
       "      <td>Ponce, PR</td>\n",
       "      <td>728</td>\n",
       "      <td>US</td>\n",
       "      <td>2019</td>\n",
       "      <td>0.209600</td>\n",
       "      <td>0</td>\n",
       "      <td>PR</td>\n",
       "    </tr>\n",
       "    <tr>\n",
       "      <th>770</th>\n",
       "      <td>https://www.gofundme.com/f/supportalexandra</td>\n",
       "      <td>5859.0</td>\n",
       "      <td>2500.0</td>\n",
       "      <td>79</td>\n",
       "      <td>2015-03-01T21:56:17-06:00</td>\n",
       "      <td>Washington, DC</td>\n",
       "      <td>20005</td>\n",
       "      <td>US</td>\n",
       "      <td>2015</td>\n",
       "      <td>2.343600</td>\n",
       "      <td>1</td>\n",
       "      <td>DC</td>\n",
       "    </tr>\n",
       "    <tr>\n",
       "      <th>777</th>\n",
       "      <td>https://www.gofundme.com/f/e2q4wh-examenes-med...</td>\n",
       "      <td>725.0</td>\n",
       "      <td>500.0</td>\n",
       "      <td>14</td>\n",
       "      <td>2019-10-22T18:54:30-05:00</td>\n",
       "      <td>Quebradillas, PR</td>\n",
       "      <td>678</td>\n",
       "      <td>US</td>\n",
       "      <td>2019</td>\n",
       "      <td>1.450000</td>\n",
       "      <td>1</td>\n",
       "      <td>PR</td>\n",
       "    </tr>\n",
       "    <tr>\n",
       "      <th>...</th>\n",
       "      <td>...</td>\n",
       "      <td>...</td>\n",
       "      <td>...</td>\n",
       "      <td>...</td>\n",
       "      <td>...</td>\n",
       "      <td>...</td>\n",
       "      <td>...</td>\n",
       "      <td>...</td>\n",
       "      <td>...</td>\n",
       "      <td>...</td>\n",
       "      <td>...</td>\n",
       "      <td>...</td>\n",
       "    </tr>\n",
       "    <tr>\n",
       "      <th>98402</th>\n",
       "      <td>https://www.gofundme.com/f/medical-supplies-fo...</td>\n",
       "      <td>1586.0</td>\n",
       "      <td>1000.0</td>\n",
       "      <td>41</td>\n",
       "      <td>2020-06-02T13:45:10-05:00</td>\n",
       "      <td>Washington, DC</td>\n",
       "      <td>20007</td>\n",
       "      <td>US</td>\n",
       "      <td>2020</td>\n",
       "      <td>1.586000</td>\n",
       "      <td>1</td>\n",
       "      <td>DC</td>\n",
       "    </tr>\n",
       "    <tr>\n",
       "      <th>98691</th>\n",
       "      <td>https://www.gofundme.com/f/k4zq7w</td>\n",
       "      <td>3355.0</td>\n",
       "      <td>3000.0</td>\n",
       "      <td>48</td>\n",
       "      <td>2015-01-13T14:20:07-06:00</td>\n",
       "      <td>Bayamon, PR</td>\n",
       "      <td>959</td>\n",
       "      <td>US</td>\n",
       "      <td>2015</td>\n",
       "      <td>1.118333</td>\n",
       "      <td>1</td>\n",
       "      <td>PR</td>\n",
       "    </tr>\n",
       "    <tr>\n",
       "      <th>98813</th>\n",
       "      <td>https://www.gofundme.com/f/9jsx3g7w</td>\n",
       "      <td>1920.0</td>\n",
       "      <td>7500.0</td>\n",
       "      <td>19</td>\n",
       "      <td>2016-03-06T14:21:48-06:00</td>\n",
       "      <td>Vega Alta, PR</td>\n",
       "      <td>692</td>\n",
       "      <td>US</td>\n",
       "      <td>2016</td>\n",
       "      <td>0.256000</td>\n",
       "      <td>0</td>\n",
       "      <td>PR</td>\n",
       "    </tr>\n",
       "    <tr>\n",
       "      <th>99098</th>\n",
       "      <td>https://www.gofundme.com/f/kindness-for-michael</td>\n",
       "      <td>969.0</td>\n",
       "      <td>10000.0</td>\n",
       "      <td>29</td>\n",
       "      <td>2018-12-19T08:33:30-06:00</td>\n",
       "      <td>Arecibo, PR</td>\n",
       "      <td>613</td>\n",
       "      <td>US</td>\n",
       "      <td>2018</td>\n",
       "      <td>0.096900</td>\n",
       "      <td>0</td>\n",
       "      <td>PR</td>\n",
       "    </tr>\n",
       "    <tr>\n",
       "      <th>99196</th>\n",
       "      <td>https://www.gofundme.com/f/medicine-uncovered-...</td>\n",
       "      <td>250.0</td>\n",
       "      <td>520.0</td>\n",
       "      <td>5</td>\n",
       "      <td>2020-02-08T14:25:56-06:00</td>\n",
       "      <td>Washington, DC</td>\n",
       "      <td>20002</td>\n",
       "      <td>US</td>\n",
       "      <td>2020</td>\n",
       "      <td>0.480769</td>\n",
       "      <td>0</td>\n",
       "      <td>DC</td>\n",
       "    </tr>\n",
       "  </tbody>\n",
       "</table>\n",
       "<p>380 rows × 12 columns</p>\n",
       "</div>"
      ],
      "text/plain": [
       "                                                     url  current_amount  \\\n",
       "113                https://www.gofundme.com/f/1qz4jqekk0           497.0   \n",
       "142    https://www.gofundme.com/f/pro-fondos-stephani...           910.0   \n",
       "157    https://www.gofundme.com/f/k7nz2-gastos-medico...          3144.0   \n",
       "770          https://www.gofundme.com/f/supportalexandra          5859.0   \n",
       "777    https://www.gofundme.com/f/e2q4wh-examenes-med...           725.0   \n",
       "...                                                  ...             ...   \n",
       "98402  https://www.gofundme.com/f/medical-supplies-fo...          1586.0   \n",
       "98691                  https://www.gofundme.com/f/k4zq7w          3355.0   \n",
       "98813                https://www.gofundme.com/f/9jsx3g7w          1920.0   \n",
       "99098    https://www.gofundme.com/f/kindness-for-michael           969.0   \n",
       "99196  https://www.gofundme.com/f/medicine-uncovered-...           250.0   \n",
       "\n",
       "       goal_amount  donation_count                 created_at  \\\n",
       "113         3000.0              19  2019-09-09T07:22:34-05:00   \n",
       "142        10000.0              33  2019-06-14T10:55:30-05:00   \n",
       "157        15000.0              60  2019-02-22T18:59:31-06:00   \n",
       "770         2500.0              79  2015-03-01T21:56:17-06:00   \n",
       "777          500.0              14  2019-10-22T18:54:30-05:00   \n",
       "...            ...             ...                        ...   \n",
       "98402       1000.0              41  2020-06-02T13:45:10-05:00   \n",
       "98691       3000.0              48  2015-01-13T14:20:07-06:00   \n",
       "98813       7500.0              19  2016-03-06T14:21:48-06:00   \n",
       "99098      10000.0              29  2018-12-19T08:33:30-06:00   \n",
       "99196        520.0               5  2020-02-08T14:25:56-06:00   \n",
       "\n",
       "                   city postal_code country  year  per_raised  hit_goal state  \n",
       "113         Arecibo, PR         614      US  2019    0.165667         0    PR  \n",
       "142       Vega Baja, PR         693      US  2019    0.091000         0    PR  \n",
       "157           Ponce, PR         728      US  2019    0.209600         0    PR  \n",
       "770      Washington, DC       20005      US  2015    2.343600         1    DC  \n",
       "777    Quebradillas, PR         678      US  2019    1.450000         1    PR  \n",
       "...                 ...         ...     ...   ...         ...       ...   ...  \n",
       "98402    Washington, DC       20007      US  2020    1.586000         1    DC  \n",
       "98691       Bayamon, PR         959      US  2015    1.118333         1    PR  \n",
       "98813     Vega Alta, PR         692      US  2016    0.256000         0    PR  \n",
       "99098       Arecibo, PR         613      US  2018    0.096900         0    PR  \n",
       "99196    Washington, DC       20002      US  2020    0.480769         0    DC  \n",
       "\n",
       "[380 rows x 12 columns]"
      ]
     },
     "execution_count": 15,
     "metadata": {},
     "output_type": "execute_result"
    }
   ],
   "source": [
    "feed[feed['state'].isin(['PR','DC'])]"
   ]
  },
  {
   "cell_type": "code",
   "execution_count": 16,
   "metadata": {
    "scrolled": true
   },
   "outputs": [
    {
     "data": {
      "text/html": [
       "<div>\n",
       "<style scoped>\n",
       "    .dataframe tbody tr th:only-of-type {\n",
       "        vertical-align: middle;\n",
       "    }\n",
       "\n",
       "    .dataframe tbody tr th {\n",
       "        vertical-align: top;\n",
       "    }\n",
       "\n",
       "    .dataframe thead th {\n",
       "        text-align: right;\n",
       "    }\n",
       "</style>\n",
       "<table border=\"1\" class=\"dataframe\">\n",
       "  <thead>\n",
       "    <tr style=\"text-align: right;\">\n",
       "      <th></th>\n",
       "      <th>url</th>\n",
       "      <th>current_amount</th>\n",
       "      <th>goal_amount</th>\n",
       "      <th>donation_count</th>\n",
       "      <th>created_at</th>\n",
       "      <th>city</th>\n",
       "      <th>postal_code</th>\n",
       "      <th>country</th>\n",
       "      <th>year</th>\n",
       "      <th>per_raised</th>\n",
       "      <th>hit_goal</th>\n",
       "      <th>state</th>\n",
       "    </tr>\n",
       "  </thead>\n",
       "  <tbody>\n",
       "    <tr>\n",
       "      <th>2250</th>\n",
       "      <td>https://www.gofundme.com/f/RAY-STRONG</td>\n",
       "      <td>5860.0</td>\n",
       "      <td>50000.0</td>\n",
       "      <td>79</td>\n",
       "      <td>2015-10-29T17:59:22-05:00</td>\n",
       "      <td>Canonsburg, Pa, PA</td>\n",
       "      <td>15317</td>\n",
       "      <td>US</td>\n",
       "      <td>2015</td>\n",
       "      <td>0.117200</td>\n",
       "      <td>0</td>\n",
       "      <td>Pa</td>\n",
       "    </tr>\n",
       "    <tr>\n",
       "      <th>2695</th>\n",
       "      <td>https://www.gofundme.com/f/supporting-anson039...</td>\n",
       "      <td>2160.0</td>\n",
       "      <td>10000.0</td>\n",
       "      <td>30</td>\n",
       "      <td>2019-12-28T20:14:27-06:00</td>\n",
       "      <td>St Thomas, VI</td>\n",
       "      <td>802</td>\n",
       "      <td>US</td>\n",
       "      <td>2019</td>\n",
       "      <td>0.216000</td>\n",
       "      <td>0</td>\n",
       "      <td>VI</td>\n",
       "    </tr>\n",
       "    <tr>\n",
       "      <th>4475</th>\n",
       "      <td>https://www.gofundme.com/f/ingrid039s-surgery-...</td>\n",
       "      <td>7045.0</td>\n",
       "      <td>10000.0</td>\n",
       "      <td>33</td>\n",
       "      <td>2020-08-06T14:43:12-05:00</td>\n",
       "      <td>St Thomas, VI</td>\n",
       "      <td>802</td>\n",
       "      <td>US</td>\n",
       "      <td>2020</td>\n",
       "      <td>0.704500</td>\n",
       "      <td>0</td>\n",
       "      <td>VI</td>\n",
       "    </tr>\n",
       "    <tr>\n",
       "      <th>5242</th>\n",
       "      <td>https://www.gofundme.com/f/kikifire</td>\n",
       "      <td>10810.0</td>\n",
       "      <td>15000.0</td>\n",
       "      <td>95</td>\n",
       "      <td>2015-01-30T15:45:02-06:00</td>\n",
       "      <td>Kingshill, VI</td>\n",
       "      <td>851</td>\n",
       "      <td>US</td>\n",
       "      <td>2015</td>\n",
       "      <td>0.720667</td>\n",
       "      <td>0</td>\n",
       "      <td>VI</td>\n",
       "    </tr>\n",
       "    <tr>\n",
       "      <th>5451</th>\n",
       "      <td>https://www.gofundme.com/f/h4729n6c</td>\n",
       "      <td>14065.0</td>\n",
       "      <td>10000.0</td>\n",
       "      <td>127</td>\n",
       "      <td>2015-10-24T11:27:59-05:00</td>\n",
       "      <td>St Thomas, VI</td>\n",
       "      <td>801</td>\n",
       "      <td>US</td>\n",
       "      <td>2015</td>\n",
       "      <td>1.406500</td>\n",
       "      <td>1</td>\n",
       "      <td>VI</td>\n",
       "    </tr>\n",
       "    <tr>\n",
       "      <th>7078</th>\n",
       "      <td>https://www.gofundme.com/f/CaptainJay</td>\n",
       "      <td>7775.0</td>\n",
       "      <td>50000.0</td>\n",
       "      <td>59</td>\n",
       "      <td>2016-02-29T20:14:39-06:00</td>\n",
       "      <td>St John, VI</td>\n",
       "      <td>831</td>\n",
       "      <td>US</td>\n",
       "      <td>2016</td>\n",
       "      <td>0.155500</td>\n",
       "      <td>0</td>\n",
       "      <td>VI</td>\n",
       "    </tr>\n",
       "    <tr>\n",
       "      <th>13335</th>\n",
       "      <td>https://www.gofundme.com/f/kevin-gilfoyle-fami...</td>\n",
       "      <td>5715.0</td>\n",
       "      <td>5000.0</td>\n",
       "      <td>60</td>\n",
       "      <td>2020-03-01T14:09:34-06:00</td>\n",
       "      <td>Canonsburg, Pa, PA</td>\n",
       "      <td>15317</td>\n",
       "      <td>US</td>\n",
       "      <td>2020</td>\n",
       "      <td>1.143000</td>\n",
       "      <td>1</td>\n",
       "      <td>Pa</td>\n",
       "    </tr>\n",
       "    <tr>\n",
       "      <th>13414</th>\n",
       "      <td>https://www.gofundme.com/f/7s74xzjw</td>\n",
       "      <td>4670.0</td>\n",
       "      <td>10000.0</td>\n",
       "      <td>71</td>\n",
       "      <td>2015-10-25T17:55:14-05:00</td>\n",
       "      <td>Saipan, MP</td>\n",
       "      <td>96950</td>\n",
       "      <td>US</td>\n",
       "      <td>2015</td>\n",
       "      <td>0.467000</td>\n",
       "      <td>0</td>\n",
       "      <td>MP</td>\n",
       "    </tr>\n",
       "    <tr>\n",
       "      <th>14211</th>\n",
       "      <td>https://www.gofundme.com/f/ayudemos-a-francisc...</td>\n",
       "      <td>1005.0</td>\n",
       "      <td>3000.0</td>\n",
       "      <td>24</td>\n",
       "      <td>2020-05-21T12:36:05-05:00</td>\n",
       "      <td>Canonsburg, Pa, PA</td>\n",
       "      <td>15317</td>\n",
       "      <td>US</td>\n",
       "      <td>2020</td>\n",
       "      <td>0.335000</td>\n",
       "      <td>0</td>\n",
       "      <td>Pa</td>\n",
       "    </tr>\n",
       "    <tr>\n",
       "      <th>14844</th>\n",
       "      <td>https://www.gofundme.com/f/a-mother039s-tears</td>\n",
       "      <td>10141.0</td>\n",
       "      <td>150000.0</td>\n",
       "      <td>181</td>\n",
       "      <td>2018-08-20T07:19:32-05:00</td>\n",
       "      <td>Saipan, MP</td>\n",
       "      <td>96950</td>\n",
       "      <td>US</td>\n",
       "      <td>2018</td>\n",
       "      <td>0.067607</td>\n",
       "      <td>0</td>\n",
       "      <td>MP</td>\n",
       "    </tr>\n",
       "    <tr>\n",
       "      <th>14963</th>\n",
       "      <td>https://www.gofundme.com/f/zkdrp77w</td>\n",
       "      <td>13137.0</td>\n",
       "      <td>30000.0</td>\n",
       "      <td>163</td>\n",
       "      <td>2016-02-14T15:18:11-06:00</td>\n",
       "      <td>Canonsburg, Pa, PA</td>\n",
       "      <td>15317</td>\n",
       "      <td>US</td>\n",
       "      <td>2016</td>\n",
       "      <td>0.437900</td>\n",
       "      <td>0</td>\n",
       "      <td>Pa</td>\n",
       "    </tr>\n",
       "    <tr>\n",
       "      <th>16959</th>\n",
       "      <td>https://www.gofundme.com/f/brent-smith-goes-to...</td>\n",
       "      <td>5830.0</td>\n",
       "      <td>14000.0</td>\n",
       "      <td>49</td>\n",
       "      <td>2019-02-15T12:15:41-06:00</td>\n",
       "      <td>St Thomas, VI</td>\n",
       "      <td>802</td>\n",
       "      <td>US</td>\n",
       "      <td>2019</td>\n",
       "      <td>0.416429</td>\n",
       "      <td>0</td>\n",
       "      <td>VI</td>\n",
       "    </tr>\n",
       "    <tr>\n",
       "      <th>18625</th>\n",
       "      <td>https://www.gofundme.com/f/susasanscancer-sucks</td>\n",
       "      <td>788.0</td>\n",
       "      <td>5000.0</td>\n",
       "      <td>16</td>\n",
       "      <td>2019-10-21T12:55:28-05:00</td>\n",
       "      <td>Colerain Township, Cincinnati, OH</td>\n",
       "      <td>45251</td>\n",
       "      <td>US</td>\n",
       "      <td>2019</td>\n",
       "      <td>0.157600</td>\n",
       "      <td>0</td>\n",
       "      <td>Cincinnati</td>\n",
       "    </tr>\n",
       "    <tr>\n",
       "      <th>19771</th>\n",
       "      <td>https://www.gofundme.com/f/BlakeandKallie</td>\n",
       "      <td>10795.0</td>\n",
       "      <td>75000.0</td>\n",
       "      <td>126</td>\n",
       "      <td>2015-08-18T19:58:31-05:00</td>\n",
       "      <td>St Thomas, VI</td>\n",
       "      <td>802</td>\n",
       "      <td>US</td>\n",
       "      <td>2015</td>\n",
       "      <td>0.143933</td>\n",
       "      <td>0</td>\n",
       "      <td>VI</td>\n",
       "    </tr>\n",
       "    <tr>\n",
       "      <th>20886</th>\n",
       "      <td>https://www.gofundme.com/f/qbucvst8</td>\n",
       "      <td>15420.0</td>\n",
       "      <td>20000.0</td>\n",
       "      <td>105</td>\n",
       "      <td>2016-03-15T11:06:38-05:00</td>\n",
       "      <td>St John, VI</td>\n",
       "      <td>831</td>\n",
       "      <td>US</td>\n",
       "      <td>2016</td>\n",
       "      <td>0.771000</td>\n",
       "      <td>0</td>\n",
       "      <td>VI</td>\n",
       "    </tr>\n",
       "    <tr>\n",
       "      <th>21022</th>\n",
       "      <td>https://www.gofundme.com/f/help-theresa-beat-l...</td>\n",
       "      <td>615.0</td>\n",
       "      <td>5000.0</td>\n",
       "      <td>12</td>\n",
       "      <td>2020-01-31T08:15:52-06:00</td>\n",
       "      <td>Canonsburg, Pa, PA</td>\n",
       "      <td>15317</td>\n",
       "      <td>US</td>\n",
       "      <td>2020</td>\n",
       "      <td>0.123000</td>\n",
       "      <td>0</td>\n",
       "      <td>Pa</td>\n",
       "    </tr>\n",
       "    <tr>\n",
       "      <th>23060</th>\n",
       "      <td>https://www.gofundme.com/f/benseever</td>\n",
       "      <td>6870.0</td>\n",
       "      <td>10000.0</td>\n",
       "      <td>53</td>\n",
       "      <td>2014-12-10T22:39:58-06:00</td>\n",
       "      <td>St John, VI</td>\n",
       "      <td>831</td>\n",
       "      <td>US</td>\n",
       "      <td>2014</td>\n",
       "      <td>0.687000</td>\n",
       "      <td>0</td>\n",
       "      <td>VI</td>\n",
       "    </tr>\n",
       "    <tr>\n",
       "      <th>26415</th>\n",
       "      <td>https://www.gofundme.com/f/xt3xf8</td>\n",
       "      <td>2865.0</td>\n",
       "      <td>10000.0</td>\n",
       "      <td>57</td>\n",
       "      <td>2015-06-24T17:18:55-05:00</td>\n",
       "      <td>Colerain Township, Cincinnati, OH</td>\n",
       "      <td>45251</td>\n",
       "      <td>US</td>\n",
       "      <td>2015</td>\n",
       "      <td>0.286500</td>\n",
       "      <td>0</td>\n",
       "      <td>Cincinnati</td>\n",
       "    </tr>\n",
       "    <tr>\n",
       "      <th>29920</th>\n",
       "      <td>https://www.gofundme.com/f/jmmfundraiser</td>\n",
       "      <td>4950.0</td>\n",
       "      <td>50000.0</td>\n",
       "      <td>40</td>\n",
       "      <td>2016-04-11T21:36:58-05:00</td>\n",
       "      <td>Tinian, MP</td>\n",
       "      <td>96952</td>\n",
       "      <td>US</td>\n",
       "      <td>2016</td>\n",
       "      <td>0.099000</td>\n",
       "      <td>0</td>\n",
       "      <td>MP</td>\n",
       "    </tr>\n",
       "    <tr>\n",
       "      <th>31382</th>\n",
       "      <td>https://www.gofundme.com/f/racing-to-cure-trau...</td>\n",
       "      <td>2030.0</td>\n",
       "      <td>5000.0</td>\n",
       "      <td>25</td>\n",
       "      <td>2019-09-03T17:23:28-05:00</td>\n",
       "      <td>Canonsburg, Pa, PA</td>\n",
       "      <td>15317</td>\n",
       "      <td>US</td>\n",
       "      <td>2019</td>\n",
       "      <td>0.406000</td>\n",
       "      <td>0</td>\n",
       "      <td>Pa</td>\n",
       "    </tr>\n",
       "    <tr>\n",
       "      <th>32012</th>\n",
       "      <td>https://www.gofundme.com/f/please-help-evarose...</td>\n",
       "      <td>3700.0</td>\n",
       "      <td>15000.0</td>\n",
       "      <td>53</td>\n",
       "      <td>2020-02-18T10:06:12-06:00</td>\n",
       "      <td>Saipan, MP</td>\n",
       "      <td>96950</td>\n",
       "      <td>US</td>\n",
       "      <td>2020</td>\n",
       "      <td>0.246667</td>\n",
       "      <td>0</td>\n",
       "      <td>MP</td>\n",
       "    </tr>\n",
       "    <tr>\n",
       "      <th>32742</th>\n",
       "      <td>https://www.gofundme.com/f/FundsOfLoveForDeko</td>\n",
       "      <td>2610.0</td>\n",
       "      <td>20000.0</td>\n",
       "      <td>54</td>\n",
       "      <td>2015-02-10T17:37:23-06:00</td>\n",
       "      <td>Saipan, MP</td>\n",
       "      <td>96950</td>\n",
       "      <td>US</td>\n",
       "      <td>2015</td>\n",
       "      <td>0.130500</td>\n",
       "      <td>0</td>\n",
       "      <td>MP</td>\n",
       "    </tr>\n",
       "    <tr>\n",
       "      <th>39241</th>\n",
       "      <td>https://www.gofundme.com/f/5n2a6xjncs</td>\n",
       "      <td>3080.0</td>\n",
       "      <td>3000.0</td>\n",
       "      <td>52</td>\n",
       "      <td>2015-07-29T19:58:33-05:00</td>\n",
       "      <td>Colerain Township, Cincinnati, OH</td>\n",
       "      <td>45251</td>\n",
       "      <td>US</td>\n",
       "      <td>2015</td>\n",
       "      <td>1.026667</td>\n",
       "      <td>1</td>\n",
       "      <td>Cincinnati</td>\n",
       "    </tr>\n",
       "    <tr>\n",
       "      <th>40880</th>\n",
       "      <td>https://www.gofundme.com/f/nowel-medical-funds</td>\n",
       "      <td>5750.0</td>\n",
       "      <td>75000.0</td>\n",
       "      <td>55</td>\n",
       "      <td>2019-09-04T18:06:29-05:00</td>\n",
       "      <td>Kingshill, VI</td>\n",
       "      <td>851</td>\n",
       "      <td>US</td>\n",
       "      <td>2019</td>\n",
       "      <td>0.076667</td>\n",
       "      <td>0</td>\n",
       "      <td>VI</td>\n",
       "    </tr>\n",
       "    <tr>\n",
       "      <th>44323</th>\n",
       "      <td>https://www.gofundme.com/f/3axkac</td>\n",
       "      <td>5665.0</td>\n",
       "      <td>20000.0</td>\n",
       "      <td>43</td>\n",
       "      <td>2013-06-18T01:30:25-05:00</td>\n",
       "      <td>Saipan, MP</td>\n",
       "      <td>96950</td>\n",
       "      <td>US</td>\n",
       "      <td>2013</td>\n",
       "      <td>0.283250</td>\n",
       "      <td>0</td>\n",
       "      <td>MP</td>\n",
       "    </tr>\n",
       "    <tr>\n",
       "      <th>44646</th>\n",
       "      <td>https://www.gofundme.com/f/brett-medical-fund</td>\n",
       "      <td>14015.0</td>\n",
       "      <td>20000.0</td>\n",
       "      <td>120</td>\n",
       "      <td>2016-10-31T19:28:55-05:00</td>\n",
       "      <td>St Thomas, VI</td>\n",
       "      <td>802</td>\n",
       "      <td>US</td>\n",
       "      <td>2016</td>\n",
       "      <td>0.700750</td>\n",
       "      <td>0</td>\n",
       "      <td>VI</td>\n",
       "    </tr>\n",
       "    <tr>\n",
       "      <th>45051</th>\n",
       "      <td>https://www.gofundme.com/f/pbgb6n6k</td>\n",
       "      <td>12175.0</td>\n",
       "      <td>25000.0</td>\n",
       "      <td>108</td>\n",
       "      <td>2015-12-27T15:30:32-06:00</td>\n",
       "      <td>St John, VI</td>\n",
       "      <td>830</td>\n",
       "      <td>US</td>\n",
       "      <td>2015</td>\n",
       "      <td>0.487000</td>\n",
       "      <td>0</td>\n",
       "      <td>VI</td>\n",
       "    </tr>\n",
       "    <tr>\n",
       "      <th>49231</th>\n",
       "      <td>https://www.gofundme.com/f/helpinglizy</td>\n",
       "      <td>3049.0</td>\n",
       "      <td>7560.0</td>\n",
       "      <td>51</td>\n",
       "      <td>2015-11-09T17:07:33-06:00</td>\n",
       "      <td>Christiansted, VI</td>\n",
       "      <td>821</td>\n",
       "      <td>US</td>\n",
       "      <td>2015</td>\n",
       "      <td>0.403307</td>\n",
       "      <td>0</td>\n",
       "      <td>VI</td>\n",
       "    </tr>\n",
       "    <tr>\n",
       "      <th>50189</th>\n",
       "      <td>https://www.gofundme.com/f/njsef8</td>\n",
       "      <td>1800.0</td>\n",
       "      <td>20000.0</td>\n",
       "      <td>20</td>\n",
       "      <td>2015-03-02T07:56:48-06:00</td>\n",
       "      <td>St Thomas, VI</td>\n",
       "      <td>802</td>\n",
       "      <td>US</td>\n",
       "      <td>2015</td>\n",
       "      <td>0.090000</td>\n",
       "      <td>0</td>\n",
       "      <td>VI</td>\n",
       "    </tr>\n",
       "    <tr>\n",
       "      <th>50556</th>\n",
       "      <td>https://www.gofundme.com/f/TonyaStrong2016</td>\n",
       "      <td>7990.0</td>\n",
       "      <td>10000.0</td>\n",
       "      <td>102</td>\n",
       "      <td>2016-07-24T23:35:30-05:00</td>\n",
       "      <td>Colerain Township, Cincinnati, OH</td>\n",
       "      <td>45251</td>\n",
       "      <td>US</td>\n",
       "      <td>2016</td>\n",
       "      <td>0.799000</td>\n",
       "      <td>0</td>\n",
       "      <td>Cincinnati</td>\n",
       "    </tr>\n",
       "    <tr>\n",
       "      <th>50571</th>\n",
       "      <td>https://www.gofundme.com/f/naaz4n-help-with-me...</td>\n",
       "      <td>705.0</td>\n",
       "      <td>30000.0</td>\n",
       "      <td>6</td>\n",
       "      <td>2019-09-11T19:17:11-05:00</td>\n",
       "      <td>River Vale,US</td>\n",
       "      <td>7675</td>\n",
       "      <td>US</td>\n",
       "      <td>2019</td>\n",
       "      <td>0.023500</td>\n",
       "      <td>0</td>\n",
       "      <td>S</td>\n",
       "    </tr>\n",
       "    <tr>\n",
       "      <th>53770</th>\n",
       "      <td>https://www.gofundme.com/f/steve039s-bariatric...</td>\n",
       "      <td>150.0</td>\n",
       "      <td>7000.0</td>\n",
       "      <td>2</td>\n",
       "      <td>2020-07-22T21:23:45-05:00</td>\n",
       "      <td>Colerain Township, Cincinnati, OH</td>\n",
       "      <td>45251</td>\n",
       "      <td>US</td>\n",
       "      <td>2020</td>\n",
       "      <td>0.021429</td>\n",
       "      <td>0</td>\n",
       "      <td>Cincinnati</td>\n",
       "    </tr>\n",
       "    <tr>\n",
       "      <th>58090</th>\n",
       "      <td>https://www.gofundme.com/f/salma</td>\n",
       "      <td>9109.0</td>\n",
       "      <td>15000.0</td>\n",
       "      <td>125</td>\n",
       "      <td>2014-11-21T09:37:21-06:00</td>\n",
       "      <td>St John, VI</td>\n",
       "      <td>830</td>\n",
       "      <td>US</td>\n",
       "      <td>2014</td>\n",
       "      <td>0.607267</td>\n",
       "      <td>0</td>\n",
       "      <td>VI</td>\n",
       "    </tr>\n",
       "    <tr>\n",
       "      <th>60285</th>\n",
       "      <td>https://www.gofundme.com/f/28egcms</td>\n",
       "      <td>2220.0</td>\n",
       "      <td>15000.0</td>\n",
       "      <td>17</td>\n",
       "      <td>2016-06-08T02:21:39-05:00</td>\n",
       "      <td>Saipan, MP</td>\n",
       "      <td>96950</td>\n",
       "      <td>US</td>\n",
       "      <td>2016</td>\n",
       "      <td>0.148000</td>\n",
       "      <td>0</td>\n",
       "      <td>MP</td>\n",
       "    </tr>\n",
       "    <tr>\n",
       "      <th>61405</th>\n",
       "      <td>https://www.gofundme.com/f/9zb8wf-help-mia</td>\n",
       "      <td>3485.0</td>\n",
       "      <td>5000.0</td>\n",
       "      <td>64</td>\n",
       "      <td>2017-07-29T18:03:01-05:00</td>\n",
       "      <td>St Thomas, VI</td>\n",
       "      <td>802</td>\n",
       "      <td>US</td>\n",
       "      <td>2017</td>\n",
       "      <td>0.697000</td>\n",
       "      <td>0</td>\n",
       "      <td>VI</td>\n",
       "    </tr>\n",
       "    <tr>\n",
       "      <th>61742</th>\n",
       "      <td>https://www.gofundme.com/f/ipoh78</td>\n",
       "      <td>2130.0</td>\n",
       "      <td>6000.0</td>\n",
       "      <td>22</td>\n",
       "      <td>2014-12-10T22:44:16-06:00</td>\n",
       "      <td>St Thomas, VI</td>\n",
       "      <td>802</td>\n",
       "      <td>US</td>\n",
       "      <td>2014</td>\n",
       "      <td>0.355000</td>\n",
       "      <td>0</td>\n",
       "      <td>VI</td>\n",
       "    </tr>\n",
       "    <tr>\n",
       "      <th>61859</th>\n",
       "      <td>https://www.gofundme.com/f/eds-pancreatic-canc...</td>\n",
       "      <td>1905.0</td>\n",
       "      <td>7000.0</td>\n",
       "      <td>25</td>\n",
       "      <td>2017-02-15T13:27:40-06:00</td>\n",
       "      <td>Canonsburg, Pa, PA</td>\n",
       "      <td>15317</td>\n",
       "      <td>US</td>\n",
       "      <td>2017</td>\n",
       "      <td>0.272143</td>\n",
       "      <td>0</td>\n",
       "      <td>Pa</td>\n",
       "    </tr>\n",
       "    <tr>\n",
       "      <th>71360</th>\n",
       "      <td>https://www.gofundme.com/f/23mazzry</td>\n",
       "      <td>2300.0</td>\n",
       "      <td>2300.0</td>\n",
       "      <td>8</td>\n",
       "      <td>2016-05-10T19:10:21-05:00</td>\n",
       "      <td>River Vale,US</td>\n",
       "      <td>7675</td>\n",
       "      <td>US</td>\n",
       "      <td>2016</td>\n",
       "      <td>1.000000</td>\n",
       "      <td>1</td>\n",
       "      <td>S</td>\n",
       "    </tr>\n",
       "    <tr>\n",
       "      <th>72931</th>\n",
       "      <td>https://www.gofundme.com/f/zywtke-i-got-bullie...</td>\n",
       "      <td>0.0</td>\n",
       "      <td>100000.0</td>\n",
       "      <td>0</td>\n",
       "      <td>2020-08-02T23:52:15-05:00</td>\n",
       "      <td>St Thomas, VI</td>\n",
       "      <td>801</td>\n",
       "      <td>US</td>\n",
       "      <td>2020</td>\n",
       "      <td>0.000000</td>\n",
       "      <td>0</td>\n",
       "      <td>VI</td>\n",
       "    </tr>\n",
       "    <tr>\n",
       "      <th>75481</th>\n",
       "      <td>https://www.gofundme.com/f/8w6zvb8s</td>\n",
       "      <td>4254.0</td>\n",
       "      <td>2000.0</td>\n",
       "      <td>91</td>\n",
       "      <td>2015-10-23T09:00:55-05:00</td>\n",
       "      <td>River Vale,US</td>\n",
       "      <td>7675</td>\n",
       "      <td>US</td>\n",
       "      <td>2015</td>\n",
       "      <td>2.127000</td>\n",
       "      <td>1</td>\n",
       "      <td>S</td>\n",
       "    </tr>\n",
       "    <tr>\n",
       "      <th>81074</th>\n",
       "      <td>https://www.gofundme.com/f/ds8gm8</td>\n",
       "      <td>1895.0</td>\n",
       "      <td>4500.0</td>\n",
       "      <td>20</td>\n",
       "      <td>2014-08-30T11:32:33-05:00</td>\n",
       "      <td>Colerain Township, Cincinnati, OH</td>\n",
       "      <td>45251</td>\n",
       "      <td>US</td>\n",
       "      <td>2014</td>\n",
       "      <td>0.421111</td>\n",
       "      <td>0</td>\n",
       "      <td>Cincinnati</td>\n",
       "    </tr>\n",
       "    <tr>\n",
       "      <th>82464</th>\n",
       "      <td>https://www.gofundme.com/f/ybf8g7c</td>\n",
       "      <td>1695.0</td>\n",
       "      <td>5000.0</td>\n",
       "      <td>43</td>\n",
       "      <td>2015-07-01T12:53:04-05:00</td>\n",
       "      <td>St Thomas, VI</td>\n",
       "      <td>802</td>\n",
       "      <td>US</td>\n",
       "      <td>2015</td>\n",
       "      <td>0.339000</td>\n",
       "      <td>0</td>\n",
       "      <td>VI</td>\n",
       "    </tr>\n",
       "    <tr>\n",
       "      <th>87089</th>\n",
       "      <td>https://www.gofundme.com/f/dzc4s8jw</td>\n",
       "      <td>11241.0</td>\n",
       "      <td>15000.0</td>\n",
       "      <td>158</td>\n",
       "      <td>2015-11-26T10:23:54-06:00</td>\n",
       "      <td>St John, VI</td>\n",
       "      <td>831</td>\n",
       "      <td>US</td>\n",
       "      <td>2015</td>\n",
       "      <td>0.749400</td>\n",
       "      <td>0</td>\n",
       "      <td>VI</td>\n",
       "    </tr>\n",
       "    <tr>\n",
       "      <th>88697</th>\n",
       "      <td>https://www.gofundme.com/f/lwez2o</td>\n",
       "      <td>5370.0</td>\n",
       "      <td>10000.0</td>\n",
       "      <td>43</td>\n",
       "      <td>2015-02-08T01:23:51-06:00</td>\n",
       "      <td>Pago Pago, AS</td>\n",
       "      <td>96799</td>\n",
       "      <td>US</td>\n",
       "      <td>2015</td>\n",
       "      <td>0.537000</td>\n",
       "      <td>0</td>\n",
       "      <td>AS</td>\n",
       "    </tr>\n",
       "    <tr>\n",
       "      <th>95833</th>\n",
       "      <td>https://www.gofundme.com/f/caseydoran</td>\n",
       "      <td>43510.0</td>\n",
       "      <td>50000.0</td>\n",
       "      <td>546</td>\n",
       "      <td>2016-04-20T12:19:49-05:00</td>\n",
       "      <td>Canonsburg, Pa, PA</td>\n",
       "      <td>15317</td>\n",
       "      <td>US</td>\n",
       "      <td>2016</td>\n",
       "      <td>0.870200</td>\n",
       "      <td>0</td>\n",
       "      <td>Pa</td>\n",
       "    </tr>\n",
       "    <tr>\n",
       "      <th>99579</th>\n",
       "      <td>https://www.gofundme.com/f/mckinley-blausey-fa...</td>\n",
       "      <td>22905.0</td>\n",
       "      <td>25000.0</td>\n",
       "      <td>255</td>\n",
       "      <td>2019-12-27T18:40:52-06:00</td>\n",
       "      <td>Canonsburg, Pa, PA</td>\n",
       "      <td>15317</td>\n",
       "      <td>US</td>\n",
       "      <td>2019</td>\n",
       "      <td>0.916200</td>\n",
       "      <td>0</td>\n",
       "      <td>Pa</td>\n",
       "    </tr>\n",
       "  </tbody>\n",
       "</table>\n",
       "</div>"
      ],
      "text/plain": [
       "                                                     url  current_amount  \\\n",
       "2250               https://www.gofundme.com/f/RAY-STRONG          5860.0   \n",
       "2695   https://www.gofundme.com/f/supporting-anson039...          2160.0   \n",
       "4475   https://www.gofundme.com/f/ingrid039s-surgery-...          7045.0   \n",
       "5242                 https://www.gofundme.com/f/kikifire         10810.0   \n",
       "5451                 https://www.gofundme.com/f/h4729n6c         14065.0   \n",
       "7078               https://www.gofundme.com/f/CaptainJay          7775.0   \n",
       "13335  https://www.gofundme.com/f/kevin-gilfoyle-fami...          5715.0   \n",
       "13414                https://www.gofundme.com/f/7s74xzjw          4670.0   \n",
       "14211  https://www.gofundme.com/f/ayudemos-a-francisc...          1005.0   \n",
       "14844      https://www.gofundme.com/f/a-mother039s-tears         10141.0   \n",
       "14963                https://www.gofundme.com/f/zkdrp77w         13137.0   \n",
       "16959  https://www.gofundme.com/f/brent-smith-goes-to...          5830.0   \n",
       "18625    https://www.gofundme.com/f/susasanscancer-sucks           788.0   \n",
       "19771          https://www.gofundme.com/f/BlakeandKallie         10795.0   \n",
       "20886                https://www.gofundme.com/f/qbucvst8         15420.0   \n",
       "21022  https://www.gofundme.com/f/help-theresa-beat-l...           615.0   \n",
       "23060               https://www.gofundme.com/f/benseever          6870.0   \n",
       "26415                  https://www.gofundme.com/f/xt3xf8          2865.0   \n",
       "29920           https://www.gofundme.com/f/jmmfundraiser          4950.0   \n",
       "31382  https://www.gofundme.com/f/racing-to-cure-trau...          2030.0   \n",
       "32012  https://www.gofundme.com/f/please-help-evarose...          3700.0   \n",
       "32742      https://www.gofundme.com/f/FundsOfLoveForDeko          2610.0   \n",
       "39241              https://www.gofundme.com/f/5n2a6xjncs          3080.0   \n",
       "40880     https://www.gofundme.com/f/nowel-medical-funds          5750.0   \n",
       "44323                  https://www.gofundme.com/f/3axkac          5665.0   \n",
       "44646      https://www.gofundme.com/f/brett-medical-fund         14015.0   \n",
       "45051                https://www.gofundme.com/f/pbgb6n6k         12175.0   \n",
       "49231             https://www.gofundme.com/f/helpinglizy          3049.0   \n",
       "50189                  https://www.gofundme.com/f/njsef8          1800.0   \n",
       "50556         https://www.gofundme.com/f/TonyaStrong2016          7990.0   \n",
       "50571  https://www.gofundme.com/f/naaz4n-help-with-me...           705.0   \n",
       "53770  https://www.gofundme.com/f/steve039s-bariatric...           150.0   \n",
       "58090                   https://www.gofundme.com/f/salma          9109.0   \n",
       "60285                 https://www.gofundme.com/f/28egcms          2220.0   \n",
       "61405         https://www.gofundme.com/f/9zb8wf-help-mia          3485.0   \n",
       "61742                  https://www.gofundme.com/f/ipoh78          2130.0   \n",
       "61859  https://www.gofundme.com/f/eds-pancreatic-canc...          1905.0   \n",
       "71360                https://www.gofundme.com/f/23mazzry          2300.0   \n",
       "72931  https://www.gofundme.com/f/zywtke-i-got-bullie...             0.0   \n",
       "75481                https://www.gofundme.com/f/8w6zvb8s          4254.0   \n",
       "81074                  https://www.gofundme.com/f/ds8gm8          1895.0   \n",
       "82464                 https://www.gofundme.com/f/ybf8g7c          1695.0   \n",
       "87089                https://www.gofundme.com/f/dzc4s8jw         11241.0   \n",
       "88697                  https://www.gofundme.com/f/lwez2o          5370.0   \n",
       "95833              https://www.gofundme.com/f/caseydoran         43510.0   \n",
       "99579  https://www.gofundme.com/f/mckinley-blausey-fa...         22905.0   \n",
       "\n",
       "       goal_amount  donation_count                 created_at  \\\n",
       "2250       50000.0              79  2015-10-29T17:59:22-05:00   \n",
       "2695       10000.0              30  2019-12-28T20:14:27-06:00   \n",
       "4475       10000.0              33  2020-08-06T14:43:12-05:00   \n",
       "5242       15000.0              95  2015-01-30T15:45:02-06:00   \n",
       "5451       10000.0             127  2015-10-24T11:27:59-05:00   \n",
       "7078       50000.0              59  2016-02-29T20:14:39-06:00   \n",
       "13335       5000.0              60  2020-03-01T14:09:34-06:00   \n",
       "13414      10000.0              71  2015-10-25T17:55:14-05:00   \n",
       "14211       3000.0              24  2020-05-21T12:36:05-05:00   \n",
       "14844     150000.0             181  2018-08-20T07:19:32-05:00   \n",
       "14963      30000.0             163  2016-02-14T15:18:11-06:00   \n",
       "16959      14000.0              49  2019-02-15T12:15:41-06:00   \n",
       "18625       5000.0              16  2019-10-21T12:55:28-05:00   \n",
       "19771      75000.0             126  2015-08-18T19:58:31-05:00   \n",
       "20886      20000.0             105  2016-03-15T11:06:38-05:00   \n",
       "21022       5000.0              12  2020-01-31T08:15:52-06:00   \n",
       "23060      10000.0              53  2014-12-10T22:39:58-06:00   \n",
       "26415      10000.0              57  2015-06-24T17:18:55-05:00   \n",
       "29920      50000.0              40  2016-04-11T21:36:58-05:00   \n",
       "31382       5000.0              25  2019-09-03T17:23:28-05:00   \n",
       "32012      15000.0              53  2020-02-18T10:06:12-06:00   \n",
       "32742      20000.0              54  2015-02-10T17:37:23-06:00   \n",
       "39241       3000.0              52  2015-07-29T19:58:33-05:00   \n",
       "40880      75000.0              55  2019-09-04T18:06:29-05:00   \n",
       "44323      20000.0              43  2013-06-18T01:30:25-05:00   \n",
       "44646      20000.0             120  2016-10-31T19:28:55-05:00   \n",
       "45051      25000.0             108  2015-12-27T15:30:32-06:00   \n",
       "49231       7560.0              51  2015-11-09T17:07:33-06:00   \n",
       "50189      20000.0              20  2015-03-02T07:56:48-06:00   \n",
       "50556      10000.0             102  2016-07-24T23:35:30-05:00   \n",
       "50571      30000.0               6  2019-09-11T19:17:11-05:00   \n",
       "53770       7000.0               2  2020-07-22T21:23:45-05:00   \n",
       "58090      15000.0             125  2014-11-21T09:37:21-06:00   \n",
       "60285      15000.0              17  2016-06-08T02:21:39-05:00   \n",
       "61405       5000.0              64  2017-07-29T18:03:01-05:00   \n",
       "61742       6000.0              22  2014-12-10T22:44:16-06:00   \n",
       "61859       7000.0              25  2017-02-15T13:27:40-06:00   \n",
       "71360       2300.0               8  2016-05-10T19:10:21-05:00   \n",
       "72931     100000.0               0  2020-08-02T23:52:15-05:00   \n",
       "75481       2000.0              91  2015-10-23T09:00:55-05:00   \n",
       "81074       4500.0              20  2014-08-30T11:32:33-05:00   \n",
       "82464       5000.0              43  2015-07-01T12:53:04-05:00   \n",
       "87089      15000.0             158  2015-11-26T10:23:54-06:00   \n",
       "88697      10000.0              43  2015-02-08T01:23:51-06:00   \n",
       "95833      50000.0             546  2016-04-20T12:19:49-05:00   \n",
       "99579      25000.0             255  2019-12-27T18:40:52-06:00   \n",
       "\n",
       "                                    city postal_code country  year  \\\n",
       "2250                  Canonsburg, Pa, PA       15317      US  2015   \n",
       "2695                       St Thomas, VI         802      US  2019   \n",
       "4475                       St Thomas, VI         802      US  2020   \n",
       "5242                       Kingshill, VI         851      US  2015   \n",
       "5451                       St Thomas, VI         801      US  2015   \n",
       "7078                         St John, VI         831      US  2016   \n",
       "13335                 Canonsburg, Pa, PA       15317      US  2020   \n",
       "13414                         Saipan, MP       96950      US  2015   \n",
       "14211                 Canonsburg, Pa, PA       15317      US  2020   \n",
       "14844                         Saipan, MP       96950      US  2018   \n",
       "14963                 Canonsburg, Pa, PA       15317      US  2016   \n",
       "16959                      St Thomas, VI         802      US  2019   \n",
       "18625  Colerain Township, Cincinnati, OH       45251      US  2019   \n",
       "19771                      St Thomas, VI         802      US  2015   \n",
       "20886                        St John, VI         831      US  2016   \n",
       "21022                 Canonsburg, Pa, PA       15317      US  2020   \n",
       "23060                        St John, VI         831      US  2014   \n",
       "26415  Colerain Township, Cincinnati, OH       45251      US  2015   \n",
       "29920                         Tinian, MP       96952      US  2016   \n",
       "31382                 Canonsburg, Pa, PA       15317      US  2019   \n",
       "32012                         Saipan, MP       96950      US  2020   \n",
       "32742                         Saipan, MP       96950      US  2015   \n",
       "39241  Colerain Township, Cincinnati, OH       45251      US  2015   \n",
       "40880                      Kingshill, VI         851      US  2019   \n",
       "44323                         Saipan, MP       96950      US  2013   \n",
       "44646                      St Thomas, VI         802      US  2016   \n",
       "45051                        St John, VI         830      US  2015   \n",
       "49231                  Christiansted, VI         821      US  2015   \n",
       "50189                      St Thomas, VI         802      US  2015   \n",
       "50556  Colerain Township, Cincinnati, OH       45251      US  2016   \n",
       "50571                      River Vale,US        7675      US  2019   \n",
       "53770  Colerain Township, Cincinnati, OH       45251      US  2020   \n",
       "58090                        St John, VI         830      US  2014   \n",
       "60285                         Saipan, MP       96950      US  2016   \n",
       "61405                      St Thomas, VI         802      US  2017   \n",
       "61742                      St Thomas, VI         802      US  2014   \n",
       "61859                 Canonsburg, Pa, PA       15317      US  2017   \n",
       "71360                      River Vale,US        7675      US  2016   \n",
       "72931                      St Thomas, VI         801      US  2020   \n",
       "75481                      River Vale,US        7675      US  2015   \n",
       "81074  Colerain Township, Cincinnati, OH       45251      US  2014   \n",
       "82464                      St Thomas, VI         802      US  2015   \n",
       "87089                        St John, VI         831      US  2015   \n",
       "88697                      Pago Pago, AS       96799      US  2015   \n",
       "95833                 Canonsburg, Pa, PA       15317      US  2016   \n",
       "99579                 Canonsburg, Pa, PA       15317      US  2019   \n",
       "\n",
       "       per_raised  hit_goal       state  \n",
       "2250     0.117200         0          Pa  \n",
       "2695     0.216000         0          VI  \n",
       "4475     0.704500         0          VI  \n",
       "5242     0.720667         0          VI  \n",
       "5451     1.406500         1          VI  \n",
       "7078     0.155500         0          VI  \n",
       "13335    1.143000         1          Pa  \n",
       "13414    0.467000         0          MP  \n",
       "14211    0.335000         0          Pa  \n",
       "14844    0.067607         0          MP  \n",
       "14963    0.437900         0          Pa  \n",
       "16959    0.416429         0          VI  \n",
       "18625    0.157600         0  Cincinnati  \n",
       "19771    0.143933         0          VI  \n",
       "20886    0.771000         0          VI  \n",
       "21022    0.123000         0          Pa  \n",
       "23060    0.687000         0          VI  \n",
       "26415    0.286500         0  Cincinnati  \n",
       "29920    0.099000         0          MP  \n",
       "31382    0.406000         0          Pa  \n",
       "32012    0.246667         0          MP  \n",
       "32742    0.130500         0          MP  \n",
       "39241    1.026667         1  Cincinnati  \n",
       "40880    0.076667         0          VI  \n",
       "44323    0.283250         0          MP  \n",
       "44646    0.700750         0          VI  \n",
       "45051    0.487000         0          VI  \n",
       "49231    0.403307         0          VI  \n",
       "50189    0.090000         0          VI  \n",
       "50556    0.799000         0  Cincinnati  \n",
       "50571    0.023500         0           S  \n",
       "53770    0.021429         0  Cincinnati  \n",
       "58090    0.607267         0          VI  \n",
       "60285    0.148000         0          MP  \n",
       "61405    0.697000         0          VI  \n",
       "61742    0.355000         0          VI  \n",
       "61859    0.272143         0          Pa  \n",
       "71360    1.000000         1           S  \n",
       "72931    0.000000         0          VI  \n",
       "75481    2.127000         1           S  \n",
       "81074    0.421111         0  Cincinnati  \n",
       "82464    0.339000         0          VI  \n",
       "87089    0.749400         0          VI  \n",
       "88697    0.537000         0          AS  \n",
       "95833    0.870200         0          Pa  \n",
       "99579    0.916200         0          Pa  "
      ]
     },
     "execution_count": 16,
     "metadata": {},
     "output_type": "execute_result"
    }
   ],
   "source": [
    "feed[feed['state'].isin(['Pa','MP','Cincinnati','S','AS', 'VI'])]"
   ]
  },
  {
   "cell_type": "markdown",
   "metadata": {},
   "source": [
    "The following were inspected and zip codes were checked\n",
    "- PR: Puerto Rico\n",
    "- DC: Washington, DC\n",
    "- Pa: Pennsylvania, seems to be coded strangely only for Canonsburg\n",
    "- MP: Northern Mariana Islands\n",
    "- Cincinnati: Ohio, seems to be coded strangely only for Colerain Township\n",
    "- S: River Vale New Jersy\n",
    "- AS: American Samoa\n",
    "- GU: Guam\n",
    "- VI: Virgin Islands\n",
    "\n",
    "Will update cleaning function for Pa, Cincinnati, S"
   ]
  },
  {
   "cell_type": "code",
   "execution_count": 17,
   "metadata": {},
   "outputs": [
    {
     "data": {
      "text/plain": [
       "Index(['CA', 'TX', 'FL', 'NY', 'IL', 'GA', 'PA', 'WA', 'MI', 'NC', 'OH', 'AZ',\n",
       "       'CO', 'VA', 'NJ', 'MN', 'MA', 'OR', 'TN', 'MO', 'IN', 'MD', 'WI', 'SC',\n",
       "       'UT', 'LA', 'OK', 'AL', 'NV', 'CT', 'KY', 'KS', 'IA', 'AR', 'ID', 'ME',\n",
       "       'NE', 'NM', 'NH', 'MT', 'MS', 'HI', 'NO_STATE', 'WV', 'AK', 'RI', 'SD',\n",
       "       'ND', 'VT', 'DE', 'WY', 'PR', 'DC', 'GU', 'US', 'VI', 'MP', 'AS'],\n",
       "      dtype='object')"
      ]
     },
     "execution_count": 17,
     "metadata": {},
     "output_type": "execute_result"
    }
   ],
   "source": [
    "def CleanStates(states):\n",
    "    results = []\n",
    "    for state in states:\n",
    "        if state == \"Minnesota\":\n",
    "            results.append('MN')\n",
    "        elif state == \"Florida\":\n",
    "            results.append('FL')\n",
    "        elif state == \"Oregon\":\n",
    "            results.append('OR')\n",
    "        elif state == \"Illinois\":\n",
    "            results.append('IL')\n",
    "        elif state == \"New Hampshire\":\n",
    "            results.append('NH')\n",
    "        elif state == \"Pa\":\n",
    "            results.append('PA')\n",
    "        elif state == \"Cincinnati\":\n",
    "            results.append('OH')\n",
    "        elif state == \"S\":\n",
    "            results.append('NJ')\n",
    "        else:\n",
    "            results.append(state)\n",
    "    return results\n",
    "\n",
    "states = CleanStates(states)\n",
    "\n",
    "pd.Series(states).value_counts().index"
   ]
  },
  {
   "cell_type": "code",
   "execution_count": 18,
   "metadata": {},
   "outputs": [],
   "source": [
    "#Update dataframe with new cleaned data\n",
    "feed['state'] = states"
   ]
  },
  {
   "cell_type": "markdown",
   "metadata": {},
   "source": [
    "Exclude Puerto Rico (PR), Northern Mariana Islands (MP), American Samoa (AS), Guam (GU), Virgin Islands (VI)"
   ]
  },
  {
   "cell_type": "code",
   "execution_count": 19,
   "metadata": {},
   "outputs": [],
   "source": [
    "feed = feed[~feed['state'].isin(['PR','MP','AS','GU', 'VI'])]"
   ]
  },
  {
   "cell_type": "markdown",
   "metadata": {},
   "source": [
    "Now investigate those with \"NO_STATE\""
   ]
  },
  {
   "cell_type": "code",
   "execution_count": 20,
   "metadata": {
    "scrolled": true
   },
   "outputs": [
    {
     "data": {
      "text/html": [
       "<div>\n",
       "<style scoped>\n",
       "    .dataframe tbody tr th:only-of-type {\n",
       "        vertical-align: middle;\n",
       "    }\n",
       "\n",
       "    .dataframe tbody tr th {\n",
       "        vertical-align: top;\n",
       "    }\n",
       "\n",
       "    .dataframe thead th {\n",
       "        text-align: right;\n",
       "    }\n",
       "</style>\n",
       "<table border=\"1\" class=\"dataframe\">\n",
       "  <thead>\n",
       "    <tr style=\"text-align: right;\">\n",
       "      <th></th>\n",
       "      <th>url</th>\n",
       "      <th>current_amount</th>\n",
       "      <th>goal_amount</th>\n",
       "      <th>donation_count</th>\n",
       "      <th>created_at</th>\n",
       "      <th>city</th>\n",
       "      <th>postal_code</th>\n",
       "      <th>country</th>\n",
       "      <th>year</th>\n",
       "      <th>per_raised</th>\n",
       "      <th>hit_goal</th>\n",
       "      <th>state</th>\n",
       "    </tr>\n",
       "  </thead>\n",
       "  <tbody>\n",
       "    <tr>\n",
       "      <th>187</th>\n",
       "      <td>https://www.gofundme.com/f/brad039s-new-hope</td>\n",
       "      <td>45925.0</td>\n",
       "      <td>50000.0</td>\n",
       "      <td>479</td>\n",
       "      <td>2018-11-24T14:04:47-06:00</td>\n",
       "      <td></td>\n",
       "      <td>80528 - Fort Collins, CO</td>\n",
       "      <td>US</td>\n",
       "      <td>2018</td>\n",
       "      <td>0.918500</td>\n",
       "      <td>0</td>\n",
       "      <td>NO_STATE</td>\n",
       "    </tr>\n",
       "    <tr>\n",
       "      <th>366</th>\n",
       "      <td>https://www.gofundme.com/f/brandon-webster-hea...</td>\n",
       "      <td>9097.0</td>\n",
       "      <td>20000.0</td>\n",
       "      <td>107</td>\n",
       "      <td>2018-03-14T13:00:13-05:00</td>\n",
       "      <td>VA/DC/MD</td>\n",
       "      <td>22407</td>\n",
       "      <td>US</td>\n",
       "      <td>2018</td>\n",
       "      <td>0.454850</td>\n",
       "      <td>0</td>\n",
       "      <td>NO_STATE</td>\n",
       "    </tr>\n",
       "    <tr>\n",
       "      <th>1131</th>\n",
       "      <td>https://www.gofundme.com/f/please-help-me-get-...</td>\n",
       "      <td>365.0</td>\n",
       "      <td>5000.0</td>\n",
       "      <td>7</td>\n",
       "      <td>2019-01-16T14:29:31-06:00</td>\n",
       "      <td></td>\n",
       "      <td>88010</td>\n",
       "      <td>US</td>\n",
       "      <td>2019</td>\n",
       "      <td>0.073000</td>\n",
       "      <td>0</td>\n",
       "      <td>NO_STATE</td>\n",
       "    </tr>\n",
       "    <tr>\n",
       "      <th>1370</th>\n",
       "      <td>https://www.gofundme.com/f/covid-19-funds-for-...</td>\n",
       "      <td>4065.0</td>\n",
       "      <td>5000.0</td>\n",
       "      <td>34</td>\n",
       "      <td>2020-03-19T19:36:43-05:00</td>\n",
       "      <td></td>\n",
       "      <td>92048</td>\n",
       "      <td>US</td>\n",
       "      <td>2020</td>\n",
       "      <td>0.813000</td>\n",
       "      <td>0</td>\n",
       "      <td>NO_STATE</td>\n",
       "    </tr>\n",
       "    <tr>\n",
       "      <th>1407</th>\n",
       "      <td>https://www.gofundme.com/f/e5sw2h-post-surgery...</td>\n",
       "      <td>0.0</td>\n",
       "      <td>3500.0</td>\n",
       "      <td>0</td>\n",
       "      <td>2020-07-20T17:41:27-05:00</td>\n",
       "      <td></td>\n",
       "      <td>85117</td>\n",
       "      <td>US</td>\n",
       "      <td>2020</td>\n",
       "      <td>0.000000</td>\n",
       "      <td>0</td>\n",
       "      <td>NO_STATE</td>\n",
       "    </tr>\n",
       "    <tr>\n",
       "      <th>...</th>\n",
       "      <td>...</td>\n",
       "      <td>...</td>\n",
       "      <td>...</td>\n",
       "      <td>...</td>\n",
       "      <td>...</td>\n",
       "      <td>...</td>\n",
       "      <td>...</td>\n",
       "      <td>...</td>\n",
       "      <td>...</td>\n",
       "      <td>...</td>\n",
       "      <td>...</td>\n",
       "      <td>...</td>\n",
       "    </tr>\n",
       "    <tr>\n",
       "      <th>99273</th>\n",
       "      <td>https://www.gofundme.com/f/savingatlas</td>\n",
       "      <td>1860.0</td>\n",
       "      <td>1860.0</td>\n",
       "      <td>28</td>\n",
       "      <td>2016-05-11T19:23:16-05:00</td>\n",
       "      <td></td>\n",
       "      <td>16</td>\n",
       "      <td>US</td>\n",
       "      <td>2016</td>\n",
       "      <td>1.000000</td>\n",
       "      <td>1</td>\n",
       "      <td>NO_STATE</td>\n",
       "    </tr>\n",
       "    <tr>\n",
       "      <th>99371</th>\n",
       "      <td>https://www.gofundme.com/f/lexisrecovery</td>\n",
       "      <td>3160.0</td>\n",
       "      <td>3000.0</td>\n",
       "      <td>73</td>\n",
       "      <td>2016-06-23T20:44:08-05:00</td>\n",
       "      <td></td>\n",
       "      <td>2</td>\n",
       "      <td>US</td>\n",
       "      <td>2016</td>\n",
       "      <td>1.053333</td>\n",
       "      <td>1</td>\n",
       "      <td>NO_STATE</td>\n",
       "    </tr>\n",
       "    <tr>\n",
       "      <th>99522</th>\n",
       "      <td>https://www.gofundme.com/f/jferrarotto</td>\n",
       "      <td>4440.0</td>\n",
       "      <td>20000.0</td>\n",
       "      <td>52</td>\n",
       "      <td>2016-02-22T21:11:05-06:00</td>\n",
       "      <td></td>\n",
       "      <td>89158</td>\n",
       "      <td>US</td>\n",
       "      <td>2016</td>\n",
       "      <td>0.222000</td>\n",
       "      <td>0</td>\n",
       "      <td>NO_STATE</td>\n",
       "    </tr>\n",
       "    <tr>\n",
       "      <th>99857</th>\n",
       "      <td>https://www.gofundme.com/f/jincycancer</td>\n",
       "      <td>2135.0</td>\n",
       "      <td>2.0</td>\n",
       "      <td>22</td>\n",
       "      <td>2014-09-05T23:51:56-05:00</td>\n",
       "      <td></td>\n",
       "      <td></td>\n",
       "      <td>US</td>\n",
       "      <td>2014</td>\n",
       "      <td>1067.500000</td>\n",
       "      <td>1</td>\n",
       "      <td>NO_STATE</td>\n",
       "    </tr>\n",
       "    <tr>\n",
       "      <th>99927</th>\n",
       "      <td>https://www.gofundme.com/f/kristian-needs-our-...</td>\n",
       "      <td>6709.0</td>\n",
       "      <td>10000.0</td>\n",
       "      <td>115</td>\n",
       "      <td>2018-09-12T21:12:00-05:00</td>\n",
       "      <td></td>\n",
       "      <td>00926-San Juan PR, US</td>\n",
       "      <td>US</td>\n",
       "      <td>2018</td>\n",
       "      <td>0.670900</td>\n",
       "      <td>0</td>\n",
       "      <td>NO_STATE</td>\n",
       "    </tr>\n",
       "  </tbody>\n",
       "</table>\n",
       "<p>414 rows × 12 columns</p>\n",
       "</div>"
      ],
      "text/plain": [
       "                                                     url  current_amount  \\\n",
       "187         https://www.gofundme.com/f/brad039s-new-hope         45925.0   \n",
       "366    https://www.gofundme.com/f/brandon-webster-hea...          9097.0   \n",
       "1131   https://www.gofundme.com/f/please-help-me-get-...           365.0   \n",
       "1370   https://www.gofundme.com/f/covid-19-funds-for-...          4065.0   \n",
       "1407   https://www.gofundme.com/f/e5sw2h-post-surgery...             0.0   \n",
       "...                                                  ...             ...   \n",
       "99273             https://www.gofundme.com/f/savingatlas          1860.0   \n",
       "99371           https://www.gofundme.com/f/lexisrecovery          3160.0   \n",
       "99522             https://www.gofundme.com/f/jferrarotto          4440.0   \n",
       "99857             https://www.gofundme.com/f/jincycancer          2135.0   \n",
       "99927  https://www.gofundme.com/f/kristian-needs-our-...          6709.0   \n",
       "\n",
       "       goal_amount  donation_count                 created_at      city  \\\n",
       "187        50000.0             479  2018-11-24T14:04:47-06:00             \n",
       "366        20000.0             107  2018-03-14T13:00:13-05:00  VA/DC/MD   \n",
       "1131        5000.0               7  2019-01-16T14:29:31-06:00             \n",
       "1370        5000.0              34  2020-03-19T19:36:43-05:00             \n",
       "1407        3500.0               0  2020-07-20T17:41:27-05:00             \n",
       "...            ...             ...                        ...       ...   \n",
       "99273       1860.0              28  2016-05-11T19:23:16-05:00             \n",
       "99371       3000.0              73  2016-06-23T20:44:08-05:00             \n",
       "99522      20000.0              52  2016-02-22T21:11:05-06:00             \n",
       "99857          2.0              22  2014-09-05T23:51:56-05:00             \n",
       "99927      10000.0             115  2018-09-12T21:12:00-05:00             \n",
       "\n",
       "                    postal_code country  year   per_raised  hit_goal     state  \n",
       "187    80528 - Fort Collins, CO      US  2018     0.918500         0  NO_STATE  \n",
       "366                       22407      US  2018     0.454850         0  NO_STATE  \n",
       "1131                      88010      US  2019     0.073000         0  NO_STATE  \n",
       "1370                      92048      US  2020     0.813000         0  NO_STATE  \n",
       "1407                      85117      US  2020     0.000000         0  NO_STATE  \n",
       "...                         ...     ...   ...          ...       ...       ...  \n",
       "99273                        16      US  2016     1.000000         1  NO_STATE  \n",
       "99371                         2      US  2016     1.053333         1  NO_STATE  \n",
       "99522                     89158      US  2016     0.222000         0  NO_STATE  \n",
       "99857                                US  2014  1067.500000         1  NO_STATE  \n",
       "99927     00926-San Juan PR, US      US  2018     0.670900         0  NO_STATE  \n",
       "\n",
       "[414 rows x 12 columns]"
      ]
     },
     "execution_count": 20,
     "metadata": {},
     "output_type": "execute_result"
    }
   ],
   "source": [
    "feed[feed['state'] == 'NO_STATE']"
   ]
  },
  {
   "cell_type": "markdown",
   "metadata": {},
   "source": [
    "These data seem a little messy, but most have postal codes listed.\n",
    "\n",
    "So we will run postal codes through a zipcode API to see if we can get states for these rows."
   ]
  },
  {
   "cell_type": "code",
   "execution_count": 21,
   "metadata": {},
   "outputs": [
    {
     "data": {
      "text/plain": [
       "['NO_STATE',\n",
       " 'VA',\n",
       " 'NO_STATE',\n",
       " 'NO_STATE',\n",
       " 'AZ',\n",
       " 'NO_STATE',\n",
       " 'CO',\n",
       " 'NO_STATE',\n",
       " 'NO_STATE',\n",
       " 'NO_STATE',\n",
       " 'NO_STATE',\n",
       " 'NO_STATE',\n",
       " 'NO_STATE',\n",
       " 'NO_STATE',\n",
       " 'NO_STATE',\n",
       " 'NO_STATE',\n",
       " 'FL',\n",
       " 'NO_STATE',\n",
       " 'NO_STATE',\n",
       " 'NO_STATE',\n",
       " 'NO_STATE',\n",
       " 'NO_STATE',\n",
       " 'NO_STATE',\n",
       " 'NO_STATE',\n",
       " 'FL',\n",
       " 'NO_STATE',\n",
       " 'NO_STATE',\n",
       " 'NO_STATE',\n",
       " 'TX',\n",
       " 'FL',\n",
       " 'NO_STATE',\n",
       " 'NO_STATE',\n",
       " 'NO_STATE',\n",
       " 'NO_STATE',\n",
       " 'NO_STATE',\n",
       " 'VA',\n",
       " 'NO_STATE',\n",
       " 'MN',\n",
       " 'NO_STATE',\n",
       " 'TX',\n",
       " 'NY',\n",
       " 'NO_STATE',\n",
       " 'NO_STATE',\n",
       " 'NO_STATE',\n",
       " 'NO_STATE',\n",
       " 'NO_STATE',\n",
       " 'NO_STATE',\n",
       " 'NO_STATE',\n",
       " 'NO_STATE',\n",
       " 'NO_STATE',\n",
       " 'NO_STATE',\n",
       " 'MO',\n",
       " 'CO',\n",
       " 'NO_STATE',\n",
       " 'CO',\n",
       " 'NO_STATE',\n",
       " 'NO_STATE',\n",
       " 'NO_STATE',\n",
       " 'NO_STATE',\n",
       " 'NO_STATE',\n",
       " 'NM',\n",
       " 'NO_STATE',\n",
       " 'NO_STATE',\n",
       " 'NO_STATE',\n",
       " 'NO_STATE',\n",
       " 'NO_STATE',\n",
       " 'NO_STATE',\n",
       " 'NO_STATE',\n",
       " 'NO_STATE',\n",
       " 'NO_STATE',\n",
       " 'NO_STATE',\n",
       " 'NO_STATE',\n",
       " 'NO_STATE',\n",
       " 'NO_STATE',\n",
       " 'VA',\n",
       " 'NO_STATE',\n",
       " 'NO_STATE',\n",
       " 'NO_STATE',\n",
       " 'NO_STATE',\n",
       " 'NO_STATE',\n",
       " 'TX',\n",
       " 'NO_STATE',\n",
       " 'FL',\n",
       " 'NO_STATE',\n",
       " 'NO_STATE',\n",
       " 'NO_STATE',\n",
       " 'NO_STATE',\n",
       " 'NO_STATE',\n",
       " 'CO',\n",
       " 'NO_STATE',\n",
       " 'CO',\n",
       " 'NO_STATE',\n",
       " 'NO_STATE',\n",
       " 'NO_STATE',\n",
       " 'MD',\n",
       " 'NO_STATE',\n",
       " 'NO_STATE',\n",
       " 'NO_STATE',\n",
       " 'NO_STATE',\n",
       " 'VA',\n",
       " 'NO_STATE',\n",
       " 'CO',\n",
       " 'NO_STATE',\n",
       " 'NO_STATE',\n",
       " 'NO_STATE',\n",
       " 'NO_STATE',\n",
       " 'NO_STATE',\n",
       " 'CO',\n",
       " 'NO_STATE',\n",
       " 'AP',\n",
       " 'NO_STATE',\n",
       " 'NO_STATE',\n",
       " 'NO_STATE',\n",
       " 'MO',\n",
       " 'NO_STATE',\n",
       " 'NO_STATE',\n",
       " 'NO_STATE',\n",
       " 'NO_STATE',\n",
       " 'NO_STATE',\n",
       " 'CO',\n",
       " 'AP',\n",
       " 'NO_STATE',\n",
       " 'CA',\n",
       " 'NO_STATE',\n",
       " 'NO_STATE',\n",
       " 'NO_STATE',\n",
       " 'NO_STATE',\n",
       " 'NO_STATE',\n",
       " 'CO',\n",
       " 'NO_STATE',\n",
       " 'TX',\n",
       " 'NO_STATE',\n",
       " 'NO_STATE',\n",
       " 'NO_STATE',\n",
       " 'NO_STATE',\n",
       " 'NO_STATE',\n",
       " 'NO_STATE',\n",
       " 'NO_STATE',\n",
       " 'NO_STATE',\n",
       " 'NO_STATE',\n",
       " 'NO_STATE',\n",
       " 'NO_STATE',\n",
       " 'CA',\n",
       " 'NO_STATE',\n",
       " 'NO_STATE',\n",
       " 'FL',\n",
       " 'NO_STATE',\n",
       " 'NO_STATE',\n",
       " 'IL',\n",
       " 'NO_STATE',\n",
       " 'NO_STATE',\n",
       " 'NO_STATE',\n",
       " 'NO_STATE',\n",
       " 'NO_STATE',\n",
       " 'NO_STATE',\n",
       " 'NO_STATE',\n",
       " 'VA',\n",
       " 'NO_STATE',\n",
       " 'NO_STATE',\n",
       " 'NO_STATE',\n",
       " 'NO_STATE',\n",
       " 'VA',\n",
       " 'NO_STATE',\n",
       " 'NO_STATE',\n",
       " 'NO_STATE',\n",
       " 'NO_STATE',\n",
       " 'NO_STATE',\n",
       " 'AA',\n",
       " 'VA',\n",
       " 'NO_STATE',\n",
       " 'NO_STATE',\n",
       " 'NO_STATE',\n",
       " 'NO_STATE',\n",
       " 'NO_STATE',\n",
       " 'NO_STATE',\n",
       " 'CO',\n",
       " 'NO_STATE',\n",
       " 'NO_STATE',\n",
       " 'NO_STATE',\n",
       " 'VA',\n",
       " 'NO_STATE',\n",
       " 'NO_STATE',\n",
       " 'NJ',\n",
       " 'NO_STATE',\n",
       " 'NO_STATE',\n",
       " 'NO_STATE',\n",
       " 'NO_STATE',\n",
       " 'NO_STATE',\n",
       " 'NO_STATE',\n",
       " 'AP',\n",
       " 'NO_STATE',\n",
       " 'NO_STATE',\n",
       " 'NO_STATE',\n",
       " 'NO_STATE',\n",
       " 'NY',\n",
       " 'NO_STATE',\n",
       " 'NO_STATE',\n",
       " 'TX',\n",
       " 'NO_STATE',\n",
       " 'NO_STATE',\n",
       " 'SC',\n",
       " 'CO',\n",
       " 'NO_STATE',\n",
       " 'NO_STATE',\n",
       " 'NO_STATE',\n",
       " 'NO_STATE',\n",
       " 'NO_STATE',\n",
       " 'NO_STATE',\n",
       " 'NO_STATE',\n",
       " 'NO_STATE',\n",
       " 'NO_STATE',\n",
       " 'NO_STATE',\n",
       " 'NO_STATE',\n",
       " 'NO_STATE',\n",
       " 'NO_STATE',\n",
       " 'NO_STATE',\n",
       " 'NO_STATE',\n",
       " 'NO_STATE',\n",
       " 'NO_STATE',\n",
       " 'NO_STATE',\n",
       " 'NO_STATE',\n",
       " 'NO_STATE',\n",
       " 'NO_STATE',\n",
       " 'NO_STATE',\n",
       " 'NO_STATE',\n",
       " 'NO_STATE',\n",
       " 'NO_STATE',\n",
       " 'VA',\n",
       " 'VA',\n",
       " 'NO_STATE',\n",
       " 'NO_STATE',\n",
       " 'NO_STATE',\n",
       " 'NO_STATE',\n",
       " 'TX',\n",
       " 'NO_STATE',\n",
       " 'NO_STATE',\n",
       " 'NO_STATE',\n",
       " 'AP',\n",
       " 'NO_STATE',\n",
       " 'NO_STATE',\n",
       " 'VA',\n",
       " 'NO_STATE',\n",
       " 'NO_STATE',\n",
       " 'FL',\n",
       " 'CO',\n",
       " 'AP',\n",
       " 'IL',\n",
       " 'NO_STATE',\n",
       " 'NO_STATE',\n",
       " 'NO_STATE',\n",
       " 'VA',\n",
       " 'NO_STATE',\n",
       " 'NO_STATE',\n",
       " 'NO_STATE',\n",
       " 'NO_STATE',\n",
       " 'NO_STATE',\n",
       " 'NO_STATE',\n",
       " 'NO_STATE',\n",
       " 'FL',\n",
       " 'NO_STATE',\n",
       " 'NO_STATE',\n",
       " 'NO_STATE',\n",
       " 'NO_STATE',\n",
       " 'NO_STATE',\n",
       " 'NO_STATE',\n",
       " 'NO_STATE',\n",
       " 'NO_STATE',\n",
       " 'CO',\n",
       " 'NO_STATE',\n",
       " 'VA',\n",
       " 'NO_STATE',\n",
       " 'NO_STATE',\n",
       " 'NO_STATE',\n",
       " 'AZ',\n",
       " 'NO_STATE',\n",
       " 'NO_STATE',\n",
       " 'MO',\n",
       " 'NO_STATE',\n",
       " 'NO_STATE',\n",
       " 'NO_STATE',\n",
       " 'NO_STATE',\n",
       " 'NO_STATE',\n",
       " 'NO_STATE',\n",
       " 'NO_STATE',\n",
       " 'NC',\n",
       " 'NO_STATE',\n",
       " 'NO_STATE',\n",
       " 'NO_STATE',\n",
       " 'TX',\n",
       " 'NO_STATE',\n",
       " 'NO_STATE',\n",
       " 'NO_STATE',\n",
       " 'NO_STATE',\n",
       " 'NO_STATE',\n",
       " 'NO_STATE',\n",
       " 'NO_STATE',\n",
       " 'NO_STATE',\n",
       " 'NO_STATE',\n",
       " 'CO',\n",
       " 'OH',\n",
       " 'VA',\n",
       " 'VA',\n",
       " 'NO_STATE',\n",
       " 'NO_STATE',\n",
       " 'FL',\n",
       " 'NO_STATE',\n",
       " 'NO_STATE',\n",
       " 'NO_STATE',\n",
       " 'NO_STATE',\n",
       " 'NO_STATE',\n",
       " 'NO_STATE',\n",
       " 'AP',\n",
       " 'NO_STATE',\n",
       " 'FL',\n",
       " 'NO_STATE',\n",
       " 'NO_STATE',\n",
       " 'NO_STATE',\n",
       " 'NO_STATE',\n",
       " 'NO_STATE',\n",
       " 'NO_STATE',\n",
       " 'NO_STATE',\n",
       " 'NO_STATE',\n",
       " 'NO_STATE',\n",
       " 'NO_STATE',\n",
       " 'NO_STATE',\n",
       " 'NO_STATE',\n",
       " 'NO_STATE',\n",
       " 'NO_STATE',\n",
       " 'NO_STATE',\n",
       " 'NO_STATE',\n",
       " 'NO_STATE',\n",
       " 'NO_STATE',\n",
       " 'NO_STATE',\n",
       " 'NO_STATE',\n",
       " 'NO_STATE',\n",
       " 'NO_STATE',\n",
       " 'GA',\n",
       " 'CA',\n",
       " 'NO_STATE',\n",
       " 'NO_STATE',\n",
       " 'WI',\n",
       " 'NO_STATE',\n",
       " 'CA',\n",
       " 'NO_STATE',\n",
       " 'IL',\n",
       " 'NY',\n",
       " 'NO_STATE',\n",
       " 'NO_STATE',\n",
       " 'NO_STATE',\n",
       " 'NO_STATE',\n",
       " 'NO_STATE',\n",
       " 'NO_STATE',\n",
       " 'NO_STATE',\n",
       " 'NO_STATE',\n",
       " 'NO_STATE',\n",
       " 'NO_STATE',\n",
       " 'NO_STATE',\n",
       " 'NO_STATE',\n",
       " 'NO_STATE',\n",
       " 'NO_STATE',\n",
       " 'NO_STATE',\n",
       " 'CO',\n",
       " 'AZ',\n",
       " 'NO_STATE',\n",
       " 'FL',\n",
       " 'NO_STATE',\n",
       " 'NO_STATE',\n",
       " 'NO_STATE',\n",
       " 'NO_STATE',\n",
       " 'AZ',\n",
       " 'NO_STATE',\n",
       " 'NO_STATE',\n",
       " 'IL',\n",
       " 'NO_STATE',\n",
       " 'NO_STATE',\n",
       " 'CO',\n",
       " 'NO_STATE',\n",
       " 'NO_STATE',\n",
       " 'NO_STATE',\n",
       " 'CO',\n",
       " 'NO_STATE',\n",
       " 'NO_STATE',\n",
       " 'NO_STATE',\n",
       " 'NO_STATE',\n",
       " 'CO',\n",
       " 'NO_STATE',\n",
       " 'NO_STATE',\n",
       " 'NO_STATE',\n",
       " 'NO_STATE',\n",
       " 'NO_STATE',\n",
       " 'VA',\n",
       " 'NO_STATE',\n",
       " 'NO_STATE',\n",
       " 'NO_STATE',\n",
       " 'NO_STATE',\n",
       " 'NO_STATE',\n",
       " 'NO_STATE',\n",
       " 'NO_STATE',\n",
       " 'NO_STATE',\n",
       " 'FL',\n",
       " 'NO_STATE',\n",
       " 'NO_STATE',\n",
       " 'NO_STATE',\n",
       " 'NO_STATE',\n",
       " 'CO',\n",
       " 'NO_STATE',\n",
       " 'NO_STATE',\n",
       " 'NO_STATE',\n",
       " 'NO_STATE',\n",
       " 'NO_STATE',\n",
       " 'NO_STATE',\n",
       " 'NV',\n",
       " 'NO_STATE',\n",
       " 'PR']"
      ]
     },
     "execution_count": 21,
     "metadata": {},
     "output_type": "execute_result"
    }
   ],
   "source": [
    "def ZipToState(codes):\n",
    "    results = []\n",
    "    for code in codes:\n",
    "        try:\n",
    "            r = zipcodes.matching(str(code))\n",
    "            results.append(r[0]['state'])\n",
    "        except:\n",
    "            results.append('NO_STATE')\n",
    "    return results\n",
    "\n",
    "ZipToState(feed[feed['state'] == 'NO_STATE']['postal_code'])"
   ]
  },
  {
   "cell_type": "markdown",
   "metadata": {},
   "source": [
    "This finds a state for a small number.\n",
    "\n",
    "This also introduces some additional non-US states, such as PR and AP.\n",
    "\n",
    "We will go ahead and add in the states that we were able to find with this method."
   ]
  },
  {
   "cell_type": "code",
   "execution_count": 22,
   "metadata": {},
   "outputs": [],
   "source": [
    "feed.loc[feed['state'] == 'NO_STATE', 'state'] = ZipToState(feed[feed['state'] == 'NO_STATE']['postal_code'])"
   ]
  },
  {
   "cell_type": "markdown",
   "metadata": {},
   "source": [
    "Next we will check the state codes again, explore what these are, and apply exclusions accordingly."
   ]
  },
  {
   "cell_type": "code",
   "execution_count": 23,
   "metadata": {},
   "outputs": [
    {
     "data": {
      "text/plain": [
       "Index(['CA', 'TX', 'FL', 'NY', 'IL', 'GA', 'PA', 'WA', 'MI', 'NC', 'OH', 'AZ',\n",
       "       'CO', 'VA', 'NJ', 'MN', 'MA', 'OR', 'TN', 'MO', 'IN', 'MD', 'WI', 'SC',\n",
       "       'UT', 'LA', 'OK', 'AL', 'NV', 'CT', 'KY', 'KS', 'IA', 'AR', 'ID', 'ME',\n",
       "       'NE', 'NM', 'NH', 'MT', 'MS', 'HI', 'WV', 'AK', 'NO_STATE', 'RI', 'SD',\n",
       "       'ND', 'VT', 'DE', 'WY', 'DC', 'US', 'AP', 'AA', 'PR'],\n",
       "      dtype='object')"
      ]
     },
     "execution_count": 23,
     "metadata": {},
     "output_type": "execute_result"
    }
   ],
   "source": [
    "feed['state'].value_counts().index"
   ]
  },
  {
   "cell_type": "code",
   "execution_count": 24,
   "metadata": {},
   "outputs": [
    {
     "data": {
      "text/html": [
       "<div>\n",
       "<style scoped>\n",
       "    .dataframe tbody tr th:only-of-type {\n",
       "        vertical-align: middle;\n",
       "    }\n",
       "\n",
       "    .dataframe tbody tr th {\n",
       "        vertical-align: top;\n",
       "    }\n",
       "\n",
       "    .dataframe thead th {\n",
       "        text-align: right;\n",
       "    }\n",
       "</style>\n",
       "<table border=\"1\" class=\"dataframe\">\n",
       "  <thead>\n",
       "    <tr style=\"text-align: right;\">\n",
       "      <th></th>\n",
       "      <th>url</th>\n",
       "      <th>current_amount</th>\n",
       "      <th>goal_amount</th>\n",
       "      <th>donation_count</th>\n",
       "      <th>created_at</th>\n",
       "      <th>city</th>\n",
       "      <th>postal_code</th>\n",
       "      <th>country</th>\n",
       "      <th>year</th>\n",
       "      <th>per_raised</th>\n",
       "      <th>hit_goal</th>\n",
       "      <th>state</th>\n",
       "    </tr>\n",
       "  </thead>\n",
       "  <tbody>\n",
       "    <tr>\n",
       "      <th>2189</th>\n",
       "      <td>https://www.gofundme.com/f/FrancesCalhoun</td>\n",
       "      <td>4005.0</td>\n",
       "      <td>5000.0</td>\n",
       "      <td>67</td>\n",
       "      <td>2015-03-18T15:15:12-05:00</td>\n",
       "      <td>APO, US</td>\n",
       "      <td>9464</td>\n",
       "      <td>US</td>\n",
       "      <td>2015</td>\n",
       "      <td>0.801000</td>\n",
       "      <td>0</td>\n",
       "      <td>US</td>\n",
       "    </tr>\n",
       "    <tr>\n",
       "      <th>7705</th>\n",
       "      <td>https://www.gofundme.com/f/224b393jc0</td>\n",
       "      <td>3790.0</td>\n",
       "      <td>7000.0</td>\n",
       "      <td>25</td>\n",
       "      <td>2020-07-01T22:28:57-05:00</td>\n",
       "      <td>Green Brook, US</td>\n",
       "      <td>8812</td>\n",
       "      <td>US</td>\n",
       "      <td>2020</td>\n",
       "      <td>0.541429</td>\n",
       "      <td>0</td>\n",
       "      <td>US</td>\n",
       "    </tr>\n",
       "    <tr>\n",
       "      <th>8410</th>\n",
       "      <td>https://www.gofundme.com/f/odufdo</td>\n",
       "      <td>1775.0</td>\n",
       "      <td>10000.0</td>\n",
       "      <td>25</td>\n",
       "      <td>2015-03-09T22:00:27-05:00</td>\n",
       "      <td>Green Brook, US</td>\n",
       "      <td>8812</td>\n",
       "      <td>US</td>\n",
       "      <td>2015</td>\n",
       "      <td>0.177500</td>\n",
       "      <td>0</td>\n",
       "      <td>US</td>\n",
       "    </tr>\n",
       "    <tr>\n",
       "      <th>10930</th>\n",
       "      <td>https://www.gofundme.com/f/j3338rzk</td>\n",
       "      <td>31061.0</td>\n",
       "      <td>50000.0</td>\n",
       "      <td>221</td>\n",
       "      <td>2015-08-31T07:33:10-05:00</td>\n",
       "      <td>APO, US</td>\n",
       "      <td>9356</td>\n",
       "      <td>US</td>\n",
       "      <td>2015</td>\n",
       "      <td>0.621220</td>\n",
       "      <td>0</td>\n",
       "      <td>US</td>\n",
       "    </tr>\n",
       "    <tr>\n",
       "      <th>18780</th>\n",
       "      <td>https://www.gofundme.com/f/unexpected-dental-b...</td>\n",
       "      <td>310.0</td>\n",
       "      <td>5000.0</td>\n",
       "      <td>7</td>\n",
       "      <td>2019-12-25T05:44:45-06:00</td>\n",
       "      <td>APO, US</td>\n",
       "      <td>96338</td>\n",
       "      <td>US</td>\n",
       "      <td>2019</td>\n",
       "      <td>0.062000</td>\n",
       "      <td>0</td>\n",
       "      <td>US</td>\n",
       "    </tr>\n",
       "    <tr>\n",
       "      <th>19901</th>\n",
       "      <td>https://www.gofundme.com/f/elizabeth-rodriguez...</td>\n",
       "      <td>1830.0</td>\n",
       "      <td>5000.0</td>\n",
       "      <td>16</td>\n",
       "      <td>2019-07-09T18:07:09-05:00</td>\n",
       "      <td>Green Brook, US</td>\n",
       "      <td>8812</td>\n",
       "      <td>US</td>\n",
       "      <td>2019</td>\n",
       "      <td>0.366000</td>\n",
       "      <td>0</td>\n",
       "      <td>US</td>\n",
       "    </tr>\n",
       "    <tr>\n",
       "      <th>21867</th>\n",
       "      <td>https://www.gofundme.com/f/blesstheciannellos</td>\n",
       "      <td>15865.0</td>\n",
       "      <td>25000.0</td>\n",
       "      <td>173</td>\n",
       "      <td>2015-11-07T13:21:37-06:00</td>\n",
       "      <td>Green Brook, US</td>\n",
       "      <td>8812</td>\n",
       "      <td>US</td>\n",
       "      <td>2015</td>\n",
       "      <td>0.634600</td>\n",
       "      <td>0</td>\n",
       "      <td>US</td>\n",
       "    </tr>\n",
       "    <tr>\n",
       "      <th>22243</th>\n",
       "      <td>https://www.gofundme.com/f/suzanne-weems-brain...</td>\n",
       "      <td>4500.0</td>\n",
       "      <td>4500.0</td>\n",
       "      <td>38</td>\n",
       "      <td>2017-09-26T16:31:32-05:00</td>\n",
       "      <td>APO, US</td>\n",
       "      <td>9012</td>\n",
       "      <td>US</td>\n",
       "      <td>2017</td>\n",
       "      <td>1.000000</td>\n",
       "      <td>1</td>\n",
       "      <td>US</td>\n",
       "    </tr>\n",
       "    <tr>\n",
       "      <th>22668</th>\n",
       "      <td>https://www.gofundme.com/f/brandon-and-jessica...</td>\n",
       "      <td>2390.0</td>\n",
       "      <td>2000.0</td>\n",
       "      <td>30</td>\n",
       "      <td>2017-03-23T12:23:51-05:00</td>\n",
       "      <td>APO, US</td>\n",
       "      <td>9128</td>\n",
       "      <td>US</td>\n",
       "      <td>2017</td>\n",
       "      <td>1.195000</td>\n",
       "      <td>1</td>\n",
       "      <td>US</td>\n",
       "    </tr>\n",
       "    <tr>\n",
       "      <th>27046</th>\n",
       "      <td>https://www.gofundme.com/f/e42gn-watkins-family</td>\n",
       "      <td>5808.0</td>\n",
       "      <td>4000.0</td>\n",
       "      <td>68</td>\n",
       "      <td>2018-02-01T22:16:20-06:00</td>\n",
       "      <td>FPO</td>\n",
       "      <td>96349</td>\n",
       "      <td>US</td>\n",
       "      <td>2018</td>\n",
       "      <td>1.452000</td>\n",
       "      <td>1</td>\n",
       "      <td>AP</td>\n",
       "    </tr>\n",
       "    <tr>\n",
       "      <th>29697</th>\n",
       "      <td>https://www.gofundme.com/f/a-new-heart-for-nic...</td>\n",
       "      <td>22385.0</td>\n",
       "      <td>20000.0</td>\n",
       "      <td>243</td>\n",
       "      <td>2019-03-24T08:30:50-05:00</td>\n",
       "      <td>APO, US</td>\n",
       "      <td>9012</td>\n",
       "      <td>US</td>\n",
       "      <td>2019</td>\n",
       "      <td>1.119250</td>\n",
       "      <td>1</td>\n",
       "      <td>US</td>\n",
       "    </tr>\n",
       "    <tr>\n",
       "      <th>30565</th>\n",
       "      <td>https://www.gofundme.com/f/fwh1fc</td>\n",
       "      <td>2860.0</td>\n",
       "      <td>8000.0</td>\n",
       "      <td>38</td>\n",
       "      <td>2014-10-16T06:45:31-05:00</td>\n",
       "      <td>FPO</td>\n",
       "      <td>96379</td>\n",
       "      <td>US</td>\n",
       "      <td>2014</td>\n",
       "      <td>0.357500</td>\n",
       "      <td>0</td>\n",
       "      <td>AP</td>\n",
       "    </tr>\n",
       "    <tr>\n",
       "      <th>36694</th>\n",
       "      <td>https://www.gofundme.com/f/28zwb7w</td>\n",
       "      <td>11325.0</td>\n",
       "      <td>10000.0</td>\n",
       "      <td>75</td>\n",
       "      <td>2016-06-12T06:11:06-05:00</td>\n",
       "      <td>APO, US</td>\n",
       "      <td>9012</td>\n",
       "      <td>US</td>\n",
       "      <td>2016</td>\n",
       "      <td>1.132500</td>\n",
       "      <td>1</td>\n",
       "      <td>US</td>\n",
       "    </tr>\n",
       "    <tr>\n",
       "      <th>37670</th>\n",
       "      <td>https://www.gofundme.com/f/jamiewiley</td>\n",
       "      <td>2627.0</td>\n",
       "      <td>10000.0</td>\n",
       "      <td>38</td>\n",
       "      <td>2017-04-09T11:39:41-05:00</td>\n",
       "      <td>APO, US</td>\n",
       "      <td>9012</td>\n",
       "      <td>US</td>\n",
       "      <td>2017</td>\n",
       "      <td>0.262700</td>\n",
       "      <td>0</td>\n",
       "      <td>US</td>\n",
       "    </tr>\n",
       "    <tr>\n",
       "      <th>38175</th>\n",
       "      <td>https://www.gofundme.com/f/support-for-josh-ba...</td>\n",
       "      <td>10450.0</td>\n",
       "      <td>10000.0</td>\n",
       "      <td>109</td>\n",
       "      <td>2017-01-24T04:10:51-06:00</td>\n",
       "      <td>APO, US</td>\n",
       "      <td>9469</td>\n",
       "      <td>US</td>\n",
       "      <td>2017</td>\n",
       "      <td>1.045000</td>\n",
       "      <td>1</td>\n",
       "      <td>US</td>\n",
       "    </tr>\n",
       "    <tr>\n",
       "      <th>38305</th>\n",
       "      <td>https://www.gofundme.com/f/b4sj7bfy</td>\n",
       "      <td>16700.0</td>\n",
       "      <td>30000.0</td>\n",
       "      <td>153</td>\n",
       "      <td>2016-03-03T19:54:25-06:00</td>\n",
       "      <td>Green Brook, US</td>\n",
       "      <td>8812</td>\n",
       "      <td>US</td>\n",
       "      <td>2016</td>\n",
       "      <td>0.556667</td>\n",
       "      <td>0</td>\n",
       "      <td>US</td>\n",
       "    </tr>\n",
       "    <tr>\n",
       "      <th>40072</th>\n",
       "      <td>https://www.gofundme.com/f/sisters-brain-trumo...</td>\n",
       "      <td>2634.0</td>\n",
       "      <td>5000.0</td>\n",
       "      <td>27</td>\n",
       "      <td>2017-02-06T09:48:01-06:00</td>\n",
       "      <td></td>\n",
       "      <td>34004</td>\n",
       "      <td>US</td>\n",
       "      <td>2017</td>\n",
       "      <td>0.526800</td>\n",
       "      <td>0</td>\n",
       "      <td>AA</td>\n",
       "    </tr>\n",
       "    <tr>\n",
       "      <th>42210</th>\n",
       "      <td>https://www.gofundme.com/f/5g-medical-help-for...</td>\n",
       "      <td>1800.0</td>\n",
       "      <td>5000.0</td>\n",
       "      <td>35</td>\n",
       "      <td>2016-11-29T06:34:48-06:00</td>\n",
       "      <td>APO, US</td>\n",
       "      <td>9464</td>\n",
       "      <td>US</td>\n",
       "      <td>2016</td>\n",
       "      <td>0.360000</td>\n",
       "      <td>0</td>\n",
       "      <td>US</td>\n",
       "    </tr>\n",
       "    <tr>\n",
       "      <th>45043</th>\n",
       "      <td>https://www.gofundme.com/f/2g4kwss</td>\n",
       "      <td>1750.0</td>\n",
       "      <td>24000.0</td>\n",
       "      <td>23</td>\n",
       "      <td>2016-07-24T09:49:42-05:00</td>\n",
       "      <td>FPO</td>\n",
       "      <td>96517</td>\n",
       "      <td>US</td>\n",
       "      <td>2016</td>\n",
       "      <td>0.072917</td>\n",
       "      <td>0</td>\n",
       "      <td>AP</td>\n",
       "    </tr>\n",
       "    <tr>\n",
       "      <th>46240</th>\n",
       "      <td>https://www.gofundme.com/f/fighthorton</td>\n",
       "      <td>6145.0</td>\n",
       "      <td>5000.0</td>\n",
       "      <td>67</td>\n",
       "      <td>2017-05-19T04:21:19-05:00</td>\n",
       "      <td>APO, US</td>\n",
       "      <td>9610</td>\n",
       "      <td>US</td>\n",
       "      <td>2017</td>\n",
       "      <td>1.229000</td>\n",
       "      <td>1</td>\n",
       "      <td>US</td>\n",
       "    </tr>\n",
       "    <tr>\n",
       "      <th>52002</th>\n",
       "      <td>https://www.gofundme.com/f/janicehenry</td>\n",
       "      <td>6925.0</td>\n",
       "      <td>10000.0</td>\n",
       "      <td>54</td>\n",
       "      <td>2015-06-08T14:15:44-05:00</td>\n",
       "      <td>APO, US</td>\n",
       "      <td>9112</td>\n",
       "      <td>US</td>\n",
       "      <td>2015</td>\n",
       "      <td>0.692500</td>\n",
       "      <td>0</td>\n",
       "      <td>US</td>\n",
       "    </tr>\n",
       "    <tr>\n",
       "      <th>56320</th>\n",
       "      <td>https://www.gofundme.com/f/knki90</td>\n",
       "      <td>1650.0</td>\n",
       "      <td>1000.0</td>\n",
       "      <td>22</td>\n",
       "      <td>2015-01-22T02:24:04-06:00</td>\n",
       "      <td>APO, US</td>\n",
       "      <td>96326</td>\n",
       "      <td>US</td>\n",
       "      <td>2015</td>\n",
       "      <td>1.650000</td>\n",
       "      <td>1</td>\n",
       "      <td>US</td>\n",
       "    </tr>\n",
       "    <tr>\n",
       "      <th>57686</th>\n",
       "      <td>https://www.gofundme.com/f/9gp7zw</td>\n",
       "      <td>7970.0</td>\n",
       "      <td>10000.0</td>\n",
       "      <td>54</td>\n",
       "      <td>2014-05-23T00:19:27-05:00</td>\n",
       "      <td>APO, US</td>\n",
       "      <td>9020</td>\n",
       "      <td>US</td>\n",
       "      <td>2014</td>\n",
       "      <td>0.797000</td>\n",
       "      <td>0</td>\n",
       "      <td>US</td>\n",
       "    </tr>\n",
       "    <tr>\n",
       "      <th>59221</th>\n",
       "      <td>https://www.gofundme.com/f/raising-money-for-m...</td>\n",
       "      <td>725.0</td>\n",
       "      <td>10000.0</td>\n",
       "      <td>18</td>\n",
       "      <td>2020-07-22T04:50:52-05:00</td>\n",
       "      <td>APO/FPO Military</td>\n",
       "      <td>96273</td>\n",
       "      <td>US</td>\n",
       "      <td>2020</td>\n",
       "      <td>0.072500</td>\n",
       "      <td>0</td>\n",
       "      <td>AP</td>\n",
       "    </tr>\n",
       "    <tr>\n",
       "      <th>61017</th>\n",
       "      <td>https://www.gofundme.com/f/SarahMacias</td>\n",
       "      <td>53661.0</td>\n",
       "      <td>45000.0</td>\n",
       "      <td>316</td>\n",
       "      <td>2015-05-05T08:08:14-05:00</td>\n",
       "      <td>FPO</td>\n",
       "      <td>96522</td>\n",
       "      <td>US</td>\n",
       "      <td>2015</td>\n",
       "      <td>1.192467</td>\n",
       "      <td>1</td>\n",
       "      <td>AP</td>\n",
       "    </tr>\n",
       "    <tr>\n",
       "      <th>64798</th>\n",
       "      <td>https://www.gofundme.com/f/jackie039s-new-hip</td>\n",
       "      <td>900.0</td>\n",
       "      <td>1000.0</td>\n",
       "      <td>12</td>\n",
       "      <td>2019-09-29T07:57:09-05:00</td>\n",
       "      <td>APO, US</td>\n",
       "      <td>9459</td>\n",
       "      <td>US</td>\n",
       "      <td>2019</td>\n",
       "      <td>0.900000</td>\n",
       "      <td>0</td>\n",
       "      <td>US</td>\n",
       "    </tr>\n",
       "    <tr>\n",
       "      <th>66971</th>\n",
       "      <td>https://www.gofundme.com/f/gideon039s-get-well...</td>\n",
       "      <td>6070.0</td>\n",
       "      <td>8000.0</td>\n",
       "      <td>65</td>\n",
       "      <td>2018-12-07T06:13:18-06:00</td>\n",
       "      <td>APO, US</td>\n",
       "      <td>96266</td>\n",
       "      <td>US</td>\n",
       "      <td>2018</td>\n",
       "      <td>0.758750</td>\n",
       "      <td>0</td>\n",
       "      <td>US</td>\n",
       "    </tr>\n",
       "    <tr>\n",
       "      <th>69406</th>\n",
       "      <td>https://www.gofundme.com/f/pfc-alvarez-100-miles</td>\n",
       "      <td>1324.0</td>\n",
       "      <td>2000.0</td>\n",
       "      <td>10</td>\n",
       "      <td>2020-05-21T14:25:54-05:00</td>\n",
       "      <td>APO, US</td>\n",
       "      <td>9012</td>\n",
       "      <td>US</td>\n",
       "      <td>2020</td>\n",
       "      <td>0.662000</td>\n",
       "      <td>0</td>\n",
       "      <td>US</td>\n",
       "    </tr>\n",
       "    <tr>\n",
       "      <th>69504</th>\n",
       "      <td>https://www.gofundme.com/f/finnstever</td>\n",
       "      <td>21190.0</td>\n",
       "      <td>25000.0</td>\n",
       "      <td>219</td>\n",
       "      <td>2015-11-14T12:53:08-06:00</td>\n",
       "      <td>Green Brook, US</td>\n",
       "      <td>8812</td>\n",
       "      <td>US</td>\n",
       "      <td>2015</td>\n",
       "      <td>0.847600</td>\n",
       "      <td>0</td>\n",
       "      <td>US</td>\n",
       "    </tr>\n",
       "    <tr>\n",
       "      <th>72144</th>\n",
       "      <td>https://www.gofundme.com/f/cheyennecheney</td>\n",
       "      <td>7570.0</td>\n",
       "      <td>15000.0</td>\n",
       "      <td>76</td>\n",
       "      <td>2015-10-21T09:10:44-05:00</td>\n",
       "      <td>APO, US</td>\n",
       "      <td>9603</td>\n",
       "      <td>US</td>\n",
       "      <td>2015</td>\n",
       "      <td>0.504667</td>\n",
       "      <td>0</td>\n",
       "      <td>US</td>\n",
       "    </tr>\n",
       "    <tr>\n",
       "      <th>73962</th>\n",
       "      <td>https://www.gofundme.com/f/gastos-de-operacion...</td>\n",
       "      <td>3037.0</td>\n",
       "      <td>10700.0</td>\n",
       "      <td>25</td>\n",
       "      <td>2020-02-01T13:18:40-06:00</td>\n",
       "      <td>APO, US</td>\n",
       "      <td>9060</td>\n",
       "      <td>US</td>\n",
       "      <td>2020</td>\n",
       "      <td>0.283832</td>\n",
       "      <td>0</td>\n",
       "      <td>US</td>\n",
       "    </tr>\n",
       "    <tr>\n",
       "      <th>73967</th>\n",
       "      <td>https://www.gofundme.com/f/blessing-the-lampteys</td>\n",
       "      <td>5000.0</td>\n",
       "      <td>5000.0</td>\n",
       "      <td>56</td>\n",
       "      <td>2017-06-28T08:14:43-05:00</td>\n",
       "      <td>FPO</td>\n",
       "      <td>96310</td>\n",
       "      <td>US</td>\n",
       "      <td>2017</td>\n",
       "      <td>1.000000</td>\n",
       "      <td>1</td>\n",
       "      <td>AP</td>\n",
       "    </tr>\n",
       "    <tr>\n",
       "      <th>75332</th>\n",
       "      <td>https://www.gofundme.com/f/AryannaGlass</td>\n",
       "      <td>3786.0</td>\n",
       "      <td>3000.0</td>\n",
       "      <td>45</td>\n",
       "      <td>2015-02-28T09:55:44-06:00</td>\n",
       "      <td>APO, US</td>\n",
       "      <td>9123</td>\n",
       "      <td>US</td>\n",
       "      <td>2015</td>\n",
       "      <td>1.262000</td>\n",
       "      <td>1</td>\n",
       "      <td>US</td>\n",
       "    </tr>\n",
       "    <tr>\n",
       "      <th>75471</th>\n",
       "      <td>https://www.gofundme.com/f/gabrielswarriors</td>\n",
       "      <td>1650.0</td>\n",
       "      <td>100.0</td>\n",
       "      <td>24</td>\n",
       "      <td>2015-04-15T14:45:22-05:00</td>\n",
       "      <td>APO, US</td>\n",
       "      <td>96266</td>\n",
       "      <td>US</td>\n",
       "      <td>2015</td>\n",
       "      <td>16.500000</td>\n",
       "      <td>1</td>\n",
       "      <td>US</td>\n",
       "    </tr>\n",
       "    <tr>\n",
       "      <th>76280</th>\n",
       "      <td>https://www.gofundme.com/f/unger-family-cancer...</td>\n",
       "      <td>2035.0</td>\n",
       "      <td>8000.0</td>\n",
       "      <td>14</td>\n",
       "      <td>2020-03-03T14:20:10-06:00</td>\n",
       "      <td>APO, US</td>\n",
       "      <td>9459</td>\n",
       "      <td>US</td>\n",
       "      <td>2020</td>\n",
       "      <td>0.254375</td>\n",
       "      <td>0</td>\n",
       "      <td>US</td>\n",
       "    </tr>\n",
       "    <tr>\n",
       "      <th>93922</th>\n",
       "      <td>https://www.gofundme.com/f/fm4bp8</td>\n",
       "      <td>5274.0</td>\n",
       "      <td>5000.0</td>\n",
       "      <td>79</td>\n",
       "      <td>2014-10-09T06:12:38-05:00</td>\n",
       "      <td>APO, US</td>\n",
       "      <td>9012</td>\n",
       "      <td>US</td>\n",
       "      <td>2014</td>\n",
       "      <td>1.054800</td>\n",
       "      <td>1</td>\n",
       "      <td>US</td>\n",
       "    </tr>\n",
       "    <tr>\n",
       "      <th>99927</th>\n",
       "      <td>https://www.gofundme.com/f/kristian-needs-our-...</td>\n",
       "      <td>6709.0</td>\n",
       "      <td>10000.0</td>\n",
       "      <td>115</td>\n",
       "      <td>2018-09-12T21:12:00-05:00</td>\n",
       "      <td></td>\n",
       "      <td>00926-San Juan PR, US</td>\n",
       "      <td>US</td>\n",
       "      <td>2018</td>\n",
       "      <td>0.670900</td>\n",
       "      <td>0</td>\n",
       "      <td>PR</td>\n",
       "    </tr>\n",
       "  </tbody>\n",
       "</table>\n",
       "</div>"
      ],
      "text/plain": [
       "                                                     url  current_amount  \\\n",
       "2189           https://www.gofundme.com/f/FrancesCalhoun          4005.0   \n",
       "7705               https://www.gofundme.com/f/224b393jc0          3790.0   \n",
       "8410                   https://www.gofundme.com/f/odufdo          1775.0   \n",
       "10930                https://www.gofundme.com/f/j3338rzk         31061.0   \n",
       "18780  https://www.gofundme.com/f/unexpected-dental-b...           310.0   \n",
       "19901  https://www.gofundme.com/f/elizabeth-rodriguez...          1830.0   \n",
       "21867      https://www.gofundme.com/f/blesstheciannellos         15865.0   \n",
       "22243  https://www.gofundme.com/f/suzanne-weems-brain...          4500.0   \n",
       "22668  https://www.gofundme.com/f/brandon-and-jessica...          2390.0   \n",
       "27046    https://www.gofundme.com/f/e42gn-watkins-family          5808.0   \n",
       "29697  https://www.gofundme.com/f/a-new-heart-for-nic...         22385.0   \n",
       "30565                  https://www.gofundme.com/f/fwh1fc          2860.0   \n",
       "36694                 https://www.gofundme.com/f/28zwb7w         11325.0   \n",
       "37670              https://www.gofundme.com/f/jamiewiley          2627.0   \n",
       "38175  https://www.gofundme.com/f/support-for-josh-ba...         10450.0   \n",
       "38305                https://www.gofundme.com/f/b4sj7bfy         16700.0   \n",
       "40072  https://www.gofundme.com/f/sisters-brain-trumo...          2634.0   \n",
       "42210  https://www.gofundme.com/f/5g-medical-help-for...          1800.0   \n",
       "45043                 https://www.gofundme.com/f/2g4kwss          1750.0   \n",
       "46240             https://www.gofundme.com/f/fighthorton          6145.0   \n",
       "52002             https://www.gofundme.com/f/janicehenry          6925.0   \n",
       "56320                  https://www.gofundme.com/f/knki90          1650.0   \n",
       "57686                  https://www.gofundme.com/f/9gp7zw          7970.0   \n",
       "59221  https://www.gofundme.com/f/raising-money-for-m...           725.0   \n",
       "61017             https://www.gofundme.com/f/SarahMacias         53661.0   \n",
       "64798      https://www.gofundme.com/f/jackie039s-new-hip           900.0   \n",
       "66971  https://www.gofundme.com/f/gideon039s-get-well...          6070.0   \n",
       "69406   https://www.gofundme.com/f/pfc-alvarez-100-miles          1324.0   \n",
       "69504              https://www.gofundme.com/f/finnstever         21190.0   \n",
       "72144          https://www.gofundme.com/f/cheyennecheney          7570.0   \n",
       "73962  https://www.gofundme.com/f/gastos-de-operacion...          3037.0   \n",
       "73967   https://www.gofundme.com/f/blessing-the-lampteys          5000.0   \n",
       "75332            https://www.gofundme.com/f/AryannaGlass          3786.0   \n",
       "75471        https://www.gofundme.com/f/gabrielswarriors          1650.0   \n",
       "76280  https://www.gofundme.com/f/unger-family-cancer...          2035.0   \n",
       "93922                  https://www.gofundme.com/f/fm4bp8          5274.0   \n",
       "99927  https://www.gofundme.com/f/kristian-needs-our-...          6709.0   \n",
       "\n",
       "       goal_amount  donation_count                 created_at  \\\n",
       "2189        5000.0              67  2015-03-18T15:15:12-05:00   \n",
       "7705        7000.0              25  2020-07-01T22:28:57-05:00   \n",
       "8410       10000.0              25  2015-03-09T22:00:27-05:00   \n",
       "10930      50000.0             221  2015-08-31T07:33:10-05:00   \n",
       "18780       5000.0               7  2019-12-25T05:44:45-06:00   \n",
       "19901       5000.0              16  2019-07-09T18:07:09-05:00   \n",
       "21867      25000.0             173  2015-11-07T13:21:37-06:00   \n",
       "22243       4500.0              38  2017-09-26T16:31:32-05:00   \n",
       "22668       2000.0              30  2017-03-23T12:23:51-05:00   \n",
       "27046       4000.0              68  2018-02-01T22:16:20-06:00   \n",
       "29697      20000.0             243  2019-03-24T08:30:50-05:00   \n",
       "30565       8000.0              38  2014-10-16T06:45:31-05:00   \n",
       "36694      10000.0              75  2016-06-12T06:11:06-05:00   \n",
       "37670      10000.0              38  2017-04-09T11:39:41-05:00   \n",
       "38175      10000.0             109  2017-01-24T04:10:51-06:00   \n",
       "38305      30000.0             153  2016-03-03T19:54:25-06:00   \n",
       "40072       5000.0              27  2017-02-06T09:48:01-06:00   \n",
       "42210       5000.0              35  2016-11-29T06:34:48-06:00   \n",
       "45043      24000.0              23  2016-07-24T09:49:42-05:00   \n",
       "46240       5000.0              67  2017-05-19T04:21:19-05:00   \n",
       "52002      10000.0              54  2015-06-08T14:15:44-05:00   \n",
       "56320       1000.0              22  2015-01-22T02:24:04-06:00   \n",
       "57686      10000.0              54  2014-05-23T00:19:27-05:00   \n",
       "59221      10000.0              18  2020-07-22T04:50:52-05:00   \n",
       "61017      45000.0             316  2015-05-05T08:08:14-05:00   \n",
       "64798       1000.0              12  2019-09-29T07:57:09-05:00   \n",
       "66971       8000.0              65  2018-12-07T06:13:18-06:00   \n",
       "69406       2000.0              10  2020-05-21T14:25:54-05:00   \n",
       "69504      25000.0             219  2015-11-14T12:53:08-06:00   \n",
       "72144      15000.0              76  2015-10-21T09:10:44-05:00   \n",
       "73962      10700.0              25  2020-02-01T13:18:40-06:00   \n",
       "73967       5000.0              56  2017-06-28T08:14:43-05:00   \n",
       "75332       3000.0              45  2015-02-28T09:55:44-06:00   \n",
       "75471        100.0              24  2015-04-15T14:45:22-05:00   \n",
       "76280       8000.0              14  2020-03-03T14:20:10-06:00   \n",
       "93922       5000.0              79  2014-10-09T06:12:38-05:00   \n",
       "99927      10000.0             115  2018-09-12T21:12:00-05:00   \n",
       "\n",
       "                   city            postal_code country  year  per_raised  \\\n",
       "2189            APO, US                   9464      US  2015    0.801000   \n",
       "7705    Green Brook, US                   8812      US  2020    0.541429   \n",
       "8410    Green Brook, US                   8812      US  2015    0.177500   \n",
       "10930           APO, US                   9356      US  2015    0.621220   \n",
       "18780           APO, US                  96338      US  2019    0.062000   \n",
       "19901   Green Brook, US                   8812      US  2019    0.366000   \n",
       "21867   Green Brook, US                   8812      US  2015    0.634600   \n",
       "22243           APO, US                   9012      US  2017    1.000000   \n",
       "22668           APO, US                   9128      US  2017    1.195000   \n",
       "27046               FPO                  96349      US  2018    1.452000   \n",
       "29697           APO, US                   9012      US  2019    1.119250   \n",
       "30565               FPO                  96379      US  2014    0.357500   \n",
       "36694           APO, US                   9012      US  2016    1.132500   \n",
       "37670           APO, US                   9012      US  2017    0.262700   \n",
       "38175           APO, US                   9469      US  2017    1.045000   \n",
       "38305   Green Brook, US                   8812      US  2016    0.556667   \n",
       "40072                                    34004      US  2017    0.526800   \n",
       "42210           APO, US                   9464      US  2016    0.360000   \n",
       "45043               FPO                  96517      US  2016    0.072917   \n",
       "46240           APO, US                   9610      US  2017    1.229000   \n",
       "52002           APO, US                   9112      US  2015    0.692500   \n",
       "56320           APO, US                  96326      US  2015    1.650000   \n",
       "57686           APO, US                   9020      US  2014    0.797000   \n",
       "59221  APO/FPO Military                  96273      US  2020    0.072500   \n",
       "61017               FPO                  96522      US  2015    1.192467   \n",
       "64798           APO, US                   9459      US  2019    0.900000   \n",
       "66971           APO, US                  96266      US  2018    0.758750   \n",
       "69406           APO, US                   9012      US  2020    0.662000   \n",
       "69504   Green Brook, US                   8812      US  2015    0.847600   \n",
       "72144           APO, US                   9603      US  2015    0.504667   \n",
       "73962           APO, US                   9060      US  2020    0.283832   \n",
       "73967               FPO                  96310      US  2017    1.000000   \n",
       "75332           APO, US                   9123      US  2015    1.262000   \n",
       "75471           APO, US                  96266      US  2015   16.500000   \n",
       "76280           APO, US                   9459      US  2020    0.254375   \n",
       "93922           APO, US                   9012      US  2014    1.054800   \n",
       "99927                    00926-San Juan PR, US      US  2018    0.670900   \n",
       "\n",
       "       hit_goal state  \n",
       "2189          0    US  \n",
       "7705          0    US  \n",
       "8410          0    US  \n",
       "10930         0    US  \n",
       "18780         0    US  \n",
       "19901         0    US  \n",
       "21867         0    US  \n",
       "22243         1    US  \n",
       "22668         1    US  \n",
       "27046         1    AP  \n",
       "29697         1    US  \n",
       "30565         0    AP  \n",
       "36694         1    US  \n",
       "37670         0    US  \n",
       "38175         1    US  \n",
       "38305         0    US  \n",
       "40072         0    AA  \n",
       "42210         0    US  \n",
       "45043         0    AP  \n",
       "46240         1    US  \n",
       "52002         0    US  \n",
       "56320         1    US  \n",
       "57686         0    US  \n",
       "59221         0    AP  \n",
       "61017         1    AP  \n",
       "64798         0    US  \n",
       "66971         0    US  \n",
       "69406         0    US  \n",
       "69504         0    US  \n",
       "72144         0    US  \n",
       "73962         0    US  \n",
       "73967         1    AP  \n",
       "75332         1    US  \n",
       "75471         1    US  \n",
       "76280         0    US  \n",
       "93922         1    US  \n",
       "99927         0    PR  "
      ]
     },
     "execution_count": 24,
     "metadata": {},
     "output_type": "execute_result"
    }
   ],
   "source": [
    "feed[feed['state'].isin(['US','AP','PR','AA','VI'])]"
   ]
  },
  {
   "cell_type": "code",
   "execution_count": 25,
   "metadata": {},
   "outputs": [],
   "source": [
    "feed = feed[~feed['state'].isin(['US','AP','PR','AA','VI'])]"
   ]
  },
  {
   "cell_type": "markdown",
   "metadata": {},
   "source": [
    "Inspect data assigned NO_STATE again"
   ]
  },
  {
   "cell_type": "code",
   "execution_count": 26,
   "metadata": {},
   "outputs": [],
   "source": [
    "#feed[feed['state'] == \"NO_STATE\"].to_csv(\"no_state.csv\")"
   ]
  },
  {
   "cell_type": "markdown",
   "metadata": {},
   "source": [
    "There are some zip codes in strings.\n",
    "\n",
    "Extract integers from string then put through zipcode API to see if we can avoid excluding those."
   ]
  },
  {
   "cell_type": "code",
   "execution_count": 27,
   "metadata": {},
   "outputs": [
    {
     "data": {
      "text/plain": [
       "['CO',\n",
       " 'NO_STATE',\n",
       " 'NO_STATE',\n",
       " 'NO_STATE',\n",
       " 'NO_STATE',\n",
       " 'NO_STATE',\n",
       " 'NO_STATE',\n",
       " 'NO_STATE',\n",
       " 'NO_STATE',\n",
       " 'AZ',\n",
       " 'NO_STATE',\n",
       " 'NO_STATE',\n",
       " 'MI',\n",
       " 'NO_STATE',\n",
       " 'NO_STATE',\n",
       " 'NO_STATE',\n",
       " 'NO_STATE',\n",
       " 'NO_STATE',\n",
       " 'NO_STATE',\n",
       " 'NO_STATE',\n",
       " 'NO_STATE',\n",
       " 'NO_STATE',\n",
       " 'NO_STATE',\n",
       " 'NO_STATE',\n",
       " 'NO_STATE',\n",
       " 'NO_STATE',\n",
       " 'NO_STATE',\n",
       " 'NO_STATE',\n",
       " 'NO_STATE',\n",
       " 'NO_STATE',\n",
       " 'NO_STATE',\n",
       " 'NO_STATE',\n",
       " 'NO_STATE',\n",
       " 'NO_STATE',\n",
       " 'NO_STATE',\n",
       " 'NO_STATE',\n",
       " 'NO_STATE',\n",
       " 'NO_STATE',\n",
       " 'NO_STATE',\n",
       " 'NO_STATE',\n",
       " 'NO_STATE',\n",
       " 'NO_STATE',\n",
       " 'FL',\n",
       " 'NO_STATE',\n",
       " 'NO_STATE',\n",
       " 'NO_STATE',\n",
       " 'NO_STATE',\n",
       " 'NO_STATE',\n",
       " 'NO_STATE',\n",
       " 'NO_STATE',\n",
       " 'NO_STATE',\n",
       " 'NO_STATE',\n",
       " 'NO_STATE',\n",
       " 'NO_STATE',\n",
       " 'NO_STATE',\n",
       " 'NO_STATE',\n",
       " 'NO_STATE',\n",
       " 'NO_STATE',\n",
       " 'NO_STATE',\n",
       " 'NO_STATE',\n",
       " 'NO_STATE',\n",
       " 'NO_STATE',\n",
       " 'CA',\n",
       " 'NO_STATE',\n",
       " 'NO_STATE',\n",
       " 'NO_STATE',\n",
       " 'NO_STATE',\n",
       " 'NO_STATE',\n",
       " 'NO_STATE',\n",
       " 'NO_STATE',\n",
       " 'NO_STATE',\n",
       " 'NO_STATE',\n",
       " 'NO_STATE',\n",
       " 'NO_STATE',\n",
       " 'NO_STATE',\n",
       " 'NO_STATE',\n",
       " 'NO_STATE',\n",
       " 'NO_STATE',\n",
       " 'NO_STATE',\n",
       " 'NO_STATE',\n",
       " 'NO_STATE',\n",
       " 'NO_STATE',\n",
       " 'NO_STATE',\n",
       " 'NO_STATE',\n",
       " 'NO_STATE',\n",
       " 'NO_STATE',\n",
       " 'NO_STATE',\n",
       " 'NO_STATE',\n",
       " 'NO_STATE',\n",
       " 'NO_STATE',\n",
       " 'NO_STATE',\n",
       " 'NO_STATE',\n",
       " 'NO_STATE',\n",
       " 'NO_STATE',\n",
       " 'NO_STATE',\n",
       " 'NO_STATE',\n",
       " 'NO_STATE',\n",
       " 'NO_STATE',\n",
       " 'NO_STATE',\n",
       " 'NO_STATE',\n",
       " 'NO_STATE',\n",
       " 'NO_STATE',\n",
       " 'NO_STATE',\n",
       " 'CA',\n",
       " 'NO_STATE',\n",
       " 'NO_STATE',\n",
       " 'NO_STATE',\n",
       " 'TX',\n",
       " 'NO_STATE',\n",
       " 'NO_STATE',\n",
       " 'NO_STATE',\n",
       " 'NO_STATE',\n",
       " 'NO_STATE',\n",
       " 'NO_STATE',\n",
       " 'NO_STATE',\n",
       " 'NO_STATE',\n",
       " 'NO_STATE',\n",
       " 'NO_STATE',\n",
       " 'NO_STATE',\n",
       " 'OH',\n",
       " 'NO_STATE',\n",
       " 'FL',\n",
       " 'NO_STATE',\n",
       " 'TN',\n",
       " 'NO_STATE',\n",
       " 'NO_STATE',\n",
       " 'NO_STATE',\n",
       " 'NO_STATE',\n",
       " 'NO_STATE',\n",
       " 'NO_STATE',\n",
       " 'NO_STATE',\n",
       " 'NO_STATE',\n",
       " 'NO_STATE',\n",
       " 'NO_STATE',\n",
       " 'NO_STATE',\n",
       " 'NO_STATE',\n",
       " 'NO_STATE',\n",
       " 'NO_STATE',\n",
       " 'NO_STATE',\n",
       " 'NO_STATE',\n",
       " 'NO_STATE',\n",
       " 'NO_STATE',\n",
       " 'NO_STATE',\n",
       " 'NO_STATE',\n",
       " 'ID',\n",
       " 'NO_STATE',\n",
       " 'NO_STATE',\n",
       " 'NO_STATE',\n",
       " 'NO_STATE',\n",
       " 'NO_STATE',\n",
       " 'NO_STATE',\n",
       " 'NO_STATE',\n",
       " 'NO_STATE',\n",
       " 'NO_STATE',\n",
       " 'NO_STATE',\n",
       " 'NO_STATE',\n",
       " 'NO_STATE',\n",
       " 'NO_STATE',\n",
       " 'OH',\n",
       " 'NO_STATE',\n",
       " 'NO_STATE',\n",
       " 'NO_STATE',\n",
       " 'NO_STATE',\n",
       " 'NO_STATE',\n",
       " 'NO_STATE',\n",
       " 'NO_STATE',\n",
       " 'TX',\n",
       " 'NO_STATE',\n",
       " 'NO_STATE',\n",
       " 'NO_STATE',\n",
       " 'NO_STATE',\n",
       " 'NO_STATE',\n",
       " 'NO_STATE',\n",
       " 'NO_STATE',\n",
       " 'NO_STATE',\n",
       " 'NO_STATE',\n",
       " 'NO_STATE',\n",
       " 'NO_STATE',\n",
       " 'NO_STATE',\n",
       " 'NO_STATE',\n",
       " 'NO_STATE',\n",
       " 'NO_STATE',\n",
       " 'NO_STATE',\n",
       " 'FL',\n",
       " 'CA',\n",
       " 'NO_STATE',\n",
       " 'NO_STATE',\n",
       " 'NO_STATE',\n",
       " 'NO_STATE',\n",
       " 'NO_STATE',\n",
       " 'NV',\n",
       " 'NO_STATE',\n",
       " 'NO_STATE',\n",
       " 'NO_STATE',\n",
       " 'NO_STATE',\n",
       " 'NO_STATE',\n",
       " 'NO_STATE',\n",
       " 'NO_STATE',\n",
       " 'NO_STATE',\n",
       " 'NO_STATE',\n",
       " 'NO_STATE',\n",
       " 'NO_STATE',\n",
       " 'NO_STATE',\n",
       " 'NO_STATE',\n",
       " 'NO_STATE',\n",
       " 'NO_STATE',\n",
       " 'NO_STATE',\n",
       " 'NO_STATE',\n",
       " 'NO_STATE',\n",
       " 'NO_STATE',\n",
       " 'NY',\n",
       " 'NO_STATE',\n",
       " 'NO_STATE',\n",
       " 'NO_STATE',\n",
       " 'NO_STATE',\n",
       " 'NO_STATE',\n",
       " 'NO_STATE',\n",
       " 'NO_STATE',\n",
       " 'NO_STATE',\n",
       " 'NO_STATE',\n",
       " 'NO_STATE',\n",
       " 'TX',\n",
       " 'NO_STATE',\n",
       " 'NO_STATE',\n",
       " 'NO_STATE',\n",
       " 'NO_STATE',\n",
       " 'NO_STATE',\n",
       " 'NO_STATE',\n",
       " 'CO',\n",
       " 'NO_STATE',\n",
       " 'NO_STATE',\n",
       " 'NO_STATE',\n",
       " 'FL',\n",
       " 'NO_STATE',\n",
       " 'NO_STATE',\n",
       " 'NO_STATE',\n",
       " 'NY',\n",
       " 'NO_STATE',\n",
       " 'NO_STATE',\n",
       " 'NO_STATE',\n",
       " 'NO_STATE',\n",
       " 'NO_STATE',\n",
       " 'NO_STATE',\n",
       " 'NO_STATE',\n",
       " 'NO_STATE',\n",
       " 'NO_STATE',\n",
       " 'NO_STATE',\n",
       " 'IA',\n",
       " 'NO_STATE',\n",
       " 'NO_STATE',\n",
       " 'NO_STATE',\n",
       " 'NO_STATE',\n",
       " 'TX',\n",
       " 'NO_STATE',\n",
       " 'NO_STATE',\n",
       " 'NO_STATE',\n",
       " 'NO_STATE',\n",
       " 'NO_STATE',\n",
       " 'NO_STATE',\n",
       " 'NO_STATE',\n",
       " 'NO_STATE',\n",
       " 'CA',\n",
       " 'NO_STATE',\n",
       " 'NO_STATE',\n",
       " 'NO_STATE',\n",
       " 'NO_STATE',\n",
       " 'NO_STATE',\n",
       " 'NO_STATE',\n",
       " 'NO_STATE',\n",
       " 'NO_STATE',\n",
       " 'NO_STATE',\n",
       " 'NO_STATE',\n",
       " 'NO_STATE',\n",
       " 'NO_STATE',\n",
       " 'NO_STATE',\n",
       " 'NO_STATE',\n",
       " 'NO_STATE',\n",
       " 'NO_STATE',\n",
       " 'NO_STATE',\n",
       " 'NO_STATE',\n",
       " 'NO_STATE',\n",
       " 'NO_STATE',\n",
       " 'NO_STATE',\n",
       " 'NO_STATE',\n",
       " 'NO_STATE',\n",
       " 'NO_STATE',\n",
       " 'NO_STATE',\n",
       " 'NO_STATE',\n",
       " 'NO_STATE',\n",
       " 'NO_STATE',\n",
       " 'NO_STATE',\n",
       " 'NO_STATE',\n",
       " 'NO_STATE',\n",
       " 'NO_STATE',\n",
       " 'NO_STATE',\n",
       " 'NO_STATE',\n",
       " 'NO_STATE',\n",
       " 'NO_STATE',\n",
       " 'NO_STATE',\n",
       " 'NO_STATE',\n",
       " 'NO_STATE',\n",
       " 'NO_STATE',\n",
       " 'NO_STATE',\n",
       " 'NO_STATE',\n",
       " 'NO_STATE',\n",
       " 'NO_STATE',\n",
       " 'NO_STATE',\n",
       " 'NO_STATE',\n",
       " 'NO_STATE',\n",
       " 'NO_STATE',\n",
       " 'NO_STATE',\n",
       " 'NO_STATE',\n",
       " 'NO_STATE',\n",
       " 'NO_STATE',\n",
       " 'NO_STATE',\n",
       " 'NO_STATE',\n",
       " 'NO_STATE',\n",
       " 'NO_STATE',\n",
       " 'NO_STATE',\n",
       " 'NO_STATE',\n",
       " 'NO_STATE',\n",
       " 'NO_STATE',\n",
       " 'NO_STATE',\n",
       " 'NO_STATE',\n",
       " 'NO_STATE']"
      ]
     },
     "execution_count": 27,
     "metadata": {},
     "output_type": "execute_result"
    }
   ],
   "source": [
    "def ZipCodeInt(codes):\n",
    "    results = []\n",
    "    for code in codes:\n",
    "        try:\n",
    "            code_int = [int(s) for s in code.split() if s.isdigit()][0]\n",
    "            r = zipcodes.matching(str(code_int))\n",
    "            results.append(r[0]['state'])\n",
    "        except:\n",
    "            results.append('NO_STATE')\n",
    "    return results\n",
    "\n",
    "ZipCodeInt(feed[feed['state'] == 'NO_STATE']['postal_code'])"
   ]
  },
  {
   "cell_type": "markdown",
   "metadata": {},
   "source": [
    "This finds a few more states.\n",
    "\n",
    "Will add these to the data."
   ]
  },
  {
   "cell_type": "code",
   "execution_count": 28,
   "metadata": {},
   "outputs": [],
   "source": [
    "feed.loc[feed['state'] == 'NO_STATE', 'state'] = ZipCodeInt(feed[feed['state'] == 'NO_STATE']['postal_code'])"
   ]
  },
  {
   "cell_type": "code",
   "execution_count": 29,
   "metadata": {},
   "outputs": [
    {
     "data": {
      "text/plain": [
       "Index(['CA', 'TX', 'FL', 'NY', 'IL', 'GA', 'PA', 'WA', 'MI', 'NC', 'OH', 'AZ',\n",
       "       'CO', 'VA', 'NJ', 'MN', 'MA', 'OR', 'TN', 'MO', 'IN', 'MD', 'WI', 'SC',\n",
       "       'UT', 'LA', 'OK', 'AL', 'NV', 'CT', 'KY', 'KS', 'IA', 'AR', 'ID', 'ME',\n",
       "       'NE', 'NM', 'NH', 'MT', 'MS', 'HI', 'WV', 'AK', 'RI', 'NO_STATE', 'SD',\n",
       "       'ND', 'VT', 'DE', 'WY', 'DC'],\n",
       "      dtype='object')"
      ]
     },
     "execution_count": 29,
     "metadata": {},
     "output_type": "execute_result"
    }
   ],
   "source": [
    "feed['state'].value_counts().index"
   ]
  },
  {
   "cell_type": "code",
   "execution_count": 30,
   "metadata": {},
   "outputs": [
    {
     "data": {
      "text/plain": [
       "52"
      ]
     },
     "execution_count": 30,
     "metadata": {},
     "output_type": "execute_result"
    }
   ],
   "source": [
    "len(feed['state'].value_counts().index)"
   ]
  },
  {
   "cell_type": "markdown",
   "metadata": {},
   "source": [
    "There are appropriately 52 categories in the state variable: 50 states + DC + NO_STATE"
   ]
  },
  {
   "cell_type": "markdown",
   "metadata": {},
   "source": [
    "Now we will categorize into census regions\n",
    "\n",
    "census regions were obtained from here: https://github.com/cphalpert/census-regions/blob/master/us%20census%20bureau%20regions%20and%20divisions.csv"
   ]
  },
  {
   "cell_type": "code",
   "execution_count": 31,
   "metadata": {},
   "outputs": [],
   "source": [
    "census = pd.read_csv(\"census_regions.csv\")"
   ]
  },
  {
   "cell_type": "code",
   "execution_count": 32,
   "metadata": {},
   "outputs": [
    {
     "data": {
      "text/html": [
       "<div>\n",
       "<style scoped>\n",
       "    .dataframe tbody tr th:only-of-type {\n",
       "        vertical-align: middle;\n",
       "    }\n",
       "\n",
       "    .dataframe tbody tr th {\n",
       "        vertical-align: top;\n",
       "    }\n",
       "\n",
       "    .dataframe thead th {\n",
       "        text-align: right;\n",
       "    }\n",
       "</style>\n",
       "<table border=\"1\" class=\"dataframe\">\n",
       "  <thead>\n",
       "    <tr style=\"text-align: right;\">\n",
       "      <th></th>\n",
       "      <th>state</th>\n",
       "      <th>state_code</th>\n",
       "      <th>region</th>\n",
       "      <th>division</th>\n",
       "    </tr>\n",
       "  </thead>\n",
       "  <tbody>\n",
       "    <tr>\n",
       "      <th>0</th>\n",
       "      <td>Alaska</td>\n",
       "      <td>AK</td>\n",
       "      <td>West</td>\n",
       "      <td>Pacific</td>\n",
       "    </tr>\n",
       "    <tr>\n",
       "      <th>1</th>\n",
       "      <td>Alabama</td>\n",
       "      <td>AL</td>\n",
       "      <td>South</td>\n",
       "      <td>East South Central</td>\n",
       "    </tr>\n",
       "    <tr>\n",
       "      <th>2</th>\n",
       "      <td>Arkansas</td>\n",
       "      <td>AR</td>\n",
       "      <td>South</td>\n",
       "      <td>West South Central</td>\n",
       "    </tr>\n",
       "    <tr>\n",
       "      <th>3</th>\n",
       "      <td>Arizona</td>\n",
       "      <td>AZ</td>\n",
       "      <td>West</td>\n",
       "      <td>Mountain</td>\n",
       "    </tr>\n",
       "    <tr>\n",
       "      <th>4</th>\n",
       "      <td>California</td>\n",
       "      <td>CA</td>\n",
       "      <td>West</td>\n",
       "      <td>Pacific</td>\n",
       "    </tr>\n",
       "  </tbody>\n",
       "</table>\n",
       "</div>"
      ],
      "text/plain": [
       "        state state_code region            division\n",
       "0      Alaska         AK   West             Pacific\n",
       "1     Alabama         AL  South  East South Central\n",
       "2    Arkansas         AR  South  West South Central\n",
       "3     Arizona         AZ   West            Mountain\n",
       "4  California         CA   West             Pacific"
      ]
     },
     "execution_count": 32,
     "metadata": {},
     "output_type": "execute_result"
    }
   ],
   "source": [
    "census.head()"
   ]
  },
  {
   "cell_type": "code",
   "execution_count": 33,
   "metadata": {},
   "outputs": [],
   "source": [
    "feed = pd.merge(feed, census[['state_code', 'region']], left_on='state', right_on='state_code', how='left')"
   ]
  },
  {
   "cell_type": "code",
   "execution_count": 34,
   "metadata": {},
   "outputs": [],
   "source": [
    "del feed['state_code']\n",
    "feed.rename(columns={'region':'census_region'}, inplace=True)"
   ]
  },
  {
   "cell_type": "code",
   "execution_count": 35,
   "metadata": {},
   "outputs": [
    {
     "data": {
      "text/html": [
       "<div>\n",
       "<style scoped>\n",
       "    .dataframe tbody tr th:only-of-type {\n",
       "        vertical-align: middle;\n",
       "    }\n",
       "\n",
       "    .dataframe tbody tr th {\n",
       "        vertical-align: top;\n",
       "    }\n",
       "\n",
       "    .dataframe thead th {\n",
       "        text-align: right;\n",
       "    }\n",
       "</style>\n",
       "<table border=\"1\" class=\"dataframe\">\n",
       "  <thead>\n",
       "    <tr style=\"text-align: right;\">\n",
       "      <th></th>\n",
       "      <th>url</th>\n",
       "      <th>current_amount</th>\n",
       "      <th>goal_amount</th>\n",
       "      <th>donation_count</th>\n",
       "      <th>created_at</th>\n",
       "      <th>city</th>\n",
       "      <th>postal_code</th>\n",
       "      <th>country</th>\n",
       "      <th>year</th>\n",
       "      <th>per_raised</th>\n",
       "      <th>hit_goal</th>\n",
       "      <th>state</th>\n",
       "      <th>census_region</th>\n",
       "    </tr>\n",
       "  </thead>\n",
       "  <tbody>\n",
       "    <tr>\n",
       "      <th>0</th>\n",
       "      <td>https://www.gofundme.com/f/Amarilindo</td>\n",
       "      <td>2340.0</td>\n",
       "      <td>10000.0</td>\n",
       "      <td>37</td>\n",
       "      <td>2016-02-16T08:42:39-06:00</td>\n",
       "      <td>Kissimmee, FL</td>\n",
       "      <td>34743</td>\n",
       "      <td>US</td>\n",
       "      <td>2016</td>\n",
       "      <td>0.234000</td>\n",
       "      <td>0</td>\n",
       "      <td>FL</td>\n",
       "      <td>South</td>\n",
       "    </tr>\n",
       "    <tr>\n",
       "      <th>1</th>\n",
       "      <td>https://www.gofundme.com/f/m6gg66vd</td>\n",
       "      <td>2200.0</td>\n",
       "      <td>2300.0</td>\n",
       "      <td>45</td>\n",
       "      <td>2016-01-26T10:19:44-06:00</td>\n",
       "      <td>New York, NY</td>\n",
       "      <td>10014</td>\n",
       "      <td>US</td>\n",
       "      <td>2016</td>\n",
       "      <td>0.956522</td>\n",
       "      <td>0</td>\n",
       "      <td>NY</td>\n",
       "      <td>Northeast</td>\n",
       "    </tr>\n",
       "    <tr>\n",
       "      <th>2</th>\n",
       "      <td>https://www.gofundme.com/f/2vhyamk</td>\n",
       "      <td>1640.0</td>\n",
       "      <td>5000.0</td>\n",
       "      <td>15</td>\n",
       "      <td>2016-10-22T10:02:54-05:00</td>\n",
       "      <td>Prescott, AR</td>\n",
       "      <td>71857</td>\n",
       "      <td>US</td>\n",
       "      <td>2016</td>\n",
       "      <td>0.328000</td>\n",
       "      <td>0</td>\n",
       "      <td>AR</td>\n",
       "      <td>South</td>\n",
       "    </tr>\n",
       "    <tr>\n",
       "      <th>3</th>\n",
       "      <td>https://www.gofundme.com/f/support-loving-moth...</td>\n",
       "      <td>2370.0</td>\n",
       "      <td>5000.0</td>\n",
       "      <td>30</td>\n",
       "      <td>2019-09-09T17:07:36-05:00</td>\n",
       "      <td>Woodbridge, VA</td>\n",
       "      <td>22193</td>\n",
       "      <td>US</td>\n",
       "      <td>2019</td>\n",
       "      <td>0.474000</td>\n",
       "      <td>0</td>\n",
       "      <td>VA</td>\n",
       "      <td>South</td>\n",
       "    </tr>\n",
       "    <tr>\n",
       "      <th>4</th>\n",
       "      <td>https://www.gofundme.com/f/Aeolis_Est</td>\n",
       "      <td>8790.0</td>\n",
       "      <td>2000.0</td>\n",
       "      <td>167</td>\n",
       "      <td>2016-06-03T20:59:55-05:00</td>\n",
       "      <td>Alachua, FL</td>\n",
       "      <td>32615</td>\n",
       "      <td>US</td>\n",
       "      <td>2016</td>\n",
       "      <td>4.395000</td>\n",
       "      <td>1</td>\n",
       "      <td>FL</td>\n",
       "      <td>South</td>\n",
       "    </tr>\n",
       "  </tbody>\n",
       "</table>\n",
       "</div>"
      ],
      "text/plain": [
       "                                                 url  current_amount  \\\n",
       "0              https://www.gofundme.com/f/Amarilindo          2340.0   \n",
       "1                https://www.gofundme.com/f/m6gg66vd          2200.0   \n",
       "2                 https://www.gofundme.com/f/2vhyamk          1640.0   \n",
       "3  https://www.gofundme.com/f/support-loving-moth...          2370.0   \n",
       "4              https://www.gofundme.com/f/Aeolis_Est          8790.0   \n",
       "\n",
       "   goal_amount  donation_count                 created_at            city  \\\n",
       "0      10000.0              37  2016-02-16T08:42:39-06:00   Kissimmee, FL   \n",
       "1       2300.0              45  2016-01-26T10:19:44-06:00    New York, NY   \n",
       "2       5000.0              15  2016-10-22T10:02:54-05:00    Prescott, AR   \n",
       "3       5000.0              30  2019-09-09T17:07:36-05:00  Woodbridge, VA   \n",
       "4       2000.0             167  2016-06-03T20:59:55-05:00     Alachua, FL   \n",
       "\n",
       "  postal_code country  year  per_raised  hit_goal state census_region  \n",
       "0       34743      US  2016    0.234000         0    FL         South  \n",
       "1       10014      US  2016    0.956522         0    NY     Northeast  \n",
       "2       71857      US  2016    0.328000         0    AR         South  \n",
       "3       22193      US  2019    0.474000         0    VA         South  \n",
       "4       32615      US  2016    4.395000         1    FL         South  "
      ]
     },
     "execution_count": 35,
     "metadata": {},
     "output_type": "execute_result"
    }
   ],
   "source": [
    "feed.head()"
   ]
  },
  {
   "cell_type": "code",
   "execution_count": 36,
   "metadata": {},
   "outputs": [],
   "source": [
    "feed = feed[~feed['state'].isin(['NO_STATE'])]"
   ]
  },
  {
   "cell_type": "markdown",
   "metadata": {},
   "source": [
    "### Add medicaid expansion data"
   ]
  },
  {
   "cell_type": "markdown",
   "metadata": {},
   "source": [
    "Import medicaid expansion data from KFF, accessed 12/1/2020"
   ]
  },
  {
   "cell_type": "code",
   "execution_count": 37,
   "metadata": {},
   "outputs": [],
   "source": [
    "medicaid = pd.read_csv('medicaid/KFF_expansion-status-interactive-map_10.1.20.csv')"
   ]
  },
  {
   "cell_type": "code",
   "execution_count": 38,
   "metadata": {},
   "outputs": [
    {
     "data": {
      "text/html": [
       "<div>\n",
       "<style scoped>\n",
       "    .dataframe tbody tr th:only-of-type {\n",
       "        vertical-align: middle;\n",
       "    }\n",
       "\n",
       "    .dataframe tbody tr th {\n",
       "        vertical-align: top;\n",
       "    }\n",
       "\n",
       "    .dataframe thead th {\n",
       "        text-align: right;\n",
       "    }\n",
       "</style>\n",
       "<table border=\"1\" class=\"dataframe\">\n",
       "  <thead>\n",
       "    <tr style=\"text-align: right;\">\n",
       "      <th></th>\n",
       "      <th>State</th>\n",
       "      <th>Expansion Status</th>\n",
       "      <th>Description</th>\n",
       "    </tr>\n",
       "  </thead>\n",
       "  <tbody>\n",
       "    <tr>\n",
       "      <th>0</th>\n",
       "      <td>Alabama</td>\n",
       "      <td>Not Adopted</td>\n",
       "      <td>NaN</td>\n",
       "    </tr>\n",
       "    <tr>\n",
       "      <th>1</th>\n",
       "      <td>Alaska</td>\n",
       "      <td>Adopted and Implemented</td>\n",
       "      <td>Implemented expansion on 9/1/2015\\n</td>\n",
       "    </tr>\n",
       "    <tr>\n",
       "      <th>2</th>\n",
       "      <td>Arizona</td>\n",
       "      <td>Adopted and Implemented</td>\n",
       "      <td>Implemented expansion on 1/1/2014\\n</td>\n",
       "    </tr>\n",
       "    <tr>\n",
       "      <th>3</th>\n",
       "      <td>Arkansas</td>\n",
       "      <td>Adopted and Implemented</td>\n",
       "      <td>Implemented expansion on 1/1/2014 \\n</td>\n",
       "    </tr>\n",
       "    <tr>\n",
       "      <th>4</th>\n",
       "      <td>California</td>\n",
       "      <td>Adopted and Implemented</td>\n",
       "      <td>Implemented expansion on 1/1/2014\\n</td>\n",
       "    </tr>\n",
       "  </tbody>\n",
       "</table>\n",
       "</div>"
      ],
      "text/plain": [
       "        State         Expansion Status                           Description\n",
       "0     Alabama              Not Adopted                                   NaN\n",
       "1      Alaska  Adopted and Implemented   Implemented expansion on 9/1/2015\\n\n",
       "2     Arizona  Adopted and Implemented   Implemented expansion on 1/1/2014\\n\n",
       "3    Arkansas  Adopted and Implemented  Implemented expansion on 1/1/2014 \\n\n",
       "4  California  Adopted and Implemented   Implemented expansion on 1/1/2014\\n"
      ]
     },
     "execution_count": 38,
     "metadata": {},
     "output_type": "execute_result"
    }
   ],
   "source": [
    "medicaid.head()"
   ]
  },
  {
   "cell_type": "markdown",
   "metadata": {},
   "source": [
    "Merge with census data to get state_code"
   ]
  },
  {
   "cell_type": "code",
   "execution_count": 39,
   "metadata": {},
   "outputs": [],
   "source": [
    "medicaid = pd.merge(medicaid, census[['state_code', 'state']], left_on='State', right_on='state', how='left')"
   ]
  },
  {
   "cell_type": "code",
   "execution_count": 40,
   "metadata": {},
   "outputs": [],
   "source": [
    "del medicaid['State']"
   ]
  },
  {
   "cell_type": "code",
   "execution_count": 41,
   "metadata": {},
   "outputs": [
    {
     "data": {
      "text/html": [
       "<div>\n",
       "<style scoped>\n",
       "    .dataframe tbody tr th:only-of-type {\n",
       "        vertical-align: middle;\n",
       "    }\n",
       "\n",
       "    .dataframe tbody tr th {\n",
       "        vertical-align: top;\n",
       "    }\n",
       "\n",
       "    .dataframe thead th {\n",
       "        text-align: right;\n",
       "    }\n",
       "</style>\n",
       "<table border=\"1\" class=\"dataframe\">\n",
       "  <thead>\n",
       "    <tr style=\"text-align: right;\">\n",
       "      <th></th>\n",
       "      <th>Expansion Status</th>\n",
       "      <th>Description</th>\n",
       "      <th>state_code</th>\n",
       "      <th>state</th>\n",
       "    </tr>\n",
       "  </thead>\n",
       "  <tbody>\n",
       "    <tr>\n",
       "      <th>0</th>\n",
       "      <td>Not Adopted</td>\n",
       "      <td>NaN</td>\n",
       "      <td>AL</td>\n",
       "      <td>Alabama</td>\n",
       "    </tr>\n",
       "    <tr>\n",
       "      <th>1</th>\n",
       "      <td>Adopted and Implemented</td>\n",
       "      <td>Implemented expansion on 9/1/2015\\n</td>\n",
       "      <td>AK</td>\n",
       "      <td>Alaska</td>\n",
       "    </tr>\n",
       "    <tr>\n",
       "      <th>2</th>\n",
       "      <td>Adopted and Implemented</td>\n",
       "      <td>Implemented expansion on 1/1/2014\\n</td>\n",
       "      <td>AZ</td>\n",
       "      <td>Arizona</td>\n",
       "    </tr>\n",
       "    <tr>\n",
       "      <th>3</th>\n",
       "      <td>Adopted and Implemented</td>\n",
       "      <td>Implemented expansion on 1/1/2014 \\n</td>\n",
       "      <td>AR</td>\n",
       "      <td>Arkansas</td>\n",
       "    </tr>\n",
       "    <tr>\n",
       "      <th>4</th>\n",
       "      <td>Adopted and Implemented</td>\n",
       "      <td>Implemented expansion on 1/1/2014\\n</td>\n",
       "      <td>CA</td>\n",
       "      <td>California</td>\n",
       "    </tr>\n",
       "  </tbody>\n",
       "</table>\n",
       "</div>"
      ],
      "text/plain": [
       "          Expansion Status                           Description state_code  \\\n",
       "0              Not Adopted                                   NaN         AL   \n",
       "1  Adopted and Implemented   Implemented expansion on 9/1/2015\\n         AK   \n",
       "2  Adopted and Implemented   Implemented expansion on 1/1/2014\\n         AZ   \n",
       "3  Adopted and Implemented  Implemented expansion on 1/1/2014 \\n         AR   \n",
       "4  Adopted and Implemented   Implemented expansion on 1/1/2014\\n         CA   \n",
       "\n",
       "        state  \n",
       "0     Alabama  \n",
       "1      Alaska  \n",
       "2     Arizona  \n",
       "3    Arkansas  \n",
       "4  California  "
      ]
     },
     "execution_count": 41,
     "metadata": {},
     "output_type": "execute_result"
    }
   ],
   "source": [
    "medicaid.head()"
   ]
  },
  {
   "cell_type": "code",
   "execution_count": 42,
   "metadata": {},
   "outputs": [],
   "source": [
    "date_regex = r'(0?\\d|1[012])\\/([012]?\\d|3[01])\\/\\d{4}'"
   ]
  },
  {
   "cell_type": "code",
   "execution_count": 43,
   "metadata": {},
   "outputs": [],
   "source": [
    "medicaid['date_expansion'] = [datetime.strptime(re.search(date_regex, x).group(0),'%m/%d/%Y') if x is not np.nan else np.nan for x in medicaid['Description']]"
   ]
  },
  {
   "cell_type": "code",
   "execution_count": 44,
   "metadata": {},
   "outputs": [
    {
     "data": {
      "text/plain": [
       "Adopted and Implemented        37\n",
       "Not Adopted                    12\n",
       "Adopted but Not Implemented     2\n",
       "Name: Expansion Status, dtype: int64"
      ]
     },
     "execution_count": 44,
     "metadata": {},
     "output_type": "execute_result"
    }
   ],
   "source": [
    "medicaid['Expansion Status'].value_counts()"
   ]
  },
  {
   "cell_type": "code",
   "execution_count": 45,
   "metadata": {},
   "outputs": [],
   "source": [
    "feed = pd.merge(feed, medicaid, left_on='state', right_on='state_code', how='left')"
   ]
  },
  {
   "cell_type": "code",
   "execution_count": 46,
   "metadata": {},
   "outputs": [],
   "source": [
    "feed['created_at_date'] = [datetime.strptime(x.split(\"T\")[0], '%Y-%m-%d') for x in feed['created_at']]"
   ]
  },
  {
   "cell_type": "code",
   "execution_count": 47,
   "metadata": {},
   "outputs": [
    {
     "data": {
      "text/html": [
       "<div>\n",
       "<style scoped>\n",
       "    .dataframe tbody tr th:only-of-type {\n",
       "        vertical-align: middle;\n",
       "    }\n",
       "\n",
       "    .dataframe tbody tr th {\n",
       "        vertical-align: top;\n",
       "    }\n",
       "\n",
       "    .dataframe thead th {\n",
       "        text-align: right;\n",
       "    }\n",
       "</style>\n",
       "<table border=\"1\" class=\"dataframe\">\n",
       "  <thead>\n",
       "    <tr style=\"text-align: right;\">\n",
       "      <th></th>\n",
       "      <th>url</th>\n",
       "      <th>current_amount</th>\n",
       "      <th>goal_amount</th>\n",
       "      <th>donation_count</th>\n",
       "      <th>created_at</th>\n",
       "      <th>city</th>\n",
       "      <th>postal_code</th>\n",
       "      <th>country</th>\n",
       "      <th>year</th>\n",
       "      <th>per_raised</th>\n",
       "      <th>hit_goal</th>\n",
       "      <th>state_x</th>\n",
       "      <th>census_region</th>\n",
       "      <th>Expansion Status</th>\n",
       "      <th>Description</th>\n",
       "      <th>state_code</th>\n",
       "      <th>state_y</th>\n",
       "      <th>date_expansion</th>\n",
       "      <th>created_at_date</th>\n",
       "    </tr>\n",
       "  </thead>\n",
       "  <tbody>\n",
       "    <tr>\n",
       "      <th>0</th>\n",
       "      <td>https://www.gofundme.com/f/Amarilindo</td>\n",
       "      <td>2340.0</td>\n",
       "      <td>10000.0</td>\n",
       "      <td>37</td>\n",
       "      <td>2016-02-16T08:42:39-06:00</td>\n",
       "      <td>Kissimmee, FL</td>\n",
       "      <td>34743</td>\n",
       "      <td>US</td>\n",
       "      <td>2016</td>\n",
       "      <td>0.234000</td>\n",
       "      <td>0</td>\n",
       "      <td>FL</td>\n",
       "      <td>South</td>\n",
       "      <td>Not Adopted</td>\n",
       "      <td>NaN</td>\n",
       "      <td>FL</td>\n",
       "      <td>Florida</td>\n",
       "      <td>NaT</td>\n",
       "      <td>2016-02-16</td>\n",
       "    </tr>\n",
       "    <tr>\n",
       "      <th>1</th>\n",
       "      <td>https://www.gofundme.com/f/m6gg66vd</td>\n",
       "      <td>2200.0</td>\n",
       "      <td>2300.0</td>\n",
       "      <td>45</td>\n",
       "      <td>2016-01-26T10:19:44-06:00</td>\n",
       "      <td>New York, NY</td>\n",
       "      <td>10014</td>\n",
       "      <td>US</td>\n",
       "      <td>2016</td>\n",
       "      <td>0.956522</td>\n",
       "      <td>0</td>\n",
       "      <td>NY</td>\n",
       "      <td>Northeast</td>\n",
       "      <td>Adopted and Implemented</td>\n",
       "      <td>Implemented expansion on 1/1/2014\\n</td>\n",
       "      <td>NY</td>\n",
       "      <td>New York</td>\n",
       "      <td>2014-01-01</td>\n",
       "      <td>2016-01-26</td>\n",
       "    </tr>\n",
       "    <tr>\n",
       "      <th>2</th>\n",
       "      <td>https://www.gofundme.com/f/2vhyamk</td>\n",
       "      <td>1640.0</td>\n",
       "      <td>5000.0</td>\n",
       "      <td>15</td>\n",
       "      <td>2016-10-22T10:02:54-05:00</td>\n",
       "      <td>Prescott, AR</td>\n",
       "      <td>71857</td>\n",
       "      <td>US</td>\n",
       "      <td>2016</td>\n",
       "      <td>0.328000</td>\n",
       "      <td>0</td>\n",
       "      <td>AR</td>\n",
       "      <td>South</td>\n",
       "      <td>Adopted and Implemented</td>\n",
       "      <td>Implemented expansion on 1/1/2014 \\n</td>\n",
       "      <td>AR</td>\n",
       "      <td>Arkansas</td>\n",
       "      <td>2014-01-01</td>\n",
       "      <td>2016-10-22</td>\n",
       "    </tr>\n",
       "    <tr>\n",
       "      <th>3</th>\n",
       "      <td>https://www.gofundme.com/f/support-loving-moth...</td>\n",
       "      <td>2370.0</td>\n",
       "      <td>5000.0</td>\n",
       "      <td>30</td>\n",
       "      <td>2019-09-09T17:07:36-05:00</td>\n",
       "      <td>Woodbridge, VA</td>\n",
       "      <td>22193</td>\n",
       "      <td>US</td>\n",
       "      <td>2019</td>\n",
       "      <td>0.474000</td>\n",
       "      <td>0</td>\n",
       "      <td>VA</td>\n",
       "      <td>South</td>\n",
       "      <td>Adopted and Implemented</td>\n",
       "      <td>Expansion coverage implemented 1/1/2019 (enrol...</td>\n",
       "      <td>VA</td>\n",
       "      <td>Virginia</td>\n",
       "      <td>2019-01-01</td>\n",
       "      <td>2019-09-09</td>\n",
       "    </tr>\n",
       "    <tr>\n",
       "      <th>4</th>\n",
       "      <td>https://www.gofundme.com/f/Aeolis_Est</td>\n",
       "      <td>8790.0</td>\n",
       "      <td>2000.0</td>\n",
       "      <td>167</td>\n",
       "      <td>2016-06-03T20:59:55-05:00</td>\n",
       "      <td>Alachua, FL</td>\n",
       "      <td>32615</td>\n",
       "      <td>US</td>\n",
       "      <td>2016</td>\n",
       "      <td>4.395000</td>\n",
       "      <td>1</td>\n",
       "      <td>FL</td>\n",
       "      <td>South</td>\n",
       "      <td>Not Adopted</td>\n",
       "      <td>NaN</td>\n",
       "      <td>FL</td>\n",
       "      <td>Florida</td>\n",
       "      <td>NaT</td>\n",
       "      <td>2016-06-03</td>\n",
       "    </tr>\n",
       "  </tbody>\n",
       "</table>\n",
       "</div>"
      ],
      "text/plain": [
       "                                                 url  current_amount  \\\n",
       "0              https://www.gofundme.com/f/Amarilindo          2340.0   \n",
       "1                https://www.gofundme.com/f/m6gg66vd          2200.0   \n",
       "2                 https://www.gofundme.com/f/2vhyamk          1640.0   \n",
       "3  https://www.gofundme.com/f/support-loving-moth...          2370.0   \n",
       "4              https://www.gofundme.com/f/Aeolis_Est          8790.0   \n",
       "\n",
       "   goal_amount  donation_count                 created_at            city  \\\n",
       "0      10000.0              37  2016-02-16T08:42:39-06:00   Kissimmee, FL   \n",
       "1       2300.0              45  2016-01-26T10:19:44-06:00    New York, NY   \n",
       "2       5000.0              15  2016-10-22T10:02:54-05:00    Prescott, AR   \n",
       "3       5000.0              30  2019-09-09T17:07:36-05:00  Woodbridge, VA   \n",
       "4       2000.0             167  2016-06-03T20:59:55-05:00     Alachua, FL   \n",
       "\n",
       "  postal_code country  year  per_raised  hit_goal state_x census_region  \\\n",
       "0       34743      US  2016    0.234000         0      FL         South   \n",
       "1       10014      US  2016    0.956522         0      NY     Northeast   \n",
       "2       71857      US  2016    0.328000         0      AR         South   \n",
       "3       22193      US  2019    0.474000         0      VA         South   \n",
       "4       32615      US  2016    4.395000         1      FL         South   \n",
       "\n",
       "          Expansion Status                                        Description  \\\n",
       "0              Not Adopted                                                NaN   \n",
       "1  Adopted and Implemented                Implemented expansion on 1/1/2014\\n   \n",
       "2  Adopted and Implemented               Implemented expansion on 1/1/2014 \\n   \n",
       "3  Adopted and Implemented  Expansion coverage implemented 1/1/2019 (enrol...   \n",
       "4              Not Adopted                                                NaN   \n",
       "\n",
       "  state_code   state_y date_expansion created_at_date  \n",
       "0         FL   Florida            NaT      2016-02-16  \n",
       "1         NY  New York     2014-01-01      2016-01-26  \n",
       "2         AR  Arkansas     2014-01-01      2016-10-22  \n",
       "3         VA  Virginia     2019-01-01      2019-09-09  \n",
       "4         FL   Florida            NaT      2016-06-03  "
      ]
     },
     "execution_count": 47,
     "metadata": {},
     "output_type": "execute_result"
    }
   ],
   "source": [
    "feed.head()"
   ]
  },
  {
   "cell_type": "code",
   "execution_count": 48,
   "metadata": {},
   "outputs": [],
   "source": [
    "def AddExpansionStatus(df):\n",
    "    r = []\n",
    "    for i in range(0, len(df)):\n",
    "        if df.iloc[i]['Expansion Status'] == 'Adopted and Implemented':\n",
    "            r.append(df.iloc[i]['date_expansion'] <= df.iloc[i]['created_at_date'])\n",
    "        else:\n",
    "            r.append(np.nan)\n",
    "    return r"
   ]
  },
  {
   "cell_type": "code",
   "execution_count": 49,
   "metadata": {},
   "outputs": [],
   "source": [
    "feed['post_expansion'] = AddExpansionStatus(feed)"
   ]
  },
  {
   "cell_type": "code",
   "execution_count": 50,
   "metadata": {},
   "outputs": [
    {
     "data": {
      "text/plain": [
       "True     54154\n",
       "False     5885\n",
       "Name: post_expansion, dtype: int64"
      ]
     },
     "execution_count": 50,
     "metadata": {},
     "output_type": "execute_result"
    }
   ],
   "source": [
    "feed['post_expansion'].value_counts()"
   ]
  },
  {
   "cell_type": "code",
   "execution_count": 51,
   "metadata": {},
   "outputs": [
    {
     "data": {
      "text/plain": [
       "Adopted and Implemented        60039\n",
       "Not Adopted                    29568\n",
       "Adopted but Not Implemented     2758\n",
       "Name: Expansion Status, dtype: int64"
      ]
     },
     "execution_count": 51,
     "metadata": {},
     "output_type": "execute_result"
    }
   ],
   "source": [
    "feed['Expansion Status'].value_counts()"
   ]
  },
  {
   "cell_type": "code",
   "execution_count": 52,
   "metadata": {},
   "outputs": [
    {
     "data": {
      "text/html": [
       "<div>\n",
       "<style scoped>\n",
       "    .dataframe tbody tr th:only-of-type {\n",
       "        vertical-align: middle;\n",
       "    }\n",
       "\n",
       "    .dataframe tbody tr th {\n",
       "        vertical-align: top;\n",
       "    }\n",
       "\n",
       "    .dataframe thead th {\n",
       "        text-align: right;\n",
       "    }\n",
       "</style>\n",
       "<table border=\"1\" class=\"dataframe\">\n",
       "  <thead>\n",
       "    <tr style=\"text-align: right;\">\n",
       "      <th></th>\n",
       "      <th>url</th>\n",
       "      <th>current_amount</th>\n",
       "      <th>goal_amount</th>\n",
       "      <th>donation_count</th>\n",
       "      <th>created_at</th>\n",
       "      <th>city</th>\n",
       "      <th>postal_code</th>\n",
       "      <th>country</th>\n",
       "      <th>year</th>\n",
       "      <th>per_raised</th>\n",
       "      <th>hit_goal</th>\n",
       "      <th>state_x</th>\n",
       "      <th>census_region</th>\n",
       "      <th>Expansion Status</th>\n",
       "      <th>Description</th>\n",
       "      <th>state_code</th>\n",
       "      <th>state_y</th>\n",
       "      <th>date_expansion</th>\n",
       "      <th>created_at_date</th>\n",
       "      <th>post_expansion</th>\n",
       "    </tr>\n",
       "  </thead>\n",
       "  <tbody>\n",
       "    <tr>\n",
       "      <th>0</th>\n",
       "      <td>https://www.gofundme.com/f/Amarilindo</td>\n",
       "      <td>2340.0</td>\n",
       "      <td>10000.0</td>\n",
       "      <td>37</td>\n",
       "      <td>2016-02-16T08:42:39-06:00</td>\n",
       "      <td>Kissimmee, FL</td>\n",
       "      <td>34743</td>\n",
       "      <td>US</td>\n",
       "      <td>2016</td>\n",
       "      <td>0.234000</td>\n",
       "      <td>0</td>\n",
       "      <td>FL</td>\n",
       "      <td>South</td>\n",
       "      <td>Not Adopted</td>\n",
       "      <td>NaN</td>\n",
       "      <td>FL</td>\n",
       "      <td>Florida</td>\n",
       "      <td>NaT</td>\n",
       "      <td>2016-02-16</td>\n",
       "      <td>NaN</td>\n",
       "    </tr>\n",
       "    <tr>\n",
       "      <th>1</th>\n",
       "      <td>https://www.gofundme.com/f/m6gg66vd</td>\n",
       "      <td>2200.0</td>\n",
       "      <td>2300.0</td>\n",
       "      <td>45</td>\n",
       "      <td>2016-01-26T10:19:44-06:00</td>\n",
       "      <td>New York, NY</td>\n",
       "      <td>10014</td>\n",
       "      <td>US</td>\n",
       "      <td>2016</td>\n",
       "      <td>0.956522</td>\n",
       "      <td>0</td>\n",
       "      <td>NY</td>\n",
       "      <td>Northeast</td>\n",
       "      <td>Adopted and Implemented</td>\n",
       "      <td>Implemented expansion on 1/1/2014\\n</td>\n",
       "      <td>NY</td>\n",
       "      <td>New York</td>\n",
       "      <td>2014-01-01</td>\n",
       "      <td>2016-01-26</td>\n",
       "      <td>True</td>\n",
       "    </tr>\n",
       "    <tr>\n",
       "      <th>2</th>\n",
       "      <td>https://www.gofundme.com/f/2vhyamk</td>\n",
       "      <td>1640.0</td>\n",
       "      <td>5000.0</td>\n",
       "      <td>15</td>\n",
       "      <td>2016-10-22T10:02:54-05:00</td>\n",
       "      <td>Prescott, AR</td>\n",
       "      <td>71857</td>\n",
       "      <td>US</td>\n",
       "      <td>2016</td>\n",
       "      <td>0.328000</td>\n",
       "      <td>0</td>\n",
       "      <td>AR</td>\n",
       "      <td>South</td>\n",
       "      <td>Adopted and Implemented</td>\n",
       "      <td>Implemented expansion on 1/1/2014 \\n</td>\n",
       "      <td>AR</td>\n",
       "      <td>Arkansas</td>\n",
       "      <td>2014-01-01</td>\n",
       "      <td>2016-10-22</td>\n",
       "      <td>True</td>\n",
       "    </tr>\n",
       "    <tr>\n",
       "      <th>3</th>\n",
       "      <td>https://www.gofundme.com/f/support-loving-moth...</td>\n",
       "      <td>2370.0</td>\n",
       "      <td>5000.0</td>\n",
       "      <td>30</td>\n",
       "      <td>2019-09-09T17:07:36-05:00</td>\n",
       "      <td>Woodbridge, VA</td>\n",
       "      <td>22193</td>\n",
       "      <td>US</td>\n",
       "      <td>2019</td>\n",
       "      <td>0.474000</td>\n",
       "      <td>0</td>\n",
       "      <td>VA</td>\n",
       "      <td>South</td>\n",
       "      <td>Adopted and Implemented</td>\n",
       "      <td>Expansion coverage implemented 1/1/2019 (enrol...</td>\n",
       "      <td>VA</td>\n",
       "      <td>Virginia</td>\n",
       "      <td>2019-01-01</td>\n",
       "      <td>2019-09-09</td>\n",
       "      <td>True</td>\n",
       "    </tr>\n",
       "    <tr>\n",
       "      <th>4</th>\n",
       "      <td>https://www.gofundme.com/f/Aeolis_Est</td>\n",
       "      <td>8790.0</td>\n",
       "      <td>2000.0</td>\n",
       "      <td>167</td>\n",
       "      <td>2016-06-03T20:59:55-05:00</td>\n",
       "      <td>Alachua, FL</td>\n",
       "      <td>32615</td>\n",
       "      <td>US</td>\n",
       "      <td>2016</td>\n",
       "      <td>4.395000</td>\n",
       "      <td>1</td>\n",
       "      <td>FL</td>\n",
       "      <td>South</td>\n",
       "      <td>Not Adopted</td>\n",
       "      <td>NaN</td>\n",
       "      <td>FL</td>\n",
       "      <td>Florida</td>\n",
       "      <td>NaT</td>\n",
       "      <td>2016-06-03</td>\n",
       "      <td>NaN</td>\n",
       "    </tr>\n",
       "  </tbody>\n",
       "</table>\n",
       "</div>"
      ],
      "text/plain": [
       "                                                 url  current_amount  \\\n",
       "0              https://www.gofundme.com/f/Amarilindo          2340.0   \n",
       "1                https://www.gofundme.com/f/m6gg66vd          2200.0   \n",
       "2                 https://www.gofundme.com/f/2vhyamk          1640.0   \n",
       "3  https://www.gofundme.com/f/support-loving-moth...          2370.0   \n",
       "4              https://www.gofundme.com/f/Aeolis_Est          8790.0   \n",
       "\n",
       "   goal_amount  donation_count                 created_at            city  \\\n",
       "0      10000.0              37  2016-02-16T08:42:39-06:00   Kissimmee, FL   \n",
       "1       2300.0              45  2016-01-26T10:19:44-06:00    New York, NY   \n",
       "2       5000.0              15  2016-10-22T10:02:54-05:00    Prescott, AR   \n",
       "3       5000.0              30  2019-09-09T17:07:36-05:00  Woodbridge, VA   \n",
       "4       2000.0             167  2016-06-03T20:59:55-05:00     Alachua, FL   \n",
       "\n",
       "  postal_code country  year  per_raised  hit_goal state_x census_region  \\\n",
       "0       34743      US  2016    0.234000         0      FL         South   \n",
       "1       10014      US  2016    0.956522         0      NY     Northeast   \n",
       "2       71857      US  2016    0.328000         0      AR         South   \n",
       "3       22193      US  2019    0.474000         0      VA         South   \n",
       "4       32615      US  2016    4.395000         1      FL         South   \n",
       "\n",
       "          Expansion Status                                        Description  \\\n",
       "0              Not Adopted                                                NaN   \n",
       "1  Adopted and Implemented                Implemented expansion on 1/1/2014\\n   \n",
       "2  Adopted and Implemented               Implemented expansion on 1/1/2014 \\n   \n",
       "3  Adopted and Implemented  Expansion coverage implemented 1/1/2019 (enrol...   \n",
       "4              Not Adopted                                                NaN   \n",
       "\n",
       "  state_code   state_y date_expansion created_at_date post_expansion  \n",
       "0         FL   Florida            NaT      2016-02-16            NaN  \n",
       "1         NY  New York     2014-01-01      2016-01-26           True  \n",
       "2         AR  Arkansas     2014-01-01      2016-10-22           True  \n",
       "3         VA  Virginia     2019-01-01      2019-09-09           True  \n",
       "4         FL   Florida            NaT      2016-06-03            NaN  "
      ]
     },
     "execution_count": 52,
     "metadata": {},
     "output_type": "execute_result"
    }
   ],
   "source": [
    "feed.head()"
   ]
  },
  {
   "cell_type": "code",
   "execution_count": null,
   "metadata": {},
   "outputs": [],
   "source": []
  },
  {
   "cell_type": "code",
   "execution_count": 53,
   "metadata": {},
   "outputs": [
    {
     "data": {
      "text/plain": [
       "Expansion Status\n",
       "Adopted and Implemented        48344.111661\n",
       "Adopted but Not Implemented    19556.283176\n",
       "Not Adopted                    98917.523302\n",
       "Name: goal_amount, dtype: float64"
      ]
     },
     "execution_count": 53,
     "metadata": {},
     "output_type": "execute_result"
    }
   ],
   "source": [
    "feed.groupby('Expansion Status')['goal_amount'].mean()"
   ]
  },
  {
   "cell_type": "code",
   "execution_count": 56,
   "metadata": {},
   "outputs": [
    {
     "data": {
      "text/plain": [
       "Adopted and Implemented        60039\n",
       "Not Adopted                    29568\n",
       "Adopted but Not Implemented     2758\n",
       "Name: Expansion Status, dtype: int64"
      ]
     },
     "execution_count": 56,
     "metadata": {},
     "output_type": "execute_result"
    }
   ],
   "source": [
    "feed['Expansion Status'].value_counts()"
   ]
  },
  {
   "cell_type": "code",
   "execution_count": 57,
   "metadata": {},
   "outputs": [
    {
     "data": {
      "text/plain": [
       "<pandas.core.groupby.generic.SeriesGroupBy object at 0x7f84632cc2d0>"
      ]
     },
     "execution_count": 57,
     "metadata": {},
     "output_type": "execute_result"
    }
   ],
   "source": []
  },
  {
   "cell_type": "code",
   "execution_count": null,
   "metadata": {},
   "outputs": [],
   "source": []
  },
  {
   "cell_type": "code",
   "execution_count": null,
   "metadata": {},
   "outputs": [],
   "source": []
  },
  {
   "cell_type": "code",
   "execution_count": null,
   "metadata": {},
   "outputs": [],
   "source": []
  },
  {
   "cell_type": "code",
   "execution_count": null,
   "metadata": {},
   "outputs": [],
   "source": []
  },
  {
   "cell_type": "markdown",
   "metadata": {},
   "source": [
    "### Time series plot"
   ]
  },
  {
   "cell_type": "code",
   "execution_count": 60,
   "metadata": {},
   "outputs": [],
   "source": [
    "feed['created_at_date'] = pd.to_datetime(feed['created_at_date'])"
   ]
  },
  {
   "cell_type": "code",
   "execution_count": 61,
   "metadata": {},
   "outputs": [],
   "source": [
    "feed = feed.sort_values('created_at_date')"
   ]
  },
  {
   "cell_type": "code",
   "execution_count": 80,
   "metadata": {},
   "outputs": [],
   "source": [
    "df = feed[['created_at_date','goal_amount']]"
   ]
  },
  {
   "cell_type": "code",
   "execution_count": 81,
   "metadata": {},
   "outputs": [],
   "source": [
    "df = df.set_index('created_at_date')"
   ]
  },
  {
   "cell_type": "code",
   "execution_count": 82,
   "metadata": {},
   "outputs": [],
   "source": [
    "df = df.sort_index()"
   ]
  },
  {
   "cell_type": "code",
   "execution_count": 83,
   "metadata": {},
   "outputs": [
    {
     "data": {
      "text/html": [
       "<div>\n",
       "<style scoped>\n",
       "    .dataframe tbody tr th:only-of-type {\n",
       "        vertical-align: middle;\n",
       "    }\n",
       "\n",
       "    .dataframe tbody tr th {\n",
       "        vertical-align: top;\n",
       "    }\n",
       "\n",
       "    .dataframe thead th {\n",
       "        text-align: right;\n",
       "    }\n",
       "</style>\n",
       "<table border=\"1\" class=\"dataframe\">\n",
       "  <thead>\n",
       "    <tr style=\"text-align: right;\">\n",
       "      <th></th>\n",
       "      <th>goal_amount</th>\n",
       "    </tr>\n",
       "    <tr>\n",
       "      <th>created_at_date</th>\n",
       "      <th></th>\n",
       "    </tr>\n",
       "  </thead>\n",
       "  <tbody>\n",
       "    <tr>\n",
       "      <th>2010-08-28</th>\n",
       "      <td>10000.0</td>\n",
       "    </tr>\n",
       "    <tr>\n",
       "      <th>2010-09-25</th>\n",
       "      <td>30000.0</td>\n",
       "    </tr>\n",
       "    <tr>\n",
       "      <th>2010-10-26</th>\n",
       "      <td>20000.0</td>\n",
       "    </tr>\n",
       "    <tr>\n",
       "      <th>2010-12-04</th>\n",
       "      <td>10000.0</td>\n",
       "    </tr>\n",
       "    <tr>\n",
       "      <th>2010-12-23</th>\n",
       "      <td>5000.0</td>\n",
       "    </tr>\n",
       "  </tbody>\n",
       "</table>\n",
       "</div>"
      ],
      "text/plain": [
       "                 goal_amount\n",
       "created_at_date             \n",
       "2010-08-28           10000.0\n",
       "2010-09-25           30000.0\n",
       "2010-10-26           20000.0\n",
       "2010-12-04           10000.0\n",
       "2010-12-23            5000.0"
      ]
     },
     "execution_count": 83,
     "metadata": {},
     "output_type": "execute_result"
    }
   ],
   "source": [
    "df.head()"
   ]
  },
  {
   "cell_type": "code",
   "execution_count": 90,
   "metadata": {},
   "outputs": [
    {
     "data": {
      "text/plain": [
       "2010-08-28    10000.000000\n",
       "2010-09-25    30000.000000\n",
       "2010-10-26    20000.000000\n",
       "2010-12-04    10000.000000\n",
       "2010-12-23     5000.000000\n",
       "                  ...     \n",
       "2020-08-11    24452.819149\n",
       "2020-08-12    74792.699422\n",
       "2020-08-13    14863.188235\n",
       "2020-08-14    11663.192308\n",
       "2020-08-15     8500.000000\n",
       "Name: goal_amount, Length: 2832, dtype: float64"
      ]
     },
     "execution_count": 90,
     "metadata": {},
     "output_type": "execute_result"
    }
   ],
   "source": [
    "df.groupby(df.index.date).mean()['goal_amount']"
   ]
  },
  {
   "cell_type": "code",
   "execution_count": null,
   "metadata": {},
   "outputs": [],
   "source": []
  },
  {
   "cell_type": "code",
   "execution_count": null,
   "metadata": {},
   "outputs": [],
   "source": []
  },
  {
   "cell_type": "code",
   "execution_count": 50,
   "metadata": {},
   "outputs": [],
   "source": [
    "#feed.to_csv('feed_medicaid.csv')"
   ]
  },
  {
   "cell_type": "code",
   "execution_count": 120,
   "metadata": {},
   "outputs": [
    {
     "data": {
      "text/plain": [
       "post_expansion\n",
       "False    21545.06763\n",
       "True     51256.40575\n",
       "Name: goal_amount, dtype: float64"
      ]
     },
     "execution_count": 120,
     "metadata": {},
     "output_type": "execute_result"
    }
   ],
   "source": [
    "feed.groupby('post_expansion')['goal_amount'].mean()"
   ]
  },
  {
   "cell_type": "code",
   "execution_count": 123,
   "metadata": {},
   "outputs": [
    {
     "data": {
      "text/plain": [
       "post_expansion\n",
       "False    6840.732031\n",
       "True     6875.475884\n",
       "Name: current_amount, dtype: float64"
      ]
     },
     "execution_count": 123,
     "metadata": {},
     "output_type": "execute_result"
    }
   ],
   "source": [
    "feed.groupby('post_expansion')['current_amount'].mean()"
   ]
  },
  {
   "cell_type": "code",
   "execution_count": 121,
   "metadata": {},
   "outputs": [
    {
     "data": {
      "text/plain": [
       "Expansion Status\n",
       "Adopted and Implemented        48344.111661\n",
       "Adopted but Not Implemented    19556.283176\n",
       "Not Adopted                    98917.523302\n",
       "Name: goal_amount, dtype: float64"
      ]
     },
     "execution_count": 121,
     "metadata": {},
     "output_type": "execute_result"
    }
   ],
   "source": [
    "feed.groupby('Expansion Status')['goal_amount'].mean()"
   ]
  },
  {
   "cell_type": "code",
   "execution_count": 143,
   "metadata": {},
   "outputs": [
    {
     "data": {
      "text/plain": [
       "Expansion Status\n",
       "Adopted and Implemented        4.213871e+06\n",
       "Adopted but Not Implemented    6.491071e+04\n",
       "Not Adopted                    7.915070e+06\n",
       "Name: goal_amount, dtype: float64"
      ]
     },
     "execution_count": 143,
     "metadata": {},
     "output_type": "execute_result"
    }
   ],
   "source": [
    "feed.groupby('Expansion Status')['goal_amount'].std()"
   ]
  },
  {
   "cell_type": "code",
   "execution_count": null,
   "metadata": {},
   "outputs": [],
   "source": []
  },
  {
   "cell_type": "code",
   "execution_count": 157,
   "metadata": {},
   "outputs": [],
   "source": [
    "asdf = feed[feed.goal_amount < feed.goal_amount.quantile(.995)]"
   ]
  },
  {
   "cell_type": "code",
   "execution_count": 158,
   "metadata": {},
   "outputs": [
    {
     "data": {
      "text/plain": [
       "Expansion Status\n",
       "Adopted and Implemented        17554.880814\n",
       "Adopted but Not Implemented    16075.128962\n",
       "Not Adopted                    17528.253596\n",
       "Name: goal_amount, dtype: float64"
      ]
     },
     "execution_count": 158,
     "metadata": {},
     "output_type": "execute_result"
    }
   ],
   "source": [
    "asdf.groupby('Expansion Status')['goal_amount'].mean()"
   ]
  },
  {
   "cell_type": "code",
   "execution_count": null,
   "metadata": {},
   "outputs": [],
   "source": []
  },
  {
   "cell_type": "code",
   "execution_count": null,
   "metadata": {},
   "outputs": [],
   "source": []
  },
  {
   "cell_type": "code",
   "execution_count": null,
   "metadata": {},
   "outputs": [],
   "source": []
  },
  {
   "cell_type": "markdown",
   "metadata": {},
   "source": [
    "### Donation data analysis"
   ]
  },
  {
   "cell_type": "code",
   "execution_count": 5,
   "metadata": {},
   "outputs": [
    {
     "data": {
      "text/plain": [
       "6693703"
      ]
     },
     "execution_count": 5,
     "metadata": {},
     "output_type": "execute_result"
    }
   ],
   "source": [
    "len(donation)"
   ]
  },
  {
   "cell_type": "markdown",
   "metadata": {},
   "source": [
    "Lots of donations"
   ]
  },
  {
   "cell_type": "code",
   "execution_count": 6,
   "metadata": {},
   "outputs": [
    {
     "data": {
      "text/html": [
       "<div>\n",
       "<style scoped>\n",
       "    .dataframe tbody tr th:only-of-type {\n",
       "        vertical-align: middle;\n",
       "    }\n",
       "\n",
       "    .dataframe tbody tr th {\n",
       "        vertical-align: top;\n",
       "    }\n",
       "\n",
       "    .dataframe thead th {\n",
       "        text-align: right;\n",
       "    }\n",
       "</style>\n",
       "<table border=\"1\" class=\"dataframe\">\n",
       "  <thead>\n",
       "    <tr style=\"text-align: right;\">\n",
       "      <th></th>\n",
       "      <th>don_id</th>\n",
       "      <th>online_id</th>\n",
       "      <th>url</th>\n",
       "      <th>don_amt</th>\n",
       "      <th>don_offline</th>\n",
       "      <th>don_anon</th>\n",
       "      <th>don_name</th>\n",
       "      <th>don_date</th>\n",
       "      <th>don_profile</th>\n",
       "      <th>don_verified</th>\n",
       "    </tr>\n",
       "  </thead>\n",
       "  <tbody>\n",
       "    <tr>\n",
       "      <th>0</th>\n",
       "      <td>1</td>\n",
       "      <td>75288239</td>\n",
       "      <td>https://www.gofundme.com/f/Amarilindo</td>\n",
       "      <td>10.0</td>\n",
       "      <td>0</td>\n",
       "      <td>0</td>\n",
       "      <td>Patrice Whitely</td>\n",
       "      <td>2016-03-13T16:09:18-05:00</td>\n",
       "      <td></td>\n",
       "      <td>1</td>\n",
       "    </tr>\n",
       "    <tr>\n",
       "      <th>1</th>\n",
       "      <td>2</td>\n",
       "      <td>72701479</td>\n",
       "      <td>https://www.gofundme.com/f/Amarilindo</td>\n",
       "      <td>20.0</td>\n",
       "      <td>0</td>\n",
       "      <td>0</td>\n",
       "      <td>cheryl redman</td>\n",
       "      <td>2016-03-03T07:19:35-06:00</td>\n",
       "      <td></td>\n",
       "      <td>1</td>\n",
       "    </tr>\n",
       "    <tr>\n",
       "      <th>2</th>\n",
       "      <td>3</td>\n",
       "      <td>72113923</td>\n",
       "      <td>https://www.gofundme.com/f/Amarilindo</td>\n",
       "      <td>25.0</td>\n",
       "      <td>0</td>\n",
       "      <td>0</td>\n",
       "      <td>Stephanie C</td>\n",
       "      <td>2016-03-01T08:44:25-06:00</td>\n",
       "      <td></td>\n",
       "      <td>1</td>\n",
       "    </tr>\n",
       "    <tr>\n",
       "      <th>3</th>\n",
       "      <td>4</td>\n",
       "      <td>71698975</td>\n",
       "      <td>https://www.gofundme.com/f/Amarilindo</td>\n",
       "      <td>30.0</td>\n",
       "      <td>0</td>\n",
       "      <td>0</td>\n",
       "      <td>Tracy H</td>\n",
       "      <td>2016-02-28T12:22:35-06:00</td>\n",
       "      <td></td>\n",
       "      <td>1</td>\n",
       "    </tr>\n",
       "    <tr>\n",
       "      <th>4</th>\n",
       "      <td>5</td>\n",
       "      <td>71101151</td>\n",
       "      <td>https://www.gofundme.com/f/Amarilindo</td>\n",
       "      <td>50.0</td>\n",
       "      <td>0</td>\n",
       "      <td>0</td>\n",
       "      <td>Yosh Takashima</td>\n",
       "      <td>2016-02-25T18:45:31-06:00</td>\n",
       "      <td></td>\n",
       "      <td>1</td>\n",
       "    </tr>\n",
       "  </tbody>\n",
       "</table>\n",
       "</div>"
      ],
      "text/plain": [
       "   don_id  online_id                                    url  don_amt  \\\n",
       "0       1   75288239  https://www.gofundme.com/f/Amarilindo     10.0   \n",
       "1       2   72701479  https://www.gofundme.com/f/Amarilindo     20.0   \n",
       "2       3   72113923  https://www.gofundme.com/f/Amarilindo     25.0   \n",
       "3       4   71698975  https://www.gofundme.com/f/Amarilindo     30.0   \n",
       "4       5   71101151  https://www.gofundme.com/f/Amarilindo     50.0   \n",
       "\n",
       "  don_offline  don_anon         don_name                   don_date  \\\n",
       "0           0         0  Patrice Whitely  2016-03-13T16:09:18-05:00   \n",
       "1           0         0    cheryl redman  2016-03-03T07:19:35-06:00   \n",
       "2           0         0      Stephanie C  2016-03-01T08:44:25-06:00   \n",
       "3           0         0          Tracy H  2016-02-28T12:22:35-06:00   \n",
       "4           0         0   Yosh Takashima  2016-02-25T18:45:31-06:00   \n",
       "\n",
       "  don_profile don_verified  \n",
       "0                        1  \n",
       "1                        1  \n",
       "2                        1  \n",
       "3                        1  \n",
       "4                        1  "
      ]
     },
     "execution_count": 6,
     "metadata": {},
     "output_type": "execute_result"
    }
   ],
   "source": [
    "donation.head()"
   ]
  },
  {
   "cell_type": "markdown",
   "metadata": {},
   "source": [
    "Get date of latest donation for each url"
   ]
  },
  {
   "cell_type": "code",
   "execution_count": 64,
   "metadata": {},
   "outputs": [],
   "source": [
    "latest_donation = donation.groupby('url', sort=True)['don_date'].max()\n",
    "latest_donation_date = latest_donation.to_list()\n",
    "url = latest_donation.index.tolist()\n",
    "latest_donation_df = pd.DataFrame({'url':url, 'latest_donation_date':latest_donation_date})"
   ]
  },
  {
   "cell_type": "code",
   "execution_count": 69,
   "metadata": {},
   "outputs": [],
   "source": [
    "feed = pd.merge(feed, latest_donation_df, on='url', how='left')"
   ]
  },
  {
   "cell_type": "code",
   "execution_count": 65,
   "metadata": {},
   "outputs": [
    {
     "data": {
      "text/plain": [
       "90954"
      ]
     },
     "execution_count": 65,
     "metadata": {},
     "output_type": "execute_result"
    }
   ],
   "source": [
    "donation.url.nunique()"
   ]
  },
  {
   "cell_type": "code",
   "execution_count": 66,
   "metadata": {},
   "outputs": [
    {
     "data": {
      "text/plain": [
       "90954"
      ]
     },
     "execution_count": 66,
     "metadata": {},
     "output_type": "execute_result"
    }
   ],
   "source": [
    "len(latest_donation_df)"
   ]
  },
  {
   "cell_type": "code",
   "execution_count": 67,
   "metadata": {},
   "outputs": [
    {
     "data": {
      "text/plain": [
       "1989"
      ]
     },
     "execution_count": 67,
     "metadata": {},
     "output_type": "execute_result"
    }
   ],
   "source": [
    "sum(feed['donation_count'] == 0)"
   ]
  },
  {
   "cell_type": "markdown",
   "metadata": {},
   "source": [
    "It looks like there are several thousand campaigns for which we do not have donation data.\n",
    "\n",
    "Will inspect a couple of these manually to see if this was a scraping problem."
   ]
  },
  {
   "cell_type": "code",
   "execution_count": 99,
   "metadata": {},
   "outputs": [
    {
     "data": {
      "text/plain": [
       "92962"
      ]
     },
     "execution_count": 99,
     "metadata": {},
     "output_type": "execute_result"
    }
   ],
   "source": [
    "feed.url.nunique()"
   ]
  },
  {
   "cell_type": "code",
   "execution_count": 101,
   "metadata": {},
   "outputs": [
    {
     "data": {
      "text/plain": [
       "99943"
      ]
     },
     "execution_count": 101,
     "metadata": {},
     "output_type": "execute_result"
    }
   ],
   "source": [
    "len(feed)"
   ]
  },
  {
   "cell_type": "code",
   "execution_count": 102,
   "metadata": {},
   "outputs": [
    {
     "data": {
      "text/plain": [
       "True"
      ]
     },
     "execution_count": 102,
     "metadata": {},
     "output_type": "execute_result"
    }
   ],
   "source": [
    "feed.url.duplicated().any()"
   ]
  },
  {
   "cell_type": "markdown",
   "metadata": {},
   "source": [
    "It looks like there are duplicate urls in the feed data.\n",
    "\n",
    "Inspect these."
   ]
  },
  {
   "cell_type": "code",
   "execution_count": 103,
   "metadata": {},
   "outputs": [
    {
     "data": {
      "text/html": [
       "<div>\n",
       "<style scoped>\n",
       "    .dataframe tbody tr th:only-of-type {\n",
       "        vertical-align: middle;\n",
       "    }\n",
       "\n",
       "    .dataframe tbody tr th {\n",
       "        vertical-align: top;\n",
       "    }\n",
       "\n",
       "    .dataframe thead th {\n",
       "        text-align: right;\n",
       "    }\n",
       "</style>\n",
       "<table border=\"1\" class=\"dataframe\">\n",
       "  <thead>\n",
       "    <tr style=\"text-align: right;\">\n",
       "      <th></th>\n",
       "      <th>url</th>\n",
       "      <th>current_amount</th>\n",
       "      <th>goal_amount</th>\n",
       "      <th>donation_count</th>\n",
       "      <th>created_at</th>\n",
       "      <th>city</th>\n",
       "      <th>postal_code</th>\n",
       "      <th>country</th>\n",
       "      <th>latest_donation_date</th>\n",
       "    </tr>\n",
       "  </thead>\n",
       "  <tbody>\n",
       "    <tr>\n",
       "      <th>1</th>\n",
       "      <td>https://www.gofundme.com/f/m6gg66vd</td>\n",
       "      <td>2200.0</td>\n",
       "      <td>2300.0</td>\n",
       "      <td>45</td>\n",
       "      <td>2016-01-26T10:19:44-06:00</td>\n",
       "      <td>New York, NY</td>\n",
       "      <td>10014</td>\n",
       "      <td>US</td>\n",
       "      <td>2016-04-27T06:02:18-05:00</td>\n",
       "    </tr>\n",
       "    <tr>\n",
       "      <th>7</th>\n",
       "      <td>https://www.gofundme.com/f/KatsLymeFund</td>\n",
       "      <td>5080.0</td>\n",
       "      <td>5000.0</td>\n",
       "      <td>58</td>\n",
       "      <td>2015-10-21T17:12:17-05:00</td>\n",
       "      <td>Herndon, VA</td>\n",
       "      <td>20170</td>\n",
       "      <td>US</td>\n",
       "      <td>2015-10-28T17:48:30-05:00</td>\n",
       "    </tr>\n",
       "    <tr>\n",
       "      <th>16</th>\n",
       "      <td>https://www.gofundme.com/f/Bosephgreenwood</td>\n",
       "      <td>8970.0</td>\n",
       "      <td>20000.0</td>\n",
       "      <td>61</td>\n",
       "      <td>2016-05-11T11:17:04-05:00</td>\n",
       "      <td>Victorville, CA</td>\n",
       "      <td>92395</td>\n",
       "      <td>US</td>\n",
       "      <td>2016-05-19T20:35:31-05:00</td>\n",
       "    </tr>\n",
       "    <tr>\n",
       "      <th>28</th>\n",
       "      <td>https://www.gofundme.com/f/x6kyt8</td>\n",
       "      <td>4400.0</td>\n",
       "      <td>5000.0</td>\n",
       "      <td>57</td>\n",
       "      <td>2015-06-16T20:26:39-05:00</td>\n",
       "      <td>Willowbrook, IL</td>\n",
       "      <td>60527</td>\n",
       "      <td>US</td>\n",
       "      <td>2015-08-04T12:42:32-05:00</td>\n",
       "    </tr>\n",
       "    <tr>\n",
       "      <th>42</th>\n",
       "      <td>https://www.gofundme.com/f/mqu2qo</td>\n",
       "      <td>6205.0</td>\n",
       "      <td>10000.0</td>\n",
       "      <td>57</td>\n",
       "      <td>2015-02-18T21:42:54-06:00</td>\n",
       "      <td>Surprise, AZ</td>\n",
       "      <td>85379</td>\n",
       "      <td>US</td>\n",
       "      <td>2015-07-24T12:14:26-05:00</td>\n",
       "    </tr>\n",
       "    <tr>\n",
       "      <th>...</th>\n",
       "      <td>...</td>\n",
       "      <td>...</td>\n",
       "      <td>...</td>\n",
       "      <td>...</td>\n",
       "      <td>...</td>\n",
       "      <td>...</td>\n",
       "      <td>...</td>\n",
       "      <td>...</td>\n",
       "      <td>...</td>\n",
       "    </tr>\n",
       "    <tr>\n",
       "      <th>99885</th>\n",
       "      <td>https://www.gofundme.com/f/MarkArchuletaJr</td>\n",
       "      <td>1660.0</td>\n",
       "      <td>10000.0</td>\n",
       "      <td>40</td>\n",
       "      <td>2016-08-25T09:17:18-05:00</td>\n",
       "      <td>Albuquerque, NM</td>\n",
       "      <td>87109</td>\n",
       "      <td>US</td>\n",
       "      <td>2016-12-18T20:28:08-06:00</td>\n",
       "    </tr>\n",
       "    <tr>\n",
       "      <th>99897</th>\n",
       "      <td>https://www.gofundme.com/f/ea0kts</td>\n",
       "      <td>1635.0</td>\n",
       "      <td>6000.0</td>\n",
       "      <td>37</td>\n",
       "      <td>2014-09-09T18:23:01-05:00</td>\n",
       "      <td>Belleville, MI</td>\n",
       "      <td>48111</td>\n",
       "      <td>US</td>\n",
       "      <td>2015-08-17T16:36:12-05:00</td>\n",
       "    </tr>\n",
       "    <tr>\n",
       "      <th>99900</th>\n",
       "      <td>https://www.gofundme.com/f/2nt563w</td>\n",
       "      <td>13344.0</td>\n",
       "      <td>1977.0</td>\n",
       "      <td>162</td>\n",
       "      <td>2016-09-07T20:21:32-05:00</td>\n",
       "      <td>Kingston, PA</td>\n",
       "      <td>18704</td>\n",
       "      <td>US</td>\n",
       "      <td>2017-08-15T20:24:23-05:00</td>\n",
       "    </tr>\n",
       "    <tr>\n",
       "      <th>99931</th>\n",
       "      <td>https://www.gofundme.com/f/xs2u24g4</td>\n",
       "      <td>51436.0</td>\n",
       "      <td>25000.0</td>\n",
       "      <td>111</td>\n",
       "      <td>2015-08-25T07:02:39-05:00</td>\n",
       "      <td>Ballston Spa, NY</td>\n",
       "      <td>12020</td>\n",
       "      <td>US</td>\n",
       "      <td>2017-01-30T04:30:33-06:00</td>\n",
       "    </tr>\n",
       "    <tr>\n",
       "      <th>99934</th>\n",
       "      <td>https://www.gofundme.com/f/glofr8</td>\n",
       "      <td>6255.0</td>\n",
       "      <td>8000.0</td>\n",
       "      <td>71</td>\n",
       "      <td>2014-11-02T11:28:23-06:00</td>\n",
       "      <td>Gardner, MA</td>\n",
       "      <td>1440</td>\n",
       "      <td>US</td>\n",
       "      <td>2015-01-13T05:35:18-06:00</td>\n",
       "    </tr>\n",
       "  </tbody>\n",
       "</table>\n",
       "<p>13526 rows × 9 columns</p>\n",
       "</div>"
      ],
      "text/plain": [
       "                                              url  current_amount  \\\n",
       "1             https://www.gofundme.com/f/m6gg66vd          2200.0   \n",
       "7         https://www.gofundme.com/f/KatsLymeFund          5080.0   \n",
       "16     https://www.gofundme.com/f/Bosephgreenwood          8970.0   \n",
       "28              https://www.gofundme.com/f/x6kyt8          4400.0   \n",
       "42              https://www.gofundme.com/f/mqu2qo          6205.0   \n",
       "...                                           ...             ...   \n",
       "99885  https://www.gofundme.com/f/MarkArchuletaJr          1660.0   \n",
       "99897           https://www.gofundme.com/f/ea0kts          1635.0   \n",
       "99900          https://www.gofundme.com/f/2nt563w         13344.0   \n",
       "99931         https://www.gofundme.com/f/xs2u24g4         51436.0   \n",
       "99934           https://www.gofundme.com/f/glofr8          6255.0   \n",
       "\n",
       "       goal_amount  donation_count                 created_at  \\\n",
       "1           2300.0              45  2016-01-26T10:19:44-06:00   \n",
       "7           5000.0              58  2015-10-21T17:12:17-05:00   \n",
       "16         20000.0              61  2016-05-11T11:17:04-05:00   \n",
       "28          5000.0              57  2015-06-16T20:26:39-05:00   \n",
       "42         10000.0              57  2015-02-18T21:42:54-06:00   \n",
       "...            ...             ...                        ...   \n",
       "99885      10000.0              40  2016-08-25T09:17:18-05:00   \n",
       "99897       6000.0              37  2014-09-09T18:23:01-05:00   \n",
       "99900       1977.0             162  2016-09-07T20:21:32-05:00   \n",
       "99931      25000.0             111  2015-08-25T07:02:39-05:00   \n",
       "99934       8000.0              71  2014-11-02T11:28:23-06:00   \n",
       "\n",
       "                   city postal_code country       latest_donation_date  \n",
       "1          New York, NY       10014      US  2016-04-27T06:02:18-05:00  \n",
       "7           Herndon, VA       20170      US  2015-10-28T17:48:30-05:00  \n",
       "16      Victorville, CA       92395      US  2016-05-19T20:35:31-05:00  \n",
       "28      Willowbrook, IL       60527      US  2015-08-04T12:42:32-05:00  \n",
       "42         Surprise, AZ       85379      US  2015-07-24T12:14:26-05:00  \n",
       "...                 ...         ...     ...                        ...  \n",
       "99885   Albuquerque, NM       87109      US  2016-12-18T20:28:08-06:00  \n",
       "99897    Belleville, MI       48111      US  2015-08-17T16:36:12-05:00  \n",
       "99900      Kingston, PA       18704      US  2017-08-15T20:24:23-05:00  \n",
       "99931  Ballston Spa, NY       12020      US  2017-01-30T04:30:33-06:00  \n",
       "99934       Gardner, MA        1440      US  2015-01-13T05:35:18-06:00  \n",
       "\n",
       "[13526 rows x 9 columns]"
      ]
     },
     "execution_count": 103,
     "metadata": {},
     "output_type": "execute_result"
    }
   ],
   "source": [
    "feed[feed.duplicated('url', keep=False)]"
   ]
  },
  {
   "cell_type": "markdown",
   "metadata": {},
   "source": [
    "Look at scrape record to see if these were scraped multiple times."
   ]
  },
  {
   "cell_type": "code",
   "execution_count": 109,
   "metadata": {},
   "outputs": [
    {
     "data": {
      "text/html": [
       "<div>\n",
       "<style scoped>\n",
       "    .dataframe tbody tr th:only-of-type {\n",
       "        vertical-align: middle;\n",
       "    }\n",
       "\n",
       "    .dataframe tbody tr th {\n",
       "        vertical-align: top;\n",
       "    }\n",
       "\n",
       "    .dataframe thead th {\n",
       "        text-align: right;\n",
       "    }\n",
       "</style>\n",
       "<table border=\"1\" class=\"dataframe\">\n",
       "  <thead>\n",
       "    <tr style=\"text-align: right;\">\n",
       "      <th></th>\n",
       "      <th>camp_id</th>\n",
       "      <th>url</th>\n",
       "      <th>resp_status</th>\n",
       "      <th>date_scrape</th>\n",
       "      <th>cat</th>\n",
       "      <th>target_cat</th>\n",
       "      <th>activity_status</th>\n",
       "      <th>country</th>\n",
       "    </tr>\n",
       "  </thead>\n",
       "  <tbody>\n",
       "    <tr>\n",
       "      <th>222</th>\n",
       "      <td>223</td>\n",
       "      <td>https://www.gofundme.com/f/x6kyt8</td>\n",
       "      <td>200</td>\n",
       "      <td>Thu, 20 Aug 2020 22:01:33 GMT</td>\n",
       "      <td>11.0</td>\n",
       "      <td>1.0</td>\n",
       "      <td>active</td>\n",
       "      <td>US</td>\n",
       "    </tr>\n",
       "    <tr>\n",
       "      <th>191395</th>\n",
       "      <td>191396</td>\n",
       "      <td>https://www.gofundme.com/f/x6kyt8</td>\n",
       "      <td>200</td>\n",
       "      <td>Tue, 18 Aug 2020 08:44:58 GMT</td>\n",
       "      <td>11.0</td>\n",
       "      <td>1.0</td>\n",
       "      <td>active</td>\n",
       "      <td>US</td>\n",
       "    </tr>\n",
       "  </tbody>\n",
       "</table>\n",
       "</div>"
      ],
      "text/plain": [
       "        camp_id                                url  resp_status  \\\n",
       "222         223  https://www.gofundme.com/f/x6kyt8          200   \n",
       "191395   191396  https://www.gofundme.com/f/x6kyt8          200   \n",
       "\n",
       "                          date_scrape   cat  target_cat activity_status  \\\n",
       "222     Thu, 20 Aug 2020 22:01:33 GMT  11.0         1.0          active   \n",
       "191395  Tue, 18 Aug 2020 08:44:58 GMT  11.0         1.0          active   \n",
       "\n",
       "       country  \n",
       "222         US  \n",
       "191395      US  "
      ]
     },
     "execution_count": 109,
     "metadata": {},
     "output_type": "execute_result"
    }
   ],
   "source": [
    "scrape[scrape['url'] == feed[feed.duplicated('url', keep=False)].url.unique()[3]]"
   ]
  },
  {
   "cell_type": "markdown",
   "metadata": {},
   "source": [
    "It looks like these were scraped twice.\n",
    "\n",
    "A few ideas why this may have happened:\n",
    "- They were duplicated in the sitemap.\n",
    "- They were part of the re-dos.\n",
    "\n",
    "Will check sitemap data first."
   ]
  },
  {
   "cell_type": "code",
   "execution_count": 110,
   "metadata": {},
   "outputs": [],
   "source": [
    "sitemap = pd.read_csv('data_/sitemaps_combined.csv')"
   ]
  },
  {
   "cell_type": "code",
   "execution_count": 117,
   "metadata": {},
   "outputs": [
    {
     "data": {
      "text/html": [
       "<div>\n",
       "<style scoped>\n",
       "    .dataframe tbody tr th:only-of-type {\n",
       "        vertical-align: middle;\n",
       "    }\n",
       "\n",
       "    .dataframe tbody tr th {\n",
       "        vertical-align: top;\n",
       "    }\n",
       "\n",
       "    .dataframe thead th {\n",
       "        text-align: right;\n",
       "    }\n",
       "</style>\n",
       "<table border=\"1\" class=\"dataframe\">\n",
       "  <thead>\n",
       "    <tr style=\"text-align: right;\">\n",
       "      <th></th>\n",
       "      <th>Unnamed: 0</th>\n",
       "      <th>url</th>\n",
       "      <th>last-mod</th>\n",
       "    </tr>\n",
       "  </thead>\n",
       "  <tbody>\n",
       "    <tr>\n",
       "      <th>386774</th>\n",
       "      <td>36774</td>\n",
       "      <td>https://www.gofundme.com/f/x6kyt8</td>\n",
       "      <td>2016-06-28</td>\n",
       "    </tr>\n",
       "  </tbody>\n",
       "</table>\n",
       "</div>"
      ],
      "text/plain": [
       "        Unnamed: 0                                url    last-mod\n",
       "386774       36774  https://www.gofundme.com/f/x6kyt8  2016-06-28"
      ]
     },
     "execution_count": 117,
     "metadata": {},
     "output_type": "execute_result"
    }
   ],
   "source": [
    "sitemap[sitemap['url'] == feed[feed.duplicated('url', keep=False)].url.unique()[3]]"
   ]
  },
  {
   "cell_type": "markdown",
   "metadata": {},
   "source": [
    "It does not appear that there were duplicates in the sitemap.\n",
    "\n",
    "So it is likely that these were scraped twice during re-dos from failed connections."
   ]
  },
  {
   "cell_type": "code",
   "execution_count": 119,
   "metadata": {},
   "outputs": [],
   "source": [
    "feed = feed.drop_duplicates('url')"
   ]
  },
  {
   "cell_type": "code",
   "execution_count": 123,
   "metadata": {},
   "outputs": [
    {
     "data": {
      "text/plain": [
       "False"
      ]
     },
     "execution_count": 123,
     "metadata": {},
     "output_type": "execute_result"
    }
   ],
   "source": [
    "feed.url.duplicated().any()"
   ]
  },
  {
   "cell_type": "code",
   "execution_count": 124,
   "metadata": {},
   "outputs": [
    {
     "data": {
      "text/plain": [
       "False"
      ]
     },
     "execution_count": 124,
     "metadata": {},
     "output_type": "execute_result"
    }
   ],
   "source": [
    "feed.duplicated().any()"
   ]
  },
  {
   "cell_type": "markdown",
   "metadata": {},
   "source": [
    "There are no more duplicates."
   ]
  },
  {
   "cell_type": "code",
   "execution_count": 135,
   "metadata": {},
   "outputs": [
    {
     "data": {
      "text/html": [
       "<div>\n",
       "<style scoped>\n",
       "    .dataframe tbody tr th:only-of-type {\n",
       "        vertical-align: middle;\n",
       "    }\n",
       "\n",
       "    .dataframe tbody tr th {\n",
       "        vertical-align: top;\n",
       "    }\n",
       "\n",
       "    .dataframe thead th {\n",
       "        text-align: right;\n",
       "    }\n",
       "</style>\n",
       "<table border=\"1\" class=\"dataframe\">\n",
       "  <thead>\n",
       "    <tr style=\"text-align: right;\">\n",
       "      <th></th>\n",
       "      <th>url</th>\n",
       "      <th>current_amount</th>\n",
       "      <th>goal_amount</th>\n",
       "      <th>donation_count</th>\n",
       "      <th>created_at</th>\n",
       "      <th>city</th>\n",
       "      <th>postal_code</th>\n",
       "      <th>country</th>\n",
       "      <th>latest_donation_date</th>\n",
       "    </tr>\n",
       "  </thead>\n",
       "  <tbody>\n",
       "    <tr>\n",
       "      <th>6416</th>\n",
       "      <td>https://www.gofundme.com/f/qzd2e-respite-care</td>\n",
       "      <td>1630.0</td>\n",
       "      <td>2500.0</td>\n",
       "      <td>18</td>\n",
       "      <td>2020-02-28T16:27:20-06:00</td>\n",
       "      <td>San Diego, CA</td>\n",
       "      <td>92117</td>\n",
       "      <td>US</td>\n",
       "      <td>NaN</td>\n",
       "    </tr>\n",
       "    <tr>\n",
       "      <th>6667</th>\n",
       "      <td>https://www.gofundme.com/f/help-ursula-get-peace</td>\n",
       "      <td>1550.0</td>\n",
       "      <td>20000.0</td>\n",
       "      <td>12</td>\n",
       "      <td>2018-06-06T07:32:40-05:00</td>\n",
       "      <td>Fort Lauderdale, FL</td>\n",
       "      <td>33301</td>\n",
       "      <td>US</td>\n",
       "      <td>NaN</td>\n",
       "    </tr>\n",
       "    <tr>\n",
       "      <th>7518</th>\n",
       "      <td>https://www.gofundme.com/f/roclathon-2020</td>\n",
       "      <td>200.0</td>\n",
       "      <td>3000.0</td>\n",
       "      <td>7</td>\n",
       "      <td>2020-02-26T08:27:15-06:00</td>\n",
       "      <td>Altoona, PA</td>\n",
       "      <td>16602</td>\n",
       "      <td>US</td>\n",
       "      <td>NaN</td>\n",
       "    </tr>\n",
       "    <tr>\n",
       "      <th>8335</th>\n",
       "      <td>https://www.gofundme.com/f/help-support-helen-...</td>\n",
       "      <td>600.0</td>\n",
       "      <td>50000.0</td>\n",
       "      <td>6</td>\n",
       "      <td>2020-02-21T09:36:11-06:00</td>\n",
       "      <td>Woodbine, NJ</td>\n",
       "      <td>8270</td>\n",
       "      <td>US</td>\n",
       "      <td>NaN</td>\n",
       "    </tr>\n",
       "    <tr>\n",
       "      <th>8823</th>\n",
       "      <td>https://www.gofundme.com/f/hezkjg-it-takes-a-v...</td>\n",
       "      <td>1785.0</td>\n",
       "      <td>7000.0</td>\n",
       "      <td>30</td>\n",
       "      <td>2020-02-27T07:05:39-06:00</td>\n",
       "      <td>Saint Cloud, FL</td>\n",
       "      <td>34769</td>\n",
       "      <td>US</td>\n",
       "      <td>NaN</td>\n",
       "    </tr>\n",
       "    <tr>\n",
       "      <th>10346</th>\n",
       "      <td>https://www.gofundme.com/f/5ru6y-hope-for-melanie</td>\n",
       "      <td>295.0</td>\n",
       "      <td>1000000.0</td>\n",
       "      <td>6</td>\n",
       "      <td>2020-02-11T13:36:38-06:00</td>\n",
       "      <td>Huntsville, AR</td>\n",
       "      <td>72740</td>\n",
       "      <td>US</td>\n",
       "      <td>NaN</td>\n",
       "    </tr>\n",
       "    <tr>\n",
       "      <th>12710</th>\n",
       "      <td>https://www.gofundme.com/f/heart-sugery-for-mark</td>\n",
       "      <td>1850.0</td>\n",
       "      <td>30000.0</td>\n",
       "      <td>10</td>\n",
       "      <td>2018-08-06T10:07:14-05:00</td>\n",
       "      <td>Saint Clair Shores, MI</td>\n",
       "      <td>48082</td>\n",
       "      <td>US</td>\n",
       "      <td>NaN</td>\n",
       "    </tr>\n",
       "    <tr>\n",
       "      <th>13241</th>\n",
       "      <td>https://www.gofundme.com/f/rainbows-for-sick-kids</td>\n",
       "      <td>260.0</td>\n",
       "      <td>1000.0</td>\n",
       "      <td>7</td>\n",
       "      <td>2020-02-21T15:46:07-06:00</td>\n",
       "      <td>Madison, WI</td>\n",
       "      <td>53704</td>\n",
       "      <td>US</td>\n",
       "      <td>NaN</td>\n",
       "    </tr>\n",
       "    <tr>\n",
       "      <th>18151</th>\n",
       "      <td>https://www.gofundme.com/f/1xa5nb0iao</td>\n",
       "      <td>235.0</td>\n",
       "      <td>1200.0</td>\n",
       "      <td>9</td>\n",
       "      <td>2020-03-10T16:23:43-05:00</td>\n",
       "      <td>Oklahoma City, OK</td>\n",
       "      <td>73129</td>\n",
       "      <td>US</td>\n",
       "      <td>NaN</td>\n",
       "    </tr>\n",
       "    <tr>\n",
       "      <th>18415</th>\n",
       "      <td>https://www.gofundme.com/f/jens-fight-for-a-ki...</td>\n",
       "      <td>228.0</td>\n",
       "      <td>25000.0</td>\n",
       "      <td>6</td>\n",
       "      <td>2020-02-23T20:33:57-06:00</td>\n",
       "      <td>Hamilton, OH</td>\n",
       "      <td>45011</td>\n",
       "      <td>US</td>\n",
       "      <td>NaN</td>\n",
       "    </tr>\n",
       "    <tr>\n",
       "      <th>24802</th>\n",
       "      <td>https://www.gofundme.com/f/m687f-diabetic-type-1</td>\n",
       "      <td>229.0</td>\n",
       "      <td>10000.0</td>\n",
       "      <td>11</td>\n",
       "      <td>2020-02-16T19:02:48-06:00</td>\n",
       "      <td>Martinsburg, WV</td>\n",
       "      <td>25403</td>\n",
       "      <td>US</td>\n",
       "      <td>NaN</td>\n",
       "    </tr>\n",
       "    <tr>\n",
       "      <th>25793</th>\n",
       "      <td>https://www.gofundme.com/f/pdgn4-fighting-brea...</td>\n",
       "      <td>1712.0</td>\n",
       "      <td>20000.0</td>\n",
       "      <td>26</td>\n",
       "      <td>2020-02-28T21:45:43-06:00</td>\n",
       "      <td>Glenwood Springs, CO</td>\n",
       "      <td>81601</td>\n",
       "      <td>US</td>\n",
       "      <td>NaN</td>\n",
       "    </tr>\n",
       "    <tr>\n",
       "      <th>27210</th>\n",
       "      <td>https://www.gofundme.com/f/ktb9b9-stevies-get-...</td>\n",
       "      <td>194.0</td>\n",
       "      <td>300.0</td>\n",
       "      <td>5</td>\n",
       "      <td>2020-02-25T12:03:34-06:00</td>\n",
       "      <td>Lewisville, TX</td>\n",
       "      <td>75077</td>\n",
       "      <td>US</td>\n",
       "      <td>NaN</td>\n",
       "    </tr>\n",
       "    <tr>\n",
       "      <th>33126</th>\n",
       "      <td>https://www.gofundme.com/f/x56by-ajude-nosso-a...</td>\n",
       "      <td>505.0</td>\n",
       "      <td>10000.0</td>\n",
       "      <td>18</td>\n",
       "      <td>2020-02-23T21:16:46-06:00</td>\n",
       "      <td>Stoughton, MA</td>\n",
       "      <td>2072</td>\n",
       "      <td>US</td>\n",
       "      <td>NaN</td>\n",
       "    </tr>\n",
       "    <tr>\n",
       "      <th>35824</th>\n",
       "      <td>https://www.gofundme.com/f/andrea-padro</td>\n",
       "      <td>145.0</td>\n",
       "      <td>3000.0</td>\n",
       "      <td>8</td>\n",
       "      <td>2020-03-03T10:43:56-06:00</td>\n",
       "      <td>Miami, FL</td>\n",
       "      <td>33172</td>\n",
       "      <td>US</td>\n",
       "      <td>NaN</td>\n",
       "    </tr>\n",
       "    <tr>\n",
       "      <th>38127</th>\n",
       "      <td>https://www.gofundme.com/f/heart-for-gauis</td>\n",
       "      <td>208.0</td>\n",
       "      <td>15000.0</td>\n",
       "      <td>6</td>\n",
       "      <td>2020-02-21T11:59:37-06:00</td>\n",
       "      <td>Gainesville, GA</td>\n",
       "      <td>30501</td>\n",
       "      <td>US</td>\n",
       "      <td>NaN</td>\n",
       "    </tr>\n",
       "    <tr>\n",
       "      <th>39540</th>\n",
       "      <td>https://www.gofundme.com/f/xtcga-cancer-color-run</td>\n",
       "      <td>380.0</td>\n",
       "      <td>500.0</td>\n",
       "      <td>10</td>\n",
       "      <td>2020-02-27T16:28:34-06:00</td>\n",
       "      <td>Osceola, IA</td>\n",
       "      <td>50213</td>\n",
       "      <td>US</td>\n",
       "      <td>NaN</td>\n",
       "    </tr>\n",
       "    <tr>\n",
       "      <th>41533</th>\n",
       "      <td>https://www.gofundme.com/f/hearing-aids-and-be...</td>\n",
       "      <td>220.0</td>\n",
       "      <td>6000.0</td>\n",
       "      <td>5</td>\n",
       "      <td>2020-03-07T18:01:27-06:00</td>\n",
       "      <td>Sunnyvale, CA</td>\n",
       "      <td>94087</td>\n",
       "      <td>US</td>\n",
       "      <td>NaN</td>\n",
       "    </tr>\n",
       "    <tr>\n",
       "      <th>44037</th>\n",
       "      <td>https://www.gofundme.com/f/29458b-multiple-scl...</td>\n",
       "      <td>135.0</td>\n",
       "      <td>1000.0</td>\n",
       "      <td>5</td>\n",
       "      <td>2020-02-21T07:00:56-06:00</td>\n",
       "      <td>Mc Donald, PA</td>\n",
       "      <td>15057</td>\n",
       "      <td>US</td>\n",
       "      <td>NaN</td>\n",
       "    </tr>\n",
       "    <tr>\n",
       "      <th>44061</th>\n",
       "      <td>https://www.gofundme.com/f/1x6l4xashc</td>\n",
       "      <td>1500.0</td>\n",
       "      <td>5000.0</td>\n",
       "      <td>21</td>\n",
       "      <td>2020-03-07T18:52:44-06:00</td>\n",
       "      <td>Galax, VA</td>\n",
       "      <td>24333</td>\n",
       "      <td>US</td>\n",
       "      <td>NaN</td>\n",
       "    </tr>\n",
       "    <tr>\n",
       "      <th>45223</th>\n",
       "      <td>https://www.gofundme.com/f/ayudemos-a-darley</td>\n",
       "      <td>185.0</td>\n",
       "      <td>5000.0</td>\n",
       "      <td>8</td>\n",
       "      <td>2020-01-30T12:09:30-06:00</td>\n",
       "      <td>Kissimmee, FL</td>\n",
       "      <td>34741</td>\n",
       "      <td>US</td>\n",
       "      <td>NaN</td>\n",
       "    </tr>\n",
       "    <tr>\n",
       "      <th>52157</th>\n",
       "      <td>https://www.gofundme.com/f/x4fdh8</td>\n",
       "      <td>450.0</td>\n",
       "      <td>2000.0</td>\n",
       "      <td>5</td>\n",
       "      <td>2020-02-08T10:04:52-06:00</td>\n",
       "      <td>Carolina Beach, NC</td>\n",
       "      <td>28428</td>\n",
       "      <td>US</td>\n",
       "      <td>NaN</td>\n",
       "    </tr>\n",
       "    <tr>\n",
       "      <th>53188</th>\n",
       "      <td>https://www.gofundme.com/f/lj039s-top-surgery</td>\n",
       "      <td>345.0</td>\n",
       "      <td>8000.0</td>\n",
       "      <td>10</td>\n",
       "      <td>2019-09-26T14:37:13-05:00</td>\n",
       "      <td>Needham Heights, MA</td>\n",
       "      <td>2494</td>\n",
       "      <td>US</td>\n",
       "      <td>NaN</td>\n",
       "    </tr>\n",
       "    <tr>\n",
       "      <th>59555</th>\n",
       "      <td>https://www.gofundme.com/f/ms-mom-warrior</td>\n",
       "      <td>385.0</td>\n",
       "      <td>5000.0</td>\n",
       "      <td>5</td>\n",
       "      <td>2020-03-01T20:14:54-06:00</td>\n",
       "      <td>La Puente, CA</td>\n",
       "      <td>91744</td>\n",
       "      <td>US</td>\n",
       "      <td>NaN</td>\n",
       "    </tr>\n",
       "    <tr>\n",
       "      <th>66262</th>\n",
       "      <td>https://www.gofundme.com/f/2c66wk-bella-the-bu...</td>\n",
       "      <td>180.0</td>\n",
       "      <td>1200.0</td>\n",
       "      <td>6</td>\n",
       "      <td>2020-03-09T20:16:27-05:00</td>\n",
       "      <td>Reedsburg, WI</td>\n",
       "      <td>53959</td>\n",
       "      <td>US</td>\n",
       "      <td>NaN</td>\n",
       "    </tr>\n",
       "    <tr>\n",
       "      <th>66806</th>\n",
       "      <td>https://www.gofundme.com/f/fonda-elaine-harris</td>\n",
       "      <td>300.0</td>\n",
       "      <td>10000.0</td>\n",
       "      <td>5</td>\n",
       "      <td>2020-02-28T12:12:26-06:00</td>\n",
       "      <td>Chattanooga, TN</td>\n",
       "      <td>37412</td>\n",
       "      <td>US</td>\n",
       "      <td>NaN</td>\n",
       "    </tr>\n",
       "    <tr>\n",
       "      <th>67090</th>\n",
       "      <td>https://www.gofundme.com/f/help-angel-zacarias...</td>\n",
       "      <td>1390.0</td>\n",
       "      <td>10000.0</td>\n",
       "      <td>19</td>\n",
       "      <td>2020-02-29T17:06:07-06:00</td>\n",
       "      <td>Chicago, IL</td>\n",
       "      <td>60629</td>\n",
       "      <td>US</td>\n",
       "      <td>NaN</td>\n",
       "    </tr>\n",
       "    <tr>\n",
       "      <th>70401</th>\n",
       "      <td>https://www.gofundme.com/f/jv-warrior-fund</td>\n",
       "      <td>2035.0</td>\n",
       "      <td>100000.0</td>\n",
       "      <td>11</td>\n",
       "      <td>2020-01-01T13:59:16-06:00</td>\n",
       "      <td>Broken Arrow, OK</td>\n",
       "      <td>74012</td>\n",
       "      <td>US</td>\n",
       "      <td>NaN</td>\n",
       "    </tr>\n",
       "    <tr>\n",
       "      <th>70841</th>\n",
       "      <td>https://www.gofundme.com/f/pqytst-lets-keep-sa...</td>\n",
       "      <td>335.0</td>\n",
       "      <td>9000.0</td>\n",
       "      <td>9</td>\n",
       "      <td>2020-02-15T13:01:41-06:00</td>\n",
       "      <td>Los Angeles, CA</td>\n",
       "      <td>90064</td>\n",
       "      <td>US</td>\n",
       "      <td>NaN</td>\n",
       "    </tr>\n",
       "    <tr>\n",
       "      <th>71511</th>\n",
       "      <td>https://www.gofundme.com/f/x5mmsb-service-pup</td>\n",
       "      <td>471.0</td>\n",
       "      <td>1600.0</td>\n",
       "      <td>16</td>\n",
       "      <td>2020-03-08T17:25:44-05:00</td>\n",
       "      <td>Hainesville, IL</td>\n",
       "      <td>60073</td>\n",
       "      <td>US</td>\n",
       "      <td>NaN</td>\n",
       "    </tr>\n",
       "    <tr>\n",
       "      <th>72043</th>\n",
       "      <td>https://www.gofundme.com/f/help-fighting-coron...</td>\n",
       "      <td>1400.0</td>\n",
       "      <td>5000.0</td>\n",
       "      <td>13</td>\n",
       "      <td>2020-02-04T12:10:25-06:00</td>\n",
       "      <td>Boston, MA</td>\n",
       "      <td>2108</td>\n",
       "      <td>US</td>\n",
       "      <td>NaN</td>\n",
       "    </tr>\n",
       "    <tr>\n",
       "      <th>72086</th>\n",
       "      <td>https://www.gofundme.com/f/bring-quality-of-li...</td>\n",
       "      <td>65.0</td>\n",
       "      <td>5300.0</td>\n",
       "      <td>5</td>\n",
       "      <td>2020-02-11T21:33:20-06:00</td>\n",
       "      <td>Fond Du Lac, WI</td>\n",
       "      <td>54937</td>\n",
       "      <td>US</td>\n",
       "      <td>NaN</td>\n",
       "    </tr>\n",
       "    <tr>\n",
       "      <th>73279</th>\n",
       "      <td>https://www.gofundme.com/f/help-emtff-k-ladnie...</td>\n",
       "      <td>730.0</td>\n",
       "      <td>1000.0</td>\n",
       "      <td>9</td>\n",
       "      <td>2020-02-11T19:00:44-06:00</td>\n",
       "      <td>Monroe Township, NJ</td>\n",
       "      <td>8831</td>\n",
       "      <td>US</td>\n",
       "      <td>NaN</td>\n",
       "    </tr>\n",
       "    <tr>\n",
       "      <th>73502</th>\n",
       "      <td>https://www.gofundme.com/f/fight-for-a-finger</td>\n",
       "      <td>525.0</td>\n",
       "      <td>200000.0</td>\n",
       "      <td>7</td>\n",
       "      <td>2020-02-13T11:40:07-06:00</td>\n",
       "      <td>Mount Kisco, NY</td>\n",
       "      <td>10549</td>\n",
       "      <td>US</td>\n",
       "      <td>NaN</td>\n",
       "    </tr>\n",
       "    <tr>\n",
       "      <th>74395</th>\n",
       "      <td>https://www.gofundme.com/f/moniques-fight</td>\n",
       "      <td>335.0</td>\n",
       "      <td>10000.0</td>\n",
       "      <td>8</td>\n",
       "      <td>2020-02-26T15:34:06-06:00</td>\n",
       "      <td>Marlton, NJ</td>\n",
       "      <td>8053</td>\n",
       "      <td>US</td>\n",
       "      <td>NaN</td>\n",
       "    </tr>\n",
       "    <tr>\n",
       "      <th>74431</th>\n",
       "      <td>https://www.gofundme.com/f/kidney-amp-heart-tr...</td>\n",
       "      <td>540.0</td>\n",
       "      <td>5500.0</td>\n",
       "      <td>14</td>\n",
       "      <td>2020-02-11T06:20:43-06:00</td>\n",
       "      <td>Augusta, GA</td>\n",
       "      <td>30909</td>\n",
       "      <td>US</td>\n",
       "      <td>NaN</td>\n",
       "    </tr>\n",
       "    <tr>\n",
       "      <th>74629</th>\n",
       "      <td>https://www.gofundme.com/f/m4knyu-wendys-medic...</td>\n",
       "      <td>800.0</td>\n",
       "      <td>25000.0</td>\n",
       "      <td>9</td>\n",
       "      <td>2020-02-12T11:14:04-06:00</td>\n",
       "      <td>Naples, FL</td>\n",
       "      <td>34112</td>\n",
       "      <td>US</td>\n",
       "      <td>NaN</td>\n",
       "    </tr>\n",
       "    <tr>\n",
       "      <th>75005</th>\n",
       "      <td>https://www.gofundme.com/f/waves-of-health</td>\n",
       "      <td>435.0</td>\n",
       "      <td>1600.0</td>\n",
       "      <td>10</td>\n",
       "      <td>2020-03-02T09:16:43-06:00</td>\n",
       "      <td>Lyndhurst, NJ</td>\n",
       "      <td>7071</td>\n",
       "      <td>US</td>\n",
       "      <td>NaN</td>\n",
       "    </tr>\n",
       "    <tr>\n",
       "      <th>79552</th>\n",
       "      <td>https://www.gofundme.com/f/support4tiffany</td>\n",
       "      <td>3895.0</td>\n",
       "      <td>10000.0</td>\n",
       "      <td>27</td>\n",
       "      <td>2020-03-08T19:38:41-05:00</td>\n",
       "      <td>Martinez, CA</td>\n",
       "      <td>94553</td>\n",
       "      <td>US</td>\n",
       "      <td>NaN</td>\n",
       "    </tr>\n",
       "    <tr>\n",
       "      <th>80044</th>\n",
       "      <td>https://www.gofundme.com/f/support-through-rou...</td>\n",
       "      <td>365.0</td>\n",
       "      <td>1000.0</td>\n",
       "      <td>9</td>\n",
       "      <td>2020-02-22T12:34:51-06:00</td>\n",
       "      <td>New Concord, KY</td>\n",
       "      <td>42076</td>\n",
       "      <td>US</td>\n",
       "      <td>NaN</td>\n",
       "    </tr>\n",
       "    <tr>\n",
       "      <th>86469</th>\n",
       "      <td>https://www.gofundme.com/f/nt9ju-syrian-americ...</td>\n",
       "      <td>3935.0</td>\n",
       "      <td>4500.0</td>\n",
       "      <td>45</td>\n",
       "      <td>2020-02-20T23:20:38-06:00</td>\n",
       "      <td>Bridgeview, IL</td>\n",
       "      <td>60455</td>\n",
       "      <td>US</td>\n",
       "      <td>NaN</td>\n",
       "    </tr>\n",
       "    <tr>\n",
       "      <th>92126</th>\n",
       "      <td>https://www.gofundme.com/f/1wuqib6yc0</td>\n",
       "      <td>250.0</td>\n",
       "      <td>2500.0</td>\n",
       "      <td>6</td>\n",
       "      <td>2020-02-27T09:58:56-06:00</td>\n",
       "      <td>Hudson, MA</td>\n",
       "      <td>1749</td>\n",
       "      <td>US</td>\n",
       "      <td>NaN</td>\n",
       "    </tr>\n",
       "    <tr>\n",
       "      <th>92851</th>\n",
       "      <td>https://www.gofundme.com/f/sergio039s</td>\n",
       "      <td>240.0</td>\n",
       "      <td>15000.0</td>\n",
       "      <td>6</td>\n",
       "      <td>2020-02-06T01:16:19-06:00</td>\n",
       "      <td>Bakersfield, CA</td>\n",
       "      <td>93304</td>\n",
       "      <td>US</td>\n",
       "      <td>NaN</td>\n",
       "    </tr>\n",
       "    <tr>\n",
       "      <th>93837</th>\n",
       "      <td>https://www.gofundme.com/f/yakx8-help-cheryl-b...</td>\n",
       "      <td>313.0</td>\n",
       "      <td>5000.0</td>\n",
       "      <td>9</td>\n",
       "      <td>2020-02-12T18:51:20-06:00</td>\n",
       "      <td>Calhoun, GA</td>\n",
       "      <td>30701</td>\n",
       "      <td>US</td>\n",
       "      <td>NaN</td>\n",
       "    </tr>\n",
       "  </tbody>\n",
       "</table>\n",
       "</div>"
      ],
      "text/plain": [
       "                                                     url  current_amount  \\\n",
       "6416       https://www.gofundme.com/f/qzd2e-respite-care          1630.0   \n",
       "6667    https://www.gofundme.com/f/help-ursula-get-peace          1550.0   \n",
       "7518           https://www.gofundme.com/f/roclathon-2020           200.0   \n",
       "8335   https://www.gofundme.com/f/help-support-helen-...           600.0   \n",
       "8823   https://www.gofundme.com/f/hezkjg-it-takes-a-v...          1785.0   \n",
       "10346  https://www.gofundme.com/f/5ru6y-hope-for-melanie           295.0   \n",
       "12710   https://www.gofundme.com/f/heart-sugery-for-mark          1850.0   \n",
       "13241  https://www.gofundme.com/f/rainbows-for-sick-kids           260.0   \n",
       "18151              https://www.gofundme.com/f/1xa5nb0iao           235.0   \n",
       "18415  https://www.gofundme.com/f/jens-fight-for-a-ki...           228.0   \n",
       "24802   https://www.gofundme.com/f/m687f-diabetic-type-1           229.0   \n",
       "25793  https://www.gofundme.com/f/pdgn4-fighting-brea...          1712.0   \n",
       "27210  https://www.gofundme.com/f/ktb9b9-stevies-get-...           194.0   \n",
       "33126  https://www.gofundme.com/f/x56by-ajude-nosso-a...           505.0   \n",
       "35824            https://www.gofundme.com/f/andrea-padro           145.0   \n",
       "38127         https://www.gofundme.com/f/heart-for-gauis           208.0   \n",
       "39540  https://www.gofundme.com/f/xtcga-cancer-color-run           380.0   \n",
       "41533  https://www.gofundme.com/f/hearing-aids-and-be...           220.0   \n",
       "44037  https://www.gofundme.com/f/29458b-multiple-scl...           135.0   \n",
       "44061              https://www.gofundme.com/f/1x6l4xashc          1500.0   \n",
       "45223       https://www.gofundme.com/f/ayudemos-a-darley           185.0   \n",
       "52157                  https://www.gofundme.com/f/x4fdh8           450.0   \n",
       "53188      https://www.gofundme.com/f/lj039s-top-surgery           345.0   \n",
       "59555          https://www.gofundme.com/f/ms-mom-warrior           385.0   \n",
       "66262  https://www.gofundme.com/f/2c66wk-bella-the-bu...           180.0   \n",
       "66806     https://www.gofundme.com/f/fonda-elaine-harris           300.0   \n",
       "67090  https://www.gofundme.com/f/help-angel-zacarias...          1390.0   \n",
       "70401         https://www.gofundme.com/f/jv-warrior-fund          2035.0   \n",
       "70841  https://www.gofundme.com/f/pqytst-lets-keep-sa...           335.0   \n",
       "71511      https://www.gofundme.com/f/x5mmsb-service-pup           471.0   \n",
       "72043  https://www.gofundme.com/f/help-fighting-coron...          1400.0   \n",
       "72086  https://www.gofundme.com/f/bring-quality-of-li...            65.0   \n",
       "73279  https://www.gofundme.com/f/help-emtff-k-ladnie...           730.0   \n",
       "73502      https://www.gofundme.com/f/fight-for-a-finger           525.0   \n",
       "74395          https://www.gofundme.com/f/moniques-fight           335.0   \n",
       "74431  https://www.gofundme.com/f/kidney-amp-heart-tr...           540.0   \n",
       "74629  https://www.gofundme.com/f/m4knyu-wendys-medic...           800.0   \n",
       "75005         https://www.gofundme.com/f/waves-of-health           435.0   \n",
       "79552         https://www.gofundme.com/f/support4tiffany          3895.0   \n",
       "80044  https://www.gofundme.com/f/support-through-rou...           365.0   \n",
       "86469  https://www.gofundme.com/f/nt9ju-syrian-americ...          3935.0   \n",
       "92126              https://www.gofundme.com/f/1wuqib6yc0           250.0   \n",
       "92851              https://www.gofundme.com/f/sergio039s           240.0   \n",
       "93837  https://www.gofundme.com/f/yakx8-help-cheryl-b...           313.0   \n",
       "\n",
       "       goal_amount  donation_count                 created_at  \\\n",
       "6416        2500.0              18  2020-02-28T16:27:20-06:00   \n",
       "6667       20000.0              12  2018-06-06T07:32:40-05:00   \n",
       "7518        3000.0               7  2020-02-26T08:27:15-06:00   \n",
       "8335       50000.0               6  2020-02-21T09:36:11-06:00   \n",
       "8823        7000.0              30  2020-02-27T07:05:39-06:00   \n",
       "10346    1000000.0               6  2020-02-11T13:36:38-06:00   \n",
       "12710      30000.0              10  2018-08-06T10:07:14-05:00   \n",
       "13241       1000.0               7  2020-02-21T15:46:07-06:00   \n",
       "18151       1200.0               9  2020-03-10T16:23:43-05:00   \n",
       "18415      25000.0               6  2020-02-23T20:33:57-06:00   \n",
       "24802      10000.0              11  2020-02-16T19:02:48-06:00   \n",
       "25793      20000.0              26  2020-02-28T21:45:43-06:00   \n",
       "27210        300.0               5  2020-02-25T12:03:34-06:00   \n",
       "33126      10000.0              18  2020-02-23T21:16:46-06:00   \n",
       "35824       3000.0               8  2020-03-03T10:43:56-06:00   \n",
       "38127      15000.0               6  2020-02-21T11:59:37-06:00   \n",
       "39540        500.0              10  2020-02-27T16:28:34-06:00   \n",
       "41533       6000.0               5  2020-03-07T18:01:27-06:00   \n",
       "44037       1000.0               5  2020-02-21T07:00:56-06:00   \n",
       "44061       5000.0              21  2020-03-07T18:52:44-06:00   \n",
       "45223       5000.0               8  2020-01-30T12:09:30-06:00   \n",
       "52157       2000.0               5  2020-02-08T10:04:52-06:00   \n",
       "53188       8000.0              10  2019-09-26T14:37:13-05:00   \n",
       "59555       5000.0               5  2020-03-01T20:14:54-06:00   \n",
       "66262       1200.0               6  2020-03-09T20:16:27-05:00   \n",
       "66806      10000.0               5  2020-02-28T12:12:26-06:00   \n",
       "67090      10000.0              19  2020-02-29T17:06:07-06:00   \n",
       "70401     100000.0              11  2020-01-01T13:59:16-06:00   \n",
       "70841       9000.0               9  2020-02-15T13:01:41-06:00   \n",
       "71511       1600.0              16  2020-03-08T17:25:44-05:00   \n",
       "72043       5000.0              13  2020-02-04T12:10:25-06:00   \n",
       "72086       5300.0               5  2020-02-11T21:33:20-06:00   \n",
       "73279       1000.0               9  2020-02-11T19:00:44-06:00   \n",
       "73502     200000.0               7  2020-02-13T11:40:07-06:00   \n",
       "74395      10000.0               8  2020-02-26T15:34:06-06:00   \n",
       "74431       5500.0              14  2020-02-11T06:20:43-06:00   \n",
       "74629      25000.0               9  2020-02-12T11:14:04-06:00   \n",
       "75005       1600.0              10  2020-03-02T09:16:43-06:00   \n",
       "79552      10000.0              27  2020-03-08T19:38:41-05:00   \n",
       "80044       1000.0               9  2020-02-22T12:34:51-06:00   \n",
       "86469       4500.0              45  2020-02-20T23:20:38-06:00   \n",
       "92126       2500.0               6  2020-02-27T09:58:56-06:00   \n",
       "92851      15000.0               6  2020-02-06T01:16:19-06:00   \n",
       "93837       5000.0               9  2020-02-12T18:51:20-06:00   \n",
       "\n",
       "                         city postal_code country latest_donation_date  \n",
       "6416            San Diego, CA       92117      US                  NaN  \n",
       "6667      Fort Lauderdale, FL       33301      US                  NaN  \n",
       "7518              Altoona, PA       16602      US                  NaN  \n",
       "8335             Woodbine, NJ        8270      US                  NaN  \n",
       "8823          Saint Cloud, FL       34769      US                  NaN  \n",
       "10346          Huntsville, AR       72740      US                  NaN  \n",
       "12710  Saint Clair Shores, MI       48082      US                  NaN  \n",
       "13241             Madison, WI       53704      US                  NaN  \n",
       "18151       Oklahoma City, OK       73129      US                  NaN  \n",
       "18415            Hamilton, OH       45011      US                  NaN  \n",
       "24802         Martinsburg, WV       25403      US                  NaN  \n",
       "25793    Glenwood Springs, CO       81601      US                  NaN  \n",
       "27210          Lewisville, TX       75077      US                  NaN  \n",
       "33126           Stoughton, MA        2072      US                  NaN  \n",
       "35824               Miami, FL       33172      US                  NaN  \n",
       "38127         Gainesville, GA       30501      US                  NaN  \n",
       "39540             Osceola, IA       50213      US                  NaN  \n",
       "41533           Sunnyvale, CA       94087      US                  NaN  \n",
       "44037           Mc Donald, PA       15057      US                  NaN  \n",
       "44061               Galax, VA       24333      US                  NaN  \n",
       "45223           Kissimmee, FL       34741      US                  NaN  \n",
       "52157      Carolina Beach, NC       28428      US                  NaN  \n",
       "53188     Needham Heights, MA        2494      US                  NaN  \n",
       "59555           La Puente, CA       91744      US                  NaN  \n",
       "66262           Reedsburg, WI       53959      US                  NaN  \n",
       "66806         Chattanooga, TN       37412      US                  NaN  \n",
       "67090             Chicago, IL       60629      US                  NaN  \n",
       "70401        Broken Arrow, OK       74012      US                  NaN  \n",
       "70841         Los Angeles, CA       90064      US                  NaN  \n",
       "71511         Hainesville, IL       60073      US                  NaN  \n",
       "72043              Boston, MA        2108      US                  NaN  \n",
       "72086         Fond Du Lac, WI       54937      US                  NaN  \n",
       "73279     Monroe Township, NJ        8831      US                  NaN  \n",
       "73502         Mount Kisco, NY       10549      US                  NaN  \n",
       "74395             Marlton, NJ        8053      US                  NaN  \n",
       "74431             Augusta, GA       30909      US                  NaN  \n",
       "74629              Naples, FL       34112      US                  NaN  \n",
       "75005           Lyndhurst, NJ        7071      US                  NaN  \n",
       "79552            Martinez, CA       94553      US                  NaN  \n",
       "80044         New Concord, KY       42076      US                  NaN  \n",
       "86469          Bridgeview, IL       60455      US                  NaN  \n",
       "92126              Hudson, MA        1749      US                  NaN  \n",
       "92851         Bakersfield, CA       93304      US                  NaN  \n",
       "93837             Calhoun, GA       30701      US                  NaN  "
      ]
     },
     "execution_count": 135,
     "metadata": {},
     "output_type": "execute_result"
    }
   ],
   "source": [
    "feed[(feed['donation_count'] != 0) & (pd.isnull(feed['latest_donation_date']))]"
   ]
  },
  {
   "cell_type": "markdown",
   "metadata": {},
   "source": [
    "There are a small number of campaigns that have raised money but do not have corresponding donation data.\n",
    "\n",
    "Upon manual inspection, it appears that these campaigns have some option where they don't display individual donations.\n",
    "\n",
    "Here is an example\n",
    "![example](no_donation_example.png)"
   ]
  },
  {
   "cell_type": "code",
   "execution_count": null,
   "metadata": {},
   "outputs": [],
   "source": []
  },
  {
   "cell_type": "code",
   "execution_count": null,
   "metadata": {},
   "outputs": [],
   "source": []
  },
  {
   "cell_type": "code",
   "execution_count": null,
   "metadata": {},
   "outputs": [],
   "source": []
  },
  {
   "cell_type": "code",
   "execution_count": null,
   "metadata": {},
   "outputs": [],
   "source": []
  },
  {
   "cell_type": "code",
   "execution_count": null,
   "metadata": {},
   "outputs": [],
   "source": []
  },
  {
   "cell_type": "code",
   "execution_count": null,
   "metadata": {},
   "outputs": [],
   "source": []
  },
  {
   "cell_type": "code",
   "execution_count": null,
   "metadata": {},
   "outputs": [],
   "source": []
  },
  {
   "cell_type": "markdown",
   "metadata": {},
   "source": [
    "### Excluding veterinary campaigns"
   ]
  },
  {
   "cell_type": "code",
   "execution_count": 2,
   "metadata": {},
   "outputs": [],
   "source": [
    "conn = sqlite3.connect(\"gfm.db\")\n",
    "feed = pd.read_sql_query(\"SELECT url, fund_description FROM feed_tb\", conn)\n",
    "feed = feed.drop_duplicates('url')"
   ]
  },
  {
   "cell_type": "code",
   "execution_count": 3,
   "metadata": {},
   "outputs": [
    {
     "name": "stderr",
     "output_type": "stream",
     "text": [
      "/opt/anaconda3/lib/python3.7/site-packages/bs4/__init__.py:314: UserWarning: \"b'.'\" looks like a filename, not markup. You should probably open this file and pass the filehandle into Beautiful Soup.\n",
      "  ' Beautiful Soup.' % markup)\n",
      "/opt/anaconda3/lib/python3.7/site-packages/bs4/__init__.py:314: UserWarning: \"b'/'\" looks like a filename, not markup. You should probably open this file and pass the filehandle into Beautiful Soup.\n",
      "  ' Beautiful Soup.' % markup)\n"
     ]
    }
   ],
   "source": [
    "feed = feed.drop_duplicates('url')\n",
    "feed['fund_description'] = [' '.join(BeautifulSoup(x).findAll(text=True)).replace(u'\\xa0', u' ') for x in feed['fund_description']]\n",
    "feed['fund_description'] = feed['fund_description'].str.lower()"
   ]
  },
  {
   "cell_type": "code",
   "execution_count": 4,
   "metadata": {},
   "outputs": [],
   "source": [
    "def CountTerms(df, terms):\n",
    "    '''\n",
    "    input: pandas df of campaign descriptions, list of terms\n",
    "    '''\n",
    "    results = {}\n",
    "    for term in terms:\n",
    "        if type(term) == list:\n",
    "            search_term_0 = r\"\\b{0}\\b\".format(term[0])\n",
    "            search_term_1 = r\"\\b{0}\\b\".format(term[1])\n",
    "            res_0 = np.array(df['fund_description'].str.contains(search_term_0).to_list())\n",
    "            res_1 = np.array(df['fund_description'].str.contains(search_term_1).to_list())\n",
    "            res_and = np.logical_and(res_0, res_1).astype(int).tolist()\n",
    "            label = (\" + \").join(term)\n",
    "            results[label] = res_and\n",
    "        else:\n",
    "            search_term = r\"\\b{0}\\b\".format(term)\n",
    "            results[term] = df['fund_description'].str.contains(search_term).astype(int).to_list()\n",
    "    return results"
   ]
  },
  {
   "cell_type": "code",
   "execution_count": 68,
   "metadata": {},
   "outputs": [],
   "source": [
    "vet = [\n",
    "    'veterinary',\n",
    "    'veterinarian',\n",
    "    'vet',\n",
    "    'dog',\n",
    "    'cat',\n",
    "    'puppy',\n",
    "    'kitty',\n",
    "    'pet',\n",
    "]\n",
    "\n",
    "vet = [\n",
    "    ['pet','veterinary'],\n",
    "    ['pet','veterinarian'],\n",
    "    ['pet','vet'],\n",
    "    ['dog','veterinary'],\n",
    "    ['dog','veterinarian'],\n",
    "    ['dog','vet'],\n",
    "    ['service dog','veterinary'],\n",
    "    ['service dog','veterinarian'],\n",
    "    ['service dog','vet'],\n",
    "    ['puppy','veterinary'],\n",
    "    ['puppy','veterinarian'],\n",
    "    ['puppy','vet'],\n",
    "    ['kitty','veterinary'],\n",
    "    ['kitty','veterinarian'],\n",
    "    ['kitty','vet'],\n",
    "    ['cat','veterinary'],\n",
    "    ['cat','veterinarian'],\n",
    "    ['cat','vet']\n",
    "]\n",
    "\n"
   ]
  },
  {
   "cell_type": "code",
   "execution_count": 20,
   "metadata": {},
   "outputs": [],
   "source": [
    "terms = ['lung cancer', 'smoker', 'smoke']"
   ]
  },
  {
   "cell_type": "code",
   "execution_count": 21,
   "metadata": {},
   "outputs": [],
   "source": [
    "count_dict = CountTerms(feed, terms)"
   ]
  },
  {
   "cell_type": "code",
   "execution_count": 22,
   "metadata": {},
   "outputs": [],
   "source": [
    "df = pd.concat([feed, pd.DataFrame(count_dict)], axis=1)"
   ]
  },
  {
   "cell_type": "code",
   "execution_count": 23,
   "metadata": {},
   "outputs": [],
   "source": [
    "df = df[df['lung cancer'] == 1]"
   ]
  },
  {
   "cell_type": "code",
   "execution_count": 27,
   "metadata": {},
   "outputs": [
    {
     "data": {
      "text/plain": [
       "0.0    1832\n",
       "1.0      49\n",
       "Name: smoker, dtype: int64"
      ]
     },
     "execution_count": 27,
     "metadata": {},
     "output_type": "execute_result"
    }
   ],
   "source": [
    "df['smoker'].value_counts()"
   ]
  },
  {
   "cell_type": "code",
   "execution_count": null,
   "metadata": {},
   "outputs": [],
   "source": []
  },
  {
   "cell_type": "code",
   "execution_count": null,
   "metadata": {},
   "outputs": [],
   "source": []
  },
  {
   "cell_type": "code",
   "execution_count": null,
   "metadata": {},
   "outputs": [],
   "source": []
  },
  {
   "cell_type": "code",
   "execution_count": 70,
   "metadata": {},
   "outputs": [],
   "source": [
    "counts = pd.DataFrame(count_dict)"
   ]
  },
  {
   "cell_type": "code",
   "execution_count": 71,
   "metadata": {},
   "outputs": [],
   "source": [
    "counts_sum = counts.sum(axis=1)"
   ]
  },
  {
   "cell_type": "code",
   "execution_count": 72,
   "metadata": {},
   "outputs": [
    {
     "data": {
      "text/plain": [
       "0    92541\n",
       "1      208\n",
       "2      153\n",
       "3       33\n",
       "4       20\n",
       "6        7\n",
       "dtype: int64"
      ]
     },
     "execution_count": 72,
     "metadata": {},
     "output_type": "execute_result"
    }
   ],
   "source": [
    "counts_sum.value_counts()"
   ]
  },
  {
   "cell_type": "code",
   "execution_count": 73,
   "metadata": {},
   "outputs": [],
   "source": [
    "results = {'term': [], 'count': []}\n",
    "for column in counts.columns:\n",
    "    results['term'].append(column)\n",
    "    try:\n",
    "        results['count'].append(counts[column].value_counts().to_dict()[1])\n",
    "    except:\n",
    "        results['count'].append(0)\n",
    "counts_by_term = pd.DataFrame(results)"
   ]
  },
  {
   "cell_type": "code",
   "execution_count": 74,
   "metadata": {},
   "outputs": [
    {
     "data": {
      "text/html": [
       "<div>\n",
       "<style scoped>\n",
       "    .dataframe tbody tr th:only-of-type {\n",
       "        vertical-align: middle;\n",
       "    }\n",
       "\n",
       "    .dataframe tbody tr th {\n",
       "        vertical-align: top;\n",
       "    }\n",
       "\n",
       "    .dataframe thead th {\n",
       "        text-align: right;\n",
       "    }\n",
       "</style>\n",
       "<table border=\"1\" class=\"dataframe\">\n",
       "  <thead>\n",
       "    <tr style=\"text-align: right;\">\n",
       "      <th></th>\n",
       "      <th>term</th>\n",
       "      <th>count</th>\n",
       "    </tr>\n",
       "  </thead>\n",
       "  <tbody>\n",
       "    <tr>\n",
       "      <th>0</th>\n",
       "      <td>pet + veterinary</td>\n",
       "      <td>24</td>\n",
       "    </tr>\n",
       "    <tr>\n",
       "      <th>1</th>\n",
       "      <td>pet + veterinarian</td>\n",
       "      <td>16</td>\n",
       "    </tr>\n",
       "    <tr>\n",
       "      <th>2</th>\n",
       "      <td>pet + vet</td>\n",
       "      <td>79</td>\n",
       "    </tr>\n",
       "    <tr>\n",
       "      <th>3</th>\n",
       "      <td>dog + veterinary</td>\n",
       "      <td>70</td>\n",
       "    </tr>\n",
       "    <tr>\n",
       "      <th>4</th>\n",
       "      <td>dog + veterinarian</td>\n",
       "      <td>31</td>\n",
       "    </tr>\n",
       "    <tr>\n",
       "      <th>5</th>\n",
       "      <td>dog + vet</td>\n",
       "      <td>234</td>\n",
       "    </tr>\n",
       "    <tr>\n",
       "      <th>6</th>\n",
       "      <td>service dog + veterinary</td>\n",
       "      <td>22</td>\n",
       "    </tr>\n",
       "    <tr>\n",
       "      <th>7</th>\n",
       "      <td>service dog + veterinarian</td>\n",
       "      <td>10</td>\n",
       "    </tr>\n",
       "    <tr>\n",
       "      <th>8</th>\n",
       "      <td>service dog + vet</td>\n",
       "      <td>62</td>\n",
       "    </tr>\n",
       "    <tr>\n",
       "      <th>9</th>\n",
       "      <td>puppy + veterinary</td>\n",
       "      <td>20</td>\n",
       "    </tr>\n",
       "    <tr>\n",
       "      <th>10</th>\n",
       "      <td>puppy + veterinarian</td>\n",
       "      <td>6</td>\n",
       "    </tr>\n",
       "    <tr>\n",
       "      <th>11</th>\n",
       "      <td>puppy + vet</td>\n",
       "      <td>66</td>\n",
       "    </tr>\n",
       "    <tr>\n",
       "      <th>12</th>\n",
       "      <td>kitty + veterinary</td>\n",
       "      <td>5</td>\n",
       "    </tr>\n",
       "    <tr>\n",
       "      <th>13</th>\n",
       "      <td>kitty + veterinarian</td>\n",
       "      <td>4</td>\n",
       "    </tr>\n",
       "    <tr>\n",
       "      <th>14</th>\n",
       "      <td>kitty + vet</td>\n",
       "      <td>14</td>\n",
       "    </tr>\n",
       "    <tr>\n",
       "      <th>15</th>\n",
       "      <td>cat + veterinary</td>\n",
       "      <td>15</td>\n",
       "    </tr>\n",
       "    <tr>\n",
       "      <th>16</th>\n",
       "      <td>cat + veterinarian</td>\n",
       "      <td>6</td>\n",
       "    </tr>\n",
       "    <tr>\n",
       "      <th>17</th>\n",
       "      <td>cat + vet</td>\n",
       "      <td>51</td>\n",
       "    </tr>\n",
       "  </tbody>\n",
       "</table>\n",
       "</div>"
      ],
      "text/plain": [
       "                          term  count\n",
       "0             pet + veterinary     24\n",
       "1           pet + veterinarian     16\n",
       "2                    pet + vet     79\n",
       "3             dog + veterinary     70\n",
       "4           dog + veterinarian     31\n",
       "5                    dog + vet    234\n",
       "6     service dog + veterinary     22\n",
       "7   service dog + veterinarian     10\n",
       "8            service dog + vet     62\n",
       "9           puppy + veterinary     20\n",
       "10        puppy + veterinarian      6\n",
       "11                 puppy + vet     66\n",
       "12          kitty + veterinary      5\n",
       "13        kitty + veterinarian      4\n",
       "14                 kitty + vet     14\n",
       "15            cat + veterinary     15\n",
       "16          cat + veterinarian      6\n",
       "17                   cat + vet     51"
      ]
     },
     "execution_count": 74,
     "metadata": {},
     "output_type": "execute_result"
    }
   ],
   "source": [
    "counts_by_term"
   ]
  },
  {
   "cell_type": "code",
   "execution_count": null,
   "metadata": {},
   "outputs": [],
   "source": []
  },
  {
   "cell_type": "code",
   "execution_count": 45,
   "metadata": {},
   "outputs": [
    {
     "data": {
      "text/plain": [
       "<matplotlib.axes._subplots.AxesSubplot at 0x7fcbf397b890>"
      ]
     },
     "execution_count": 45,
     "metadata": {},
     "output_type": "execute_result"
    },
    {
     "data": {
      "image/png": "[encoded data removed]",
      "text/plain": [
       "<Figure size 432x288 with 2 Axes>"
      ]
     },
     "metadata": {
      "needs_background": "light"
     },
     "output_type": "display_data"
    }
   ],
   "source": [
    "coocc = counts.T.dot(counts)\n",
    "cooccurrence_matrix_diagonal = np.diagonal(coocc)\n",
    "with np.errstate(divide='ignore', invalid='ignore'):\n",
    "    cooccurrence_matrix_percentage = np.nan_to_num(np.true_divide(coocc, cooccurrence_matrix_diagonal[:, None]))\n",
    "\n",
    "coocc_p = pd.DataFrame(cooccurrence_matrix_percentage)\n",
    "coocc_p.columns = counts.columns\n",
    "coocc_p.index = counts.columns\n",
    "sns.heatmap(coocc_p, cmap=\"YlGnBu\", annot=True)"
   ]
  },
  {
   "cell_type": "code",
   "execution_count": null,
   "metadata": {},
   "outputs": [],
   "source": []
  },
  {
   "cell_type": "code",
   "execution_count": null,
   "metadata": {},
   "outputs": [],
   "source": []
  },
  {
   "cell_type": "code",
   "execution_count": null,
   "metadata": {},
   "outputs": [],
   "source": []
  },
  {
   "cell_type": "code",
   "execution_count": null,
   "metadata": {},
   "outputs": [],
   "source": []
  },
  {
   "cell_type": "code",
   "execution_count": null,
   "metadata": {},
   "outputs": [],
   "source": []
  },
  {
   "cell_type": "code",
   "execution_count": null,
   "metadata": {},
   "outputs": [],
   "source": []
  },
  {
   "cell_type": "code",
   "execution_count": 75,
   "metadata": {},
   "outputs": [],
   "source": [
    "feed.reset_index(drop=True, inplace=True)\n",
    "counts.reset_index(drop=True, inplace=True)"
   ]
  },
  {
   "cell_type": "code",
   "execution_count": 76,
   "metadata": {},
   "outputs": [],
   "source": [
    "merged = pd.concat([feed, counts], axis=1)"
   ]
  },
  {
   "cell_type": "code",
   "execution_count": 77,
   "metadata": {},
   "outputs": [],
   "source": [
    "merged['counts_sum'] = counts_sum"
   ]
  },
  {
   "cell_type": "code",
   "execution_count": 78,
   "metadata": {},
   "outputs": [],
   "source": [
    "merged = merged[merged['counts_sum'] > 0]"
   ]
  },
  {
   "cell_type": "code",
   "execution_count": 79,
   "metadata": {},
   "outputs": [],
   "source": [
    "#merged.to_csv(\"vet_check_1.csv\", index=False)"
   ]
  },
  {
   "cell_type": "code",
   "execution_count": 150,
   "metadata": {},
   "outputs": [],
   "source": [
    "results = []\n",
    "for index, row in merged.iloc[300:,].iterrows():\n",
    "    doc = '''\n",
    "    \n",
    "    [[AdvancedFormat]]\n",
    "    \n",
    "    [[Question:MC:SingleAnswer:Vertical]]\n",
    "    [[ID:{0}]]\n",
    "    {1}\n",
    "    [[Choices]]\n",
    "    True Positive\n",
    "    False Positive\n",
    "    \n",
    "    [[PageBreak]]\n",
    "\n",
    "\n",
    "    '''.format(row['url'],row['fund_description'])\n",
    "    results.append(doc)\n",
    "doc = \"\\n\".join(results)\n",
    "with open(\"vet_survey_1.txt\", \"w\") as text_file:\n",
    "    text_file.write(doc)"
   ]
  },
  {
   "cell_type": "code",
   "execution_count": null,
   "metadata": {},
   "outputs": [],
   "source": []
  },
  {
   "cell_type": "code",
   "execution_count": null,
   "metadata": {},
   "outputs": [],
   "source": []
  },
  {
   "cell_type": "markdown",
   "metadata": {},
   "source": [
    "### Excluding non-English campaigns"
   ]
  },
  {
   "cell_type": "code",
   "execution_count": 3,
   "metadata": {},
   "outputs": [],
   "source": [
    "conn = sqlite3.connect(\"gfm.db\")\n",
    "feed = pd.read_sql_query(\"SELECT * FROM feed_tb\", conn)\n",
    "feed = feed.drop_duplicates('url')"
   ]
  },
  {
   "cell_type": "code",
   "execution_count": 3,
   "metadata": {},
   "outputs": [
    {
     "name": "stderr",
     "output_type": "stream",
     "text": [
      "/opt/anaconda3/lib/python3.7/site-packages/bs4/__init__.py:314: UserWarning: \"b'.'\" looks like a filename, not markup. You should probably open this file and pass the filehandle into Beautiful Soup.\n",
      "  ' Beautiful Soup.' % markup)\n",
      "/opt/anaconda3/lib/python3.7/site-packages/bs4/__init__.py:314: UserWarning: \"b'/'\" looks like a filename, not markup. You should probably open this file and pass the filehandle into Beautiful Soup.\n",
      "  ' Beautiful Soup.' % markup)\n"
     ]
    }
   ],
   "source": [
    "feed['fund_description'] = [' '.join(BeautifulSoup(x).findAll(text=True)).replace(u'\\xa0', u' ') for x in feed['fund_description']]\n",
    "feed['fund_description'] = [x.replace('\\n','') for x in feed['fund_description']]"
   ]
  },
  {
   "cell_type": "code",
   "execution_count": 4,
   "metadata": {},
   "outputs": [
    {
     "name": "stderr",
     "output_type": "stream",
     "text": [
      "/opt/anaconda3/lib/python3.7/site-packages/bs4/__init__.py:314: UserWarning: \"b'.'\" looks like a filename, not markup. You should probably open this file and pass the filehandle into Beautiful Soup.\n",
      "  ' Beautiful Soup.' % markup)\n",
      "/opt/anaconda3/lib/python3.7/site-packages/bs4/__init__.py:314: UserWarning: \"b'/'\" looks like a filename, not markup. You should probably open this file and pass the filehandle into Beautiful Soup.\n",
      "  ' Beautiful Soup.' % markup)\n"
     ]
    }
   ],
   "source": [
    "feed = feed.drop_duplicates('url')\n",
    "feed['fund_description'] = [' '.join(BeautifulSoup(x).findAll(text=True)).replace(u'\\xa0', u' ') for x in feed['fund_description']]\n",
    "#feed['fund_description'] = feed['fund_description'].str.lower()\n",
    "feed['fund_description'] = [x.replace('\\n','') for x in feed['fund_description']]\n",
    "feed['nchar']= [len(x) for x in feed['fund_description']]\n",
    "feed = feed[feed['nchar'] >= 100]"
   ]
  },
  {
   "cell_type": "code",
   "execution_count": 5,
   "metadata": {},
   "outputs": [],
   "source": [
    "def GetLanguage(df):\n",
    "    path_to_pretrained_model = 'fasttext_models/lid.176.bin'\n",
    "    fmodel = fasttext.load_model(path_to_pretrained_model)\n",
    "    r = fmodel.predict(feed['fund_description'].to_list())\n",
    "    labels = r[0]\n",
    "    labels = [i[0].split('__')[2] for i in labels]\n",
    "    scores = r[1]\n",
    "    scores = [i[0] for i in scores]\n",
    "    return labels, scores"
   ]
  },
  {
   "cell_type": "code",
   "execution_count": 6,
   "metadata": {},
   "outputs": [
    {
     "name": "stderr",
     "output_type": "stream",
     "text": [
      "Warning : `load_model` does not return WordVectorModel or SupervisedModel any more, but a `FastText` object which is very similar.\n"
     ]
    }
   ],
   "source": [
    "feed['language'], feed['lang_score'] = GetLanguage(feed)"
   ]
  },
  {
   "cell_type": "code",
   "execution_count": 7,
   "metadata": {},
   "outputs": [],
   "source": [
    "feed = feed[feed['language'] == 'en']"
   ]
  },
  {
   "cell_type": "code",
   "execution_count": 8,
   "metadata": {},
   "outputs": [
    {
     "data": {
      "text/plain": [
       "89506"
      ]
     },
     "execution_count": 8,
     "metadata": {},
     "output_type": "execute_result"
    }
   ],
   "source": [
    "len(feed)"
   ]
  },
  {
   "cell_type": "code",
   "execution_count": null,
   "metadata": {},
   "outputs": [],
   "source": []
  },
  {
   "cell_type": "code",
   "execution_count": null,
   "metadata": {},
   "outputs": [],
   "source": []
  },
  {
   "cell_type": "code",
   "execution_count": null,
   "metadata": {},
   "outputs": [],
   "source": []
  },
  {
   "cell_type": "markdown",
   "metadata": {},
   "source": [
    "### Super earners"
   ]
  },
  {
   "cell_type": "code",
   "execution_count": 9,
   "metadata": {},
   "outputs": [
    {
     "data": {
      "text/plain": [
       "89506"
      ]
     },
     "execution_count": 9,
     "metadata": {},
     "output_type": "execute_result"
    }
   ],
   "source": [
    "feed['url'].nunique()"
   ]
  },
  {
   "cell_type": "code",
   "execution_count": 10,
   "metadata": {},
   "outputs": [
    {
     "data": {
      "text/plain": [
       "685"
      ]
     },
     "execution_count": 10,
     "metadata": {},
     "output_type": "execute_result"
    }
   ],
   "source": [
    "len(feed[(feed['current_amount'] < 100_000) & (feed['current_amount'] > 50_000)])"
   ]
  },
  {
   "cell_type": "code",
   "execution_count": 11,
   "metadata": {},
   "outputs": [
    {
     "data": {
      "text/plain": [
       "0.100      785.00\n",
       "0.500     3310.00\n",
       "0.600     4300.00\n",
       "0.700     5730.00\n",
       "0.800     8255.00\n",
       "0.900    13760.00\n",
       "0.950    21358.50\n",
       "0.995    64604.25\n",
       "Name: current_amount, dtype: float64"
      ]
     },
     "execution_count": 11,
     "metadata": {},
     "output_type": "execute_result"
    }
   ],
   "source": [
    "feed['current_amount'].quantile([.1,.5,.6,.7,.8,.9,.95,.995])"
   ]
  },
  {
   "cell_type": "code",
   "execution_count": 12,
   "metadata": {},
   "outputs": [
    {
     "data": {
      "text/plain": [
       "count      157.000000\n",
       "mean      2180.656051\n",
       "std       3381.199115\n",
       "min          8.000000\n",
       "25%        752.000000\n",
       "50%       1321.000000\n",
       "75%       2140.000000\n",
       "max      25561.000000\n",
       "Name: donation_count, dtype: float64"
      ]
     },
     "execution_count": 12,
     "metadata": {},
     "output_type": "execute_result"
    }
   ],
   "source": [
    "feed[feed['current_amount'] > 100_000]['donation_count'].describe()"
   ]
  },
  {
   "cell_type": "code",
   "execution_count": 13,
   "metadata": {},
   "outputs": [],
   "source": [
    "feed['earner_category'] = np.where(feed['current_amount'] > 100_000, 'se', 'non_se')"
   ]
  },
  {
   "cell_type": "code",
   "execution_count": 14,
   "metadata": {},
   "outputs": [],
   "source": [
    "se = feed[feed['earner_category'] == 'se']"
   ]
  },
  {
   "cell_type": "code",
   "execution_count": 15,
   "metadata": {},
   "outputs": [],
   "source": [
    "non_se = feed[feed['earner_category'] == 'non_se']"
   ]
  },
  {
   "cell_type": "markdown",
   "metadata": {},
   "source": [
    "### How much do super earners ask for?"
   ]
  },
  {
   "cell_type": "code",
   "execution_count": 16,
   "metadata": {},
   "outputs": [
    {
     "data": {
      "text/plain": [
       "<matplotlib.axes._subplots.AxesSubplot at 0x7ff69f03e950>"
      ]
     },
     "execution_count": 16,
     "metadata": {},
     "output_type": "execute_result"
    },
    {
     "data": {
      "image/png": "[encoded data removed]",
      "text/plain": [
       "<Figure size 432x288 with 1 Axes>"
      ]
     },
     "metadata": {
      "needs_background": "light"
     },
     "output_type": "display_data"
    }
   ],
   "source": [
    "se['goal_amount'].hist(bins=50)"
   ]
  },
  {
   "cell_type": "code",
   "execution_count": 17,
   "metadata": {},
   "outputs": [
    {
     "data": {
      "text/plain": [
       "0.00        100.0\n",
       "0.25     110000.0\n",
       "0.50     187000.0\n",
       "0.75     250000.0\n",
       "1.00    2695000.0\n",
       "Name: goal_amount, dtype: float64"
      ]
     },
     "execution_count": 17,
     "metadata": {},
     "output_type": "execute_result"
    }
   ],
   "source": [
    "se['goal_amount'].quantile([0,.25,.5,.75, 1])"
   ]
  },
  {
   "cell_type": "markdown",
   "metadata": {},
   "source": [
    "### Control group # 1: Super earner fails\n",
    "\n",
    "- First, we will assign super earners to a goal amount quartile\n",
    "- Second, we will randomly sample 1x campaigns in that goal amount quartile who make < 100_000 and start within 6 months of corresponding super earner"
   ]
  },
  {
   "cell_type": "code",
   "execution_count": 18,
   "metadata": {},
   "outputs": [
    {
     "name": "stderr",
     "output_type": "stream",
     "text": [
      "/opt/anaconda3/lib/python3.7/site-packages/ipykernel_launcher.py:1: SettingWithCopyWarning: \n",
      "A value is trying to be set on a copy of a slice from a DataFrame.\n",
      "Try using .loc[row_indexer,col_indexer] = value instead\n",
      "\n",
      "See the caveats in the documentation: https://pandas.pydata.org/pandas-docs/stable/user_guide/indexing.html#returning-a-view-versus-a-copy\n",
      "  \"\"\"Entry point for launching an IPython kernel.\n"
     ]
    }
   ],
   "source": [
    "se['quart'] = pd.qcut(se['goal_amount'], 4, labels=False)"
   ]
  },
  {
   "cell_type": "code",
   "execution_count": 19,
   "metadata": {},
   "outputs": [],
   "source": [
    "from copy import deepcopy\n",
    "from dateutil.relativedelta import relativedelta"
   ]
  },
  {
   "cell_type": "code",
   "execution_count": 20,
   "metadata": {},
   "outputs": [],
   "source": [
    "def GetControl1(se, non_se):\n",
    "    #define results container to store urls of control campaigns\n",
    "    r = []\n",
    "    #define copy of non_se pool\n",
    "    non_se_copy = deepcopy(non_se)\n",
    "    #ensure dates are properly formatted\n",
    "    se['launch_date'] = pd.to_datetime(se['launch_date'], utc=True)  \n",
    "    non_se_copy['launch_date'] = pd.to_datetime(non_se_copy['launch_date'], utc=True) \n",
    "    #loop through SE campaigns, sample\n",
    "    for index, row in se.iterrows():\n",
    "        quart = row['quart']\n",
    "        date = row['launch_date']\n",
    "        #get subset of candidate campaigns based on goal amount quartile\n",
    "        if quart == 0:\n",
    "            cand = non_se_copy[(non_se_copy['goal_amount'] > 100) & (non_se_copy['goal_amount'] <= 110000)]\n",
    "        elif quart == 1:\n",
    "            cand = non_se_copy[(non_se_copy['goal_amount'] > 110000) & (non_se_copy['goal_amount'] <= 187000)]\n",
    "        elif quart == 2:\n",
    "            cand = non_se_copy[(non_se_copy['goal_amount'] > 187000) & (non_se_copy['goal_amount'] <= 250000)]\n",
    "        elif quart == 3:\n",
    "            cand = non_se_copy[(non_se_copy['goal_amount'] > 250000) & (non_se_copy['goal_amount'] <= 2695000)]\n",
    "        #subset candidate campaigns based on launch date\n",
    "        six_mo_before = date + relativedelta(months=-3)\n",
    "        six_mo_after = date + relativedelta(months=+3)\n",
    "        date_mask = (cand['launch_date'] >= six_mo_before) & (cand['launch_date'] <= six_mo_after)\n",
    "        cand = cand.loc[date_mask]\n",
    "        if len(cand) < 2:\n",
    "            print('no candidates for {0}'.format(row['url']))\n",
    "            continue\n",
    "        #sample candidate campaigns 1:1\n",
    "        cand = cand.sample(1)\n",
    "        #store urls in results container\n",
    "        [r.append(url) for url in cand['url'].tolist()]\n",
    "        #remove urls in results from candidate pool\n",
    "        non_se_copy = non_se_copy[~non_se_copy['url'].isin(r)]\n",
    "\n",
    "    return r"
   ]
  },
  {
   "cell_type": "code",
   "execution_count": 24,
   "metadata": {},
   "outputs": [
    {
     "name": "stderr",
     "output_type": "stream",
     "text": [
      "/opt/anaconda3/lib/python3.7/site-packages/ipykernel_launcher.py:7: SettingWithCopyWarning: \n",
      "A value is trying to be set on a copy of a slice from a DataFrame.\n",
      "Try using .loc[row_indexer,col_indexer] = value instead\n",
      "\n",
      "See the caveats in the documentation: https://pandas.pydata.org/pandas-docs/stable/user_guide/indexing.html#returning-a-view-versus-a-copy\n",
      "  import sys\n"
     ]
    }
   ],
   "source": [
    "con_1_urls = GetControl1(se, non_se)"
   ]
  },
  {
   "cell_type": "code",
   "execution_count": 25,
   "metadata": {},
   "outputs": [],
   "source": [
    "con_1 = non_se[non_se['url'].isin(con_1_urls)]"
   ]
  },
  {
   "cell_type": "code",
   "execution_count": 26,
   "metadata": {},
   "outputs": [
    {
     "data": {
      "text/plain": [
       "<matplotlib.axes._subplots.AxesSubplot at 0x7ff662c33550>"
      ]
     },
     "execution_count": 26,
     "metadata": {},
     "output_type": "execute_result"
    },
    {
     "data": {
      "image/png": "[encoded data removed]",
      "text/plain": [
       "<Figure size 432x288 with 1 Axes>"
      ]
     },
     "metadata": {
      "needs_background": "light"
     },
     "output_type": "display_data"
    }
   ],
   "source": [
    "con_1['goal_amount'].hist(bins=50)"
   ]
  },
  {
   "cell_type": "markdown",
   "metadata": {},
   "source": [
    "### Control group # 2: Average campaign\n",
    "- we will randomly sample 1x remaining campaigns that start within 6 months of corresponding super earner"
   ]
  },
  {
   "cell_type": "code",
   "execution_count": 27,
   "metadata": {},
   "outputs": [],
   "source": [
    "def GetControl2(se, non_se):\n",
    "    #define results container to store urls of control campaigns\n",
    "    r = []\n",
    "    #define copy of non_se pool\n",
    "    non_se_copy = deepcopy(non_se)\n",
    "    #ensure dates are properly formatted\n",
    "    se['launch_date'] = pd.to_datetime(se['launch_date'], utc=True)  \n",
    "    non_se_copy['launch_date'] = pd.to_datetime(non_se_copy['launch_date'], utc=True) \n",
    "    #loop through SE campaigns, sample\n",
    "    for index, row in se.iterrows():\n",
    "        date = row['launch_date']\n",
    "        #subset candidate campaigns based on launch date\n",
    "        six_mo_before = date + relativedelta(months=-3)\n",
    "        six_mo_after = date + relativedelta(months=+3)\n",
    "        cand = non_se_copy\n",
    "        date_mask = (cand['launch_date'] >= six_mo_before) & (cand['launch_date'] <= six_mo_after)\n",
    "        cand = cand.loc[date_mask]\n",
    "        if len(cand) < 2:\n",
    "            print('no candidates for {0}'.format(row['url']))\n",
    "            continue\n",
    "        #sample candidate campaigns 1:1\n",
    "        cand = cand.sample(1)\n",
    "        #store urls in results container\n",
    "        [r.append(url) for url in cand['url'].tolist()]\n",
    "        #remove urls in results from candidate pool\n",
    "        non_se_copy = non_se_copy[~non_se_copy['url'].isin(r)]\n",
    "\n",
    "    return r"
   ]
  },
  {
   "cell_type": "code",
   "execution_count": 28,
   "metadata": {},
   "outputs": [
    {
     "name": "stderr",
     "output_type": "stream",
     "text": [
      "/opt/anaconda3/lib/python3.7/site-packages/ipykernel_launcher.py:7: SettingWithCopyWarning: \n",
      "A value is trying to be set on a copy of a slice from a DataFrame.\n",
      "Try using .loc[row_indexer,col_indexer] = value instead\n",
      "\n",
      "See the caveats in the documentation: https://pandas.pydata.org/pandas-docs/stable/user_guide/indexing.html#returning-a-view-versus-a-copy\n",
      "  import sys\n"
     ]
    }
   ],
   "source": [
    "con_2_urls = GetControl2(se, non_se[~non_se['url'].isin(con_1['url'].tolist())])"
   ]
  },
  {
   "cell_type": "code",
   "execution_count": 31,
   "metadata": {},
   "outputs": [],
   "source": [
    "con_2 = non_se[non_se['url'].isin(con_2_urls)]"
   ]
  },
  {
   "cell_type": "code",
   "execution_count": 32,
   "metadata": {},
   "outputs": [
    {
     "data": {
      "text/plain": [
       "<matplotlib.axes._subplots.AxesSubplot at 0x7ff662df7710>"
      ]
     },
     "execution_count": 32,
     "metadata": {},
     "output_type": "execute_result"
    },
    {
     "data": {
      "image/png": "[encoded data removed]",
      "text/plain": [
       "<Figure size 432x288 with 1 Axes>"
      ]
     },
     "metadata": {
      "needs_background": "light"
     },
     "output_type": "display_data"
    }
   ],
   "source": [
    "con_2['goal_amount'].hist(bins=50)"
   ]
  },
  {
   "cell_type": "markdown",
   "metadata": {},
   "source": [
    "### Plot together"
   ]
  },
  {
   "cell_type": "code",
   "execution_count": 33,
   "metadata": {},
   "outputs": [
    {
     "name": "stderr",
     "output_type": "stream",
     "text": [
      "/opt/anaconda3/lib/python3.7/site-packages/ipykernel_launcher.py:3: SettingWithCopyWarning: \n",
      "A value is trying to be set on a copy of a slice from a DataFrame.\n",
      "Try using .loc[row_indexer,col_indexer] = value instead\n",
      "\n",
      "See the caveats in the documentation: https://pandas.pydata.org/pandas-docs/stable/user_guide/indexing.html#returning-a-view-versus-a-copy\n",
      "  This is separate from the ipykernel package so we can avoid doing imports until\n",
      "/opt/anaconda3/lib/python3.7/site-packages/ipykernel_launcher.py:4: SettingWithCopyWarning: \n",
      "A value is trying to be set on a copy of a slice from a DataFrame.\n",
      "Try using .loc[row_indexer,col_indexer] = value instead\n",
      "\n",
      "See the caveats in the documentation: https://pandas.pydata.org/pandas-docs/stable/user_guide/indexing.html#returning-a-view-versus-a-copy\n",
      "  after removing the cwd from sys.path.\n",
      "/opt/anaconda3/lib/python3.7/site-packages/ipykernel_launcher.py:5: SettingWithCopyWarning: \n",
      "A value is trying to be set on a copy of a slice from a DataFrame.\n",
      "Try using .loc[row_indexer,col_indexer] = value instead\n",
      "\n",
      "See the caveats in the documentation: https://pandas.pydata.org/pandas-docs/stable/user_guide/indexing.html#returning-a-view-versus-a-copy\n",
      "  \"\"\"\n"
     ]
    },
    {
     "data": {
      "text/plain": [
       "Text(0, 0.5, 'Frequency')"
      ]
     },
     "execution_count": 33,
     "metadata": {},
     "output_type": "execute_result"
    },
    {
     "data": {
      "image/png": "[encoded data removed]",
      "text/plain": [
       "<Figure size 1080x216 with 3 Axes>"
      ]
     },
     "metadata": {
      "needs_background": "light"
     },
     "output_type": "display_data"
    }
   ],
   "source": [
    "fig, axes = plt.subplots(1, 3, figsize=(15,3))\n",
    "\n",
    "se['goal_amount_div'] = se['goal_amount']/1000000\n",
    "con_1['goal_amount_div'] = con_1['goal_amount']/1000000\n",
    "con_2['goal_amount_div'] = con_2['goal_amount']/1000000\n",
    "\n",
    "se.hist('goal_amount_div', bins=50, ax=axes[0], range=[0, 3])\n",
    "con_1.hist('goal_amount_div', bins=50, ax=axes[1], range=[0, 3])\n",
    "con_2.hist('goal_amount_div', bins=50, ax=axes[2], range=[0, 3])\n",
    "\n",
    "axes[0].set_title('SE')\n",
    "axes[1].set_title('CON1')\n",
    "axes[2].set_title('CON2')\n",
    "\n",
    "axes[0].set_xlabel(\"Goal Amount ($ millions)\")\n",
    "axes[1].set_xlabel(\"Goal Amount ($ millions)\")\n",
    "axes[2].set_xlabel(\"Goal Amount ($ millions)\")\n",
    "\n",
    "axes[0].set_ylabel(\"Frequency\")\n",
    "axes[1].set_ylabel(\"Frequency\")\n",
    "axes[2].set_ylabel(\"Frequency\")"
   ]
  },
  {
   "cell_type": "markdown",
   "metadata": {},
   "source": [
    "### Prepare data for export"
   ]
  },
  {
   "cell_type": "code",
   "execution_count": 38,
   "metadata": {},
   "outputs": [
    {
     "name": "stderr",
     "output_type": "stream",
     "text": [
      "/opt/anaconda3/lib/python3.7/site-packages/pandas/core/indexing.py:965: SettingWithCopyWarning: \n",
      "A value is trying to be set on a copy of a slice from a DataFrame.\n",
      "Try using .loc[row_indexer,col_indexer] = value instead\n",
      "\n",
      "See the caveats in the documentation: https://pandas.pydata.org/pandas-docs/stable/user_guide/indexing.html#returning-a-view-versus-a-copy\n",
      "  self.obj[item] = s\n"
     ]
    }
   ],
   "source": [
    "se.loc[:,'group'] = ['super_earner' for x in range(len(se))]\n",
    "con_1.loc[:,'group'] = ['con_1' for x in range(len(con_1))]\n",
    "con_2.loc[:,'group'] = ['con_2' for x in range(len(con_2))]"
   ]
  },
  {
   "cell_type": "code",
   "execution_count": 39,
   "metadata": {},
   "outputs": [
    {
     "name": "stdout",
     "output_type": "stream",
     "text": [
      "(157, 73)\n",
      "(157, 72)\n",
      "(157, 72)\n"
     ]
    }
   ],
   "source": [
    "print(se.shape)\n",
    "print(con_1.shape)\n",
    "print(con_2.shape)"
   ]
  },
  {
   "cell_type": "code",
   "execution_count": 41,
   "metadata": {},
   "outputs": [],
   "source": [
    "df = pd.concat([se, con_1, con_2])"
   ]
  },
  {
   "cell_type": "code",
   "execution_count": 42,
   "metadata": {},
   "outputs": [],
   "source": [
    "df = df[['url','fund_name','fund_description','group']]"
   ]
  },
  {
   "cell_type": "code",
   "execution_count": 44,
   "metadata": {},
   "outputs": [],
   "source": [
    "df.to_csv('Super earners/Ada/super_earner_data.csv', index=False)"
   ]
  },
  {
   "cell_type": "code",
   "execution_count": null,
   "metadata": {},
   "outputs": [],
   "source": []
  },
  {
   "cell_type": "code",
   "execution_count": 46,
   "metadata": {},
   "outputs": [
    {
     "data": {
      "text/plain": [
       "'https://www.gofundme.com/f/lets-kick-cancer-in-the'"
      ]
     },
     "execution_count": 46,
     "metadata": {},
     "output_type": "execute_result"
    }
   ],
   "source": [
    "feed['url'][feed['url'].str.contains('lets-kick-cancer-in')][10158]"
   ]
  },
  {
   "cell_type": "code",
   "execution_count": null,
   "metadata": {},
   "outputs": [],
   "source": []
  },
  {
   "cell_type": "code",
   "execution_count": null,
   "metadata": {},
   "outputs": [],
   "source": []
  },
  {
   "cell_type": "markdown",
   "metadata": {},
   "source": [
    "### Exploratory data analysis"
   ]
  },
  {
   "cell_type": "code",
   "execution_count": 8,
   "metadata": {},
   "outputs": [
    {
     "data": {
      "text/plain": [
       "2010        6\n",
       "2011       32\n",
       "2012      133\n",
       "2013     1054\n",
       "2014     8161\n",
       "2015    20486\n",
       "2016    15123\n",
       "2017    10488\n",
       "2018    11632\n",
       "2019    16468\n",
       "2020    16360\n",
       "Name: year, dtype: int64"
      ]
     },
     "execution_count": 8,
     "metadata": {},
     "output_type": "execute_result"
    }
   ],
   "source": [
    "feed['year'].value_counts().sort_index()"
   ]
  },
  {
   "cell_type": "code",
   "execution_count": 12,
   "metadata": {},
   "outputs": [],
   "source": [
    "feed = feed[feed.goal_amount < feed.goal_amount.quantile(.99)]"
   ]
  },
  {
   "cell_type": "code",
   "execution_count": 13,
   "metadata": {},
   "outputs": [
    {
     "data": {
      "text/plain": [
       "<matplotlib.axes._subplots.AxesSubplot at 0x7f82f5fb9410>"
      ]
     },
     "execution_count": 13,
     "metadata": {},
     "output_type": "execute_result"
    },
    {
     "data": {
      "image/png": "[encoded data removed]",
      "text/plain": [
       "<Figure size 432x288 with 1 Axes>"
      ]
     },
     "metadata": {
      "needs_background": "light"
     },
     "output_type": "display_data"
    }
   ],
   "source": [
    "sns.pointplot(data=feed, x='year', y='goal_amount', join=False, capsize=0.2)"
   ]
  },
  {
   "cell_type": "code",
   "execution_count": 10,
   "metadata": {},
   "outputs": [
    {
     "data": {
      "text/plain": [
       "<matplotlib.axes._subplots.AxesSubplot at 0x7f82f377f810>"
      ]
     },
     "execution_count": 10,
     "metadata": {},
     "output_type": "execute_result"
    },
    {
     "data": {
      "image/png": "[encoded data removed]",
      "text/plain": [
       "<Figure size 432x288 with 1 Axes>"
      ]
     },
     "metadata": {
      "needs_background": "light"
     },
     "output_type": "display_data"
    }
   ],
   "source": [
    "sns.pointplot(data=feed, x='year', y='current_amount', join=False, capsize=0.2)"
   ]
  },
  {
   "cell_type": "code",
   "execution_count": 13,
   "metadata": {},
   "outputs": [
    {
     "data": {
      "text/plain": [
       "<matplotlib.axes._subplots.AxesSubplot at 0x7ff6f403fbd0>"
      ]
     },
     "execution_count": 13,
     "metadata": {},
     "output_type": "execute_result"
    },
    {
     "data": {
      "image/png": "[encoded data removed]",
      "text/plain": [
       "<Figure size 432x288 with 1 Axes>"
      ]
     },
     "metadata": {
      "needs_background": "light"
     },
     "output_type": "display_data"
    }
   ],
   "source": [
    "sns.barplot(data=feed, x='year', y='donation_count')"
   ]
  },
  {
   "cell_type": "code",
   "execution_count": 18,
   "metadata": {},
   "outputs": [
    {
     "data": {
      "text/plain": [
       "<matplotlib.axes._subplots.AxesSubplot at 0x7ff6f45a9990>"
      ]
     },
     "execution_count": 18,
     "metadata": {},
     "output_type": "execute_result"
    },
    {
     "data": {
      "image/png": "[encoded data removed]",
      "text/plain": [
       "<Figure size 432x288 with 1 Axes>"
      ]
     },
     "metadata": {
      "needs_background": "light"
     },
     "output_type": "display_data"
    }
   ],
   "source": [
    "sns.barplot(data=feed, x='year', y='per_raised')"
   ]
  },
  {
   "cell_type": "code",
   "execution_count": 21,
   "metadata": {},
   "outputs": [
    {
     "data": {
      "text/plain": [
       "<matplotlib.axes._subplots.AxesSubplot at 0x7ff6f42dc790>"
      ]
     },
     "execution_count": 21,
     "metadata": {},
     "output_type": "execute_result"
    },
    {
     "data": {
      "image/png": "[encoded data removed]",
      "text/plain": [
       "<Figure size 432x288 with 1 Axes>"
      ]
     },
     "metadata": {
      "needs_background": "light"
     },
     "output_type": "display_data"
    }
   ],
   "source": [
    "sns.barplot(data=feed, x='year', y='hit_goal')"
   ]
  },
  {
   "cell_type": "code",
   "execution_count": 26,
   "metadata": {},
   "outputs": [
    {
     "data": {
      "text/plain": [
       "<matplotlib.axes._subplots.AxesSubplot at 0x7ff62a9f34d0>"
      ]
     },
     "execution_count": 26,
     "metadata": {},
     "output_type": "execute_result"
    },
    {
     "data": {
      "image/png": "[encoded data removed]",
      "text/plain": [
       "<Figure size 432x288 with 1 Axes>"
      ]
     },
     "metadata": {
      "needs_background": "light"
     },
     "output_type": "display_data"
    }
   ],
   "source": [
    "sns.scatterplot(data=feed, x='donation_count', y='per_raised')"
   ]
  },
  {
   "cell_type": "code",
   "execution_count": 29,
   "metadata": {},
   "outputs": [
    {
     "data": {
      "text/plain": [
       "count    99943.000000\n",
       "mean        27.305981\n",
       "std        806.788960\n",
       "min          0.000000\n",
       "25%          0.189700\n",
       "50%          0.431000\n",
       "75%          0.794000\n",
       "max      92013.000000\n",
       "Name: per_raised, dtype: float64"
      ]
     },
     "execution_count": 29,
     "metadata": {},
     "output_type": "execute_result"
    }
   ],
   "source": [
    "feed['per_raised'].describe()"
   ]
  },
  {
   "cell_type": "code",
   "execution_count": 30,
   "metadata": {},
   "outputs": [],
   "source": [
    "feed = feed[feed.per_raised < feed.per_raised.quantile(.95)]"
   ]
  },
  {
   "cell_type": "code",
   "execution_count": 31,
   "metadata": {},
   "outputs": [
    {
     "data": {
      "text/plain": [
       "count    94945.000000\n",
       "mean         0.472191\n",
       "std          0.343757\n",
       "min          0.000000\n",
       "25%          0.180000\n",
       "50%          0.402500\n",
       "75%          0.730000\n",
       "max          1.360500\n",
       "Name: per_raised, dtype: float64"
      ]
     },
     "execution_count": 31,
     "metadata": {},
     "output_type": "execute_result"
    }
   ],
   "source": [
    "feed['per_raised'].describe()"
   ]
  },
  {
   "cell_type": "code",
   "execution_count": 32,
   "metadata": {},
   "outputs": [
    {
     "data": {
      "text/plain": [
       "<matplotlib.axes._subplots.AxesSubplot at 0x7ff6ce9ad910>"
      ]
     },
     "execution_count": 32,
     "metadata": {},
     "output_type": "execute_result"
    },
    {
     "data": {
      "image/png": "[encoded data removed]",
      "text/plain": [
       "<Figure size 432x288 with 1 Axes>"
      ]
     },
     "metadata": {
      "needs_background": "light"
     },
     "output_type": "display_data"
    }
   ],
   "source": [
    "sns.scatterplot(data=feed, x='donation_count', y='per_raised')"
   ]
  },
  {
   "cell_type": "code",
   "execution_count": 33,
   "metadata": {},
   "outputs": [],
   "source": [
    "feed = feed[feed.donation_count < feed.donation_count.quantile(.95)]"
   ]
  },
  {
   "cell_type": "code",
   "execution_count": 34,
   "metadata": {},
   "outputs": [
    {
     "data": {
      "text/plain": [
       "<matplotlib.axes._subplots.AxesSubplot at 0x7ff6df080f50>"
      ]
     },
     "execution_count": 34,
     "metadata": {},
     "output_type": "execute_result"
    },
    {
     "data": {
      "image/png": "[encoded data removed]",
      "text/plain": [
       "<Figure size 432x288 with 1 Axes>"
      ]
     },
     "metadata": {
      "needs_background": "light"
     },
     "output_type": "display_data"
    }
   ],
   "source": [
    "sns.scatterplot(data=feed, x='donation_count', y='per_raised')"
   ]
  },
  {
   "cell_type": "code",
   "execution_count": 35,
   "metadata": {},
   "outputs": [
    {
     "data": {
      "text/plain": [
       "count    90156.000000\n",
       "mean        48.749334\n",
       "std         39.981108\n",
       "min          0.000000\n",
       "25%         21.000000\n",
       "50%         37.000000\n",
       "75%         65.000000\n",
       "max        199.000000\n",
       "Name: donation_count, dtype: float64"
      ]
     },
     "execution_count": 35,
     "metadata": {},
     "output_type": "execute_result"
    }
   ],
   "source": [
    "feed['donation_count'].describe()"
   ]
  },
  {
   "cell_type": "code",
   "execution_count": 39,
   "metadata": {},
   "outputs": [
    {
     "data": {
      "text/plain": [
       "1989"
      ]
     },
     "execution_count": 39,
     "metadata": {},
     "output_type": "execute_result"
    }
   ],
   "source": [
    "sum(sum([feed['donation_count'] == 0]))"
   ]
  },
  {
   "cell_type": "code",
   "execution_count": null,
   "metadata": {},
   "outputs": [],
   "source": []
  }
 ],
 "metadata": {
  "kernelspec": {
   "display_name": "Python 3",
   "language": "python",
   "name": "python3"
  },
  "language_info": {
   "codemirror_mode": {
    "name": "ipython",
    "version": 3
   },
   "file_extension": ".py",
   "mimetype": "text/x-python",
   "name": "python",
   "nbconvert_exporter": "python",
   "pygments_lexer": "ipython3",
   "version": "3.7.6"
  }
 },
 "nbformat": 4,
 "nbformat_minor": 4
}
