{
 "cells": [
  {
   "cell_type": "markdown",
   "metadata": {},
   "source": [
    "### Import packages"
   ]
  },
  {
   "cell_type": "code",
   "execution_count": 1,
   "metadata": {},
   "outputs": [],
   "source": [
    "import sqlite3\n",
    "import pandas as pd\n",
    "import json\n",
    "from itertools import chain\n",
    "from random import sample\n",
    "import numpy as np\n",
    "import os\n",
    "from bs4 import BeautifulSoup\n",
    "import string\n",
    "import re\n",
    "import xmltodict\n",
    "from xml.etree import ElementTree as ET\n",
    "import requests\n",
    "import json\n",
    "import seaborn as sns\n",
    "import matplotlib.pyplot as plt\n",
    "import zipcodes\n",
    "import fasttext\n",
    "from collections import Counter"
   ]
  },
  {
   "cell_type": "markdown",
   "metadata": {},
   "source": [
    "### Query database"
   ]
  },
  {
   "cell_type": "code",
   "execution_count": 2,
   "metadata": {},
   "outputs": [],
   "source": [
    "conn = sqlite3.connect(\"gfm.db\")\n",
    "feed = pd.read_sql_query(\"SELECT url, fund_description FROM feed_tb\", conn)"
   ]
  },
  {
   "cell_type": "markdown",
   "metadata": {},
   "source": [
    "### Prepare data"
   ]
  },
  {
   "cell_type": "code",
   "execution_count": 3,
   "metadata": {},
   "outputs": [
    {
     "name": "stderr",
     "output_type": "stream",
     "text": [
      "/opt/anaconda3/lib/python3.7/site-packages/bs4/__init__.py:314: UserWarning: \"b'.'\" looks like a filename, not markup. You should probably open this file and pass the filehandle into Beautiful Soup.\n",
      "  ' Beautiful Soup.' % markup)\n",
      "/opt/anaconda3/lib/python3.7/site-packages/bs4/__init__.py:314: UserWarning: \"b'/'\" looks like a filename, not markup. You should probably open this file and pass the filehandle into Beautiful Soup.\n",
      "  ' Beautiful Soup.' % markup)\n"
     ]
    }
   ],
   "source": [
    "feed = feed.drop_duplicates('url')\n",
    "feed['fund_description'] = [' '.join(BeautifulSoup(x).findAll(text=True)).replace(u'\\xa0', u' ') for x in feed['fund_description']]\n",
    "feed['fund_description'] = feed['fund_description'].str.lower()\n",
    "feed['fund_description'] = [x.replace('\\n','') for x in feed['fund_description']]\n",
    "feed['nchar']= [len(x) for x in feed['fund_description']]\n",
    "feed = feed[feed['nchar'] >= 500]"
   ]
  },
  {
   "cell_type": "code",
   "execution_count": 4,
   "metadata": {},
   "outputs": [],
   "source": [
    "def GetLanguage(df):\n",
    "    path_to_pretrained_model = 'models/lid.176.bin'\n",
    "    fmodel = fasttext.load_model(path_to_pretrained_model)\n",
    "    r = fmodel.predict(feed['fund_description'].to_list())\n",
    "    labels = r[0]\n",
    "    labels = [i[0].split('__')[2] for i in labels]\n",
    "    scores = r[1]\n",
    "    scores = [i[0] for i in scores]\n",
    "    return labels, scores"
   ]
  },
  {
   "cell_type": "code",
   "execution_count": 5,
   "metadata": {},
   "outputs": [
    {
     "name": "stderr",
     "output_type": "stream",
     "text": [
      "Warning : `load_model` does not return WordVectorModel or SupervisedModel any more, but a `FastText` object which is very similar.\n"
     ]
    }
   ],
   "source": [
    "feed['language'], feed['lang_score'] = GetLanguage(feed)"
   ]
  },
  {
   "cell_type": "code",
   "execution_count": 6,
   "metadata": {},
   "outputs": [],
   "source": [
    "feed = feed[feed['language'] == 'en']"
   ]
  },
  {
   "cell_type": "markdown",
   "metadata": {},
   "source": [
    "### Search for terms"
   ]
  },
  {
   "cell_type": "code",
   "execution_count": 7,
   "metadata": {},
   "outputs": [],
   "source": [
    "def CountTerms(df, terms):\n",
    "    '''\n",
    "    input: pandas df of campaign descriptions, list of terms\n",
    "    '''\n",
    "    results = {}\n",
    "    for term in terms:\n",
    "        if type(term) == list:\n",
    "            search_term_0 = r\"\\b{0}\\b\".format(term[0])\n",
    "            search_term_1 = r\"\\b{0}\\b\".format(term[1])\n",
    "            res_0 = np.array(df['fund_description'].str.contains(search_term_0).to_list())\n",
    "            res_1 = np.array(df['fund_description'].str.contains(search_term_1).to_list())\n",
    "            res_and = np.logical_and(res_0, res_1).astype(int).tolist()\n",
    "            label = (\" + \").join(term)\n",
    "            results[label] = res_and\n",
    "        else:\n",
    "            search_term = r\"\\b{0}\\b\".format(term)\n",
    "            results[term] = df['fund_description'].str.contains(search_term).astype(int).to_list()\n",
    "    return results"
   ]
  },
  {
   "cell_type": "code",
   "execution_count": 85,
   "metadata": {},
   "outputs": [],
   "source": [
    "terms = ['lung']"
   ]
  },
  {
   "cell_type": "code",
   "execution_count": 86,
   "metadata": {},
   "outputs": [],
   "source": [
    "count_dict = CountTerms(feed, terms)"
   ]
  },
  {
   "cell_type": "code",
   "execution_count": 117,
   "metadata": {},
   "outputs": [],
   "source": [
    "counts = pd.DataFrame(count_dict)"
   ]
  },
  {
   "cell_type": "code",
   "execution_count": 118,
   "metadata": {},
   "outputs": [],
   "source": [
    "feed.reset_index(drop=True, inplace=True)\n",
    "counts.reset_index(drop=True, inplace=True)"
   ]
  },
  {
   "cell_type": "code",
   "execution_count": 120,
   "metadata": {},
   "outputs": [],
   "source": [
    "df = pd.concat([feed, counts], axis=1)"
   ]
  },
  {
   "cell_type": "code",
   "execution_count": 121,
   "metadata": {},
   "outputs": [
    {
     "data": {
      "text/plain": [
       "0    74124\n",
       "1     4923\n",
       "Name: lung, dtype: int64"
      ]
     },
     "execution_count": 121,
     "metadata": {},
     "output_type": "execute_result"
    }
   ],
   "source": [
    "df['lung'].value_counts()"
   ]
  },
  {
   "cell_type": "markdown",
   "metadata": {},
   "source": [
    "### Get most common terms after 'lung'"
   ]
  },
  {
   "cell_type": "code",
   "execution_count": 122,
   "metadata": {},
   "outputs": [],
   "source": [
    "df = df[df['lung'] == 1]"
   ]
  },
  {
   "cell_type": "code",
   "execution_count": 132,
   "metadata": {},
   "outputs": [],
   "source": [
    "df['terms_after_lung'] = [x.split('lung')[1].split()[0].translate(str.maketrans('', '', string.punctuation)) for x in df['fund_description']]"
   ]
  },
  {
   "cell_type": "code",
   "execution_count": 134,
   "metadata": {},
   "outputs": [],
   "source": [
    "terms_clean = list(filter(None, df['terms_after_lung']))"
   ]
  },
  {
   "cell_type": "code",
   "execution_count": 137,
   "metadata": {},
   "outputs": [],
   "source": [
    "counts = Counter(terms_clean)"
   ]
  },
  {
   "cell_type": "code",
   "execution_count": 150,
   "metadata": {},
   "outputs": [],
   "source": [
    "term_freq = pd.DataFrame.from_dict(counts, orient='index').reset_index()\n",
    "term_freq.columns = ['term','freq']\n",
    "term_freq = term_freq.sort_values(['freq'], ascending=False)"
   ]
  },
  {
   "cell_type": "code",
   "execution_count": 155,
   "metadata": {},
   "outputs": [
    {
     "data": {
      "text/html": [
       "<div>\n",
       "<style scoped>\n",
       "    .dataframe tbody tr th:only-of-type {\n",
       "        vertical-align: middle;\n",
       "    }\n",
       "\n",
       "    .dataframe tbody tr th {\n",
       "        vertical-align: top;\n",
       "    }\n",
       "\n",
       "    .dataframe thead th {\n",
       "        text-align: right;\n",
       "    }\n",
       "</style>\n",
       "<table border=\"1\" class=\"dataframe\">\n",
       "  <thead>\n",
       "    <tr style=\"text-align: right;\">\n",
       "      <th></th>\n",
       "      <th>term</th>\n",
       "      <th>freq</th>\n",
       "    </tr>\n",
       "  </thead>\n",
       "  <tbody>\n",
       "    <tr>\n",
       "      <th>1</th>\n",
       "      <td>cancer</td>\n",
       "      <td>1480</td>\n",
       "    </tr>\n",
       "    <tr>\n",
       "      <th>3</th>\n",
       "      <td>s</td>\n",
       "      <td>645</td>\n",
       "    </tr>\n",
       "    <tr>\n",
       "      <th>7</th>\n",
       "      <td>and</td>\n",
       "      <td>366</td>\n",
       "    </tr>\n",
       "    <tr>\n",
       "      <th>4</th>\n",
       "      <td>transplant</td>\n",
       "      <td>251</td>\n",
       "    </tr>\n",
       "    <tr>\n",
       "      <th>2</th>\n",
       "      <td>disease</td>\n",
       "      <td>202</td>\n",
       "    </tr>\n",
       "  </tbody>\n",
       "</table>\n",
       "</div>"
      ],
      "text/plain": [
       "         term  freq\n",
       "1      cancer  1480\n",
       "3           s   645\n",
       "7         and   366\n",
       "4  transplant   251\n",
       "2     disease   202"
      ]
     },
     "execution_count": 155,
     "metadata": {},
     "output_type": "execute_result"
    }
   ],
   "source": [
    "term_freq.head()"
   ]
  },
  {
   "cell_type": "code",
   "execution_count": 153,
   "metadata": {},
   "outputs": [
    {
     "name": "stdout",
     "output_type": "stream",
     "text": [
      "cancer\n",
      "s\n",
      "and\n",
      "transplant\n",
      "disease\n",
      "infection\n",
      "was\n",
      "that\n",
      "function\n",
      "collapsed\n",
      "issues\n",
      "which\n",
      "capacity\n",
      "condition\n",
      "biopsy\n",
      "failure\n",
      "infections\n",
      "damage\n",
      "is\n",
      "had\n",
      "tissue\n",
      "removed\n",
      "problems\n",
      "surgery\n",
      "to\n",
      "with\n",
      "development\n",
      "machine\n",
      "bypass\n",
      "collapse\n",
      "has\n",
      "in\n",
      "so\n",
      "nodules\n",
      "doctor\n",
      "but\n",
      "area\n",
      "as\n",
      "from\n",
      "injury\n",
      "specialist\n",
      "issue\n",
      "cavity\n",
      "disorder\n",
      "collapsing\n",
      "brain\n",
      "metastasis\n",
      "or\n",
      "carcinoma\n",
      "surgeries\n",
      "diseases\n",
      "puncture\n",
      "complications\n",
      "due\n",
      "functions\n",
      "transplants\n",
      "last\n",
      "association\n",
      "growth\n",
      "making\n",
      "institute\n",
      "blood\n",
      "tests\n",
      "along\n",
      "lobe\n",
      "cancers\n",
      "testing\n",
      "at\n",
      "pain\n",
      "on\n",
      "contusion\n",
      "tumor\n",
      "liver\n",
      "nodule\n",
      "lining\n",
      "partially\n",
      "defect\n",
      "treatments\n",
      "org\n",
      "for\n",
      "clearing\n",
      "fibrosis\n",
      "diease\n",
      "muscles\n",
      "injuries\n",
      "constriction\n",
      "about\n",
      "causing\n",
      "complication\n",
      "also\n",
      "tubes\n",
      "during\n",
      "mass\n",
      "were\n",
      "he\n",
      "ailment\n",
      "right\n",
      "biopsies\n",
      "it\n",
      "requiring\n",
      "clasped\n",
      "conditions\n",
      "pneumonia\n",
      "ct\n",
      "contusions\n",
      "the\n",
      "test\n",
      "full\n",
      "chest\n",
      "fluid\n",
      "cancerand\n",
      "ventilator\n",
      "by\n",
      "region\n",
      "ed\n",
      "where\n",
      "tumors\n",
      "functioning\n",
      "surgeon\n",
      "we\n",
      "bone\n",
      "auscultation\n",
      "transplantnow\n",
      "before\n",
      "hence\n",
      "cancerhe\n",
      "cutoffandaribremovedlater\n",
      "adenocarcinoma\n",
      "lymph\n",
      "among\n",
      "indicating\n",
      "defficiency\n",
      "–\n",
      "shortly\n",
      "problem\n",
      "reserve\n",
      "’s\n",
      "wouldn’t\n",
      "broken\n",
      "whatisidiopathicpulmonaryfibrosis1\n",
      "aggressive\n",
      "upon\n",
      "dialysis\n",
      "taken\n",
      "almost\n",
      "destruction\n",
      "incapable\n",
      "infectionpneumonia\n",
      "spasms\n",
      "friends\n",
      "procedures\n",
      "abrasions\n",
      "looks\n",
      "procedure\n",
      "metastases\n",
      "lobectomy\n",
      "lymphoma\n",
      "stretching\n",
      "disorders\n",
      "most\n",
      "heartstomach\n",
      "bacterial\n",
      "showed\n",
      "i\n",
      "carcinoid\n",
      "punctures\n",
      "cancerwas\n",
      "cancerim\n",
      "yet\n",
      "one\n",
      "life\n",
      "again\n",
      "scan\n",
      "collaped\n",
      "specialists\n",
      "surgey\n",
      "because\n",
      "decease\n",
      "scaring\n",
      "transplantwhen\n",
      "stopping\n",
      "near\n",
      "sounds\n",
      "troubles\n",
      "efficiency\n",
      "pulmonary\n",
      "mets\n",
      "xrays\n",
      "after\n",
      "health\n",
      "resection\n",
      "cancertrying\n",
      "si\n",
      "space\n",
      "cancer…not\n",
      "secretions\n",
      "biopsied\n",
      "defects\n",
      "called\n",
      "liverkidney\n",
      "sac\n",
      "institution\n",
      "volumes\n",
      "formation\n",
      "osteosarcoma\n",
      "deficit\n",
      "looked\n",
      "earlier\n",
      "node\n",
      "es\n",
      "raymond\n",
      "more\n",
      "support\n",
      "they\n",
      "a\n",
      "nov\n",
      "disfunction\n",
      "treatment\n",
      "researchers\n",
      "cancerour\n",
      "thyroid\n",
      "of\n",
      "ailments\n",
      "cancer”\n",
      "infiltration\n",
      "sounded\n",
      "soon\n",
      "amputation\n",
      "iv\n",
      "turned\n",
      "cells\n",
      "started\n",
      "his\n",
      "cancerinvolving\n",
      "masses\n",
      "transfusion\n",
      "canceryou\n",
      "needed\n",
      "just\n",
      "capasity\n",
      "yesterday\n",
      "nonsmokers\n",
      "heart\n",
      "operations\n",
      "illness\n",
      "needs\n",
      "immaturity\n",
      "associated\n",
      "carciona\n",
      "inflammation\n",
      "began\n",
      "diseasepulmonary\n",
      "congestion\n",
      "blew\n",
      "twice\n",
      "pressure\n",
      "center\n",
      "lacerated\n",
      "while\n",
      "cancerit\n",
      "xray\n",
      "trauma\n",
      "caused\n",
      "cancerhow\n",
      "distress\n",
      "being\n",
      "doctors\n",
      "diffusion\n",
      "useless\n",
      "both\n",
      "me\n",
      "stem\n",
      "tube…\n",
      "conditon\n",
      "underdevelopment\n",
      "deterioration\n",
      "ascites\n",
      "cancer…both\n",
      "cancerstage\n",
      "breath\n",
      "filled\n",
      "airway\n",
      "disappear\n",
      "spontaneously\n",
      "got\n",
      "cancerefgr\n",
      "diseasethe\n",
      "bleeds\n",
      "didnt\n",
      "shes\n",
      "rejection\n",
      "when\n",
      "donor\n"
     ]
    }
   ],
   "source": [
    "for term in term_freq['term']:\n",
    "    print(term)"
   ]
  },
  {
   "cell_type": "code",
   "execution_count": 154,
   "metadata": {},
   "outputs": [],
   "source": [
    "cancer_terms = ['cancer',\n",
    "                'carcinoma',\n",
    "                'cancers',\n",
    "                'tumor',\n",
    "                'nodule',\n",
    "                'mass', \n",
    "                'masses', \n",
    "                'carciona', \n",
    "                'cancerhow', \n",
    "                'cancer...both', \n",
    "                'cancerstage', \n",
    "                'cancerefgr',\n",
    "                'cancerand',\n",
    "                'cancerhe',\n",
    "                'adenocarcinoma',\n",
    "                'carcinoid',\n",
    "                'cancerwas',\n",
    "                'cancerim',\n",
    "                'cancertrying',\n",
    "                'cancerour',\n",
    "                'cancer\"',\n",
    "                'cancerinvolving',\n",
    "                'canceryou']"
   ]
  },
  {
   "cell_type": "markdown",
   "metadata": {},
   "source": [
    "### Run search for lung cancer"
   ]
  },
  {
   "cell_type": "code",
   "execution_count": 156,
   "metadata": {},
   "outputs": [
    {
     "data": {
      "text/plain": [
       "0    77372\n",
       "1     1675\n",
       "Name: lung cancer, dtype: int64"
      ]
     },
     "execution_count": 156,
     "metadata": {},
     "output_type": "execute_result"
    }
   ],
   "source": [
    "terms = ['lung cancer']\n",
    "\n",
    "count_dict = CountTerms(feed, terms)\n",
    "\n",
    "counts = pd.DataFrame(count_dict)\n",
    "\n",
    "feed.reset_index(drop=True, inplace=True)\n",
    "counts.reset_index(drop=True, inplace=True)\n",
    "\n",
    "df = pd.concat([feed, counts], axis=1)\n",
    "\n",
    "df['lung cancer'].value_counts()"
   ]
  },
  {
   "cell_type": "code",
   "execution_count": 157,
   "metadata": {},
   "outputs": [],
   "source": [
    "df = df[df['lung cancer'] == 1]"
   ]
  },
  {
   "cell_type": "code",
   "execution_count": 175,
   "metadata": {},
   "outputs": [],
   "source": [
    "df['cigar'] = df['fund_description'].str.contains('cigar')"
   ]
  },
  {
   "cell_type": "code",
   "execution_count": 179,
   "metadata": {},
   "outputs": [],
   "source": [
    "df['tobacco'] = df['fund_description'].str.contains('tobacco')"
   ]
  },
  {
   "cell_type": "code",
   "execution_count": 176,
   "metadata": {},
   "outputs": [],
   "source": [
    "df['smoke'] = df['fund_description'].str.contains('smoke')"
   ]
  },
  {
   "cell_type": "code",
   "execution_count": 182,
   "metadata": {},
   "outputs": [
    {
     "data": {
      "text/plain": [
       "128"
      ]
     },
     "execution_count": 182,
     "metadata": {},
     "output_type": "execute_result"
    }
   ],
   "source": [
    "df['smoke'].sum()"
   ]
  },
  {
   "cell_type": "code",
   "execution_count": null,
   "metadata": {},
   "outputs": [],
   "source": []
  }
 ],
 "metadata": {
  "kernelspec": {
   "display_name": "Python 3",
   "language": "python",
   "name": "python3"
  },
  "language_info": {
   "codemirror_mode": {
    "name": "ipython",
    "version": 3
   },
   "file_extension": ".py",
   "mimetype": "text/x-python",
   "name": "python",
   "nbconvert_exporter": "python",
   "pygments_lexer": "ipython3",
   "version": "3.7.6"
  }
 },
 "nbformat": 4,
 "nbformat_minor": 4
}
