{
 "cells": [
  {
   "cell_type": "markdown",
   "metadata": {},
   "source": [
    "### Import packages"
   ]
  },
  {
   "cell_type": "code",
   "execution_count": 62,
   "metadata": {},
   "outputs": [],
   "source": [
    "import pandas as pd\n",
    "import glob\n",
    "import numpy as np\n",
    "import json"
   ]
  },
  {
   "cell_type": "markdown",
   "metadata": {},
   "source": [
    "### Import utilities"
   ]
  },
  {
   "cell_type": "code",
   "execution_count": 63,
   "metadata": {},
   "outputs": [],
   "source": [
    "import sys\n",
    "sys.path.append('../src/')\n",
    "import utils\n",
    "\n",
    "z_recode_stems = utils.z_recode_stems\n",
    "Recode_z = utils.Recode_z\n",
    "most_common = utils.most_common\n",
    "StemCode = utils.StemCode\n"
   ]
  },
  {
   "cell_type": "markdown",
   "metadata": {},
   "source": [
    "### Import data"
   ]
  },
  {
   "cell_type": "code",
   "execution_count": 64,
   "metadata": {},
   "outputs": [],
   "source": [
    "ccsr = pd.read_csv('../data/ccsr/disease_hierarchy.csv')"
   ]
  },
  {
   "cell_type": "code",
   "execution_count": 65,
   "metadata": {},
   "outputs": [],
   "source": [
    "path = '../data/disease_categorization/output' \n",
    "all_files = glob.glob(path + \"/*.csv\")\n",
    "\n",
    "li = []\n",
    "\n",
    "for filename in all_files:\n",
    "    df = pd.read_csv(filename)\n",
    "    li.append(df)\n",
    "\n",
    "er = pd.concat(li, axis=0, ignore_index=True)"
   ]
  },
  {
   "cell_type": "code",
   "execution_count": 66,
   "metadata": {},
   "outputs": [],
   "source": [
    "deid = pd.read_csv('../data/disease_categorization/url_deid_map.csv')"
   ]
  },
  {
   "cell_type": "markdown",
   "metadata": {},
   "source": [
    "### Clean categorization output"
   ]
  },
  {
   "cell_type": "code",
   "execution_count": 67,
   "metadata": {},
   "outputs": [],
   "source": [
    "deid['url_deid'] = deid['url_deid'].astype(int)"
   ]
  },
  {
   "cell_type": "code",
   "execution_count": 68,
   "metadata": {},
   "outputs": [],
   "source": [
    "er['url'] = er['url'].astype(int)"
   ]
  },
  {
   "cell_type": "code",
   "execution_count": 69,
   "metadata": {},
   "outputs": [],
   "source": [
    "er = er.merge(deid, left_on='url', right_on='url_deid', how='left')"
   ]
  },
  {
   "cell_type": "code",
   "execution_count": 70,
   "metadata": {},
   "outputs": [],
   "source": [
    "er = er[['url_y','chunks','begin','end','sent','code','results','resolutions','res_distances']]"
   ]
  },
  {
   "cell_type": "code",
   "execution_count": 71,
   "metadata": {},
   "outputs": [],
   "source": [
    "er = er.rename(columns = {'url_y':'url', 'code':'entity_code'})"
   ]
  },
  {
   "cell_type": "markdown",
   "metadata": {},
   "source": [
    "### Inspect data"
   ]
  },
  {
   "cell_type": "code",
   "execution_count": 72,
   "metadata": {},
   "outputs": [
    {
     "data": {
      "text/html": [
       "<div>\n",
       "<style scoped>\n",
       "    .dataframe tbody tr th:only-of-type {\n",
       "        vertical-align: middle;\n",
       "    }\n",
       "\n",
       "    .dataframe tbody tr th {\n",
       "        vertical-align: top;\n",
       "    }\n",
       "\n",
       "    .dataframe thead th {\n",
       "        text-align: right;\n",
       "    }\n",
       "</style>\n",
       "<table border=\"1\" class=\"dataframe\">\n",
       "  <thead>\n",
       "    <tr style=\"text-align: right;\">\n",
       "      <th></th>\n",
       "      <th>url</th>\n",
       "      <th>chunks</th>\n",
       "      <th>begin</th>\n",
       "      <th>end</th>\n",
       "      <th>sent</th>\n",
       "      <th>entity_code</th>\n",
       "      <th>results</th>\n",
       "      <th>resolutions</th>\n",
       "      <th>res_distances</th>\n",
       "    </tr>\n",
       "  </thead>\n",
       "  <tbody>\n",
       "    <tr>\n",
       "      <th>0</th>\n",
       "      <td>https://www.gofundme.com/f/a-special-cause-for...</td>\n",
       "      <td>genetic progressive disease</td>\n",
       "      <td>125.0</td>\n",
       "      <td>151.0</td>\n",
       "      <td>0</td>\n",
       "      <td>Q999</td>\n",
       "      <td>Q999:::N056:::D570:::M8795:::Z148:::A244:::L12...</td>\n",
       "      <td>genetic disease:::dense deposit disease:::hb s...</td>\n",
       "      <td>9.7344:::10.0489:::10.0565:::10.1802:::10.1987...</td>\n",
       "    </tr>\n",
       "    <tr>\n",
       "      <th>1</th>\n",
       "      <td>https://www.gofundme.com/f/a-special-cause-for...</td>\n",
       "      <td>Niemann Pick Type C</td>\n",
       "      <td>160.0</td>\n",
       "      <td>178.0</td>\n",
       "      <td>0</td>\n",
       "      <td>E7524</td>\n",
       "      <td>E7524:::E752:::E762:::G600</td>\n",
       "      <td>niemann-pick disease, type c:::niemann-pick di...</td>\n",
       "      <td>7.1876:::9.1346:::11.3057:::11.9872</td>\n",
       "    </tr>\n",
       "    <tr>\n",
       "      <th>2</th>\n",
       "      <td>https://www.gofundme.com/f/a-special-cause-for...</td>\n",
       "      <td>Niemann Pick Type C</td>\n",
       "      <td>591.0</td>\n",
       "      <td>609.0</td>\n",
       "      <td>4</td>\n",
       "      <td>E7524</td>\n",
       "      <td>E7524:::E752:::E762:::G600</td>\n",
       "      <td>niemann-pick disease, type c:::niemann-pick di...</td>\n",
       "      <td>7.1876:::9.1346:::11.3057:::11.9872</td>\n",
       "    </tr>\n",
       "    <tr>\n",
       "      <th>3</th>\n",
       "      <td>https://www.gofundme.com/f/1rtjruek80</td>\n",
       "      <td>carcinoma breast cancer</td>\n",
       "      <td>192.0</td>\n",
       "      <td>214.0</td>\n",
       "      <td>1</td>\n",
       "      <td>C509</td>\n",
       "      <td>C509:::C5091:::C5061:::C5092:::C506:::D059</td>\n",
       "      <td>carcinoma of breast:::carcinoma of female brea...</td>\n",
       "      <td>5.4987:::5.6541:::6.2232:::6.4685:::6.7216:::6...</td>\n",
       "    </tr>\n",
       "    <tr>\n",
       "      <th>4</th>\n",
       "      <td>https://www.gofundme.com/f/2vxam3xg</td>\n",
       "      <td>Prostate Cancer.</td>\n",
       "      <td>133.0</td>\n",
       "      <td>148.0</td>\n",
       "      <td>0</td>\n",
       "      <td>C61</td>\n",
       "      <td>C61:::Z125:::D075:::Z191:::N4231:::D4959:::D40...</td>\n",
       "      <td>prostate cancer:::suspected prostate cancer:::...</td>\n",
       "      <td>6.5884:::8.6370:::9.0534:::9.2649:::9.8835:::9...</td>\n",
       "    </tr>\n",
       "  </tbody>\n",
       "</table>\n",
       "</div>"
      ],
      "text/plain": [
       "                                                 url  \\\n",
       "0  https://www.gofundme.com/f/a-special-cause-for...   \n",
       "1  https://www.gofundme.com/f/a-special-cause-for...   \n",
       "2  https://www.gofundme.com/f/a-special-cause-for...   \n",
       "3              https://www.gofundme.com/f/1rtjruek80   \n",
       "4                https://www.gofundme.com/f/2vxam3xg   \n",
       "\n",
       "                        chunks  begin    end  sent entity_code  \\\n",
       "0  genetic progressive disease  125.0  151.0     0        Q999   \n",
       "1          Niemann Pick Type C  160.0  178.0     0       E7524   \n",
       "2          Niemann Pick Type C  591.0  609.0     4       E7524   \n",
       "3      carcinoma breast cancer  192.0  214.0     1        C509   \n",
       "4             Prostate Cancer.  133.0  148.0     0         C61   \n",
       "\n",
       "                                             results  \\\n",
       "0  Q999:::N056:::D570:::M8795:::Z148:::A244:::L12...   \n",
       "1                         E7524:::E752:::E762:::G600   \n",
       "2                         E7524:::E752:::E762:::G600   \n",
       "3         C509:::C5091:::C5061:::C5092:::C506:::D059   \n",
       "4  C61:::Z125:::D075:::Z191:::N4231:::D4959:::D40...   \n",
       "\n",
       "                                         resolutions  \\\n",
       "0  genetic disease:::dense deposit disease:::hb s...   \n",
       "1  niemann-pick disease, type c:::niemann-pick di...   \n",
       "2  niemann-pick disease, type c:::niemann-pick di...   \n",
       "3  carcinoma of breast:::carcinoma of female brea...   \n",
       "4  prostate cancer:::suspected prostate cancer:::...   \n",
       "\n",
       "                                       res_distances  \n",
       "0  9.7344:::10.0489:::10.0565:::10.1802:::10.1987...  \n",
       "1                7.1876:::9.1346:::11.3057:::11.9872  \n",
       "2                7.1876:::9.1346:::11.3057:::11.9872  \n",
       "3  5.4987:::5.6541:::6.2232:::6.4685:::6.7216:::6...  \n",
       "4  6.5884:::8.6370:::9.0534:::9.2649:::9.8835:::9...  "
      ]
     },
     "execution_count": 72,
     "metadata": {},
     "output_type": "execute_result"
    }
   ],
   "source": [
    "er.head()"
   ]
  },
  {
   "cell_type": "code",
   "execution_count": 73,
   "metadata": {},
   "outputs": [
    {
     "data": {
      "text/plain": [
       "(183308, 9)"
      ]
     },
     "execution_count": 73,
     "metadata": {},
     "output_type": "execute_result"
    }
   ],
   "source": [
    "er.shape"
   ]
  },
  {
   "cell_type": "code",
   "execution_count": 74,
   "metadata": {},
   "outputs": [
    {
     "data": {
      "text/plain": [
       "4779"
      ]
     },
     "execution_count": 74,
     "metadata": {},
     "output_type": "execute_result"
    }
   ],
   "source": [
    "er['entity_code'].nunique()"
   ]
  },
  {
   "cell_type": "code",
   "execution_count": 75,
   "metadata": {},
   "outputs": [
    {
     "data": {
      "text/plain": [
       "65133"
      ]
     },
     "execution_count": 75,
     "metadata": {},
     "output_type": "execute_result"
    }
   ],
   "source": [
    "er['url'].nunique()"
   ]
  },
  {
   "cell_type": "markdown",
   "metadata": {},
   "source": [
    "### Recode \"family/personal history of\" codes (start with Z80 to Z87) and recode to second code in results"
   ]
  },
  {
   "cell_type": "code",
   "execution_count": 76,
   "metadata": {},
   "outputs": [],
   "source": [
    "#takes a little while\n",
    "recode_fh_map = Recode_z(er, z_recode_stems)"
   ]
  },
  {
   "cell_type": "code",
   "execution_count": 77,
   "metadata": {},
   "outputs": [],
   "source": [
    "#find the most common remapping and use that\n",
    "recode_fh_map_lofd = pd.DataFrame(recode_fh_map).groupby('code').agg(lambda x: most_common(list(x))).reset_index().to_dict(orient='records')\n",
    "\n",
    "recode_fh_map_dict = {}\n",
    "for d in recode_fh_map_lofd:\n",
    "    recode_fh_map_dict[d['code']] = d['res']"
   ]
  },
  {
   "cell_type": "code",
   "execution_count": 78,
   "metadata": {},
   "outputs": [
    {
     "data": {
      "text/plain": [
       "60"
      ]
     },
     "execution_count": 78,
     "metadata": {},
     "output_type": "execute_result"
    }
   ],
   "source": [
    "z_to_recode = [k for k,v in recode_fh_map_dict.items()]\n",
    "pd.Series(er['entity_code'].unique()).isin(z_to_recode).sum()"
   ]
  },
  {
   "cell_type": "code",
   "execution_count": 79,
   "metadata": {},
   "outputs": [
    {
     "data": {
      "text/plain": [
       "0.012554927809165096"
      ]
     },
     "execution_count": 79,
     "metadata": {},
     "output_type": "execute_result"
    }
   ],
   "source": [
    "60/4779"
   ]
  },
  {
   "cell_type": "code",
   "execution_count": 80,
   "metadata": {},
   "outputs": [],
   "source": [
    "#replace values\n",
    "er['entity_code'].replace(recode_fh_map_dict, inplace=True)"
   ]
  },
  {
   "cell_type": "markdown",
   "metadata": {},
   "source": [
    "### Match ICD codes from entity resolution with categories from CCSR"
   ]
  },
  {
   "cell_type": "code",
   "execution_count": 81,
   "metadata": {},
   "outputs": [],
   "source": [
    "raw_codes = er['entity_code'].unique().tolist()"
   ]
  },
  {
   "cell_type": "code",
   "execution_count": 82,
   "metadata": {},
   "outputs": [],
   "source": [
    "ccsr_codes = ccsr['icd_10_cm_code'].tolist()"
   ]
  },
  {
   "cell_type": "code",
   "execution_count": 83,
   "metadata": {},
   "outputs": [],
   "source": [
    "def StemCode(code, ccsr):\n",
    "    res = 0\n",
    "    while res == 0:\n",
    "        sub = ccsr[ccsr['icd_10_cm_code'].str.startswith(code)]\n",
    "        res = sub.shape[0]\n",
    "        if res > 0:\n",
    "            cats = sub['ccsr_category'].value_counts().index[0]\n",
    "            return code, cats\n",
    "        else:\n",
    "            code = code[:-1]\n",
    "            if len(code) == 0:\n",
    "                print('error - no code stem')\n",
    "                return np.nan, np.nan"
   ]
  },
  {
   "cell_type": "code",
   "execution_count": 84,
   "metadata": {},
   "outputs": [],
   "source": [
    "def GetCodeMatch(raw_codes, ccsr_codes, ccsr):\n",
    "\n",
    "    #define results container for best match\n",
    "    best_match = []\n",
    "\n",
    "    #loop through raw codes\n",
    "    for raw in raw_codes:\n",
    "        #if raw code exists in CCSR as-is\n",
    "        if raw in ccsr_codes:\n",
    "            #no need to define best match as exact match already exists\n",
    "            continue\n",
    "        else:\n",
    "            #see if there are any codes that start with code\n",
    "            #if not, remove final character, try again\n",
    "            #once codes are found, select the ccsr_cateogry that is most common\n",
    "            matched_code, ccsr_cat = StemCode(raw, ccsr)\n",
    "            best_match.append({'raw_code':raw, 'matched_code_stem':matched_code,'matched_ccsr_category':ccsr_cat})\n",
    "\n",
    "    return best_match"
   ]
  },
  {
   "cell_type": "code",
   "execution_count": 85,
   "metadata": {},
   "outputs": [
    {
     "name": "stdout",
     "output_type": "stream",
     "text": [
      "error - no code stem\n"
     ]
    }
   ],
   "source": [
    "best_match_map = GetCodeMatch(raw_codes, ccsr_codes, ccsr)"
   ]
  },
  {
   "cell_type": "code",
   "execution_count": 87,
   "metadata": {},
   "outputs": [],
   "source": [
    "best_match_map = pd.DataFrame(best_match_map).merge(ccsr[['ccsr_category','disease_category']].drop_duplicates('ccsr_category'), \n",
    "                                                    left_on='matched_ccsr_category', \n",
    "                                                    right_on='ccsr_category', \n",
    "                                                    how='left')"
   ]
  },
  {
   "cell_type": "code",
   "execution_count": 96,
   "metadata": {},
   "outputs": [
    {
     "data": {
      "text/html": [
       "<div>\n",
       "<style scoped>\n",
       "    .dataframe tbody tr th:only-of-type {\n",
       "        vertical-align: middle;\n",
       "    }\n",
       "\n",
       "    .dataframe tbody tr th {\n",
       "        vertical-align: top;\n",
       "    }\n",
       "\n",
       "    .dataframe thead th {\n",
       "        text-align: right;\n",
       "    }\n",
       "</style>\n",
       "<table border=\"1\" class=\"dataframe\">\n",
       "  <thead>\n",
       "    <tr style=\"text-align: right;\">\n",
       "      <th></th>\n",
       "      <th>raw_code</th>\n",
       "      <th>matched_code_stem</th>\n",
       "      <th>matched_ccsr_category</th>\n",
       "      <th>ccsr_category</th>\n",
       "      <th>disease_category</th>\n",
       "    </tr>\n",
       "  </thead>\n",
       "  <tbody>\n",
       "    <tr>\n",
       "      <th>483</th>\n",
       "      <td>q878</td>\n",
       "      <td>NaN</td>\n",
       "      <td>NaN</td>\n",
       "      <td>NaN</td>\n",
       "      <td>NaN</td>\n",
       "    </tr>\n",
       "  </tbody>\n",
       "</table>\n",
       "</div>"
      ],
      "text/plain": [
       "    raw_code matched_code_stem matched_ccsr_category ccsr_category  \\\n",
       "483     q878               NaN                   NaN           NaN   \n",
       "\n",
       "    disease_category  \n",
       "483              NaN  "
      ]
     },
     "execution_count": 96,
     "metadata": {},
     "output_type": "execute_result"
    }
   ],
   "source": [
    "#inspect code stem error\n",
    "best_match_map[best_match_map['matched_code_stem'].isna()]"
   ]
  },
  {
   "cell_type": "code",
   "execution_count": 97,
   "metadata": {},
   "outputs": [
    {
     "data": {
      "text/html": [
       "<div>\n",
       "<style scoped>\n",
       "    .dataframe tbody tr th:only-of-type {\n",
       "        vertical-align: middle;\n",
       "    }\n",
       "\n",
       "    .dataframe tbody tr th {\n",
       "        vertical-align: top;\n",
       "    }\n",
       "\n",
       "    .dataframe thead th {\n",
       "        text-align: right;\n",
       "    }\n",
       "</style>\n",
       "<table border=\"1\" class=\"dataframe\">\n",
       "  <thead>\n",
       "    <tr style=\"text-align: right;\">\n",
       "      <th></th>\n",
       "      <th>url</th>\n",
       "      <th>chunks</th>\n",
       "      <th>begin</th>\n",
       "      <th>end</th>\n",
       "      <th>sent</th>\n",
       "      <th>entity_code</th>\n",
       "      <th>results</th>\n",
       "      <th>resolutions</th>\n",
       "      <th>res_distances</th>\n",
       "    </tr>\n",
       "  </thead>\n",
       "  <tbody>\n",
       "    <tr>\n",
       "      <th>12347</th>\n",
       "      <td>https://www.gofundme.com/f/baby-delaynie</td>\n",
       "      <td>Zellweger spectrum disorders</td>\n",
       "      <td>709.0</td>\n",
       "      <td>736.0</td>\n",
       "      <td>5</td>\n",
       "      <td>q878</td>\n",
       "      <td>q878:::Q878:::E7151:::E7154:::E803:::Q777:::Q1...</td>\n",
       "      <td>zellweger syndrome (disorder):::zellweger's sy...</td>\n",
       "      <td>7.2023:::7.3898:::7.4975:::8.0355:::8.4334:::9...</td>\n",
       "    </tr>\n",
       "  </tbody>\n",
       "</table>\n",
       "</div>"
      ],
      "text/plain": [
       "                                            url                        chunks  \\\n",
       "12347  https://www.gofundme.com/f/baby-delaynie  Zellweger spectrum disorders   \n",
       "\n",
       "       begin    end  sent entity_code  \\\n",
       "12347  709.0  736.0     5        q878   \n",
       "\n",
       "                                                 results  \\\n",
       "12347  q878:::Q878:::E7151:::E7154:::E803:::Q777:::Q1...   \n",
       "\n",
       "                                             resolutions  \\\n",
       "12347  zellweger syndrome (disorder):::zellweger's sy...   \n",
       "\n",
       "                                           res_distances  \n",
       "12347  7.2023:::7.3898:::7.4975:::8.0355:::8.4334:::9...  "
      ]
     },
     "execution_count": 97,
     "metadata": {},
     "output_type": "execute_result"
    }
   ],
   "source": [
    "er[er['entity_code'] == 'q878']"
   ]
  },
  {
   "cell_type": "code",
   "execution_count": 98,
   "metadata": {},
   "outputs": [],
   "source": [
    "#appears to be a capitalization issue\n",
    "er.loc[12347,'entity_code'] = 'Q878'"
   ]
  },
  {
   "cell_type": "code",
   "execution_count": 99,
   "metadata": {},
   "outputs": [],
   "source": [
    "#rerun after correcting capitalization issue from Spark output\n",
    "raw_codes = er['entity_code'].unique().tolist()\n",
    "best_match_map = GetCodeMatch(raw_codes, ccsr_codes, ccsr)"
   ]
  },
  {
   "cell_type": "markdown",
   "metadata": {},
   "source": [
    "No errors after running above cell"
   ]
  },
  {
   "cell_type": "code",
   "execution_count": 100,
   "metadata": {},
   "outputs": [],
   "source": [
    "best_match_map = pd.DataFrame(best_match_map).merge(ccsr[['ccsr_category','int_category','disease_category']].drop_duplicates('ccsr_category'), \n",
    "                                                    left_on='matched_ccsr_category', \n",
    "                                                    right_on='ccsr_category', \n",
    "                                                    how='left')"
   ]
  },
  {
   "cell_type": "code",
   "execution_count": 356,
   "metadata": {},
   "outputs": [],
   "source": [
    "best_match_map.to_csv('../data/disease_categorization/best_match_map.csv', index=False)"
   ]
  },
  {
   "cell_type": "code",
   "execution_count": 101,
   "metadata": {},
   "outputs": [
    {
     "data": {
      "text/plain": [
       "1776"
      ]
     },
     "execution_count": 101,
     "metadata": {},
     "output_type": "execute_result"
    }
   ],
   "source": [
    "best_match_map.shape[0]"
   ]
  },
  {
   "cell_type": "code",
   "execution_count": 102,
   "metadata": {},
   "outputs": [
    {
     "data": {
      "text/plain": [
       "0.3718351119481063"
      ]
     },
     "execution_count": 102,
     "metadata": {},
     "output_type": "execute_result"
    }
   ],
   "source": [
    "1777/4779"
   ]
  },
  {
   "cell_type": "code",
   "execution_count": null,
   "metadata": {},
   "outputs": [],
   "source": []
  },
  {
   "cell_type": "markdown",
   "metadata": {},
   "source": [
    "### Replace best-matched entity codes"
   ]
  },
  {
   "cell_type": "code",
   "execution_count": 357,
   "metadata": {},
   "outputs": [],
   "source": [
    "#subset dataframe for those that need best matched data\n",
    "er_for_best_match = er[er['entity_code'].isin(best_match_map['raw_code'].tolist())]\n",
    "er_rest = er[~er['entity_code'].isin(er_for_best_match['entity_code'].tolist())]"
   ]
  },
  {
   "cell_type": "markdown",
   "metadata": {},
   "source": [
    "### Merge ER data with appropriate disease categories"
   ]
  },
  {
   "cell_type": "code",
   "execution_count": 358,
   "metadata": {},
   "outputs": [],
   "source": [
    "#best match\n",
    "er_for_best_match = er_for_best_match.merge(best_match_map, left_on='entity_code', right_on='raw_code', how='left')\n",
    "del er_for_best_match['matched_code_stem']\n",
    "del er_for_best_match['matched_ccsr_category']\n",
    "er_for_best_match.loc[:,'icd_10_cm_code_desc'] = ['best_match' for x in range(len(er_for_best_match))]\n",
    "er_for_best_match.rename(columns={'raw_code':'icd_10_cm_code'}, inplace=True)\n",
    "\n",
    "#exact match\n",
    "er_rest = er_rest.merge(ccsr, left_on='entity_code', right_on='icd_10_cm_code', how='left')"
   ]
  },
  {
   "cell_type": "code",
   "execution_count": 359,
   "metadata": {},
   "outputs": [],
   "source": [
    "#concatenate dataframes\n",
    "er_final = pd.concat([er_for_best_match, er_rest])"
   ]
  },
  {
   "cell_type": "code",
   "execution_count": 360,
   "metadata": {},
   "outputs": [
    {
     "name": "stdout",
     "output_type": "stream",
     "text": [
      "(183308, 14)\n",
      "(183308, 9)\n",
      "\n",
      "\n",
      "65133\n",
      "65133\n"
     ]
    }
   ],
   "source": [
    "print(er_final.shape)\n",
    "print(er.shape)\n",
    "print('\\n')\n",
    "print(er_final['url'].nunique())\n",
    "print(er['url'].nunique())"
   ]
  },
  {
   "cell_type": "markdown",
   "metadata": {},
   "source": [
    "### Find additional clinical entities to infer disease category"
   ]
  },
  {
   "cell_type": "code",
   "execution_count": 361,
   "metadata": {},
   "outputs": [],
   "source": [
    "import sqlite3\n",
    "import re"
   ]
  },
  {
   "cell_type": "code",
   "execution_count": 362,
   "metadata": {},
   "outputs": [],
   "source": [
    "conn = sqlite3.connect(\"../data/db/gfm.db\")\n",
    "master = pd.read_sql_query(\"SELECT url,fund_description FROM master\", conn)"
   ]
  },
  {
   "cell_type": "code",
   "execution_count": 363,
   "metadata": {},
   "outputs": [],
   "source": [
    "def Search(df):\n",
    "\n",
    "    r = {}\n",
    "\n",
    "    terms = ['dialysis',\n",
    "             'renal transplant',\n",
    "             'kidney transplant',\n",
    "             'lung transplant',\n",
    "             'heart transplant',\n",
    "             'heart surgery',\n",
    "             'chemo',\n",
    "             'chemotherapy',\n",
    "             'radiation',\n",
    "             'radiotherapy',\n",
    "             'bone marrow transplant',\n",
    "             'liver transplant']\n",
    "\n",
    "    for term in terms:\n",
    "\n",
    "        #define regex\n",
    "        regex = r\"\\b{}\\b\".format(term)\n",
    "\n",
    "        #apply regex search\n",
    "        search = df['fund_description'].apply(lambda x: re.search(regex, x))\n",
    "\n",
    "        #get start and end\n",
    "        start = [x.start() if x != None else np.nan for x in search]\n",
    "        end = [x.end() if x != None else np.nan for x in search]\n",
    "\n",
    "        #add to results\n",
    "        r[term] = {'start':start,'end':end}\n",
    "    \n",
    "    return r\n"
   ]
  },
  {
   "cell_type": "code",
   "execution_count": 364,
   "metadata": {},
   "outputs": [],
   "source": [
    "search_results = Search(master) #takes about 30 seconds"
   ]
  },
  {
   "cell_type": "code",
   "execution_count": 365,
   "metadata": {},
   "outputs": [],
   "source": [
    "def SearchToDF(search_results):\n",
    "\n",
    "    r = []\n",
    "\n",
    "    for k,v in search_results.items():\n",
    "\n",
    "        new_df = pd.DataFrame({'url':master['url'].tolist(),'begin':v['start'],'end':v['end']})\n",
    "\n",
    "        new_df = new_df.dropna()\n",
    "\n",
    "        new_df['chunks'] = [k for x in range(len(new_df))]\n",
    "        new_df['sent'] = [np.nan for x in range(len(new_df))]\n",
    "        new_df['entity_code'] = ['regex_search' for x in range(len(new_df))]\n",
    "        new_df['results'] = [np.nan for x in range(len(new_df))]\n",
    "        new_df['resolutions'] = [np.nan for x in range(len(new_df))]\n",
    "        new_df['res_distances'] = [np.nan for x in range(len(new_df))]\n",
    "        new_df['icd_10_cm_code'] = ['regex_search' for x in range(len(new_df))]\n",
    "        new_df['icd_10_cm_code_desc'] = [k for x in range(len(new_df))]\n",
    "\n",
    "\n",
    "        if k in ['dialysis','renal transplant','kidney transplant']:\n",
    "            new_df['ccsr_category'] = ['GU_from_proc' for x in range(len(new_df))]\n",
    "            new_df['int_category'] = ['CKD and renal failure' for x in range(len(new_df))]\n",
    "            new_df['disease_category'] = ['Genitourinary diseases' for x in range(len(new_df))]\n",
    "\n",
    "        elif k in ['lung transplant']:\n",
    "            new_df['ccsr_category'] = ['RESP_from_proc' for x in range(len(new_df))]\n",
    "            new_df['int_category'] = ['Other respiratory disorders' for x in range(len(new_df))]\n",
    "            new_df['disease_category'] = ['Respiratory diseases' for x in range(len(new_df))]\n",
    "\n",
    "        elif k in ['heart transplant','heart surgery']:\n",
    "            new_df['ccsr_category'] = ['CV_from_proc' for x in range(len(new_df))]\n",
    "            new_df['int_category'] = ['Other cardiovascular disorders' for x in range(len(new_df))]\n",
    "            new_df['disease_category'] = ['Cardiovascular diseases' for x in range(len(new_df))]\n",
    "\n",
    "        elif k in ['chemo','chemotherapy','radiation','radiotherapy','bone marrow transplant']:\n",
    "            new_df['ccsr_category'] = ['NEO_from_proc' for x in range(len(new_df))]\n",
    "            new_df['int_category'] = ['Other neoplasms' for x in range(len(new_df))]\n",
    "            new_df['disease_category'] = ['Neoplasms' for x in range(len(new_df))]\n",
    "\n",
    "        elif k in ['liver transplant']:\n",
    "            new_df['ccsr_category'] = ['GI_from_proc' for x in range(len(new_df))]\n",
    "            new_df['int_category'] = ['Liver diseases' for x in range(len(new_df))]\n",
    "            new_df['disease_category'] = ['Gastrointestinal diseases' for x in range(len(new_df))]\n",
    "\n",
    "        r.append(new_df)\n",
    "\n",
    "    return pd.concat(r)"
   ]
  },
  {
   "cell_type": "code",
   "execution_count": 366,
   "metadata": {},
   "outputs": [],
   "source": [
    "search_results_df = SearchToDF(search_results)"
   ]
  },
  {
   "cell_type": "code",
   "execution_count": 367,
   "metadata": {},
   "outputs": [],
   "source": [
    "er_final = pd.concat([er_final, search_results_df])"
   ]
  },
  {
   "cell_type": "code",
   "execution_count": 368,
   "metadata": {},
   "outputs": [
    {
     "name": "stdout",
     "output_type": "stream",
     "text": [
      "(220625, 14)\n",
      "67890\n"
     ]
    }
   ],
   "source": [
    "print(er_final.shape)\n",
    "print(er_final['url'].nunique())"
   ]
  },
  {
   "cell_type": "markdown",
   "metadata": {},
   "source": [
    "This finds an additional ~2k campaigns"
   ]
  },
  {
   "cell_type": "markdown",
   "metadata": {},
   "source": [
    "### Exclude named entities that map to certain disease categories\n",
    "\n",
    "These categories are unable to be classified with adequate precision and recall."
   ]
  },
  {
   "cell_type": "code",
   "execution_count": 369,
   "metadata": {},
   "outputs": [],
   "source": [
    "er_final = er_final[~er_final['disease_category'].isin(['Nonspecific','Other noncommunicable diseases','Pregnancy and childbirth'])]"
   ]
  },
  {
   "cell_type": "code",
   "execution_count": 370,
   "metadata": {},
   "outputs": [
    {
     "data": {
      "text/plain": [
       "65176"
      ]
     },
     "execution_count": 370,
     "metadata": {},
     "output_type": "execute_result"
    }
   ],
   "source": [
    "er_final['url'].nunique()"
   ]
  },
  {
   "cell_type": "markdown",
   "metadata": {},
   "source": [
    "### Evaluate intermediate category"
   ]
  },
  {
   "cell_type": "markdown",
   "metadata": {},
   "source": [
    "Get list of urls after applying final exclusion criteria (this is done in the analysis notebook)"
   ]
  },
  {
   "cell_type": "code",
   "execution_count": 371,
   "metadata": {},
   "outputs": [],
   "source": [
    "#query database\n",
    "conn = sqlite3.connect(\"../data/db/gfm.db\")\n",
    "master = pd.read_sql_query(\"SELECT * FROM master\", conn)\n",
    "\n",
    "#remove non-english campaigns\n",
    "master = master[master['language'] == 'en']\n",
    "\n",
    "#remove campaigns with currency != USD\n",
    "master = master[master['currencycode'] == 'USD']\n",
    "\n",
    "#remove campaigns with \"research\" in title\n",
    "master = master[master['research_in_title'] == 0]"
   ]
  },
  {
   "cell_type": "markdown",
   "metadata": {},
   "source": [
    "Subset ER data"
   ]
  },
  {
   "cell_type": "code",
   "execution_count": 372,
   "metadata": {},
   "outputs": [
    {
     "name": "stdout",
     "output_type": "stream",
     "text": [
      "65176\n",
      "64216\n"
     ]
    }
   ],
   "source": [
    "er_for_eval = er_final[er_final['url'].isin(master['url']).tolist()]\n",
    "print(er_final['url'].nunique())\n",
    "print(er_for_eval['url'].nunique())"
   ]
  },
  {
   "cell_type": "markdown",
   "metadata": {},
   "source": [
    "Get n=500 unique NER terms"
   ]
  },
  {
   "cell_type": "code",
   "execution_count": 373,
   "metadata": {},
   "outputs": [],
   "source": [
    "#sub_for_eval = er_for_eval.drop_duplicates('chunks').sample(500)\n",
    "#export for reference; manual review will be blinded to this\n",
    "#sub_for_eval.to_csv('../data/disease_categorization/intermediate_category_evaluation_reference.csv')\n",
    "\n",
    "#import reference\n",
    "sub_for_eval = pd.read_csv('../data/disease_categorization/intermediate_category_evaluation_reference.csv')"
   ]
  },
  {
   "cell_type": "code",
   "execution_count": 374,
   "metadata": {},
   "outputs": [],
   "source": [
    "#reconstruct reference according to final exclusion criteria applied above\n",
    "r = []\n",
    "for index, row in sub_for_eval.iterrows():\n",
    "    url = row['url']\n",
    "    chunk = row['chunks']\n",
    "    sub = er_for_eval[(er_for_eval['url'] == url)&(er_for_eval['chunks'] == chunk)]\n",
    "    r.append(sub)\n",
    "\n",
    "sub_for_eval = pd.concat(r).drop_duplicates('chunks')"
   ]
  },
  {
   "cell_type": "code",
   "execution_count": 375,
   "metadata": {},
   "outputs": [
    {
     "name": "stdout",
     "output_type": "stream",
     "text": [
      "(500, 14)\n"
     ]
    }
   ],
   "source": [
    "print(sub_for_eval.shape)"
   ]
  },
  {
   "cell_type": "markdown",
   "metadata": {},
   "source": [
    "Export data for manual annotation"
   ]
  },
  {
   "cell_type": "code",
   "execution_count": 376,
   "metadata": {},
   "outputs": [],
   "source": [
    "#export data for blinded review\n",
    "#sub_export = sub_for_eval[['url','chunks']]\n",
    "#sub_export.to_csv('../data/disease_categorization/intermediate_category_evaluation_manual_annotation.csv', index=False)"
   ]
  },
  {
   "cell_type": "markdown",
   "metadata": {},
   "source": [
    "Add rule-based additions to predictions for breast and lung cancer"
   ]
  },
  {
   "cell_type": "code",
   "execution_count": 377,
   "metadata": {},
   "outputs": [],
   "source": [
    "breast_recode = []\n",
    "for index,row in sub_for_eval.iterrows():\n",
    "    if row['disease_category'] == 'Neoplasms':\n",
    "        if pd.Series(row['chunks']).str.lower().str.contains('breast|breat|dcis|ductal').any():\n",
    "            breast_recode.append(True)\n",
    "        else:\n",
    "            breast_recode.append(False)\n",
    "    else:\n",
    "        breast_recode.append(False)\n",
    "        \n",
    "lung_recode = []\n",
    "for index,row in sub_for_eval.iterrows():\n",
    "    if row['disease_category'] == 'Neoplasms':\n",
    "        if pd.Series(row['chunks']).str.lower().str.contains('lung').any():\n",
    "            lung_recode.append(True)\n",
    "        else:\n",
    "            lung_recode.append(False)\n",
    "    else:\n",
    "        lung_recode.append(False)"
   ]
  },
  {
   "cell_type": "code",
   "execution_count": 378,
   "metadata": {},
   "outputs": [],
   "source": [
    "sub_for_eval.loc[breast_recode, 'int_category'] = 'Breast cancer'\n",
    "sub_for_eval.loc[lung_recode, 'int_category'] = 'Lung cancer'"
   ]
  },
  {
   "cell_type": "markdown",
   "metadata": {},
   "source": [
    "Import manual annotations"
   ]
  },
  {
   "cell_type": "code",
   "execution_count": 379,
   "metadata": {},
   "outputs": [],
   "source": [
    "sub_annot = pd.read_csv('../data/disease_categorization/intermediate_category_evaluation_manual_annotation_2.csv')"
   ]
  },
  {
   "cell_type": "code",
   "execution_count": 380,
   "metadata": {},
   "outputs": [
    {
     "name": "stdout",
     "output_type": "stream",
     "text": [
      "UNCLEAR\n"
     ]
    }
   ],
   "source": [
    "#check that categories from manual annotation match reference\n",
    "for cat in sub_annot['y_true'].unique().tolist():\n",
    "    if sub_for_eval['int_category'].str.contains(cat).any():\n",
    "        continue\n",
    "    else:\n",
    "        print(cat)"
   ]
  },
  {
   "cell_type": "code",
   "execution_count": 381,
   "metadata": {},
   "outputs": [],
   "source": [
    "sub_for_eval.reset_index(inplace=True)"
   ]
  },
  {
   "cell_type": "code",
   "execution_count": 382,
   "metadata": {},
   "outputs": [
    {
     "data": {
      "text/plain": [
       "True"
      ]
     },
     "execution_count": 382,
     "metadata": {},
     "output_type": "execute_result"
    }
   ],
   "source": [
    "sub_annot['chunks'].equals(sub_for_eval['chunks'])"
   ]
  },
  {
   "cell_type": "markdown",
   "metadata": {},
   "source": [
    "Define y_true and y_pred"
   ]
  },
  {
   "cell_type": "code",
   "execution_count": 383,
   "metadata": {},
   "outputs": [],
   "source": [
    "y_true = sub_annot['y_true'].tolist()"
   ]
  },
  {
   "cell_type": "code",
   "execution_count": 384,
   "metadata": {},
   "outputs": [],
   "source": [
    "y_pred = sub_for_eval['int_category'].tolist()"
   ]
  },
  {
   "cell_type": "markdown",
   "metadata": {},
   "source": [
    "Classification report"
   ]
  },
  {
   "cell_type": "code",
   "execution_count": 385,
   "metadata": {},
   "outputs": [],
   "source": [
    "from sklearn.metrics import classification_report"
   ]
  },
  {
   "cell_type": "code",
   "execution_count": 386,
   "metadata": {},
   "outputs": [
    {
     "name": "stderr",
     "output_type": "stream",
     "text": [
      "/opt/anaconda3/lib/python3.7/site-packages/sklearn/metrics/_classification.py:1272: UndefinedMetricWarning: Precision and F-score are ill-defined and being set to 0.0 in labels with no predicted samples. Use `zero_division` parameter to control this behavior.\n",
      "  _warn_prf(average, modifier, msg_start, len(result))\n",
      "/opt/anaconda3/lib/python3.7/site-packages/sklearn/metrics/_classification.py:1272: UndefinedMetricWarning: Recall and F-score are ill-defined and being set to 0.0 in labels with no true samples. Use `zero_division` parameter to control this behavior.\n",
      "  _warn_prf(average, modifier, msg_start, len(result))\n"
     ]
    }
   ],
   "source": [
    "report = classification_report(y_true, y_pred, output_dict=True)"
   ]
  },
  {
   "cell_type": "code",
   "execution_count": 387,
   "metadata": {},
   "outputs": [
    {
     "data": {
      "text/html": [
       "<div>\n",
       "<style scoped>\n",
       "    .dataframe tbody tr th:only-of-type {\n",
       "        vertical-align: middle;\n",
       "    }\n",
       "\n",
       "    .dataframe tbody tr th {\n",
       "        vertical-align: top;\n",
       "    }\n",
       "\n",
       "    .dataframe thead th {\n",
       "        text-align: right;\n",
       "    }\n",
       "</style>\n",
       "<table border=\"1\" class=\"dataframe\">\n",
       "  <thead>\n",
       "    <tr style=\"text-align: right;\">\n",
       "      <th></th>\n",
       "      <th>precision</th>\n",
       "      <th>recall</th>\n",
       "      <th>f1-score</th>\n",
       "      <th>support</th>\n",
       "    </tr>\n",
       "  </thead>\n",
       "  <tbody>\n",
       "    <tr>\n",
       "      <th>COPD</th>\n",
       "      <td>1.000000</td>\n",
       "      <td>1.000000</td>\n",
       "      <td>1.000000</td>\n",
       "      <td>2.000</td>\n",
       "    </tr>\n",
       "    <tr>\n",
       "      <th>Substance use disorders</th>\n",
       "      <td>1.000000</td>\n",
       "      <td>1.000000</td>\n",
       "      <td>1.000000</td>\n",
       "      <td>1.000</td>\n",
       "    </tr>\n",
       "    <tr>\n",
       "      <th>Coronary artery disease</th>\n",
       "      <td>1.000000</td>\n",
       "      <td>1.000000</td>\n",
       "      <td>1.000000</td>\n",
       "      <td>2.000</td>\n",
       "    </tr>\n",
       "    <tr>\n",
       "      <th>Diabetes</th>\n",
       "      <td>0.875000</td>\n",
       "      <td>1.000000</td>\n",
       "      <td>0.933333</td>\n",
       "      <td>7.000</td>\n",
       "    </tr>\n",
       "    <tr>\n",
       "      <th>Breast cancer</th>\n",
       "      <td>0.833333</td>\n",
       "      <td>1.000000</td>\n",
       "      <td>0.909091</td>\n",
       "      <td>5.000</td>\n",
       "    </tr>\n",
       "    <tr>\n",
       "      <th>Hematologic malignancies</th>\n",
       "      <td>0.925926</td>\n",
       "      <td>0.862069</td>\n",
       "      <td>0.892857</td>\n",
       "      <td>29.000</td>\n",
       "    </tr>\n",
       "    <tr>\n",
       "      <th>Other neoplasms</th>\n",
       "      <td>0.899160</td>\n",
       "      <td>0.884298</td>\n",
       "      <td>0.891667</td>\n",
       "      <td>121.000</td>\n",
       "    </tr>\n",
       "    <tr>\n",
       "      <th>Liver diseases</th>\n",
       "      <td>0.857143</td>\n",
       "      <td>0.857143</td>\n",
       "      <td>0.857143</td>\n",
       "      <td>7.000</td>\n",
       "    </tr>\n",
       "    <tr>\n",
       "      <th>Other respiratory disorders</th>\n",
       "      <td>0.823529</td>\n",
       "      <td>0.823529</td>\n",
       "      <td>0.823529</td>\n",
       "      <td>17.000</td>\n",
       "    </tr>\n",
       "    <tr>\n",
       "      <th>Cerebrovascular disease</th>\n",
       "      <td>1.000000</td>\n",
       "      <td>0.666667</td>\n",
       "      <td>0.800000</td>\n",
       "      <td>12.000</td>\n",
       "    </tr>\n",
       "    <tr>\n",
       "      <th>Heart failure</th>\n",
       "      <td>0.666667</td>\n",
       "      <td>1.000000</td>\n",
       "      <td>0.800000</td>\n",
       "      <td>2.000</td>\n",
       "    </tr>\n",
       "    <tr>\n",
       "      <th>Congenital neurologic defects</th>\n",
       "      <td>0.857143</td>\n",
       "      <td>0.750000</td>\n",
       "      <td>0.800000</td>\n",
       "      <td>8.000</td>\n",
       "    </tr>\n",
       "    <tr>\n",
       "      <th>Congenital cardiac defects</th>\n",
       "      <td>0.875000</td>\n",
       "      <td>0.700000</td>\n",
       "      <td>0.777778</td>\n",
       "      <td>10.000</td>\n",
       "    </tr>\n",
       "    <tr>\n",
       "      <th>CKD and renal failure</th>\n",
       "      <td>0.750000</td>\n",
       "      <td>0.750000</td>\n",
       "      <td>0.750000</td>\n",
       "      <td>4.000</td>\n",
       "    </tr>\n",
       "    <tr>\n",
       "      <th>Lung cancer</th>\n",
       "      <td>0.600000</td>\n",
       "      <td>1.000000</td>\n",
       "      <td>0.750000</td>\n",
       "      <td>3.000</td>\n",
       "    </tr>\n",
       "    <tr>\n",
       "      <th>Other gastrointestinal disorders</th>\n",
       "      <td>0.718750</td>\n",
       "      <td>0.766667</td>\n",
       "      <td>0.741935</td>\n",
       "      <td>30.000</td>\n",
       "    </tr>\n",
       "    <tr>\n",
       "      <th>accuracy</th>\n",
       "      <td>0.722000</td>\n",
       "      <td>0.722000</td>\n",
       "      <td>0.722000</td>\n",
       "      <td>0.722</td>\n",
       "    </tr>\n",
       "    <tr>\n",
       "      <th>Neurodegenerative diseases</th>\n",
       "      <td>0.750000</td>\n",
       "      <td>0.692308</td>\n",
       "      <td>0.720000</td>\n",
       "      <td>13.000</td>\n",
       "    </tr>\n",
       "    <tr>\n",
       "      <th>weighted avg</th>\n",
       "      <td>0.705768</td>\n",
       "      <td>0.722000</td>\n",
       "      <td>0.702614</td>\n",
       "      <td>500.000</td>\n",
       "    </tr>\n",
       "    <tr>\n",
       "      <th>macro avg</th>\n",
       "      <td>0.693737</td>\n",
       "      <td>0.727179</td>\n",
       "      <td>0.693051</td>\n",
       "      <td>500.000</td>\n",
       "    </tr>\n",
       "    <tr>\n",
       "      <th>Other cardiovascular disorders</th>\n",
       "      <td>0.714286</td>\n",
       "      <td>0.652174</td>\n",
       "      <td>0.681818</td>\n",
       "      <td>23.000</td>\n",
       "    </tr>\n",
       "    <tr>\n",
       "      <th>Other neurologic disorders</th>\n",
       "      <td>0.696970</td>\n",
       "      <td>0.657143</td>\n",
       "      <td>0.676471</td>\n",
       "      <td>35.000</td>\n",
       "    </tr>\n",
       "    <tr>\n",
       "      <th>Other genitourinary disorders</th>\n",
       "      <td>0.700000</td>\n",
       "      <td>0.636364</td>\n",
       "      <td>0.666667</td>\n",
       "      <td>22.000</td>\n",
       "    </tr>\n",
       "    <tr>\n",
       "      <th>Colorectal cancer</th>\n",
       "      <td>1.000000</td>\n",
       "      <td>0.500000</td>\n",
       "      <td>0.666667</td>\n",
       "      <td>6.000</td>\n",
       "    </tr>\n",
       "    <tr>\n",
       "      <th>Other musculoskeletal disorders</th>\n",
       "      <td>0.542857</td>\n",
       "      <td>0.863636</td>\n",
       "      <td>0.666667</td>\n",
       "      <td>22.000</td>\n",
       "    </tr>\n",
       "    <tr>\n",
       "      <th>Other endocrine disorders</th>\n",
       "      <td>0.558824</td>\n",
       "      <td>0.760000</td>\n",
       "      <td>0.644068</td>\n",
       "      <td>25.000</td>\n",
       "    </tr>\n",
       "    <tr>\n",
       "      <th>Other injuries and external causes</th>\n",
       "      <td>0.441176</td>\n",
       "      <td>0.937500</td>\n",
       "      <td>0.600000</td>\n",
       "      <td>16.000</td>\n",
       "    </tr>\n",
       "    <tr>\n",
       "      <th>Rheumatologic disorders</th>\n",
       "      <td>0.500000</td>\n",
       "      <td>0.714286</td>\n",
       "      <td>0.588235</td>\n",
       "      <td>7.000</td>\n",
       "    </tr>\n",
       "    <tr>\n",
       "      <th>Fractures</th>\n",
       "      <td>0.800000</td>\n",
       "      <td>0.363636</td>\n",
       "      <td>0.500000</td>\n",
       "      <td>11.000</td>\n",
       "    </tr>\n",
       "    <tr>\n",
       "      <th>Other mental disorders</th>\n",
       "      <td>0.375000</td>\n",
       "      <td>0.666667</td>\n",
       "      <td>0.480000</td>\n",
       "      <td>9.000</td>\n",
       "    </tr>\n",
       "    <tr>\n",
       "      <th>Other infections</th>\n",
       "      <td>0.411765</td>\n",
       "      <td>0.538462</td>\n",
       "      <td>0.466667</td>\n",
       "      <td>13.000</td>\n",
       "    </tr>\n",
       "    <tr>\n",
       "      <th>TBI and SCI</th>\n",
       "      <td>0.333333</td>\n",
       "      <td>0.500000</td>\n",
       "      <td>0.400000</td>\n",
       "      <td>2.000</td>\n",
       "    </tr>\n",
       "    <tr>\n",
       "      <th>Prostate cancer</th>\n",
       "      <td>0.000000</td>\n",
       "      <td>0.000000</td>\n",
       "      <td>0.000000</td>\n",
       "      <td>0.000</td>\n",
       "    </tr>\n",
       "    <tr>\n",
       "      <th>UNCLEAR</th>\n",
       "      <td>0.000000</td>\n",
       "      <td>0.000000</td>\n",
       "      <td>0.000000</td>\n",
       "      <td>36.000</td>\n",
       "    </tr>\n",
       "  </tbody>\n",
       "</table>\n",
       "</div>"
      ],
      "text/plain": [
       "                                    precision    recall  f1-score  support\n",
       "COPD                                 1.000000  1.000000  1.000000    2.000\n",
       "Substance use disorders              1.000000  1.000000  1.000000    1.000\n",
       "Coronary artery disease              1.000000  1.000000  1.000000    2.000\n",
       "Diabetes                             0.875000  1.000000  0.933333    7.000\n",
       "Breast cancer                        0.833333  1.000000  0.909091    5.000\n",
       "Hematologic malignancies             0.925926  0.862069  0.892857   29.000\n",
       "Other neoplasms                      0.899160  0.884298  0.891667  121.000\n",
       "Liver diseases                       0.857143  0.857143  0.857143    7.000\n",
       "Other respiratory disorders          0.823529  0.823529  0.823529   17.000\n",
       "Cerebrovascular disease              1.000000  0.666667  0.800000   12.000\n",
       "Heart failure                        0.666667  1.000000  0.800000    2.000\n",
       "Congenital neurologic defects        0.857143  0.750000  0.800000    8.000\n",
       "Congenital cardiac defects           0.875000  0.700000  0.777778   10.000\n",
       "CKD and renal failure                0.750000  0.750000  0.750000    4.000\n",
       "Lung cancer                          0.600000  1.000000  0.750000    3.000\n",
       "Other gastrointestinal disorders     0.718750  0.766667  0.741935   30.000\n",
       "accuracy                             0.722000  0.722000  0.722000    0.722\n",
       "Neurodegenerative diseases           0.750000  0.692308  0.720000   13.000\n",
       "weighted avg                         0.705768  0.722000  0.702614  500.000\n",
       "macro avg                            0.693737  0.727179  0.693051  500.000\n",
       "Other cardiovascular disorders       0.714286  0.652174  0.681818   23.000\n",
       "Other neurologic disorders           0.696970  0.657143  0.676471   35.000\n",
       "Other genitourinary disorders        0.700000  0.636364  0.666667   22.000\n",
       "Colorectal cancer                    1.000000  0.500000  0.666667    6.000\n",
       "Other musculoskeletal disorders      0.542857  0.863636  0.666667   22.000\n",
       "Other endocrine disorders            0.558824  0.760000  0.644068   25.000\n",
       "Other injuries and external causes   0.441176  0.937500  0.600000   16.000\n",
       "Rheumatologic disorders              0.500000  0.714286  0.588235    7.000\n",
       "Fractures                            0.800000  0.363636  0.500000   11.000\n",
       "Other mental disorders               0.375000  0.666667  0.480000    9.000\n",
       "Other infections                     0.411765  0.538462  0.466667   13.000\n",
       "TBI and SCI                          0.333333  0.500000  0.400000    2.000\n",
       "Prostate cancer                      0.000000  0.000000  0.000000    0.000\n",
       "UNCLEAR                              0.000000  0.000000  0.000000   36.000"
      ]
     },
     "execution_count": 387,
     "metadata": {},
     "output_type": "execute_result"
    }
   ],
   "source": [
    "pd.DataFrame(report).transpose().sort_values('f1-score', ascending=False)"
   ]
  },
  {
   "cell_type": "markdown",
   "metadata": {},
   "source": [
    "Keep intermediate categories that have F1 > 0.6 for all sub-categories in a broader disease category"
   ]
  },
  {
   "cell_type": "code",
   "execution_count": 388,
   "metadata": {},
   "outputs": [],
   "source": [
    "report = pd.DataFrame(report).transpose()\n",
    "report = report[report['f1-score'] > 0.6]"
   ]
  },
  {
   "cell_type": "code",
   "execution_count": 389,
   "metadata": {},
   "outputs": [
    {
     "data": {
      "text/plain": [
       "['Breast cancer',\n",
       " 'CKD and renal failure',\n",
       " 'COPD',\n",
       " 'Cerebrovascular disease',\n",
       " 'Colorectal cancer',\n",
       " 'Congenital cardiac defects',\n",
       " 'Congenital neurologic defects',\n",
       " 'Coronary artery disease',\n",
       " 'Diabetes',\n",
       " 'Heart failure',\n",
       " 'Hematologic malignancies',\n",
       " 'Liver diseases',\n",
       " 'Lung cancer',\n",
       " 'Neurodegenerative diseases',\n",
       " 'Other cardiovascular disorders',\n",
       " 'Other endocrine disorders',\n",
       " 'Other gastrointestinal disorders',\n",
       " 'Other genitourinary disorders',\n",
       " 'Other musculoskeletal disorders',\n",
       " 'Other neoplasms',\n",
       " 'Other neurologic disorders',\n",
       " 'Other respiratory disorders',\n",
       " 'Substance use disorders',\n",
       " 'accuracy',\n",
       " 'macro avg',\n",
       " 'weighted avg']"
      ]
     },
     "execution_count": 389,
     "metadata": {},
     "output_type": "execute_result"
    }
   ],
   "source": [
    "report.index.tolist()"
   ]
  },
  {
   "cell_type": "code",
   "execution_count": 390,
   "metadata": {},
   "outputs": [],
   "source": [
    "int_to_keep = [\n",
    "    'Coronary artery disease',\n",
    "    'COPD',\n",
    "    'Heart failure',\n",
    "    'Diabetes',\n",
    "    'Breast cancer',\n",
    "    'Hematologic malignancies',\n",
    "    'Other neoplasms',\n",
    "    'Liver diseases',\n",
    "    'Other respiratory diseases',\n",
    "    'Cerebrovascular disease',\n",
    "    'Congenital neurologic defects',\n",
    "    'Congenital cardiac defects',\n",
    "    'CKD and renal failure',\n",
    "    'Lung cancer',\n",
    "    'Other gastrointestinal disorders',\n",
    "    'Neurodegenerative diseases',\n",
    "    'Other neurologic disorders',\n",
    "    'Other cardiovascular disorders',\n",
    "    'Other genitourinary disorders',\n",
    "    'Colorectal cancer',\n",
    "    'Other endocrine disorders'\n",
    "]"
   ]
  },
  {
   "cell_type": "markdown",
   "metadata": {},
   "source": [
    "Recode intermediate categories to OTHER that are not in the list above for both the manual annotation and reference"
   ]
  },
  {
   "cell_type": "code",
   "execution_count": 391,
   "metadata": {},
   "outputs": [],
   "source": [
    "y_true_clean = []\n",
    "\n",
    "for x in y_true:\n",
    "    if x in int_to_keep:\n",
    "        y_true_clean.append(x)\n",
    "    else:\n",
    "        y_true_clean.append('OTHER')\n",
    "        \n",
    "y_pred_clean = []\n",
    "\n",
    "for x in y_pred:\n",
    "    if x in int_to_keep:\n",
    "        y_pred_clean.append(x)\n",
    "    else:\n",
    "        y_pred_clean.append('OTHER')"
   ]
  },
  {
   "cell_type": "markdown",
   "metadata": {},
   "source": [
    "Re-run classification report"
   ]
  },
  {
   "cell_type": "code",
   "execution_count": 392,
   "metadata": {},
   "outputs": [
    {
     "name": "stdout",
     "output_type": "stream",
     "text": [
      "                                  precision    recall  f1-score   support\n",
      "\n",
      "                   Breast cancer       0.83      1.00      0.91         5\n",
      "           CKD and renal failure       0.75      0.75      0.75         4\n",
      "                            COPD       1.00      1.00      1.00         2\n",
      "         Cerebrovascular disease       1.00      0.67      0.80        12\n",
      "               Colorectal cancer       1.00      0.50      0.67         6\n",
      "      Congenital cardiac defects       0.88      0.70      0.78        10\n",
      "   Congenital neurologic defects       0.86      0.75      0.80         8\n",
      "         Coronary artery disease       1.00      1.00      1.00         2\n",
      "                        Diabetes       0.88      1.00      0.93         7\n",
      "                   Heart failure       0.67      1.00      0.80         2\n",
      "        Hematologic malignancies       0.93      0.86      0.89        29\n",
      "                  Liver diseases       0.86      0.86      0.86         7\n",
      "                     Lung cancer       0.60      1.00      0.75         3\n",
      "      Neurodegenerative diseases       0.75      0.69      0.72        13\n",
      "                           OTHER       0.77      0.80      0.78       134\n",
      "  Other cardiovascular disorders       0.71      0.65      0.68        23\n",
      "       Other endocrine disorders       0.56      0.76      0.64        25\n",
      "Other gastrointestinal disorders       0.72      0.77      0.74        30\n",
      "   Other genitourinary disorders       0.70      0.64      0.67        22\n",
      "                 Other neoplasms       0.90      0.88      0.89       121\n",
      "      Other neurologic disorders       0.70      0.66      0.68        35\n",
      "\n",
      "                        accuracy                           0.79       500\n",
      "                       macro avg       0.81      0.81      0.80       500\n",
      "                    weighted avg       0.80      0.79      0.79       500\n",
      "\n"
     ]
    }
   ],
   "source": [
    "print(classification_report(y_true_clean, y_pred_clean))"
   ]
  },
  {
   "cell_type": "markdown",
   "metadata": {},
   "source": [
    "Confusion matrix"
   ]
  },
  {
   "cell_type": "code",
   "execution_count": 393,
   "metadata": {},
   "outputs": [],
   "source": [
    "from sklearn.preprocessing import LabelEncoder "
   ]
  },
  {
   "cell_type": "code",
   "execution_count": 394,
   "metadata": {},
   "outputs": [],
   "source": [
    "le = LabelEncoder()\n",
    "y_true_clean_fit = le.fit_transform(y_true_clean)\n",
    "y_pred_clean_fit = le.fit_transform(y_pred_clean)"
   ]
  },
  {
   "cell_type": "code",
   "execution_count": 395,
   "metadata": {},
   "outputs": [],
   "source": [
    "class_names = []\n",
    "\n",
    "for i in range(pd.Series(y_true_clean).nunique()):\n",
    "    class_names.append(le.inverse_transform([i])[0])\n"
   ]
  },
  {
   "cell_type": "code",
   "execution_count": 396,
   "metadata": {},
   "outputs": [],
   "source": [
    "import numpy as np\n",
    "import matplotlib.pyplot as plt\n",
    "from sklearn.metrics import confusion_matrix\n",
    "import itertools"
   ]
  },
  {
   "cell_type": "code",
   "execution_count": 397,
   "metadata": {},
   "outputs": [
    {
     "data": {
      "image/png": "[encoded data removed]",
      "text/plain": [
       "<Figure size 1008x864 with 2 Axes>"
      ]
     },
     "metadata": {
      "needs_background": "light"
     },
     "output_type": "display_data"
    }
   ],
   "source": [
    "cm = confusion_matrix(y_true_clean_fit, y_pred_clean_fit, normalize='true')\n",
    "\n",
    "#normalize to true to answer: \"what percent of TRUE LABEL gets reclassified as PREDICTED LABEL\"\n",
    "\n",
    "import seaborn as sns\n",
    "# Transform to df for easier plotting\n",
    "cm_df = pd.DataFrame(cm,\n",
    "                     index = class_names, \n",
    "                     columns = class_names).round(2)\n",
    "\n",
    "plt.figure(figsize=(14,12))\n",
    "ax = sns.heatmap(cm_df, annot=True, cmap=\"Blues\", cbar_kws={'label': 'Percent of True label classified as Predicted label'})\n",
    "plt.ylabel('True label', size=14)\n",
    "plt.xlabel('Predicted label', size=14)\n",
    "\n",
    "cbar_axes = ax.figure.axes[-1]\n",
    "ax.figure.axes[-1].yaxis.label.set_size(14)\n",
    "\n",
    "plt.savefig(\"../data/cm.eps\", bbox_inches='tight')"
   ]
  },
  {
   "cell_type": "markdown",
   "metadata": {},
   "source": [
    "### Add intermediate category to data"
   ]
  },
  {
   "cell_type": "markdown",
   "metadata": {},
   "source": [
    "Recode breast and lung cancer as above - takes a little while to run"
   ]
  },
  {
   "cell_type": "code",
   "execution_count": 398,
   "metadata": {},
   "outputs": [],
   "source": [
    "breast_recode = []\n",
    "for index,row in er_final.iterrows():\n",
    "    if row['disease_category'] == 'Neoplasms':\n",
    "        if pd.Series(row['chunks']).str.lower().str.contains('breast|breat|dcis|ductal').any():\n",
    "            breast_recode.append(True)\n",
    "        else:\n",
    "            breast_recode.append(False)\n",
    "    else:\n",
    "        breast_recode.append(False)\n",
    "        \n",
    "lung_recode = []\n",
    "for index,row in er_final.iterrows():\n",
    "    if row['disease_category'] == 'Neoplasms':\n",
    "        if pd.Series(row['chunks']).str.lower().str.contains('lung').any():\n",
    "            lung_recode.append(True)\n",
    "        else:\n",
    "            lung_recode.append(False)\n",
    "    else:\n",
    "        lung_recode.append(False)"
   ]
  },
  {
   "cell_type": "code",
   "execution_count": 399,
   "metadata": {},
   "outputs": [
    {
     "name": "stdout",
     "output_type": "stream",
     "text": [
      "Number of breast cancer recoded:  7806\n",
      "Number of lung cancer recoded:  2129\n"
     ]
    }
   ],
   "source": [
    "print('Number of breast cancer recoded: ', sum(breast_recode))\n",
    "print('Number of lung cancer recoded: ', sum(lung_recode))"
   ]
  },
  {
   "cell_type": "code",
   "execution_count": 400,
   "metadata": {},
   "outputs": [],
   "source": [
    "er_final.loc[breast_recode, 'int_category'] = 'Breast cancer'\n",
    "er_final.loc[lung_recode, 'int_category'] = 'Lung cancer'"
   ]
  },
  {
   "cell_type": "markdown",
   "metadata": {},
   "source": [
    "Rename intermediate categories that will not be used"
   ]
  },
  {
   "cell_type": "code",
   "execution_count": 401,
   "metadata": {},
   "outputs": [
    {
     "data": {
      "text/plain": [
       "array(['Other endocrine disorders', 'Breast cancer',\n",
       "       'Other injuries and external causes', 'Other neoplasms',\n",
       "       'Cerebrovascular disease', 'Hematologic malignancies',\n",
       "       'Other neurologic disorders', 'Other musculoskeletal disorders',\n",
       "       'Lung cancer', 'Other respiratory disorders',\n",
       "       'Other gastrointestinal disorders', 'Fractures',\n",
       "       'Other genitourinary disorders', 'Other infections',\n",
       "       'Rheumatologic disorders', 'Neurodegenerative diseases',\n",
       "       'TBI and SCI', 'Other cardiovascular disorders', 'Heart failure',\n",
       "       'Liver diseases', 'Diabetes', 'Other mental disorders',\n",
       "       'CKD and renal failure', 'COPD', 'Substance use disorders',\n",
       "       'Congenital neurologic defects', 'Congenital cardiac defects',\n",
       "       'Coronary artery disease', 'HIV/AIDS', 'Colorectal cancer',\n",
       "       'Prostate cancer'], dtype=object)"
      ]
     },
     "execution_count": 401,
     "metadata": {},
     "output_type": "execute_result"
    }
   ],
   "source": [
    "er_final['int_category'].unique()"
   ]
  },
  {
   "cell_type": "code",
   "execution_count": 402,
   "metadata": {},
   "outputs": [],
   "source": [
    "int_rename = {\n",
    "    'Other mental disorders':'Mental and substance use disorders',\n",
    "    'TBI and SCI':'Injuries and external causes',\n",
    "    'Other injuries and external causes':'Injuries and external causes',\n",
    "    'Other musculoskeletal disorders':'Musculoskeletal diseases',\n",
    "    'Fractures':'Injuries and external causes',\n",
    "    'Other infections':'Infections',\n",
    "    'Rheumatologic disorders':'Musculoskeletal diseases',\n",
    "    'Prostate cancer':'Other neoplasms',\n",
    "    'Substance use disorders':'Mental and substance use disorders',\n",
    "    'HIV/AIDS':'Infections'\n",
    "}"
   ]
  },
  {
   "cell_type": "code",
   "execution_count": 403,
   "metadata": {},
   "outputs": [],
   "source": [
    "er_final['int_category'].replace(int_rename, inplace=True)"
   ]
  },
  {
   "cell_type": "markdown",
   "metadata": {},
   "source": [
    "### Pivot tables"
   ]
  },
  {
   "cell_type": "code",
   "execution_count": 404,
   "metadata": {},
   "outputs": [
    {
     "name": "stdout",
     "output_type": "stream",
     "text": [
      "65176\n"
     ]
    }
   ],
   "source": [
    "print(er_final['url'].nunique())"
   ]
  },
  {
   "cell_type": "code",
   "execution_count": 405,
   "metadata": {},
   "outputs": [],
   "source": [
    "#add counts variables for pivot table\n",
    "er_final['count'] = [1 for x in range(len(er_final))]"
   ]
  },
  {
   "cell_type": "code",
   "execution_count": 406,
   "metadata": {},
   "outputs": [],
   "source": [
    "int_pivot = er_final[['url','int_category','count']].pivot_table(index=['url'], columns='int_category', values='count', aggfunc=(pd.Series.mean), fill_value=0)"
   ]
  },
  {
   "cell_type": "code",
   "execution_count": 407,
   "metadata": {},
   "outputs": [],
   "source": [
    "disease_pivot = er_final[['url','disease_category','count']].pivot_table(index=['url'], columns='disease_category', values='count', aggfunc=(pd.Series.mean), fill_value=0)"
   ]
  },
  {
   "cell_type": "code",
   "execution_count": 408,
   "metadata": {},
   "outputs": [
    {
     "name": "stdout",
     "output_type": "stream",
     "text": [
      "(65176, 25)\n",
      "(65176, 11)\n"
     ]
    }
   ],
   "source": [
    "print(int_pivot.shape)\n",
    "print(disease_pivot.shape)"
   ]
  },
  {
   "cell_type": "markdown",
   "metadata": {},
   "source": [
    "### Test that pivots worked"
   ]
  },
  {
   "cell_type": "code",
   "execution_count": 409,
   "metadata": {},
   "outputs": [],
   "source": [
    "test_urls = ['https://www.gofundme.com/f/lana-medical-procedure','https://www.gofundme.com/f/2sv6wppg']\n",
    "\n",
    "#first one should have Neuro and MSK (all neuro are other)\n",
    "#second one should have just CV (cong and other)"
   ]
  },
  {
   "cell_type": "code",
   "execution_count": 410,
   "metadata": {},
   "outputs": [
    {
     "data": {
      "text/html": [
       "<div>\n",
       "<style scoped>\n",
       "    .dataframe tbody tr th:only-of-type {\n",
       "        vertical-align: middle;\n",
       "    }\n",
       "\n",
       "    .dataframe tbody tr th {\n",
       "        vertical-align: top;\n",
       "    }\n",
       "\n",
       "    .dataframe thead th {\n",
       "        text-align: right;\n",
       "    }\n",
       "</style>\n",
       "<table border=\"1\" class=\"dataframe\">\n",
       "  <thead>\n",
       "    <tr style=\"text-align: right;\">\n",
       "      <th>disease_category</th>\n",
       "      <th>Cardiovascular diseases</th>\n",
       "      <th>Endocrine diseases</th>\n",
       "      <th>Gastrointestinal diseases</th>\n",
       "      <th>Genitourinary diseases</th>\n",
       "      <th>Infections</th>\n",
       "      <th>Injuries and external causes</th>\n",
       "      <th>Mental, behavioral, and substance use disorders</th>\n",
       "      <th>Musculoskeletal diseases</th>\n",
       "      <th>Neoplasms</th>\n",
       "      <th>Nervous system diseases</th>\n",
       "      <th>Respiratory diseases</th>\n",
       "    </tr>\n",
       "    <tr>\n",
       "      <th>url</th>\n",
       "      <th></th>\n",
       "      <th></th>\n",
       "      <th></th>\n",
       "      <th></th>\n",
       "      <th></th>\n",
       "      <th></th>\n",
       "      <th></th>\n",
       "      <th></th>\n",
       "      <th></th>\n",
       "      <th></th>\n",
       "      <th></th>\n",
       "    </tr>\n",
       "  </thead>\n",
       "  <tbody>\n",
       "    <tr>\n",
       "      <th>https://www.gofundme.com/f/lana-medical-procedure</th>\n",
       "      <td>0</td>\n",
       "      <td>0</td>\n",
       "      <td>0</td>\n",
       "      <td>0</td>\n",
       "      <td>0</td>\n",
       "      <td>0</td>\n",
       "      <td>0</td>\n",
       "      <td>1</td>\n",
       "      <td>0</td>\n",
       "      <td>1</td>\n",
       "      <td>0</td>\n",
       "    </tr>\n",
       "  </tbody>\n",
       "</table>\n",
       "</div>"
      ],
      "text/plain": [
       "disease_category                                   Cardiovascular diseases  \\\n",
       "url                                                                          \n",
       "https://www.gofundme.com/f/lana-medical-procedure                        0   \n",
       "\n",
       "disease_category                                   Endocrine diseases  \\\n",
       "url                                                                     \n",
       "https://www.gofundme.com/f/lana-medical-procedure                   0   \n",
       "\n",
       "disease_category                                   Gastrointestinal diseases  \\\n",
       "url                                                                            \n",
       "https://www.gofundme.com/f/lana-medical-procedure                          0   \n",
       "\n",
       "disease_category                                   Genitourinary diseases  \\\n",
       "url                                                                         \n",
       "https://www.gofundme.com/f/lana-medical-procedure                       0   \n",
       "\n",
       "disease_category                                   Infections  \\\n",
       "url                                                             \n",
       "https://www.gofundme.com/f/lana-medical-procedure           0   \n",
       "\n",
       "disease_category                                   Injuries and external causes  \\\n",
       "url                                                                               \n",
       "https://www.gofundme.com/f/lana-medical-procedure                             0   \n",
       "\n",
       "disease_category                                   Mental, behavioral, and substance use disorders  \\\n",
       "url                                                                                                  \n",
       "https://www.gofundme.com/f/lana-medical-procedure                                                0   \n",
       "\n",
       "disease_category                                   Musculoskeletal diseases  \\\n",
       "url                                                                           \n",
       "https://www.gofundme.com/f/lana-medical-procedure                         1   \n",
       "\n",
       "disease_category                                   Neoplasms  \\\n",
       "url                                                            \n",
       "https://www.gofundme.com/f/lana-medical-procedure          0   \n",
       "\n",
       "disease_category                                   Nervous system diseases  \\\n",
       "url                                                                          \n",
       "https://www.gofundme.com/f/lana-medical-procedure                        1   \n",
       "\n",
       "disease_category                                   Respiratory diseases  \n",
       "url                                                                      \n",
       "https://www.gofundme.com/f/lana-medical-procedure                     0  "
      ]
     },
     "execution_count": 410,
     "metadata": {},
     "output_type": "execute_result"
    }
   ],
   "source": [
    "disease_pivot[disease_pivot.index == test_urls[0]]"
   ]
  },
  {
   "cell_type": "code",
   "execution_count": 411,
   "metadata": {},
   "outputs": [
    {
     "data": {
      "text/html": [
       "<div>\n",
       "<style scoped>\n",
       "    .dataframe tbody tr th:only-of-type {\n",
       "        vertical-align: middle;\n",
       "    }\n",
       "\n",
       "    .dataframe tbody tr th {\n",
       "        vertical-align: top;\n",
       "    }\n",
       "\n",
       "    .dataframe thead th {\n",
       "        text-align: right;\n",
       "    }\n",
       "</style>\n",
       "<table border=\"1\" class=\"dataframe\">\n",
       "  <thead>\n",
       "    <tr style=\"text-align: right;\">\n",
       "      <th>disease_category</th>\n",
       "      <th>Cardiovascular diseases</th>\n",
       "      <th>Endocrine diseases</th>\n",
       "      <th>Gastrointestinal diseases</th>\n",
       "      <th>Genitourinary diseases</th>\n",
       "      <th>Infections</th>\n",
       "      <th>Injuries and external causes</th>\n",
       "      <th>Mental, behavioral, and substance use disorders</th>\n",
       "      <th>Musculoskeletal diseases</th>\n",
       "      <th>Neoplasms</th>\n",
       "      <th>Nervous system diseases</th>\n",
       "      <th>Respiratory diseases</th>\n",
       "    </tr>\n",
       "    <tr>\n",
       "      <th>url</th>\n",
       "      <th></th>\n",
       "      <th></th>\n",
       "      <th></th>\n",
       "      <th></th>\n",
       "      <th></th>\n",
       "      <th></th>\n",
       "      <th></th>\n",
       "      <th></th>\n",
       "      <th></th>\n",
       "      <th></th>\n",
       "      <th></th>\n",
       "    </tr>\n",
       "  </thead>\n",
       "  <tbody>\n",
       "    <tr>\n",
       "      <th>https://www.gofundme.com/f/2sv6wppg</th>\n",
       "      <td>1</td>\n",
       "      <td>0</td>\n",
       "      <td>0</td>\n",
       "      <td>0</td>\n",
       "      <td>0</td>\n",
       "      <td>0</td>\n",
       "      <td>0</td>\n",
       "      <td>0</td>\n",
       "      <td>0</td>\n",
       "      <td>0</td>\n",
       "      <td>0</td>\n",
       "    </tr>\n",
       "  </tbody>\n",
       "</table>\n",
       "</div>"
      ],
      "text/plain": [
       "disease_category                     Cardiovascular diseases  \\\n",
       "url                                                            \n",
       "https://www.gofundme.com/f/2sv6wppg                        1   \n",
       "\n",
       "disease_category                     Endocrine diseases  \\\n",
       "url                                                       \n",
       "https://www.gofundme.com/f/2sv6wppg                   0   \n",
       "\n",
       "disease_category                     Gastrointestinal diseases  \\\n",
       "url                                                              \n",
       "https://www.gofundme.com/f/2sv6wppg                          0   \n",
       "\n",
       "disease_category                     Genitourinary diseases  Infections  \\\n",
       "url                                                                       \n",
       "https://www.gofundme.com/f/2sv6wppg                       0           0   \n",
       "\n",
       "disease_category                     Injuries and external causes  \\\n",
       "url                                                                 \n",
       "https://www.gofundme.com/f/2sv6wppg                             0   \n",
       "\n",
       "disease_category                     Mental, behavioral, and substance use disorders  \\\n",
       "url                                                                                    \n",
       "https://www.gofundme.com/f/2sv6wppg                                                0   \n",
       "\n",
       "disease_category                     Musculoskeletal diseases  Neoplasms  \\\n",
       "url                                                                        \n",
       "https://www.gofundme.com/f/2sv6wppg                         0          0   \n",
       "\n",
       "disease_category                     Nervous system diseases  \\\n",
       "url                                                            \n",
       "https://www.gofundme.com/f/2sv6wppg                        0   \n",
       "\n",
       "disease_category                     Respiratory diseases  \n",
       "url                                                        \n",
       "https://www.gofundme.com/f/2sv6wppg                     0  "
      ]
     },
     "execution_count": 411,
     "metadata": {},
     "output_type": "execute_result"
    }
   ],
   "source": [
    "disease_pivot[disease_pivot.index == test_urls[1]]"
   ]
  },
  {
   "cell_type": "code",
   "execution_count": 412,
   "metadata": {},
   "outputs": [
    {
     "data": {
      "text/html": [
       "<div>\n",
       "<style scoped>\n",
       "    .dataframe tbody tr th:only-of-type {\n",
       "        vertical-align: middle;\n",
       "    }\n",
       "\n",
       "    .dataframe tbody tr th {\n",
       "        vertical-align: top;\n",
       "    }\n",
       "\n",
       "    .dataframe thead th {\n",
       "        text-align: right;\n",
       "    }\n",
       "</style>\n",
       "<table border=\"1\" class=\"dataframe\">\n",
       "  <thead>\n",
       "    <tr style=\"text-align: right;\">\n",
       "      <th>int_category</th>\n",
       "      <th>Breast cancer</th>\n",
       "      <th>CKD and renal failure</th>\n",
       "      <th>COPD</th>\n",
       "      <th>Cerebrovascular disease</th>\n",
       "      <th>Colorectal cancer</th>\n",
       "      <th>Congenital cardiac defects</th>\n",
       "      <th>Congenital neurologic defects</th>\n",
       "      <th>Coronary artery disease</th>\n",
       "      <th>Diabetes</th>\n",
       "      <th>Heart failure</th>\n",
       "      <th>...</th>\n",
       "      <th>Mental and substance use disorders</th>\n",
       "      <th>Musculoskeletal diseases</th>\n",
       "      <th>Neurodegenerative diseases</th>\n",
       "      <th>Other cardiovascular disorders</th>\n",
       "      <th>Other endocrine disorders</th>\n",
       "      <th>Other gastrointestinal disorders</th>\n",
       "      <th>Other genitourinary disorders</th>\n",
       "      <th>Other neoplasms</th>\n",
       "      <th>Other neurologic disorders</th>\n",
       "      <th>Other respiratory disorders</th>\n",
       "    </tr>\n",
       "    <tr>\n",
       "      <th>url</th>\n",
       "      <th></th>\n",
       "      <th></th>\n",
       "      <th></th>\n",
       "      <th></th>\n",
       "      <th></th>\n",
       "      <th></th>\n",
       "      <th></th>\n",
       "      <th></th>\n",
       "      <th></th>\n",
       "      <th></th>\n",
       "      <th></th>\n",
       "      <th></th>\n",
       "      <th></th>\n",
       "      <th></th>\n",
       "      <th></th>\n",
       "      <th></th>\n",
       "      <th></th>\n",
       "      <th></th>\n",
       "      <th></th>\n",
       "      <th></th>\n",
       "      <th></th>\n",
       "    </tr>\n",
       "  </thead>\n",
       "  <tbody>\n",
       "    <tr>\n",
       "      <th>https://www.gofundme.com/f/lana-medical-procedure</th>\n",
       "      <td>0</td>\n",
       "      <td>0</td>\n",
       "      <td>0</td>\n",
       "      <td>0</td>\n",
       "      <td>0</td>\n",
       "      <td>0</td>\n",
       "      <td>0</td>\n",
       "      <td>0</td>\n",
       "      <td>0</td>\n",
       "      <td>0</td>\n",
       "      <td>...</td>\n",
       "      <td>0</td>\n",
       "      <td>1</td>\n",
       "      <td>0</td>\n",
       "      <td>0</td>\n",
       "      <td>0</td>\n",
       "      <td>0</td>\n",
       "      <td>0</td>\n",
       "      <td>0</td>\n",
       "      <td>1</td>\n",
       "      <td>0</td>\n",
       "    </tr>\n",
       "  </tbody>\n",
       "</table>\n",
       "<p>1 rows × 25 columns</p>\n",
       "</div>"
      ],
      "text/plain": [
       "int_category                                       Breast cancer  \\\n",
       "url                                                                \n",
       "https://www.gofundme.com/f/lana-medical-procedure              0   \n",
       "\n",
       "int_category                                       CKD and renal failure  \\\n",
       "url                                                                        \n",
       "https://www.gofundme.com/f/lana-medical-procedure                      0   \n",
       "\n",
       "int_category                                       COPD  \\\n",
       "url                                                       \n",
       "https://www.gofundme.com/f/lana-medical-procedure     0   \n",
       "\n",
       "int_category                                       Cerebrovascular disease  \\\n",
       "url                                                                          \n",
       "https://www.gofundme.com/f/lana-medical-procedure                        0   \n",
       "\n",
       "int_category                                       Colorectal cancer  \\\n",
       "url                                                                    \n",
       "https://www.gofundme.com/f/lana-medical-procedure                  0   \n",
       "\n",
       "int_category                                       Congenital cardiac defects  \\\n",
       "url                                                                             \n",
       "https://www.gofundme.com/f/lana-medical-procedure                           0   \n",
       "\n",
       "int_category                                       Congenital neurologic defects  \\\n",
       "url                                                                                \n",
       "https://www.gofundme.com/f/lana-medical-procedure                              0   \n",
       "\n",
       "int_category                                       Coronary artery disease  \\\n",
       "url                                                                          \n",
       "https://www.gofundme.com/f/lana-medical-procedure                        0   \n",
       "\n",
       "int_category                                       Diabetes  Heart failure  \\\n",
       "url                                                                          \n",
       "https://www.gofundme.com/f/lana-medical-procedure         0              0   \n",
       "\n",
       "int_category                                       ...  \\\n",
       "url                                                ...   \n",
       "https://www.gofundme.com/f/lana-medical-procedure  ...   \n",
       "\n",
       "int_category                                       Mental and substance use disorders  \\\n",
       "url                                                                                     \n",
       "https://www.gofundme.com/f/lana-medical-procedure                                   0   \n",
       "\n",
       "int_category                                       Musculoskeletal diseases  \\\n",
       "url                                                                           \n",
       "https://www.gofundme.com/f/lana-medical-procedure                         1   \n",
       "\n",
       "int_category                                       Neurodegenerative diseases  \\\n",
       "url                                                                             \n",
       "https://www.gofundme.com/f/lana-medical-procedure                           0   \n",
       "\n",
       "int_category                                       Other cardiovascular disorders  \\\n",
       "url                                                                                 \n",
       "https://www.gofundme.com/f/lana-medical-procedure                               0   \n",
       "\n",
       "int_category                                       Other endocrine disorders  \\\n",
       "url                                                                            \n",
       "https://www.gofundme.com/f/lana-medical-procedure                          0   \n",
       "\n",
       "int_category                                       Other gastrointestinal disorders  \\\n",
       "url                                                                                   \n",
       "https://www.gofundme.com/f/lana-medical-procedure                                 0   \n",
       "\n",
       "int_category                                       Other genitourinary disorders  \\\n",
       "url                                                                                \n",
       "https://www.gofundme.com/f/lana-medical-procedure                              0   \n",
       "\n",
       "int_category                                       Other neoplasms  \\\n",
       "url                                                                  \n",
       "https://www.gofundme.com/f/lana-medical-procedure                0   \n",
       "\n",
       "int_category                                       Other neurologic disorders  \\\n",
       "url                                                                             \n",
       "https://www.gofundme.com/f/lana-medical-procedure                           1   \n",
       "\n",
       "int_category                                       Other respiratory disorders  \n",
       "url                                                                             \n",
       "https://www.gofundme.com/f/lana-medical-procedure                            0  \n",
       "\n",
       "[1 rows x 25 columns]"
      ]
     },
     "execution_count": 412,
     "metadata": {},
     "output_type": "execute_result"
    }
   ],
   "source": [
    "int_pivot[int_pivot.index == test_urls[0]]"
   ]
  },
  {
   "cell_type": "code",
   "execution_count": 413,
   "metadata": {},
   "outputs": [
    {
     "data": {
      "text/html": [
       "<div>\n",
       "<style scoped>\n",
       "    .dataframe tbody tr th:only-of-type {\n",
       "        vertical-align: middle;\n",
       "    }\n",
       "\n",
       "    .dataframe tbody tr th {\n",
       "        vertical-align: top;\n",
       "    }\n",
       "\n",
       "    .dataframe thead th {\n",
       "        text-align: right;\n",
       "    }\n",
       "</style>\n",
       "<table border=\"1\" class=\"dataframe\">\n",
       "  <thead>\n",
       "    <tr style=\"text-align: right;\">\n",
       "      <th>int_category</th>\n",
       "      <th>Breast cancer</th>\n",
       "      <th>CKD and renal failure</th>\n",
       "      <th>COPD</th>\n",
       "      <th>Cerebrovascular disease</th>\n",
       "      <th>Colorectal cancer</th>\n",
       "      <th>Congenital cardiac defects</th>\n",
       "      <th>Congenital neurologic defects</th>\n",
       "      <th>Coronary artery disease</th>\n",
       "      <th>Diabetes</th>\n",
       "      <th>Heart failure</th>\n",
       "      <th>...</th>\n",
       "      <th>Mental and substance use disorders</th>\n",
       "      <th>Musculoskeletal diseases</th>\n",
       "      <th>Neurodegenerative diseases</th>\n",
       "      <th>Other cardiovascular disorders</th>\n",
       "      <th>Other endocrine disorders</th>\n",
       "      <th>Other gastrointestinal disorders</th>\n",
       "      <th>Other genitourinary disorders</th>\n",
       "      <th>Other neoplasms</th>\n",
       "      <th>Other neurologic disorders</th>\n",
       "      <th>Other respiratory disorders</th>\n",
       "    </tr>\n",
       "    <tr>\n",
       "      <th>url</th>\n",
       "      <th></th>\n",
       "      <th></th>\n",
       "      <th></th>\n",
       "      <th></th>\n",
       "      <th></th>\n",
       "      <th></th>\n",
       "      <th></th>\n",
       "      <th></th>\n",
       "      <th></th>\n",
       "      <th></th>\n",
       "      <th></th>\n",
       "      <th></th>\n",
       "      <th></th>\n",
       "      <th></th>\n",
       "      <th></th>\n",
       "      <th></th>\n",
       "      <th></th>\n",
       "      <th></th>\n",
       "      <th></th>\n",
       "      <th></th>\n",
       "      <th></th>\n",
       "    </tr>\n",
       "  </thead>\n",
       "  <tbody>\n",
       "    <tr>\n",
       "      <th>https://www.gofundme.com/f/2sv6wppg</th>\n",
       "      <td>0</td>\n",
       "      <td>0</td>\n",
       "      <td>0</td>\n",
       "      <td>0</td>\n",
       "      <td>0</td>\n",
       "      <td>1</td>\n",
       "      <td>0</td>\n",
       "      <td>0</td>\n",
       "      <td>0</td>\n",
       "      <td>0</td>\n",
       "      <td>...</td>\n",
       "      <td>0</td>\n",
       "      <td>0</td>\n",
       "      <td>0</td>\n",
       "      <td>1</td>\n",
       "      <td>0</td>\n",
       "      <td>0</td>\n",
       "      <td>0</td>\n",
       "      <td>0</td>\n",
       "      <td>0</td>\n",
       "      <td>0</td>\n",
       "    </tr>\n",
       "  </tbody>\n",
       "</table>\n",
       "<p>1 rows × 25 columns</p>\n",
       "</div>"
      ],
      "text/plain": [
       "int_category                         Breast cancer  CKD and renal failure  \\\n",
       "url                                                                         \n",
       "https://www.gofundme.com/f/2sv6wppg              0                      0   \n",
       "\n",
       "int_category                         COPD  Cerebrovascular disease  \\\n",
       "url                                                                  \n",
       "https://www.gofundme.com/f/2sv6wppg     0                        0   \n",
       "\n",
       "int_category                         Colorectal cancer  \\\n",
       "url                                                      \n",
       "https://www.gofundme.com/f/2sv6wppg                  0   \n",
       "\n",
       "int_category                         Congenital cardiac defects  \\\n",
       "url                                                               \n",
       "https://www.gofundme.com/f/2sv6wppg                           1   \n",
       "\n",
       "int_category                         Congenital neurologic defects  \\\n",
       "url                                                                  \n",
       "https://www.gofundme.com/f/2sv6wppg                              0   \n",
       "\n",
       "int_category                         Coronary artery disease  Diabetes  \\\n",
       "url                                                                      \n",
       "https://www.gofundme.com/f/2sv6wppg                        0         0   \n",
       "\n",
       "int_category                         Heart failure  ...  \\\n",
       "url                                                 ...   \n",
       "https://www.gofundme.com/f/2sv6wppg              0  ...   \n",
       "\n",
       "int_category                         Mental and substance use disorders  \\\n",
       "url                                                                       \n",
       "https://www.gofundme.com/f/2sv6wppg                                   0   \n",
       "\n",
       "int_category                         Musculoskeletal diseases  \\\n",
       "url                                                             \n",
       "https://www.gofundme.com/f/2sv6wppg                         0   \n",
       "\n",
       "int_category                         Neurodegenerative diseases  \\\n",
       "url                                                               \n",
       "https://www.gofundme.com/f/2sv6wppg                           0   \n",
       "\n",
       "int_category                         Other cardiovascular disorders  \\\n",
       "url                                                                   \n",
       "https://www.gofundme.com/f/2sv6wppg                               1   \n",
       "\n",
       "int_category                         Other endocrine disorders  \\\n",
       "url                                                              \n",
       "https://www.gofundme.com/f/2sv6wppg                          0   \n",
       "\n",
       "int_category                         Other gastrointestinal disorders  \\\n",
       "url                                                                     \n",
       "https://www.gofundme.com/f/2sv6wppg                                 0   \n",
       "\n",
       "int_category                         Other genitourinary disorders  \\\n",
       "url                                                                  \n",
       "https://www.gofundme.com/f/2sv6wppg                              0   \n",
       "\n",
       "int_category                         Other neoplasms  \\\n",
       "url                                                    \n",
       "https://www.gofundme.com/f/2sv6wppg                0   \n",
       "\n",
       "int_category                         Other neurologic disorders  \\\n",
       "url                                                               \n",
       "https://www.gofundme.com/f/2sv6wppg                           0   \n",
       "\n",
       "int_category                         Other respiratory disorders  \n",
       "url                                                               \n",
       "https://www.gofundme.com/f/2sv6wppg                            0  \n",
       "\n",
       "[1 rows x 25 columns]"
      ]
     },
     "execution_count": 413,
     "metadata": {},
     "output_type": "execute_result"
    }
   ],
   "source": [
    "int_pivot[int_pivot.index == test_urls[1]]"
   ]
  },
  {
   "cell_type": "code",
   "execution_count": 414,
   "metadata": {},
   "outputs": [
    {
     "name": "stdout",
     "output_type": "stream",
     "text": [
      "6055\n",
      "6055\n"
     ]
    }
   ],
   "source": [
    "print(disease_pivot['Infections'].sum())\n",
    "print(int_pivot['Infections'].sum())"
   ]
  },
  {
   "cell_type": "code",
   "execution_count": 415,
   "metadata": {},
   "outputs": [
    {
     "name": "stdout",
     "output_type": "stream",
     "text": [
      "3607\n",
      "3607\n"
     ]
    }
   ],
   "source": [
    "print(disease_pivot['Mental, behavioral, and substance use disorders'].sum())\n",
    "print(int_pivot['Mental and substance use disorders'].sum())"
   ]
  },
  {
   "cell_type": "code",
   "execution_count": 416,
   "metadata": {},
   "outputs": [
    {
     "name": "stdout",
     "output_type": "stream",
     "text": [
      "3897\n",
      "3897\n"
     ]
    }
   ],
   "source": [
    "print(disease_pivot['Musculoskeletal diseases'].sum())\n",
    "print(int_pivot['Musculoskeletal diseases'].sum())"
   ]
  },
  {
   "cell_type": "code",
   "execution_count": 417,
   "metadata": {},
   "outputs": [
    {
     "name": "stdout",
     "output_type": "stream",
     "text": [
      "5687\n",
      "5687\n"
     ]
    }
   ],
   "source": [
    "print(disease_pivot['Injuries and external causes'].sum())\n",
    "print(int_pivot['Injuries and external causes'].sum())"
   ]
  },
  {
   "cell_type": "code",
   "execution_count": 418,
   "metadata": {},
   "outputs": [
    {
     "name": "stdout",
     "output_type": "stream",
     "text": [
      "37201\n",
      "37201\n"
     ]
    }
   ],
   "source": [
    "print(disease_pivot['Neoplasms'].sum())\n",
    "print(sum(int_pivot[['Other neoplasms','Colorectal cancer','Breast cancer','Lung cancer','Hematologic malignancies']].apply(lambda x: x.sum(), axis=1) > 0))"
   ]
  },
  {
   "cell_type": "code",
   "execution_count": 419,
   "metadata": {},
   "outputs": [
    {
     "name": "stdout",
     "output_type": "stream",
     "text": [
      "10347\n",
      "10347\n"
     ]
    }
   ],
   "source": [
    "print(disease_pivot['Cardiovascular diseases'].sum())\n",
    "print(sum(int_pivot[['Other cardiovascular disorders','Cerebrovascular disease','Congenital cardiac defects','Heart failure','Coronary artery disease']].apply(lambda x: x.sum(), axis=1) > 0))"
   ]
  },
  {
   "cell_type": "code",
   "execution_count": 420,
   "metadata": {},
   "outputs": [
    {
     "name": "stdout",
     "output_type": "stream",
     "text": [
      "6596\n",
      "6596\n"
     ]
    }
   ],
   "source": [
    "print(disease_pivot['Nervous system diseases'].sum())\n",
    "print(sum(int_pivot[['Other neurologic disorders','Neurodegenerative diseases','Congenital neurologic defects']].apply(lambda x: x.sum(), axis=1) > 0))"
   ]
  },
  {
   "cell_type": "code",
   "execution_count": 421,
   "metadata": {},
   "outputs": [
    {
     "name": "stdout",
     "output_type": "stream",
     "text": [
      "4181\n",
      "4181\n"
     ]
    }
   ],
   "source": [
    "print(disease_pivot['Gastrointestinal diseases'].sum())\n",
    "print(sum(int_pivot[['Other gastrointestinal disorders','Liver diseases']].apply(lambda x: x.sum(), axis=1) > 0))"
   ]
  },
  {
   "cell_type": "code",
   "execution_count": 422,
   "metadata": {},
   "outputs": [
    {
     "name": "stdout",
     "output_type": "stream",
     "text": [
      "3243\n",
      "3243\n"
     ]
    }
   ],
   "source": [
    "print(disease_pivot['Endocrine diseases'].sum())\n",
    "print(sum(int_pivot[['Other endocrine disorders','Diabetes']].apply(lambda x: x.sum(), axis=1) > 0))"
   ]
  },
  {
   "cell_type": "code",
   "execution_count": 423,
   "metadata": {},
   "outputs": [
    {
     "name": "stdout",
     "output_type": "stream",
     "text": [
      "4495\n",
      "4495\n"
     ]
    }
   ],
   "source": [
    "print(disease_pivot['Respiratory diseases'].sum())\n",
    "print(sum(int_pivot[['Other respiratory disorders','COPD']].apply(lambda x: x.sum(), axis=1) > 0))"
   ]
  },
  {
   "cell_type": "code",
   "execution_count": 424,
   "metadata": {},
   "outputs": [
    {
     "name": "stdout",
     "output_type": "stream",
     "text": [
      "4476\n",
      "4476\n"
     ]
    }
   ],
   "source": [
    "print(disease_pivot['Genitourinary diseases'].sum())\n",
    "print(sum(int_pivot[['Other genitourinary disorders','CKD and renal failure']].apply(lambda x: x.sum(), axis=1) > 0))"
   ]
  },
  {
   "cell_type": "markdown",
   "metadata": {},
   "source": [
    "### Get primary category"
   ]
  },
  {
   "cell_type": "markdown",
   "metadata": {},
   "source": [
    "Summarize by disease category and location of chunk in text"
   ]
  },
  {
   "cell_type": "code",
   "execution_count": null,
   "metadata": {},
   "outputs": [],
   "source": [
    "#er_final = er_final.reset_index()"
   ]
  },
  {
   "cell_type": "code",
   "execution_count": 425,
   "metadata": {},
   "outputs": [
    {
     "name": "stdout",
     "output_type": "stream",
     "text": [
      "CPU times: user 14.3 s, sys: 319 ms, total: 14.6 s\n",
      "Wall time: 14.9 s\n"
     ]
    }
   ],
   "source": [
    "%%time\n",
    "er_cat = er_final[['url','begin','disease_category','int_category']].groupby(['url']).agg(list)"
   ]
  },
  {
   "cell_type": "code",
   "execution_count": 426,
   "metadata": {},
   "outputs": [],
   "source": [
    "from collections import Counter"
   ]
  },
  {
   "cell_type": "code",
   "execution_count": 427,
   "metadata": {},
   "outputs": [],
   "source": [
    "#get counts for each category\n",
    "er_cat['disease_category_count'] = er_cat['disease_category'].apply(lambda x: Counter(x).most_common())\n",
    "er_cat['int_category_count'] = er_cat['int_category'].apply(lambda x: Counter(x).most_common())"
   ]
  },
  {
   "cell_type": "code",
   "execution_count": 428,
   "metadata": {},
   "outputs": [],
   "source": [
    "#separate counts into separate column\n",
    "er_cat['disease_category_count_max'] = [x[0][1] for x in er_cat['disease_category_count']]\n",
    "er_cat['int_category_count_max'] = [x[0][1] for x in er_cat['int_category_count']]"
   ]
  },
  {
   "cell_type": "code",
   "execution_count": 429,
   "metadata": {},
   "outputs": [],
   "source": [
    "#explode\n",
    "exl_d = er_cat.explode('disease_category_count')\n",
    "exl_i = er_cat.explode('int_category_count')"
   ]
  },
  {
   "cell_type": "code",
   "execution_count": 430,
   "metadata": {},
   "outputs": [],
   "source": [
    "#separate tuples\n",
    "exl_d['disease_cat'] = [x[0] for x in exl_d['disease_category_count']]\n",
    "exl_d['disease_cat_val'] = [x[1] for x in exl_d['disease_category_count']]\n",
    "\n",
    "exl_i['int_cat'] = [x[0] for x in exl_i['int_category_count']]\n",
    "exl_i['int_cat_val'] = [x[1] for x in exl_i['int_category_count']]"
   ]
  },
  {
   "cell_type": "code",
   "execution_count": 431,
   "metadata": {},
   "outputs": [],
   "source": [
    "#remove categories that do not have max amount\n",
    "exl_d = exl_d[exl_d['disease_cat_val'] == exl_d['disease_category_count_max']]\n",
    "exl_i = exl_i[exl_i['int_cat_val'] == exl_i['int_category_count_max']]"
   ]
  },
  {
   "cell_type": "code",
   "execution_count": 432,
   "metadata": {},
   "outputs": [],
   "source": [
    "#reset indices\n",
    "exl_d = exl_d.reset_index()\n",
    "exl_i = exl_i.reset_index()"
   ]
  },
  {
   "cell_type": "code",
   "execution_count": 433,
   "metadata": {},
   "outputs": [
    {
     "name": "stdout",
     "output_type": "stream",
     "text": [
      "(13162, 10)\n",
      "(22877, 10)\n",
      "(59238, 10)\n",
      "(54890, 10)\n"
     ]
    }
   ],
   "source": [
    "#separate urls that are duplicated (those who have multiple categories equal to max count)\n",
    "exl_d_dup = exl_d[exl_d['url'].duplicated(keep=False)]\n",
    "exl_i_dup = exl_i[exl_i['url'].duplicated(keep=False)]\n",
    "\n",
    "#separate urls that are not duplicated\n",
    "exl_d_no_dup = exl_d[~exl_d['url'].duplicated(keep=False)]\n",
    "exl_i_no_dup = exl_i[~exl_i['url'].duplicated(keep=False)]\n",
    "\n",
    "print(exl_d_dup.shape)\n",
    "print(exl_i_dup.shape)\n",
    "\n",
    "print(exl_d_no_dup.shape)\n",
    "print(exl_i_no_dup.shape)"
   ]
  },
  {
   "cell_type": "code",
   "execution_count": 434,
   "metadata": {},
   "outputs": [],
   "source": [
    "def GetPrimaryCat(df, first_col, second_col):\n",
    "\n",
    "    r = {}\n",
    "\n",
    "    for url in df['url']:\n",
    "        sub = df[df['url'] == url]\n",
    "        candidates = sub[sub['url'] == url][first_col].tolist()\n",
    "        pos = sub[sub['url'] == url].drop_duplicates('url')['begin'].tolist()[0]\n",
    "        cats = sub[sub['url'] == url].drop_duplicates('url')[second_col].tolist()[0]\n",
    "        new_df = pd.DataFrame({'cats':cats, 'pos':pos})\n",
    "        new_df = new_df[new_df['cats'].isin(candidates)]\n",
    "        final_cat = new_df.groupby('cats').agg('mean').reset_index().sort_values('pos', ascending=True)['cats'].tolist()[0]\n",
    "\n",
    "        r[url] = final_cat\n",
    "    \n",
    "    return r"
   ]
  },
  {
   "cell_type": "code",
   "execution_count": 435,
   "metadata": {},
   "outputs": [
    {
     "name": "stdout",
     "output_type": "stream",
     "text": [
      "CPU times: user 2min 14s, sys: 2.06 s, total: 2min 16s\n",
      "Wall time: 2min 30s\n"
     ]
    }
   ],
   "source": [
    "%%time\n",
    "primary_disease_map = GetPrimaryCat(exl_d_dup,'disease_cat','disease_category') "
   ]
  },
  {
   "cell_type": "code",
   "execution_count": 436,
   "metadata": {},
   "outputs": [
    {
     "name": "stdout",
     "output_type": "stream",
     "text": [
      "CPU times: user 4min 38s, sys: 5.94 s, total: 4min 44s\n",
      "Wall time: 5min 24s\n"
     ]
    }
   ],
   "source": [
    "%%time\n",
    "primary_int_map = GetPrimaryCat(exl_i_dup,'int_cat','int_category')"
   ]
  },
  {
   "cell_type": "code",
   "execution_count": 437,
   "metadata": {},
   "outputs": [],
   "source": [
    "def SubsetPrimaryCat(df, subset_map, col):\n",
    "    \n",
    "    r = []\n",
    "    \n",
    "    for k,v in subset_map.items():\n",
    "        sub = df[df['url'] == k]\n",
    "        sub = sub[sub[col] == v]\n",
    "        r.append(sub)\n",
    "    \n",
    "    return pd.concat(r)    "
   ]
  },
  {
   "cell_type": "code",
   "execution_count": 438,
   "metadata": {},
   "outputs": [
    {
     "name": "stdout",
     "output_type": "stream",
     "text": [
      "CPU times: user 13.5 s, sys: 622 ms, total: 14.1 s\n",
      "Wall time: 14.8 s\n"
     ]
    }
   ],
   "source": [
    "%%time\n",
    "exl_d_dup_primary = SubsetPrimaryCat(exl_d_dup, primary_disease_map, 'disease_cat')"
   ]
  },
  {
   "cell_type": "code",
   "execution_count": 439,
   "metadata": {},
   "outputs": [
    {
     "name": "stdout",
     "output_type": "stream",
     "text": [
      "CPU times: user 34 s, sys: 537 ms, total: 34.5 s\n",
      "Wall time: 37 s\n"
     ]
    }
   ],
   "source": [
    "%%time\n",
    "exl_i_dup_primary = SubsetPrimaryCat(exl_i_dup, primary_int_map, 'int_cat')"
   ]
  },
  {
   "cell_type": "code",
   "execution_count": 440,
   "metadata": {},
   "outputs": [],
   "source": [
    "#concatenate primary results from duplicated\n",
    "primary_disease = pd.concat([exl_d_no_dup,exl_d_dup_primary])\n",
    "primary_int = pd.concat([exl_i_no_dup,exl_i_dup_primary])"
   ]
  },
  {
   "cell_type": "code",
   "execution_count": 441,
   "metadata": {},
   "outputs": [
    {
     "name": "stdout",
     "output_type": "stream",
     "text": [
      "(65176, 10)\n",
      "(65176, 10)\n"
     ]
    }
   ],
   "source": [
    "print(primary_disease.shape)\n",
    "print(primary_int.shape)"
   ]
  },
  {
   "cell_type": "code",
   "execution_count": 442,
   "metadata": {},
   "outputs": [],
   "source": [
    "primary_category = pd.merge(primary_disease[['url','disease_cat']], primary_int[['url','int_cat']], on='url', how='left')"
   ]
  },
  {
   "cell_type": "markdown",
   "metadata": {},
   "source": [
    "### Export data"
   ]
  },
  {
   "cell_type": "code",
   "execution_count": 164,
   "metadata": {},
   "outputs": [],
   "source": [
    "import sqlite3"
   ]
  },
  {
   "cell_type": "code",
   "execution_count": 443,
   "metadata": {},
   "outputs": [],
   "source": [
    "conn = sqlite3.connect(\"../data/db/gfm.db\")"
   ]
  },
  {
   "cell_type": "code",
   "execution_count": 444,
   "metadata": {},
   "outputs": [],
   "source": [
    "er_final.to_sql('er_final', con=conn,if_exists='replace')"
   ]
  },
  {
   "cell_type": "code",
   "execution_count": 446,
   "metadata": {},
   "outputs": [],
   "source": [
    "disease_pivot = disease_pivot.reset_index()\n",
    "disease_pivot.columns.name = ''\n",
    "cols = disease_pivot.columns\n",
    "cols = [x.lower().replace(',','').replace(' ','_') for x in cols]\n",
    "disease_pivot.columns = cols\n",
    "\n",
    "disease_pivot.to_sql('disease_pivot', con=conn, if_exists='replace')"
   ]
  },
  {
   "cell_type": "code",
   "execution_count": 447,
   "metadata": {},
   "outputs": [],
   "source": [
    "int_pivot.reset_index()\n",
    "int_pivot.columns.name = ''\n",
    "cols = int_pivot.columns\n",
    "cols = [x.lower().replace(',','').replace(' ','_') for x in cols]\n",
    "int_pivot.columns = cols\n",
    "\n",
    "int_pivot.to_sql('int_pivot', con=conn, if_exists='replace')"
   ]
  },
  {
   "cell_type": "code",
   "execution_count": 448,
   "metadata": {},
   "outputs": [],
   "source": [
    "primary_category.to_sql('primary_cat', con=conn, if_exists='replace')"
   ]
  }
 ],
 "metadata": {
  "kernelspec": {
   "display_name": "Python 3",
   "language": "python",
   "name": "python3"
  },
  "language_info": {
   "codemirror_mode": {
    "name": "ipython",
    "version": 3
   },
   "file_extension": ".py",
   "mimetype": "text/x-python",
   "name": "python",
   "nbconvert_exporter": "python",
   "pygments_lexer": "ipython3",
   "version": "3.7.6"
  }
 },
 "nbformat": 4,
 "nbformat_minor": 4
}
