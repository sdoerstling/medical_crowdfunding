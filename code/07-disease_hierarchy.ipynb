{
 "cells": [
  {
   "cell_type": "markdown",
   "metadata": {},
   "source": [
    "### Import packages"
   ]
  },
  {
   "cell_type": "code",
   "execution_count": 386,
   "metadata": {},
   "outputs": [],
   "source": [
    "import pandas as pd\n",
    "import numpy as np"
   ]
  },
  {
   "cell_type": "markdown",
   "metadata": {},
   "source": [
    "### Import CCSR data"
   ]
  },
  {
   "cell_type": "code",
   "execution_count": 387,
   "metadata": {},
   "outputs": [],
   "source": [
    "icd_map = pd.read_csv('../data/ccsr/DXCCSR_v2021-1.CSV')"
   ]
  },
  {
   "cell_type": "code",
   "execution_count": 388,
   "metadata": {},
   "outputs": [
    {
     "data": {
      "text/html": [
       "<div>\n",
       "<style scoped>\n",
       "    .dataframe tbody tr th:only-of-type {\n",
       "        vertical-align: middle;\n",
       "    }\n",
       "\n",
       "    .dataframe tbody tr th {\n",
       "        vertical-align: top;\n",
       "    }\n",
       "\n",
       "    .dataframe thead th {\n",
       "        text-align: right;\n",
       "    }\n",
       "</style>\n",
       "<table border=\"1\" class=\"dataframe\">\n",
       "  <thead>\n",
       "    <tr style=\"text-align: right;\">\n",
       "      <th></th>\n",
       "      <th>'ICD-10-CM CODE'</th>\n",
       "      <th>'ICD-10-CM CODE DESCRIPTION'</th>\n",
       "      <th>'Default CCSR CATEGORY IP</th>\n",
       "      <th>'Default CCSR CATEGORY DESCRIPTION IP'</th>\n",
       "      <th>'Default CCSR CATEGORY OP</th>\n",
       "      <th>'Default CCSR CATEGORY DESCRIPTION OP'</th>\n",
       "      <th>'CCSR CATEGORY 1'</th>\n",
       "      <th>'CCSR CATEGORY 1 DESCRIPTION'</th>\n",
       "      <th>'CCSR CATEGORY 2'</th>\n",
       "      <th>'CCSR CATEGORY 2 DESCRIPTION'</th>\n",
       "      <th>'CCSR CATEGORY 3'</th>\n",
       "      <th>'CCSR CATEGORY 3 DESCRIPTION'</th>\n",
       "      <th>'CCSR CATEGORY 4'</th>\n",
       "      <th>'CCSR CATEGORY 4 DESCRIPTION'</th>\n",
       "      <th>'CCSR CATEGORY 5'</th>\n",
       "      <th>'CCSR CATEGORY 5 DESCRIPTION'</th>\n",
       "      <th>'CCSR CATEGORY 6'</th>\n",
       "      <th>'CCSR CATEGORY 6 DESCRIPTION'</th>\n",
       "    </tr>\n",
       "  </thead>\n",
       "  <tbody>\n",
       "    <tr>\n",
       "      <th>0</th>\n",
       "      <td>'A000'</td>\n",
       "      <td>Cholera due to Vibrio cholerae 01, biovar chol...</td>\n",
       "      <td>'DIG001'</td>\n",
       "      <td>Intestinal infection</td>\n",
       "      <td>'DIG001'</td>\n",
       "      <td>Intestinal infection</td>\n",
       "      <td>'DIG001'</td>\n",
       "      <td>Intestinal infection</td>\n",
       "      <td>'INF003'</td>\n",
       "      <td>Bacterial infections</td>\n",
       "      <td>' '</td>\n",
       "      <td></td>\n",
       "      <td>' '</td>\n",
       "      <td></td>\n",
       "      <td>' '</td>\n",
       "      <td></td>\n",
       "      <td>' '</td>\n",
       "      <td></td>\n",
       "    </tr>\n",
       "    <tr>\n",
       "      <th>1</th>\n",
       "      <td>'A001'</td>\n",
       "      <td>Cholera due to Vibrio cholerae 01, biovar eltor</td>\n",
       "      <td>'DIG001'</td>\n",
       "      <td>Intestinal infection</td>\n",
       "      <td>'DIG001'</td>\n",
       "      <td>Intestinal infection</td>\n",
       "      <td>'DIG001'</td>\n",
       "      <td>Intestinal infection</td>\n",
       "      <td>'INF003'</td>\n",
       "      <td>Bacterial infections</td>\n",
       "      <td>' '</td>\n",
       "      <td></td>\n",
       "      <td>' '</td>\n",
       "      <td></td>\n",
       "      <td>' '</td>\n",
       "      <td></td>\n",
       "      <td>' '</td>\n",
       "      <td></td>\n",
       "    </tr>\n",
       "    <tr>\n",
       "      <th>2</th>\n",
       "      <td>'A009'</td>\n",
       "      <td>Cholera, unspecified</td>\n",
       "      <td>'DIG001'</td>\n",
       "      <td>Intestinal infection</td>\n",
       "      <td>'DIG001'</td>\n",
       "      <td>Intestinal infection</td>\n",
       "      <td>'DIG001'</td>\n",
       "      <td>Intestinal infection</td>\n",
       "      <td>'INF003'</td>\n",
       "      <td>Bacterial infections</td>\n",
       "      <td>' '</td>\n",
       "      <td></td>\n",
       "      <td>' '</td>\n",
       "      <td></td>\n",
       "      <td>' '</td>\n",
       "      <td></td>\n",
       "      <td>' '</td>\n",
       "      <td></td>\n",
       "    </tr>\n",
       "    <tr>\n",
       "      <th>3</th>\n",
       "      <td>'A0100'</td>\n",
       "      <td>Typhoid fever, unspecified</td>\n",
       "      <td>'DIG001'</td>\n",
       "      <td>Intestinal infection</td>\n",
       "      <td>'DIG001'</td>\n",
       "      <td>Intestinal infection</td>\n",
       "      <td>'DIG001'</td>\n",
       "      <td>Intestinal infection</td>\n",
       "      <td>'INF003'</td>\n",
       "      <td>Bacterial infections</td>\n",
       "      <td>' '</td>\n",
       "      <td></td>\n",
       "      <td>' '</td>\n",
       "      <td></td>\n",
       "      <td>' '</td>\n",
       "      <td></td>\n",
       "      <td>' '</td>\n",
       "      <td></td>\n",
       "    </tr>\n",
       "    <tr>\n",
       "      <th>4</th>\n",
       "      <td>'A0101'</td>\n",
       "      <td>Typhoid meningitis</td>\n",
       "      <td>'NVS001'</td>\n",
       "      <td>Meningitis</td>\n",
       "      <td>'NVS001'</td>\n",
       "      <td>Meningitis</td>\n",
       "      <td>'INF003'</td>\n",
       "      <td>Bacterial infections</td>\n",
       "      <td>'NVS001'</td>\n",
       "      <td>Meningitis</td>\n",
       "      <td>' '</td>\n",
       "      <td></td>\n",
       "      <td>' '</td>\n",
       "      <td></td>\n",
       "      <td>' '</td>\n",
       "      <td></td>\n",
       "      <td>' '</td>\n",
       "      <td></td>\n",
       "    </tr>\n",
       "  </tbody>\n",
       "</table>\n",
       "</div>"
      ],
      "text/plain": [
       "  'ICD-10-CM CODE'                       'ICD-10-CM CODE DESCRIPTION'  \\\n",
       "0           'A000'  Cholera due to Vibrio cholerae 01, biovar chol...   \n",
       "1           'A001'    Cholera due to Vibrio cholerae 01, biovar eltor   \n",
       "2           'A009'                               Cholera, unspecified   \n",
       "3          'A0100'                         Typhoid fever, unspecified   \n",
       "4          'A0101'                                 Typhoid meningitis   \n",
       "\n",
       "  'Default CCSR CATEGORY IP 'Default CCSR CATEGORY DESCRIPTION IP'  \\\n",
       "0                  'DIG001'                   Intestinal infection   \n",
       "1                  'DIG001'                   Intestinal infection   \n",
       "2                  'DIG001'                   Intestinal infection   \n",
       "3                  'DIG001'                   Intestinal infection   \n",
       "4                  'NVS001'                             Meningitis   \n",
       "\n",
       "  'Default CCSR CATEGORY OP 'Default CCSR CATEGORY DESCRIPTION OP'  \\\n",
       "0                  'DIG001'                   Intestinal infection   \n",
       "1                  'DIG001'                   Intestinal infection   \n",
       "2                  'DIG001'                   Intestinal infection   \n",
       "3                  'DIG001'                   Intestinal infection   \n",
       "4                  'NVS001'                             Meningitis   \n",
       "\n",
       "  'CCSR CATEGORY 1' 'CCSR CATEGORY 1 DESCRIPTION' 'CCSR CATEGORY 2'  \\\n",
       "0          'DIG001'          Intestinal infection          'INF003'   \n",
       "1          'DIG001'          Intestinal infection          'INF003'   \n",
       "2          'DIG001'          Intestinal infection          'INF003'   \n",
       "3          'DIG001'          Intestinal infection          'INF003'   \n",
       "4          'INF003'          Bacterial infections          'NVS001'   \n",
       "\n",
       "  'CCSR CATEGORY 2 DESCRIPTION' 'CCSR CATEGORY 3'  \\\n",
       "0          Bacterial infections               ' '   \n",
       "1          Bacterial infections               ' '   \n",
       "2          Bacterial infections               ' '   \n",
       "3          Bacterial infections               ' '   \n",
       "4                    Meningitis               ' '   \n",
       "\n",
       "  'CCSR CATEGORY 3 DESCRIPTION' 'CCSR CATEGORY 4'  \\\n",
       "0                                             ' '   \n",
       "1                                             ' '   \n",
       "2                                             ' '   \n",
       "3                                             ' '   \n",
       "4                                             ' '   \n",
       "\n",
       "  'CCSR CATEGORY 4 DESCRIPTION' 'CCSR CATEGORY 5'  \\\n",
       "0                                             ' '   \n",
       "1                                             ' '   \n",
       "2                                             ' '   \n",
       "3                                             ' '   \n",
       "4                                             ' '   \n",
       "\n",
       "  'CCSR CATEGORY 5 DESCRIPTION' 'CCSR CATEGORY 6'  \\\n",
       "0                                             ' '   \n",
       "1                                             ' '   \n",
       "2                                             ' '   \n",
       "3                                             ' '   \n",
       "4                                             ' '   \n",
       "\n",
       "  'CCSR CATEGORY 6 DESCRIPTION'  \n",
       "0                                \n",
       "1                                \n",
       "2                                \n",
       "3                                \n",
       "4                                "
      ]
     },
     "execution_count": 388,
     "metadata": {},
     "output_type": "execute_result"
    }
   ],
   "source": [
    "icd_map.head()"
   ]
  },
  {
   "cell_type": "markdown",
   "metadata": {},
   "source": [
    "### Clean CCSR data"
   ]
  },
  {
   "cell_type": "code",
   "execution_count": 389,
   "metadata": {},
   "outputs": [],
   "source": [
    "icd_map.columns = [x.replace(\"'\",'') for x in icd_map.columns]"
   ]
  },
  {
   "cell_type": "code",
   "execution_count": 390,
   "metadata": {},
   "outputs": [],
   "source": [
    "icd_map = icd_map[icd_map.columns[:6,].values]"
   ]
  },
  {
   "cell_type": "code",
   "execution_count": 391,
   "metadata": {},
   "outputs": [],
   "source": [
    "for n in [0,2,4]:\n",
    "    icd_map.iloc[:,n] = [x.replace(\"'\",'') for x in icd_map.iloc[:,n].to_list()]"
   ]
  },
  {
   "cell_type": "code",
   "execution_count": 392,
   "metadata": {},
   "outputs": [
    {
     "data": {
      "text/html": [
       "<div>\n",
       "<style scoped>\n",
       "    .dataframe tbody tr th:only-of-type {\n",
       "        vertical-align: middle;\n",
       "    }\n",
       "\n",
       "    .dataframe tbody tr th {\n",
       "        vertical-align: top;\n",
       "    }\n",
       "\n",
       "    .dataframe thead th {\n",
       "        text-align: right;\n",
       "    }\n",
       "</style>\n",
       "<table border=\"1\" class=\"dataframe\">\n",
       "  <thead>\n",
       "    <tr style=\"text-align: right;\">\n",
       "      <th></th>\n",
       "      <th>ICD-10-CM CODE</th>\n",
       "      <th>ICD-10-CM CODE DESCRIPTION</th>\n",
       "      <th>Default CCSR CATEGORY IP</th>\n",
       "      <th>Default CCSR CATEGORY DESCRIPTION IP</th>\n",
       "      <th>Default CCSR CATEGORY OP</th>\n",
       "      <th>Default CCSR CATEGORY DESCRIPTION OP</th>\n",
       "    </tr>\n",
       "  </thead>\n",
       "  <tbody>\n",
       "    <tr>\n",
       "      <th>0</th>\n",
       "      <td>A000</td>\n",
       "      <td>Cholera due to Vibrio cholerae 01, biovar chol...</td>\n",
       "      <td>DIG001</td>\n",
       "      <td>Intestinal infection</td>\n",
       "      <td>DIG001</td>\n",
       "      <td>Intestinal infection</td>\n",
       "    </tr>\n",
       "    <tr>\n",
       "      <th>1</th>\n",
       "      <td>A001</td>\n",
       "      <td>Cholera due to Vibrio cholerae 01, biovar eltor</td>\n",
       "      <td>DIG001</td>\n",
       "      <td>Intestinal infection</td>\n",
       "      <td>DIG001</td>\n",
       "      <td>Intestinal infection</td>\n",
       "    </tr>\n",
       "    <tr>\n",
       "      <th>2</th>\n",
       "      <td>A009</td>\n",
       "      <td>Cholera, unspecified</td>\n",
       "      <td>DIG001</td>\n",
       "      <td>Intestinal infection</td>\n",
       "      <td>DIG001</td>\n",
       "      <td>Intestinal infection</td>\n",
       "    </tr>\n",
       "    <tr>\n",
       "      <th>3</th>\n",
       "      <td>A0100</td>\n",
       "      <td>Typhoid fever, unspecified</td>\n",
       "      <td>DIG001</td>\n",
       "      <td>Intestinal infection</td>\n",
       "      <td>DIG001</td>\n",
       "      <td>Intestinal infection</td>\n",
       "    </tr>\n",
       "    <tr>\n",
       "      <th>4</th>\n",
       "      <td>A0101</td>\n",
       "      <td>Typhoid meningitis</td>\n",
       "      <td>NVS001</td>\n",
       "      <td>Meningitis</td>\n",
       "      <td>NVS001</td>\n",
       "      <td>Meningitis</td>\n",
       "    </tr>\n",
       "  </tbody>\n",
       "</table>\n",
       "</div>"
      ],
      "text/plain": [
       "  ICD-10-CM CODE                         ICD-10-CM CODE DESCRIPTION  \\\n",
       "0           A000  Cholera due to Vibrio cholerae 01, biovar chol...   \n",
       "1           A001    Cholera due to Vibrio cholerae 01, biovar eltor   \n",
       "2           A009                               Cholera, unspecified   \n",
       "3          A0100                         Typhoid fever, unspecified   \n",
       "4          A0101                                 Typhoid meningitis   \n",
       "\n",
       "  Default CCSR CATEGORY IP Default CCSR CATEGORY DESCRIPTION IP  \\\n",
       "0                   DIG001                 Intestinal infection   \n",
       "1                   DIG001                 Intestinal infection   \n",
       "2                   DIG001                 Intestinal infection   \n",
       "3                   DIG001                 Intestinal infection   \n",
       "4                   NVS001                           Meningitis   \n",
       "\n",
       "  Default CCSR CATEGORY OP Default CCSR CATEGORY DESCRIPTION OP  \n",
       "0                   DIG001                 Intestinal infection  \n",
       "1                   DIG001                 Intestinal infection  \n",
       "2                   DIG001                 Intestinal infection  \n",
       "3                   DIG001                 Intestinal infection  \n",
       "4                   NVS001                           Meningitis  "
      ]
     },
     "execution_count": 392,
     "metadata": {},
     "output_type": "execute_result"
    }
   ],
   "source": [
    "icd_map.head()"
   ]
  },
  {
   "cell_type": "markdown",
   "metadata": {},
   "source": [
    "### Import CCSR categories and naming conventions"
   ]
  },
  {
   "cell_type": "code",
   "execution_count": 393,
   "metadata": {},
   "outputs": [],
   "source": [
    "#read in ccs categories\n",
    "cat = pd.read_excel('../data/ccsr/DXCCSR-Reference-File-v2021-1.xlsx', sheet_name='CCSR_Categories', skiprows=1)"
   ]
  },
  {
   "cell_type": "code",
   "execution_count": 394,
   "metadata": {},
   "outputs": [],
   "source": [
    "#read in ccs naming conventions\n",
    "nam = pd.read_excel('../data/ccsr/DXCCSR-Reference-File-v2021-1.xlsx', sheet_name='Naming_Conventions', skiprows=1)"
   ]
  },
  {
   "cell_type": "markdown",
   "metadata": {},
   "source": [
    "### Clean CCSR categories and naming conventions"
   ]
  },
  {
   "cell_type": "code",
   "execution_count": 395,
   "metadata": {},
   "outputs": [],
   "source": [
    "#extract broad category\n",
    "cat['abb'] = [x[:3] for x in cat['CCSR Category']]"
   ]
  },
  {
   "cell_type": "code",
   "execution_count": 396,
   "metadata": {},
   "outputs": [],
   "source": [
    "#merge categories and naming conventions\n",
    "cats = pd.merge(cat, nam, left_on='abb', right_on='3-Character Abbreviation', how='left')"
   ]
  },
  {
   "cell_type": "code",
   "execution_count": 397,
   "metadata": {},
   "outputs": [
    {
     "data": {
      "text/html": [
       "<div>\n",
       "<style scoped>\n",
       "    .dataframe tbody tr th:only-of-type {\n",
       "        vertical-align: middle;\n",
       "    }\n",
       "\n",
       "    .dataframe tbody tr th {\n",
       "        vertical-align: top;\n",
       "    }\n",
       "\n",
       "    .dataframe thead th {\n",
       "        text-align: right;\n",
       "    }\n",
       "</style>\n",
       "<table border=\"1\" class=\"dataframe\">\n",
       "  <thead>\n",
       "    <tr style=\"text-align: right;\">\n",
       "      <th></th>\n",
       "      <th>CCSR Category</th>\n",
       "      <th>CCSR Category Description</th>\n",
       "      <th>abb</th>\n",
       "      <th>ICD-10-CM Diagnosis Chapter</th>\n",
       "      <th>3-Character Abbreviation</th>\n",
       "    </tr>\n",
       "  </thead>\n",
       "  <tbody>\n",
       "    <tr>\n",
       "      <th>0</th>\n",
       "      <td>BLD001</td>\n",
       "      <td>Nutritional anemia</td>\n",
       "      <td>BLD</td>\n",
       "      <td>Diseases of the Blood and Blood Forming Organs...</td>\n",
       "      <td>BLD</td>\n",
       "    </tr>\n",
       "    <tr>\n",
       "      <th>1</th>\n",
       "      <td>BLD002</td>\n",
       "      <td>Hemolytic anemia</td>\n",
       "      <td>BLD</td>\n",
       "      <td>Diseases of the Blood and Blood Forming Organs...</td>\n",
       "      <td>BLD</td>\n",
       "    </tr>\n",
       "    <tr>\n",
       "      <th>2</th>\n",
       "      <td>BLD003</td>\n",
       "      <td>Aplastic anemia</td>\n",
       "      <td>BLD</td>\n",
       "      <td>Diseases of the Blood and Blood Forming Organs...</td>\n",
       "      <td>BLD</td>\n",
       "    </tr>\n",
       "    <tr>\n",
       "      <th>3</th>\n",
       "      <td>BLD004</td>\n",
       "      <td>Acute posthemorrhagic anemia</td>\n",
       "      <td>BLD</td>\n",
       "      <td>Diseases of the Blood and Blood Forming Organs...</td>\n",
       "      <td>BLD</td>\n",
       "    </tr>\n",
       "    <tr>\n",
       "      <th>4</th>\n",
       "      <td>BLD005</td>\n",
       "      <td>Sickle cell trait/anemia</td>\n",
       "      <td>BLD</td>\n",
       "      <td>Diseases of the Blood and Blood Forming Organs...</td>\n",
       "      <td>BLD</td>\n",
       "    </tr>\n",
       "  </tbody>\n",
       "</table>\n",
       "</div>"
      ],
      "text/plain": [
       "  CCSR Category     CCSR Category Description  abb  \\\n",
       "0        BLD001            Nutritional anemia  BLD   \n",
       "1        BLD002              Hemolytic anemia  BLD   \n",
       "2        BLD003               Aplastic anemia  BLD   \n",
       "3        BLD004  Acute posthemorrhagic anemia  BLD   \n",
       "4        BLD005      Sickle cell trait/anemia  BLD   \n",
       "\n",
       "                         ICD-10-CM Diagnosis Chapter 3-Character Abbreviation  \n",
       "0  Diseases of the Blood and Blood Forming Organs...                      BLD  \n",
       "1  Diseases of the Blood and Blood Forming Organs...                      BLD  \n",
       "2  Diseases of the Blood and Blood Forming Organs...                      BLD  \n",
       "3  Diseases of the Blood and Blood Forming Organs...                      BLD  \n",
       "4  Diseases of the Blood and Blood Forming Organs...                      BLD  "
      ]
     },
     "execution_count": 397,
     "metadata": {},
     "output_type": "execute_result"
    }
   ],
   "source": [
    "cats.head()"
   ]
  },
  {
   "cell_type": "code",
   "execution_count": 398,
   "metadata": {},
   "outputs": [],
   "source": [
    "#then merge with icd10 map\n",
    "merge = pd.merge(icd_map, cats, left_on='Default CCSR CATEGORY IP', right_on='CCSR Category', how='left')"
   ]
  },
  {
   "cell_type": "code",
   "execution_count": 399,
   "metadata": {},
   "outputs": [
    {
     "data": {
      "text/html": [
       "<div>\n",
       "<style scoped>\n",
       "    .dataframe tbody tr th:only-of-type {\n",
       "        vertical-align: middle;\n",
       "    }\n",
       "\n",
       "    .dataframe tbody tr th {\n",
       "        vertical-align: top;\n",
       "    }\n",
       "\n",
       "    .dataframe thead th {\n",
       "        text-align: right;\n",
       "    }\n",
       "</style>\n",
       "<table border=\"1\" class=\"dataframe\">\n",
       "  <thead>\n",
       "    <tr style=\"text-align: right;\">\n",
       "      <th></th>\n",
       "      <th>ICD-10-CM CODE</th>\n",
       "      <th>ICD-10-CM CODE DESCRIPTION</th>\n",
       "      <th>Default CCSR CATEGORY IP</th>\n",
       "      <th>Default CCSR CATEGORY DESCRIPTION IP</th>\n",
       "      <th>Default CCSR CATEGORY OP</th>\n",
       "      <th>Default CCSR CATEGORY DESCRIPTION OP</th>\n",
       "      <th>CCSR Category</th>\n",
       "      <th>CCSR Category Description</th>\n",
       "      <th>abb</th>\n",
       "      <th>ICD-10-CM Diagnosis Chapter</th>\n",
       "      <th>3-Character Abbreviation</th>\n",
       "    </tr>\n",
       "  </thead>\n",
       "  <tbody>\n",
       "    <tr>\n",
       "      <th>0</th>\n",
       "      <td>A000</td>\n",
       "      <td>Cholera due to Vibrio cholerae 01, biovar chol...</td>\n",
       "      <td>DIG001</td>\n",
       "      <td>Intestinal infection</td>\n",
       "      <td>DIG001</td>\n",
       "      <td>Intestinal infection</td>\n",
       "      <td>DIG001</td>\n",
       "      <td>Intestinal infection</td>\n",
       "      <td>DIG</td>\n",
       "      <td>Diseases of the Digestive System</td>\n",
       "      <td>DIG</td>\n",
       "    </tr>\n",
       "    <tr>\n",
       "      <th>1</th>\n",
       "      <td>A001</td>\n",
       "      <td>Cholera due to Vibrio cholerae 01, biovar eltor</td>\n",
       "      <td>DIG001</td>\n",
       "      <td>Intestinal infection</td>\n",
       "      <td>DIG001</td>\n",
       "      <td>Intestinal infection</td>\n",
       "      <td>DIG001</td>\n",
       "      <td>Intestinal infection</td>\n",
       "      <td>DIG</td>\n",
       "      <td>Diseases of the Digestive System</td>\n",
       "      <td>DIG</td>\n",
       "    </tr>\n",
       "    <tr>\n",
       "      <th>2</th>\n",
       "      <td>A009</td>\n",
       "      <td>Cholera, unspecified</td>\n",
       "      <td>DIG001</td>\n",
       "      <td>Intestinal infection</td>\n",
       "      <td>DIG001</td>\n",
       "      <td>Intestinal infection</td>\n",
       "      <td>DIG001</td>\n",
       "      <td>Intestinal infection</td>\n",
       "      <td>DIG</td>\n",
       "      <td>Diseases of the Digestive System</td>\n",
       "      <td>DIG</td>\n",
       "    </tr>\n",
       "    <tr>\n",
       "      <th>3</th>\n",
       "      <td>A0100</td>\n",
       "      <td>Typhoid fever, unspecified</td>\n",
       "      <td>DIG001</td>\n",
       "      <td>Intestinal infection</td>\n",
       "      <td>DIG001</td>\n",
       "      <td>Intestinal infection</td>\n",
       "      <td>DIG001</td>\n",
       "      <td>Intestinal infection</td>\n",
       "      <td>DIG</td>\n",
       "      <td>Diseases of the Digestive System</td>\n",
       "      <td>DIG</td>\n",
       "    </tr>\n",
       "    <tr>\n",
       "      <th>4</th>\n",
       "      <td>A0101</td>\n",
       "      <td>Typhoid meningitis</td>\n",
       "      <td>NVS001</td>\n",
       "      <td>Meningitis</td>\n",
       "      <td>NVS001</td>\n",
       "      <td>Meningitis</td>\n",
       "      <td>NVS001</td>\n",
       "      <td>Meningitis</td>\n",
       "      <td>NVS</td>\n",
       "      <td>Diseases of the Nervous System</td>\n",
       "      <td>NVS</td>\n",
       "    </tr>\n",
       "  </tbody>\n",
       "</table>\n",
       "</div>"
      ],
      "text/plain": [
       "  ICD-10-CM CODE                         ICD-10-CM CODE DESCRIPTION  \\\n",
       "0           A000  Cholera due to Vibrio cholerae 01, biovar chol...   \n",
       "1           A001    Cholera due to Vibrio cholerae 01, biovar eltor   \n",
       "2           A009                               Cholera, unspecified   \n",
       "3          A0100                         Typhoid fever, unspecified   \n",
       "4          A0101                                 Typhoid meningitis   \n",
       "\n",
       "  Default CCSR CATEGORY IP Default CCSR CATEGORY DESCRIPTION IP  \\\n",
       "0                   DIG001                 Intestinal infection   \n",
       "1                   DIG001                 Intestinal infection   \n",
       "2                   DIG001                 Intestinal infection   \n",
       "3                   DIG001                 Intestinal infection   \n",
       "4                   NVS001                           Meningitis   \n",
       "\n",
       "  Default CCSR CATEGORY OP Default CCSR CATEGORY DESCRIPTION OP CCSR Category  \\\n",
       "0                   DIG001                 Intestinal infection        DIG001   \n",
       "1                   DIG001                 Intestinal infection        DIG001   \n",
       "2                   DIG001                 Intestinal infection        DIG001   \n",
       "3                   DIG001                 Intestinal infection        DIG001   \n",
       "4                   NVS001                           Meningitis        NVS001   \n",
       "\n",
       "  CCSR Category Description  abb       ICD-10-CM Diagnosis Chapter  \\\n",
       "0      Intestinal infection  DIG  Diseases of the Digestive System   \n",
       "1      Intestinal infection  DIG  Diseases of the Digestive System   \n",
       "2      Intestinal infection  DIG  Diseases of the Digestive System   \n",
       "3      Intestinal infection  DIG  Diseases of the Digestive System   \n",
       "4                Meningitis  NVS    Diseases of the Nervous System   \n",
       "\n",
       "  3-Character Abbreviation  \n",
       "0                      DIG  \n",
       "1                      DIG  \n",
       "2                      DIG  \n",
       "3                      DIG  \n",
       "4                      NVS  "
      ]
     },
     "execution_count": 399,
     "metadata": {},
     "output_type": "execute_result"
    }
   ],
   "source": [
    "merge.head()"
   ]
  },
  {
   "cell_type": "markdown",
   "metadata": {},
   "source": [
    "### Rename and recategorize disease categories"
   ]
  },
  {
   "cell_type": "code",
   "execution_count": 400,
   "metadata": {},
   "outputs": [
    {
     "data": {
      "text/plain": [
       "Injury, Poisoning and Certain Other Consequences of External Causes                                    39193\n",
       "Unacceptable principal diagnosis (inpatient data) or first-listed diagnosis (outpatient data)           9906\n",
       "Diseases of the Musculoskeletal System and Connective Tissue                                            6230\n",
       "Diseases of the Eye and Adnexa                                                                          2633\n",
       "Pregnancy, Childbirth and the Puerperium                                                                2233\n",
       "Mental, Behavioral and Neurodevelopmental Disorders                                                     1761\n",
       "Neoplasms                                                                                               1701\n",
       "Diseases of the Circulatory System                                                                      1389\n",
       "Diseases of the Digestive System                                                                         888\n",
       "Endocrine, Nutritional and Metabolic Diseases                                                            879\n",
       "Diseases of the Skin and Subcutaneous Tissue                                                             870\n",
       "Congenital Malformations, Deformations and Chromosomal Abnormalities                                     855\n",
       "Diseases of the Genitourinary System                                                                     719\n",
       "Diseases of the Nervous System                                                                           716\n",
       "Certain Infectious and Parasitic Diseases                                                                690\n",
       "Diseases of the Ear and Mastoid Process                                                                  628\n",
       "Symptoms, Signs and Abnormal Clinical and Laboratory Findings, Not Elsewhere Classified                  553\n",
       "Certain Conditions Originating in the Perinatal Period                                                   508\n",
       "Diseases of the Respiratory System                                                                       376\n",
       "Diseases of the Blood and Blood Forming Organs and Certain Disorders Involving the Immune Mechanism      266\n",
       "Factors Influencing Health Status and Contact with Health Services                                       211\n",
       "Name: ICD-10-CM Diagnosis Chapter, dtype: int64"
      ]
     },
     "execution_count": 400,
     "metadata": {},
     "output_type": "execute_result"
    }
   ],
   "source": [
    "merge['ICD-10-CM Diagnosis Chapter'].value_counts()"
   ]
  },
  {
   "cell_type": "code",
   "execution_count": 401,
   "metadata": {},
   "outputs": [],
   "source": [
    "rename_map = {\n",
    "'Diseases of the Circulatory System'                                                                      : 'Cardiovascular diseases',\n",
    "'Endocrine, Nutritional and Metabolic Diseases'                                                           : 'Endocrine diseases',\n",
    "'Diseases of the Digestive System'                                                                        : 'Gastrointestinal diseases',\n",
    "'Diseases of the Genitourinary System'                                                                    : 'Genitourinary diseases',\n",
    "'Certain Infectious and Parasitic Diseases'                                                               : 'Infections',\n",
    "'Injury, Poisoning and Certain Other Consequences of External Causes'                                     : 'Injuries and external causes',    \n",
    "'Mental, Behavioral and Neurodevelopmental Disorders'                                                     : 'Mental, behavioral, and substance use disorders',\n",
    "'Diseases of the Musculoskeletal System and Connective Tissue'                                            : 'Musculoskeletal diseases',\n",
    "'Diseases of the Nervous System'                                                                          : 'Nervous system diseases',\n",
    "'Factors Influencing Health Status and Contact with Health Services'                                      : 'Nonspecific',\n",
    "'Symptoms, Signs and Abnormal Clinical and Laboratory Findings, Not Elsewhere Classified'                 : 'Nonspecific',\n",
    "'Unacceptable principal diagnosis (inpatient data) or first-listed diagnosis (outpatient data)'           : 'Nonspecific',\n",
    "'Diseases of the Blood and Blood Forming Organs and Certain Disorders Involving the Immune Mechanism'     : 'Other noncommunicable diseases',\n",
    "'Diseases of the Ear and Mastoid Process'                                                                 : 'Other noncommunicable diseases',\n",
    "'Diseases of the Eye and Adnexa'                                                                          : 'Other noncommunicable diseases',\n",
    "'Congenital Malformations, Deformations and Chromosomal Abnormalities'                                    : 'Other noncommunicable diseases',\n",
    "'Diseases of the Skin and Subcutaneous Tissue'                                                            : 'Other noncommunicable diseases',\n",
    "'Certain Conditions Originating in the Perinatal Period'                                                  : 'Pregnancy and childbirth',\n",
    "'Pregnancy, Childbirth and the Puerperium'                                                                : 'Pregnancy and childbirth',\n",
    "'Diseases of the Respiratory System'                                                                      : 'Respiratory diseases'\n",
    "}"
   ]
  },
  {
   "cell_type": "code",
   "execution_count": 402,
   "metadata": {},
   "outputs": [],
   "source": [
    "merge.replace(rename_map, inplace=True)"
   ]
  },
  {
   "cell_type": "code",
   "execution_count": 403,
   "metadata": {},
   "outputs": [
    {
     "data": {
      "text/plain": [
       "Injuries and external causes                       39193\n",
       "Nonspecific                                        10670\n",
       "Musculoskeletal diseases                            6230\n",
       "Other noncommunicable diseases                      5252\n",
       "Pregnancy and childbirth                            2741\n",
       "Mental, behavioral, and substance use disorders     1761\n",
       "Neoplasms                                           1701\n",
       "Cardiovascular diseases                             1389\n",
       "Gastrointestinal diseases                            888\n",
       "Endocrine diseases                                   879\n",
       "Genitourinary diseases                               719\n",
       "Nervous system diseases                              716\n",
       "Infections                                           690\n",
       "Respiratory diseases                                 376\n",
       "Name: ICD-10-CM Diagnosis Chapter, dtype: int64"
      ]
     },
     "execution_count": 403,
     "metadata": {},
     "output_type": "execute_result"
    }
   ],
   "source": [
    "merge['ICD-10-CM Diagnosis Chapter'].value_counts()"
   ]
  },
  {
   "cell_type": "markdown",
   "metadata": {},
   "source": [
    "### Clean data\n",
    "\n",
    "Select default inpatient category"
   ]
  },
  {
   "cell_type": "code",
   "execution_count": 404,
   "metadata": {},
   "outputs": [],
   "source": [
    "merge.rename(columns={'ICD-10-CM CODE':'icd_10_cm_code',\n",
    "                      'ICD-10-CM CODE DESCRIPTION':'icd_10_cm_code_desc',\n",
    "                      'Default CCSR CATEGORY DESCRIPTION IP':'ccsr_category',\n",
    "                      'ICD-10-CM Diagnosis Chapter': 'disease_category'}, inplace=True)"
   ]
  },
  {
   "cell_type": "code",
   "execution_count": 405,
   "metadata": {},
   "outputs": [],
   "source": [
    "merge = merge[['icd_10_cm_code','icd_10_cm_code_desc','ccsr_category','disease_category']]"
   ]
  },
  {
   "cell_type": "code",
   "execution_count": 406,
   "metadata": {},
   "outputs": [
    {
     "data": {
      "text/html": [
       "<div>\n",
       "<style scoped>\n",
       "    .dataframe tbody tr th:only-of-type {\n",
       "        vertical-align: middle;\n",
       "    }\n",
       "\n",
       "    .dataframe tbody tr th {\n",
       "        vertical-align: top;\n",
       "    }\n",
       "\n",
       "    .dataframe thead th {\n",
       "        text-align: right;\n",
       "    }\n",
       "</style>\n",
       "<table border=\"1\" class=\"dataframe\">\n",
       "  <thead>\n",
       "    <tr style=\"text-align: right;\">\n",
       "      <th></th>\n",
       "      <th>icd_10_cm_code</th>\n",
       "      <th>icd_10_cm_code_desc</th>\n",
       "      <th>ccsr_category</th>\n",
       "      <th>disease_category</th>\n",
       "    </tr>\n",
       "  </thead>\n",
       "  <tbody>\n",
       "    <tr>\n",
       "      <th>0</th>\n",
       "      <td>A000</td>\n",
       "      <td>Cholera due to Vibrio cholerae 01, biovar chol...</td>\n",
       "      <td>Intestinal infection</td>\n",
       "      <td>Gastrointestinal diseases</td>\n",
       "    </tr>\n",
       "    <tr>\n",
       "      <th>1</th>\n",
       "      <td>A001</td>\n",
       "      <td>Cholera due to Vibrio cholerae 01, biovar eltor</td>\n",
       "      <td>Intestinal infection</td>\n",
       "      <td>Gastrointestinal diseases</td>\n",
       "    </tr>\n",
       "    <tr>\n",
       "      <th>2</th>\n",
       "      <td>A009</td>\n",
       "      <td>Cholera, unspecified</td>\n",
       "      <td>Intestinal infection</td>\n",
       "      <td>Gastrointestinal diseases</td>\n",
       "    </tr>\n",
       "    <tr>\n",
       "      <th>3</th>\n",
       "      <td>A0100</td>\n",
       "      <td>Typhoid fever, unspecified</td>\n",
       "      <td>Intestinal infection</td>\n",
       "      <td>Gastrointestinal diseases</td>\n",
       "    </tr>\n",
       "    <tr>\n",
       "      <th>4</th>\n",
       "      <td>A0101</td>\n",
       "      <td>Typhoid meningitis</td>\n",
       "      <td>Meningitis</td>\n",
       "      <td>Nervous system diseases</td>\n",
       "    </tr>\n",
       "  </tbody>\n",
       "</table>\n",
       "</div>"
      ],
      "text/plain": [
       "  icd_10_cm_code                                icd_10_cm_code_desc  \\\n",
       "0           A000  Cholera due to Vibrio cholerae 01, biovar chol...   \n",
       "1           A001    Cholera due to Vibrio cholerae 01, biovar eltor   \n",
       "2           A009                               Cholera, unspecified   \n",
       "3          A0100                         Typhoid fever, unspecified   \n",
       "4          A0101                                 Typhoid meningitis   \n",
       "\n",
       "          ccsr_category           disease_category  \n",
       "0  Intestinal infection  Gastrointestinal diseases  \n",
       "1  Intestinal infection  Gastrointestinal diseases  \n",
       "2  Intestinal infection  Gastrointestinal diseases  \n",
       "3  Intestinal infection  Gastrointestinal diseases  \n",
       "4            Meningitis    Nervous system diseases  "
      ]
     },
     "execution_count": 406,
     "metadata": {},
     "output_type": "execute_result"
    }
   ],
   "source": [
    "merge.head()"
   ]
  },
  {
   "cell_type": "markdown",
   "metadata": {},
   "source": [
    "### Recode certain ICD10 codes to new CCSR category"
   ]
  },
  {
   "cell_type": "code",
   "execution_count": 407,
   "metadata": {},
   "outputs": [],
   "source": [
    "stroke_codes = [\n",
    "    'Middle cerebral artery syndrome',\n",
    "    'Anterior cerebral artery syndrome',\n",
    "    'Posterior cerebral artery syndrome',\n",
    "    'Brain stem stroke syndrome',\n",
    "    'Cerebellar stroke syndrome',\n",
    "    'Pure motor lacunar syndrome',\n",
    "    'Pure sensory lacunar syndrome',\n",
    "    'Other lacunar syndromes',\n",
    "    'Other vascular syndromes of brain in cerebrovascular diseases']"
   ]
  },
  {
   "cell_type": "code",
   "execution_count": 408,
   "metadata": {},
   "outputs": [],
   "source": [
    "merge.loc[merge['icd_10_cm_code_desc'].isin(stroke_codes),'ccsr_category'] = 'Other and ill-defined cerebrovascular disease'\n",
    "merge.loc[merge['icd_10_cm_code_desc'].isin(stroke_codes),'disease_category'] = 'Cardiovascular diseases'"
   ]
  },
  {
   "cell_type": "markdown",
   "metadata": {},
   "source": [
    "### Import intermediate codes\n",
    "\n",
    "CCSR categories were grouped into \"intermediate\" umbrella categories"
   ]
  },
  {
   "cell_type": "code",
   "execution_count": 409,
   "metadata": {},
   "outputs": [],
   "source": [
    "intermediate = pd.read_excel('../data/ccsr/intermediate_category.xlsx')"
   ]
  },
  {
   "cell_type": "code",
   "execution_count": 410,
   "metadata": {},
   "outputs": [
    {
     "data": {
      "text/html": [
       "<div>\n",
       "<style scoped>\n",
       "    .dataframe tbody tr th:only-of-type {\n",
       "        vertical-align: middle;\n",
       "    }\n",
       "\n",
       "    .dataframe tbody tr th {\n",
       "        vertical-align: top;\n",
       "    }\n",
       "\n",
       "    .dataframe thead th {\n",
       "        text-align: right;\n",
       "    }\n",
       "</style>\n",
       "<table border=\"1\" class=\"dataframe\">\n",
       "  <thead>\n",
       "    <tr style=\"text-align: right;\">\n",
       "      <th></th>\n",
       "      <th>ccsr_category</th>\n",
       "      <th>int_category</th>\n",
       "      <th>disease_category</th>\n",
       "    </tr>\n",
       "  </thead>\n",
       "  <tbody>\n",
       "    <tr>\n",
       "      <th>0</th>\n",
       "      <td>Chronic rheumatic heart disease</td>\n",
       "      <td>Other cardiovascular disorders</td>\n",
       "      <td>Cardiovascular diseases</td>\n",
       "    </tr>\n",
       "    <tr>\n",
       "      <th>1</th>\n",
       "      <td>Acute rheumatic heart disease</td>\n",
       "      <td>Other cardiovascular disorders</td>\n",
       "      <td>Cardiovascular diseases</td>\n",
       "    </tr>\n",
       "    <tr>\n",
       "      <th>2</th>\n",
       "      <td>Nonrheumatic and unspecified valve disorders</td>\n",
       "      <td>Other cardiovascular disorders</td>\n",
       "      <td>Cardiovascular diseases</td>\n",
       "    </tr>\n",
       "    <tr>\n",
       "      <th>3</th>\n",
       "      <td>Endocarditis and endocardial disease</td>\n",
       "      <td>Other cardiovascular disorders</td>\n",
       "      <td>Cardiovascular diseases</td>\n",
       "    </tr>\n",
       "    <tr>\n",
       "      <th>4</th>\n",
       "      <td>Myocarditis and cardiomyopathy</td>\n",
       "      <td>Other cardiovascular disorders</td>\n",
       "      <td>Cardiovascular diseases</td>\n",
       "    </tr>\n",
       "  </tbody>\n",
       "</table>\n",
       "</div>"
      ],
      "text/plain": [
       "                                  ccsr_category  \\\n",
       "0               Chronic rheumatic heart disease   \n",
       "1                 Acute rheumatic heart disease   \n",
       "2  Nonrheumatic and unspecified valve disorders   \n",
       "3          Endocarditis and endocardial disease   \n",
       "4                Myocarditis and cardiomyopathy   \n",
       "\n",
       "                     int_category         disease_category  \n",
       "0  Other cardiovascular disorders  Cardiovascular diseases  \n",
       "1  Other cardiovascular disorders  Cardiovascular diseases  \n",
       "2  Other cardiovascular disorders  Cardiovascular diseases  \n",
       "3  Other cardiovascular disorders  Cardiovascular diseases  \n",
       "4  Other cardiovascular disorders  Cardiovascular diseases  "
      ]
     },
     "execution_count": 410,
     "metadata": {},
     "output_type": "execute_result"
    }
   ],
   "source": [
    "intermediate.head()"
   ]
  },
  {
   "cell_type": "code",
   "execution_count": 411,
   "metadata": {},
   "outputs": [],
   "source": [
    "intermediate.rename(columns={'disease_category':'disease_category_int'}, inplace=True)"
   ]
  },
  {
   "cell_type": "code",
   "execution_count": 412,
   "metadata": {},
   "outputs": [],
   "source": [
    "#merge int categories\n",
    "merge = merge.merge(intermediate, on='ccsr_category', how='left')"
   ]
  },
  {
   "cell_type": "code",
   "execution_count": 413,
   "metadata": {},
   "outputs": [
    {
     "data": {
      "text/html": [
       "<div>\n",
       "<style scoped>\n",
       "    .dataframe tbody tr th:only-of-type {\n",
       "        vertical-align: middle;\n",
       "    }\n",
       "\n",
       "    .dataframe tbody tr th {\n",
       "        vertical-align: top;\n",
       "    }\n",
       "\n",
       "    .dataframe thead th {\n",
       "        text-align: right;\n",
       "    }\n",
       "</style>\n",
       "<table border=\"1\" class=\"dataframe\">\n",
       "  <thead>\n",
       "    <tr style=\"text-align: right;\">\n",
       "      <th></th>\n",
       "      <th>icd_10_cm_code</th>\n",
       "      <th>icd_10_cm_code_desc</th>\n",
       "      <th>ccsr_category</th>\n",
       "      <th>disease_category</th>\n",
       "      <th>int_category</th>\n",
       "      <th>disease_category_int</th>\n",
       "    </tr>\n",
       "  </thead>\n",
       "  <tbody>\n",
       "  </tbody>\n",
       "</table>\n",
       "</div>"
      ],
      "text/plain": [
       "Empty DataFrame\n",
       "Columns: [icd_10_cm_code, icd_10_cm_code_desc, ccsr_category, disease_category, int_category, disease_category_int]\n",
       "Index: []"
      ]
     },
     "execution_count": 413,
     "metadata": {},
     "output_type": "execute_result"
    }
   ],
   "source": [
    "merge_int[merge_int['int_category'].isna()]"
   ]
  },
  {
   "cell_type": "code",
   "execution_count": 414,
   "metadata": {},
   "outputs": [
    {
     "name": "stdout",
     "output_type": "stream",
     "text": [
      "(73205, 6)\n",
      "\n",
      "\n",
      "Injuries and external causes                       9146\n",
      "Mental, behavioral, and substance use disorders     388\n",
      "Musculoskeletal diseases                            216\n",
      "Name: disease_category, dtype: int64\n",
      "\n",
      "\n",
      "Injuries and external causes                       18341\n",
      "Musculoskeletal diseases                             828\n",
      "Mental, behavioral, and substance use disorders      318\n",
      "Name: disease_category, dtype: int64\n"
     ]
    }
   ],
   "source": [
    "print(merge.shape)\n",
    "print('\\n')\n",
    "print(merge[merge['ccsr_category'].str.lower().str.endswith('sequela')]['disease_category'].value_counts())\n",
    "print('\\n')\n",
    "print(merge[merge['ccsr_category'].str.lower().str.endswith('subsequent encounter')]['disease_category'].value_counts())"
   ]
  },
  {
   "cell_type": "code",
   "execution_count": 415,
   "metadata": {},
   "outputs": [
    {
     "name": "stdout",
     "output_type": "stream",
     "text": [
      "73205\n"
     ]
    }
   ],
   "source": [
    "print(merge['icd_10_cm_code'].nunique())"
   ]
  },
  {
   "cell_type": "markdown",
   "metadata": {},
   "source": [
    "There are no duplicate ICD 10 codes, so each one maps uniquely to a category."
   ]
  },
  {
   "cell_type": "code",
   "execution_count": 416,
   "metadata": {},
   "outputs": [
    {
     "name": "stdout",
     "output_type": "stream",
     "text": [
      "Without sequela:  (63455, 6)\n",
      "Without subsequent encounter:  (43968, 6)\n"
     ]
    }
   ],
   "source": [
    "#remove codes that map to ccsr_category that end with sequela and subsequent encounter\n",
    "merge = merge[~merge['ccsr_category'].str.lower().str.endswith('sequela')]\n",
    "print('Without sequela: ',merge.shape)\n",
    "merge = merge[~merge['ccsr_category'].str.lower().str.endswith('subsequent encounter')]\n",
    "print('Without subsequent encounter: ',merge.shape)"
   ]
  },
  {
   "cell_type": "code",
   "execution_count": 417,
   "metadata": {},
   "outputs": [
    {
     "name": "stdout",
     "output_type": "stream",
     "text": [
      "446\n",
      "(446, 2)\n",
      "446\n"
     ]
    }
   ],
   "source": [
    "print(merge['ccsr_category'].nunique())\n",
    "\n",
    "test_ccsr_duplicates = merge[['ccsr_category','disease_category']].drop_duplicates('ccsr_category')\n",
    "print(test_ccsr_duplicates.shape)\n",
    "print(test_ccsr_duplicates['ccsr_category'].nunique())"
   ]
  },
  {
   "cell_type": "markdown",
   "metadata": {},
   "source": [
    "There are no duplicate CCSR categories, so each one maps uniquely to an aggregated disease category."
   ]
  },
  {
   "cell_type": "code",
   "execution_count": 418,
   "metadata": {},
   "outputs": [
    {
     "data": {
      "text/html": [
       "<div>\n",
       "<style scoped>\n",
       "    .dataframe tbody tr th:only-of-type {\n",
       "        vertical-align: middle;\n",
       "    }\n",
       "\n",
       "    .dataframe tbody tr th {\n",
       "        vertical-align: top;\n",
       "    }\n",
       "\n",
       "    .dataframe thead th {\n",
       "        text-align: right;\n",
       "    }\n",
       "</style>\n",
       "<table border=\"1\" class=\"dataframe\">\n",
       "  <thead>\n",
       "    <tr style=\"text-align: right;\">\n",
       "      <th></th>\n",
       "      <th>icd_10_cm_code</th>\n",
       "      <th>icd_10_cm_code_desc</th>\n",
       "      <th>ccsr_category</th>\n",
       "      <th>disease_category</th>\n",
       "      <th>int_category</th>\n",
       "      <th>disease_category_int</th>\n",
       "    </tr>\n",
       "  </thead>\n",
       "  <tbody>\n",
       "    <tr>\n",
       "      <th>0</th>\n",
       "      <td>A000</td>\n",
       "      <td>Cholera due to Vibrio cholerae 01, biovar chol...</td>\n",
       "      <td>Intestinal infection</td>\n",
       "      <td>Gastrointestinal diseases</td>\n",
       "      <td>Other gastrointestinal disorders</td>\n",
       "      <td>Gastrointestinal diseases</td>\n",
       "    </tr>\n",
       "    <tr>\n",
       "      <th>1</th>\n",
       "      <td>A001</td>\n",
       "      <td>Cholera due to Vibrio cholerae 01, biovar eltor</td>\n",
       "      <td>Intestinal infection</td>\n",
       "      <td>Gastrointestinal diseases</td>\n",
       "      <td>Other gastrointestinal disorders</td>\n",
       "      <td>Gastrointestinal diseases</td>\n",
       "    </tr>\n",
       "    <tr>\n",
       "      <th>2</th>\n",
       "      <td>A009</td>\n",
       "      <td>Cholera, unspecified</td>\n",
       "      <td>Intestinal infection</td>\n",
       "      <td>Gastrointestinal diseases</td>\n",
       "      <td>Other gastrointestinal disorders</td>\n",
       "      <td>Gastrointestinal diseases</td>\n",
       "    </tr>\n",
       "    <tr>\n",
       "      <th>3</th>\n",
       "      <td>A0100</td>\n",
       "      <td>Typhoid fever, unspecified</td>\n",
       "      <td>Intestinal infection</td>\n",
       "      <td>Gastrointestinal diseases</td>\n",
       "      <td>Other gastrointestinal disorders</td>\n",
       "      <td>Gastrointestinal diseases</td>\n",
       "    </tr>\n",
       "    <tr>\n",
       "      <th>4</th>\n",
       "      <td>A0101</td>\n",
       "      <td>Typhoid meningitis</td>\n",
       "      <td>Meningitis</td>\n",
       "      <td>Nervous system diseases</td>\n",
       "      <td>Other neurologic disorders</td>\n",
       "      <td>Nervous system diseases</td>\n",
       "    </tr>\n",
       "  </tbody>\n",
       "</table>\n",
       "</div>"
      ],
      "text/plain": [
       "  icd_10_cm_code                                icd_10_cm_code_desc  \\\n",
       "0           A000  Cholera due to Vibrio cholerae 01, biovar chol...   \n",
       "1           A001    Cholera due to Vibrio cholerae 01, biovar eltor   \n",
       "2           A009                               Cholera, unspecified   \n",
       "3          A0100                         Typhoid fever, unspecified   \n",
       "4          A0101                                 Typhoid meningitis   \n",
       "\n",
       "          ccsr_category           disease_category  \\\n",
       "0  Intestinal infection  Gastrointestinal diseases   \n",
       "1  Intestinal infection  Gastrointestinal diseases   \n",
       "2  Intestinal infection  Gastrointestinal diseases   \n",
       "3  Intestinal infection  Gastrointestinal diseases   \n",
       "4            Meningitis    Nervous system diseases   \n",
       "\n",
       "                       int_category       disease_category_int  \n",
       "0  Other gastrointestinal disorders  Gastrointestinal diseases  \n",
       "1  Other gastrointestinal disorders  Gastrointestinal diseases  \n",
       "2  Other gastrointestinal disorders  Gastrointestinal diseases  \n",
       "3  Other gastrointestinal disorders  Gastrointestinal diseases  \n",
       "4        Other neurologic disorders    Nervous system diseases  "
      ]
     },
     "execution_count": 418,
     "metadata": {},
     "output_type": "execute_result"
    }
   ],
   "source": [
    "merge.head()"
   ]
  },
  {
   "cell_type": "markdown",
   "metadata": {},
   "source": [
    "### Clean merged data"
   ]
  },
  {
   "cell_type": "code",
   "execution_count": 419,
   "metadata": {},
   "outputs": [],
   "source": [
    "#rename stroke to cerebrovascular disease\n",
    "merge['int_category'].replace({'Stroke':'Cerebrovascular disease'}, inplace=True)"
   ]
  },
  {
   "cell_type": "code",
   "execution_count": 420,
   "metadata": {},
   "outputs": [],
   "source": [
    "#recode some respiratory cancers as lung cancer\n",
    "resp_cancer_codes = merge[merge['ccsr_category'] == 'Respiratory cancers']['icd_10_cm_code'].tolist()\n",
    "resp_cancer_codes_keep = ['C33','C399','D021','D023','D024']\n",
    "lung_cancer_codes = np.setdiff1d(resp_cancer_codes,resp_cancer_codes_keep)\n",
    "\n",
    "merge.loc[merge['icd_10_cm_code'].isin(lung_cancer_codes),'int_category'] = 'Lung cancer'\n",
    "merge.loc[merge['icd_10_cm_code'].isin(resp_cancer_codes_keep),'int_category'] = 'Other neoplasms'"
   ]
  },
  {
   "cell_type": "code",
   "execution_count": 421,
   "metadata": {},
   "outputs": [],
   "source": [
    "#recode some neurocognitive disorders as neurodegenerative diseases\n",
    "neurocog_codes = merge[merge['ccsr_category'] == 'Neurocognitive disorders']['icd_10_cm_code'].tolist()\n",
    "neurocog_codes_keep = ['F04','F05','F0781']\n",
    "neurodegen_codes = np.setdiff1d(neurocog_codes, neurocog_codes_keep)\n",
    "\n",
    "merge.loc[merge['icd_10_cm_code'].isin(neurodegen_codes),'int_category'] = 'Neurodegenerative diseases'\n",
    "merge.loc[merge['icd_10_cm_code'].isin(neurocog_codes_keep),'int_category'] = 'Other neurologic disorders'"
   ]
  },
  {
   "cell_type": "code",
   "execution_count": 422,
   "metadata": {},
   "outputs": [],
   "source": [
    "#delete old disease category\n",
    "del merge['disease_category']\n",
    "merge.rename(columns={'disease_category_int':'disease_category'}, inplace=True)"
   ]
  },
  {
   "cell_type": "markdown",
   "metadata": {},
   "source": [
    "### Final data inspection"
   ]
  },
  {
   "cell_type": "code",
   "execution_count": 423,
   "metadata": {},
   "outputs": [
    {
     "name": "stdout",
     "output_type": "stream",
     "text": [
      "(43968, 5)\n",
      "43968\n",
      "446\n",
      "144\n",
      "14\n"
     ]
    }
   ],
   "source": [
    "print(merge.shape)\n",
    "print(merge['icd_10_cm_code'].nunique())\n",
    "print(merge['ccsr_category'].nunique())\n",
    "print(merge['int_category'].nunique())\n",
    "print(merge['disease_category'].nunique())"
   ]
  },
  {
   "cell_type": "code",
   "execution_count": 424,
   "metadata": {},
   "outputs": [
    {
     "data": {
      "text/plain": [
       "Injuries and external causes                       11706\n",
       "Nonspecific                                        10670\n",
       "Musculoskeletal diseases                            5437\n",
       "Other noncommunicable diseases                      4955\n",
       "Pregnancy and childbirth                            2233\n",
       "Neoplasms                                           1701\n",
       "Cardiovascular diseases                             1497\n",
       "Mental, behavioral, and substance use disorders     1055\n",
       "Gastrointestinal diseases                           1005\n",
       "Endocrine diseases                                   879\n",
       "Genitourinary diseases                               878\n",
       "Nervous system diseases                              769\n",
       "Infections                                           737\n",
       "Respiratory diseases                                 446\n",
       "Name: disease_category, dtype: int64"
      ]
     },
     "execution_count": 424,
     "metadata": {},
     "output_type": "execute_result"
    }
   ],
   "source": [
    "merge['disease_category'].value_counts()"
   ]
  },
  {
   "cell_type": "markdown",
   "metadata": {},
   "source": [
    "### Export data"
   ]
  },
  {
   "cell_type": "code",
   "execution_count": 425,
   "metadata": {},
   "outputs": [],
   "source": [
    "merge.to_csv('../data/ccsr/disease_hierarchy.csv', index=False)"
   ]
  },
  {
   "cell_type": "code",
   "execution_count": null,
   "metadata": {},
   "outputs": [],
   "source": []
  }
 ],
 "metadata": {
  "kernelspec": {
   "display_name": "Python 3",
   "language": "python",
   "name": "python3"
  },
  "language_info": {
   "codemirror_mode": {
    "name": "ipython",
    "version": 3
   },
   "file_extension": ".py",
   "mimetype": "text/x-python",
   "name": "python",
   "nbconvert_exporter": "python",
   "pygments_lexer": "ipython3",
   "version": "3.7.6"
  }
 },
 "nbformat": 4,
 "nbformat_minor": 4
}
