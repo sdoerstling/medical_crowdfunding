{
 "cells": [
  {
   "cell_type": "markdown",
   "metadata": {},
   "source": [
    "### Import packages"
   ]
  },
  {
   "cell_type": "code",
   "execution_count": 1,
   "metadata": {},
   "outputs": [],
   "source": [
    "import pandas as pd\n",
    "import numpy as np"
   ]
  },
  {
   "cell_type": "markdown",
   "metadata": {},
   "source": [
    "### Import utilities"
   ]
  },
  {
   "cell_type": "code",
   "execution_count": 2,
   "metadata": {},
   "outputs": [],
   "source": [
    "import sys\n",
    "sys.path.append('../src/')\n",
    "import utils\n",
    "\n",
    "rename_map = utils.icd_category_map"
   ]
  },
  {
   "cell_type": "markdown",
   "metadata": {},
   "source": [
    "### Import CCSR data"
   ]
  },
  {
   "cell_type": "code",
   "execution_count": 3,
   "metadata": {},
   "outputs": [],
   "source": [
    "icd_map = pd.read_csv('../data/ccsr/DXCCSR_v2021-1.CSV')"
   ]
  },
  {
   "cell_type": "code",
   "execution_count": 4,
   "metadata": {},
   "outputs": [
    {
     "data": {
      "text/html": [
       "<div>\n",
       "<style scoped>\n",
       "    .dataframe tbody tr th:only-of-type {\n",
       "        vertical-align: middle;\n",
       "    }\n",
       "\n",
       "    .dataframe tbody tr th {\n",
       "        vertical-align: top;\n",
       "    }\n",
       "\n",
       "    .dataframe thead th {\n",
       "        text-align: right;\n",
       "    }\n",
       "</style>\n",
       "<table border=\"1\" class=\"dataframe\">\n",
       "  <thead>\n",
       "    <tr style=\"text-align: right;\">\n",
       "      <th></th>\n",
       "      <th>'ICD-10-CM CODE'</th>\n",
       "      <th>'ICD-10-CM CODE DESCRIPTION'</th>\n",
       "      <th>'Default CCSR CATEGORY IP</th>\n",
       "      <th>'Default CCSR CATEGORY DESCRIPTION IP'</th>\n",
       "      <th>'Default CCSR CATEGORY OP</th>\n",
       "      <th>'Default CCSR CATEGORY DESCRIPTION OP'</th>\n",
       "      <th>'CCSR CATEGORY 1'</th>\n",
       "      <th>'CCSR CATEGORY 1 DESCRIPTION'</th>\n",
       "      <th>'CCSR CATEGORY 2'</th>\n",
       "      <th>'CCSR CATEGORY 2 DESCRIPTION'</th>\n",
       "      <th>'CCSR CATEGORY 3'</th>\n",
       "      <th>'CCSR CATEGORY 3 DESCRIPTION'</th>\n",
       "      <th>'CCSR CATEGORY 4'</th>\n",
       "      <th>'CCSR CATEGORY 4 DESCRIPTION'</th>\n",
       "      <th>'CCSR CATEGORY 5'</th>\n",
       "      <th>'CCSR CATEGORY 5 DESCRIPTION'</th>\n",
       "      <th>'CCSR CATEGORY 6'</th>\n",
       "      <th>'CCSR CATEGORY 6 DESCRIPTION'</th>\n",
       "    </tr>\n",
       "  </thead>\n",
       "  <tbody>\n",
       "    <tr>\n",
       "      <th>0</th>\n",
       "      <td>'A000'</td>\n",
       "      <td>Cholera due to Vibrio cholerae 01, biovar chol...</td>\n",
       "      <td>'DIG001'</td>\n",
       "      <td>Intestinal infection</td>\n",
       "      <td>'DIG001'</td>\n",
       "      <td>Intestinal infection</td>\n",
       "      <td>'DIG001'</td>\n",
       "      <td>Intestinal infection</td>\n",
       "      <td>'INF003'</td>\n",
       "      <td>Bacterial infections</td>\n",
       "      <td>' '</td>\n",
       "      <td></td>\n",
       "      <td>' '</td>\n",
       "      <td></td>\n",
       "      <td>' '</td>\n",
       "      <td></td>\n",
       "      <td>' '</td>\n",
       "      <td></td>\n",
       "    </tr>\n",
       "    <tr>\n",
       "      <th>1</th>\n",
       "      <td>'A001'</td>\n",
       "      <td>Cholera due to Vibrio cholerae 01, biovar eltor</td>\n",
       "      <td>'DIG001'</td>\n",
       "      <td>Intestinal infection</td>\n",
       "      <td>'DIG001'</td>\n",
       "      <td>Intestinal infection</td>\n",
       "      <td>'DIG001'</td>\n",
       "      <td>Intestinal infection</td>\n",
       "      <td>'INF003'</td>\n",
       "      <td>Bacterial infections</td>\n",
       "      <td>' '</td>\n",
       "      <td></td>\n",
       "      <td>' '</td>\n",
       "      <td></td>\n",
       "      <td>' '</td>\n",
       "      <td></td>\n",
       "      <td>' '</td>\n",
       "      <td></td>\n",
       "    </tr>\n",
       "    <tr>\n",
       "      <th>2</th>\n",
       "      <td>'A009'</td>\n",
       "      <td>Cholera, unspecified</td>\n",
       "      <td>'DIG001'</td>\n",
       "      <td>Intestinal infection</td>\n",
       "      <td>'DIG001'</td>\n",
       "      <td>Intestinal infection</td>\n",
       "      <td>'DIG001'</td>\n",
       "      <td>Intestinal infection</td>\n",
       "      <td>'INF003'</td>\n",
       "      <td>Bacterial infections</td>\n",
       "      <td>' '</td>\n",
       "      <td></td>\n",
       "      <td>' '</td>\n",
       "      <td></td>\n",
       "      <td>' '</td>\n",
       "      <td></td>\n",
       "      <td>' '</td>\n",
       "      <td></td>\n",
       "    </tr>\n",
       "    <tr>\n",
       "      <th>3</th>\n",
       "      <td>'A0100'</td>\n",
       "      <td>Typhoid fever, unspecified</td>\n",
       "      <td>'DIG001'</td>\n",
       "      <td>Intestinal infection</td>\n",
       "      <td>'DIG001'</td>\n",
       "      <td>Intestinal infection</td>\n",
       "      <td>'DIG001'</td>\n",
       "      <td>Intestinal infection</td>\n",
       "      <td>'INF003'</td>\n",
       "      <td>Bacterial infections</td>\n",
       "      <td>' '</td>\n",
       "      <td></td>\n",
       "      <td>' '</td>\n",
       "      <td></td>\n",
       "      <td>' '</td>\n",
       "      <td></td>\n",
       "      <td>' '</td>\n",
       "      <td></td>\n",
       "    </tr>\n",
       "    <tr>\n",
       "      <th>4</th>\n",
       "      <td>'A0101'</td>\n",
       "      <td>Typhoid meningitis</td>\n",
       "      <td>'NVS001'</td>\n",
       "      <td>Meningitis</td>\n",
       "      <td>'NVS001'</td>\n",
       "      <td>Meningitis</td>\n",
       "      <td>'INF003'</td>\n",
       "      <td>Bacterial infections</td>\n",
       "      <td>'NVS001'</td>\n",
       "      <td>Meningitis</td>\n",
       "      <td>' '</td>\n",
       "      <td></td>\n",
       "      <td>' '</td>\n",
       "      <td></td>\n",
       "      <td>' '</td>\n",
       "      <td></td>\n",
       "      <td>' '</td>\n",
       "      <td></td>\n",
       "    </tr>\n",
       "  </tbody>\n",
       "</table>\n",
       "</div>"
      ],
      "text/plain": [
       "  'ICD-10-CM CODE'                       'ICD-10-CM CODE DESCRIPTION'  \\\n",
       "0           'A000'  Cholera due to Vibrio cholerae 01, biovar chol...   \n",
       "1           'A001'    Cholera due to Vibrio cholerae 01, biovar eltor   \n",
       "2           'A009'                               Cholera, unspecified   \n",
       "3          'A0100'                         Typhoid fever, unspecified   \n",
       "4          'A0101'                                 Typhoid meningitis   \n",
       "\n",
       "  'Default CCSR CATEGORY IP 'Default CCSR CATEGORY DESCRIPTION IP'  \\\n",
       "0                  'DIG001'                   Intestinal infection   \n",
       "1                  'DIG001'                   Intestinal infection   \n",
       "2                  'DIG001'                   Intestinal infection   \n",
       "3                  'DIG001'                   Intestinal infection   \n",
       "4                  'NVS001'                             Meningitis   \n",
       "\n",
       "  'Default CCSR CATEGORY OP 'Default CCSR CATEGORY DESCRIPTION OP'  \\\n",
       "0                  'DIG001'                   Intestinal infection   \n",
       "1                  'DIG001'                   Intestinal infection   \n",
       "2                  'DIG001'                   Intestinal infection   \n",
       "3                  'DIG001'                   Intestinal infection   \n",
       "4                  'NVS001'                             Meningitis   \n",
       "\n",
       "  'CCSR CATEGORY 1' 'CCSR CATEGORY 1 DESCRIPTION' 'CCSR CATEGORY 2'  \\\n",
       "0          'DIG001'          Intestinal infection          'INF003'   \n",
       "1          'DIG001'          Intestinal infection          'INF003'   \n",
       "2          'DIG001'          Intestinal infection          'INF003'   \n",
       "3          'DIG001'          Intestinal infection          'INF003'   \n",
       "4          'INF003'          Bacterial infections          'NVS001'   \n",
       "\n",
       "  'CCSR CATEGORY 2 DESCRIPTION' 'CCSR CATEGORY 3'  \\\n",
       "0          Bacterial infections               ' '   \n",
       "1          Bacterial infections               ' '   \n",
       "2          Bacterial infections               ' '   \n",
       "3          Bacterial infections               ' '   \n",
       "4                    Meningitis               ' '   \n",
       "\n",
       "  'CCSR CATEGORY 3 DESCRIPTION' 'CCSR CATEGORY 4'  \\\n",
       "0                                             ' '   \n",
       "1                                             ' '   \n",
       "2                                             ' '   \n",
       "3                                             ' '   \n",
       "4                                             ' '   \n",
       "\n",
       "  'CCSR CATEGORY 4 DESCRIPTION' 'CCSR CATEGORY 5'  \\\n",
       "0                                             ' '   \n",
       "1                                             ' '   \n",
       "2                                             ' '   \n",
       "3                                             ' '   \n",
       "4                                             ' '   \n",
       "\n",
       "  'CCSR CATEGORY 5 DESCRIPTION' 'CCSR CATEGORY 6'  \\\n",
       "0                                             ' '   \n",
       "1                                             ' '   \n",
       "2                                             ' '   \n",
       "3                                             ' '   \n",
       "4                                             ' '   \n",
       "\n",
       "  'CCSR CATEGORY 6 DESCRIPTION'  \n",
       "0                                \n",
       "1                                \n",
       "2                                \n",
       "3                                \n",
       "4                                "
      ]
     },
     "execution_count": 4,
     "metadata": {},
     "output_type": "execute_result"
    }
   ],
   "source": [
    "icd_map.head()"
   ]
  },
  {
   "cell_type": "markdown",
   "metadata": {},
   "source": [
    "### Clean CCSR data"
   ]
  },
  {
   "cell_type": "code",
   "execution_count": 5,
   "metadata": {},
   "outputs": [],
   "source": [
    "icd_map.columns = [x.replace(\"'\",'') for x in icd_map.columns]"
   ]
  },
  {
   "cell_type": "code",
   "execution_count": 6,
   "metadata": {},
   "outputs": [],
   "source": [
    "icd_map = icd_map[icd_map.columns[:6,].values]"
   ]
  },
  {
   "cell_type": "code",
   "execution_count": 7,
   "metadata": {},
   "outputs": [],
   "source": [
    "for n in [0,2,4]:\n",
    "    icd_map.iloc[:,n] = [x.replace(\"'\",'') for x in icd_map.iloc[:,n].to_list()]"
   ]
  },
  {
   "cell_type": "code",
   "execution_count": 8,
   "metadata": {},
   "outputs": [
    {
     "data": {
      "text/html": [
       "<div>\n",
       "<style scoped>\n",
       "    .dataframe tbody tr th:only-of-type {\n",
       "        vertical-align: middle;\n",
       "    }\n",
       "\n",
       "    .dataframe tbody tr th {\n",
       "        vertical-align: top;\n",
       "    }\n",
       "\n",
       "    .dataframe thead th {\n",
       "        text-align: right;\n",
       "    }\n",
       "</style>\n",
       "<table border=\"1\" class=\"dataframe\">\n",
       "  <thead>\n",
       "    <tr style=\"text-align: right;\">\n",
       "      <th></th>\n",
       "      <th>ICD-10-CM CODE</th>\n",
       "      <th>ICD-10-CM CODE DESCRIPTION</th>\n",
       "      <th>Default CCSR CATEGORY IP</th>\n",
       "      <th>Default CCSR CATEGORY DESCRIPTION IP</th>\n",
       "      <th>Default CCSR CATEGORY OP</th>\n",
       "      <th>Default CCSR CATEGORY DESCRIPTION OP</th>\n",
       "    </tr>\n",
       "  </thead>\n",
       "  <tbody>\n",
       "    <tr>\n",
       "      <th>0</th>\n",
       "      <td>A000</td>\n",
       "      <td>Cholera due to Vibrio cholerae 01, biovar chol...</td>\n",
       "      <td>DIG001</td>\n",
       "      <td>Intestinal infection</td>\n",
       "      <td>DIG001</td>\n",
       "      <td>Intestinal infection</td>\n",
       "    </tr>\n",
       "    <tr>\n",
       "      <th>1</th>\n",
       "      <td>A001</td>\n",
       "      <td>Cholera due to Vibrio cholerae 01, biovar eltor</td>\n",
       "      <td>DIG001</td>\n",
       "      <td>Intestinal infection</td>\n",
       "      <td>DIG001</td>\n",
       "      <td>Intestinal infection</td>\n",
       "    </tr>\n",
       "    <tr>\n",
       "      <th>2</th>\n",
       "      <td>A009</td>\n",
       "      <td>Cholera, unspecified</td>\n",
       "      <td>DIG001</td>\n",
       "      <td>Intestinal infection</td>\n",
       "      <td>DIG001</td>\n",
       "      <td>Intestinal infection</td>\n",
       "    </tr>\n",
       "    <tr>\n",
       "      <th>3</th>\n",
       "      <td>A0100</td>\n",
       "      <td>Typhoid fever, unspecified</td>\n",
       "      <td>DIG001</td>\n",
       "      <td>Intestinal infection</td>\n",
       "      <td>DIG001</td>\n",
       "      <td>Intestinal infection</td>\n",
       "    </tr>\n",
       "    <tr>\n",
       "      <th>4</th>\n",
       "      <td>A0101</td>\n",
       "      <td>Typhoid meningitis</td>\n",
       "      <td>NVS001</td>\n",
       "      <td>Meningitis</td>\n",
       "      <td>NVS001</td>\n",
       "      <td>Meningitis</td>\n",
       "    </tr>\n",
       "  </tbody>\n",
       "</table>\n",
       "</div>"
      ],
      "text/plain": [
       "  ICD-10-CM CODE                         ICD-10-CM CODE DESCRIPTION  \\\n",
       "0           A000  Cholera due to Vibrio cholerae 01, biovar chol...   \n",
       "1           A001    Cholera due to Vibrio cholerae 01, biovar eltor   \n",
       "2           A009                               Cholera, unspecified   \n",
       "3          A0100                         Typhoid fever, unspecified   \n",
       "4          A0101                                 Typhoid meningitis   \n",
       "\n",
       "  Default CCSR CATEGORY IP Default CCSR CATEGORY DESCRIPTION IP  \\\n",
       "0                   DIG001                 Intestinal infection   \n",
       "1                   DIG001                 Intestinal infection   \n",
       "2                   DIG001                 Intestinal infection   \n",
       "3                   DIG001                 Intestinal infection   \n",
       "4                   NVS001                           Meningitis   \n",
       "\n",
       "  Default CCSR CATEGORY OP Default CCSR CATEGORY DESCRIPTION OP  \n",
       "0                   DIG001                 Intestinal infection  \n",
       "1                   DIG001                 Intestinal infection  \n",
       "2                   DIG001                 Intestinal infection  \n",
       "3                   DIG001                 Intestinal infection  \n",
       "4                   NVS001                           Meningitis  "
      ]
     },
     "execution_count": 8,
     "metadata": {},
     "output_type": "execute_result"
    }
   ],
   "source": [
    "icd_map.head()"
   ]
  },
  {
   "cell_type": "markdown",
   "metadata": {},
   "source": [
    "### Import CCSR categories and naming conventions"
   ]
  },
  {
   "cell_type": "code",
   "execution_count": 9,
   "metadata": {},
   "outputs": [],
   "source": [
    "#read in ccs categories\n",
    "cat = pd.read_excel('../data/ccsr/DXCCSR-Reference-File-v2021-1.xlsx', sheet_name='CCSR_Categories', skiprows=1)"
   ]
  },
  {
   "cell_type": "code",
   "execution_count": 10,
   "metadata": {},
   "outputs": [],
   "source": [
    "#read in ccs naming conventions\n",
    "nam = pd.read_excel('../data/ccsr/DXCCSR-Reference-File-v2021-1.xlsx', sheet_name='Naming_Conventions', skiprows=1)"
   ]
  },
  {
   "cell_type": "markdown",
   "metadata": {},
   "source": [
    "### Clean CCSR categories and naming conventions"
   ]
  },
  {
   "cell_type": "code",
   "execution_count": 11,
   "metadata": {},
   "outputs": [],
   "source": [
    "#extract broad category\n",
    "cat['abb'] = [x[:3] for x in cat['CCSR Category']]"
   ]
  },
  {
   "cell_type": "code",
   "execution_count": 12,
   "metadata": {},
   "outputs": [],
   "source": [
    "#merge categories and naming conventions\n",
    "cats = pd.merge(cat, nam, left_on='abb', right_on='3-Character Abbreviation', how='left')"
   ]
  },
  {
   "cell_type": "code",
   "execution_count": 13,
   "metadata": {},
   "outputs": [
    {
     "data": {
      "text/html": [
       "<div>\n",
       "<style scoped>\n",
       "    .dataframe tbody tr th:only-of-type {\n",
       "        vertical-align: middle;\n",
       "    }\n",
       "\n",
       "    .dataframe tbody tr th {\n",
       "        vertical-align: top;\n",
       "    }\n",
       "\n",
       "    .dataframe thead th {\n",
       "        text-align: right;\n",
       "    }\n",
       "</style>\n",
       "<table border=\"1\" class=\"dataframe\">\n",
       "  <thead>\n",
       "    <tr style=\"text-align: right;\">\n",
       "      <th></th>\n",
       "      <th>CCSR Category</th>\n",
       "      <th>CCSR Category Description</th>\n",
       "      <th>abb</th>\n",
       "      <th>ICD-10-CM Diagnosis Chapter</th>\n",
       "      <th>3-Character Abbreviation</th>\n",
       "    </tr>\n",
       "  </thead>\n",
       "  <tbody>\n",
       "    <tr>\n",
       "      <th>0</th>\n",
       "      <td>BLD001</td>\n",
       "      <td>Nutritional anemia</td>\n",
       "      <td>BLD</td>\n",
       "      <td>Diseases of the Blood and Blood Forming Organs...</td>\n",
       "      <td>BLD</td>\n",
       "    </tr>\n",
       "    <tr>\n",
       "      <th>1</th>\n",
       "      <td>BLD002</td>\n",
       "      <td>Hemolytic anemia</td>\n",
       "      <td>BLD</td>\n",
       "      <td>Diseases of the Blood and Blood Forming Organs...</td>\n",
       "      <td>BLD</td>\n",
       "    </tr>\n",
       "    <tr>\n",
       "      <th>2</th>\n",
       "      <td>BLD003</td>\n",
       "      <td>Aplastic anemia</td>\n",
       "      <td>BLD</td>\n",
       "      <td>Diseases of the Blood and Blood Forming Organs...</td>\n",
       "      <td>BLD</td>\n",
       "    </tr>\n",
       "    <tr>\n",
       "      <th>3</th>\n",
       "      <td>BLD004</td>\n",
       "      <td>Acute posthemorrhagic anemia</td>\n",
       "      <td>BLD</td>\n",
       "      <td>Diseases of the Blood and Blood Forming Organs...</td>\n",
       "      <td>BLD</td>\n",
       "    </tr>\n",
       "    <tr>\n",
       "      <th>4</th>\n",
       "      <td>BLD005</td>\n",
       "      <td>Sickle cell trait/anemia</td>\n",
       "      <td>BLD</td>\n",
       "      <td>Diseases of the Blood and Blood Forming Organs...</td>\n",
       "      <td>BLD</td>\n",
       "    </tr>\n",
       "  </tbody>\n",
       "</table>\n",
       "</div>"
      ],
      "text/plain": [
       "  CCSR Category     CCSR Category Description  abb  \\\n",
       "0        BLD001            Nutritional anemia  BLD   \n",
       "1        BLD002              Hemolytic anemia  BLD   \n",
       "2        BLD003               Aplastic anemia  BLD   \n",
       "3        BLD004  Acute posthemorrhagic anemia  BLD   \n",
       "4        BLD005      Sickle cell trait/anemia  BLD   \n",
       "\n",
       "                         ICD-10-CM Diagnosis Chapter 3-Character Abbreviation  \n",
       "0  Diseases of the Blood and Blood Forming Organs...                      BLD  \n",
       "1  Diseases of the Blood and Blood Forming Organs...                      BLD  \n",
       "2  Diseases of the Blood and Blood Forming Organs...                      BLD  \n",
       "3  Diseases of the Blood and Blood Forming Organs...                      BLD  \n",
       "4  Diseases of the Blood and Blood Forming Organs...                      BLD  "
      ]
     },
     "execution_count": 13,
     "metadata": {},
     "output_type": "execute_result"
    }
   ],
   "source": [
    "cats.head()"
   ]
  },
  {
   "cell_type": "code",
   "execution_count": 14,
   "metadata": {},
   "outputs": [],
   "source": [
    "#then merge with icd10 map using inpatient defaults\n",
    "merge = pd.merge(icd_map, cats, left_on='Default CCSR CATEGORY IP', right_on='CCSR Category', how='left')"
   ]
  },
  {
   "cell_type": "code",
   "execution_count": 15,
   "metadata": {},
   "outputs": [
    {
     "data": {
      "text/html": [
       "<div>\n",
       "<style scoped>\n",
       "    .dataframe tbody tr th:only-of-type {\n",
       "        vertical-align: middle;\n",
       "    }\n",
       "\n",
       "    .dataframe tbody tr th {\n",
       "        vertical-align: top;\n",
       "    }\n",
       "\n",
       "    .dataframe thead th {\n",
       "        text-align: right;\n",
       "    }\n",
       "</style>\n",
       "<table border=\"1\" class=\"dataframe\">\n",
       "  <thead>\n",
       "    <tr style=\"text-align: right;\">\n",
       "      <th></th>\n",
       "      <th>ICD-10-CM CODE</th>\n",
       "      <th>ICD-10-CM CODE DESCRIPTION</th>\n",
       "      <th>Default CCSR CATEGORY IP</th>\n",
       "      <th>Default CCSR CATEGORY DESCRIPTION IP</th>\n",
       "      <th>Default CCSR CATEGORY OP</th>\n",
       "      <th>Default CCSR CATEGORY DESCRIPTION OP</th>\n",
       "      <th>CCSR Category</th>\n",
       "      <th>CCSR Category Description</th>\n",
       "      <th>abb</th>\n",
       "      <th>ICD-10-CM Diagnosis Chapter</th>\n",
       "      <th>3-Character Abbreviation</th>\n",
       "    </tr>\n",
       "  </thead>\n",
       "  <tbody>\n",
       "    <tr>\n",
       "      <th>0</th>\n",
       "      <td>A000</td>\n",
       "      <td>Cholera due to Vibrio cholerae 01, biovar chol...</td>\n",
       "      <td>DIG001</td>\n",
       "      <td>Intestinal infection</td>\n",
       "      <td>DIG001</td>\n",
       "      <td>Intestinal infection</td>\n",
       "      <td>DIG001</td>\n",
       "      <td>Intestinal infection</td>\n",
       "      <td>DIG</td>\n",
       "      <td>Diseases of the Digestive System</td>\n",
       "      <td>DIG</td>\n",
       "    </tr>\n",
       "    <tr>\n",
       "      <th>1</th>\n",
       "      <td>A001</td>\n",
       "      <td>Cholera due to Vibrio cholerae 01, biovar eltor</td>\n",
       "      <td>DIG001</td>\n",
       "      <td>Intestinal infection</td>\n",
       "      <td>DIG001</td>\n",
       "      <td>Intestinal infection</td>\n",
       "      <td>DIG001</td>\n",
       "      <td>Intestinal infection</td>\n",
       "      <td>DIG</td>\n",
       "      <td>Diseases of the Digestive System</td>\n",
       "      <td>DIG</td>\n",
       "    </tr>\n",
       "    <tr>\n",
       "      <th>2</th>\n",
       "      <td>A009</td>\n",
       "      <td>Cholera, unspecified</td>\n",
       "      <td>DIG001</td>\n",
       "      <td>Intestinal infection</td>\n",
       "      <td>DIG001</td>\n",
       "      <td>Intestinal infection</td>\n",
       "      <td>DIG001</td>\n",
       "      <td>Intestinal infection</td>\n",
       "      <td>DIG</td>\n",
       "      <td>Diseases of the Digestive System</td>\n",
       "      <td>DIG</td>\n",
       "    </tr>\n",
       "    <tr>\n",
       "      <th>3</th>\n",
       "      <td>A0100</td>\n",
       "      <td>Typhoid fever, unspecified</td>\n",
       "      <td>DIG001</td>\n",
       "      <td>Intestinal infection</td>\n",
       "      <td>DIG001</td>\n",
       "      <td>Intestinal infection</td>\n",
       "      <td>DIG001</td>\n",
       "      <td>Intestinal infection</td>\n",
       "      <td>DIG</td>\n",
       "      <td>Diseases of the Digestive System</td>\n",
       "      <td>DIG</td>\n",
       "    </tr>\n",
       "    <tr>\n",
       "      <th>4</th>\n",
       "      <td>A0101</td>\n",
       "      <td>Typhoid meningitis</td>\n",
       "      <td>NVS001</td>\n",
       "      <td>Meningitis</td>\n",
       "      <td>NVS001</td>\n",
       "      <td>Meningitis</td>\n",
       "      <td>NVS001</td>\n",
       "      <td>Meningitis</td>\n",
       "      <td>NVS</td>\n",
       "      <td>Diseases of the Nervous System</td>\n",
       "      <td>NVS</td>\n",
       "    </tr>\n",
       "  </tbody>\n",
       "</table>\n",
       "</div>"
      ],
      "text/plain": [
       "  ICD-10-CM CODE                         ICD-10-CM CODE DESCRIPTION  \\\n",
       "0           A000  Cholera due to Vibrio cholerae 01, biovar chol...   \n",
       "1           A001    Cholera due to Vibrio cholerae 01, biovar eltor   \n",
       "2           A009                               Cholera, unspecified   \n",
       "3          A0100                         Typhoid fever, unspecified   \n",
       "4          A0101                                 Typhoid meningitis   \n",
       "\n",
       "  Default CCSR CATEGORY IP Default CCSR CATEGORY DESCRIPTION IP  \\\n",
       "0                   DIG001                 Intestinal infection   \n",
       "1                   DIG001                 Intestinal infection   \n",
       "2                   DIG001                 Intestinal infection   \n",
       "3                   DIG001                 Intestinal infection   \n",
       "4                   NVS001                           Meningitis   \n",
       "\n",
       "  Default CCSR CATEGORY OP Default CCSR CATEGORY DESCRIPTION OP CCSR Category  \\\n",
       "0                   DIG001                 Intestinal infection        DIG001   \n",
       "1                   DIG001                 Intestinal infection        DIG001   \n",
       "2                   DIG001                 Intestinal infection        DIG001   \n",
       "3                   DIG001                 Intestinal infection        DIG001   \n",
       "4                   NVS001                           Meningitis        NVS001   \n",
       "\n",
       "  CCSR Category Description  abb       ICD-10-CM Diagnosis Chapter  \\\n",
       "0      Intestinal infection  DIG  Diseases of the Digestive System   \n",
       "1      Intestinal infection  DIG  Diseases of the Digestive System   \n",
       "2      Intestinal infection  DIG  Diseases of the Digestive System   \n",
       "3      Intestinal infection  DIG  Diseases of the Digestive System   \n",
       "4                Meningitis  NVS    Diseases of the Nervous System   \n",
       "\n",
       "  3-Character Abbreviation  \n",
       "0                      DIG  \n",
       "1                      DIG  \n",
       "2                      DIG  \n",
       "3                      DIG  \n",
       "4                      NVS  "
      ]
     },
     "execution_count": 15,
     "metadata": {},
     "output_type": "execute_result"
    }
   ],
   "source": [
    "merge.head()"
   ]
  },
  {
   "cell_type": "code",
   "execution_count": 16,
   "metadata": {},
   "outputs": [],
   "source": [
    "#save a copy of this data to document which CCSR categories were reassigned\n",
    "import copy\n",
    "for_comparison = copy.deepcopy(merge)"
   ]
  },
  {
   "cell_type": "markdown",
   "metadata": {},
   "source": [
    "### Rename and recategorize disease categories"
   ]
  },
  {
   "cell_type": "code",
   "execution_count": 17,
   "metadata": {},
   "outputs": [
    {
     "data": {
      "text/plain": [
       "Injury, Poisoning and Certain Other Consequences of External Causes                                    39193\n",
       "Unacceptable principal diagnosis (inpatient data) or first-listed diagnosis (outpatient data)           9906\n",
       "Diseases of the Musculoskeletal System and Connective Tissue                                            6230\n",
       "Diseases of the Eye and Adnexa                                                                          2633\n",
       "Pregnancy, Childbirth and the Puerperium                                                                2233\n",
       "Mental, Behavioral and Neurodevelopmental Disorders                                                     1761\n",
       "Neoplasms                                                                                               1701\n",
       "Diseases of the Circulatory System                                                                      1389\n",
       "Diseases of the Digestive System                                                                         888\n",
       "Endocrine, Nutritional and Metabolic Diseases                                                            879\n",
       "Diseases of the Skin and Subcutaneous Tissue                                                             870\n",
       "Congenital Malformations, Deformations and Chromosomal Abnormalities                                     855\n",
       "Diseases of the Genitourinary System                                                                     719\n",
       "Diseases of the Nervous System                                                                           716\n",
       "Certain Infectious and Parasitic Diseases                                                                690\n",
       "Diseases of the Ear and Mastoid Process                                                                  628\n",
       "Symptoms, Signs and Abnormal Clinical and Laboratory Findings, Not Elsewhere Classified                  553\n",
       "Certain Conditions Originating in the Perinatal Period                                                   508\n",
       "Diseases of the Respiratory System                                                                       376\n",
       "Diseases of the Blood and Blood Forming Organs and Certain Disorders Involving the Immune Mechanism      266\n",
       "Factors Influencing Health Status and Contact with Health Services                                       211\n",
       "Name: ICD-10-CM Diagnosis Chapter, dtype: int64"
      ]
     },
     "execution_count": 17,
     "metadata": {},
     "output_type": "execute_result"
    }
   ],
   "source": [
    "merge['ICD-10-CM Diagnosis Chapter'].value_counts()"
   ]
  },
  {
   "cell_type": "code",
   "execution_count": 18,
   "metadata": {},
   "outputs": [],
   "source": [
    "merge.replace(rename_map, inplace=True)"
   ]
  },
  {
   "cell_type": "code",
   "execution_count": 19,
   "metadata": {},
   "outputs": [
    {
     "data": {
      "text/plain": [
       "Injuries and external causes          39193\n",
       "Exclude                               18663\n",
       "Musculoskeletal diseases               6230\n",
       "Mental and substance use disorders     1761\n",
       "Neoplasms                              1701\n",
       "Cardiovascular diseases                1389\n",
       "Gastrointestinal diseases               888\n",
       "Endocrine diseases                      879\n",
       "Genitourinary diseases                  719\n",
       "Nervous system diseases                 716\n",
       "Infections                              690\n",
       "Respiratory diseases                    376\n",
       "Name: ICD-10-CM Diagnosis Chapter, dtype: int64"
      ]
     },
     "execution_count": 19,
     "metadata": {},
     "output_type": "execute_result"
    }
   ],
   "source": [
    "merge['ICD-10-CM Diagnosis Chapter'].value_counts()"
   ]
  },
  {
   "cell_type": "markdown",
   "metadata": {},
   "source": [
    "### Clean data\n",
    "\n",
    "Select default inpatient category"
   ]
  },
  {
   "cell_type": "code",
   "execution_count": 20,
   "metadata": {},
   "outputs": [],
   "source": [
    "merge.rename(columns={'ICD-10-CM CODE':'icd_10_cm_code',\n",
    "                      'ICD-10-CM CODE DESCRIPTION':'icd_10_cm_code_desc',\n",
    "                      'Default CCSR CATEGORY DESCRIPTION IP':'ccsr_category',\n",
    "                      'ICD-10-CM Diagnosis Chapter': 'disease_category'}, inplace=True)"
   ]
  },
  {
   "cell_type": "code",
   "execution_count": 21,
   "metadata": {},
   "outputs": [],
   "source": [
    "merge = merge[['icd_10_cm_code','icd_10_cm_code_desc','ccsr_category','disease_category']]"
   ]
  },
  {
   "cell_type": "code",
   "execution_count": 22,
   "metadata": {},
   "outputs": [
    {
     "data": {
      "text/html": [
       "<div>\n",
       "<style scoped>\n",
       "    .dataframe tbody tr th:only-of-type {\n",
       "        vertical-align: middle;\n",
       "    }\n",
       "\n",
       "    .dataframe tbody tr th {\n",
       "        vertical-align: top;\n",
       "    }\n",
       "\n",
       "    .dataframe thead th {\n",
       "        text-align: right;\n",
       "    }\n",
       "</style>\n",
       "<table border=\"1\" class=\"dataframe\">\n",
       "  <thead>\n",
       "    <tr style=\"text-align: right;\">\n",
       "      <th></th>\n",
       "      <th>icd_10_cm_code</th>\n",
       "      <th>icd_10_cm_code_desc</th>\n",
       "      <th>ccsr_category</th>\n",
       "      <th>disease_category</th>\n",
       "    </tr>\n",
       "  </thead>\n",
       "  <tbody>\n",
       "    <tr>\n",
       "      <th>0</th>\n",
       "      <td>A000</td>\n",
       "      <td>Cholera due to Vibrio cholerae 01, biovar chol...</td>\n",
       "      <td>Intestinal infection</td>\n",
       "      <td>Gastrointestinal diseases</td>\n",
       "    </tr>\n",
       "    <tr>\n",
       "      <th>1</th>\n",
       "      <td>A001</td>\n",
       "      <td>Cholera due to Vibrio cholerae 01, biovar eltor</td>\n",
       "      <td>Intestinal infection</td>\n",
       "      <td>Gastrointestinal diseases</td>\n",
       "    </tr>\n",
       "    <tr>\n",
       "      <th>2</th>\n",
       "      <td>A009</td>\n",
       "      <td>Cholera, unspecified</td>\n",
       "      <td>Intestinal infection</td>\n",
       "      <td>Gastrointestinal diseases</td>\n",
       "    </tr>\n",
       "    <tr>\n",
       "      <th>3</th>\n",
       "      <td>A0100</td>\n",
       "      <td>Typhoid fever, unspecified</td>\n",
       "      <td>Intestinal infection</td>\n",
       "      <td>Gastrointestinal diseases</td>\n",
       "    </tr>\n",
       "    <tr>\n",
       "      <th>4</th>\n",
       "      <td>A0101</td>\n",
       "      <td>Typhoid meningitis</td>\n",
       "      <td>Meningitis</td>\n",
       "      <td>Nervous system diseases</td>\n",
       "    </tr>\n",
       "  </tbody>\n",
       "</table>\n",
       "</div>"
      ],
      "text/plain": [
       "  icd_10_cm_code                                icd_10_cm_code_desc  \\\n",
       "0           A000  Cholera due to Vibrio cholerae 01, biovar chol...   \n",
       "1           A001    Cholera due to Vibrio cholerae 01, biovar eltor   \n",
       "2           A009                               Cholera, unspecified   \n",
       "3          A0100                         Typhoid fever, unspecified   \n",
       "4          A0101                                 Typhoid meningitis   \n",
       "\n",
       "          ccsr_category           disease_category  \n",
       "0  Intestinal infection  Gastrointestinal diseases  \n",
       "1  Intestinal infection  Gastrointestinal diseases  \n",
       "2  Intestinal infection  Gastrointestinal diseases  \n",
       "3  Intestinal infection  Gastrointestinal diseases  \n",
       "4            Meningitis    Nervous system diseases  "
      ]
     },
     "execution_count": 22,
     "metadata": {},
     "output_type": "execute_result"
    }
   ],
   "source": [
    "merge.head()"
   ]
  },
  {
   "cell_type": "markdown",
   "metadata": {},
   "source": [
    "### Recode certain ICD10 codes to new CCSR category"
   ]
  },
  {
   "cell_type": "code",
   "execution_count": 23,
   "metadata": {},
   "outputs": [],
   "source": [
    "# stroke_codes = [\n",
    "#     'Middle cerebral artery syndrome',\n",
    "#     'Anterior cerebral artery syndrome',\n",
    "#     'Posterior cerebral artery syndrome',\n",
    "#     'Brain stem stroke syndrome',\n",
    "#     'Cerebellar stroke syndrome',\n",
    "#     'Pure motor lacunar syndrome',\n",
    "#     'Pure sensory lacunar syndrome',\n",
    "#     'Other lacunar syndromes',\n",
    "#     'Other vascular syndromes of brain in cerebrovascular diseases']"
   ]
  },
  {
   "cell_type": "code",
   "execution_count": 24,
   "metadata": {},
   "outputs": [],
   "source": [
    "# merge.loc[merge['icd_10_cm_code_desc'].isin(stroke_codes),'ccsr_category'] = 'Other and ill-defined cerebrovascular disease'\n",
    "# merge.loc[merge['icd_10_cm_code_desc'].isin(stroke_codes),'disease_category'] = 'Cardiovascular diseases'"
   ]
  },
  {
   "cell_type": "markdown",
   "metadata": {},
   "source": [
    "### Import intermediate codes\n",
    "\n",
    "CCSR categories were grouped into \"intermediate\" umbrella categories"
   ]
  },
  {
   "cell_type": "code",
   "execution_count": 25,
   "metadata": {},
   "outputs": [],
   "source": [
    "# intermediate = pd.read_excel('../data/ccsr/intermediate_category.xlsx')"
   ]
  },
  {
   "cell_type": "code",
   "execution_count": 26,
   "metadata": {},
   "outputs": [],
   "source": [
    "# intermediate.head()"
   ]
  },
  {
   "cell_type": "code",
   "execution_count": 27,
   "metadata": {},
   "outputs": [],
   "source": [
    "# intermediate.rename(columns={'disease_category':'disease_category_int'}, inplace=True)"
   ]
  },
  {
   "cell_type": "code",
   "execution_count": 28,
   "metadata": {},
   "outputs": [],
   "source": [
    "# #merge int categories\n",
    "# merge = merge.merge(intermediate, on='ccsr_category', how='left')"
   ]
  },
  {
   "cell_type": "code",
   "execution_count": 29,
   "metadata": {},
   "outputs": [],
   "source": [
    "# merge[merge['int_category'].isna()]"
   ]
  },
  {
   "cell_type": "code",
   "execution_count": 30,
   "metadata": {},
   "outputs": [],
   "source": [
    "# print(merge.shape)\n",
    "# print('\\n')\n",
    "# print(merge[merge['ccsr_category'].str.lower().str.endswith('sequela')]['disease_category'].value_counts())\n",
    "# print('\\n')\n",
    "# print(merge[merge['ccsr_category'].str.lower().str.endswith('subsequent encounter')]['disease_category'].value_counts())"
   ]
  },
  {
   "cell_type": "code",
   "execution_count": 31,
   "metadata": {},
   "outputs": [
    {
     "name": "stdout",
     "output_type": "stream",
     "text": [
      "73205\n",
      "(73205, 4)\n"
     ]
    }
   ],
   "source": [
    "print(merge['icd_10_cm_code'].nunique())\n",
    "print(merge.shape)"
   ]
  },
  {
   "cell_type": "markdown",
   "metadata": {},
   "source": [
    "There are no duplicate ICD 10 codes, so each one maps uniquely to a category."
   ]
  },
  {
   "cell_type": "code",
   "execution_count": 32,
   "metadata": {},
   "outputs": [],
   "source": [
    "# #remove codes that map to ccsr_category that end with sequela and subsequent encounter\n",
    "# merge = merge[~merge['ccsr_category'].str.lower().str.endswith('sequela')]\n",
    "# print('Without sequela: ',merge.shape)\n",
    "# merge = merge[~merge['ccsr_category'].str.lower().str.endswith('subsequent encounter')]\n",
    "# print('Without subsequent encounter: ',merge.shape)"
   ]
  },
  {
   "cell_type": "code",
   "execution_count": 33,
   "metadata": {},
   "outputs": [],
   "source": [
    "# print(merge['ccsr_category'].nunique())\n",
    "\n",
    "# test_ccsr_duplicates = merge[['ccsr_category','disease_category']].drop_duplicates('ccsr_category')\n",
    "# print(test_ccsr_duplicates.shape)\n",
    "# print(test_ccsr_duplicates['ccsr_category'].nunique())"
   ]
  },
  {
   "cell_type": "markdown",
   "metadata": {},
   "source": [
    "There are no duplicate CCSR categories, so each one maps uniquely to an aggregated disease category."
   ]
  },
  {
   "cell_type": "markdown",
   "metadata": {},
   "source": [
    "### Clean merged data"
   ]
  },
  {
   "cell_type": "code",
   "execution_count": 34,
   "metadata": {},
   "outputs": [],
   "source": [
    "# #rename stroke to cerebrovascular disease\n",
    "# merge['int_category'].replace({'Stroke':'Cerebrovascular disease'}, inplace=True)"
   ]
  },
  {
   "cell_type": "code",
   "execution_count": 35,
   "metadata": {},
   "outputs": [],
   "source": [
    "# #recode some respiratory cancers as lung cancer\n",
    "# resp_cancer_codes = merge[merge['ccsr_category'] == 'Respiratory cancers']['icd_10_cm_code'].tolist()\n",
    "# resp_cancer_codes_keep = ['C33','C399','D021','D023','D024']\n",
    "# lung_cancer_codes = np.setdiff1d(resp_cancer_codes,resp_cancer_codes_keep)\n",
    "\n",
    "# merge.loc[merge['icd_10_cm_code'].isin(lung_cancer_codes),'int_category'] = 'Lung cancer'\n",
    "# merge.loc[merge['icd_10_cm_code'].isin(resp_cancer_codes_keep),'int_category'] = 'Other neoplasms'"
   ]
  },
  {
   "cell_type": "code",
   "execution_count": 36,
   "metadata": {},
   "outputs": [],
   "source": [
    "# #recode some neurocognitive disorders as neurodegenerative diseases\n",
    "# neurocog_codes = merge[merge['ccsr_category'] == 'Neurocognitive disorders']['icd_10_cm_code'].tolist()\n",
    "# neurocog_codes_keep = ['F04','F05','F0781']\n",
    "# neurodegen_codes = np.setdiff1d(neurocog_codes, neurocog_codes_keep)\n",
    "\n",
    "# merge.loc[merge['icd_10_cm_code'].isin(neurodegen_codes),'int_category'] = 'Neurodegenerative diseases'\n",
    "# merge.loc[merge['icd_10_cm_code'].isin(neurocog_codes_keep),'int_category'] = 'Other neurologic disorders'"
   ]
  },
  {
   "cell_type": "markdown",
   "metadata": {},
   "source": [
    "#### Remove dental disorders from GI"
   ]
  },
  {
   "cell_type": "code",
   "execution_count": 37,
   "metadata": {},
   "outputs": [],
   "source": [
    "merge.loc[merge['ccsr_category'] == 'Disorders of teeth and gingiva', 'disease_category'] = 'Exclude'"
   ]
  },
  {
   "cell_type": "markdown",
   "metadata": {},
   "source": [
    "#### Recategorize certain CCSR categories"
   ]
  },
  {
   "cell_type": "code",
   "execution_count": 38,
   "metadata": {},
   "outputs": [],
   "source": [
    "ccsr_reorganize = {\n",
    "    'Cardiac and circulatory congenital anomalies' : 'Cardiovascular diseases',\n",
    "    'Transient cerebral ischemia' : 'Cardiovascular diseases',\n",
    "    'Hepatitis' : 'Gastrointestinal diseases',\n",
    "    'Digestive congenital anomalies' : 'Gastrointestinal diseases',\n",
    "    'Neonatal digestive and feeding disorders' : 'Gastrointestinal diseases',\n",
    "    'Genitourinary congenital anomalies' : 'Genitourinary diseases',\n",
    "    'Perinatal infections' : 'Infections',\n",
    "    'Musculoskeletal congenital conditions' : 'Musculoskeletal diseases',\n",
    "    'Nervous system congenital anomalies' : 'Nervous system diseases',\n",
    "    'Neonatal cerebral disorders' : 'Nervous system diseases',\n",
    "    'Respiratory congenital malformations' : 'Respiratory diseases',\n",
    "    'Respiratory distress syndrome' : 'Respiratory diseases',\n",
    "    'Respiratory perinatal condition' : 'Respiratory diseases'\n",
    "}"
   ]
  },
  {
   "cell_type": "code",
   "execution_count": 39,
   "metadata": {},
   "outputs": [],
   "source": [
    "def recode_ccsr_categories(df, dic):\n",
    "    \n",
    "    r = copy.deepcopy(df)\n",
    "    \n",
    "    for k,v in dic.items():\n",
    "        r.loc[r['ccsr_category'] == k,'disease_category'] = v\n",
    "        \n",
    "    return r"
   ]
  },
  {
   "cell_type": "code",
   "execution_count": 40,
   "metadata": {},
   "outputs": [],
   "source": [
    "merge = recode_ccsr_categories(merge, ccsr_reorganize)"
   ]
  },
  {
   "cell_type": "markdown",
   "metadata": {},
   "source": [
    "### Exclude ICD codes remaining in categories to exclude"
   ]
  },
  {
   "cell_type": "code",
   "execution_count": 41,
   "metadata": {},
   "outputs": [],
   "source": [
    "# #delete old disease category\n",
    "# del merge['disease_category']\n",
    "# merge.rename(columns={'disease_category_int':'disease_category'}, inplace=True)"
   ]
  },
  {
   "cell_type": "code",
   "execution_count": 42,
   "metadata": {},
   "outputs": [],
   "source": [
    "# merge = merge[~merge['disease_category'].isna()]"
   ]
  },
  {
   "cell_type": "code",
   "execution_count": 43,
   "metadata": {},
   "outputs": [
    {
     "name": "stdout",
     "output_type": "stream",
     "text": [
      "73205\n",
      "(73205, 4)\n"
     ]
    }
   ],
   "source": [
    "print(merge['icd_10_cm_code'].nunique())\n",
    "print(merge.shape)"
   ]
  },
  {
   "cell_type": "markdown",
   "metadata": {},
   "source": [
    "### Add other ICD10 codes back in"
   ]
  },
  {
   "cell_type": "code",
   "execution_count": 41,
   "metadata": {},
   "outputs": [],
   "source": [
    "# excl = icd_map[~icd_map['ICD-10-CM CODE'].isin(merge['icd_10_cm_code'].tolist())]"
   ]
  },
  {
   "cell_type": "code",
   "execution_count": 42,
   "metadata": {},
   "outputs": [],
   "source": [
    "# excl = excl[['ICD-10-CM CODE','ICD-10-CM CODE DESCRIPTION']]"
   ]
  },
  {
   "cell_type": "code",
   "execution_count": 43,
   "metadata": {},
   "outputs": [],
   "source": [
    "# excl.columns = ['icd_10_cm_code','icd_10_cm_code_desc']"
   ]
  },
  {
   "cell_type": "code",
   "execution_count": 44,
   "metadata": {},
   "outputs": [],
   "source": [
    "# export = pd.concat([merge,excl], axis=0).fillna('Exclude')"
   ]
  },
  {
   "cell_type": "markdown",
   "metadata": {},
   "source": [
    "### Final data inspection"
   ]
  },
  {
   "cell_type": "code",
   "execution_count": 45,
   "metadata": {},
   "outputs": [
    {
     "name": "stdout",
     "output_type": "stream",
     "text": [
      "(73205, 5)\n",
      "73205\n",
      "333\n",
      "32\n",
      "12\n"
     ]
    }
   ],
   "source": [
    "# print(export.shape)\n",
    "# print(export['icd_10_cm_code'].nunique())\n",
    "# print(export['ccsr_category'].nunique())\n",
    "# print(export['int_category'].nunique())\n",
    "# print(export['disease_category'].nunique())"
   ]
  },
  {
   "cell_type": "code",
   "execution_count": 46,
   "metadata": {},
   "outputs": [
    {
     "data": {
      "text/plain": [
       "array(['Head and neck cancers - laryngeal', 'Respiratory cancers',\n",
       "       'Endocrine system cancers - thymus', 'Cardiac cancers',\n",
       "       'Bone cancer'], dtype=object)"
      ]
     },
     "execution_count": 46,
     "metadata": {},
     "output_type": "execute_result"
    }
   ],
   "source": [
    "# export['ccsr_category'].unique()[60:65]"
   ]
  },
  {
   "cell_type": "code",
   "execution_count": 44,
   "metadata": {},
   "outputs": [
    {
     "data": {
      "text/plain": [
       "Injuries and external causes          39193\n",
       "Exclude                               18022\n",
       "Musculoskeletal diseases               6481\n",
       "Mental and substance use disorders     1761\n",
       "Neoplasms                              1701\n",
       "Cardiovascular diseases                1488\n",
       "Endocrine diseases                      879\n",
       "Genitourinary diseases                  878\n",
       "Gastrointestinal diseases               841\n",
       "Nervous system diseases                 778\n",
       "Infections                              738\n",
       "Respiratory diseases                    445\n",
       "Name: disease_category, dtype: int64"
      ]
     },
     "execution_count": 44,
     "metadata": {},
     "output_type": "execute_result"
    }
   ],
   "source": [
    "merge['disease_category'].value_counts()"
   ]
  },
  {
   "cell_type": "markdown",
   "metadata": {},
   "source": [
    "### Export data"
   ]
  },
  {
   "cell_type": "code",
   "execution_count": 45,
   "metadata": {},
   "outputs": [],
   "source": [
    "merge.to_csv('../data/ccsr/disease_hierarchy.csv', index=False)\n",
    "#export.to_csv('../data/ccsr/disease_hierarchy.csv', index=False)"
   ]
  },
  {
   "cell_type": "markdown",
   "metadata": {},
   "source": [
    "### Compare CCSR category assignments"
   ]
  },
  {
   "cell_type": "code",
   "execution_count": 50,
   "metadata": {},
   "outputs": [],
   "source": [
    "# for_comparison = for_comparison[['Default CCSR CATEGORY DESCRIPTION IP','ICD-10-CM Diagnosis Chapter']]\n",
    "# for_comparison.columns = ['ccsr_category','chapter']\n",
    "# for_comparison['disease_category'] = for_comparison['chapter'].replace(rename_map)\n",
    "# for_comparison = for_comparison.drop_duplicates()"
   ]
  },
  {
   "cell_type": "code",
   "execution_count": 53,
   "metadata": {},
   "outputs": [],
   "source": [
    "# for_comparison_merge = pd.merge(intermediate, for_comparison, on='ccsr_category', how='left')"
   ]
  },
  {
   "cell_type": "code",
   "execution_count": 64,
   "metadata": {},
   "outputs": [],
   "source": [
    "# for_comparison_merge = for_comparison_merge[(~(for_comparison_merge['disease_category_int'] == for_comparison_merge['disease_category']))\n",
    "#                     &(~for_comparison_merge['chapter'].isna())]"
   ]
  },
  {
   "cell_type": "code",
   "execution_count": 67,
   "metadata": {},
   "outputs": [],
   "source": [
    "# for_comparison_merge[['ccsr_category','chapter','disease_category_int']].to_csv('../data/ccsr/ccsr_category_remap.csv', index=False)"
   ]
  },
  {
   "cell_type": "code",
   "execution_count": null,
   "metadata": {},
   "outputs": [],
   "source": []
  }
 ],
 "metadata": {
  "kernelspec": {
   "display_name": "Python 3",
   "language": "python",
   "name": "python3"
  },
  "language_info": {
   "codemirror_mode": {
    "name": "ipython",
    "version": 3
   },
   "file_extension": ".py",
   "mimetype": "text/x-python",
   "name": "python",
   "nbconvert_exporter": "python",
   "pygments_lexer": "ipython3",
   "version": "3.7.6"
  }
 },
 "nbformat": 4,
 "nbformat_minor": 4
}
