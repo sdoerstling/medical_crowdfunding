{
 "cells": [
  {
   "cell_type": "markdown",
   "metadata": {},
   "source": [
    "# Load packages"
   ]
  },
  {
   "cell_type": "code",
   "execution_count": 272,
   "metadata": {},
   "outputs": [],
   "source": [
    "import pandas as pd\n",
    "import numpy as np\n",
    "\n",
    "from sklearn.metrics import cohen_kappa_score\n",
    "\n",
    "import sqlite3\n",
    "import fasttext"
   ]
  },
  {
   "cell_type": "markdown",
   "metadata": {},
   "source": [
    "# First 200: Inter-rater agreement"
   ]
  },
  {
   "cell_type": "code",
   "execution_count": 273,
   "metadata": {},
   "outputs": [],
   "source": [
    "r3 = pd.read_csv('../data/disease_categorization/evaluation/first_200/round 3/Crowdfunding+-+Manual+Label+101-150_December+29,+2020_08.52.csv', header=None).T.iloc[17:]\n",
    "r4 = pd.read_csv('../data/disease_categorization/evaluation/first_200/round 4/Crowdfunding+-+Manual+Label+Round+4_January+7,+2021_18.13.csv', header=None).T.iloc[17:]\n",
    "r5 = pd.read_csv('../data/disease_categorization/evaluation/first_200/round 5/Crowdfunding+-+Manual+Label+Round+5_January+11,+2021_08.36.csv', header=None).T.iloc[17:]\n",
    "r6 = pd.read_csv('../data/disease_categorization/evaluation/first_200/round 6/Crowdfunding+-+Manual+Label+Round+6_January+15,+2021_09.35.csv', header=None).T.iloc[17:]"
   ]
  },
  {
   "cell_type": "markdown",
   "metadata": {},
   "source": [
    "### Inspect data"
   ]
  },
  {
   "cell_type": "code",
   "execution_count": 274,
   "metadata": {},
   "outputs": [
    {
     "name": "stdout",
     "output_type": "stream",
     "text": [
      "(150, 5)\n",
      "(150, 4)\n",
      "(150, 4)\n",
      "(150, 5)\n"
     ]
    }
   ],
   "source": [
    "print(r3.shape)\n",
    "print(r4.shape)\n",
    "print(r5.shape)\n",
    "print(r6.shape)"
   ]
  },
  {
   "cell_type": "code",
   "execution_count": 275,
   "metadata": {},
   "outputs": [
    {
     "data": {
      "text/html": [
       "<div>\n",
       "<style scoped>\n",
       "    .dataframe tbody tr th:only-of-type {\n",
       "        vertical-align: middle;\n",
       "    }\n",
       "\n",
       "    .dataframe tbody tr th {\n",
       "        vertical-align: top;\n",
       "    }\n",
       "\n",
       "    .dataframe thead th {\n",
       "        text-align: right;\n",
       "    }\n",
       "</style>\n",
       "<table border=\"1\" class=\"dataframe\">\n",
       "  <thead>\n",
       "    <tr style=\"text-align: right;\">\n",
       "      <th></th>\n",
       "      <th>0</th>\n",
       "      <th>1</th>\n",
       "      <th>2</th>\n",
       "      <th>3</th>\n",
       "      <th>4</th>\n",
       "    </tr>\n",
       "  </thead>\n",
       "  <tbody>\n",
       "    <tr>\n",
       "      <th>17</th>\n",
       "      <td>QID2</td>\n",
       "      <td>https://www.gofundme.com/f/please-help-karens-...</td>\n",
       "      <td>Infections,Injuries and external causes,Mental...</td>\n",
       "      <td>NaN</td>\n",
       "      <td>Infections,Mental and substance use disorders,...</td>\n",
       "    </tr>\n",
       "    <tr>\n",
       "      <th>18</th>\n",
       "      <td>QID3</td>\n",
       "      <td>https://www.gofundme.com/f/please-help-karens-...</td>\n",
       "      <td>Infections</td>\n",
       "      <td>NaN</td>\n",
       "      <td>Infections</td>\n",
       "    </tr>\n",
       "    <tr>\n",
       "      <th>19</th>\n",
       "      <td>QID4_TEXT</td>\n",
       "      <td>https://www.gofundme.com/f/please-help-karens-...</td>\n",
       "      <td>Allergy, unspecified, subsequent encounter--&gt;f...</td>\n",
       "      <td>NaN</td>\n",
       "      <td>Symptoms of mental illness d/t underlying food...</td>\n",
       "    </tr>\n",
       "    <tr>\n",
       "      <th>20</th>\n",
       "      <td>QID5</td>\n",
       "      <td>https://www.gofundme.com/f/patrickwalter__base...</td>\n",
       "      <td>Neoplasms</td>\n",
       "      <td>NaN</td>\n",
       "      <td>Neoplasms</td>\n",
       "    </tr>\n",
       "    <tr>\n",
       "      <th>21</th>\n",
       "      <td>QID6</td>\n",
       "      <td>https://www.gofundme.com/f/patrickwalter__top ...</td>\n",
       "      <td>Neoplasms</td>\n",
       "      <td>NaN</td>\n",
       "      <td>Neoplasms</td>\n",
       "    </tr>\n",
       "  </tbody>\n",
       "</table>\n",
       "</div>"
      ],
      "text/plain": [
       "            0                                                  1  \\\n",
       "17       QID2  https://www.gofundme.com/f/please-help-karens-...   \n",
       "18       QID3  https://www.gofundme.com/f/please-help-karens-...   \n",
       "19  QID4_TEXT  https://www.gofundme.com/f/please-help-karens-...   \n",
       "20       QID5  https://www.gofundme.com/f/patrickwalter__base...   \n",
       "21       QID6  https://www.gofundme.com/f/patrickwalter__top ...   \n",
       "\n",
       "                                                    2    3  \\\n",
       "17  Infections,Injuries and external causes,Mental...  NaN   \n",
       "18                                         Infections  NaN   \n",
       "19  Allergy, unspecified, subsequent encounter-->f...  NaN   \n",
       "20                                          Neoplasms  NaN   \n",
       "21                                          Neoplasms  NaN   \n",
       "\n",
       "                                                    4  \n",
       "17  Infections,Mental and substance use disorders,...  \n",
       "18                                         Infections  \n",
       "19  Symptoms of mental illness d/t underlying food...  \n",
       "20                                          Neoplasms  \n",
       "21                                          Neoplasms  "
      ]
     },
     "execution_count": 275,
     "metadata": {},
     "output_type": "execute_result"
    }
   ],
   "source": [
    "r3.head()"
   ]
  },
  {
   "cell_type": "code",
   "execution_count": 276,
   "metadata": {},
   "outputs": [
    {
     "data": {
      "text/html": [
       "<div>\n",
       "<style scoped>\n",
       "    .dataframe tbody tr th:only-of-type {\n",
       "        vertical-align: middle;\n",
       "    }\n",
       "\n",
       "    .dataframe tbody tr th {\n",
       "        vertical-align: top;\n",
       "    }\n",
       "\n",
       "    .dataframe thead th {\n",
       "        text-align: right;\n",
       "    }\n",
       "</style>\n",
       "<table border=\"1\" class=\"dataframe\">\n",
       "  <thead>\n",
       "    <tr style=\"text-align: right;\">\n",
       "      <th></th>\n",
       "      <th>0</th>\n",
       "      <th>1</th>\n",
       "      <th>2</th>\n",
       "      <th>3</th>\n",
       "    </tr>\n",
       "  </thead>\n",
       "  <tbody>\n",
       "    <tr>\n",
       "      <th>17</th>\n",
       "      <td>QID2</td>\n",
       "      <td>https://www.gofundme.com/f/healthecheryl__base...</td>\n",
       "      <td>Nervous system diseases,Other noncommunicable ...</td>\n",
       "      <td>Nervous system diseases,Other noncommunicable ...</td>\n",
       "    </tr>\n",
       "    <tr>\n",
       "      <th>18</th>\n",
       "      <td>QID3</td>\n",
       "      <td>https://www.gofundme.com/f/healthecheryl__top ...</td>\n",
       "      <td>Other noncommunicable diseases</td>\n",
       "      <td>Other noncommunicable diseases</td>\n",
       "    </tr>\n",
       "    <tr>\n",
       "      <th>19</th>\n",
       "      <td>QID4_TEXT</td>\n",
       "      <td>https://www.gofundme.com/f/healthecheryl__NOTE...</td>\n",
       "      <td>sarcoidosis listed under non communicable dise...</td>\n",
       "      <td>MS and sarcoidosis\\nmain is sarcoidosis</td>\n",
       "    </tr>\n",
       "    <tr>\n",
       "      <th>20</th>\n",
       "      <td>QID5</td>\n",
       "      <td>https://www.gofundme.com/f/22kcir7teo__base - ...</td>\n",
       "      <td>Cardiovascular diseases,Genitourinary disorder...</td>\n",
       "      <td>Cardiovascular diseases,Genitourinary disorder...</td>\n",
       "    </tr>\n",
       "    <tr>\n",
       "      <th>21</th>\n",
       "      <td>QID6</td>\n",
       "      <td>https://www.gofundme.com/f/22kcir7teo__top - P...</td>\n",
       "      <td>Genitourinary disorders</td>\n",
       "      <td>Infections</td>\n",
       "    </tr>\n",
       "  </tbody>\n",
       "</table>\n",
       "</div>"
      ],
      "text/plain": [
       "            0                                                  1  \\\n",
       "17       QID2  https://www.gofundme.com/f/healthecheryl__base...   \n",
       "18       QID3  https://www.gofundme.com/f/healthecheryl__top ...   \n",
       "19  QID4_TEXT  https://www.gofundme.com/f/healthecheryl__NOTE...   \n",
       "20       QID5  https://www.gofundme.com/f/22kcir7teo__base - ...   \n",
       "21       QID6  https://www.gofundme.com/f/22kcir7teo__top - P...   \n",
       "\n",
       "                                                    2  \\\n",
       "17  Nervous system diseases,Other noncommunicable ...   \n",
       "18                     Other noncommunicable diseases   \n",
       "19  sarcoidosis listed under non communicable dise...   \n",
       "20  Cardiovascular diseases,Genitourinary disorder...   \n",
       "21                            Genitourinary disorders   \n",
       "\n",
       "                                                    3  \n",
       "17  Nervous system diseases,Other noncommunicable ...  \n",
       "18                     Other noncommunicable diseases  \n",
       "19            MS and sarcoidosis\\nmain is sarcoidosis  \n",
       "20  Cardiovascular diseases,Genitourinary disorder...  \n",
       "21                                         Infections  "
      ]
     },
     "execution_count": 276,
     "metadata": {},
     "output_type": "execute_result"
    }
   ],
   "source": [
    "r4.head()"
   ]
  },
  {
   "cell_type": "code",
   "execution_count": 277,
   "metadata": {},
   "outputs": [
    {
     "data": {
      "text/html": [
       "<div>\n",
       "<style scoped>\n",
       "    .dataframe tbody tr th:only-of-type {\n",
       "        vertical-align: middle;\n",
       "    }\n",
       "\n",
       "    .dataframe tbody tr th {\n",
       "        vertical-align: top;\n",
       "    }\n",
       "\n",
       "    .dataframe thead th {\n",
       "        text-align: right;\n",
       "    }\n",
       "</style>\n",
       "<table border=\"1\" class=\"dataframe\">\n",
       "  <thead>\n",
       "    <tr style=\"text-align: right;\">\n",
       "      <th></th>\n",
       "      <th>0</th>\n",
       "      <th>1</th>\n",
       "      <th>2</th>\n",
       "      <th>3</th>\n",
       "    </tr>\n",
       "  </thead>\n",
       "  <tbody>\n",
       "    <tr>\n",
       "      <th>17</th>\n",
       "      <td>QID2</td>\n",
       "      <td>https://www.gofundme.com/f/d90qtg__base - Hell...</td>\n",
       "      <td>Cardiovascular diseases</td>\n",
       "      <td>Cardiovascular diseases,Nonspecific</td>\n",
       "    </tr>\n",
       "    <tr>\n",
       "      <th>18</th>\n",
       "      <td>QID3</td>\n",
       "      <td>https://www.gofundme.com/f/d90qtg__top - Pleas...</td>\n",
       "      <td>Cardiovascular diseases</td>\n",
       "      <td>Cardiovascular diseases</td>\n",
       "    </tr>\n",
       "    <tr>\n",
       "      <th>19</th>\n",
       "      <td>QID4_TEXT</td>\n",
       "      <td>https://www.gofundme.com/f/d90qtg__NOTES - Ple...</td>\n",
       "      <td>NaN</td>\n",
       "      <td>congestive heart failure, clots in my lungs an...</td>\n",
       "    </tr>\n",
       "    <tr>\n",
       "      <th>20</th>\n",
       "      <td>QID5</td>\n",
       "      <td>https://www.gofundme.com/f/breatheeasyaimee__b...</td>\n",
       "      <td>Nonspecific</td>\n",
       "      <td>Nonspecific</td>\n",
       "    </tr>\n",
       "    <tr>\n",
       "      <th>21</th>\n",
       "      <td>QID6</td>\n",
       "      <td>https://www.gofundme.com/f/breatheeasyaimee__t...</td>\n",
       "      <td>Nonspecific</td>\n",
       "      <td>Nonspecific</td>\n",
       "    </tr>\n",
       "  </tbody>\n",
       "</table>\n",
       "</div>"
      ],
      "text/plain": [
       "            0                                                  1  \\\n",
       "17       QID2  https://www.gofundme.com/f/d90qtg__base - Hell...   \n",
       "18       QID3  https://www.gofundme.com/f/d90qtg__top - Pleas...   \n",
       "19  QID4_TEXT  https://www.gofundme.com/f/d90qtg__NOTES - Ple...   \n",
       "20       QID5  https://www.gofundme.com/f/breatheeasyaimee__b...   \n",
       "21       QID6  https://www.gofundme.com/f/breatheeasyaimee__t...   \n",
       "\n",
       "                          2                                                  3  \n",
       "17  Cardiovascular diseases                Cardiovascular diseases,Nonspecific  \n",
       "18  Cardiovascular diseases                            Cardiovascular diseases  \n",
       "19                      NaN  congestive heart failure, clots in my lungs an...  \n",
       "20              Nonspecific                                        Nonspecific  \n",
       "21              Nonspecific                                        Nonspecific  "
      ]
     },
     "execution_count": 277,
     "metadata": {},
     "output_type": "execute_result"
    }
   ],
   "source": [
    "r5.head()"
   ]
  },
  {
   "cell_type": "code",
   "execution_count": 278,
   "metadata": {},
   "outputs": [
    {
     "data": {
      "text/html": [
       "<div>\n",
       "<style scoped>\n",
       "    .dataframe tbody tr th:only-of-type {\n",
       "        vertical-align: middle;\n",
       "    }\n",
       "\n",
       "    .dataframe tbody tr th {\n",
       "        vertical-align: top;\n",
       "    }\n",
       "\n",
       "    .dataframe thead th {\n",
       "        text-align: right;\n",
       "    }\n",
       "</style>\n",
       "<table border=\"1\" class=\"dataframe\">\n",
       "  <thead>\n",
       "    <tr style=\"text-align: right;\">\n",
       "      <th></th>\n",
       "      <th>0</th>\n",
       "      <th>1</th>\n",
       "      <th>2</th>\n",
       "      <th>3</th>\n",
       "      <th>4</th>\n",
       "    </tr>\n",
       "  </thead>\n",
       "  <tbody>\n",
       "    <tr>\n",
       "      <th>17</th>\n",
       "      <td>QID2</td>\n",
       "      <td>https://www.gofundme.com/f/nc89hu-battling-sta...</td>\n",
       "      <td>Neoplasms,Respiratory diseases</td>\n",
       "      <td>NaN</td>\n",
       "      <td>Neoplasms</td>\n",
       "    </tr>\n",
       "    <tr>\n",
       "      <th>18</th>\n",
       "      <td>QID3</td>\n",
       "      <td>https://www.gofundme.com/f/nc89hu-battling-sta...</td>\n",
       "      <td>Neoplasms</td>\n",
       "      <td>NaN</td>\n",
       "      <td>Neoplasms</td>\n",
       "    </tr>\n",
       "    <tr>\n",
       "      <th>19</th>\n",
       "      <td>QID4_TEXT</td>\n",
       "      <td>https://www.gofundme.com/f/nc89hu-battling-sta...</td>\n",
       "      <td>acute pulmonary edema</td>\n",
       "      <td>NaN</td>\n",
       "      <td>NaN</td>\n",
       "    </tr>\n",
       "    <tr>\n",
       "      <th>20</th>\n",
       "      <td>QID5</td>\n",
       "      <td>https://www.gofundme.com/f/javier-montenegros-...</td>\n",
       "      <td>Genitourinary disorders</td>\n",
       "      <td>NaN</td>\n",
       "      <td>Genitourinary disorders</td>\n",
       "    </tr>\n",
       "    <tr>\n",
       "      <th>21</th>\n",
       "      <td>QID6</td>\n",
       "      <td>https://www.gofundme.com/f/javier-montenegros-...</td>\n",
       "      <td>Genitourinary disorders</td>\n",
       "      <td>NaN</td>\n",
       "      <td>Genitourinary disorders</td>\n",
       "    </tr>\n",
       "  </tbody>\n",
       "</table>\n",
       "</div>"
      ],
      "text/plain": [
       "            0                                                  1  \\\n",
       "17       QID2  https://www.gofundme.com/f/nc89hu-battling-sta...   \n",
       "18       QID3  https://www.gofundme.com/f/nc89hu-battling-sta...   \n",
       "19  QID4_TEXT  https://www.gofundme.com/f/nc89hu-battling-sta...   \n",
       "20       QID5  https://www.gofundme.com/f/javier-montenegros-...   \n",
       "21       QID6  https://www.gofundme.com/f/javier-montenegros-...   \n",
       "\n",
       "                                 2    3                        4  \n",
       "17  Neoplasms,Respiratory diseases  NaN                Neoplasms  \n",
       "18                       Neoplasms  NaN                Neoplasms  \n",
       "19           acute pulmonary edema  NaN                      NaN  \n",
       "20         Genitourinary disorders  NaN  Genitourinary disorders  \n",
       "21         Genitourinary disorders  NaN  Genitourinary disorders  "
      ]
     },
     "execution_count": 278,
     "metadata": {},
     "output_type": "execute_result"
    }
   ],
   "source": [
    "r6.head()"
   ]
  },
  {
   "cell_type": "markdown",
   "metadata": {},
   "source": [
    "### Notes from inspection\n",
    "\n",
    "r3\n",
    "- need to delete column 3, this was a blank survey response\n",
    "- col2 is rater D\n",
    "\n",
    "r4\n",
    "- col2 is rater D\n",
    "\n",
    "r5\n",
    "- col2 is rater D\n",
    "\n",
    "r6\n",
    "- col2 is rater S\n",
    "- col3 is rater D's second half\n",
    "- col4 is rater D's first half\n",
    "- need to merge 3 and 4"
   ]
  },
  {
   "cell_type": "markdown",
   "metadata": {},
   "source": [
    "### Clean data"
   ]
  },
  {
   "cell_type": "code",
   "execution_count": 279,
   "metadata": {},
   "outputs": [],
   "source": [
    "r3.columns = ['qid','header','rater_D','blank','rater_S']\n",
    "r4.columns = ['qid', 'header', 'rater_D', 'rater_S']\n",
    "r5.columns = ['qid', 'header', 'rater_D', 'rater_S']\n",
    "r6.columns = ['qid', 'header', 'rater_S', 'rater_D_2', 'rater_D_1']"
   ]
  },
  {
   "cell_type": "code",
   "execution_count": 280,
   "metadata": {},
   "outputs": [],
   "source": [
    "r6 = r6.reset_index()"
   ]
  },
  {
   "cell_type": "code",
   "execution_count": 281,
   "metadata": {},
   "outputs": [
    {
     "data": {
      "text/html": [
       "<div>\n",
       "<style scoped>\n",
       "    .dataframe tbody tr th:only-of-type {\n",
       "        vertical-align: middle;\n",
       "    }\n",
       "\n",
       "    .dataframe tbody tr th {\n",
       "        vertical-align: top;\n",
       "    }\n",
       "\n",
       "    .dataframe thead th {\n",
       "        text-align: right;\n",
       "    }\n",
       "</style>\n",
       "<table border=\"1\" class=\"dataframe\">\n",
       "  <thead>\n",
       "    <tr style=\"text-align: right;\">\n",
       "      <th></th>\n",
       "      <th>index</th>\n",
       "      <th>qid</th>\n",
       "      <th>header</th>\n",
       "      <th>rater_S</th>\n",
       "      <th>rater_D_2</th>\n",
       "      <th>rater_D_1</th>\n",
       "    </tr>\n",
       "  </thead>\n",
       "  <tbody>\n",
       "    <tr>\n",
       "      <th>0</th>\n",
       "      <td>17</td>\n",
       "      <td>QID2</td>\n",
       "      <td>https://www.gofundme.com/f/nc89hu-battling-sta...</td>\n",
       "      <td>Neoplasms,Respiratory diseases</td>\n",
       "      <td>NaN</td>\n",
       "      <td>Neoplasms</td>\n",
       "    </tr>\n",
       "    <tr>\n",
       "      <th>1</th>\n",
       "      <td>18</td>\n",
       "      <td>QID3</td>\n",
       "      <td>https://www.gofundme.com/f/nc89hu-battling-sta...</td>\n",
       "      <td>Neoplasms</td>\n",
       "      <td>NaN</td>\n",
       "      <td>Neoplasms</td>\n",
       "    </tr>\n",
       "    <tr>\n",
       "      <th>2</th>\n",
       "      <td>19</td>\n",
       "      <td>QID4_TEXT</td>\n",
       "      <td>https://www.gofundme.com/f/nc89hu-battling-sta...</td>\n",
       "      <td>acute pulmonary edema</td>\n",
       "      <td>NaN</td>\n",
       "      <td>NaN</td>\n",
       "    </tr>\n",
       "    <tr>\n",
       "      <th>3</th>\n",
       "      <td>20</td>\n",
       "      <td>QID5</td>\n",
       "      <td>https://www.gofundme.com/f/javier-montenegros-...</td>\n",
       "      <td>Genitourinary disorders</td>\n",
       "      <td>NaN</td>\n",
       "      <td>Genitourinary disorders</td>\n",
       "    </tr>\n",
       "    <tr>\n",
       "      <th>4</th>\n",
       "      <td>21</td>\n",
       "      <td>QID6</td>\n",
       "      <td>https://www.gofundme.com/f/javier-montenegros-...</td>\n",
       "      <td>Genitourinary disorders</td>\n",
       "      <td>NaN</td>\n",
       "      <td>Genitourinary disorders</td>\n",
       "    </tr>\n",
       "    <tr>\n",
       "      <th>...</th>\n",
       "      <td>...</td>\n",
       "      <td>...</td>\n",
       "      <td>...</td>\n",
       "      <td>...</td>\n",
       "      <td>...</td>\n",
       "      <td>...</td>\n",
       "    </tr>\n",
       "    <tr>\n",
       "      <th>65</th>\n",
       "      <td>82</td>\n",
       "      <td>QID67_TEXT</td>\n",
       "      <td>https://www.gofundme.com/f/lets-help-ariel-kic...</td>\n",
       "      <td>NaN</td>\n",
       "      <td>NaN</td>\n",
       "      <td>NaN</td>\n",
       "    </tr>\n",
       "    <tr>\n",
       "      <th>66</th>\n",
       "      <td>83</td>\n",
       "      <td>QID68</td>\n",
       "      <td>https://www.gofundme.com/f/daphnee-strong__bas...</td>\n",
       "      <td>Neoplasms,Nonspecific</td>\n",
       "      <td>NaN</td>\n",
       "      <td>Neoplasms</td>\n",
       "    </tr>\n",
       "    <tr>\n",
       "      <th>67</th>\n",
       "      <td>84</td>\n",
       "      <td>QID69</td>\n",
       "      <td>https://www.gofundme.com/f/daphnee-strong__top...</td>\n",
       "      <td>Neoplasms</td>\n",
       "      <td>NaN</td>\n",
       "      <td>Neoplasms</td>\n",
       "    </tr>\n",
       "    <tr>\n",
       "      <th>68</th>\n",
       "      <td>85</td>\n",
       "      <td>QID70_TEXT</td>\n",
       "      <td>https://www.gofundme.com/f/daphnee-strong__NOT...</td>\n",
       "      <td>NaN</td>\n",
       "      <td>NaN</td>\n",
       "      <td>NaN</td>\n",
       "    </tr>\n",
       "    <tr>\n",
       "      <th>69</th>\n",
       "      <td>86</td>\n",
       "      <td>QID71</td>\n",
       "      <td>https://www.gofundme.com/f/3r332gm8__base - Th...</td>\n",
       "      <td>Mental and substance use disorders,Musculoskel...</td>\n",
       "      <td>Cardiovascular diseases,Gastrointestinal disea...</td>\n",
       "      <td>NaN</td>\n",
       "    </tr>\n",
       "  </tbody>\n",
       "</table>\n",
       "<p>70 rows × 6 columns</p>\n",
       "</div>"
      ],
      "text/plain": [
       "    index         qid                                             header  \\\n",
       "0      17        QID2  https://www.gofundme.com/f/nc89hu-battling-sta...   \n",
       "1      18        QID3  https://www.gofundme.com/f/nc89hu-battling-sta...   \n",
       "2      19   QID4_TEXT  https://www.gofundme.com/f/nc89hu-battling-sta...   \n",
       "3      20        QID5  https://www.gofundme.com/f/javier-montenegros-...   \n",
       "4      21        QID6  https://www.gofundme.com/f/javier-montenegros-...   \n",
       "..    ...         ...                                                ...   \n",
       "65     82  QID67_TEXT  https://www.gofundme.com/f/lets-help-ariel-kic...   \n",
       "66     83       QID68  https://www.gofundme.com/f/daphnee-strong__bas...   \n",
       "67     84       QID69  https://www.gofundme.com/f/daphnee-strong__top...   \n",
       "68     85  QID70_TEXT  https://www.gofundme.com/f/daphnee-strong__NOT...   \n",
       "69     86       QID71  https://www.gofundme.com/f/3r332gm8__base - Th...   \n",
       "\n",
       "                                              rater_S  \\\n",
       "0                      Neoplasms,Respiratory diseases   \n",
       "1                                           Neoplasms   \n",
       "2                               acute pulmonary edema   \n",
       "3                             Genitourinary disorders   \n",
       "4                             Genitourinary disorders   \n",
       "..                                                ...   \n",
       "65                                                NaN   \n",
       "66                              Neoplasms,Nonspecific   \n",
       "67                                          Neoplasms   \n",
       "68                                                NaN   \n",
       "69  Mental and substance use disorders,Musculoskel...   \n",
       "\n",
       "                                            rater_D_2                rater_D_1  \n",
       "0                                                 NaN                Neoplasms  \n",
       "1                                                 NaN                Neoplasms  \n",
       "2                                                 NaN                      NaN  \n",
       "3                                                 NaN  Genitourinary disorders  \n",
       "4                                                 NaN  Genitourinary disorders  \n",
       "..                                                ...                      ...  \n",
       "65                                                NaN                      NaN  \n",
       "66                                                NaN                Neoplasms  \n",
       "67                                                NaN                Neoplasms  \n",
       "68                                                NaN                      NaN  \n",
       "69  Cardiovascular diseases,Gastrointestinal disea...                      NaN  \n",
       "\n",
       "[70 rows x 6 columns]"
      ]
     },
     "execution_count": 281,
     "metadata": {},
     "output_type": "execute_result"
    }
   ],
   "source": [
    "r6.head(70)"
   ]
  },
  {
   "cell_type": "code",
   "execution_count": 282,
   "metadata": {},
   "outputs": [],
   "source": [
    "first = r6['rater_D_1'].iloc[:69].tolist()\n",
    "second = r6['rater_D_2'].iloc[69:].tolist()\n",
    "new_rater_D = first + second\n",
    "r6.loc[:,'rater_D'] = new_rater_D"
   ]
  },
  {
   "cell_type": "code",
   "execution_count": 283,
   "metadata": {},
   "outputs": [],
   "source": [
    "r3 = r3[['header','rater_D','rater_S']]\n",
    "r4 = r4[['header','rater_D','rater_S']]\n",
    "r5 = r5[['header','rater_D','rater_S']]\n",
    "r6 = r6[['header','rater_D','rater_S']]"
   ]
  },
  {
   "cell_type": "code",
   "execution_count": 284,
   "metadata": {},
   "outputs": [],
   "source": [
    "r3.loc[:,'round'] = [3 for x in range(len(r3))]\n",
    "r4.loc[:,'round'] = [4 for x in range(len(r4))]\n",
    "r5.loc[:,'round'] = [5 for x in range(len(r5))]\n",
    "r6.loc[:,'round'] = [6 for x in range(len(r6))]"
   ]
  },
  {
   "cell_type": "code",
   "execution_count": 285,
   "metadata": {},
   "outputs": [],
   "source": [
    "#rbind dfs\n",
    "m = pd.concat([r3, r4, r5, r6])"
   ]
  },
  {
   "cell_type": "code",
   "execution_count": 286,
   "metadata": {},
   "outputs": [],
   "source": [
    "#extract url from header\n",
    "m['url'] = [x.split(' - ')[0].split('__')[0] for x in m['header']]"
   ]
  },
  {
   "cell_type": "code",
   "execution_count": 287,
   "metadata": {},
   "outputs": [],
   "source": [
    "#extract question category from header\n",
    "m['qcat'] = ['base','top','NOTES'] * 200"
   ]
  },
  {
   "cell_type": "code",
   "execution_count": 288,
   "metadata": {},
   "outputs": [],
   "source": [
    "m = m[['url','qcat','rater_D','rater_S','round']]"
   ]
  },
  {
   "cell_type": "code",
   "execution_count": 289,
   "metadata": {},
   "outputs": [],
   "source": [
    "#subset data\n",
    "\n",
    "# all categories that are in text\n",
    "base = m[m['qcat'] == 'base']\n",
    "\n",
    "# top (aka primary) category\n",
    "top = m[m['qcat'] == 'top']\n",
    "\n",
    "# notes\n",
    "notes = m[m['qcat'] == 'NOTES']"
   ]
  },
  {
   "cell_type": "code",
   "execution_count": 290,
   "metadata": {},
   "outputs": [
    {
     "name": "stdout",
     "output_type": "stream",
     "text": [
      "(200, 5)\n",
      "(200, 5)\n",
      "(200, 5)\n"
     ]
    }
   ],
   "source": [
    "print(base.shape)\n",
    "print(top.shape)\n",
    "print(notes.shape)"
   ]
  },
  {
   "cell_type": "code",
   "execution_count": 291,
   "metadata": {},
   "outputs": [],
   "source": [
    "#convert data from wide to long\n",
    "rater_D_melt = pd.melt(base, id_vars=['url','qcat','round'], value_vars=['rater_D'])\n",
    "rater_S_melt = pd.melt(base, id_vars=['url','qcat','round'], value_vars=['rater_S'])"
   ]
  },
  {
   "cell_type": "code",
   "execution_count": 292,
   "metadata": {},
   "outputs": [],
   "source": [
    "#merge melted data and rename columns\n",
    "melt = pd.concat([rater_D_melt, rater_S_melt])\n",
    "melt = melt.rename(columns={'variable':'rater','value':'cat'})"
   ]
  },
  {
   "cell_type": "code",
   "execution_count": 293,
   "metadata": {},
   "outputs": [],
   "source": [
    "#reset index\n",
    "melt = melt.reset_index()\n",
    "del melt['index']"
   ]
  },
  {
   "cell_type": "code",
   "execution_count": 294,
   "metadata": {},
   "outputs": [],
   "source": [
    "def comma2lofd(df):\n",
    "    '''convert cat column from comma delimited to list of dictionaries with 1 or 0 for each category'''\n",
    "    \n",
    "    disease_categories = [\n",
    "        'Cardiovascular diseases',\n",
    "        'Endocrine diseases',\n",
    "        'Gastrointestinal diseases',\n",
    "        'Genitourinary disorders',\n",
    "        'Infections',\n",
    "        'Injuries and external causes',\n",
    "        'Mental and substance use disorders',\n",
    "        'Musculoskeletal diseases',\n",
    "        'Neoplasms',\n",
    "        'Nervous system diseases',\n",
    "        'Respiratory diseases'\n",
    "    ]\n",
    "    \n",
    "    r = []\n",
    "    \n",
    "    for index,row in df.iterrows():\n",
    "        lofd = []\n",
    "        as_list = row['cat'].split(',')\n",
    "        for disease in disease_categories:\n",
    "            if disease in as_list:\n",
    "                lofd.append({disease:1})\n",
    "            else:\n",
    "                lofd.append({disease:0})\n",
    "        r.append(lofd)\n",
    "    return r"
   ]
  },
  {
   "cell_type": "code",
   "execution_count": 295,
   "metadata": {},
   "outputs": [],
   "source": [
    "melt['lofd'] = comma2lofd(melt)\n",
    "del melt['cat']"
   ]
  },
  {
   "cell_type": "code",
   "execution_count": 296,
   "metadata": {},
   "outputs": [],
   "source": [
    "#convert to long format\n",
    "long = melt.explode('lofd')"
   ]
  },
  {
   "cell_type": "code",
   "execution_count": 297,
   "metadata": {},
   "outputs": [],
   "source": [
    "#extract key, value from dictionary\n",
    "long.insert(loc=2, column='cat', value=[list(x.items())[0][0] for x in long['lofd']])\n",
    "long.insert(loc=3, column='count', value=[list(x.items())[0][1] for x in long['lofd']])\n",
    "\n",
    "long = long[['url','rater','round','cat','count']]"
   ]
  },
  {
   "cell_type": "code",
   "execution_count": 298,
   "metadata": {},
   "outputs": [],
   "source": [
    "long['cat'] = long['cat'].replace({'Mental and substance use disorders':'Mental health disorders',\n",
    "                                  'Genitourinary disorders':'Genitourinary diseases'})"
   ]
  },
  {
   "cell_type": "code",
   "execution_count": 299,
   "metadata": {},
   "outputs": [],
   "source": [
    "#create pivot tables\n",
    "rater_S_pivot_1 = long[long['rater'] == 'rater_S'].pivot_table(index=['url'], columns='cat', values='count', aggfunc=(pd.Series.sum), fill_value=0)\n",
    "rater_D_pivot_1 = long[long['rater'] == 'rater_D'].pivot_table(index=['url'], columns='cat', values='count', aggfunc=(pd.Series.sum), fill_value=0)"
   ]
  },
  {
   "cell_type": "code",
   "execution_count": 300,
   "metadata": {},
   "outputs": [],
   "source": [
    "#calculate counts and percentage by category\n",
    "rater_D_counts_1 = rater_D_pivot_1.describe().T\n",
    "rater_D_counts_1['N'] = [round(x) for x in rater_D_counts_1['count'] * rater_D_counts_1['mean']]\n",
    "rater_D_counts_1['PER'] = rater_D_counts_1['N'] / rater_D_counts_1['count']\n",
    "\n",
    "rater_S_counts_1 = rater_S_pivot_1.describe().T\n",
    "rater_S_counts_1['N'] = [round(x) for x in rater_S_counts_1['count'] * rater_S_counts_1['mean']]\n",
    "rater_S_counts_1['PER'] = rater_S_counts_1['N'] / rater_S_counts_1['count']"
   ]
  },
  {
   "cell_type": "code",
   "execution_count": 301,
   "metadata": {
    "tags": []
   },
   "outputs": [],
   "source": [
    "cat = []\n",
    "cohens_kappa = []\n",
    "for col in rater_D_pivot_1.columns:\n",
    "    cat.append(col)\n",
    "    cohens_kappa.append(cohen_kappa_score(rater_D_pivot_1[col], rater_S_pivot_1[col]))\n",
    "\n",
    "kappa_df = pd.DataFrame({'category':cat, \n",
    "              'cohens kappa':cohens_kappa,\n",
    "              'rater_D count':rater_D_counts_1['N'],\n",
    "              'rater_S count':rater_S_counts_1['N']}).sort_values('cohens kappa', ascending=False)"
   ]
  },
  {
   "cell_type": "code",
   "execution_count": 302,
   "metadata": {},
   "outputs": [
    {
     "data": {
      "text/html": [
       "<div>\n",
       "<style scoped>\n",
       "    .dataframe tbody tr th:only-of-type {\n",
       "        vertical-align: middle;\n",
       "    }\n",
       "\n",
       "    .dataframe tbody tr th {\n",
       "        vertical-align: top;\n",
       "    }\n",
       "\n",
       "    .dataframe thead th {\n",
       "        text-align: right;\n",
       "    }\n",
       "</style>\n",
       "<table border=\"1\" class=\"dataframe\">\n",
       "  <thead>\n",
       "    <tr style=\"text-align: right;\">\n",
       "      <th></th>\n",
       "      <th>category</th>\n",
       "      <th>cohens kappa</th>\n",
       "      <th>rater_D count</th>\n",
       "      <th>rater_S count</th>\n",
       "    </tr>\n",
       "    <tr>\n",
       "      <th>cat</th>\n",
       "      <th></th>\n",
       "      <th></th>\n",
       "      <th></th>\n",
       "      <th></th>\n",
       "    </tr>\n",
       "  </thead>\n",
       "  <tbody>\n",
       "    <tr>\n",
       "      <th>Neoplasms</th>\n",
       "      <td>Neoplasms</td>\n",
       "      <td>0.979169</td>\n",
       "      <td>81</td>\n",
       "      <td>79</td>\n",
       "    </tr>\n",
       "    <tr>\n",
       "      <th>Infections</th>\n",
       "      <td>Infections</td>\n",
       "      <td>0.927954</td>\n",
       "      <td>16</td>\n",
       "      <td>14</td>\n",
       "    </tr>\n",
       "    <tr>\n",
       "      <th>Musculoskeletal diseases</th>\n",
       "      <td>Musculoskeletal diseases</td>\n",
       "      <td>0.877900</td>\n",
       "      <td>18</td>\n",
       "      <td>18</td>\n",
       "    </tr>\n",
       "    <tr>\n",
       "      <th>Genitourinary diseases</th>\n",
       "      <td>Genitourinary diseases</td>\n",
       "      <td>0.871589</td>\n",
       "      <td>19</td>\n",
       "      <td>15</td>\n",
       "    </tr>\n",
       "    <tr>\n",
       "      <th>Endocrine diseases</th>\n",
       "      <td>Endocrine diseases</td>\n",
       "      <td>0.861624</td>\n",
       "      <td>12</td>\n",
       "      <td>11</td>\n",
       "    </tr>\n",
       "    <tr>\n",
       "      <th>Mental health disorders</th>\n",
       "      <td>Mental health disorders</td>\n",
       "      <td>0.825175</td>\n",
       "      <td>16</td>\n",
       "      <td>15</td>\n",
       "    </tr>\n",
       "    <tr>\n",
       "      <th>Injuries and external causes</th>\n",
       "      <td>Injuries and external causes</td>\n",
       "      <td>0.811083</td>\n",
       "      <td>32</td>\n",
       "      <td>23</td>\n",
       "    </tr>\n",
       "    <tr>\n",
       "      <th>Respiratory diseases</th>\n",
       "      <td>Respiratory diseases</td>\n",
       "      <td>0.807384</td>\n",
       "      <td>19</td>\n",
       "      <td>15</td>\n",
       "    </tr>\n",
       "    <tr>\n",
       "      <th>Cardiovascular diseases</th>\n",
       "      <td>Cardiovascular diseases</td>\n",
       "      <td>0.781399</td>\n",
       "      <td>31</td>\n",
       "      <td>28</td>\n",
       "    </tr>\n",
       "    <tr>\n",
       "      <th>Gastrointestinal diseases</th>\n",
       "      <td>Gastrointestinal diseases</td>\n",
       "      <td>0.723757</td>\n",
       "      <td>9</td>\n",
       "      <td>10</td>\n",
       "    </tr>\n",
       "    <tr>\n",
       "      <th>Nervous system diseases</th>\n",
       "      <td>Nervous system diseases</td>\n",
       "      <td>0.694831</td>\n",
       "      <td>33</td>\n",
       "      <td>29</td>\n",
       "    </tr>\n",
       "  </tbody>\n",
       "</table>\n",
       "</div>"
      ],
      "text/plain": [
       "                                                  category  cohens kappa  \\\n",
       "cat                                                                        \n",
       "Neoplasms                                        Neoplasms      0.979169   \n",
       "Infections                                      Infections      0.927954   \n",
       "Musculoskeletal diseases          Musculoskeletal diseases      0.877900   \n",
       "Genitourinary diseases              Genitourinary diseases      0.871589   \n",
       "Endocrine diseases                      Endocrine diseases      0.861624   \n",
       "Mental health disorders            Mental health disorders      0.825175   \n",
       "Injuries and external causes  Injuries and external causes      0.811083   \n",
       "Respiratory diseases                  Respiratory diseases      0.807384   \n",
       "Cardiovascular diseases            Cardiovascular diseases      0.781399   \n",
       "Gastrointestinal diseases        Gastrointestinal diseases      0.723757   \n",
       "Nervous system diseases            Nervous system diseases      0.694831   \n",
       "\n",
       "                              rater_D count  rater_S count  \n",
       "cat                                                         \n",
       "Neoplasms                                81             79  \n",
       "Infections                               16             14  \n",
       "Musculoskeletal diseases                 18             18  \n",
       "Genitourinary diseases                   19             15  \n",
       "Endocrine diseases                       12             11  \n",
       "Mental health disorders                  16             15  \n",
       "Injuries and external causes             32             23  \n",
       "Respiratory diseases                     19             15  \n",
       "Cardiovascular diseases                  31             28  \n",
       "Gastrointestinal diseases                 9             10  \n",
       "Nervous system diseases                  33             29  "
      ]
     },
     "execution_count": 302,
     "metadata": {},
     "output_type": "execute_result"
    }
   ],
   "source": [
    "kappa_df"
   ]
  },
  {
   "cell_type": "markdown",
   "metadata": {},
   "source": [
    "# First 200: Discrepancy resolution and Reference Set\n",
    "\n",
    "This was done on a qualitrics survey to record decisions made during a meeting to resolve discrepancies."
   ]
  },
  {
   "cell_type": "code",
   "execution_count": 303,
   "metadata": {},
   "outputs": [],
   "source": [
    "conn = sqlite3.connect(\"../data/db/gfm.db\")\n",
    "feed = pd.read_sql_query(\"SELECT url, fund_description FROM feed_tb\", conn)"
   ]
  },
  {
   "cell_type": "code",
   "execution_count": 304,
   "metadata": {},
   "outputs": [],
   "source": [
    "feed = feed.drop_duplicates('url')"
   ]
  },
  {
   "cell_type": "markdown",
   "metadata": {},
   "source": [
    "### Import data from qualtrics review of discrepancies"
   ]
  },
  {
   "cell_type": "code",
   "execution_count": 305,
   "metadata": {},
   "outputs": [],
   "source": [
    "resolved_top_only = pd.read_excel('../data/disease_categorization/evaluation/first_200/resolving_discrepancies/resolving_discrepancies_master.xlsx', sheet_name='top_only', header=None)\n",
    "resolved_any_only = pd.read_excel('../data/disease_categorization/evaluation/first_200/resolving_discrepancies/resolving_discrepancies_master.xlsx', sheet_name='any_only', header=None)\n",
    "resolved_any_and_top = pd.read_excel('../data/disease_categorization/evaluation/first_200/resolving_discrepancies/resolving_discrepancies_master.xlsx', sheet_name='any_and_top', header=None)"
   ]
  },
  {
   "cell_type": "markdown",
   "metadata": {},
   "source": [
    "### Clean data"
   ]
  },
  {
   "cell_type": "code",
   "execution_count": 306,
   "metadata": {},
   "outputs": [],
   "source": [
    "#rename columns\n",
    "resolved_top_only.columns = ['qid','header','resp']\n",
    "resolved_any_only.columns = ['qid','header','resp']\n",
    "resolved_any_and_top.columns = ['qid','header','resp']"
   ]
  },
  {
   "cell_type": "code",
   "execution_count": 307,
   "metadata": {},
   "outputs": [],
   "source": [
    "#extract url from header\n",
    "resolved_top_only.loc[:,'url'] = [x.split(' - ')[0].split('__')[0] for x in resolved_top_only['header']]\n",
    "resolved_any_only.loc[:,'url'] = [x.split(' - ')[0].split('__')[0] for x in resolved_any_only['header']]\n",
    "resolved_any_and_top.loc[:,'url'] = [x.split(' - ')[0].split('__')[0] for x in resolved_any_and_top['header']]"
   ]
  },
  {
   "cell_type": "code",
   "execution_count": 308,
   "metadata": {},
   "outputs": [
    {
     "name": "stdout",
     "output_type": "stream",
     "text": [
      "(18, 4)\n",
      "(132, 4)\n",
      "(69, 4)\n"
     ]
    }
   ],
   "source": [
    "print(resolved_top_only.shape)\n",
    "print(resolved_any_only.shape)\n",
    "print(resolved_any_and_top.shape)"
   ]
  },
  {
   "cell_type": "code",
   "execution_count": 309,
   "metadata": {},
   "outputs": [],
   "source": [
    "#add question category\n",
    "resolved_top_only.loc[:,'cat'] = ['base','top','NOTES'] * int(18/3)\n",
    "resolved_any_only.loc[:,'cat'] = ['base','top','NOTES'] * int(132/3)\n",
    "resolved_any_and_top.loc[:,'cat'] = ['base','top','NOTES'] * int(69/3)"
   ]
  },
  {
   "cell_type": "markdown",
   "metadata": {},
   "source": [
    "### Check that urls in each resolved category are unique"
   ]
  },
  {
   "cell_type": "code",
   "execution_count": 310,
   "metadata": {},
   "outputs": [
    {
     "name": "stdout",
     "output_type": "stream",
     "text": [
      "6\n",
      "44\n",
      "23\n"
     ]
    }
   ],
   "source": [
    "# print(len(top_only))\n",
    "# print(len(any_only))\n",
    "# print(len(any_and_top))\n",
    "\n",
    "print(resolved_top_only['url'].nunique())\n",
    "print(resolved_any_only['url'].nunique())\n",
    "print(resolved_any_and_top['url'].nunique())"
   ]
  },
  {
   "cell_type": "code",
   "execution_count": 311,
   "metadata": {},
   "outputs": [
    {
     "name": "stdout",
     "output_type": "stream",
     "text": [
      "0\n",
      "0\n",
      "0\n"
     ]
    }
   ],
   "source": [
    "print(sum([resolved_top_only['url'].str.contains(x).any() for x in resolved_any_only['url'].unique()]))\n",
    "print(sum([resolved_top_only['url'].str.contains(x).any() for x in resolved_any_and_top['url'].unique()]))\n",
    "print(sum([resolved_any_only['url'].str.contains(x).any() for x in resolved_any_and_top['url'].unique()]))"
   ]
  },
  {
   "cell_type": "markdown",
   "metadata": {},
   "source": [
    "### Build new reference"
   ]
  },
  {
   "cell_type": "code",
   "execution_count": 312,
   "metadata": {},
   "outputs": [],
   "source": [
    "#define function to build new reference set\n",
    "def BuildReference(m, t, a, at):\n",
    "    '''\n",
    "    Inputs:\n",
    "        m = as above, merged responses between rater_D and rater_S\n",
    "            (this will serve as the base, replace resolved discrepancies as needed)\n",
    "        t = resolved_top_only\n",
    "        a = resolved_any_only\n",
    "        at = resolved_any_and_top\n",
    "    '''\n",
    "    \n",
    "    #define results container\n",
    "    r = []\n",
    "    \n",
    "    #loop through unique urls in m\n",
    "    for url in m['url'].unique():\n",
    "        \n",
    "        #subset base data\n",
    "        df = m[m['url'] == url]\n",
    "        df = df.reset_index()\n",
    "\n",
    "        if t['url'].str.contains(url).any():\n",
    "            \n",
    "            \n",
    "            \n",
    "            #susbet top data\n",
    "            t_ = t[t['url'] == url]\n",
    "            t_ = t_.reset_index()\n",
    "            \n",
    "            #get new value from resolved data\n",
    "            new_value = t_[t_['url'] == url].iloc[1]['resp']\n",
    "            \n",
    "            #add resolved response to working base data\n",
    "            df.at[1, 'rater_S'] = new_value\n",
    "            \n",
    "            #append results\n",
    "            r.append(df)\n",
    "            \n",
    "        elif a['url'].str.contains(url).any():\n",
    "            \n",
    "            \n",
    "            \n",
    "            #susbet any data\n",
    "            a_ = a[a['url'] == url]\n",
    "            a_ = a_.reset_index()\n",
    "            \n",
    "            #get new value from resolved data\n",
    "            new_value = a_[a_['url'] == url].iloc[0]['resp']\n",
    "            \n",
    "            #add resolved response to working base data\n",
    "            df.at[0, 'rater_S'] = new_value\n",
    "            \n",
    "            #append results\n",
    "            r.append(df)\n",
    "            \n",
    "        elif at['url'].str.contains(url).any():\n",
    "            \n",
    "            \n",
    "            #susbet top data\n",
    "            at_ = at[at['url'] == url]\n",
    "            at_ = at_.reset_index()\n",
    "            \n",
    "            #get new value from resolved data\n",
    "            new_value_any = at_[at_['url'] == url].iloc[0]['resp']\n",
    "            new_value_top = at_[at_['url'] == url].iloc[1]['resp']\n",
    "            \n",
    "            #add resolved response to working base data\n",
    "            df.at[0, 'rater_S'] = new_value_any\n",
    "            df.at[1, 'rater_S'] = new_value_top\n",
    "            \n",
    "            #append results\n",
    "            r.append(df)\n",
    "            \n",
    "        else:\n",
    "            r.append(df)\n",
    "    \n",
    "    results = pd.concat(r)\n",
    "    print('results shape: {0}'.format(results.shape))\n",
    "    print('all done')\n",
    "    return results"
   ]
  },
  {
   "cell_type": "code",
   "execution_count": 313,
   "metadata": {},
   "outputs": [
    {
     "name": "stdout",
     "output_type": "stream",
     "text": [
      "results shape: (600, 6)\n",
      "all done\n"
     ]
    }
   ],
   "source": [
    "ref = BuildReference(m, resolved_top_only, resolved_any_only, resolved_any_and_top)"
   ]
  },
  {
   "cell_type": "markdown",
   "metadata": {},
   "source": [
    "### Manually inspect some"
   ]
  },
  {
   "cell_type": "code",
   "execution_count": 314,
   "metadata": {},
   "outputs": [
    {
     "data": {
      "text/html": [
       "<div>\n",
       "<style scoped>\n",
       "    .dataframe tbody tr th:only-of-type {\n",
       "        vertical-align: middle;\n",
       "    }\n",
       "\n",
       "    .dataframe tbody tr th {\n",
       "        vertical-align: top;\n",
       "    }\n",
       "\n",
       "    .dataframe thead th {\n",
       "        text-align: right;\n",
       "    }\n",
       "</style>\n",
       "<table border=\"1\" class=\"dataframe\">\n",
       "  <thead>\n",
       "    <tr style=\"text-align: right;\">\n",
       "      <th></th>\n",
       "      <th>qid</th>\n",
       "      <th>header</th>\n",
       "      <th>resp</th>\n",
       "      <th>url</th>\n",
       "      <th>cat</th>\n",
       "    </tr>\n",
       "  </thead>\n",
       "  <tbody>\n",
       "    <tr>\n",
       "      <th>0</th>\n",
       "      <td>QID20</td>\n",
       "      <td>https://www.gofundme.com/f/help-me-see-your-wo...</td>\n",
       "      <td></td>\n",
       "      <td>https://www.gofundme.com/f/help-me-see-your-world</td>\n",
       "      <td>base</td>\n",
       "    </tr>\n",
       "    <tr>\n",
       "      <th>1</th>\n",
       "      <td>QID21</td>\n",
       "      <td>https://www.gofundme.com/f/help-me-see-your-wo...</td>\n",
       "      <td>Nervous system diseases</td>\n",
       "      <td>https://www.gofundme.com/f/help-me-see-your-world</td>\n",
       "      <td>top</td>\n",
       "    </tr>\n",
       "    <tr>\n",
       "      <th>2</th>\n",
       "      <td>QID22_TEXT</td>\n",
       "      <td>https://www.gofundme.com/f/help-me-see-your-wo...</td>\n",
       "      <td>interpreting primary medical condition as the ...</td>\n",
       "      <td>https://www.gofundme.com/f/help-me-see-your-world</td>\n",
       "      <td>NOTES</td>\n",
       "    </tr>\n",
       "  </tbody>\n",
       "</table>\n",
       "</div>"
      ],
      "text/plain": [
       "          qid                                             header  \\\n",
       "0       QID20  https://www.gofundme.com/f/help-me-see-your-wo...   \n",
       "1       QID21  https://www.gofundme.com/f/help-me-see-your-wo...   \n",
       "2  QID22_TEXT  https://www.gofundme.com/f/help-me-see-your-wo...   \n",
       "\n",
       "                                                resp  \\\n",
       "0                                                      \n",
       "1                            Nervous system diseases   \n",
       "2  interpreting primary medical condition as the ...   \n",
       "\n",
       "                                                 url    cat  \n",
       "0  https://www.gofundme.com/f/help-me-see-your-world   base  \n",
       "1  https://www.gofundme.com/f/help-me-see-your-world    top  \n",
       "2  https://www.gofundme.com/f/help-me-see-your-world  NOTES  "
      ]
     },
     "execution_count": 314,
     "metadata": {},
     "output_type": "execute_result"
    }
   ],
   "source": [
    "resolved_top_only[:3]"
   ]
  },
  {
   "cell_type": "code",
   "execution_count": 315,
   "metadata": {},
   "outputs": [
    {
     "data": {
      "text/html": [
       "<div>\n",
       "<style scoped>\n",
       "    .dataframe tbody tr th:only-of-type {\n",
       "        vertical-align: middle;\n",
       "    }\n",
       "\n",
       "    .dataframe tbody tr th {\n",
       "        vertical-align: top;\n",
       "    }\n",
       "\n",
       "    .dataframe thead th {\n",
       "        text-align: right;\n",
       "    }\n",
       "</style>\n",
       "<table border=\"1\" class=\"dataframe\">\n",
       "  <thead>\n",
       "    <tr style=\"text-align: right;\">\n",
       "      <th></th>\n",
       "      <th>index</th>\n",
       "      <th>url</th>\n",
       "      <th>qcat</th>\n",
       "      <th>rater_D</th>\n",
       "      <th>rater_S</th>\n",
       "      <th>round</th>\n",
       "    </tr>\n",
       "  </thead>\n",
       "  <tbody>\n",
       "    <tr>\n",
       "      <th>0</th>\n",
       "      <td>35</td>\n",
       "      <td>https://www.gofundme.com/f/help-me-see-your-world</td>\n",
       "      <td>base</td>\n",
       "      <td>Nervous system diseases,Other noncommunicable ...</td>\n",
       "      <td>Nervous system diseases,Other noncommunicable ...</td>\n",
       "      <td>3</td>\n",
       "    </tr>\n",
       "    <tr>\n",
       "      <th>1</th>\n",
       "      <td>36</td>\n",
       "      <td>https://www.gofundme.com/f/help-me-see-your-world</td>\n",
       "      <td>top</td>\n",
       "      <td>Other noncommunicable diseases</td>\n",
       "      <td>Nervous system diseases</td>\n",
       "      <td>3</td>\n",
       "    </tr>\n",
       "    <tr>\n",
       "      <th>2</th>\n",
       "      <td>37</td>\n",
       "      <td>https://www.gofundme.com/f/help-me-see-your-world</td>\n",
       "      <td>NOTES</td>\n",
       "      <td>NaN</td>\n",
       "      <td>H47619\\tCortical blindness, unspecified side o...</td>\n",
       "      <td>3</td>\n",
       "    </tr>\n",
       "  </tbody>\n",
       "</table>\n",
       "</div>"
      ],
      "text/plain": [
       "   index                                                url   qcat  \\\n",
       "0     35  https://www.gofundme.com/f/help-me-see-your-world   base   \n",
       "1     36  https://www.gofundme.com/f/help-me-see-your-world    top   \n",
       "2     37  https://www.gofundme.com/f/help-me-see-your-world  NOTES   \n",
       "\n",
       "                                             rater_D  \\\n",
       "0  Nervous system diseases,Other noncommunicable ...   \n",
       "1                     Other noncommunicable diseases   \n",
       "2                                                NaN   \n",
       "\n",
       "                                             rater_S  round  \n",
       "0  Nervous system diseases,Other noncommunicable ...      3  \n",
       "1                            Nervous system diseases      3  \n",
       "2  H47619\\tCortical blindness, unspecified side o...      3  "
      ]
     },
     "execution_count": 315,
     "metadata": {},
     "output_type": "execute_result"
    }
   ],
   "source": [
    "ref[ref['url'] == 'https://www.gofundme.com/f/help-me-see-your-world']"
   ]
  },
  {
   "cell_type": "code",
   "execution_count": 316,
   "metadata": {},
   "outputs": [
    {
     "data": {
      "text/plain": [
       "'Infections,Injuries and external causes,Mental and substance use disorders,Nonspecific'"
      ]
     },
     "execution_count": 316,
     "metadata": {},
     "output_type": "execute_result"
    }
   ],
   "source": [
    "resolved_any_only.iloc[0]['resp']"
   ]
  },
  {
   "cell_type": "code",
   "execution_count": 317,
   "metadata": {},
   "outputs": [
    {
     "data": {
      "text/plain": [
       "'Infections,Injuries and external causes,Mental and substance use disorders,Nonspecific'"
      ]
     },
     "execution_count": 317,
     "metadata": {},
     "output_type": "execute_result"
    }
   ],
   "source": [
    "ref[ref['url'] == resolved_any_only.iloc[0]['url']].iloc[0]['rater_S']"
   ]
  },
  {
   "cell_type": "code",
   "execution_count": 318,
   "metadata": {},
   "outputs": [
    {
     "data": {
      "text/html": [
       "<div>\n",
       "<style scoped>\n",
       "    .dataframe tbody tr th:only-of-type {\n",
       "        vertical-align: middle;\n",
       "    }\n",
       "\n",
       "    .dataframe tbody tr th {\n",
       "        vertical-align: top;\n",
       "    }\n",
       "\n",
       "    .dataframe thead th {\n",
       "        text-align: right;\n",
       "    }\n",
       "</style>\n",
       "<table border=\"1\" class=\"dataframe\">\n",
       "  <thead>\n",
       "    <tr style=\"text-align: right;\">\n",
       "      <th></th>\n",
       "      <th>qid</th>\n",
       "      <th>header</th>\n",
       "      <th>resp</th>\n",
       "      <th>url</th>\n",
       "      <th>cat</th>\n",
       "    </tr>\n",
       "  </thead>\n",
       "  <tbody>\n",
       "    <tr>\n",
       "      <th>3</th>\n",
       "      <td>QID5</td>\n",
       "      <td>https://www.gofundme.com/f/xny684__base - Disa...</td>\n",
       "      <td>Endocrine diseases,Nonspecific</td>\n",
       "      <td>https://www.gofundme.com/f/xny684</td>\n",
       "      <td>base</td>\n",
       "    </tr>\n",
       "    <tr>\n",
       "      <th>4</th>\n",
       "      <td>QID6</td>\n",
       "      <td>https://www.gofundme.com/f/xny684__top - Pleas...</td>\n",
       "      <td>Endocrine diseases</td>\n",
       "      <td>https://www.gofundme.com/f/xny684</td>\n",
       "      <td>top</td>\n",
       "    </tr>\n",
       "    <tr>\n",
       "      <th>5</th>\n",
       "      <td>QID7_TEXT</td>\n",
       "      <td>https://www.gofundme.com/f/xny684__NOTES - Ple...</td>\n",
       "      <td>NaN</td>\n",
       "      <td>https://www.gofundme.com/f/xny684</td>\n",
       "      <td>NOTES</td>\n",
       "    </tr>\n",
       "  </tbody>\n",
       "</table>\n",
       "</div>"
      ],
      "text/plain": [
       "         qid                                             header  \\\n",
       "3       QID5  https://www.gofundme.com/f/xny684__base - Disa...   \n",
       "4       QID6  https://www.gofundme.com/f/xny684__top - Pleas...   \n",
       "5  QID7_TEXT  https://www.gofundme.com/f/xny684__NOTES - Ple...   \n",
       "\n",
       "                             resp                                url    cat  \n",
       "3  Endocrine diseases,Nonspecific  https://www.gofundme.com/f/xny684   base  \n",
       "4              Endocrine diseases  https://www.gofundme.com/f/xny684    top  \n",
       "5                             NaN  https://www.gofundme.com/f/xny684  NOTES  "
      ]
     },
     "execution_count": 318,
     "metadata": {},
     "output_type": "execute_result"
    }
   ],
   "source": [
    "resolved_any_and_top[3:6]"
   ]
  },
  {
   "cell_type": "code",
   "execution_count": 319,
   "metadata": {},
   "outputs": [
    {
     "data": {
      "text/html": [
       "<div>\n",
       "<style scoped>\n",
       "    .dataframe tbody tr th:only-of-type {\n",
       "        vertical-align: middle;\n",
       "    }\n",
       "\n",
       "    .dataframe tbody tr th {\n",
       "        vertical-align: top;\n",
       "    }\n",
       "\n",
       "    .dataframe thead th {\n",
       "        text-align: right;\n",
       "    }\n",
       "</style>\n",
       "<table border=\"1\" class=\"dataframe\">\n",
       "  <thead>\n",
       "    <tr style=\"text-align: right;\">\n",
       "      <th></th>\n",
       "      <th>index</th>\n",
       "      <th>url</th>\n",
       "      <th>qcat</th>\n",
       "      <th>rater_D</th>\n",
       "      <th>rater_S</th>\n",
       "      <th>round</th>\n",
       "    </tr>\n",
       "  </thead>\n",
       "  <tbody>\n",
       "    <tr>\n",
       "      <th>0</th>\n",
       "      <td>87</td>\n",
       "      <td>https://www.gofundme.com/f/xny684</td>\n",
       "      <td>base</td>\n",
       "      <td>Endocrine diseases</td>\n",
       "      <td>Endocrine diseases,Nonspecific</td>\n",
       "      <td>6</td>\n",
       "    </tr>\n",
       "    <tr>\n",
       "      <th>1</th>\n",
       "      <td>88</td>\n",
       "      <td>https://www.gofundme.com/f/xny684</td>\n",
       "      <td>top</td>\n",
       "      <td>Endocrine diseases</td>\n",
       "      <td>Endocrine diseases</td>\n",
       "      <td>6</td>\n",
       "    </tr>\n",
       "    <tr>\n",
       "      <th>2</th>\n",
       "      <td>89</td>\n",
       "      <td>https://www.gofundme.com/f/xny684</td>\n",
       "      <td>NOTES</td>\n",
       "      <td>NaN</td>\n",
       "      <td>NaN</td>\n",
       "      <td>6</td>\n",
       "    </tr>\n",
       "  </tbody>\n",
       "</table>\n",
       "</div>"
      ],
      "text/plain": [
       "   index                                url   qcat             rater_D  \\\n",
       "0     87  https://www.gofundme.com/f/xny684   base  Endocrine diseases   \n",
       "1     88  https://www.gofundme.com/f/xny684    top  Endocrine diseases   \n",
       "2     89  https://www.gofundme.com/f/xny684  NOTES                 NaN   \n",
       "\n",
       "                          rater_S  round  \n",
       "0  Endocrine diseases,Nonspecific      6  \n",
       "1              Endocrine diseases      6  \n",
       "2                             NaN      6  "
      ]
     },
     "execution_count": 319,
     "metadata": {},
     "output_type": "execute_result"
    }
   ],
   "source": [
    "ref[ref['url'] == 'https://www.gofundme.com/f/xny684']"
   ]
  },
  {
   "cell_type": "markdown",
   "metadata": {},
   "source": [
    "### Clean new reference set"
   ]
  },
  {
   "cell_type": "code",
   "execution_count": 320,
   "metadata": {},
   "outputs": [],
   "source": [
    "#subset columns\n",
    "ref = ref[['url','qcat','rater_S']]\n",
    "ref = ref.rename(columns={'rater_S':'label'})"
   ]
  },
  {
   "cell_type": "code",
   "execution_count": 321,
   "metadata": {},
   "outputs": [
    {
     "data": {
      "text/plain": [
       "['https://www.gofundme.com/f/esperanza-para-mi-viejito-transplante-de-pulmon_...',\n",
       " 'https://www.gofundme.com/f/ceiling-hoist-lift-care-system-for-tucker-thigpe...',\n",
       " 'https://www.gofundme.com/f/lets-do-our-part-to-help-the-front-line-workers_...',\n",
       " 'https://www.gofundme.com/f/help-noah-fight-stage-4-neuroendocrine-carcinoma...',\n",
       " 'https://www.gofundme.com/f/get-mike-home-via-a-visit-to-his-mom-and-the-wat...']"
      ]
     },
     "execution_count": 321,
     "metadata": {},
     "output_type": "execute_result"
    }
   ],
   "source": [
    "#qualtrics abbreviates long urls with a suffix of ellipsis\n",
    "#so check to see if any urls contain that\n",
    "urls_to_replace = []\n",
    "for url in ref['url'].unique().tolist():\n",
    "    if '...' in url:\n",
    "        urls_to_replace.append(url)\n",
    "urls_to_replace"
   ]
  },
  {
   "cell_type": "code",
   "execution_count": 322,
   "metadata": {},
   "outputs": [],
   "source": [
    "new_urls = {}\n",
    "for url in urls_to_replace:\n",
    "    new_urls[url] = feed[feed['url'].str.contains(url[:-4])]['url'].tolist()[0]"
   ]
  },
  {
   "cell_type": "code",
   "execution_count": 323,
   "metadata": {},
   "outputs": [],
   "source": [
    "ref = ref.replace(new_urls)"
   ]
  },
  {
   "cell_type": "code",
   "execution_count": 324,
   "metadata": {},
   "outputs": [
    {
     "data": {
      "text/plain": [
       "[]"
      ]
     },
     "execution_count": 324,
     "metadata": {},
     "output_type": "execute_result"
    }
   ],
   "source": [
    "#checking that all were replaced\n",
    "ref[~ref['url'].isin(feed['url'])]['url'].unique().tolist()"
   ]
  },
  {
   "cell_type": "code",
   "execution_count": 325,
   "metadata": {},
   "outputs": [],
   "source": [
    "#subset data by question category\n",
    "ref_any = ref[ref['qcat'] == 'base']\n",
    "ref_top = ref[ref['qcat'] == 'top']"
   ]
  },
  {
   "cell_type": "code",
   "execution_count": 326,
   "metadata": {},
   "outputs": [
    {
     "name": "stdout",
     "output_type": "stream",
     "text": [
      "(200, 3)\n",
      "(200, 3)\n"
     ]
    }
   ],
   "source": [
    "print(ref_any.shape)\n",
    "print(ref_top.shape)"
   ]
  },
  {
   "cell_type": "code",
   "execution_count": 327,
   "metadata": {},
   "outputs": [],
   "source": [
    "def comma2lofd(df):\n",
    "    '''convert cat column from comma delimited to list of dictionaries with 1 or 0 for each category'''\n",
    "    \n",
    "    disease_categories = [\n",
    "        'Cardiovascular diseases',\n",
    "        'Endocrine diseases',\n",
    "        'Gastrointestinal diseases',\n",
    "        'Genitourinary disorders',\n",
    "        'Infections',\n",
    "        'Injuries and external causes',\n",
    "        'Mental and substance use disorders',\n",
    "        'Musculoskeletal diseases',\n",
    "        'Neoplasms',\n",
    "        'Nervous system diseases',\n",
    "        'Respiratory diseases'\n",
    "    ]\n",
    "    \n",
    "    r = []\n",
    "    \n",
    "    for index,row in df.iterrows():\n",
    "        lofd = []\n",
    "        as_list = row['label'].split(',')\n",
    "        for disease in disease_categories:\n",
    "            if disease in as_list:\n",
    "                lofd.append({disease:1})\n",
    "            else:\n",
    "                lofd.append({disease:0})\n",
    "        r.append(lofd)\n",
    "    return r"
   ]
  },
  {
   "cell_type": "code",
   "execution_count": 328,
   "metadata": {},
   "outputs": [
    {
     "data": {
      "text/html": [
       "<div>\n",
       "<style scoped>\n",
       "    .dataframe tbody tr th:only-of-type {\n",
       "        vertical-align: middle;\n",
       "    }\n",
       "\n",
       "    .dataframe tbody tr th {\n",
       "        vertical-align: top;\n",
       "    }\n",
       "\n",
       "    .dataframe thead th {\n",
       "        text-align: right;\n",
       "    }\n",
       "</style>\n",
       "<table border=\"1\" class=\"dataframe\">\n",
       "  <thead>\n",
       "    <tr style=\"text-align: right;\">\n",
       "      <th></th>\n",
       "      <th>url</th>\n",
       "      <th>qcat</th>\n",
       "      <th>label</th>\n",
       "    </tr>\n",
       "  </thead>\n",
       "  <tbody>\n",
       "    <tr>\n",
       "      <th>0</th>\n",
       "      <td>https://www.gofundme.com/f/please-help-karens-...</td>\n",
       "      <td>base</td>\n",
       "      <td>Infections,Injuries and external causes,Mental...</td>\n",
       "    </tr>\n",
       "    <tr>\n",
       "      <th>0</th>\n",
       "      <td>https://www.gofundme.com/f/patrickwalter</td>\n",
       "      <td>base</td>\n",
       "      <td>Neoplasms</td>\n",
       "    </tr>\n",
       "    <tr>\n",
       "      <th>0</th>\n",
       "      <td>https://www.gofundme.com/f/farid</td>\n",
       "      <td>base</td>\n",
       "      <td>Neoplasms</td>\n",
       "    </tr>\n",
       "    <tr>\n",
       "      <th>0</th>\n",
       "      <td>https://www.gofundme.com/f/wk4a68r</td>\n",
       "      <td>base</td>\n",
       "      <td>Neoplasms</td>\n",
       "    </tr>\n",
       "    <tr>\n",
       "      <th>0</th>\n",
       "      <td>https://www.gofundme.com/f/project-quotit039s-...</td>\n",
       "      <td>base</td>\n",
       "      <td>Neoplasms</td>\n",
       "    </tr>\n",
       "    <tr>\n",
       "      <th>...</th>\n",
       "      <td>...</td>\n",
       "      <td>...</td>\n",
       "      <td>...</td>\n",
       "    </tr>\n",
       "    <tr>\n",
       "      <th>0</th>\n",
       "      <td>https://www.gofundme.com/f/2tgzb38</td>\n",
       "      <td>base</td>\n",
       "      <td>Cardiovascular diseases,Nervous system diseases</td>\n",
       "    </tr>\n",
       "    <tr>\n",
       "      <th>0</th>\n",
       "      <td>https://www.gofundme.com/f/zjp9du-cancer-sucks...</td>\n",
       "      <td>base</td>\n",
       "      <td>Injuries and external causes,Musculoskeletal d...</td>\n",
       "    </tr>\n",
       "    <tr>\n",
       "      <th>0</th>\n",
       "      <td>https://www.gofundme.com/f/helpCharlieSmile</td>\n",
       "      <td>base</td>\n",
       "      <td>Musculoskeletal diseases</td>\n",
       "    </tr>\n",
       "    <tr>\n",
       "      <th>0</th>\n",
       "      <td>https://www.gofundme.com/f/kim-partin-couch-me...</td>\n",
       "      <td>base</td>\n",
       "      <td>Neoplasms</td>\n",
       "    </tr>\n",
       "    <tr>\n",
       "      <th>0</th>\n",
       "      <td>https://www.gofundme.com/f/drivingforbella</td>\n",
       "      <td>base</td>\n",
       "      <td>Nonspecific</td>\n",
       "    </tr>\n",
       "  </tbody>\n",
       "</table>\n",
       "<p>200 rows × 3 columns</p>\n",
       "</div>"
      ],
      "text/plain": [
       "                                                  url  qcat  \\\n",
       "0   https://www.gofundme.com/f/please-help-karens-...  base   \n",
       "0            https://www.gofundme.com/f/patrickwalter  base   \n",
       "0                    https://www.gofundme.com/f/farid  base   \n",
       "0                  https://www.gofundme.com/f/wk4a68r  base   \n",
       "0   https://www.gofundme.com/f/project-quotit039s-...  base   \n",
       "..                                                ...   ...   \n",
       "0                  https://www.gofundme.com/f/2tgzb38  base   \n",
       "0   https://www.gofundme.com/f/zjp9du-cancer-sucks...  base   \n",
       "0         https://www.gofundme.com/f/helpCharlieSmile  base   \n",
       "0   https://www.gofundme.com/f/kim-partin-couch-me...  base   \n",
       "0          https://www.gofundme.com/f/drivingforbella  base   \n",
       "\n",
       "                                                label  \n",
       "0   Infections,Injuries and external causes,Mental...  \n",
       "0                                           Neoplasms  \n",
       "0                                           Neoplasms  \n",
       "0                                           Neoplasms  \n",
       "0                                           Neoplasms  \n",
       "..                                                ...  \n",
       "0     Cardiovascular diseases,Nervous system diseases  \n",
       "0   Injuries and external causes,Musculoskeletal d...  \n",
       "0                            Musculoskeletal diseases  \n",
       "0                                           Neoplasms  \n",
       "0                                         Nonspecific  \n",
       "\n",
       "[200 rows x 3 columns]"
      ]
     },
     "execution_count": 328,
     "metadata": {},
     "output_type": "execute_result"
    }
   ],
   "source": [
    "ref_any"
   ]
  },
  {
   "cell_type": "code",
   "execution_count": 329,
   "metadata": {},
   "outputs": [
    {
     "name": "stderr",
     "output_type": "stream",
     "text": [
      "/var/folders/z5/c01kkql93wjgzp13rc24yhh00000gn/T/ipykernel_4505/1424282640.py:1: SettingWithCopyWarning: \n",
      "A value is trying to be set on a copy of a slice from a DataFrame.\n",
      "Try using .loc[row_indexer,col_indexer] = value instead\n",
      "\n",
      "See the caveats in the documentation: https://pandas.pydata.org/pandas-docs/stable/user_guide/indexing.html#returning-a-view-versus-a-copy\n",
      "  ref_any['lofd'] = comma2lofd(ref_any)\n"
     ]
    }
   ],
   "source": [
    "ref_any['lofd'] = comma2lofd(ref_any)"
   ]
  },
  {
   "cell_type": "code",
   "execution_count": 330,
   "metadata": {},
   "outputs": [],
   "source": [
    "#convert to long format\n",
    "long = ref_any.explode('lofd')"
   ]
  },
  {
   "cell_type": "code",
   "execution_count": 331,
   "metadata": {},
   "outputs": [],
   "source": [
    "#extract key, value from dictionary\n",
    "long.insert(loc=2, column='cat', value=[list(x.items())[0][0] for x in long['lofd']])\n",
    "long.insert(loc=3, column='count', value=[list(x.items())[0][1] for x in long['lofd']])"
   ]
  },
  {
   "cell_type": "code",
   "execution_count": 332,
   "metadata": {},
   "outputs": [],
   "source": [
    "long = long[['url','cat','count']]"
   ]
  },
  {
   "cell_type": "code",
   "execution_count": 333,
   "metadata": {},
   "outputs": [],
   "source": [
    "long['cat'] = long['cat'].replace({'Mental and substance use disorders':'Mental health disorders',\n",
    "                                  'Genitourinary disorders':'Genitourinary diseases'})"
   ]
  },
  {
   "cell_type": "code",
   "execution_count": 334,
   "metadata": {},
   "outputs": [],
   "source": [
    "#create pivot table\n",
    "sd_ref = long.pivot_table(index=['url'], columns='cat', values='count', aggfunc=(pd.Series.sum), fill_value=0)"
   ]
  },
  {
   "cell_type": "markdown",
   "metadata": {},
   "source": [
    "### Revisions from additional discussion"
   ]
  },
  {
   "cell_type": "code",
   "execution_count": 335,
   "metadata": {},
   "outputs": [],
   "source": [
    "#Regarding https://www.gofundme.com/f/nbpzd4\n",
    "#Remove GI due to vague language\n",
    "sd_ref.loc['https://www.gofundme.com/f/nbpzd4','Gastrointestinal diseases'] = 0"
   ]
  },
  {
   "cell_type": "code",
   "execution_count": 336,
   "metadata": {},
   "outputs": [],
   "source": [
    "#Regarding https://www.gofundme.com/f/support-for-twins-covid\n",
    "#Remove GI in favor of infection\n",
    "sd_ref.loc['https://www.gofundme.com/f/support-for-twins-covid','Gastrointestinal diseases'] = 0"
   ]
  },
  {
   "cell_type": "code",
   "execution_count": 337,
   "metadata": {},
   "outputs": [],
   "source": [
    "#Regarding https://www.gofundme.com/f/e2km2k-your-help-will-make-a-difference\n",
    "#Remove mental health due to vague language\n",
    "sd_ref.loc['https://www.gofundme.com/f/e2km2k-your-help-will-make-a-difference','Mental health disorders'] = 0"
   ]
  },
  {
   "cell_type": "code",
   "execution_count": 338,
   "metadata": {},
   "outputs": [],
   "source": [
    "#Regarding https://www.gofundme.com/f/KatiesCFDoubleLungTransplantFund\n",
    "#Add respiratory due to mention of lung transplant that was missed\n",
    "sd_ref.loc['https://www.gofundme.com/f/KatiesCFDoubleLungTransplantFund', 'Respiratory diseases'] = 1"
   ]
  },
  {
   "cell_type": "markdown",
   "metadata": {},
   "source": [
    "# First 200: Additional Campaigns\n",
    "\n",
    "Because some campaigns were eventually excluded as exclusion criteria were finalized, these additional campaigns were labelled so that the final number of campaigns after exclusion criteria would be appropriate."
   ]
  },
  {
   "cell_type": "code",
   "execution_count": 339,
   "metadata": {},
   "outputs": [],
   "source": [
    "add = pd.read_csv('../data/disease_categorization/evaluation/first_200/additional/sd_additional.csv')\n",
    "add.index = add['url']\n",
    "del add['url']"
   ]
  },
  {
   "cell_type": "code",
   "execution_count": 340,
   "metadata": {},
   "outputs": [],
   "source": [
    "#add to first 200 IRR tabulations (because inter-rater agreement was 100% for these)\n",
    "rater_S_pivot_1 = pd.concat([rater_S_pivot_1, add])\n",
    "rater_D_pivot_1 = pd.concat([rater_D_pivot_1, add])"
   ]
  },
  {
   "cell_type": "code",
   "execution_count": 341,
   "metadata": {},
   "outputs": [],
   "source": [
    "#add to reference set\n",
    "sd_ref = pd.concat([sd_ref, add])"
   ]
  },
  {
   "cell_type": "markdown",
   "metadata": {},
   "source": [
    "# Second 200: IRR"
   ]
  },
  {
   "cell_type": "code",
   "execution_count": 342,
   "metadata": {},
   "outputs": [],
   "source": [
    "#import data\n",
    "s = pd.read_excel('../data/disease_categorization/evaluation/second_200/1_to_200_S.xlsx', header=None)\n",
    "p = pd.read_excel('../data/disease_categorization/evaluation/second_200/1_to_200_P.xlsx', header=None)\n",
    "key = pd.read_csv('../data/disease_categorization/evaluation/second_200/campaigns_to_review_200.csv')"
   ]
  },
  {
   "cell_type": "code",
   "execution_count": 343,
   "metadata": {},
   "outputs": [],
   "source": [
    "#clean data\n",
    "s.columns = ['case','term','cat']\n",
    "p.columns = ['case','term','cat']\n",
    "\n",
    "del s['term']\n",
    "del p['term']\n",
    "\n",
    "s = s.drop_duplicates()\n",
    "p = p.drop_duplicates()"
   ]
  },
  {
   "cell_type": "code",
   "execution_count": 344,
   "metadata": {},
   "outputs": [],
   "source": [
    "#recode from case to url\n",
    "s = s.merge(key[['name','url']], left_on='case', right_on='name')\n",
    "p = p.merge(key[['name','url']], left_on='case', right_on='name')"
   ]
  },
  {
   "cell_type": "code",
   "execution_count": 345,
   "metadata": {},
   "outputs": [],
   "source": [
    "s = s.replace({'infections':'Infections'})\n",
    "p = p.replace({'infections':'Infections','neoplasms':'Neoplasms'})"
   ]
  },
  {
   "cell_type": "code",
   "execution_count": 346,
   "metadata": {},
   "outputs": [],
   "source": [
    "#clean data\n",
    "s = s[['url','cat']]\n",
    "p = p[['url','cat']]"
   ]
  },
  {
   "cell_type": "code",
   "execution_count": 347,
   "metadata": {},
   "outputs": [],
   "source": [
    "#combine data\n",
    "s['rater'] = ['S'] * s.shape[0]\n",
    "p['rater'] = ['P'] * p.shape[0]\n",
    "\n",
    "second = pd.concat([s,p])"
   ]
  },
  {
   "cell_type": "code",
   "execution_count": 348,
   "metadata": {},
   "outputs": [],
   "source": [
    "#replace na\n",
    "second['cat'] = second['cat'].fillna('BLANK')"
   ]
  },
  {
   "cell_type": "code",
   "execution_count": 349,
   "metadata": {},
   "outputs": [],
   "source": [
    "#create comma-delimited string\n",
    "second = second.groupby(['url','rater']).agg(list).reset_index()\n",
    "second['cat'] = [','.join(x) for x in second['cat']]"
   ]
  },
  {
   "cell_type": "code",
   "execution_count": 350,
   "metadata": {},
   "outputs": [],
   "source": [
    "#REDEFINE FUNCTION HERE DUE TO DIFFERENT TERMINOLOGY FOR MENTAL HEALTH\n",
    "\n",
    "def comma2lofd_v2(df):\n",
    "    '''convert cat column from comma delimited to list of dictionaries with 1 or 0 for each category'''\n",
    "    \n",
    "    disease_categories = [\n",
    "        'Cardiovascular diseases',\n",
    "        'Endocrine diseases',\n",
    "        'Gastrointestinal diseases',\n",
    "        'Genitourinary diseases',\n",
    "        'Infections',\n",
    "        'Injuries and external causes',\n",
    "        'Mental health disorders',\n",
    "        'Musculoskeletal diseases',\n",
    "        'Neoplasms',\n",
    "        'Nervous system diseases',\n",
    "        'Respiratory diseases'\n",
    "    ]\n",
    "    \n",
    "    r = []\n",
    "    \n",
    "    for index,row in df.iterrows():\n",
    "        lofd = []\n",
    "        as_list = row['cat'].split(',')\n",
    "        for disease in disease_categories:\n",
    "            if disease in as_list:\n",
    "                lofd.append({disease:1})\n",
    "            else:\n",
    "                lofd.append({disease:0})\n",
    "        r.append(lofd)\n",
    "    return r"
   ]
  },
  {
   "cell_type": "code",
   "execution_count": 351,
   "metadata": {},
   "outputs": [],
   "source": [
    "second['lofd'] = comma2lofd_v2(second)\n",
    "del second['cat']"
   ]
  },
  {
   "cell_type": "code",
   "execution_count": 352,
   "metadata": {},
   "outputs": [],
   "source": [
    "#convert to long format\n",
    "long_2 = second.explode('lofd')"
   ]
  },
  {
   "cell_type": "code",
   "execution_count": 353,
   "metadata": {},
   "outputs": [],
   "source": [
    "#extract key, value from dictionary\n",
    "long_2.insert(loc=1, column='cat', value=[list(x.items())[0][0] for x in long_2['lofd']])\n",
    "long_2.insert(loc=2, column='count', value=[list(x.items())[0][1] for x in long_2['lofd']])\n",
    "\n",
    "long_2 = long_2[['url','rater','cat','count']]"
   ]
  },
  {
   "cell_type": "code",
   "execution_count": 354,
   "metadata": {},
   "outputs": [],
   "source": [
    "#create pivot tables\n",
    "rater_S_pivot_2 = long_2[long_2['rater'] == 'S'].pivot_table(index=['url'], columns='cat', values='count', aggfunc=(pd.Series.sum), fill_value=0)\n",
    "rater_P_pivot_1 = long_2[long_2['rater'] == 'P'].pivot_table(index=['url'], columns='cat', values='count', aggfunc=(pd.Series.sum), fill_value=0)"
   ]
  },
  {
   "cell_type": "code",
   "execution_count": 355,
   "metadata": {},
   "outputs": [],
   "source": [
    "#calculate counts and percentage by category\n",
    "rater_P_counts_1 = rater_P_pivot_1.describe().T\n",
    "rater_P_counts_1['N'] = [round(x) for x in rater_P_counts_1['count'] * rater_P_counts_1['mean']]\n",
    "rater_P_counts_1['PER'] = rater_P_counts_1['N'] / rater_P_counts_1['count']\n",
    "\n",
    "rater_S_counts_2 = rater_S_pivot_2.describe().T\n",
    "rater_S_counts_2['N'] = [round(x) for x in rater_S_counts_2['count'] * rater_S_counts_2['mean']]\n",
    "rater_S_counts_2['PER'] = rater_S_counts_2['N'] / rater_S_counts_2['count']"
   ]
  },
  {
   "cell_type": "code",
   "execution_count": 356,
   "metadata": {},
   "outputs": [],
   "source": [
    "cat = []\n",
    "cohens_kappa = []\n",
    "for col in rater_P_pivot_1.columns:\n",
    "    cat.append(col)\n",
    "    cohens_kappa.append(cohen_kappa_score(rater_P_pivot_1[col], rater_S_pivot_2[col]))\n",
    "\n",
    "kappa_df = pd.DataFrame({'category':cat, \n",
    "              'cohens kappa':cohens_kappa,\n",
    "              'rater_P count':rater_P_counts_1['N'],\n",
    "              'rater_S count':rater_S_counts_2['N']}).sort_values('cohens kappa', ascending=False)"
   ]
  },
  {
   "cell_type": "code",
   "execution_count": 357,
   "metadata": {},
   "outputs": [
    {
     "data": {
      "text/html": [
       "<div>\n",
       "<style scoped>\n",
       "    .dataframe tbody tr th:only-of-type {\n",
       "        vertical-align: middle;\n",
       "    }\n",
       "\n",
       "    .dataframe tbody tr th {\n",
       "        vertical-align: top;\n",
       "    }\n",
       "\n",
       "    .dataframe thead th {\n",
       "        text-align: right;\n",
       "    }\n",
       "</style>\n",
       "<table border=\"1\" class=\"dataframe\">\n",
       "  <thead>\n",
       "    <tr style=\"text-align: right;\">\n",
       "      <th></th>\n",
       "      <th>category</th>\n",
       "      <th>cohens kappa</th>\n",
       "      <th>rater_P count</th>\n",
       "      <th>rater_S count</th>\n",
       "    </tr>\n",
       "    <tr>\n",
       "      <th>cat</th>\n",
       "      <th></th>\n",
       "      <th></th>\n",
       "      <th></th>\n",
       "      <th></th>\n",
       "    </tr>\n",
       "  </thead>\n",
       "  <tbody>\n",
       "    <tr>\n",
       "      <th>Endocrine diseases</th>\n",
       "      <td>Endocrine diseases</td>\n",
       "      <td>1.000000</td>\n",
       "      <td>7</td>\n",
       "      <td>7</td>\n",
       "    </tr>\n",
       "    <tr>\n",
       "      <th>Injuries and external causes</th>\n",
       "      <td>Injuries and external causes</td>\n",
       "      <td>0.974962</td>\n",
       "      <td>22</td>\n",
       "      <td>23</td>\n",
       "    </tr>\n",
       "    <tr>\n",
       "      <th>Neoplasms</th>\n",
       "      <td>Neoplasms</td>\n",
       "      <td>0.948959</td>\n",
       "      <td>83</td>\n",
       "      <td>88</td>\n",
       "    </tr>\n",
       "    <tr>\n",
       "      <th>Cardiovascular diseases</th>\n",
       "      <td>Cardiovascular diseases</td>\n",
       "      <td>0.945205</td>\n",
       "      <td>50</td>\n",
       "      <td>46</td>\n",
       "    </tr>\n",
       "    <tr>\n",
       "      <th>Infections</th>\n",
       "      <td>Infections</td>\n",
       "      <td>0.927928</td>\n",
       "      <td>15</td>\n",
       "      <td>15</td>\n",
       "    </tr>\n",
       "    <tr>\n",
       "      <th>Respiratory diseases</th>\n",
       "      <td>Respiratory diseases</td>\n",
       "      <td>0.903800</td>\n",
       "      <td>11</td>\n",
       "      <td>11</td>\n",
       "    </tr>\n",
       "    <tr>\n",
       "      <th>Mental health disorders</th>\n",
       "      <td>Mental health disorders</td>\n",
       "      <td>0.886364</td>\n",
       "      <td>5</td>\n",
       "      <td>4</td>\n",
       "    </tr>\n",
       "    <tr>\n",
       "      <th>Nervous system diseases</th>\n",
       "      <td>Nervous system diseases</td>\n",
       "      <td>0.823165</td>\n",
       "      <td>26</td>\n",
       "      <td>26</td>\n",
       "    </tr>\n",
       "    <tr>\n",
       "      <th>Genitourinary diseases</th>\n",
       "      <td>Genitourinary diseases</td>\n",
       "      <td>0.822774</td>\n",
       "      <td>13</td>\n",
       "      <td>11</td>\n",
       "    </tr>\n",
       "    <tr>\n",
       "      <th>Musculoskeletal diseases</th>\n",
       "      <td>Musculoskeletal diseases</td>\n",
       "      <td>0.817185</td>\n",
       "      <td>26</td>\n",
       "      <td>24</td>\n",
       "    </tr>\n",
       "    <tr>\n",
       "      <th>Gastrointestinal diseases</th>\n",
       "      <td>Gastrointestinal diseases</td>\n",
       "      <td>0.615807</td>\n",
       "      <td>13</td>\n",
       "      <td>6</td>\n",
       "    </tr>\n",
       "  </tbody>\n",
       "</table>\n",
       "</div>"
      ],
      "text/plain": [
       "                                                  category  cohens kappa  \\\n",
       "cat                                                                        \n",
       "Endocrine diseases                      Endocrine diseases      1.000000   \n",
       "Injuries and external causes  Injuries and external causes      0.974962   \n",
       "Neoplasms                                        Neoplasms      0.948959   \n",
       "Cardiovascular diseases            Cardiovascular diseases      0.945205   \n",
       "Infections                                      Infections      0.927928   \n",
       "Respiratory diseases                  Respiratory diseases      0.903800   \n",
       "Mental health disorders            Mental health disorders      0.886364   \n",
       "Nervous system diseases            Nervous system diseases      0.823165   \n",
       "Genitourinary diseases              Genitourinary diseases      0.822774   \n",
       "Musculoskeletal diseases          Musculoskeletal diseases      0.817185   \n",
       "Gastrointestinal diseases        Gastrointestinal diseases      0.615807   \n",
       "\n",
       "                              rater_P count  rater_S count  \n",
       "cat                                                         \n",
       "Endocrine diseases                        7              7  \n",
       "Injuries and external causes             22             23  \n",
       "Neoplasms                                83             88  \n",
       "Cardiovascular diseases                  50             46  \n",
       "Infections                               15             15  \n",
       "Respiratory diseases                     11             11  \n",
       "Mental health disorders                   5              4  \n",
       "Nervous system diseases                  26             26  \n",
       "Genitourinary diseases                   13             11  \n",
       "Musculoskeletal diseases                 26             24  \n",
       "Gastrointestinal diseases                13              6  "
      ]
     },
     "execution_count": 357,
     "metadata": {},
     "output_type": "execute_result"
    }
   ],
   "source": [
    "kappa_df"
   ]
  },
  {
   "cell_type": "markdown",
   "metadata": {},
   "source": [
    "# Second 200: Discrepancy Resolution and Reference Set\n",
    "\n",
    "This was manually created based on discussion to resolve discrepancies."
   ]
  },
  {
   "cell_type": "code",
   "execution_count": 358,
   "metadata": {},
   "outputs": [],
   "source": [
    "#import\n",
    "sp_ref = pd.read_excel('../data/disease_categorization/evaluation/second_200/sp_reference.xlsx', header=None)"
   ]
  },
  {
   "cell_type": "code",
   "execution_count": 359,
   "metadata": {},
   "outputs": [],
   "source": [
    "#clean data\n",
    "sp_ref.columns = ['case','term','cat']\n",
    "\n",
    "del sp_ref['term']\n",
    "\n",
    "sp_ref = sp_ref.drop_duplicates()"
   ]
  },
  {
   "cell_type": "code",
   "execution_count": 360,
   "metadata": {},
   "outputs": [],
   "source": [
    "#recode from case to url\n",
    "sp_ref = sp_ref.merge(key[['name','url']], left_on='case', right_on='name')"
   ]
  },
  {
   "cell_type": "code",
   "execution_count": 361,
   "metadata": {},
   "outputs": [],
   "source": [
    "sp_ref = sp_ref.replace({'infections':'Infections'})"
   ]
  },
  {
   "cell_type": "code",
   "execution_count": 362,
   "metadata": {},
   "outputs": [],
   "source": [
    "#clean data\n",
    "sp_ref = sp_ref[['url','cat']]"
   ]
  },
  {
   "cell_type": "code",
   "execution_count": 363,
   "metadata": {},
   "outputs": [],
   "source": [
    "#replace na\n",
    "sp_ref['cat'] = sp_ref['cat'].fillna('BLANK')"
   ]
  },
  {
   "cell_type": "code",
   "execution_count": 364,
   "metadata": {},
   "outputs": [],
   "source": [
    "#create comma-delimited string\n",
    "sp_ref = sp_ref.groupby(['url']).agg(list).reset_index()\n",
    "sp_ref['cat'] = [','.join(x) for x in sp_ref['cat']]"
   ]
  },
  {
   "cell_type": "code",
   "execution_count": 365,
   "metadata": {},
   "outputs": [],
   "source": [
    "sp_ref['lofd'] = comma2lofd_v2(sp_ref)\n",
    "del sp_ref['cat']"
   ]
  },
  {
   "cell_type": "code",
   "execution_count": 366,
   "metadata": {},
   "outputs": [],
   "source": [
    "#convert to long format\n",
    "long_3 = sp_ref.explode('lofd')"
   ]
  },
  {
   "cell_type": "code",
   "execution_count": 367,
   "metadata": {},
   "outputs": [],
   "source": [
    "#extract key, value from dictionary\n",
    "long_3.insert(loc=0, column='cat', value=[list(x.items())[0][0] for x in long_3['lofd']])\n",
    "long_3.insert(loc=1, column='count', value=[list(x.items())[0][1] for x in long_3['lofd']])\n",
    "\n",
    "long_3 = long_3[['url','cat','count']]"
   ]
  },
  {
   "cell_type": "code",
   "execution_count": 368,
   "metadata": {},
   "outputs": [],
   "source": [
    "#create pivot table\n",
    "sp_ref = long_3.pivot_table(index=['url'], columns='cat', values='count', aggfunc=(pd.Series.sum), fill_value=0)"
   ]
  },
  {
   "cell_type": "markdown",
   "metadata": {},
   "source": [
    "# Apply exclusion criteria from master data"
   ]
  },
  {
   "cell_type": "code",
   "execution_count": 369,
   "metadata": {},
   "outputs": [],
   "source": [
    "#import master data\n",
    "master = pd.read_sql_query(\"SELECT url, fund_description FROM master\", conn)"
   ]
  },
  {
   "cell_type": "code",
   "execution_count": 370,
   "metadata": {},
   "outputs": [],
   "source": [
    "#combine IRR data\n",
    "rat1_pivot = pd.concat([rater_S_pivot_1, rater_S_pivot_2])\n",
    "rat2_pivot = pd.concat([rater_D_pivot_1, rater_P_pivot_1])\n",
    "\n",
    "#replace urls with ellipsis suffix as above\n",
    "rat1_pivot = rat1_pivot.rename(index=new_urls)\n",
    "rat2_pivot = rat2_pivot.rename(index=new_urls)\n"
   ]
  },
  {
   "cell_type": "code",
   "execution_count": 371,
   "metadata": {},
   "outputs": [],
   "source": [
    "#combine reference set data\n",
    "reference_set = pd.concat([sd_ref, sp_ref])"
   ]
  },
  {
   "cell_type": "code",
   "execution_count": 372,
   "metadata": {},
   "outputs": [],
   "source": [
    "#apply exclusions\n",
    "rat1_pivot = rat1_pivot.loc[rat1_pivot.index.isin(master['url'])]\n",
    "rat2_pivot = rat2_pivot.loc[rat2_pivot.index.isin(master['url'])]\n",
    "reference_set = reference_set.loc[reference_set.index.isin(master['url'])]"
   ]
  },
  {
   "cell_type": "code",
   "execution_count": 373,
   "metadata": {},
   "outputs": [
    {
     "name": "stdout",
     "output_type": "stream",
     "text": [
      "(402, 11)\n",
      "(402, 11)\n",
      "(402, 11)\n"
     ]
    }
   ],
   "source": [
    "print(rat1_pivot.shape)\n",
    "print(rat2_pivot.shape)\n",
    "print(reference_set.shape)"
   ]
  },
  {
   "cell_type": "code",
   "execution_count": 374,
   "metadata": {},
   "outputs": [],
   "source": [
    "#get two random urls to delete\n",
    "first = 'https://www.gofundme.com/f/chris039s-surgery-costs'\n",
    "second = 'https://www.gofundme.com/f/masks-for-nurses-caregivers-front-line'"
   ]
  },
  {
   "cell_type": "code",
   "execution_count": 375,
   "metadata": {},
   "outputs": [],
   "source": [
    "rat1_pivot = rat1_pivot.drop([first,second])\n",
    "rat2_pivot = rat2_pivot.drop([first,second])\n",
    "reference_set = reference_set.drop([first,second])"
   ]
  },
  {
   "cell_type": "code",
   "execution_count": 376,
   "metadata": {},
   "outputs": [
    {
     "name": "stdout",
     "output_type": "stream",
     "text": [
      "(400, 11)\n",
      "(400, 11)\n",
      "(400, 11)\n"
     ]
    }
   ],
   "source": [
    "print(rat1_pivot.shape)\n",
    "print(rat2_pivot.shape)\n",
    "print(reference_set.shape)"
   ]
  },
  {
   "cell_type": "markdown",
   "metadata": {},
   "source": [
    "# Final Cohen's Kappa"
   ]
  },
  {
   "cell_type": "code",
   "execution_count": 377,
   "metadata": {},
   "outputs": [],
   "source": [
    "#rater 1 data\n",
    "rat1_counts = rat1_pivot.describe().T\n",
    "rat1_counts['N'] = [round(x) for x in rat1_counts['count'] * rat1_counts['mean']]\n",
    "rat1_counts['PER'] = rat1_counts['N'] / rat1_counts['count']"
   ]
  },
  {
   "cell_type": "code",
   "execution_count": 378,
   "metadata": {},
   "outputs": [],
   "source": [
    "#rater 2 data\n",
    "rat2_counts = rat2_pivot.describe().T\n",
    "rat2_counts['N'] = [round(x) for x in rat2_counts['count'] * rat2_counts['mean']]\n",
    "rat2_counts['PER'] = rat2_counts['N'] / rat2_counts['count']"
   ]
  },
  {
   "cell_type": "code",
   "execution_count": 379,
   "metadata": {},
   "outputs": [],
   "source": [
    "cat = []\n",
    "cohens_kappa = []\n",
    "for col in rat2_pivot.columns:\n",
    "    cat.append(col)\n",
    "    cohens_kappa.append(cohen_kappa_score(rat2_pivot[col], rat1_pivot[col]))\n",
    "\n",
    "kappa_df = pd.DataFrame({'category':cat, \n",
    "              'cohens kappa':cohens_kappa,\n",
    "              'rater 2 count':rat2_counts['N'],\n",
    "              'rater 1 count':rat1_counts['N']}).sort_values('cohens kappa', ascending=False)"
   ]
  },
  {
   "cell_type": "code",
   "execution_count": 380,
   "metadata": {},
   "outputs": [
    {
     "data": {
      "text/html": [
       "<div>\n",
       "<style scoped>\n",
       "    .dataframe tbody tr th:only-of-type {\n",
       "        vertical-align: middle;\n",
       "    }\n",
       "\n",
       "    .dataframe tbody tr th {\n",
       "        vertical-align: top;\n",
       "    }\n",
       "\n",
       "    .dataframe thead th {\n",
       "        text-align: right;\n",
       "    }\n",
       "</style>\n",
       "<table border=\"1\" class=\"dataframe\">\n",
       "  <thead>\n",
       "    <tr style=\"text-align: right;\">\n",
       "      <th></th>\n",
       "      <th>category</th>\n",
       "      <th>cohens kappa</th>\n",
       "      <th>rater 2 count</th>\n",
       "      <th>rater 1 count</th>\n",
       "    </tr>\n",
       "  </thead>\n",
       "  <tbody>\n",
       "    <tr>\n",
       "      <th>Neoplasms</th>\n",
       "      <td>Neoplasms</td>\n",
       "      <td>0.963796</td>\n",
       "      <td>162</td>\n",
       "      <td>165</td>\n",
       "    </tr>\n",
       "    <tr>\n",
       "      <th>Infections</th>\n",
       "      <td>Infections</td>\n",
       "      <td>0.925651</td>\n",
       "      <td>30</td>\n",
       "      <td>28</td>\n",
       "    </tr>\n",
       "    <tr>\n",
       "      <th>Endocrine diseases</th>\n",
       "      <td>Endocrine diseases</td>\n",
       "      <td>0.914990</td>\n",
       "      <td>19</td>\n",
       "      <td>18</td>\n",
       "    </tr>\n",
       "    <tr>\n",
       "      <th>Injuries and external causes</th>\n",
       "      <td>Injuries and external causes</td>\n",
       "      <td>0.887735</td>\n",
       "      <td>55</td>\n",
       "      <td>47</td>\n",
       "    </tr>\n",
       "    <tr>\n",
       "      <th>Cardiovascular diseases</th>\n",
       "      <td>Cardiovascular diseases</td>\n",
       "      <td>0.882316</td>\n",
       "      <td>83</td>\n",
       "      <td>76</td>\n",
       "    </tr>\n",
       "    <tr>\n",
       "      <th>Genitourinary diseases</th>\n",
       "      <td>Genitourinary diseases</td>\n",
       "      <td>0.851412</td>\n",
       "      <td>32</td>\n",
       "      <td>26</td>\n",
       "    </tr>\n",
       "    <tr>\n",
       "      <th>Musculoskeletal diseases</th>\n",
       "      <td>Musculoskeletal diseases</td>\n",
       "      <td>0.846792</td>\n",
       "      <td>45</td>\n",
       "      <td>43</td>\n",
       "    </tr>\n",
       "    <tr>\n",
       "      <th>Respiratory diseases</th>\n",
       "      <td>Respiratory diseases</td>\n",
       "      <td>0.846449</td>\n",
       "      <td>30</td>\n",
       "      <td>26</td>\n",
       "    </tr>\n",
       "    <tr>\n",
       "      <th>Mental health disorders</th>\n",
       "      <td>Mental health disorders</td>\n",
       "      <td>0.842126</td>\n",
       "      <td>21</td>\n",
       "      <td>19</td>\n",
       "    </tr>\n",
       "    <tr>\n",
       "      <th>Nervous system diseases</th>\n",
       "      <td>Nervous system diseases</td>\n",
       "      <td>0.758065</td>\n",
       "      <td>60</td>\n",
       "      <td>56</td>\n",
       "    </tr>\n",
       "    <tr>\n",
       "      <th>Gastrointestinal diseases</th>\n",
       "      <td>Gastrointestinal diseases</td>\n",
       "      <td>0.688562</td>\n",
       "      <td>21</td>\n",
       "      <td>16</td>\n",
       "    </tr>\n",
       "  </tbody>\n",
       "</table>\n",
       "</div>"
      ],
      "text/plain": [
       "                                                  category  cohens kappa  \\\n",
       "Neoplasms                                        Neoplasms      0.963796   \n",
       "Infections                                      Infections      0.925651   \n",
       "Endocrine diseases                      Endocrine diseases      0.914990   \n",
       "Injuries and external causes  Injuries and external causes      0.887735   \n",
       "Cardiovascular diseases            Cardiovascular diseases      0.882316   \n",
       "Genitourinary diseases              Genitourinary diseases      0.851412   \n",
       "Musculoskeletal diseases          Musculoskeletal diseases      0.846792   \n",
       "Respiratory diseases                  Respiratory diseases      0.846449   \n",
       "Mental health disorders            Mental health disorders      0.842126   \n",
       "Nervous system diseases            Nervous system diseases      0.758065   \n",
       "Gastrointestinal diseases        Gastrointestinal diseases      0.688562   \n",
       "\n",
       "                              rater 2 count  rater 1 count  \n",
       "Neoplasms                               162            165  \n",
       "Infections                               30             28  \n",
       "Endocrine diseases                       19             18  \n",
       "Injuries and external causes             55             47  \n",
       "Cardiovascular diseases                  83             76  \n",
       "Genitourinary diseases                   32             26  \n",
       "Musculoskeletal diseases                 45             43  \n",
       "Respiratory diseases                     30             26  \n",
       "Mental health disorders                  21             19  \n",
       "Nervous system diseases                  60             56  \n",
       "Gastrointestinal diseases                21             16  "
      ]
     },
     "execution_count": 380,
     "metadata": {},
     "output_type": "execute_result"
    }
   ],
   "source": [
    "kappa_df"
   ]
  },
  {
   "cell_type": "markdown",
   "metadata": {},
   "source": [
    "# Export reference set"
   ]
  },
  {
   "cell_type": "code",
   "execution_count": 381,
   "metadata": {},
   "outputs": [],
   "source": [
    "reference_set.to_csv('../data/disease_categorization/evaluation/final_reference.csv')"
   ]
  },
  {
   "cell_type": "code",
   "execution_count": null,
   "metadata": {},
   "outputs": [],
   "source": []
  }
 ],
 "metadata": {
  "kernelspec": {
   "display_name": "Python 3 (ipykernel)",
   "language": "python",
   "name": "python3"
  },
  "language_info": {
   "codemirror_mode": {
    "name": "ipython",
    "version": 3
   },
   "file_extension": ".py",
   "mimetype": "text/x-python",
   "name": "python",
   "nbconvert_exporter": "python",
   "pygments_lexer": "ipython3",
   "version": "3.8.9"
  }
 },
 "nbformat": 4,
 "nbformat_minor": 4
}
