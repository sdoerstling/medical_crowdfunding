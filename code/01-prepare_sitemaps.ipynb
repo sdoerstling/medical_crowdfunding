{
 "cells": [
  {
   "cell_type": "markdown",
   "metadata": {},
   "source": [
    "### Import packages"
   ]
  },
  {
   "cell_type": "code",
   "execution_count": 1,
   "metadata": {},
   "outputs": [],
   "source": [
    "import pandas as pd\n",
    "import datetime\n",
    "import os\n",
    "import xmltodict\n",
    "import urllib.request\n",
    "import gzip\n",
    "import numpy as np\n",
    "import copy"
   ]
  },
  {
   "cell_type": "markdown",
   "metadata": {},
   "source": [
    "### Active sitemaps"
   ]
  },
  {
   "cell_type": "code",
   "execution_count": 2,
   "metadata": {},
   "outputs": [],
   "source": [
    "#read in active sitemaps\n",
    "basepath = '../data/sitemaps/sitemaps_active/'\n",
    "\n",
    "sitemaps_active_list = []\n",
    "\n",
    "for filename in os.listdir(basepath):\n",
    "    if filename.endswith(\".gz\"): \n",
    "        with gzip.open(basepath + filename, 'r') as fd:\n",
    "            gz = fd.read()\n",
    "            sitemaps_active_list.append(xmltodict.parse(gz))"
   ]
  },
  {
   "cell_type": "code",
   "execution_count": 3,
   "metadata": {},
   "outputs": [],
   "source": [
    "#define function to extract info from sitemap\n",
    "def getSitemapInfo(sitemap):\n",
    "    sitemapinfo = []\n",
    "    for i in range(len(sitemap['urlset']['url'])):\n",
    "        url = sitemap['urlset']['url'][i]['loc']\n",
    "        lastmod = sitemap['urlset']['url'][i]['lastmod']\n",
    "        sitemapinfo.append([url, lastmod])\n",
    "    return sitemapinfo"
   ]
  },
  {
   "cell_type": "code",
   "execution_count": 4,
   "metadata": {},
   "outputs": [],
   "source": [
    "#store in dataframe\n",
    "sitemaps_active = pd.DataFrame()\n",
    "for sitemap in sitemaps_active_list:\n",
    "    sitemaps_active = sitemaps_active.append(getSitemapInfo(sitemap))"
   ]
  },
  {
   "cell_type": "code",
   "execution_count": 5,
   "metadata": {},
   "outputs": [],
   "source": [
    "#rename columns\n",
    "sitemaps_active = sitemaps_active.rename(columns={0: \"url\", 1: \"last-mod\"})"
   ]
  },
  {
   "cell_type": "markdown",
   "metadata": {},
   "source": [
    "### Inactive sitemaps"
   ]
  },
  {
   "cell_type": "code",
   "execution_count": 6,
   "metadata": {},
   "outputs": [],
   "source": [
    "#read in inactive sitemaps\n",
    "basepath = '../data/sitemaps/sitemaps_inactive/'\n",
    "\n",
    "sitemaps_inactive_list = []\n",
    "\n",
    "for filename in os.listdir(basepath):\n",
    "    if filename.endswith(\".gz\"): \n",
    "        with gzip.open(basepath + filename, 'r') as fd:\n",
    "            gz = fd.read()\n",
    "            sitemaps_inactive_list.append(xmltodict.parse(gz))"
   ]
  },
  {
   "cell_type": "code",
   "execution_count": 7,
   "metadata": {},
   "outputs": [],
   "source": [
    "#delete first sitemap (corresponds to sitemap35) because it is throwing an index error\n",
    "sitemaps_inactive_list = sitemaps_inactive_list[1:]"
   ]
  },
  {
   "cell_type": "code",
   "execution_count": 8,
   "metadata": {},
   "outputs": [],
   "source": [
    "#store in dataframe\n",
    "sitemaps_inactive = pd.DataFrame()\n",
    "for sitemap in sitemaps_inactive_list:\n",
    "    sitemaps_inactive = sitemaps_inactive.append(getSitemapInfo(sitemap))"
   ]
  },
  {
   "cell_type": "code",
   "execution_count": 9,
   "metadata": {},
   "outputs": [],
   "source": [
    "#rename columns\n",
    "sitemaps_inactive = sitemaps_inactive.rename(columns={0: \"url\", 1: \"last-mod\"})"
   ]
  },
  {
   "cell_type": "markdown",
   "metadata": {},
   "source": [
    "### Combine sitemaps and convert urls to include /f/"
   ]
  },
  {
   "cell_type": "code",
   "execution_count": 10,
   "metadata": {},
   "outputs": [],
   "source": [
    "sitemaps_combined = sitemaps_active.append(sitemaps_inactive)"
   ]
  },
  {
   "cell_type": "code",
   "execution_count": 11,
   "metadata": {},
   "outputs": [],
   "source": [
    "sitemaps_combined_no_fix = sitemaps_combined[sitemaps_combined['url'].str.contains('https://www.gofundme.com/f/')]"
   ]
  },
  {
   "cell_type": "code",
   "execution_count": 12,
   "metadata": {},
   "outputs": [],
   "source": [
    "sitemaps_combined_to_fix = sitemaps_combined[~sitemaps_combined['url'].str.contains('https://www.gofundme.com/f/')]"
   ]
  },
  {
   "cell_type": "code",
   "execution_count": 13,
   "metadata": {},
   "outputs": [],
   "source": [
    "new_urls = copy.deepcopy(sitemaps_combined_to_fix['url'].str.replace('https://www.gofundme.com/', 'https://www.gofundme.com/f/'))"
   ]
  },
  {
   "cell_type": "code",
   "execution_count": 14,
   "metadata": {},
   "outputs": [
    {
     "name": "stderr",
     "output_type": "stream",
     "text": [
      "/opt/anaconda3/lib/python3.7/site-packages/pandas/core/indexing.py:1047: SettingWithCopyWarning: \n",
      "A value is trying to be set on a copy of a slice from a DataFrame.\n",
      "Try using .loc[row_indexer,col_indexer] = value instead\n",
      "\n",
      "See the caveats in the documentation: https://pandas.pydata.org/pandas-docs/stable/user_guide/indexing.html#returning-a-view-versus-a-copy\n",
      "  self.obj[item_labels[indexer[info_axis]]] = value\n"
     ]
    }
   ],
   "source": [
    "sitemaps_combined_to_fix.loc[:,'url'] = new_urls.loc[::]"
   ]
  },
  {
   "cell_type": "code",
   "execution_count": 15,
   "metadata": {},
   "outputs": [],
   "source": [
    "sitemaps_combined = sitemaps_combined_no_fix.append(sitemaps_combined_to_fix)"
   ]
  },
  {
   "cell_type": "code",
   "execution_count": 16,
   "metadata": {},
   "outputs": [],
   "source": [
    "urls_to_fix = []\n",
    "for url in sitemaps_combined['url']:\n",
    "    if 'https://www.gofundme.com/f/' not in url:\n",
    "        urls_to_fix.append(url)"
   ]
  },
  {
   "cell_type": "code",
   "execution_count": 17,
   "metadata": {},
   "outputs": [
    {
     "data": {
      "text/plain": [
       "['http://fundraising.bensfriends.org/1hggp8',\n",
       " 'http://fundraising.bensfriends.org/1hb3fg',\n",
       " 'http://fundraising.bensfriends.org/1hb3fg',\n",
       " 'http://fundraising.bensfriends.org/t64dus',\n",
       " 'http://fundraising.bensfriends.org/t64dus']"
      ]
     },
     "execution_count": 17,
     "metadata": {},
     "output_type": "execute_result"
    }
   ],
   "source": [
    "urls_to_fix"
   ]
  },
  {
   "cell_type": "code",
   "execution_count": 18,
   "metadata": {},
   "outputs": [],
   "source": [
    "sitemaps_combined = sitemaps_combined[~sitemaps_combined['url'].isin(urls_to_fix)]"
   ]
  },
  {
   "cell_type": "code",
   "execution_count": 19,
   "metadata": {},
   "outputs": [],
   "source": [
    "urls_to_fix = []\n",
    "for url in sitemaps_combined['url']:\n",
    "    if 'https://www.gofundme.com/f/' not in url:\n",
    "        urls_to_fix.append(url)"
   ]
  },
  {
   "cell_type": "code",
   "execution_count": 20,
   "metadata": {},
   "outputs": [
    {
     "data": {
      "text/plain": [
       "[]"
      ]
     },
     "execution_count": 20,
     "metadata": {},
     "output_type": "execute_result"
    }
   ],
   "source": [
    "urls_to_fix"
   ]
  },
  {
   "cell_type": "markdown",
   "metadata": {},
   "source": [
    "### Spit combined into chunks of 1000 for scraping and export"
   ]
  },
  {
   "cell_type": "code",
   "execution_count": 21,
   "metadata": {},
   "outputs": [],
   "source": [
    "#randomize order of urls\n",
    "sitemaps_combined = sitemaps_combined.sample(frac=1).reset_index(drop=True)"
   ]
  },
  {
   "cell_type": "code",
   "execution_count": 24,
   "metadata": {},
   "outputs": [],
   "source": [
    "n = 1000  #chunk row size\n",
    "list_df = [sitemaps_combined[i:i+n] for i in range(0,sitemaps_combined.shape[0],n)]"
   ]
  },
  {
   "cell_type": "code",
   "execution_count": 28,
   "metadata": {},
   "outputs": [],
   "source": [
    "for i in range(len(list_df)):\n",
    "    df = list_df[i]\n",
    "    filename = \"../data/sitemaps_combined/sitemaps_combined_\" + str(i) + \".csv\"\n",
    "    df.to_csv(filename)"
   ]
  }
 ],
 "metadata": {
  "kernelspec": {
   "display_name": "Python 3",
   "language": "python",
   "name": "python3"
  },
  "language_info": {
   "codemirror_mode": {
    "name": "ipython",
    "version": 3
   },
   "file_extension": ".py",
   "mimetype": "text/x-python",
   "name": "python",
   "nbconvert_exporter": "python",
   "pygments_lexer": "ipython3",
   "version": "3.7.6"
  }
 },
 "nbformat": 4,
 "nbformat_minor": 4
}
