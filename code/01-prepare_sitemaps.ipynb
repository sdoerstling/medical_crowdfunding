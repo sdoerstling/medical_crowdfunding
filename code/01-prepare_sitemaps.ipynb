{
 "cells": [
  {
   "cell_type": "markdown",
   "metadata": {},
   "source": [
    "### Import packages"
   ]
  },
  {
   "cell_type": "code",
   "execution_count": 1,
   "metadata": {},
   "outputs": [],
   "source": [
    "import pandas as pd\n",
    "import datetime\n",
    "import os\n",
    "import xmltodict\n",
    "import urllib.request\n",
    "import gzip\n",
    "import numpy as np\n",
    "import copy"
   ]
  },
  {
   "cell_type": "markdown",
   "metadata": {},
   "source": [
    "### Sitemaps"
   ]
  },
  {
   "cell_type": "code",
   "execution_count": 2,
   "metadata": {},
   "outputs": [],
   "source": [
    "#read in active sitemaps\n",
    "basepath = '../data/sitemaps/sitemaps_raw/'\n",
    "\n",
    "sitemaps_list = []\n",
    "\n",
    "for filename in os.listdir(basepath):\n",
    "    if filename.endswith(\".gz\"): \n",
    "        with gzip.open(basepath + filename, 'r') as fd:\n",
    "            gz = fd.read()\n",
    "            sitemaps_list.append(xmltodict.parse(gz))"
   ]
  },
  {
   "cell_type": "code",
   "execution_count": 3,
   "metadata": {},
   "outputs": [],
   "source": [
    "#define function to extract info from sitemap\n",
    "def getSitemapInfo(sitemap):\n",
    "    sitemapinfo = []\n",
    "    for i in range(len(sitemap['urlset']['url'])):\n",
    "        url = sitemap['urlset']['url'][i]['loc']\n",
    "        lastmod = sitemap['urlset']['url'][i]['lastmod']\n",
    "        sitemapinfo.append([url, lastmod])\n",
    "    return sitemapinfo"
   ]
  },
  {
   "cell_type": "code",
   "execution_count": 4,
   "metadata": {},
   "outputs": [],
   "source": [
    "#store in dataframe\n",
    "sitemaps = pd.DataFrame()\n",
    "for sitemap in sitemaps_list:\n",
    "    sitemaps = sitemaps.append(getSitemapInfo(sitemap))"
   ]
  },
  {
   "cell_type": "code",
   "execution_count": 5,
   "metadata": {},
   "outputs": [],
   "source": [
    "#rename columns\n",
    "sitemaps = sitemaps.rename(columns={0: \"url\", 1: \"last-mod\"})"
   ]
  },
  {
   "cell_type": "markdown",
   "metadata": {},
   "source": [
    "### Convert urls to include /f/"
   ]
  },
  {
   "cell_type": "code",
   "execution_count": 11,
   "metadata": {},
   "outputs": [],
   "source": [
    "sitemaps_no_fix = sitemaps[sitemaps['url'].str.contains('https://www.gofundme.com/f/')]"
   ]
  },
  {
   "cell_type": "code",
   "execution_count": 12,
   "metadata": {},
   "outputs": [],
   "source": [
    "sitemaps_to_fix = sitemaps[~sitemaps['url'].str.contains('https://www.gofundme.com/f/')]"
   ]
  },
  {
   "cell_type": "code",
   "execution_count": 13,
   "metadata": {},
   "outputs": [],
   "source": [
    "new_urls = copy.deepcopy(sitemaps_to_fix['url'].str.replace('https://www.gofundme.com/', 'https://www.gofundme.com/f/'))"
   ]
  },
  {
   "cell_type": "code",
   "execution_count": 14,
   "metadata": {},
   "outputs": [
    {
     "name": "stderr",
     "output_type": "stream",
     "text": [
      "/opt/anaconda3/lib/python3.7/site-packages/pandas/core/indexing.py:1047: SettingWithCopyWarning: \n",
      "A value is trying to be set on a copy of a slice from a DataFrame.\n",
      "Try using .loc[row_indexer,col_indexer] = value instead\n",
      "\n",
      "See the caveats in the documentation: https://pandas.pydata.org/pandas-docs/stable/user_guide/indexing.html#returning-a-view-versus-a-copy\n",
      "  self.obj[item_labels[indexer[info_axis]]] = value\n"
     ]
    }
   ],
   "source": [
    "sitemaps_to_fix.loc[:,'url'] = new_urls.loc[::]"
   ]
  },
  {
   "cell_type": "code",
   "execution_count": 15,
   "metadata": {},
   "outputs": [],
   "source": [
    "sitemaps = sitemaps_no_fix.append(sitemaps_to_fix)"
   ]
  },
  {
   "cell_type": "code",
   "execution_count": 16,
   "metadata": {},
   "outputs": [],
   "source": [
    "urls_to_fix = []\n",
    "for url in sitemaps['url']:\n",
    "    if 'https://www.gofundme.com/f/' not in url:\n",
    "        urls_to_fix.append(url)"
   ]
  },
  {
   "cell_type": "code",
   "execution_count": 1,
   "metadata": {},
   "outputs": [],
   "source": [
    "#urls_to_fix"
   ]
  },
  {
   "cell_type": "code",
   "execution_count": 18,
   "metadata": {},
   "outputs": [],
   "source": [
    "sitemaps = sitemaps[~sitemaps['url'].isin(urls_to_fix)]"
   ]
  },
  {
   "cell_type": "code",
   "execution_count": 19,
   "metadata": {},
   "outputs": [],
   "source": [
    "urls_to_fix = []\n",
    "for url in sitemaps['url']:\n",
    "    if 'https://www.gofundme.com/f/' not in url:\n",
    "        urls_to_fix.append(url)"
   ]
  },
  {
   "cell_type": "code",
   "execution_count": 20,
   "metadata": {},
   "outputs": [
    {
     "data": {
      "text/plain": [
       "[]"
      ]
     },
     "execution_count": 20,
     "metadata": {},
     "output_type": "execute_result"
    }
   ],
   "source": [
    "urls_to_fix"
   ]
  },
  {
   "cell_type": "markdown",
   "metadata": {},
   "source": [
    "### Spit combined into chunks of 1000 for scraping and export"
   ]
  },
  {
   "cell_type": "code",
   "execution_count": 21,
   "metadata": {},
   "outputs": [],
   "source": [
    "#randomize order of urls\n",
    "sitemaps = sitemaps.sample(frac=1).reset_index(drop=True)"
   ]
  },
  {
   "cell_type": "code",
   "execution_count": 24,
   "metadata": {},
   "outputs": [],
   "source": [
    "n = 1000  #chunk row size\n",
    "list_df = [sitemaps[i:i+n] for i in range(0,sitemaps.shape[0],n)]"
   ]
  },
  {
   "cell_type": "code",
   "execution_count": 28,
   "metadata": {},
   "outputs": [],
   "source": [
    "for i in range(len(list_df)):\n",
    "    df = list_df[i]\n",
    "    filename = \"../data/sitemaps/sitemaps_csv/sitemaps_\" + str(i) + \".csv\"\n",
    "    df.to_csv(filename)"
   ]
  }
 ],
 "metadata": {
  "kernelspec": {
   "display_name": "Python 3",
   "language": "python",
   "name": "python3"
  },
  "language_info": {
   "codemirror_mode": {
    "name": "ipython",
    "version": 3
   },
   "file_extension": ".py",
   "mimetype": "text/x-python",
   "name": "python",
   "nbconvert_exporter": "python",
   "pygments_lexer": "ipython3",
   "version": "3.8.8"
  }
 },
 "nbformat": 4,
 "nbformat_minor": 4
}
