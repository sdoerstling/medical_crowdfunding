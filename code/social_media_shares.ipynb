{
 "cells": [
  {
   "cell_type": "markdown",
   "metadata": {},
   "source": [
    "### Import packages"
   ]
  },
  {
   "cell_type": "code",
   "execution_count": 33,
   "metadata": {},
   "outputs": [],
   "source": [
    "import pandas as pd\n",
    "import numpy as np"
   ]
  },
  {
   "cell_type": "markdown",
   "metadata": {},
   "source": [
    "### Import scraped data"
   ]
  },
  {
   "cell_type": "code",
   "execution_count": 66,
   "metadata": {},
   "outputs": [],
   "source": [
    "one = pd.read_csv('../data/social_media_shares/shares_1.csv')\n",
    "two = pd.read_csv('../data/social_media_shares/shares_2.csv')\n",
    "three_one = pd.read_csv('../data/social_media_shares/shares_3_part1.csv')\n",
    "three_two = pd.read_csv('../data/social_media_shares/shares_3_part2.csv')\n",
    "four = pd.read_csv('../data/social_media_shares/shares_4.csv')\n",
    "five_one = pd.read_csv('../data/social_media_shares/shares_5.csv')\n",
    "five_two = pd.read_csv('../data/social_media_shares/shares_5_part2.csv')\n",
    "six_one = pd.read_csv('../data/social_media_shares/shares_6.csv')\n",
    "six_two = pd.read_csv('../data/social_media_shares/shares_6part2.csv')\n",
    "seven_one = pd.read_csv('../data/social_media_shares/shares_7_part1.csv')\n",
    "seven_two = pd.read_csv('../data/social_media_shares/shares_7_part2.csv')\n",
    "eight_one = pd.read_csv('../data/social_media_shares/shares_8_part1.csv')\n",
    "eight_two = pd.read_csv('../data/social_media_shares/shares_8_part2.csv')\n",
    "nine_one = pd.read_csv('../data/social_media_shares/shares_9_part1.csv')\n",
    "nine_two = pd.read_csv('../data/social_media_shares/shares_9_part2.csv')\n",
    "ten_one = pd.read_csv('../data/social_media_shares/shares_10_part1.csv')\n",
    "ten_two = pd.read_csv('../data/social_media_shares/shares_7_part2.csv')"
   ]
  },
  {
   "cell_type": "markdown",
   "metadata": {},
   "source": [
    "### Clean and merge data"
   ]
  },
  {
   "cell_type": "code",
   "execution_count": 67,
   "metadata": {},
   "outputs": [],
   "source": [
    "df = pd.concat([three_one, three_two, four, five_one, five_two, six_one, six_two, seven_one, seven_two, eight_one, eight_two, nine_one, nine_two, ten_one, ten_two])"
   ]
  },
  {
   "cell_type": "code",
   "execution_count": 68,
   "metadata": {},
   "outputs": [],
   "source": [
    "df.loc[:,'resp'] = [x[1:-1] for x in df['resp']]\n",
    "df.loc[:,'shares'] = [x[2:-2] if x[0:2] == \"['\" else np.nan for x in df['shares']]\n",
    "df.loc[:,'followers'] = [x[2:-2] if x[0:2] == \"['\" else np.nan for x in df['followers']]"
   ]
  },
  {
   "cell_type": "code",
   "execution_count": 69,
   "metadata": {},
   "outputs": [],
   "source": [
    "master = pd.concat([one, two, df])"
   ]
  },
  {
   "cell_type": "code",
   "execution_count": 70,
   "metadata": {},
   "outputs": [
    {
     "data": {
      "text/plain": [
       "(92962, 4)"
      ]
     },
     "execution_count": 70,
     "metadata": {},
     "output_type": "execute_result"
    }
   ],
   "source": [
    "master.shape"
   ]
  },
  {
   "cell_type": "markdown",
   "metadata": {},
   "source": [
    "### Export data"
   ]
  },
  {
   "cell_type": "code",
   "execution_count": 73,
   "metadata": {},
   "outputs": [],
   "source": [
    "master.to_csv('../data/social_media_shares/social_media_shares.csv', index=False)"
   ]
  },
  {
   "cell_type": "markdown",
   "metadata": {},
   "source": []
  }
 ],
 "metadata": {
  "kernelspec": {
   "display_name": "Python 3",
   "language": "python",
   "name": "python3"
  },
  "language_info": {
   "codemirror_mode": {
    "name": "ipython",
    "version": 3
   },
   "file_extension": ".py",
   "mimetype": "text/x-python",
   "name": "python",
   "nbconvert_exporter": "python",
   "pygments_lexer": "ipython3",
   "version": "3.7.6"
  }
 },
 "nbformat": 4,
 "nbformat_minor": 4
}
