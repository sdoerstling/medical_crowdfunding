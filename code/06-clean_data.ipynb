{
 "cells": [
  {
   "cell_type": "markdown",
   "metadata": {},
   "source": [
    "### Import packages"
   ]
  },
  {
   "cell_type": "code",
   "execution_count": 1,
   "metadata": {},
   "outputs": [],
   "source": [
    "#database query\n",
    "import sqlite3\n",
    "import pandas as pd\n",
    "\n",
    "#location\n",
    "import zipcodes\n",
    "\n",
    "#text cleaning\n",
    "from bs4 import BeautifulSoup as bs\n",
    "import re\n",
    "import fasttext\n",
    "\n",
    "#api\n",
    "import requests\n",
    "\n",
    "#misc\n",
    "import numpy as np"
   ]
  },
  {
   "cell_type": "markdown",
   "metadata": {},
   "source": [
    "### Query database"
   ]
  },
  {
   "cell_type": "code",
   "execution_count": 2,
   "metadata": {},
   "outputs": [],
   "source": [
    "conn = sqlite3.connect(\"../data/db/gfm.db\")"
   ]
  },
  {
   "cell_type": "code",
   "execution_count": 3,
   "metadata": {},
   "outputs": [],
   "source": [
    "feed = pd.read_sql_query(\"SELECT * FROM feed_tb\", conn)"
   ]
  },
  {
   "cell_type": "code",
   "execution_count": 4,
   "metadata": {},
   "outputs": [],
   "source": [
    "donation = pd.read_sql_query(\"SELECT * FROM donation_tb\", conn)"
   ]
  },
  {
   "cell_type": "code",
   "execution_count": 5,
   "metadata": {},
   "outputs": [],
   "source": [
    "update = pd.read_sql_query(\"SELECT * FROM update_tb\", conn)"
   ]
  },
  {
   "cell_type": "markdown",
   "metadata": {},
   "source": [
    "### Select columns of interest for analysis"
   ]
  },
  {
   "cell_type": "code",
   "execution_count": 6,
   "metadata": {},
   "outputs": [],
   "source": [
    "cols_to_keep = [\n",
    " 'url',\n",
    " 'donation_count',\n",
    " 'donor_reached_max',\n",
    " 'currencycode', \n",
    " 'current_amount',\n",
    " 'goal_amount',\n",
    " 'fund_name',\n",
    " 'fund_description',\n",
    " 'created_at',\n",
    " 'social_share_last_update',\n",
    " 'city',\n",
    " 'country',\n",
    " 'postal_code',\n",
    " 'is_team'\n",
    "]"
   ]
  },
  {
   "cell_type": "code",
   "execution_count": 7,
   "metadata": {},
   "outputs": [],
   "source": [
    "feed = feed[cols_to_keep]"
   ]
  },
  {
   "cell_type": "markdown",
   "metadata": {},
   "source": [
    "### Remove duplicated urls"
   ]
  },
  {
   "cell_type": "code",
   "execution_count": 8,
   "metadata": {},
   "outputs": [],
   "source": [
    "original_n = feed.shape[0]"
   ]
  },
  {
   "cell_type": "code",
   "execution_count": 9,
   "metadata": {},
   "outputs": [],
   "source": [
    "feed = feed.drop_duplicates('url')"
   ]
  },
  {
   "cell_type": "code",
   "execution_count": 10,
   "metadata": {},
   "outputs": [],
   "source": [
    "duplicated_n_removed = original_n - feed.shape[0]"
   ]
  },
  {
   "cell_type": "markdown",
   "metadata": {},
   "source": [
    "### Extract date variables"
   ]
  },
  {
   "cell_type": "code",
   "execution_count": 11,
   "metadata": {},
   "outputs": [],
   "source": [
    "feed.loc[:,'year'] = [x.split(\"-\")[0] for x in feed['created_at']]"
   ]
  },
  {
   "cell_type": "code",
   "execution_count": 12,
   "metadata": {},
   "outputs": [],
   "source": [
    "feed.loc[:,'month'] = [x.split(\"-\")[1] for x in feed['created_at']]"
   ]
  },
  {
   "cell_type": "markdown",
   "metadata": {},
   "source": [
    "# Clean location data"
   ]
  },
  {
   "cell_type": "markdown",
   "metadata": {},
   "source": [
    "### Clean zip codes"
   ]
  },
  {
   "cell_type": "markdown",
   "metadata": {},
   "source": [
    "#### Inpsect length of zip codes\n",
    "\n",
    "See ZIP code prefixes here: https://en.wikipedia.org/wiki/List_of_ZIP_Code_prefixes"
   ]
  },
  {
   "cell_type": "code",
   "execution_count": 13,
   "metadata": {},
   "outputs": [],
   "source": [
    "feed['postal_code'] = feed['postal_code'].astype(str)"
   ]
  },
  {
   "cell_type": "code",
   "execution_count": 14,
   "metadata": {},
   "outputs": [
    {
     "data": {
      "text/plain": [
       "5     85547\n",
       "4      6996\n",
       "3       224\n",
       "0       101\n",
       "1        24\n",
       "10       11\n",
       "7         7\n",
       "6         6\n",
       "35        5\n",
       "9         3\n",
       "17        3\n",
       "2         3\n",
       "15        3\n",
       "25        3\n",
       "12        3\n",
       "24        3\n",
       "21        3\n",
       "8         2\n",
       "19        2\n",
       "18        2\n",
       "20        2\n",
       "11        2\n",
       "13        2\n",
       "22        1\n",
       "33        1\n",
       "26        1\n",
       "16        1\n",
       "27        1\n",
       "Name: zip_len, dtype: int64"
      ]
     },
     "execution_count": 14,
     "metadata": {},
     "output_type": "execute_result"
    }
   ],
   "source": [
    "feed.loc[:,'zip_len'] = [len(x) for x in feed['postal_code']]\n",
    "feed['zip_len'].value_counts()"
   ]
  },
  {
   "cell_type": "code",
   "execution_count": 15,
   "metadata": {},
   "outputs": [
    {
     "data": {
      "text/plain": [
       "52991           Caguas, PR\n",
       "28076          Bayamon, PR\n",
       "84755            Lajas, PR\n",
       "36151         Aibonito, PR\n",
       "56388    Trujillo Alto, PR\n",
       "72931        St Thomas, VI\n",
       "2902          Guaynabo, PR\n",
       "10783          Bayamon, PR\n",
       "94131         Carolina, PR\n",
       "90376         Aibonito, PR\n",
       "Name: city, dtype: object"
      ]
     },
     "execution_count": 15,
     "metadata": {},
     "output_type": "execute_result"
    }
   ],
   "source": [
    "feed[feed['zip_len'] == 3]['city'].sample(10)"
   ]
  },
  {
   "cell_type": "code",
   "execution_count": 16,
   "metadata": {},
   "outputs": [
    {
     "data": {
      "text/plain": [
       "26526           Gardner, MA\n",
       "84389          Paterson, NJ\n",
       "91267           Danbury, CT\n",
       "34810    Sagamore Beach, MA\n",
       "31294          Brooklyn, CT\n",
       "33710           Windham, ME\n",
       "17303                      \n",
       "10808             Alton, NH\n",
       "12448       New Britain, CT\n",
       "74892       Charlestown, RI\n",
       "Name: city, dtype: object"
      ]
     },
     "execution_count": 16,
     "metadata": {},
     "output_type": "execute_result"
    }
   ],
   "source": [
    "feed[feed['zip_len'] == 4]['city'].sample(10)"
   ]
  },
  {
   "cell_type": "markdown",
   "metadata": {},
   "source": [
    "#### Zfill zip code to 5"
   ]
  },
  {
   "cell_type": "code",
   "execution_count": 17,
   "metadata": {},
   "outputs": [],
   "source": [
    "feed['postal_code'] = feed['postal_code'].str.zfill(5)"
   ]
  },
  {
   "cell_type": "code",
   "execution_count": 18,
   "metadata": {},
   "outputs": [
    {
     "data": {
      "text/plain": [
       "5     92895\n",
       "10       11\n",
       "7         7\n",
       "6         6\n",
       "35        5\n",
       "24        3\n",
       "15        3\n",
       "9         3\n",
       "25        3\n",
       "12        3\n",
       "17        3\n",
       "21        3\n",
       "18        2\n",
       "19        2\n",
       "11        2\n",
       "20        2\n",
       "8         2\n",
       "13        2\n",
       "33        1\n",
       "16        1\n",
       "22        1\n",
       "26        1\n",
       "27        1\n",
       "Name: zip_len, dtype: int64"
      ]
     },
     "execution_count": 18,
     "metadata": {},
     "output_type": "execute_result"
    }
   ],
   "source": [
    "#recalculate zip length, append to dataframe\n",
    "feed.loc[:,'zip_len'] = [len(x) for x in feed['postal_code']]\n",
    "feed['zip_len'].value_counts()"
   ]
  },
  {
   "cell_type": "markdown",
   "metadata": {},
   "source": [
    "#### Inspect and extract additional zip code data"
   ]
  },
  {
   "cell_type": "code",
   "execution_count": 19,
   "metadata": {},
   "outputs": [],
   "source": [
    "#export data to inspect zip codes longer than 5 characters, extract zip codes where appropriate\n",
    "feed.loc[feed['zip_len'] > 5,['url','fund_name','city','postal_code']].to_csv('../data/census/extract_zip.csv', index=False)"
   ]
  },
  {
   "cell_type": "code",
   "execution_count": 20,
   "metadata": {},
   "outputs": [],
   "source": [
    "#import and clean labeled data\n",
    "extract_zip_labeled = pd.read_csv('../data/census/extract_zip_labeled.csv')\n",
    "extract_zip_labeled = extract_zip_labeled[extract_zip_labeled['zip_extract'].notna()]\n",
    "extract_zip_labeled['zip_extract'] = extract_zip_labeled['zip_extract'].astype(int).astype(str).str.zfill(5)"
   ]
  },
  {
   "cell_type": "code",
   "execution_count": 21,
   "metadata": {},
   "outputs": [],
   "source": [
    "#add extracted zip codes to feed data\n",
    "feed = feed.merge(extract_zip_labeled[['url','zip_extract']], on='url', how='left')\n",
    "feed.loc[feed['zip_extract'].notna(),'postal_code'] = feed.loc[feed['zip_extract'].notna(),'zip_extract']"
   ]
  },
  {
   "cell_type": "code",
   "execution_count": 22,
   "metadata": {},
   "outputs": [
    {
     "data": {
      "text/plain": [
       "5     92937\n",
       "7         7\n",
       "6         6\n",
       "35        5\n",
       "15        2\n",
       "33        1\n",
       "12        1\n",
       "11        1\n",
       "9         1\n",
       "8         1\n",
       "Name: zip_len, dtype: int64"
      ]
     },
     "execution_count": 22,
     "metadata": {},
     "output_type": "execute_result"
    }
   ],
   "source": [
    "feed.loc[:,'zip_len'] = [len(x) for x in feed['postal_code']]\n",
    "feed['zip_len'].value_counts()"
   ]
  },
  {
   "cell_type": "markdown",
   "metadata": {},
   "source": [
    "#### Remove zip codes with length > 5"
   ]
  },
  {
   "cell_type": "code",
   "execution_count": 23,
   "metadata": {},
   "outputs": [],
   "source": [
    "starting_n = feed.shape[0]\n",
    "feed = feed[feed['zip_len'] < 6]\n",
    "zip_code_greater_5_n_removed = starting_n - feed.shape[0]"
   ]
  },
  {
   "cell_type": "markdown",
   "metadata": {},
   "source": [
    "### Add county data"
   ]
  },
  {
   "cell_type": "code",
   "execution_count": 51,
   "metadata": {},
   "outputs": [],
   "source": [
    "#HUD zip to county\n",
    "hud = pd.read_excel('../data/census/ZIP_COUNTY_122020.xlsx')[['ZIP','COUNTY','TOT_RATIO']]\n",
    "\n",
    "#clean hud data\n",
    "#rename columns\n",
    "hud.columns = ['zip','state_county_fips','tot_ratio']\n",
    "\n",
    "#convert data to strings, fill zip code with leading zeros\n",
    "hud['zip'] = hud['zip'].astype(str).str.zfill(5)\n",
    "hud['state_county_fips'] = hud['state_county_fips'].astype(str).str.zfill(5)"
   ]
  },
  {
   "cell_type": "code",
   "execution_count": 52,
   "metadata": {},
   "outputs": [
    {
     "data": {
      "text/plain": [
       "(54194, 3)"
      ]
     },
     "execution_count": 52,
     "metadata": {},
     "output_type": "execute_result"
    }
   ],
   "source": [
    "hud.shape"
   ]
  },
  {
   "cell_type": "code",
   "execution_count": 53,
   "metadata": {},
   "outputs": [
    {
     "data": {
      "text/plain": [
       "39455"
      ]
     },
     "execution_count": 53,
     "metadata": {},
     "output_type": "execute_result"
    }
   ],
   "source": [
    "hud['zip'].nunique()"
   ]
  },
  {
   "cell_type": "code",
   "execution_count": 54,
   "metadata": {},
   "outputs": [],
   "source": [
    "#some zip codes map to multiple counties\n",
    "#match zip code to the county that contains the highest proportion of that zip's total addresses\n",
    "hud = hud.sort_values(by='tot_ratio', ascending=False)\n",
    "hud = hud.drop_duplicates(subset='zip', keep=\"first\")"
   ]
  },
  {
   "cell_type": "code",
   "execution_count": 55,
   "metadata": {},
   "outputs": [
    {
     "data": {
      "text/plain": [
       "(39455, 3)"
      ]
     },
     "execution_count": 55,
     "metadata": {},
     "output_type": "execute_result"
    }
   ],
   "source": [
    "hud.shape"
   ]
  },
  {
   "cell_type": "code",
   "execution_count": 56,
   "metadata": {},
   "outputs": [],
   "source": [
    "#merge hud data with feed\n",
    "feed = feed.merge(hud, left_on='postal_code', right_on='zip', how='left')"
   ]
  },
  {
   "cell_type": "code",
   "execution_count": 57,
   "metadata": {},
   "outputs": [
    {
     "data": {
      "text/plain": [
       "396"
      ]
     },
     "execution_count": 57,
     "metadata": {},
     "output_type": "execute_result"
    }
   ],
   "source": [
    "feed['zip'].isna().sum()"
   ]
  },
  {
   "cell_type": "code",
   "execution_count": 58,
   "metadata": {},
   "outputs": [
    {
     "data": {
      "text/plain": [
       "19       Babson Park, MA\n",
       "1131                    \n",
       "1369                    \n",
       "1431                 FPO\n",
       "1655                    \n",
       "1787                    \n",
       "1858                    \n",
       "1862           Miami, FL\n",
       "2182             APO, US\n",
       "2361                    \n",
       "2461                    \n",
       "2784       United States\n",
       "3547      Cincinnati, OH\n",
       "3752       Arlington, VA\n",
       "3790                    \n",
       "3885                    \n",
       "3965                    \n",
       "4187       Henderson, TX\n",
       "4441                    \n",
       "4482    Far Rockaway, NY\n",
       "Name: city, dtype: object"
      ]
     },
     "execution_count": 58,
     "metadata": {},
     "output_type": "execute_result"
    }
   ],
   "source": [
    "feed[feed['zip'].isna()]['city'].head(20)"
   ]
  },
  {
   "cell_type": "code",
   "execution_count": 59,
   "metadata": {},
   "outputs": [
    {
     "data": {
      "text/plain": [
       "2016    0.320707\n",
       "2020    0.209596\n",
       "2019    0.143939\n",
       "2015    0.108586\n",
       "2018    0.095960\n",
       "2017    0.068182\n",
       "2014    0.042929\n",
       "2013    0.007576\n",
       "2011    0.002525\n",
       "Name: year, dtype: float64"
      ]
     },
     "execution_count": 59,
     "metadata": {},
     "output_type": "execute_result"
    }
   ],
   "source": [
    "feed[feed['zip'].isna()]['year'].value_counts(normalize=True)"
   ]
  },
  {
   "cell_type": "markdown",
   "metadata": {},
   "source": [
    "There is no clear systematic reason for unmapped zip codes. We will exclude these."
   ]
  },
  {
   "cell_type": "markdown",
   "metadata": {},
   "source": [
    "#### Remove unmapped zip codes"
   ]
  },
  {
   "cell_type": "code",
   "execution_count": 60,
   "metadata": {},
   "outputs": [],
   "source": [
    "starting_n = feed.shape[0]\n",
    "feed = feed[feed['zip'].notna()]\n",
    "unmapped_zip_n_removed = starting_n - feed.shape[0]"
   ]
  },
  {
   "cell_type": "code",
   "execution_count": 61,
   "metadata": {},
   "outputs": [
    {
     "data": {
      "text/plain": [
       "0"
      ]
     },
     "execution_count": 61,
     "metadata": {},
     "output_type": "execute_result"
    }
   ],
   "source": [
    "feed['state_county_fips'].isna().sum()"
   ]
  },
  {
   "cell_type": "markdown",
   "metadata": {},
   "source": [
    "### Get census data\n",
    "- Census API: American Community Survey 2019 5 year estimates, Data Profile API (https://www.census.gov/data/developers/data-sets/acs-5year.html)\n",
    "- Data annotation reference: https://www.census.gov/data/developers/data-sets/acs-1year/notes-on-acs-estimate-and-annotation-values.html"
   ]
  },
  {
   "cell_type": "code",
   "execution_count": 62,
   "metadata": {},
   "outputs": [],
   "source": [
    "#import list of variables\n",
    "variable_df = pd.read_csv('../data/census/acs_variables.csv')\n",
    "variables = variable_df['variable_call'].to_list()\n",
    "vars_to_get = ','.join(variables)"
   ]
  },
  {
   "cell_type": "code",
   "execution_count": 63,
   "metadata": {},
   "outputs": [],
   "source": [
    "#census api key\n",
    "import sys\n",
    "sys.path.append('../src/')\n",
    "import tokens\n",
    "\n",
    "census_key = tokens.CENSUS_KEY"
   ]
  },
  {
   "cell_type": "code",
   "execution_count": 64,
   "metadata": {},
   "outputs": [],
   "source": [
    "#census api call\n",
    "base_request = (\"https://api.census.gov/data/2019/acs/acs5/profile?get=NAME,\"+\n",
    "                    vars_to_get+\n",
    "                    \"&for=county:*&in=state:*&key=\")\n",
    "\n",
    "# zip code tabulation area\n",
    "# base_request = (\"https://api.census.gov/data/2019/acs/acs5/profile?get=NAME,\"+\n",
    "#                     vars_to_get+\n",
    "#                     \"&for=zip%20code%20tabulation%20area:*&in=state:*&key=\")\n",
    "\n",
    "\n",
    "full_request = base_request + census_key\n",
    "\n",
    "r = requests.get(full_request)\n",
    "r_json = r.json()\n",
    "\n",
    "census = pd.DataFrame(data=r_json[1:][:], columns=r_json[0][:])\n",
    "new_names = dict(zip(variable_df['variable_call'].to_list(), variable_df['variable_label'].to_list()))\n",
    "census.rename(columns=new_names, inplace=True)"
   ]
  },
  {
   "cell_type": "code",
   "execution_count": 65,
   "metadata": {},
   "outputs": [],
   "source": [
    "census['state_county_fips'] = census['state'] + census['county']"
   ]
  },
  {
   "cell_type": "code",
   "execution_count": 66,
   "metadata": {},
   "outputs": [
    {
     "data": {
      "text/html": [
       "<div>\n",
       "<style scoped>\n",
       "    .dataframe tbody tr th:only-of-type {\n",
       "        vertical-align: middle;\n",
       "    }\n",
       "\n",
       "    .dataframe tbody tr th {\n",
       "        vertical-align: top;\n",
       "    }\n",
       "\n",
       "    .dataframe thead th {\n",
       "        text-align: right;\n",
       "    }\n",
       "</style>\n",
       "<table border=\"1\" class=\"dataframe\">\n",
       "  <thead>\n",
       "    <tr style=\"text-align: right;\">\n",
       "      <th></th>\n",
       "      <th>count</th>\n",
       "      <th>mean</th>\n",
       "      <th>std</th>\n",
       "      <th>min</th>\n",
       "      <th>25%</th>\n",
       "      <th>50%</th>\n",
       "      <th>75%</th>\n",
       "      <th>max</th>\n",
       "    </tr>\n",
       "  </thead>\n",
       "  <tbody>\n",
       "    <tr>\n",
       "      <th>total_population</th>\n",
       "      <td>3220.0</td>\n",
       "      <td>101868.398137</td>\n",
       "      <td>3.273446e+05</td>\n",
       "      <td>66.0</td>\n",
       "      <td>11193.750</td>\n",
       "      <td>25946.00</td>\n",
       "      <td>66723.75</td>\n",
       "      <td>10081570.0</td>\n",
       "    </tr>\n",
       "    <tr>\n",
       "      <th>percent_female</th>\n",
       "      <td>3220.0</td>\n",
       "      <td>49.963354</td>\n",
       "      <td>2.348955e+00</td>\n",
       "      <td>27.3</td>\n",
       "      <td>49.400</td>\n",
       "      <td>50.40</td>\n",
       "      <td>51.20</td>\n",
       "      <td>57.2</td>\n",
       "    </tr>\n",
       "    <tr>\n",
       "      <th>unemployment_rate</th>\n",
       "      <td>3220.0</td>\n",
       "      <td>5.572764</td>\n",
       "      <td>3.361886e+00</td>\n",
       "      <td>0.0</td>\n",
       "      <td>3.700</td>\n",
       "      <td>5.00</td>\n",
       "      <td>6.60</td>\n",
       "      <td>34.1</td>\n",
       "    </tr>\n",
       "    <tr>\n",
       "      <th>median_income</th>\n",
       "      <td>3220.0</td>\n",
       "      <td>52648.046584</td>\n",
       "      <td>1.498983e+04</td>\n",
       "      <td>12441.0</td>\n",
       "      <td>43524.000</td>\n",
       "      <td>51485.50</td>\n",
       "      <td>59519.25</td>\n",
       "      <td>142299.0</td>\n",
       "    </tr>\n",
       "    <tr>\n",
       "      <th>percent_poverty</th>\n",
       "      <td>3220.0</td>\n",
       "      <td>11.602609</td>\n",
       "      <td>7.504720e+00</td>\n",
       "      <td>0.0</td>\n",
       "      <td>7.100</td>\n",
       "      <td>10.00</td>\n",
       "      <td>13.80</td>\n",
       "      <td>59.9</td>\n",
       "    </tr>\n",
       "    <tr>\n",
       "      <th>no_health_insurance</th>\n",
       "      <td>3220.0</td>\n",
       "      <td>9.549627</td>\n",
       "      <td>5.086483e+00</td>\n",
       "      <td>0.0</td>\n",
       "      <td>5.700</td>\n",
       "      <td>8.60</td>\n",
       "      <td>12.00</td>\n",
       "      <td>46.3</td>\n",
       "    </tr>\n",
       "    <tr>\n",
       "      <th>public_health_insurance</th>\n",
       "      <td>3220.0</td>\n",
       "      <td>40.109565</td>\n",
       "      <td>9.899794e+00</td>\n",
       "      <td>13.5</td>\n",
       "      <td>33.300</td>\n",
       "      <td>39.70</td>\n",
       "      <td>45.80</td>\n",
       "      <td>80.3</td>\n",
       "    </tr>\n",
       "    <tr>\n",
       "      <th>private_health_insurance</th>\n",
       "      <td>3220.0</td>\n",
       "      <td>64.686149</td>\n",
       "      <td>1.155693e+01</td>\n",
       "      <td>13.3</td>\n",
       "      <td>58.100</td>\n",
       "      <td>65.90</td>\n",
       "      <td>72.90</td>\n",
       "      <td>92.7</td>\n",
       "    </tr>\n",
       "    <tr>\n",
       "      <th>home_owners</th>\n",
       "      <td>3220.0</td>\n",
       "      <td>71.556708</td>\n",
       "      <td>8.306971e+00</td>\n",
       "      <td>0.0</td>\n",
       "      <td>67.500</td>\n",
       "      <td>72.80</td>\n",
       "      <td>77.10</td>\n",
       "      <td>93.1</td>\n",
       "    </tr>\n",
       "    <tr>\n",
       "      <th>percent_1_1.5_per_room</th>\n",
       "      <td>3220.0</td>\n",
       "      <td>1.745776</td>\n",
       "      <td>1.547206e+00</td>\n",
       "      <td>0.0</td>\n",
       "      <td>0.900</td>\n",
       "      <td>1.40</td>\n",
       "      <td>2.10</td>\n",
       "      <td>21.5</td>\n",
       "    </tr>\n",
       "    <tr>\n",
       "      <th>more_1.5_per_room</th>\n",
       "      <td>3220.0</td>\n",
       "      <td>0.686304</td>\n",
       "      <td>1.072084e+00</td>\n",
       "      <td>0.0</td>\n",
       "      <td>0.200</td>\n",
       "      <td>0.50</td>\n",
       "      <td>0.80</td>\n",
       "      <td>25.3</td>\n",
       "    </tr>\n",
       "    <tr>\n",
       "      <th>renter_occupied</th>\n",
       "      <td>3220.0</td>\n",
       "      <td>28.443323</td>\n",
       "      <td>8.306968e+00</td>\n",
       "      <td>6.9</td>\n",
       "      <td>22.900</td>\n",
       "      <td>27.20</td>\n",
       "      <td>32.50</td>\n",
       "      <td>100.0</td>\n",
       "    </tr>\n",
       "    <tr>\n",
       "      <th>no_car</th>\n",
       "      <td>3220.0</td>\n",
       "      <td>6.508665</td>\n",
       "      <td>4.677455e+00</td>\n",
       "      <td>0.0</td>\n",
       "      <td>4.200</td>\n",
       "      <td>5.70</td>\n",
       "      <td>7.70</td>\n",
       "      <td>88.0</td>\n",
       "    </tr>\n",
       "    <tr>\n",
       "      <th>single_mom</th>\n",
       "      <td>3142.0</td>\n",
       "      <td>4.407670</td>\n",
       "      <td>1.698874e+00</td>\n",
       "      <td>0.0</td>\n",
       "      <td>3.300</td>\n",
       "      <td>4.20</td>\n",
       "      <td>5.10</td>\n",
       "      <td>28.4</td>\n",
       "    </tr>\n",
       "    <tr>\n",
       "      <th>single_dad</th>\n",
       "      <td>3142.0</td>\n",
       "      <td>1.315659</td>\n",
       "      <td>7.522501e-01</td>\n",
       "      <td>0.0</td>\n",
       "      <td>0.900</td>\n",
       "      <td>1.30</td>\n",
       "      <td>1.60</td>\n",
       "      <td>16.8</td>\n",
       "    </tr>\n",
       "    <tr>\n",
       "      <th>home_median_value</th>\n",
       "      <td>3220.0</td>\n",
       "      <td>-261649.202484</td>\n",
       "      <td>1.661632e+07</td>\n",
       "      <td>-666666666.0</td>\n",
       "      <td>96875.000</td>\n",
       "      <td>126000.00</td>\n",
       "      <td>173725.00</td>\n",
       "      <td>1097800.0</td>\n",
       "    </tr>\n",
       "    <tr>\n",
       "      <th>ed_percent_highschool</th>\n",
       "      <td>3142.0</td>\n",
       "      <td>7.734055</td>\n",
       "      <td>4.469371e+00</td>\n",
       "      <td>0.0</td>\n",
       "      <td>4.900</td>\n",
       "      <td>6.40</td>\n",
       "      <td>9.20</td>\n",
       "      <td>42.7</td>\n",
       "    </tr>\n",
       "    <tr>\n",
       "      <th>ed_percent_bachelors</th>\n",
       "      <td>3142.0</td>\n",
       "      <td>86.947899</td>\n",
       "      <td>6.262850e+00</td>\n",
       "      <td>26.4</td>\n",
       "      <td>83.300</td>\n",
       "      <td>88.30</td>\n",
       "      <td>91.50</td>\n",
       "      <td>98.9</td>\n",
       "    </tr>\n",
       "    <tr>\n",
       "      <th>has_internet</th>\n",
       "      <td>3142.0</td>\n",
       "      <td>85.433291</td>\n",
       "      <td>6.333292e+00</td>\n",
       "      <td>43.2</td>\n",
       "      <td>82.100</td>\n",
       "      <td>86.30</td>\n",
       "      <td>89.70</td>\n",
       "      <td>98.3</td>\n",
       "    </tr>\n",
       "    <tr>\n",
       "      <th>percent_less_10k</th>\n",
       "      <td>3220.0</td>\n",
       "      <td>7.512671</td>\n",
       "      <td>4.799767e+00</td>\n",
       "      <td>0.0</td>\n",
       "      <td>4.700</td>\n",
       "      <td>6.40</td>\n",
       "      <td>8.70</td>\n",
       "      <td>41.1</td>\n",
       "    </tr>\n",
       "    <tr>\n",
       "      <th>percent_10k_15k</th>\n",
       "      <td>3220.0</td>\n",
       "      <td>5.682547</td>\n",
       "      <td>2.525219e+00</td>\n",
       "      <td>0.0</td>\n",
       "      <td>4.000</td>\n",
       "      <td>5.30</td>\n",
       "      <td>6.90</td>\n",
       "      <td>25.2</td>\n",
       "    </tr>\n",
       "    <tr>\n",
       "      <th>percent_15k_25k</th>\n",
       "      <td>3220.0</td>\n",
       "      <td>11.267888</td>\n",
       "      <td>3.599635e+00</td>\n",
       "      <td>0.0</td>\n",
       "      <td>8.900</td>\n",
       "      <td>11.00</td>\n",
       "      <td>13.30</td>\n",
       "      <td>31.6</td>\n",
       "    </tr>\n",
       "    <tr>\n",
       "      <th>percent_25k_35k</th>\n",
       "      <td>3220.0</td>\n",
       "      <td>10.696180</td>\n",
       "      <td>2.574463e+00</td>\n",
       "      <td>0.0</td>\n",
       "      <td>9.200</td>\n",
       "      <td>10.70</td>\n",
       "      <td>12.20</td>\n",
       "      <td>28.3</td>\n",
       "    </tr>\n",
       "    <tr>\n",
       "      <th>percent_white</th>\n",
       "      <td>3220.0</td>\n",
       "      <td>82.463354</td>\n",
       "      <td>1.721301e+01</td>\n",
       "      <td>3.6</td>\n",
       "      <td>75.500</td>\n",
       "      <td>89.15</td>\n",
       "      <td>94.80</td>\n",
       "      <td>100.0</td>\n",
       "    </tr>\n",
       "    <tr>\n",
       "      <th>percent_under_5</th>\n",
       "      <td>3220.0</td>\n",
       "      <td>5.782174</td>\n",
       "      <td>1.266170e+00</td>\n",
       "      <td>0.4</td>\n",
       "      <td>5.000</td>\n",
       "      <td>5.75</td>\n",
       "      <td>6.40</td>\n",
       "      <td>21.4</td>\n",
       "    </tr>\n",
       "    <tr>\n",
       "      <th>percent_5_to_9</th>\n",
       "      <td>3220.0</td>\n",
       "      <td>6.103261</td>\n",
       "      <td>1.239068e+00</td>\n",
       "      <td>0.0</td>\n",
       "      <td>5.400</td>\n",
       "      <td>6.10</td>\n",
       "      <td>6.80</td>\n",
       "      <td>13.4</td>\n",
       "    </tr>\n",
       "    <tr>\n",
       "      <th>percent_10_to_14</th>\n",
       "      <td>3220.0</td>\n",
       "      <td>6.416584</td>\n",
       "      <td>1.221641e+00</td>\n",
       "      <td>0.0</td>\n",
       "      <td>5.700</td>\n",
       "      <td>6.40</td>\n",
       "      <td>7.00</td>\n",
       "      <td>16.5</td>\n",
       "    </tr>\n",
       "    <tr>\n",
       "      <th>percent_15_to_19</th>\n",
       "      <td>3220.0</td>\n",
       "      <td>6.443944</td>\n",
       "      <td>1.438624e+00</td>\n",
       "      <td>0.0</td>\n",
       "      <td>5.700</td>\n",
       "      <td>6.30</td>\n",
       "      <td>7.00</td>\n",
       "      <td>24.2</td>\n",
       "    </tr>\n",
       "    <tr>\n",
       "      <th>percent_20_to_24</th>\n",
       "      <td>3220.0</td>\n",
       "      <td>6.152671</td>\n",
       "      <td>2.339110e+00</td>\n",
       "      <td>0.0</td>\n",
       "      <td>5.100</td>\n",
       "      <td>5.70</td>\n",
       "      <td>6.50</td>\n",
       "      <td>27.0</td>\n",
       "    </tr>\n",
       "    <tr>\n",
       "      <th>percent_25_to_34</th>\n",
       "      <td>3220.0</td>\n",
       "      <td>11.849720</td>\n",
       "      <td>2.245203e+00</td>\n",
       "      <td>3.4</td>\n",
       "      <td>10.500</td>\n",
       "      <td>11.60</td>\n",
       "      <td>13.00</td>\n",
       "      <td>27.2</td>\n",
       "    </tr>\n",
       "    <tr>\n",
       "      <th>percent_35_to_44</th>\n",
       "      <td>3220.0</td>\n",
       "      <td>11.615435</td>\n",
       "      <td>1.533797e+00</td>\n",
       "      <td>4.0</td>\n",
       "      <td>10.775</td>\n",
       "      <td>11.60</td>\n",
       "      <td>12.40</td>\n",
       "      <td>19.2</td>\n",
       "    </tr>\n",
       "    <tr>\n",
       "      <th>percent_45_to_54</th>\n",
       "      <td>3220.0</td>\n",
       "      <td>12.630776</td>\n",
       "      <td>1.505958e+00</td>\n",
       "      <td>0.0</td>\n",
       "      <td>11.800</td>\n",
       "      <td>12.80</td>\n",
       "      <td>13.60</td>\n",
       "      <td>23.2</td>\n",
       "    </tr>\n",
       "    <tr>\n",
       "      <th>percent_55_to_59</th>\n",
       "      <td>3220.0</td>\n",
       "      <td>7.186491</td>\n",
       "      <td>1.250772e+00</td>\n",
       "      <td>1.4</td>\n",
       "      <td>6.500</td>\n",
       "      <td>7.20</td>\n",
       "      <td>7.80</td>\n",
       "      <td>33.3</td>\n",
       "    </tr>\n",
       "    <tr>\n",
       "      <th>percent_60_to_64</th>\n",
       "      <td>3220.0</td>\n",
       "      <td>7.017981</td>\n",
       "      <td>1.404627e+00</td>\n",
       "      <td>1.4</td>\n",
       "      <td>6.200</td>\n",
       "      <td>6.90</td>\n",
       "      <td>7.70</td>\n",
       "      <td>18.5</td>\n",
       "    </tr>\n",
       "    <tr>\n",
       "      <th>percent_65_to_74</th>\n",
       "      <td>3220.0</td>\n",
       "      <td>10.800621</td>\n",
       "      <td>2.615938e+00</td>\n",
       "      <td>1.8</td>\n",
       "      <td>9.200</td>\n",
       "      <td>10.50</td>\n",
       "      <td>12.00</td>\n",
       "      <td>33.8</td>\n",
       "    </tr>\n",
       "    <tr>\n",
       "      <th>percent_75_to_84</th>\n",
       "      <td>3220.0</td>\n",
       "      <td>5.745559</td>\n",
       "      <td>1.719971e+00</td>\n",
       "      <td>0.8</td>\n",
       "      <td>4.700</td>\n",
       "      <td>5.60</td>\n",
       "      <td>6.70</td>\n",
       "      <td>18.6</td>\n",
       "    </tr>\n",
       "    <tr>\n",
       "      <th>percent_85_over</th>\n",
       "      <td>3220.0</td>\n",
       "      <td>2.256056</td>\n",
       "      <td>9.142162e-01</td>\n",
       "      <td>0.0</td>\n",
       "      <td>1.700</td>\n",
       "      <td>2.10</td>\n",
       "      <td>2.70</td>\n",
       "      <td>8.0</td>\n",
       "    </tr>\n",
       "    <tr>\n",
       "      <th>percent_65_and_over</th>\n",
       "      <td>3220.0</td>\n",
       "      <td>18.803292</td>\n",
       "      <td>4.616675e+00</td>\n",
       "      <td>3.2</td>\n",
       "      <td>15.900</td>\n",
       "      <td>18.50</td>\n",
       "      <td>21.20</td>\n",
       "      <td>56.7</td>\n",
       "    </tr>\n",
       "    <tr>\n",
       "      <th>percent_18_and_over</th>\n",
       "      <td>3220.0</td>\n",
       "      <td>77.813944</td>\n",
       "      <td>3.502051e+00</td>\n",
       "      <td>58.2</td>\n",
       "      <td>76.000</td>\n",
       "      <td>77.80</td>\n",
       "      <td>79.90</td>\n",
       "      <td>98.5</td>\n",
       "    </tr>\n",
       "    <tr>\n",
       "      <th>median_age</th>\n",
       "      <td>3220.0</td>\n",
       "      <td>41.435466</td>\n",
       "      <td>5.361130e+00</td>\n",
       "      <td>22.3</td>\n",
       "      <td>38.300</td>\n",
       "      <td>41.30</td>\n",
       "      <td>44.50</td>\n",
       "      <td>67.4</td>\n",
       "    </tr>\n",
       "    <tr>\n",
       "      <th>percent_black</th>\n",
       "      <td>3220.0</td>\n",
       "      <td>9.149814</td>\n",
       "      <td>1.461700e+01</td>\n",
       "      <td>0.0</td>\n",
       "      <td>0.700</td>\n",
       "      <td>2.40</td>\n",
       "      <td>10.30</td>\n",
       "      <td>87.2</td>\n",
       "    </tr>\n",
       "    <tr>\n",
       "      <th>percent_hispanic_latino</th>\n",
       "      <td>3220.0</td>\n",
       "      <td>11.580528</td>\n",
       "      <td>1.939089e+01</td>\n",
       "      <td>0.0</td>\n",
       "      <td>2.300</td>\n",
       "      <td>4.40</td>\n",
       "      <td>10.40</td>\n",
       "      <td>100.0</td>\n",
       "    </tr>\n",
       "    <tr>\n",
       "      <th>percent_public_assist</th>\n",
       "      <td>3220.0</td>\n",
       "      <td>2.403168</td>\n",
       "      <td>2.354228e+00</td>\n",
       "      <td>0.0</td>\n",
       "      <td>1.300</td>\n",
       "      <td>1.90</td>\n",
       "      <td>2.90</td>\n",
       "      <td>41.8</td>\n",
       "    </tr>\n",
       "    <tr>\n",
       "      <th>percent_mgmt_art_sci</th>\n",
       "      <td>3220.0</td>\n",
       "      <td>32.214161</td>\n",
       "      <td>6.743300e+00</td>\n",
       "      <td>3.8</td>\n",
       "      <td>27.700</td>\n",
       "      <td>31.30</td>\n",
       "      <td>35.60</td>\n",
       "      <td>71.4</td>\n",
       "    </tr>\n",
       "    <tr>\n",
       "      <th>percent_vacant_units</th>\n",
       "      <td>3220.0</td>\n",
       "      <td>19.128230</td>\n",
       "      <td>1.126307e+01</td>\n",
       "      <td>3.0</td>\n",
       "      <td>11.200</td>\n",
       "      <td>16.70</td>\n",
       "      <td>24.20</td>\n",
       "      <td>87.2</td>\n",
       "    </tr>\n",
       "    <tr>\n",
       "      <th>state</th>\n",
       "      <td>3220.0</td>\n",
       "      <td>31.290683</td>\n",
       "      <td>1.627721e+01</td>\n",
       "      <td>1.0</td>\n",
       "      <td>19.000</td>\n",
       "      <td>30.00</td>\n",
       "      <td>46.00</td>\n",
       "      <td>72.0</td>\n",
       "    </tr>\n",
       "    <tr>\n",
       "      <th>county</th>\n",
       "      <td>3220.0</td>\n",
       "      <td>102.922050</td>\n",
       "      <td>1.066938e+02</td>\n",
       "      <td>1.0</td>\n",
       "      <td>35.000</td>\n",
       "      <td>79.00</td>\n",
       "      <td>133.00</td>\n",
       "      <td>840.0</td>\n",
       "    </tr>\n",
       "    <tr>\n",
       "      <th>state_county_fips</th>\n",
       "      <td>3220.0</td>\n",
       "      <td>31393.605280</td>\n",
       "      <td>1.629208e+04</td>\n",
       "      <td>1001.0</td>\n",
       "      <td>19032.500</td>\n",
       "      <td>30024.00</td>\n",
       "      <td>46105.50</td>\n",
       "      <td>72153.0</td>\n",
       "    </tr>\n",
       "  </tbody>\n",
       "</table>\n",
       "</div>"
      ],
      "text/plain": [
       "                           count           mean           std          min  \\\n",
       "total_population          3220.0  101868.398137  3.273446e+05         66.0   \n",
       "percent_female            3220.0      49.963354  2.348955e+00         27.3   \n",
       "unemployment_rate         3220.0       5.572764  3.361886e+00          0.0   \n",
       "median_income             3220.0   52648.046584  1.498983e+04      12441.0   \n",
       "percent_poverty           3220.0      11.602609  7.504720e+00          0.0   \n",
       "no_health_insurance       3220.0       9.549627  5.086483e+00          0.0   \n",
       "public_health_insurance   3220.0      40.109565  9.899794e+00         13.5   \n",
       "private_health_insurance  3220.0      64.686149  1.155693e+01         13.3   \n",
       "home_owners               3220.0      71.556708  8.306971e+00          0.0   \n",
       "percent_1_1.5_per_room    3220.0       1.745776  1.547206e+00          0.0   \n",
       "more_1.5_per_room         3220.0       0.686304  1.072084e+00          0.0   \n",
       "renter_occupied           3220.0      28.443323  8.306968e+00          6.9   \n",
       "no_car                    3220.0       6.508665  4.677455e+00          0.0   \n",
       "single_mom                3142.0       4.407670  1.698874e+00          0.0   \n",
       "single_dad                3142.0       1.315659  7.522501e-01          0.0   \n",
       "home_median_value         3220.0 -261649.202484  1.661632e+07 -666666666.0   \n",
       "ed_percent_highschool     3142.0       7.734055  4.469371e+00          0.0   \n",
       "ed_percent_bachelors      3142.0      86.947899  6.262850e+00         26.4   \n",
       "has_internet              3142.0      85.433291  6.333292e+00         43.2   \n",
       "percent_less_10k          3220.0       7.512671  4.799767e+00          0.0   \n",
       "percent_10k_15k           3220.0       5.682547  2.525219e+00          0.0   \n",
       "percent_15k_25k           3220.0      11.267888  3.599635e+00          0.0   \n",
       "percent_25k_35k           3220.0      10.696180  2.574463e+00          0.0   \n",
       "percent_white             3220.0      82.463354  1.721301e+01          3.6   \n",
       "percent_under_5           3220.0       5.782174  1.266170e+00          0.4   \n",
       "percent_5_to_9            3220.0       6.103261  1.239068e+00          0.0   \n",
       "percent_10_to_14          3220.0       6.416584  1.221641e+00          0.0   \n",
       "percent_15_to_19          3220.0       6.443944  1.438624e+00          0.0   \n",
       "percent_20_to_24          3220.0       6.152671  2.339110e+00          0.0   \n",
       "percent_25_to_34          3220.0      11.849720  2.245203e+00          3.4   \n",
       "percent_35_to_44          3220.0      11.615435  1.533797e+00          4.0   \n",
       "percent_45_to_54          3220.0      12.630776  1.505958e+00          0.0   \n",
       "percent_55_to_59          3220.0       7.186491  1.250772e+00          1.4   \n",
       "percent_60_to_64          3220.0       7.017981  1.404627e+00          1.4   \n",
       "percent_65_to_74          3220.0      10.800621  2.615938e+00          1.8   \n",
       "percent_75_to_84          3220.0       5.745559  1.719971e+00          0.8   \n",
       "percent_85_over           3220.0       2.256056  9.142162e-01          0.0   \n",
       "percent_65_and_over       3220.0      18.803292  4.616675e+00          3.2   \n",
       "percent_18_and_over       3220.0      77.813944  3.502051e+00         58.2   \n",
       "median_age                3220.0      41.435466  5.361130e+00         22.3   \n",
       "percent_black             3220.0       9.149814  1.461700e+01          0.0   \n",
       "percent_hispanic_latino   3220.0      11.580528  1.939089e+01          0.0   \n",
       "percent_public_assist     3220.0       2.403168  2.354228e+00          0.0   \n",
       "percent_mgmt_art_sci      3220.0      32.214161  6.743300e+00          3.8   \n",
       "percent_vacant_units      3220.0      19.128230  1.126307e+01          3.0   \n",
       "state                     3220.0      31.290683  1.627721e+01          1.0   \n",
       "county                    3220.0     102.922050  1.066938e+02          1.0   \n",
       "state_county_fips         3220.0   31393.605280  1.629208e+04       1001.0   \n",
       "\n",
       "                                25%        50%        75%         max  \n",
       "total_population          11193.750   25946.00   66723.75  10081570.0  \n",
       "percent_female               49.400      50.40      51.20        57.2  \n",
       "unemployment_rate             3.700       5.00       6.60        34.1  \n",
       "median_income             43524.000   51485.50   59519.25    142299.0  \n",
       "percent_poverty               7.100      10.00      13.80        59.9  \n",
       "no_health_insurance           5.700       8.60      12.00        46.3  \n",
       "public_health_insurance      33.300      39.70      45.80        80.3  \n",
       "private_health_insurance     58.100      65.90      72.90        92.7  \n",
       "home_owners                  67.500      72.80      77.10        93.1  \n",
       "percent_1_1.5_per_room        0.900       1.40       2.10        21.5  \n",
       "more_1.5_per_room             0.200       0.50       0.80        25.3  \n",
       "renter_occupied              22.900      27.20      32.50       100.0  \n",
       "no_car                        4.200       5.70       7.70        88.0  \n",
       "single_mom                    3.300       4.20       5.10        28.4  \n",
       "single_dad                    0.900       1.30       1.60        16.8  \n",
       "home_median_value         96875.000  126000.00  173725.00   1097800.0  \n",
       "ed_percent_highschool         4.900       6.40       9.20        42.7  \n",
       "ed_percent_bachelors         83.300      88.30      91.50        98.9  \n",
       "has_internet                 82.100      86.30      89.70        98.3  \n",
       "percent_less_10k              4.700       6.40       8.70        41.1  \n",
       "percent_10k_15k               4.000       5.30       6.90        25.2  \n",
       "percent_15k_25k               8.900      11.00      13.30        31.6  \n",
       "percent_25k_35k               9.200      10.70      12.20        28.3  \n",
       "percent_white                75.500      89.15      94.80       100.0  \n",
       "percent_under_5               5.000       5.75       6.40        21.4  \n",
       "percent_5_to_9                5.400       6.10       6.80        13.4  \n",
       "percent_10_to_14              5.700       6.40       7.00        16.5  \n",
       "percent_15_to_19              5.700       6.30       7.00        24.2  \n",
       "percent_20_to_24              5.100       5.70       6.50        27.0  \n",
       "percent_25_to_34             10.500      11.60      13.00        27.2  \n",
       "percent_35_to_44             10.775      11.60      12.40        19.2  \n",
       "percent_45_to_54             11.800      12.80      13.60        23.2  \n",
       "percent_55_to_59              6.500       7.20       7.80        33.3  \n",
       "percent_60_to_64              6.200       6.90       7.70        18.5  \n",
       "percent_65_to_74              9.200      10.50      12.00        33.8  \n",
       "percent_75_to_84              4.700       5.60       6.70        18.6  \n",
       "percent_85_over               1.700       2.10       2.70         8.0  \n",
       "percent_65_and_over          15.900      18.50      21.20        56.7  \n",
       "percent_18_and_over          76.000      77.80      79.90        98.5  \n",
       "median_age                   38.300      41.30      44.50        67.4  \n",
       "percent_black                 0.700       2.40      10.30        87.2  \n",
       "percent_hispanic_latino       2.300       4.40      10.40       100.0  \n",
       "percent_public_assist         1.300       1.90       2.90        41.8  \n",
       "percent_mgmt_art_sci         27.700      31.30      35.60        71.4  \n",
       "percent_vacant_units         11.200      16.70      24.20        87.2  \n",
       "state                        19.000      30.00      46.00        72.0  \n",
       "county                       35.000      79.00     133.00       840.0  \n",
       "state_county_fips         19032.500   30024.00   46105.50     72153.0  "
      ]
     },
     "execution_count": 66,
     "metadata": {},
     "output_type": "execute_result"
    }
   ],
   "source": [
    "#inspect for extreme values\n",
    "census.drop('NAME', axis=1).astype(float).describe().T"
   ]
  },
  {
   "cell_type": "code",
   "execution_count": 67,
   "metadata": {},
   "outputs": [
    {
     "name": "stdout",
     "output_type": "stream",
     "text": [
      "NAME :  -\n",
      "home_median_value :  -\n"
     ]
    }
   ],
   "source": [
    "#inspect for '-' and '*' annotations\n",
    "for col in census.columns:\n",
    "    if census[col].str.contains('\\-').any():\n",
    "        print(col,\": \",'-')\n",
    "    if census[col].str.contains('\\*').any():\n",
    "        print(col,\": \",'*')"
   ]
  },
  {
   "cell_type": "code",
   "execution_count": 68,
   "metadata": {},
   "outputs": [
    {
     "data": {
      "text/html": [
       "<div>\n",
       "<style scoped>\n",
       "    .dataframe tbody tr th:only-of-type {\n",
       "        vertical-align: middle;\n",
       "    }\n",
       "\n",
       "    .dataframe tbody tr th {\n",
       "        vertical-align: top;\n",
       "    }\n",
       "\n",
       "    .dataframe thead th {\n",
       "        text-align: right;\n",
       "    }\n",
       "</style>\n",
       "<table border=\"1\" class=\"dataframe\">\n",
       "  <thead>\n",
       "    <tr style=\"text-align: right;\">\n",
       "      <th></th>\n",
       "      <th>NAME</th>\n",
       "      <th>total_population</th>\n",
       "      <th>percent_female</th>\n",
       "      <th>unemployment_rate</th>\n",
       "      <th>median_income</th>\n",
       "      <th>percent_poverty</th>\n",
       "      <th>no_health_insurance</th>\n",
       "      <th>public_health_insurance</th>\n",
       "      <th>private_health_insurance</th>\n",
       "      <th>home_owners</th>\n",
       "      <th>...</th>\n",
       "      <th>percent_18_and_over</th>\n",
       "      <th>median_age</th>\n",
       "      <th>percent_black</th>\n",
       "      <th>percent_hispanic_latino</th>\n",
       "      <th>percent_public_assist</th>\n",
       "      <th>percent_mgmt_art_sci</th>\n",
       "      <th>percent_vacant_units</th>\n",
       "      <th>state</th>\n",
       "      <th>county</th>\n",
       "      <th>state_county_fips</th>\n",
       "    </tr>\n",
       "  </thead>\n",
       "  <tbody>\n",
       "    <tr>\n",
       "      <th>163</th>\n",
       "      <td>Kalawao County, Hawaii</td>\n",
       "      <td>66</td>\n",
       "      <td>54.5</td>\n",
       "      <td>0.0</td>\n",
       "      <td>69375</td>\n",
       "      <td>22.2</td>\n",
       "      <td>0.0</td>\n",
       "      <td>19.7</td>\n",
       "      <td>83.6</td>\n",
       "      <td>0.0</td>\n",
       "      <td>...</td>\n",
       "      <td>98.5</td>\n",
       "      <td>57.4</td>\n",
       "      <td>3.0</td>\n",
       "      <td>3.0</td>\n",
       "      <td>5.1</td>\n",
       "      <td>23.1</td>\n",
       "      <td>58.5</td>\n",
       "      <td>15</td>\n",
       "      <td>005</td>\n",
       "      <td>15005</td>\n",
       "    </tr>\n",
       "    <tr>\n",
       "      <th>1530</th>\n",
       "      <td>Loving County, Texas</td>\n",
       "      <td>98</td>\n",
       "      <td>44.9</td>\n",
       "      <td>0.0</td>\n",
       "      <td>83750</td>\n",
       "      <td>0.0</td>\n",
       "      <td>12.2</td>\n",
       "      <td>25.5</td>\n",
       "      <td>84.7</td>\n",
       "      <td>63.3</td>\n",
       "      <td>...</td>\n",
       "      <td>74.5</td>\n",
       "      <td>55.2</td>\n",
       "      <td>0.0</td>\n",
       "      <td>12.2</td>\n",
       "      <td>0.0</td>\n",
       "      <td>30.3</td>\n",
       "      <td>54.5</td>\n",
       "      <td>48</td>\n",
       "      <td>301</td>\n",
       "      <td>48301</td>\n",
       "    </tr>\n",
       "  </tbody>\n",
       "</table>\n",
       "<p>2 rows × 49 columns</p>\n",
       "</div>"
      ],
      "text/plain": [
       "                        NAME total_population percent_female  \\\n",
       "163   Kalawao County, Hawaii               66           54.5   \n",
       "1530    Loving County, Texas               98           44.9   \n",
       "\n",
       "     unemployment_rate median_income percent_poverty no_health_insurance  \\\n",
       "163                0.0         69375            22.2                 0.0   \n",
       "1530               0.0         83750             0.0                12.2   \n",
       "\n",
       "     public_health_insurance private_health_insurance home_owners  ...  \\\n",
       "163                     19.7                     83.6         0.0  ...   \n",
       "1530                    25.5                     84.7        63.3  ...   \n",
       "\n",
       "     percent_18_and_over median_age percent_black percent_hispanic_latino  \\\n",
       "163                 98.5       57.4           3.0                     3.0   \n",
       "1530                74.5       55.2           0.0                    12.2   \n",
       "\n",
       "     percent_public_assist percent_mgmt_art_sci percent_vacant_units state  \\\n",
       "163                    5.1                 23.1                 58.5    15   \n",
       "1530                   0.0                 30.3                 54.5    48   \n",
       "\n",
       "     county state_county_fips  \n",
       "163     005             15005  \n",
       "1530    301             48301  \n",
       "\n",
       "[2 rows x 49 columns]"
      ]
     },
     "execution_count": 68,
     "metadata": {},
     "output_type": "execute_result"
    }
   ],
   "source": [
    "census[census['home_median_value'].astype(float) < 0]"
   ]
  },
  {
   "cell_type": "markdown",
   "metadata": {},
   "source": [
    "Two counties do not have available data for home_median_value. \n",
    "\n",
    "However, this variable is not used in PCA, so we can keep those counties in the data."
   ]
  },
  {
   "cell_type": "markdown",
   "metadata": {},
   "source": [
    "#### Prepare data for PCA"
   ]
  },
  {
   "cell_type": "code",
   "execution_count": 69,
   "metadata": {},
   "outputs": [],
   "source": [
    "#copied from \"Get census data.ipynb\"\n",
    "census['percent_crowding'] = census['percent_1_1.5_per_room'].astype(float) + census['more_1.5_per_room'].astype(float)\n",
    "census['percent_single_parent'] = census['single_dad'].astype(float) + census['single_mom'].astype(float)\n",
    "census['state_int'] = census['state'].astype(int)\n",
    "census = census[census['state_int']<=56]"
   ]
  },
  {
   "cell_type": "code",
   "execution_count": 70,
   "metadata": {},
   "outputs": [],
   "source": [
    "#copied from \"Get census data.ipynb\"\n",
    "income_ineq_req = \"https://api.census.gov/data/2019/acs/acs5?get=NAME,B19083_001E&for=county:*&in=state:*&key=\"\n",
    "income_ineq_req = income_ineq_req + census_key\n",
    "response = requests.get(income_ineq_req)\n",
    "results = response.json()"
   ]
  },
  {
   "cell_type": "code",
   "execution_count": 71,
   "metadata": {},
   "outputs": [],
   "source": [
    "#copied from \"Get census data.ipynb\"\n",
    "\n",
    "new = pd.DataFrame(data=results[1:][:], columns=results[0][:])\n",
    "\n",
    "all_vars = pd.merge(census, new, how='left', on='NAME')\n",
    "all_vars.drop(columns=['state_x', 'county_x'], inplace=True)\n",
    "all_vars.rename(columns={'B19083_001E':'gini_income_inequality', 'state_y':'state',\n",
    "                         'county_y':'county'}, inplace=True)\n",
    "all_vars['percent_less_35k'] = (all_vars['percent_less_10k'].astype(float) + all_vars['percent_10k_15k'].astype(float) + \n",
    "                                all_vars['percent_15k_25k'].astype(float) + all_vars['percent_25k_35k'].astype(float))"
   ]
  },
  {
   "cell_type": "code",
   "execution_count": 72,
   "metadata": {},
   "outputs": [],
   "source": [
    "all_vars.to_csv('../data/census/all_vars_by_county.csv')"
   ]
  },
  {
   "cell_type": "markdown",
   "metadata": {},
   "source": [
    "#### -------- V -----------\n",
    "#### ---> Run PCA in R <---\n",
    "#### -------- ^ -----------"
   ]
  },
  {
   "cell_type": "markdown",
   "metadata": {},
   "source": [
    "#### Import PCA data and calculate neighborhood deprivation index"
   ]
  },
  {
   "cell_type": "code",
   "execution_count": 74,
   "metadata": {},
   "outputs": [],
   "source": [
    "pca = pd.read_csv('../data/census/census_w_factor_weights.csv')"
   ]
  },
  {
   "cell_type": "code",
   "execution_count": 76,
   "metadata": {},
   "outputs": [],
   "source": [
    "colnames = pca.columns.to_list()\n",
    "cols_to_sum = [i for i in colnames if 'weighted' in i]"
   ]
  },
  {
   "cell_type": "code",
   "execution_count": 77,
   "metadata": {},
   "outputs": [],
   "source": [
    "pca['sum'] = 0\n",
    "for c in cols_to_sum:\n",
    "    pca['sum'] += pca[c]"
   ]
  },
  {
   "cell_type": "code",
   "execution_count": 79,
   "metadata": {},
   "outputs": [],
   "source": [
    "cols_to_sum.append('state_county_fips')\n",
    "cols_to_sum.append('sum')\n",
    "pca = pca[cols_to_sum]"
   ]
  },
  {
   "cell_type": "code",
   "execution_count": 80,
   "metadata": {},
   "outputs": [],
   "source": [
    "census = pd.read_csv('../data/census/all_vars_by_county.csv')"
   ]
  },
  {
   "cell_type": "code",
   "execution_count": 82,
   "metadata": {},
   "outputs": [],
   "source": [
    "from sklearn import preprocessing\n",
    "pca['standardized_ndi'] = preprocessing.scale(pca['sum'])\n",
    "pca = pd.merge(pca, census, how='left', on='state_county_fips')\n",
    "\n",
    "QUANTS = (np.quantile(pca['standardized_ndi'].values, [.25, .5, .75]))\n",
    "\n",
    "def _get_quantile(x):\n",
    "    if x <= QUANTS[0]:\n",
    "        return 1\n",
    "    if x > QUANTS[0] and x <= QUANTS[1]:\n",
    "        return 2\n",
    "    if x > QUANTS[1] and x <= QUANTS[2]:\n",
    "        return 3\n",
    "    if x > QUANTS[2]:\n",
    "        return 4\n",
    "    \n",
    "cols_to_drop = [c for c in pca.columns.to_list() if 'weighted' in c]\n",
    "\n",
    "pca['ndi_quantile'] = pca['standardized_ndi'].apply(_get_quantile)\n",
    "\n",
    "pca.drop(columns = cols_to_drop, inplace=True)"
   ]
  },
  {
   "cell_type": "code",
   "execution_count": 86,
   "metadata": {},
   "outputs": [
    {
     "data": {
      "text/plain": [
       "<matplotlib.axes._subplots.AxesSubplot at 0x7fd5b6738150>"
      ]
     },
     "execution_count": 86,
     "metadata": {},
     "output_type": "execute_result"
    },
    {
     "data": {
      "image/png": "[encoded data removed]",
      "text/plain": [
       "<Figure size 432x288 with 1 Axes>"
      ]
     },
     "metadata": {
      "needs_background": "light"
     },
     "output_type": "display_data"
    }
   ],
   "source": [
    "pca['standardized_ndi'].hist(bins=20)"
   ]
  },
  {
   "cell_type": "code",
   "execution_count": 84,
   "metadata": {},
   "outputs": [
    {
     "data": {
      "text/plain": [
       "<matplotlib.axes._subplots.AxesSubplot at 0x7fd5994a2150>"
      ]
     },
     "execution_count": 84,
     "metadata": {},
     "output_type": "execute_result"
    },
    {
     "data": {
      "image/png": "[encoded data removed]",
      "text/plain": [
       "<Figure size 432x288 with 1 Axes>"
      ]
     },
     "metadata": {
      "needs_background": "light"
     },
     "output_type": "display_data"
    }
   ],
   "source": [
    "#inspect example data\n",
    "import seaborn as sns\n",
    "sns.boxplot(x='ndi_quantile',y='median_income',data=pca)"
   ]
  },
  {
   "cell_type": "markdown",
   "metadata": {},
   "source": [
    "##### Merge data"
   ]
  },
  {
   "cell_type": "code",
   "execution_count": 87,
   "metadata": {},
   "outputs": [],
   "source": [
    "#rename and reformat variables before merging\n",
    "pca = pca[['state_county_fips','NAME','ndi_quantile','standardized_ndi']]\n",
    "pca.rename(columns={'NAME':'county_name'}, inplace=True)\n",
    "pca['state_county_fips'] = pca['state_county_fips'].astype(str).str.zfill(5)"
   ]
  },
  {
   "cell_type": "code",
   "execution_count": 88,
   "metadata": {},
   "outputs": [],
   "source": [
    "#rename feed columns before merging\n",
    "feed.rename(columns={'state':'state_abb'}, inplace=True)"
   ]
  },
  {
   "cell_type": "code",
   "execution_count": 89,
   "metadata": {},
   "outputs": [],
   "source": [
    "#merge ndi data with feed data\n",
    "feed = feed.merge(pca, on='state_county_fips', how='left')"
   ]
  },
  {
   "cell_type": "markdown",
   "metadata": {},
   "source": [
    "### Add state data"
   ]
  },
  {
   "cell_type": "code",
   "execution_count": 90,
   "metadata": {},
   "outputs": [],
   "source": [
    "#state data\n",
    "import utils\n",
    "state_list = utils.state_list\n",
    "state_abb = utils.us_state_abbrev\n",
    "state_abb = {v:k for k,v in state_abb.items()}\n",
    "state_fips = utils.state_fips\n",
    "state_fips = {v:k for k,v in state_fips.items()}"
   ]
  },
  {
   "cell_type": "markdown",
   "metadata": {},
   "source": [
    "#### Extract state FIPS"
   ]
  },
  {
   "cell_type": "code",
   "execution_count": 91,
   "metadata": {},
   "outputs": [],
   "source": [
    "feed['state_fips'] = [x[:2] for x in feed['state_county_fips']]"
   ]
  },
  {
   "cell_type": "markdown",
   "metadata": {},
   "source": [
    "#### Add state abbreviation and name from FIPS"
   ]
  },
  {
   "cell_type": "code",
   "execution_count": 92,
   "metadata": {},
   "outputs": [],
   "source": [
    "feed['state_abb'] = feed['state_fips'].map(state_fips)"
   ]
  },
  {
   "cell_type": "code",
   "execution_count": 93,
   "metadata": {},
   "outputs": [],
   "source": [
    "feed['state_name'] = feed['state_abb'].map(state_abb)"
   ]
  },
  {
   "cell_type": "markdown",
   "metadata": {},
   "source": [
    "#### Add state population"
   ]
  },
  {
   "cell_type": "code",
   "execution_count": 94,
   "metadata": {},
   "outputs": [],
   "source": [
    "#get population by state from census api\n",
    "vars_to_get = 'DP05_0001E' #population\n",
    "\n",
    "base_request = (\"https://api.census.gov/data/2019/acs/acs5/profile?get=NAME,\"+\n",
    "                    vars_to_get+\n",
    "                    \"&for=state:*&key=\")\n",
    "\n",
    "full_request = base_request + census_key\n",
    "\n",
    "r = requests.get(full_request)\n",
    "r_json = r.json()\n",
    "state_pop = pd.DataFrame(data=r_json[1:][:], columns=r_json[0][:])\n",
    "state_pop.columns = ['state_name','state_population','state_fips']\n",
    "\n",
    "state_pop.to_csv('../data/census/state_pop.csv', index=False)"
   ]
  },
  {
   "cell_type": "code",
   "execution_count": 95,
   "metadata": {},
   "outputs": [],
   "source": [
    "feed = feed.merge(state_pop[['state_name','state_population']], on='state_name', how='left')"
   ]
  },
  {
   "cell_type": "markdown",
   "metadata": {},
   "source": [
    "#### Add census regions"
   ]
  },
  {
   "cell_type": "code",
   "execution_count": 96,
   "metadata": {},
   "outputs": [],
   "source": [
    "#import census regions\n",
    "census_regions = pd.read_csv('../data/census/census_regions.csv')\n",
    "census_regions.columns = ['state_name','state_abb','census_region','census_division']\n",
    "del census_regions['state_abb'] #redundant"
   ]
  },
  {
   "cell_type": "code",
   "execution_count": 97,
   "metadata": {},
   "outputs": [],
   "source": [
    "#merge census regions\n",
    "feed = feed.merge(census_regions, on='state_name', how='left')"
   ]
  },
  {
   "cell_type": "markdown",
   "metadata": {},
   "source": [
    "### Remove locations that are not US 50 states + DC"
   ]
  },
  {
   "cell_type": "code",
   "execution_count": 98,
   "metadata": {},
   "outputs": [],
   "source": [
    "starting_n = feed.shape[0]\n",
    "feed = feed[feed['state_abb'].isin(state_list)]\n",
    "locations_outside_US_n_removed = starting_n - feed.shape[0]"
   ]
  },
  {
   "cell_type": "markdown",
   "metadata": {},
   "source": [
    "### Check NA values"
   ]
  },
  {
   "cell_type": "code",
   "execution_count": 99,
   "metadata": {},
   "outputs": [
    {
     "data": {
      "text/plain": [
       "url                             0\n",
       "donation_count                  0\n",
       "donor_reached_max               0\n",
       "currencycode                    0\n",
       "current_amount                  0\n",
       "goal_amount                     0\n",
       "fund_name                       1\n",
       "fund_description                0\n",
       "created_at                      0\n",
       "social_share_last_update        0\n",
       "city                            0\n",
       "country                         0\n",
       "postal_code                     0\n",
       "is_team                         0\n",
       "year                            0\n",
       "month                           0\n",
       "zip_len                         0\n",
       "zip_extract                 92268\n",
       "zip                             0\n",
       "state_county_fips               0\n",
       "tot_ratio                       0\n",
       "county_name                     6\n",
       "ndi_quantile                    6\n",
       "standardized_ndi                6\n",
       "state_fips                      0\n",
       "state_abb                       0\n",
       "state_name                      0\n",
       "state_population                0\n",
       "census_region                   0\n",
       "census_division                 0\n",
       "dtype: int64"
      ]
     },
     "execution_count": 99,
     "metadata": {},
     "output_type": "execute_result"
    }
   ],
   "source": [
    "feed.isnull().sum()"
   ]
  },
  {
   "cell_type": "code",
   "execution_count": 100,
   "metadata": {},
   "outputs": [],
   "source": [
    "#delete zip extract\n",
    "del feed['zip_extract']"
   ]
  },
  {
   "cell_type": "code",
   "execution_count": 101,
   "metadata": {},
   "outputs": [],
   "source": [
    "#fill NA fund name with blank string\n",
    "feed['fund_name'] = feed['fund_name'].fillna(' ')"
   ]
  },
  {
   "cell_type": "code",
   "execution_count": 102,
   "metadata": {},
   "outputs": [
    {
     "data": {
      "text/plain": [
       "South Dakota    4\n",
       "Alaska          2\n",
       "Name: state_name, dtype: int64"
      ]
     },
     "execution_count": 102,
     "metadata": {},
     "output_type": "execute_result"
    }
   ],
   "source": [
    "#inspect county name\n",
    "feed[feed['county_name'].isna()]['state_name'].value_counts()"
   ]
  },
  {
   "cell_type": "code",
   "execution_count": 103,
   "metadata": {},
   "outputs": [],
   "source": [
    "#remove missing county name\n",
    "starting_n = feed.shape[0]\n",
    "feed = feed[~feed['county_name'].isna()]\n",
    "missing_county_n_removed = starting_n - feed.shape[0]"
   ]
  },
  {
   "cell_type": "code",
   "execution_count": 104,
   "metadata": {},
   "outputs": [
    {
     "data": {
      "text/plain": [
       "url                         0\n",
       "donation_count              0\n",
       "donor_reached_max           0\n",
       "currencycode                0\n",
       "current_amount              0\n",
       "goal_amount                 0\n",
       "fund_name                   0\n",
       "fund_description            0\n",
       "created_at                  0\n",
       "social_share_last_update    0\n",
       "city                        0\n",
       "country                     0\n",
       "postal_code                 0\n",
       "is_team                     0\n",
       "year                        0\n",
       "month                       0\n",
       "zip_len                     0\n",
       "zip                         0\n",
       "state_county_fips           0\n",
       "tot_ratio                   0\n",
       "county_name                 0\n",
       "ndi_quantile                0\n",
       "standardized_ndi            0\n",
       "state_fips                  0\n",
       "state_abb                   0\n",
       "state_name                  0\n",
       "state_population            0\n",
       "census_region               0\n",
       "census_division             0\n",
       "dtype: int64"
      ]
     },
     "execution_count": 104,
     "metadata": {},
     "output_type": "execute_result"
    }
   ],
   "source": [
    "#recheck NA\n",
    "feed.isna().sum()"
   ]
  },
  {
   "cell_type": "markdown",
   "metadata": {},
   "source": [
    "### Identify campaigns with \"research\" in title"
   ]
  },
  {
   "cell_type": "code",
   "execution_count": 105,
   "metadata": {},
   "outputs": [],
   "source": [
    "feed.loc[:,'research_in_title'] = (feed['fund_name'].str.lower().str.contains('research'))\n",
    "feed['research_in_title'] = feed['research_in_title'].astype(int)"
   ]
  },
  {
   "cell_type": "markdown",
   "metadata": {},
   "source": [
    "### Clean text data"
   ]
  },
  {
   "cell_type": "code",
   "execution_count": 106,
   "metadata": {},
   "outputs": [],
   "source": [
    "def CleanText(t):\n",
    "    '''\n",
    "    input: text string t\n",
    "    output: cleaned text string r\n",
    "    '''\n",
    "    \n",
    "    #regular expression to remove url\n",
    "    url_reg = r'(?:(?:http|https):\\/\\/)?([-a-zA-Z0-9.]{2,256}\\.[a-z]{2,4})\\b(?:\\/[-a-zA-Z0-9@:%_\\+.~#?&//=]*)?'\n",
    "    \n",
    "    #regular expression to remove emojis\n",
    "    emoji_pattern = re.compile(\"[\"\n",
    "            u\"\\U0001F600-\\U0001F64F\"  # emoticons\n",
    "            u\"\\U0001F300-\\U0001F5FF\"  # symbols & pictographs\n",
    "            u\"\\U0001F680-\\U0001F6FF\"  # transport & map symbols\n",
    "            u\"\\U0001F1E0-\\U0001F1FF\"  # flags (iOS)\n",
    "            u\"\\U0001F1F2-\\U0001F1F4\"  # Macau flag\n",
    "            u\"\\U0001F1E6-\\U0001F1FF\"  # flags\n",
    "            u\"\\U0001F600-\\U0001F64F\"\n",
    "            u\"\\U00002702-\\U000027B0\"\n",
    "            u\"\\U000024C2-\\U0001F251\"\n",
    "            u\"\\U0001f926-\\U0001f937\"\n",
    "            u\"\\U0001F1F2\"\n",
    "            u\"\\U0001F1F4\"\n",
    "            u\"\\U0001F620\"\n",
    "            u\"\\u200d\"\n",
    "            u\"\\u2640-\\u2642\"\n",
    "            \"]+\", flags=re.UNICODE)\n",
    "    \n",
    "    #strip html elements, replace line breaks and alternative characters\n",
    "    r = bs(t).get_text()\n",
    "    r = r.replace(\"\\n\",\"\")\n",
    "    r = r.replace(u'\\xa0', u' ')\n",
    "    \n",
    "    #strip urls\n",
    "    r = re.sub(url_reg,'',r)\n",
    "    \n",
    "    #strip emojis\n",
    "    r = re.sub(emoji_pattern,'',r)\n",
    "    \n",
    "    #strip leading and trailing whitespace\n",
    "    r = r.strip()\n",
    "    \n",
    "    #return response\n",
    "    return r"
   ]
  },
  {
   "cell_type": "code",
   "execution_count": 107,
   "metadata": {},
   "outputs": [
    {
     "name": "stderr",
     "output_type": "stream",
     "text": [
      "/opt/anaconda3/lib/python3.7/site-packages/bs4/__init__.py:314: UserWarning: \"b'.'\" looks like a filename, not markup. You should probably open this file and pass the filehandle into Beautiful Soup.\n",
      "  ' Beautiful Soup.' % markup)\n",
      "/opt/anaconda3/lib/python3.7/site-packages/bs4/__init__.py:314: UserWarning: \"b'/'\" looks like a filename, not markup. You should probably open this file and pass the filehandle into Beautiful Soup.\n",
      "  ' Beautiful Soup.' % markup)\n"
     ]
    }
   ],
   "source": [
    "#apply cleaning function, takes about a minute\n",
    "feed.loc[:,'fund_description_clean'] = [CleanText(x) for x in feed['fund_description']]"
   ]
  },
  {
   "cell_type": "code",
   "execution_count": 108,
   "metadata": {},
   "outputs": [
    {
     "name": "stdout",
     "output_type": "stream",
     "text": [
      "<br /><br />UPDATE: Sweet little Jace passed away on June 18th, 2015. Any donations to this fund will be used to cover funeral costs. Thank you to everyone and please keep the Chynoweth family in your prayers. <br /><br />ORIGINAL POST: Klay and Shayne's sweet little Jace has been diagnosed with a malignant brain tumor and we would like to help the family with financial, as well as other expenses, and hopefully give them the opportunity to stay home and enjoy what time Jace has left.<br /><br />\n",
      "\n",
      "\n",
      "UPDATE: Sweet little Jace passed away on June 18th, 2015. Any donations to this fund will be used to cover funeral costs. Thank you to everyone and please keep the Chynoweth family in your prayers. ORIGINAL POST: Klay and Shayne's sweet little Jace has been diagnosed with a malignant brain tumor and we would like to help the family with financial, as well as other expenses, and hopefully give them the opportunity to stay home and enjoy what time Jace has left.Any donations on their behalf are ap\n",
      "\n",
      "\n",
      "<img src=\"https://d2g8igdw686xgo.cloudfront.net/47381198_1586827128159702_r.jpeg\" alt=\"47381198_1586827128159702_r.jpeg\" width=\"100%\" media_type=\"3\" /><img src=\"https://d2g8igdw686xgo.cloudfront.net/47381198_158682652155479_r.jpeg\" alt=\"47381198_158682652155479_r.jpeg\" width=\"100%\" media_type=\"3\" />Frank and Maybel are two front liners working at Mount Sinai Medical Center ER working through the COVD-19 pandemic, saving lives one day at a time. <br /><br /> They are the beloved parents of two ad\n",
      "\n",
      "\n",
      "Frank and Maybel are two front liners working at Mount Sinai Medical Center ER working through the COVD-19 pandemic, saving lives one day at a time.  They are the beloved parents of two adorable girls, Alicia and Amelia.  It was about two weeks ago, when their lives would change forever. Frank and Maybel noticed their daughter had some unusual swelling to the right eye, they took her to get checked at Nicklaus Children's and were faced with a parents worse nightmare.  Their eldest daughter, 2- y\n"
     ]
    }
   ],
   "source": [
    "#inspect a few\n",
    "\n",
    "print(feed['fund_description'][111][:500])\n",
    "print(\"\\n\")\n",
    "print(feed['fund_description_clean'][111][:500])\n",
    "print(\"\\n\")\n",
    "print(feed['fund_description'][60006][:500])\n",
    "print(\"\\n\")\n",
    "print(feed['fund_description_clean'][60006][:500])"
   ]
  },
  {
   "cell_type": "code",
   "execution_count": 109,
   "metadata": {},
   "outputs": [],
   "source": [
    "#remove raw text and replace with cleaned text\n",
    "del feed['fund_description']\n",
    "feed = feed.rename(columns={'fund_description_clean':'fund_description'})"
   ]
  },
  {
   "cell_type": "markdown",
   "metadata": {},
   "source": [
    "### Identify non-English campaigns"
   ]
  },
  {
   "cell_type": "code",
   "execution_count": 110,
   "metadata": {},
   "outputs": [],
   "source": [
    "def GetLanguage(df):\n",
    "    path_to_pretrained_model = '../data/fasttext_models/lid.176.bin'\n",
    "    fmodel = fasttext.load_model(path_to_pretrained_model)\n",
    "    r = fmodel.predict(feed['fund_description'].to_list())\n",
    "    labels = r[0]\n",
    "    labels = [i[0].split('__')[2] for i in labels]\n",
    "    scores = r[1]\n",
    "    scores = [i[0] for i in scores]\n",
    "    return labels, scores"
   ]
  },
  {
   "cell_type": "code",
   "execution_count": 111,
   "metadata": {},
   "outputs": [
    {
     "name": "stderr",
     "output_type": "stream",
     "text": [
      "Warning : `load_model` does not return WordVectorModel or SupervisedModel any more, but a `FastText` object which is very similar.\n"
     ]
    }
   ],
   "source": [
    "#apply function, takes about a minute\n",
    "feed.loc[:,'language'], feed.loc[:,'language_score'] = GetLanguage(feed)"
   ]
  },
  {
   "cell_type": "markdown",
   "metadata": {},
   "source": [
    "### Add donations statistics"
   ]
  },
  {
   "cell_type": "code",
   "execution_count": 112,
   "metadata": {},
   "outputs": [
    {
     "data": {
      "text/html": [
       "<div>\n",
       "<style scoped>\n",
       "    .dataframe tbody tr th:only-of-type {\n",
       "        vertical-align: middle;\n",
       "    }\n",
       "\n",
       "    .dataframe tbody tr th {\n",
       "        vertical-align: top;\n",
       "    }\n",
       "\n",
       "    .dataframe thead th {\n",
       "        text-align: right;\n",
       "    }\n",
       "</style>\n",
       "<table border=\"1\" class=\"dataframe\">\n",
       "  <thead>\n",
       "    <tr style=\"text-align: right;\">\n",
       "      <th></th>\n",
       "      <th>don_id</th>\n",
       "      <th>online_id</th>\n",
       "      <th>url</th>\n",
       "      <th>don_amt</th>\n",
       "      <th>don_offline</th>\n",
       "      <th>don_anon</th>\n",
       "      <th>don_name</th>\n",
       "      <th>don_date</th>\n",
       "      <th>don_profile</th>\n",
       "      <th>don_verified</th>\n",
       "    </tr>\n",
       "  </thead>\n",
       "  <tbody>\n",
       "    <tr>\n",
       "      <th>0</th>\n",
       "      <td>1</td>\n",
       "      <td>75288239</td>\n",
       "      <td>https://www.gofundme.com/f/Amarilindo</td>\n",
       "      <td>10.0</td>\n",
       "      <td>0</td>\n",
       "      <td>0</td>\n",
       "      <td>Patrice Whitely</td>\n",
       "      <td>2016-03-13T16:09:18-05:00</td>\n",
       "      <td></td>\n",
       "      <td>1</td>\n",
       "    </tr>\n",
       "    <tr>\n",
       "      <th>1</th>\n",
       "      <td>2</td>\n",
       "      <td>72701479</td>\n",
       "      <td>https://www.gofundme.com/f/Amarilindo</td>\n",
       "      <td>20.0</td>\n",
       "      <td>0</td>\n",
       "      <td>0</td>\n",
       "      <td>cheryl redman</td>\n",
       "      <td>2016-03-03T07:19:35-06:00</td>\n",
       "      <td></td>\n",
       "      <td>1</td>\n",
       "    </tr>\n",
       "    <tr>\n",
       "      <th>2</th>\n",
       "      <td>3</td>\n",
       "      <td>72113923</td>\n",
       "      <td>https://www.gofundme.com/f/Amarilindo</td>\n",
       "      <td>25.0</td>\n",
       "      <td>0</td>\n",
       "      <td>0</td>\n",
       "      <td>Stephanie C</td>\n",
       "      <td>2016-03-01T08:44:25-06:00</td>\n",
       "      <td></td>\n",
       "      <td>1</td>\n",
       "    </tr>\n",
       "    <tr>\n",
       "      <th>3</th>\n",
       "      <td>4</td>\n",
       "      <td>71698975</td>\n",
       "      <td>https://www.gofundme.com/f/Amarilindo</td>\n",
       "      <td>30.0</td>\n",
       "      <td>0</td>\n",
       "      <td>0</td>\n",
       "      <td>Tracy H</td>\n",
       "      <td>2016-02-28T12:22:35-06:00</td>\n",
       "      <td></td>\n",
       "      <td>1</td>\n",
       "    </tr>\n",
       "    <tr>\n",
       "      <th>4</th>\n",
       "      <td>5</td>\n",
       "      <td>71101151</td>\n",
       "      <td>https://www.gofundme.com/f/Amarilindo</td>\n",
       "      <td>50.0</td>\n",
       "      <td>0</td>\n",
       "      <td>0</td>\n",
       "      <td>Yosh Takashima</td>\n",
       "      <td>2016-02-25T18:45:31-06:00</td>\n",
       "      <td></td>\n",
       "      <td>1</td>\n",
       "    </tr>\n",
       "  </tbody>\n",
       "</table>\n",
       "</div>"
      ],
      "text/plain": [
       "   don_id  online_id                                    url  don_amt  \\\n",
       "0       1   75288239  https://www.gofundme.com/f/Amarilindo     10.0   \n",
       "1       2   72701479  https://www.gofundme.com/f/Amarilindo     20.0   \n",
       "2       3   72113923  https://www.gofundme.com/f/Amarilindo     25.0   \n",
       "3       4   71698975  https://www.gofundme.com/f/Amarilindo     30.0   \n",
       "4       5   71101151  https://www.gofundme.com/f/Amarilindo     50.0   \n",
       "\n",
       "  don_offline  don_anon         don_name                   don_date  \\\n",
       "0           0         0  Patrice Whitely  2016-03-13T16:09:18-05:00   \n",
       "1           0         0    cheryl redman  2016-03-03T07:19:35-06:00   \n",
       "2           0         0      Stephanie C  2016-03-01T08:44:25-06:00   \n",
       "3           0         0          Tracy H  2016-02-28T12:22:35-06:00   \n",
       "4           0         0   Yosh Takashima  2016-02-25T18:45:31-06:00   \n",
       "\n",
       "  don_profile don_verified  \n",
       "0                        1  \n",
       "1                        1  \n",
       "2                        1  \n",
       "3                        1  \n",
       "4                        1  "
      ]
     },
     "execution_count": 112,
     "metadata": {},
     "output_type": "execute_result"
    }
   ],
   "source": [
    "#inspect donation data\n",
    "donation.head()"
   ]
  },
  {
   "cell_type": "code",
   "execution_count": 113,
   "metadata": {},
   "outputs": [],
   "source": [
    "don = donation[['url','don_amt']].groupby('url').agg(['min', 'max','mean','median'])"
   ]
  },
  {
   "cell_type": "code",
   "execution_count": 114,
   "metadata": {},
   "outputs": [],
   "source": [
    "don = don.reset_index()"
   ]
  },
  {
   "cell_type": "code",
   "execution_count": 115,
   "metadata": {},
   "outputs": [],
   "source": [
    "don.columns = don.columns.droplevel(0)"
   ]
  },
  {
   "cell_type": "code",
   "execution_count": 116,
   "metadata": {},
   "outputs": [],
   "source": [
    "don.columns = ['url','donation_min','donation_max','donation_mean','donation_median']"
   ]
  },
  {
   "cell_type": "code",
   "execution_count": 117,
   "metadata": {},
   "outputs": [],
   "source": [
    "master = feed.merge(don, how='left', on='url')"
   ]
  },
  {
   "cell_type": "code",
   "execution_count": 118,
   "metadata": {},
   "outputs": [
    {
     "data": {
      "text/plain": [
       "(92301, 36)"
      ]
     },
     "execution_count": 118,
     "metadata": {},
     "output_type": "execute_result"
    }
   ],
   "source": [
    "master.shape"
   ]
  },
  {
   "cell_type": "markdown",
   "metadata": {},
   "source": [
    "### Add update statistics"
   ]
  },
  {
   "cell_type": "code",
   "execution_count": 119,
   "metadata": {},
   "outputs": [
    {
     "data": {
      "text/html": [
       "<div>\n",
       "<style scoped>\n",
       "    .dataframe tbody tr th:only-of-type {\n",
       "        vertical-align: middle;\n",
       "    }\n",
       "\n",
       "    .dataframe tbody tr th {\n",
       "        vertical-align: top;\n",
       "    }\n",
       "\n",
       "    .dataframe thead th {\n",
       "        text-align: right;\n",
       "    }\n",
       "</style>\n",
       "<table border=\"1\" class=\"dataframe\">\n",
       "  <thead>\n",
       "    <tr style=\"text-align: right;\">\n",
       "      <th></th>\n",
       "      <th>update_id</th>\n",
       "      <th>id</th>\n",
       "      <th>author</th>\n",
       "      <th>author_type</th>\n",
       "      <th>user_profile_url</th>\n",
       "      <th>media_type</th>\n",
       "      <th>status</th>\n",
       "      <th>update_text</th>\n",
       "      <th>created_at</th>\n",
       "      <th>url</th>\n",
       "      <th>photo_url</th>\n",
       "      <th>update_data_error</th>\n",
       "    </tr>\n",
       "  </thead>\n",
       "  <tbody>\n",
       "    <tr>\n",
       "      <th>0</th>\n",
       "      <td>1</td>\n",
       "      <td>7264789</td>\n",
       "      <td>Natalie Lindo</td>\n",
       "      <td>ORGANIZER</td>\n",
       "      <td>https://graph.facebook.com/v7.0/16708535265169...</td>\n",
       "      <td>1</td>\n",
       "      <td>1</td>\n",
       "      <td>It&amp;#039;s been a very scary month for me. I ha...</td>\n",
       "      <td>2016-03-01T06:14:33-06:00</td>\n",
       "      <td>https://www.gofundme.com/f/Amarilindo</td>\n",
       "      <td>https://7468669c0013a7dae459-4d0fcf8d315d40f30...</td>\n",
       "      <td>None</td>\n",
       "    </tr>\n",
       "    <tr>\n",
       "      <th>1</th>\n",
       "      <td>2</td>\n",
       "      <td>7071131</td>\n",
       "      <td>Natalie Lindo</td>\n",
       "      <td>ORGANIZER</td>\n",
       "      <td>https://graph.facebook.com/v7.0/16708535265169...</td>\n",
       "      <td>1</td>\n",
       "      <td>1</td>\n",
       "      <td>This is Amari&amp;#039;s vitals today!</td>\n",
       "      <td>2016-02-19T09:04:17-06:00</td>\n",
       "      <td>https://www.gofundme.com/f/Amarilindo</td>\n",
       "      <td>https://7468669c0013a7dae459-4d0fcf8d315d40f30...</td>\n",
       "      <td>None</td>\n",
       "    </tr>\n",
       "    <tr>\n",
       "      <th>2</th>\n",
       "      <td>3</td>\n",
       "      <td>7071069</td>\n",
       "      <td>Natalie Lindo</td>\n",
       "      <td>ORGANIZER</td>\n",
       "      <td>https://graph.facebook.com/v7.0/16708535265169...</td>\n",
       "      <td>1</td>\n",
       "      <td>1</td>\n",
       "      <td>Amari has come a long way since we first came ...</td>\n",
       "      <td>2016-02-19T09:00:39-06:00</td>\n",
       "      <td>https://www.gofundme.com/f/Amarilindo</td>\n",
       "      <td>https://7468669c0013a7dae459-4d0fcf8d315d40f30...</td>\n",
       "      <td>None</td>\n",
       "    </tr>\n",
       "    <tr>\n",
       "      <th>3</th>\n",
       "      <td>4</td>\n",
       "      <td>7029203</td>\n",
       "      <td>Natalie Lindo</td>\n",
       "      <td>ORGANIZER</td>\n",
       "      <td>https://graph.facebook.com/v7.0/16708535265169...</td>\n",
       "      <td>1</td>\n",
       "      <td>1</td>\n",
       "      <td>Last night Amari&amp;#039;s sister Brooke-Lynn who...</td>\n",
       "      <td>2016-02-17T05:52:07-06:00</td>\n",
       "      <td>https://www.gofundme.com/f/Amarilindo</td>\n",
       "      <td>https://7468669c0013a7dae459-4d0fcf8d315d40f30...</td>\n",
       "      <td>None</td>\n",
       "    </tr>\n",
       "    <tr>\n",
       "      <th>4</th>\n",
       "      <td>5</td>\n",
       "      <td>6705617</td>\n",
       "      <td>Janet Stern Capron</td>\n",
       "      <td>ORGANIZER</td>\n",
       "      <td>https://graph.facebook.com/v7.0/10208115198308...</td>\n",
       "      <td>1</td>\n",
       "      <td>1</td>\n",
       "      <td>Dear friends of Antony,\\r\\nJust a brief update...</td>\n",
       "      <td>2016-01-28T23:52:24-06:00</td>\n",
       "      <td>https://www.gofundme.com/f/m6gg66vd</td>\n",
       "      <td>None</td>\n",
       "      <td>None</td>\n",
       "    </tr>\n",
       "  </tbody>\n",
       "</table>\n",
       "</div>"
      ],
      "text/plain": [
       "   update_id       id              author author_type  \\\n",
       "0          1  7264789       Natalie Lindo   ORGANIZER   \n",
       "1          2  7071131       Natalie Lindo   ORGANIZER   \n",
       "2          3  7071069       Natalie Lindo   ORGANIZER   \n",
       "3          4  7029203       Natalie Lindo   ORGANIZER   \n",
       "4          5  6705617  Janet Stern Capron   ORGANIZER   \n",
       "\n",
       "                                    user_profile_url  media_type  status  \\\n",
       "0  https://graph.facebook.com/v7.0/16708535265169...           1       1   \n",
       "1  https://graph.facebook.com/v7.0/16708535265169...           1       1   \n",
       "2  https://graph.facebook.com/v7.0/16708535265169...           1       1   \n",
       "3  https://graph.facebook.com/v7.0/16708535265169...           1       1   \n",
       "4  https://graph.facebook.com/v7.0/10208115198308...           1       1   \n",
       "\n",
       "                                         update_text  \\\n",
       "0  It&#039;s been a very scary month for me. I ha...   \n",
       "1                This is Amari&#039;s vitals today!    \n",
       "2  Amari has come a long way since we first came ...   \n",
       "3  Last night Amari&#039;s sister Brooke-Lynn who...   \n",
       "4  Dear friends of Antony,\\r\\nJust a brief update...   \n",
       "\n",
       "                  created_at                                    url  \\\n",
       "0  2016-03-01T06:14:33-06:00  https://www.gofundme.com/f/Amarilindo   \n",
       "1  2016-02-19T09:04:17-06:00  https://www.gofundme.com/f/Amarilindo   \n",
       "2  2016-02-19T09:00:39-06:00  https://www.gofundme.com/f/Amarilindo   \n",
       "3  2016-02-17T05:52:07-06:00  https://www.gofundme.com/f/Amarilindo   \n",
       "4  2016-01-28T23:52:24-06:00    https://www.gofundme.com/f/m6gg66vd   \n",
       "\n",
       "                                           photo_url update_data_error  \n",
       "0  https://7468669c0013a7dae459-4d0fcf8d315d40f30...              None  \n",
       "1  https://7468669c0013a7dae459-4d0fcf8d315d40f30...              None  \n",
       "2  https://7468669c0013a7dae459-4d0fcf8d315d40f30...              None  \n",
       "3  https://7468669c0013a7dae459-4d0fcf8d315d40f30...              None  \n",
       "4                                               None              None  "
      ]
     },
     "execution_count": 119,
     "metadata": {},
     "output_type": "execute_result"
    }
   ],
   "source": [
    "#inspect updates data\n",
    "update.head()"
   ]
  },
  {
   "cell_type": "code",
   "execution_count": 120,
   "metadata": {},
   "outputs": [],
   "source": [
    "up = pd.DataFrame(update['url'].value_counts()).reset_index().rename(columns={'index':'url','url':'update_count'})"
   ]
  },
  {
   "cell_type": "code",
   "execution_count": 121,
   "metadata": {},
   "outputs": [
    {
     "data": {
      "text/html": [
       "<div>\n",
       "<style scoped>\n",
       "    .dataframe tbody tr th:only-of-type {\n",
       "        vertical-align: middle;\n",
       "    }\n",
       "\n",
       "    .dataframe tbody tr th {\n",
       "        vertical-align: top;\n",
       "    }\n",
       "\n",
       "    .dataframe thead th {\n",
       "        text-align: right;\n",
       "    }\n",
       "</style>\n",
       "<table border=\"1\" class=\"dataframe\">\n",
       "  <thead>\n",
       "    <tr style=\"text-align: right;\">\n",
       "      <th></th>\n",
       "      <th>url</th>\n",
       "      <th>update_count</th>\n",
       "    </tr>\n",
       "  </thead>\n",
       "  <tbody>\n",
       "    <tr>\n",
       "      <th>0</th>\n",
       "      <td>https://www.gofundme.com/f/dhe0h0</td>\n",
       "      <td>153</td>\n",
       "    </tr>\n",
       "    <tr>\n",
       "      <th>1</th>\n",
       "      <td>https://www.gofundme.com/f/gr9p9c</td>\n",
       "      <td>153</td>\n",
       "    </tr>\n",
       "    <tr>\n",
       "      <th>2</th>\n",
       "      <td>https://www.gofundme.com/f/2sisters4stemcells</td>\n",
       "      <td>153</td>\n",
       "    </tr>\n",
       "    <tr>\n",
       "      <th>3</th>\n",
       "      <td>https://www.gofundme.com/f/help-ric-fight-cancer</td>\n",
       "      <td>153</td>\n",
       "    </tr>\n",
       "    <tr>\n",
       "      <th>4</th>\n",
       "      <td>https://www.gofundme.com/f/terrystransplant</td>\n",
       "      <td>153</td>\n",
       "    </tr>\n",
       "  </tbody>\n",
       "</table>\n",
       "</div>"
      ],
      "text/plain": [
       "                                                url  update_count\n",
       "0                 https://www.gofundme.com/f/dhe0h0           153\n",
       "1                 https://www.gofundme.com/f/gr9p9c           153\n",
       "2     https://www.gofundme.com/f/2sisters4stemcells           153\n",
       "3  https://www.gofundme.com/f/help-ric-fight-cancer           153\n",
       "4       https://www.gofundme.com/f/terrystransplant           153"
      ]
     },
     "execution_count": 121,
     "metadata": {},
     "output_type": "execute_result"
    }
   ],
   "source": [
    "up.head()"
   ]
  },
  {
   "cell_type": "code",
   "execution_count": 122,
   "metadata": {},
   "outputs": [],
   "source": [
    "master = master.merge(up, how='left', on='url')"
   ]
  },
  {
   "cell_type": "markdown",
   "metadata": {},
   "source": [
    "### Check dataset for missing data and size"
   ]
  },
  {
   "cell_type": "code",
   "execution_count": 123,
   "metadata": {},
   "outputs": [
    {
     "data": {
      "text/plain": [
       "(92301, 37)"
      ]
     },
     "execution_count": 123,
     "metadata": {},
     "output_type": "execute_result"
    }
   ],
   "source": [
    "master.shape"
   ]
  },
  {
   "cell_type": "code",
   "execution_count": 124,
   "metadata": {},
   "outputs": [
    {
     "data": {
      "text/plain": [
       "5"
      ]
     },
     "execution_count": 124,
     "metadata": {},
     "output_type": "execute_result"
    }
   ],
   "source": [
    "sum(master.isna().sum() > 0)"
   ]
  },
  {
   "cell_type": "code",
   "execution_count": 125,
   "metadata": {},
   "outputs": [
    {
     "data": {
      "text/plain": [
       "census_division          0\n",
       "research_in_title        0\n",
       "fund_description         0\n",
       "language                 0\n",
       "language_score           0\n",
       "donation_min          1999\n",
       "donation_max          1999\n",
       "donation_mean         1999\n",
       "donation_median       1999\n",
       "update_count         29102\n",
       "dtype: int64"
      ]
     },
     "execution_count": 125,
     "metadata": {},
     "output_type": "execute_result"
    }
   ],
   "source": [
    "master.isna().sum().tail(10)"
   ]
  },
  {
   "cell_type": "markdown",
   "metadata": {},
   "source": [
    "- Many campaigns do not have updates, so missing data for update_count is fine.\n",
    "- Inspect donation data more"
   ]
  },
  {
   "cell_type": "code",
   "execution_count": 126,
   "metadata": {},
   "outputs": [
    {
     "data": {
      "text/plain": [
       "1955"
      ]
     },
     "execution_count": 126,
     "metadata": {},
     "output_type": "execute_result"
    }
   ],
   "source": [
    "sum(master['donation_count'] == 0)"
   ]
  },
  {
   "cell_type": "markdown",
   "metadata": {},
   "source": [
    "Most missing donation data is due to campaigns that have no donations.\n",
    "\n",
    "n=44 campaigns do not have available donation data."
   ]
  },
  {
   "cell_type": "code",
   "execution_count": 127,
   "metadata": {},
   "outputs": [
    {
     "data": {
      "text/html": [
       "<div>\n",
       "<style scoped>\n",
       "    .dataframe tbody tr th:only-of-type {\n",
       "        vertical-align: middle;\n",
       "    }\n",
       "\n",
       "    .dataframe tbody tr th {\n",
       "        vertical-align: top;\n",
       "    }\n",
       "\n",
       "    .dataframe thead th {\n",
       "        text-align: right;\n",
       "    }\n",
       "</style>\n",
       "<table border=\"1\" class=\"dataframe\">\n",
       "  <thead>\n",
       "    <tr style=\"text-align: right;\">\n",
       "      <th></th>\n",
       "      <th>url</th>\n",
       "      <th>donation_count</th>\n",
       "      <th>donor_reached_max</th>\n",
       "      <th>currencycode</th>\n",
       "      <th>current_amount</th>\n",
       "      <th>goal_amount</th>\n",
       "      <th>fund_name</th>\n",
       "      <th>created_at</th>\n",
       "      <th>social_share_last_update</th>\n",
       "      <th>city</th>\n",
       "      <th>...</th>\n",
       "      <th>census_division</th>\n",
       "      <th>research_in_title</th>\n",
       "      <th>fund_description</th>\n",
       "      <th>language</th>\n",
       "      <th>language_score</th>\n",
       "      <th>donation_min</th>\n",
       "      <th>donation_max</th>\n",
       "      <th>donation_mean</th>\n",
       "      <th>donation_median</th>\n",
       "      <th>update_count</th>\n",
       "    </tr>\n",
       "  </thead>\n",
       "  <tbody>\n",
       "    <tr>\n",
       "      <th>6321</th>\n",
       "      <td>https://www.gofundme.com/f/qzd2e-respite-care</td>\n",
       "      <td>18</td>\n",
       "      <td>0</td>\n",
       "      <td>USD</td>\n",
       "      <td>1630.0</td>\n",
       "      <td>2500.0</td>\n",
       "      <td>Respite care</td>\n",
       "      <td>2020-02-28T16:27:20-06:00</td>\n",
       "      <td>2020-03-10T18:02:58-05:00</td>\n",
       "      <td>San Diego, CA</td>\n",
       "      <td>...</td>\n",
       "      <td>Pacific</td>\n",
       "      <td>0</td>\n",
       "      <td>My name is Marie. My husband and I have been t...</td>\n",
       "      <td>en</td>\n",
       "      <td>0.982713</td>\n",
       "      <td>NaN</td>\n",
       "      <td>NaN</td>\n",
       "      <td>NaN</td>\n",
       "      <td>NaN</td>\n",
       "      <td>2.0</td>\n",
       "    </tr>\n",
       "    <tr>\n",
       "      <th>6568</th>\n",
       "      <td>https://www.gofundme.com/f/help-ursula-get-peace</td>\n",
       "      <td>12</td>\n",
       "      <td>0</td>\n",
       "      <td>USD</td>\n",
       "      <td>1550.0</td>\n",
       "      <td>20000.0</td>\n",
       "      <td>Help Ursula get peace</td>\n",
       "      <td>2018-06-06T07:32:40-05:00</td>\n",
       "      <td>2018-06-07T17:50:44-05:00</td>\n",
       "      <td>Fort Lauderdale, FL</td>\n",
       "      <td>...</td>\n",
       "      <td>South Atlantic</td>\n",
       "      <td>0</td>\n",
       "      <td>Ursula is a 57 year old mom, wife, daughter, s...</td>\n",
       "      <td>en</td>\n",
       "      <td>0.979423</td>\n",
       "      <td>NaN</td>\n",
       "      <td>NaN</td>\n",
       "      <td>NaN</td>\n",
       "      <td>NaN</td>\n",
       "      <td>1.0</td>\n",
       "    </tr>\n",
       "    <tr>\n",
       "      <th>7409</th>\n",
       "      <td>https://www.gofundme.com/f/roclathon-2020</td>\n",
       "      <td>7</td>\n",
       "      <td>0</td>\n",
       "      <td>USD</td>\n",
       "      <td>200.0</td>\n",
       "      <td>3000.0</td>\n",
       "      <td>Rock-A-Thon 2020</td>\n",
       "      <td>2020-02-26T08:27:15-06:00</td>\n",
       "      <td>2020-03-12T14:39:55-05:00</td>\n",
       "      <td>Altoona, PA</td>\n",
       "      <td>...</td>\n",
       "      <td>Middle Atlantic</td>\n",
       "      <td>0</td>\n",
       "      <td>UPDATE: Thank you so much to everyone who as a...</td>\n",
       "      <td>en</td>\n",
       "      <td>0.942339</td>\n",
       "      <td>NaN</td>\n",
       "      <td>NaN</td>\n",
       "      <td>NaN</td>\n",
       "      <td>NaN</td>\n",
       "      <td>NaN</td>\n",
       "    </tr>\n",
       "    <tr>\n",
       "      <th>8209</th>\n",
       "      <td>https://www.gofundme.com/f/help-support-helen-...</td>\n",
       "      <td>6</td>\n",
       "      <td>0</td>\n",
       "      <td>USD</td>\n",
       "      <td>600.0</td>\n",
       "      <td>50000.0</td>\n",
       "      <td>Help Support Helen Iaconelli Through Her Fight</td>\n",
       "      <td>2020-02-21T09:36:11-06:00</td>\n",
       "      <td></td>\n",
       "      <td>Woodbine, NJ</td>\n",
       "      <td>...</td>\n",
       "      <td>Middle Atlantic</td>\n",
       "      <td>0</td>\n",
       "      <td>As some may already know, Helen was surprising...</td>\n",
       "      <td>en</td>\n",
       "      <td>0.973820</td>\n",
       "      <td>NaN</td>\n",
       "      <td>NaN</td>\n",
       "      <td>NaN</td>\n",
       "      <td>NaN</td>\n",
       "      <td>1.0</td>\n",
       "    </tr>\n",
       "    <tr>\n",
       "      <th>8687</th>\n",
       "      <td>https://www.gofundme.com/f/hezkjg-it-takes-a-v...</td>\n",
       "      <td>30</td>\n",
       "      <td>0</td>\n",
       "      <td>USD</td>\n",
       "      <td>1785.0</td>\n",
       "      <td>7000.0</td>\n",
       "      <td>It takes a Village</td>\n",
       "      <td>2020-02-27T07:05:39-06:00</td>\n",
       "      <td>2020-05-29T05:27:47-05:00</td>\n",
       "      <td>Saint Cloud, FL</td>\n",
       "      <td>...</td>\n",
       "      <td>South Atlantic</td>\n",
       "      <td>0</td>\n",
       "      <td>I'm not even sure where to start.  Never done ...</td>\n",
       "      <td>en</td>\n",
       "      <td>0.981220</td>\n",
       "      <td>NaN</td>\n",
       "      <td>NaN</td>\n",
       "      <td>NaN</td>\n",
       "      <td>NaN</td>\n",
       "      <td>3.0</td>\n",
       "    </tr>\n",
       "  </tbody>\n",
       "</table>\n",
       "<p>5 rows × 37 columns</p>\n",
       "</div>"
      ],
      "text/plain": [
       "                                                    url  donation_count  \\\n",
       "6321      https://www.gofundme.com/f/qzd2e-respite-care              18   \n",
       "6568   https://www.gofundme.com/f/help-ursula-get-peace              12   \n",
       "7409          https://www.gofundme.com/f/roclathon-2020               7   \n",
       "8209  https://www.gofundme.com/f/help-support-helen-...               6   \n",
       "8687  https://www.gofundme.com/f/hezkjg-it-takes-a-v...              30   \n",
       "\n",
       "      donor_reached_max currencycode  current_amount  goal_amount  \\\n",
       "6321                  0          USD          1630.0       2500.0   \n",
       "6568                  0          USD          1550.0      20000.0   \n",
       "7409                  0          USD           200.0       3000.0   \n",
       "8209                  0          USD           600.0      50000.0   \n",
       "8687                  0          USD          1785.0       7000.0   \n",
       "\n",
       "                                           fund_name  \\\n",
       "6321                                    Respite care   \n",
       "6568                           Help Ursula get peace   \n",
       "7409                                Rock-A-Thon 2020   \n",
       "8209  Help Support Helen Iaconelli Through Her Fight   \n",
       "8687                              It takes a Village   \n",
       "\n",
       "                     created_at   social_share_last_update  \\\n",
       "6321  2020-02-28T16:27:20-06:00  2020-03-10T18:02:58-05:00   \n",
       "6568  2018-06-06T07:32:40-05:00  2018-06-07T17:50:44-05:00   \n",
       "7409  2020-02-26T08:27:15-06:00  2020-03-12T14:39:55-05:00   \n",
       "8209  2020-02-21T09:36:11-06:00                              \n",
       "8687  2020-02-27T07:05:39-06:00  2020-05-29T05:27:47-05:00   \n",
       "\n",
       "                     city  ...  census_division research_in_title  \\\n",
       "6321        San Diego, CA  ...          Pacific                 0   \n",
       "6568  Fort Lauderdale, FL  ...   South Atlantic                 0   \n",
       "7409          Altoona, PA  ...  Middle Atlantic                 0   \n",
       "8209         Woodbine, NJ  ...  Middle Atlantic                 0   \n",
       "8687      Saint Cloud, FL  ...   South Atlantic                 0   \n",
       "\n",
       "                                       fund_description language  \\\n",
       "6321  My name is Marie. My husband and I have been t...       en   \n",
       "6568  Ursula is a 57 year old mom, wife, daughter, s...       en   \n",
       "7409  UPDATE: Thank you so much to everyone who as a...       en   \n",
       "8209  As some may already know, Helen was surprising...       en   \n",
       "8687  I'm not even sure where to start.  Never done ...       en   \n",
       "\n",
       "     language_score  donation_min donation_max donation_mean  donation_median  \\\n",
       "6321       0.982713           NaN          NaN           NaN              NaN   \n",
       "6568       0.979423           NaN          NaN           NaN              NaN   \n",
       "7409       0.942339           NaN          NaN           NaN              NaN   \n",
       "8209       0.973820           NaN          NaN           NaN              NaN   \n",
       "8687       0.981220           NaN          NaN           NaN              NaN   \n",
       "\n",
       "     update_count  \n",
       "6321          2.0  \n",
       "6568          1.0  \n",
       "7409          NaN  \n",
       "8209          1.0  \n",
       "8687          3.0  \n",
       "\n",
       "[5 rows x 37 columns]"
      ]
     },
     "execution_count": 127,
     "metadata": {},
     "output_type": "execute_result"
    }
   ],
   "source": [
    "master[(master['donation_count'] > 0)&(master['donation_min'].isna())].head()"
   ]
  },
  {
   "cell_type": "markdown",
   "metadata": {},
   "source": [
    "### Summarize and apply exclusions"
   ]
  },
  {
   "cell_type": "code",
   "execution_count": 128,
   "metadata": {},
   "outputs": [
    {
     "name": "stdout",
     "output_type": "stream",
     "text": [
      "99943\n"
     ]
    }
   ],
   "source": [
    "#starting sample size\n",
    "print(original_n)"
   ]
  },
  {
   "cell_type": "code",
   "execution_count": 129,
   "metadata": {},
   "outputs": [
    {
     "name": "stdout",
     "output_type": "stream",
     "text": [
      "6981\n"
     ]
    }
   ],
   "source": [
    "#duplicate campaigns\n",
    "print(duplicated_n_removed)"
   ]
  },
  {
   "cell_type": "code",
   "execution_count": 130,
   "metadata": {},
   "outputs": [
    {
     "name": "stdout",
     "output_type": "stream",
     "text": [
      "25\n"
     ]
    }
   ],
   "source": [
    "#zip codes with length greater than 5\n",
    "print(zip_code_greater_5_n_removed)"
   ]
  },
  {
   "cell_type": "code",
   "execution_count": 131,
   "metadata": {},
   "outputs": [
    {
     "name": "stdout",
     "output_type": "stream",
     "text": [
      "396\n"
     ]
    }
   ],
   "source": [
    "#zip codes unmapped to HUD zip to county file\n",
    "print(unmapped_zip_n_removed)"
   ]
  },
  {
   "cell_type": "code",
   "execution_count": 132,
   "metadata": {},
   "outputs": [
    {
     "name": "stdout",
     "output_type": "stream",
     "text": [
      "234\n"
     ]
    }
   ],
   "source": [
    "#states outside US 50 + DC\n",
    "print(locations_outside_US_n_removed)"
   ]
  },
  {
   "cell_type": "code",
   "execution_count": 133,
   "metadata": {},
   "outputs": [
    {
     "name": "stdout",
     "output_type": "stream",
     "text": [
      "6\n"
     ]
    }
   ],
   "source": [
    "#missing county in census\n",
    "print(missing_county_n_removed)"
   ]
  },
  {
   "cell_type": "code",
   "execution_count": 134,
   "metadata": {},
   "outputs": [
    {
     "name": "stdout",
     "output_type": "stream",
     "text": [
      "2561\n"
     ]
    }
   ],
   "source": [
    "#remove non-english campaigns\n",
    "starting_n = master.shape[0]\n",
    "master = master[master['language'] == 'en']\n",
    "non_english_n_removed = starting_n - master.shape[0]\n",
    "print(non_english_n_removed)"
   ]
  },
  {
   "cell_type": "code",
   "execution_count": 135,
   "metadata": {},
   "outputs": [
    {
     "name": "stdout",
     "output_type": "stream",
     "text": [
      "25\n"
     ]
    }
   ],
   "source": [
    "#remove campaigns with currency != USD\n",
    "starting_n = master.shape[0]\n",
    "master = master[master['currencycode'] == 'USD']\n",
    "non_usd_n_removed = starting_n - master.shape[0]\n",
    "print(non_usd_n_removed)"
   ]
  },
  {
   "cell_type": "code",
   "execution_count": 136,
   "metadata": {},
   "outputs": [
    {
     "name": "stdout",
     "output_type": "stream",
     "text": [
      "70\n"
     ]
    }
   ],
   "source": [
    "#remove campaigns with \"research\" in title\n",
    "starting_n = master.shape[0]\n",
    "master = master[master['research_in_title'] == 0]\n",
    "research_n_removed = starting_n - master.shape[0]\n",
    "print(research_n_removed)"
   ]
  },
  {
   "cell_type": "markdown",
   "metadata": {},
   "source": [
    "#### Remove financial outliers"
   ]
  },
  {
   "cell_type": "code",
   "execution_count": 137,
   "metadata": {},
   "outputs": [
    {
     "name": "stdout",
     "output_type": "stream",
     "text": [
      "0.999    134867.204\n",
      "Name: current_amount, dtype: float64\n"
     ]
    }
   ],
   "source": [
    "print(master['current_amount'].quantile([.999]))\n",
    "current_amt_cutoff = master['current_amount'].quantile([.999]).tolist()[0]"
   ]
  },
  {
   "cell_type": "code",
   "execution_count": 138,
   "metadata": {},
   "outputs": [
    {
     "name": "stdout",
     "output_type": "stream",
     "text": [
      "0.999    1000000.0\n",
      "Name: goal_amount, dtype: float64\n"
     ]
    }
   ],
   "source": [
    "print(master['goal_amount'].quantile([.999]))\n",
    "goal_amt_cutoff = master['goal_amount'].quantile([.999]).tolist()[0]"
   ]
  },
  {
   "cell_type": "code",
   "execution_count": 139,
   "metadata": {},
   "outputs": [
    {
     "name": "stdout",
     "output_type": "stream",
     "text": [
      "0.999    1496.068\n",
      "Name: donation_count, dtype: float64\n"
     ]
    }
   ],
   "source": [
    "print(master['donation_count'].quantile([.999]))\n",
    "donation_count_cutoff = master['donation_count'].quantile([.999]).tolist()[0]"
   ]
  },
  {
   "cell_type": "code",
   "execution_count": 140,
   "metadata": {},
   "outputs": [
    {
     "name": "stdout",
     "output_type": "stream",
     "text": [
      "0.999    1014.861905\n",
      "Name: donation_mean, dtype: float64\n"
     ]
    }
   ],
   "source": [
    "print(master['donation_mean'].quantile([.999]))\n",
    "donation_amt_cutoff = master['donation_mean'].quantile([.999]).tolist()[0]"
   ]
  },
  {
   "cell_type": "code",
   "execution_count": 141,
   "metadata": {},
   "outputs": [
    {
     "name": "stdout",
     "output_type": "stream",
     "text": [
      "2266\n"
     ]
    }
   ],
   "source": [
    "start_n = master.shape[0]\n",
    "\n",
    "master = master[master['current_amount'] < current_amt_cutoff]\n",
    "master = master[master['goal_amount'] < goal_amt_cutoff]\n",
    "master = master[master['donation_count'] < donation_count_cutoff]\n",
    "master = master[master['donation_mean'] < donation_amt_cutoff]\n",
    "\n",
    "financial_removed = starting_n - master.shape[0]\n",
    "print(financial_removed)"
   ]
  },
  {
   "cell_type": "code",
   "execution_count": 142,
   "metadata": {},
   "outputs": [
    {
     "data": {
      "text/plain": [
       "(87449, 37)"
      ]
     },
     "execution_count": 142,
     "metadata": {},
     "output_type": "execute_result"
    }
   ],
   "source": [
    "master.shape"
   ]
  },
  {
   "cell_type": "markdown",
   "metadata": {},
   "source": [
    "### Save data to database"
   ]
  },
  {
   "cell_type": "code",
   "execution_count": 143,
   "metadata": {},
   "outputs": [],
   "source": [
    "master.to_sql('master', con=conn, if_exists='replace')"
   ]
  },
  {
   "cell_type": "markdown",
   "metadata": {},
   "source": [
    "### Test that save to db worked"
   ]
  },
  {
   "cell_type": "code",
   "execution_count": 144,
   "metadata": {},
   "outputs": [
    {
     "data": {
      "text/html": [
       "<div>\n",
       "<style scoped>\n",
       "    .dataframe tbody tr th:only-of-type {\n",
       "        vertical-align: middle;\n",
       "    }\n",
       "\n",
       "    .dataframe tbody tr th {\n",
       "        vertical-align: top;\n",
       "    }\n",
       "\n",
       "    .dataframe thead th {\n",
       "        text-align: right;\n",
       "    }\n",
       "</style>\n",
       "<table border=\"1\" class=\"dataframe\">\n",
       "  <thead>\n",
       "    <tr style=\"text-align: right;\">\n",
       "      <th></th>\n",
       "      <th>COUNT(*)</th>\n",
       "    </tr>\n",
       "  </thead>\n",
       "  <tbody>\n",
       "    <tr>\n",
       "      <th>0</th>\n",
       "      <td>87449</td>\n",
       "    </tr>\n",
       "  </tbody>\n",
       "</table>\n",
       "</div>"
      ],
      "text/plain": [
       "   COUNT(*)\n",
       "0     87449"
      ]
     },
     "execution_count": 144,
     "metadata": {},
     "output_type": "execute_result"
    }
   ],
   "source": [
    "pd.read_sql_query(\"SELECT COUNT(*) FROM master\", conn)"
   ]
  },
  {
   "cell_type": "code",
   "execution_count": null,
   "metadata": {},
   "outputs": [],
   "source": []
  }
 ],
 "metadata": {
  "kernelspec": {
   "display_name": "Python 3",
   "language": "python",
   "name": "python3"
  },
  "language_info": {
   "codemirror_mode": {
    "name": "ipython",
    "version": 3
   },
   "file_extension": ".py",
   "mimetype": "text/x-python",
   "name": "python",
   "nbconvert_exporter": "python",
   "pygments_lexer": "ipython3",
   "version": "3.7.6"
  }
 },
 "nbformat": 4,
 "nbformat_minor": 4
}
