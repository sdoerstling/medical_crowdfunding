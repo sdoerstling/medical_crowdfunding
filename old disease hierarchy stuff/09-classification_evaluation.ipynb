{
 "cells": [
  {
   "cell_type": "markdown",
   "metadata": {},
   "source": [
    "### Import packages"
   ]
  },
  {
   "cell_type": "code",
   "execution_count": 118,
   "metadata": {},
   "outputs": [],
   "source": [
    "import pandas as pd\n",
    "import numpy as np"
   ]
  },
  {
   "cell_type": "markdown",
   "metadata": {},
   "source": [
    "### Import utilities"
   ]
  },
  {
   "cell_type": "code",
   "execution_count": 2,
   "metadata": {},
   "outputs": [],
   "source": [
    "import sys\n",
    "sys.path.append('../src/')\n",
    "import utils\n",
    "\n",
    "z_recode_stems = utils.z_recode_stems\n",
    "Recode_z = utils.Recode_z\n",
    "most_common = utils.most_common"
   ]
  },
  {
   "cell_type": "markdown",
   "metadata": {},
   "source": [
    "### Import data"
   ]
  },
  {
   "cell_type": "code",
   "execution_count": 119,
   "metadata": {},
   "outputs": [],
   "source": [
    "ccsr = pd.read_csv('../data/ccsr/disease_hierarchy.csv')"
   ]
  },
  {
   "cell_type": "code",
   "execution_count": 120,
   "metadata": {},
   "outputs": [],
   "source": [
    "er = pd.read_csv('../data/disease_categorization/evaluation/er_3-6_more_models.csv')"
   ]
  },
  {
   "cell_type": "code",
   "execution_count": 121,
   "metadata": {},
   "outputs": [],
   "source": [
    "er = er[(er['ner_model'] == 'ner_jsl') & (er['er_model'] == 'sbiobertresolve_icd10cm_augmented')]"
   ]
  },
  {
   "cell_type": "code",
   "execution_count": 122,
   "metadata": {},
   "outputs": [],
   "source": [
    "er = pd.read_csv('../data/eval_clean_text_er_nosymp.csv')"
   ]
  },
  {
   "cell_type": "markdown",
   "metadata": {},
   "source": [
    "### Inspect data"
   ]
  },
  {
   "cell_type": "code",
   "execution_count": 123,
   "metadata": {},
   "outputs": [
    {
     "data": {
      "text/html": [
       "<div>\n",
       "<style scoped>\n",
       "    .dataframe tbody tr th:only-of-type {\n",
       "        vertical-align: middle;\n",
       "    }\n",
       "\n",
       "    .dataframe tbody tr th {\n",
       "        vertical-align: top;\n",
       "    }\n",
       "\n",
       "    .dataframe thead th {\n",
       "        text-align: right;\n",
       "    }\n",
       "</style>\n",
       "<table border=\"1\" class=\"dataframe\">\n",
       "  <thead>\n",
       "    <tr style=\"text-align: right;\">\n",
       "      <th></th>\n",
       "      <th>icd_10_cm_code</th>\n",
       "      <th>icd_10_cm_code_desc</th>\n",
       "      <th>ccsr_category</th>\n",
       "      <th>disease_category</th>\n",
       "    </tr>\n",
       "  </thead>\n",
       "  <tbody>\n",
       "    <tr>\n",
       "      <th>0</th>\n",
       "      <td>A000</td>\n",
       "      <td>Cholera due to Vibrio cholerae 01, biovar chol...</td>\n",
       "      <td>Intestinal infection</td>\n",
       "      <td>Gastrointestinal diseases</td>\n",
       "    </tr>\n",
       "    <tr>\n",
       "      <th>1</th>\n",
       "      <td>A001</td>\n",
       "      <td>Cholera due to Vibrio cholerae 01, biovar eltor</td>\n",
       "      <td>Intestinal infection</td>\n",
       "      <td>Gastrointestinal diseases</td>\n",
       "    </tr>\n",
       "    <tr>\n",
       "      <th>2</th>\n",
       "      <td>A009</td>\n",
       "      <td>Cholera, unspecified</td>\n",
       "      <td>Intestinal infection</td>\n",
       "      <td>Gastrointestinal diseases</td>\n",
       "    </tr>\n",
       "    <tr>\n",
       "      <th>3</th>\n",
       "      <td>A0100</td>\n",
       "      <td>Typhoid fever, unspecified</td>\n",
       "      <td>Intestinal infection</td>\n",
       "      <td>Gastrointestinal diseases</td>\n",
       "    </tr>\n",
       "    <tr>\n",
       "      <th>4</th>\n",
       "      <td>A0101</td>\n",
       "      <td>Typhoid meningitis</td>\n",
       "      <td>Meningitis</td>\n",
       "      <td>Nervous system diseases</td>\n",
       "    </tr>\n",
       "  </tbody>\n",
       "</table>\n",
       "</div>"
      ],
      "text/plain": [
       "  icd_10_cm_code                                icd_10_cm_code_desc  \\\n",
       "0           A000  Cholera due to Vibrio cholerae 01, biovar chol...   \n",
       "1           A001    Cholera due to Vibrio cholerae 01, biovar eltor   \n",
       "2           A009                               Cholera, unspecified   \n",
       "3          A0100                         Typhoid fever, unspecified   \n",
       "4          A0101                                 Typhoid meningitis   \n",
       "\n",
       "          ccsr_category           disease_category  \n",
       "0  Intestinal infection  Gastrointestinal diseases  \n",
       "1  Intestinal infection  Gastrointestinal diseases  \n",
       "2  Intestinal infection  Gastrointestinal diseases  \n",
       "3  Intestinal infection  Gastrointestinal diseases  \n",
       "4            Meningitis    Nervous system diseases  "
      ]
     },
     "execution_count": 123,
     "metadata": {},
     "output_type": "execute_result"
    }
   ],
   "source": [
    "ccsr.head()"
   ]
  },
  {
   "cell_type": "code",
   "execution_count": 124,
   "metadata": {},
   "outputs": [
    {
     "data": {
      "text/html": [
       "<div>\n",
       "<style scoped>\n",
       "    .dataframe tbody tr th:only-of-type {\n",
       "        vertical-align: middle;\n",
       "    }\n",
       "\n",
       "    .dataframe tbody tr th {\n",
       "        vertical-align: top;\n",
       "    }\n",
       "\n",
       "    .dataframe thead th {\n",
       "        text-align: right;\n",
       "    }\n",
       "</style>\n",
       "<table border=\"1\" class=\"dataframe\">\n",
       "  <thead>\n",
       "    <tr style=\"text-align: right;\">\n",
       "      <th></th>\n",
       "      <th>url</th>\n",
       "      <th>chunks</th>\n",
       "      <th>begin</th>\n",
       "      <th>end</th>\n",
       "      <th>sent</th>\n",
       "      <th>code</th>\n",
       "      <th>results</th>\n",
       "      <th>resolutions</th>\n",
       "      <th>res_distances</th>\n",
       "    </tr>\n",
       "  </thead>\n",
       "  <tbody>\n",
       "    <tr>\n",
       "      <th>0</th>\n",
       "      <td>https://www.gofundme.com/f/please-help-karens-...</td>\n",
       "      <td>mental illness</td>\n",
       "      <td>154.0</td>\n",
       "      <td>167.0</td>\n",
       "      <td>0</td>\n",
       "      <td>F99</td>\n",
       "      <td>F99:::F989:::Z818:::F069:::F489:::F818:::R4182...</td>\n",
       "      <td>mental illness:::mental disease:::fh - mental ...</td>\n",
       "      <td>0.0000:::4.2922:::6.1046:::6.4576:::6.6951:::6...</td>\n",
       "    </tr>\n",
       "    <tr>\n",
       "      <th>1</th>\n",
       "      <td>https://www.gofundme.com/f/please-help-karens-...</td>\n",
       "      <td>infection</td>\n",
       "      <td>350.0</td>\n",
       "      <td>358.0</td>\n",
       "      <td>2</td>\n",
       "      <td>P399</td>\n",
       "      <td>P399:::B99:::P369:::B999:::H6039:::B889:::K137...</td>\n",
       "      <td>infection:::infectious disease:::clinical infe...</td>\n",
       "      <td>0.0000:::7.7580:::8.0403:::8.0569:::8.2141:::8...</td>\n",
       "    </tr>\n",
       "    <tr>\n",
       "      <th>2</th>\n",
       "      <td>https://www.gofundme.com/f/please-help-karens-...</td>\n",
       "      <td>food allergies</td>\n",
       "      <td>372.0</td>\n",
       "      <td>385.0</td>\n",
       "      <td>2</td>\n",
       "      <td>T781</td>\n",
       "      <td>T781:::T781X:::Z9101:::Z9102:::Z910:::K522:::Z...</td>\n",
       "      <td>food allergy:::allergy to food:::food allergy ...</td>\n",
       "      <td>2.6654:::4.4447:::4.5697:::5.2001:::5.5752:::5...</td>\n",
       "    </tr>\n",
       "    <tr>\n",
       "      <th>3</th>\n",
       "      <td>https://www.gofundme.com/f/please-help-karens-...</td>\n",
       "      <td>mental illness</td>\n",
       "      <td>412.0</td>\n",
       "      <td>425.0</td>\n",
       "      <td>2</td>\n",
       "      <td>F99</td>\n",
       "      <td>F99:::F989:::Z818:::F069:::F489:::F818:::R4182...</td>\n",
       "      <td>mental illness:::mental disease:::fh - mental ...</td>\n",
       "      <td>0.0000:::4.2922:::6.1046:::6.4576:::6.6951:::6...</td>\n",
       "    </tr>\n",
       "    <tr>\n",
       "      <th>4</th>\n",
       "      <td>https://www.gofundme.com/f/please-help-karens-...</td>\n",
       "      <td>infection</td>\n",
       "      <td>566.0</td>\n",
       "      <td>574.0</td>\n",
       "      <td>3</td>\n",
       "      <td>P399</td>\n",
       "      <td>P399:::B99:::P369:::B999:::H6039:::B889:::K137...</td>\n",
       "      <td>infection:::infectious disease:::clinical infe...</td>\n",
       "      <td>0.0000:::7.7580:::8.0403:::8.0569:::8.2141:::8...</td>\n",
       "    </tr>\n",
       "  </tbody>\n",
       "</table>\n",
       "</div>"
      ],
      "text/plain": [
       "                                                 url          chunks  begin  \\\n",
       "0  https://www.gofundme.com/f/please-help-karens-...  mental illness  154.0   \n",
       "1  https://www.gofundme.com/f/please-help-karens-...       infection  350.0   \n",
       "2  https://www.gofundme.com/f/please-help-karens-...  food allergies  372.0   \n",
       "3  https://www.gofundme.com/f/please-help-karens-...  mental illness  412.0   \n",
       "4  https://www.gofundme.com/f/please-help-karens-...       infection  566.0   \n",
       "\n",
       "     end  sent  code                                            results  \\\n",
       "0  167.0     0   F99  F99:::F989:::Z818:::F069:::F489:::F818:::R4182...   \n",
       "1  358.0     2  P399  P399:::B99:::P369:::B999:::H6039:::B889:::K137...   \n",
       "2  385.0     2  T781  T781:::T781X:::Z9101:::Z9102:::Z910:::K522:::Z...   \n",
       "3  425.0     2   F99  F99:::F989:::Z818:::F069:::F489:::F818:::R4182...   \n",
       "4  574.0     3  P399  P399:::B99:::P369:::B999:::H6039:::B889:::K137...   \n",
       "\n",
       "                                         resolutions  \\\n",
       "0  mental illness:::mental disease:::fh - mental ...   \n",
       "1  infection:::infectious disease:::clinical infe...   \n",
       "2  food allergy:::allergy to food:::food allergy ...   \n",
       "3  mental illness:::mental disease:::fh - mental ...   \n",
       "4  infection:::infectious disease:::clinical infe...   \n",
       "\n",
       "                                       res_distances  \n",
       "0  0.0000:::4.2922:::6.1046:::6.4576:::6.6951:::6...  \n",
       "1  0.0000:::7.7580:::8.0403:::8.0569:::8.2141:::8...  \n",
       "2  2.6654:::4.4447:::4.5697:::5.2001:::5.5752:::5...  \n",
       "3  0.0000:::4.2922:::6.1046:::6.4576:::6.6951:::6...  \n",
       "4  0.0000:::7.7580:::8.0403:::8.0569:::8.2141:::8...  "
      ]
     },
     "execution_count": 124,
     "metadata": {},
     "output_type": "execute_result"
    }
   ],
   "source": [
    "er.head()"
   ]
  },
  {
   "cell_type": "code",
   "execution_count": 125,
   "metadata": {},
   "outputs": [
    {
     "data": {
      "text/plain": [
       "171"
      ]
     },
     "execution_count": 125,
     "metadata": {},
     "output_type": "execute_result"
    }
   ],
   "source": [
    "er['url'].nunique()"
   ]
  },
  {
   "cell_type": "code",
   "execution_count": 13,
   "metadata": {},
   "outputs": [],
   "source": [
    "# er_urls_input = er['url'].tolist()"
   ]
  },
  {
   "cell_type": "code",
   "execution_count": 14,
   "metadata": {},
   "outputs": [],
   "source": [
    "# er.dropna(axis = 0, how = 'any', inplace = True)"
   ]
  },
  {
   "cell_type": "code",
   "execution_count": 15,
   "metadata": {},
   "outputs": [
    {
     "data": {
      "text/plain": [
       "148"
      ]
     },
     "execution_count": 15,
     "metadata": {},
     "output_type": "execute_result"
    }
   ],
   "source": [
    "# er['url'].nunique()"
   ]
  },
  {
   "cell_type": "code",
   "execution_count": 126,
   "metadata": {},
   "outputs": [],
   "source": [
    "er.rename(columns={'code':'entity_code'}, inplace=True)"
   ]
  },
  {
   "cell_type": "markdown",
   "metadata": {},
   "source": [
    "### Recode \"family history of\" codes (start with Z8) and recode to second code in results"
   ]
  },
  {
   "cell_type": "code",
   "execution_count": 14,
   "metadata": {},
   "outputs": [],
   "source": [
    "#takes a little while\n",
    "recode_fh_map = Recode_z(er, z_recode_stems)"
   ]
  },
  {
   "cell_type": "code",
   "execution_count": 15,
   "metadata": {},
   "outputs": [],
   "source": [
    "#find the most common remapping and use that\n",
    "recode_fh_map_lofd = pd.DataFrame(recode_fh_map).groupby('code').agg(lambda x: most_common(list(x))).reset_index().to_dict(orient='records')\n",
    "\n",
    "recode_fh_map_dict = {}\n",
    "for d in recode_fh_map_lofd:\n",
    "    recode_fh_map_dict[d['code']] = d['res']"
   ]
  },
  {
   "cell_type": "code",
   "execution_count": 16,
   "metadata": {},
   "outputs": [],
   "source": [
    "#replace values\n",
    "er['entity_code'].replace(recode_fh_map_dict, inplace=True)"
   ]
  },
  {
   "cell_type": "markdown",
   "metadata": {},
   "source": [
    "### Match ICD codes from entity resolution with categories from CCSR"
   ]
  },
  {
   "cell_type": "code",
   "execution_count": 133,
   "metadata": {},
   "outputs": [],
   "source": [
    "raw_codes = er['entity_code'].unique().tolist()"
   ]
  },
  {
   "cell_type": "code",
   "execution_count": 134,
   "metadata": {},
   "outputs": [],
   "source": [
    "ccsr_codes = ccsr['icd_10_cm_code'].tolist()"
   ]
  },
  {
   "cell_type": "code",
   "execution_count": 135,
   "metadata": {},
   "outputs": [],
   "source": [
    "def StemCode(code, ccsr):\n",
    "    res = 0\n",
    "    while res == 0:\n",
    "        sub = ccsr[ccsr['icd_10_cm_code'].str.startswith(code)]\n",
    "        res = sub.shape[0]\n",
    "        if res > 0:\n",
    "            cats = sub['ccsr_category'].value_counts().index[0]\n",
    "            return code, cats\n",
    "        else:\n",
    "            code = code[:-1]\n",
    "            if len(code) == 0:\n",
    "                print('error')\n",
    "                return np.nan, np.nan"
   ]
  },
  {
   "cell_type": "code",
   "execution_count": 136,
   "metadata": {},
   "outputs": [],
   "source": [
    "def GetCodeMatch(raw_codes, ccsr_codes, ccsr):\n",
    "\n",
    "    #define results container for best match\n",
    "    best_match = []\n",
    "\n",
    "    #loop through raw codes\n",
    "    for raw in raw_codes:\n",
    "        #if raw code exists in CCSR as-is\n",
    "        if raw in ccsr_codes:\n",
    "            #no need to define best match as exact match already exists\n",
    "            continue\n",
    "        else:\n",
    "            #see if there are any codes that start with code\n",
    "            #if not, remove final character, try again\n",
    "            #once codes are found, select the ccsr_cateogry that is most common\n",
    "            matched_code, ccsr_cat = StemCode(raw, ccsr)\n",
    "            best_match.append({'raw_code':raw, 'matched_code_stem':matched_code,'matched_ccsr_category':ccsr_cat})\n",
    "\n",
    "    return best_match"
   ]
  },
  {
   "cell_type": "code",
   "execution_count": 137,
   "metadata": {},
   "outputs": [],
   "source": [
    "best_match_map = GetCodeMatch(raw_codes, ccsr_codes, ccsr)"
   ]
  },
  {
   "cell_type": "code",
   "execution_count": 138,
   "metadata": {},
   "outputs": [],
   "source": [
    "best_match_map = pd.DataFrame(best_match_map).merge(ccsr[['ccsr_category','int_category','disease_category']].drop_duplicates('ccsr_category'), \n",
    "                                                    left_on='matched_ccsr_category', \n",
    "                                                    right_on='ccsr_category', \n",
    "                                                    how='left')"
   ]
  },
  {
   "cell_type": "code",
   "execution_count": 139,
   "metadata": {},
   "outputs": [
    {
     "data": {
      "text/html": [
       "<div>\n",
       "<style scoped>\n",
       "    .dataframe tbody tr th:only-of-type {\n",
       "        vertical-align: middle;\n",
       "    }\n",
       "\n",
       "    .dataframe tbody tr th {\n",
       "        vertical-align: top;\n",
       "    }\n",
       "\n",
       "    .dataframe thead th {\n",
       "        text-align: right;\n",
       "    }\n",
       "</style>\n",
       "<table border=\"1\" class=\"dataframe\">\n",
       "  <thead>\n",
       "    <tr style=\"text-align: right;\">\n",
       "      <th></th>\n",
       "      <th>raw_code</th>\n",
       "      <th>matched_code_stem</th>\n",
       "      <th>matched_ccsr_category</th>\n",
       "      <th>ccsr_category</th>\n",
       "      <th>disease_category</th>\n",
       "    </tr>\n",
       "  </thead>\n",
       "  <tbody>\n",
       "    <tr>\n",
       "      <th>34</th>\n",
       "      <td>C950</td>\n",
       "      <td>C950</td>\n",
       "      <td>Leukemia - all other types</td>\n",
       "      <td>Leukemia - all other types</td>\n",
       "      <td>Neoplasms</td>\n",
       "    </tr>\n",
       "    <tr>\n",
       "      <th>39</th>\n",
       "      <td>S3723</td>\n",
       "      <td>S3723</td>\n",
       "      <td>Internal organ injury, initial encounter</td>\n",
       "      <td>Internal organ injury, initial encounter</td>\n",
       "      <td>Injuries and external causes</td>\n",
       "    </tr>\n",
       "    <tr>\n",
       "      <th>73</th>\n",
       "      <td>I70</td>\n",
       "      <td>I70</td>\n",
       "      <td>Peripheral and visceral vascular disease</td>\n",
       "      <td>Peripheral and visceral vascular disease</td>\n",
       "      <td>Cardiovascular diseases</td>\n",
       "    </tr>\n",
       "    <tr>\n",
       "      <th>25</th>\n",
       "      <td>R688</td>\n",
       "      <td>R688</td>\n",
       "      <td>Other general signs and symptoms</td>\n",
       "      <td>Other general signs and symptoms</td>\n",
       "      <td>Nonspecific</td>\n",
       "    </tr>\n",
       "    <tr>\n",
       "      <th>23</th>\n",
       "      <td>V892</td>\n",
       "      <td>V892</td>\n",
       "      <td>Unacceptable PDX</td>\n",
       "      <td>Unacceptable PDX</td>\n",
       "      <td>Nonspecific</td>\n",
       "    </tr>\n",
       "  </tbody>\n",
       "</table>\n",
       "</div>"
      ],
      "text/plain": [
       "   raw_code matched_code_stem                     matched_ccsr_category  \\\n",
       "34     C950              C950                Leukemia - all other types   \n",
       "39    S3723             S3723  Internal organ injury, initial encounter   \n",
       "73      I70               I70  Peripheral and visceral vascular disease   \n",
       "25     R688              R688          Other general signs and symptoms   \n",
       "23     V892              V892                          Unacceptable PDX   \n",
       "\n",
       "                               ccsr_category              disease_category  \n",
       "34                Leukemia - all other types                     Neoplasms  \n",
       "39  Internal organ injury, initial encounter  Injuries and external causes  \n",
       "73  Peripheral and visceral vascular disease       Cardiovascular diseases  \n",
       "25          Other general signs and symptoms                   Nonspecific  \n",
       "23                          Unacceptable PDX                   Nonspecific  "
      ]
     },
     "execution_count": 139,
     "metadata": {},
     "output_type": "execute_result"
    }
   ],
   "source": [
    "best_match_map.sample(5).head()"
   ]
  },
  {
   "cell_type": "markdown",
   "metadata": {},
   "source": [
    "### Replace entity codes"
   ]
  },
  {
   "cell_type": "code",
   "execution_count": 140,
   "metadata": {},
   "outputs": [],
   "source": [
    "#subset dataframe for those that need best matched data\n",
    "er_for_best_match = er[er['entity_code'].isin(best_match_map['raw_code'].tolist())]\n",
    "er_rest = er[~er['entity_code'].isin(er_for_best_match['entity_code'].tolist())]"
   ]
  },
  {
   "cell_type": "code",
   "execution_count": 141,
   "metadata": {},
   "outputs": [],
   "source": [
    "#merge ER data with appropriate disease categories\n",
    "\n",
    "#best match\n",
    "er_for_best_match = er_for_best_match.merge(best_match_map, left_on='entity_code', right_on='raw_code', how='left')\n",
    "del er_for_best_match['matched_code_stem']\n",
    "del er_for_best_match['matched_ccsr_category']\n",
    "er_for_best_match.loc[:,'icd_10_cm_code_desc'] = ['best_match' for x in range(len(er_for_best_match))]\n",
    "er_for_best_match.rename(columns={'raw_code':'icd_10_cm_code'}, inplace=True)\n",
    "\n",
    "#exact match\n",
    "er_rest = er_rest.merge(ccsr, left_on='entity_code', right_on='icd_10_cm_code', how='left')"
   ]
  },
  {
   "cell_type": "code",
   "execution_count": 142,
   "metadata": {},
   "outputs": [],
   "source": [
    "#concatenate dataframes\n",
    "er_final = pd.concat([er_for_best_match, er_rest])"
   ]
  },
  {
   "cell_type": "code",
   "execution_count": 143,
   "metadata": {},
   "outputs": [
    {
     "name": "stdout",
     "output_type": "stream",
     "text": [
      "(664, 13)\n",
      "(664, 9)\n",
      "\n",
      "\n",
      "171\n",
      "171\n"
     ]
    }
   ],
   "source": [
    "print(er_final.shape)\n",
    "print(er.shape)\n",
    "print('\\n')\n",
    "print(er_final['url'].nunique())\n",
    "print(er['url'].nunique())"
   ]
  },
  {
   "cell_type": "markdown",
   "metadata": {},
   "source": [
    "### Get disease categories by url"
   ]
  },
  {
   "cell_type": "code",
   "execution_count": 144,
   "metadata": {},
   "outputs": [],
   "source": [
    "counts_list = er_final[['url','disease_category']].groupby('url').agg(lambda x: list(x))"
   ]
  },
  {
   "cell_type": "code",
   "execution_count": 145,
   "metadata": {},
   "outputs": [],
   "source": [
    "counts_list = counts_list.reset_index()"
   ]
  },
  {
   "cell_type": "markdown",
   "metadata": {},
   "source": [
    "~~~Export data with broader categories for comparison"
   ]
  },
  {
   "cell_type": "code",
   "execution_count": 30,
   "metadata": {},
   "outputs": [],
   "source": [
    "dh = pd.read_excel('../not_currently_using/disease_hierarchy/disease_hierarchy.xlsx')"
   ]
  },
  {
   "cell_type": "code",
   "execution_count": 33,
   "metadata": {},
   "outputs": [],
   "source": [
    "er_dh = er_final.merge(dh, left_on='ccsr_category', right_on='Level 3', how='left')"
   ]
  },
  {
   "cell_type": "code",
   "execution_count": 37,
   "metadata": {},
   "outputs": [],
   "source": [
    "er_dh = er_dh.drop_duplicates('target_text')"
   ]
  },
  {
   "cell_type": "code",
   "execution_count": 38,
   "metadata": {},
   "outputs": [],
   "source": [
    "er_dh.to_csv('../data/er_dh.csv', index=False)"
   ]
  },
  {
   "cell_type": "markdown",
   "metadata": {},
   "source": [
    "### Format data for comparison with reference set"
   ]
  },
  {
   "cell_type": "code",
   "execution_count": 146,
   "metadata": {},
   "outputs": [],
   "source": [
    "def list2lofd(df):\n",
    "    '''convert cat column from comma delimited to list of dictionaries with 1 or 0 for each category'''\n",
    "    \n",
    "    disease_categories = [\n",
    "        'Cardiovascular diseases',\n",
    "        'Endocrine diseases',\n",
    "        'Gastrointestinal diseases',\n",
    "        'Genitourinary diseases',\n",
    "        'Infections',\n",
    "        'Injuries and external causes',\n",
    "        'Mental and substance use disorders',\n",
    "        'Musculoskeletal diseases',\n",
    "        'Neoplasms',\n",
    "        'Nervous system diseases',\n",
    "        'Nonspecific',\n",
    "        'Other noncommunicable diseases',\n",
    "        'Pregnancy and childbirth',\n",
    "        'Respiratory diseases'\n",
    "    ]\n",
    "    \n",
    "    r = []\n",
    "    \n",
    "    for index,row in df.iterrows():\n",
    "        lofd = []\n",
    "        as_list = row['disease_category']\n",
    "        for disease in disease_categories:\n",
    "            if disease in as_list:\n",
    "                lofd.append({disease:1})\n",
    "            else:\n",
    "                lofd.append({disease:0})\n",
    "        r.append(lofd)\n",
    "    return r"
   ]
  },
  {
   "cell_type": "code",
   "execution_count": 147,
   "metadata": {},
   "outputs": [],
   "source": [
    "counts_list['lofd'] = list2lofd(counts_list)"
   ]
  },
  {
   "cell_type": "code",
   "execution_count": 148,
   "metadata": {},
   "outputs": [
    {
     "data": {
      "text/html": [
       "<div>\n",
       "<style scoped>\n",
       "    .dataframe tbody tr th:only-of-type {\n",
       "        vertical-align: middle;\n",
       "    }\n",
       "\n",
       "    .dataframe tbody tr th {\n",
       "        vertical-align: top;\n",
       "    }\n",
       "\n",
       "    .dataframe thead th {\n",
       "        text-align: right;\n",
       "    }\n",
       "</style>\n",
       "<table border=\"1\" class=\"dataframe\">\n",
       "  <thead>\n",
       "    <tr style=\"text-align: right;\">\n",
       "      <th></th>\n",
       "      <th>url</th>\n",
       "      <th>disease_category</th>\n",
       "      <th>lofd</th>\n",
       "    </tr>\n",
       "  </thead>\n",
       "  <tbody>\n",
       "    <tr>\n",
       "      <th>0</th>\n",
       "      <td>https://www.gofundme.com/f/1zk33nyftc</td>\n",
       "      <td>[Nonspecific, Nonspecific, Mental, behavioral,...</td>\n",
       "      <td>[{'Cardiovascular diseases': 0}, {'Endocrine d...</td>\n",
       "    </tr>\n",
       "    <tr>\n",
       "      <th>1</th>\n",
       "      <td>https://www.gofundme.com/f/22efh5hg</td>\n",
       "      <td>[Other noncommunicable diseases, Musculoskelet...</td>\n",
       "      <td>[{'Cardiovascular diseases': 0}, {'Endocrine d...</td>\n",
       "    </tr>\n",
       "    <tr>\n",
       "      <th>2</th>\n",
       "      <td>https://www.gofundme.com/f/22kcir7teo</td>\n",
       "      <td>[Nonspecific, Cardiovascular diseases, Nonspec...</td>\n",
       "      <td>[{'Cardiovascular diseases': 1}, {'Endocrine d...</td>\n",
       "    </tr>\n",
       "    <tr>\n",
       "      <th>3</th>\n",
       "      <td>https://www.gofundme.com/f/24yze8hw</td>\n",
       "      <td>[Nonspecific, Neoplasms]</td>\n",
       "      <td>[{'Cardiovascular diseases': 0}, {'Endocrine d...</td>\n",
       "    </tr>\n",
       "    <tr>\n",
       "      <th>4</th>\n",
       "      <td>https://www.gofundme.com/f/279cd9g</td>\n",
       "      <td>[Neoplasms, Neoplasms]</td>\n",
       "      <td>[{'Cardiovascular diseases': 0}, {'Endocrine d...</td>\n",
       "    </tr>\n",
       "  </tbody>\n",
       "</table>\n",
       "</div>"
      ],
      "text/plain": [
       "                                     url  \\\n",
       "0  https://www.gofundme.com/f/1zk33nyftc   \n",
       "1    https://www.gofundme.com/f/22efh5hg   \n",
       "2  https://www.gofundme.com/f/22kcir7teo   \n",
       "3    https://www.gofundme.com/f/24yze8hw   \n",
       "4     https://www.gofundme.com/f/279cd9g   \n",
       "\n",
       "                                    disease_category  \\\n",
       "0  [Nonspecific, Nonspecific, Mental, behavioral,...   \n",
       "1  [Other noncommunicable diseases, Musculoskelet...   \n",
       "2  [Nonspecific, Cardiovascular diseases, Nonspec...   \n",
       "3                           [Nonspecific, Neoplasms]   \n",
       "4                             [Neoplasms, Neoplasms]   \n",
       "\n",
       "                                                lofd  \n",
       "0  [{'Cardiovascular diseases': 0}, {'Endocrine d...  \n",
       "1  [{'Cardiovascular diseases': 0}, {'Endocrine d...  \n",
       "2  [{'Cardiovascular diseases': 1}, {'Endocrine d...  \n",
       "3  [{'Cardiovascular diseases': 0}, {'Endocrine d...  \n",
       "4  [{'Cardiovascular diseases': 0}, {'Endocrine d...  "
      ]
     },
     "execution_count": 148,
     "metadata": {},
     "output_type": "execute_result"
    }
   ],
   "source": [
    "counts_list.head()"
   ]
  },
  {
   "cell_type": "code",
   "execution_count": 149,
   "metadata": {},
   "outputs": [],
   "source": [
    "#convert to long format\n",
    "long = counts_list.explode('lofd')"
   ]
  },
  {
   "cell_type": "code",
   "execution_count": 150,
   "metadata": {},
   "outputs": [],
   "source": [
    "#extract key, value from dictionary\n",
    "long.insert(loc=2, column='cat', value=[list(x.items())[0][0] for x in long['lofd']])\n",
    "long.insert(loc=3, column='count', value=[list(x.items())[0][1] for x in long['lofd']])"
   ]
  },
  {
   "cell_type": "code",
   "execution_count": 151,
   "metadata": {},
   "outputs": [],
   "source": [
    "long = long[['url','cat','count']]"
   ]
  },
  {
   "cell_type": "code",
   "execution_count": 152,
   "metadata": {},
   "outputs": [],
   "source": [
    "long = long.replace('Mental, behavioral, and substance use disorders', 'Mental and substance use disorders')"
   ]
  },
  {
   "cell_type": "code",
   "execution_count": 153,
   "metadata": {},
   "outputs": [],
   "source": [
    "#create pivot tables\n",
    "pivot = long.pivot_table(index=['url'], columns='cat', values='count', aggfunc=(pd.Series.sum), fill_value=0)"
   ]
  },
  {
   "cell_type": "code",
   "execution_count": 154,
   "metadata": {},
   "outputs": [],
   "source": [
    "pivot.columns.name = ''\n",
    "pivot = pivot.reset_index()"
   ]
  },
  {
   "cell_type": "code",
   "execution_count": 155,
   "metadata": {},
   "outputs": [
    {
     "data": {
      "text/html": [
       "<div>\n",
       "<style scoped>\n",
       "    .dataframe tbody tr th:only-of-type {\n",
       "        vertical-align: middle;\n",
       "    }\n",
       "\n",
       "    .dataframe tbody tr th {\n",
       "        vertical-align: top;\n",
       "    }\n",
       "\n",
       "    .dataframe thead th {\n",
       "        text-align: right;\n",
       "    }\n",
       "</style>\n",
       "<table border=\"1\" class=\"dataframe\">\n",
       "  <thead>\n",
       "    <tr style=\"text-align: right;\">\n",
       "      <th></th>\n",
       "      <th>url</th>\n",
       "      <th>Cardiovascular diseases</th>\n",
       "      <th>Endocrine diseases</th>\n",
       "      <th>Gastrointestinal diseases</th>\n",
       "      <th>Genitourinary diseases</th>\n",
       "      <th>Infections</th>\n",
       "      <th>Injuries and external causes</th>\n",
       "      <th>Mental and substance use disorders</th>\n",
       "      <th>Musculoskeletal diseases</th>\n",
       "      <th>Neoplasms</th>\n",
       "      <th>Nervous system diseases</th>\n",
       "      <th>Nonspecific</th>\n",
       "      <th>Other noncommunicable diseases</th>\n",
       "      <th>Pregnancy and childbirth</th>\n",
       "      <th>Respiratory diseases</th>\n",
       "    </tr>\n",
       "  </thead>\n",
       "  <tbody>\n",
       "    <tr>\n",
       "      <th>0</th>\n",
       "      <td>https://www.gofundme.com/f/1zk33nyftc</td>\n",
       "      <td>0</td>\n",
       "      <td>0</td>\n",
       "      <td>0</td>\n",
       "      <td>0</td>\n",
       "      <td>0</td>\n",
       "      <td>0</td>\n",
       "      <td>1</td>\n",
       "      <td>0</td>\n",
       "      <td>0</td>\n",
       "      <td>0</td>\n",
       "      <td>1</td>\n",
       "      <td>0</td>\n",
       "      <td>0</td>\n",
       "      <td>0</td>\n",
       "    </tr>\n",
       "    <tr>\n",
       "      <th>1</th>\n",
       "      <td>https://www.gofundme.com/f/22efh5hg</td>\n",
       "      <td>0</td>\n",
       "      <td>0</td>\n",
       "      <td>0</td>\n",
       "      <td>0</td>\n",
       "      <td>0</td>\n",
       "      <td>0</td>\n",
       "      <td>0</td>\n",
       "      <td>1</td>\n",
       "      <td>0</td>\n",
       "      <td>0</td>\n",
       "      <td>0</td>\n",
       "      <td>1</td>\n",
       "      <td>0</td>\n",
       "      <td>0</td>\n",
       "    </tr>\n",
       "    <tr>\n",
       "      <th>2</th>\n",
       "      <td>https://www.gofundme.com/f/22kcir7teo</td>\n",
       "      <td>1</td>\n",
       "      <td>0</td>\n",
       "      <td>1</td>\n",
       "      <td>1</td>\n",
       "      <td>1</td>\n",
       "      <td>0</td>\n",
       "      <td>0</td>\n",
       "      <td>0</td>\n",
       "      <td>0</td>\n",
       "      <td>0</td>\n",
       "      <td>1</td>\n",
       "      <td>0</td>\n",
       "      <td>0</td>\n",
       "      <td>0</td>\n",
       "    </tr>\n",
       "    <tr>\n",
       "      <th>3</th>\n",
       "      <td>https://www.gofundme.com/f/24yze8hw</td>\n",
       "      <td>0</td>\n",
       "      <td>0</td>\n",
       "      <td>0</td>\n",
       "      <td>0</td>\n",
       "      <td>0</td>\n",
       "      <td>0</td>\n",
       "      <td>0</td>\n",
       "      <td>0</td>\n",
       "      <td>1</td>\n",
       "      <td>0</td>\n",
       "      <td>1</td>\n",
       "      <td>0</td>\n",
       "      <td>0</td>\n",
       "      <td>0</td>\n",
       "    </tr>\n",
       "    <tr>\n",
       "      <th>4</th>\n",
       "      <td>https://www.gofundme.com/f/279cd9g</td>\n",
       "      <td>0</td>\n",
       "      <td>0</td>\n",
       "      <td>0</td>\n",
       "      <td>0</td>\n",
       "      <td>0</td>\n",
       "      <td>0</td>\n",
       "      <td>0</td>\n",
       "      <td>0</td>\n",
       "      <td>1</td>\n",
       "      <td>0</td>\n",
       "      <td>0</td>\n",
       "      <td>0</td>\n",
       "      <td>0</td>\n",
       "      <td>0</td>\n",
       "    </tr>\n",
       "  </tbody>\n",
       "</table>\n",
       "</div>"
      ],
      "text/plain": [
       "                                     url  Cardiovascular diseases  \\\n",
       "0  https://www.gofundme.com/f/1zk33nyftc                        0   \n",
       "1    https://www.gofundme.com/f/22efh5hg                        0   \n",
       "2  https://www.gofundme.com/f/22kcir7teo                        1   \n",
       "3    https://www.gofundme.com/f/24yze8hw                        0   \n",
       "4     https://www.gofundme.com/f/279cd9g                        0   \n",
       "\n",
       "   Endocrine diseases  Gastrointestinal diseases  Genitourinary diseases  \\\n",
       "0                   0                          0                       0   \n",
       "1                   0                          0                       0   \n",
       "2                   0                          1                       1   \n",
       "3                   0                          0                       0   \n",
       "4                   0                          0                       0   \n",
       "\n",
       "   Infections  Injuries and external causes  \\\n",
       "0           0                             0   \n",
       "1           0                             0   \n",
       "2           1                             0   \n",
       "3           0                             0   \n",
       "4           0                             0   \n",
       "\n",
       "   Mental and substance use disorders  Musculoskeletal diseases  Neoplasms  \\\n",
       "0                                   1                         0          0   \n",
       "1                                   0                         1          0   \n",
       "2                                   0                         0          0   \n",
       "3                                   0                         0          1   \n",
       "4                                   0                         0          1   \n",
       "\n",
       "   Nervous system diseases  Nonspecific  Other noncommunicable diseases  \\\n",
       "0                        0            1                               0   \n",
       "1                        0            0                               1   \n",
       "2                        0            1                               0   \n",
       "3                        0            1                               0   \n",
       "4                        0            0                               0   \n",
       "\n",
       "   Pregnancy and childbirth  Respiratory diseases  \n",
       "0                         0                     0  \n",
       "1                         0                     0  \n",
       "2                         0                     0  \n",
       "3                         0                     0  \n",
       "4                         0                     0  "
      ]
     },
     "execution_count": 155,
     "metadata": {},
     "output_type": "execute_result"
    }
   ],
   "source": [
    "pivot.head()"
   ]
  },
  {
   "cell_type": "markdown",
   "metadata": {},
   "source": [
    "### Import reference data"
   ]
  },
  {
   "cell_type": "code",
   "execution_count": 185,
   "metadata": {},
   "outputs": [],
   "source": [
    "ref = pd.read_csv('../data/disease_categorization/evaluation/reference_set_any_pivot.csv')"
   ]
  },
  {
   "cell_type": "code",
   "execution_count": 186,
   "metadata": {},
   "outputs": [],
   "source": [
    "ref.rename(columns={'Genitourinary disorders':'Genitourinary diseases'}, inplace=True)"
   ]
  },
  {
   "cell_type": "code",
   "execution_count": 187,
   "metadata": {},
   "outputs": [
    {
     "data": {
      "text/html": [
       "<div>\n",
       "<style scoped>\n",
       "    .dataframe tbody tr th:only-of-type {\n",
       "        vertical-align: middle;\n",
       "    }\n",
       "\n",
       "    .dataframe tbody tr th {\n",
       "        vertical-align: top;\n",
       "    }\n",
       "\n",
       "    .dataframe thead th {\n",
       "        text-align: right;\n",
       "    }\n",
       "</style>\n",
       "<table border=\"1\" class=\"dataframe\">\n",
       "  <thead>\n",
       "    <tr style=\"text-align: right;\">\n",
       "      <th></th>\n",
       "      <th>url</th>\n",
       "      <th>Cardiovascular diseases</th>\n",
       "      <th>Endocrine diseases</th>\n",
       "      <th>Gastrointestinal diseases</th>\n",
       "      <th>Genitourinary diseases</th>\n",
       "      <th>Infections</th>\n",
       "      <th>Injuries and external causes</th>\n",
       "      <th>Mental and substance use disorders</th>\n",
       "      <th>Musculoskeletal diseases</th>\n",
       "      <th>Neoplasms</th>\n",
       "      <th>Nervous system diseases</th>\n",
       "      <th>Nonspecific</th>\n",
       "      <th>Other noncommunicable diseases</th>\n",
       "      <th>Pregnancy and childbirth</th>\n",
       "      <th>Respiratory diseases</th>\n",
       "    </tr>\n",
       "  </thead>\n",
       "  <tbody>\n",
       "    <tr>\n",
       "      <th>0</th>\n",
       "      <td>https://www.gofundme.com/f/1v3emdk740</td>\n",
       "      <td>0</td>\n",
       "      <td>0</td>\n",
       "      <td>0</td>\n",
       "      <td>0</td>\n",
       "      <td>0</td>\n",
       "      <td>0</td>\n",
       "      <td>0</td>\n",
       "      <td>0</td>\n",
       "      <td>0</td>\n",
       "      <td>0</td>\n",
       "      <td>1</td>\n",
       "      <td>0</td>\n",
       "      <td>0</td>\n",
       "      <td>0</td>\n",
       "    </tr>\n",
       "    <tr>\n",
       "      <th>1</th>\n",
       "      <td>https://www.gofundme.com/f/1xizs9mpo0</td>\n",
       "      <td>0</td>\n",
       "      <td>0</td>\n",
       "      <td>0</td>\n",
       "      <td>0</td>\n",
       "      <td>0</td>\n",
       "      <td>0</td>\n",
       "      <td>0</td>\n",
       "      <td>0</td>\n",
       "      <td>0</td>\n",
       "      <td>0</td>\n",
       "      <td>0</td>\n",
       "      <td>0</td>\n",
       "      <td>0</td>\n",
       "      <td>1</td>\n",
       "    </tr>\n",
       "    <tr>\n",
       "      <th>2</th>\n",
       "      <td>https://www.gofundme.com/f/1zk33nyftc</td>\n",
       "      <td>0</td>\n",
       "      <td>1</td>\n",
       "      <td>0</td>\n",
       "      <td>0</td>\n",
       "      <td>0</td>\n",
       "      <td>0</td>\n",
       "      <td>1</td>\n",
       "      <td>0</td>\n",
       "      <td>0</td>\n",
       "      <td>0</td>\n",
       "      <td>0</td>\n",
       "      <td>0</td>\n",
       "      <td>0</td>\n",
       "      <td>0</td>\n",
       "    </tr>\n",
       "    <tr>\n",
       "      <th>3</th>\n",
       "      <td>https://www.gofundme.com/f/22efh5hg</td>\n",
       "      <td>0</td>\n",
       "      <td>0</td>\n",
       "      <td>0</td>\n",
       "      <td>0</td>\n",
       "      <td>0</td>\n",
       "      <td>0</td>\n",
       "      <td>0</td>\n",
       "      <td>1</td>\n",
       "      <td>0</td>\n",
       "      <td>0</td>\n",
       "      <td>0</td>\n",
       "      <td>0</td>\n",
       "      <td>0</td>\n",
       "      <td>0</td>\n",
       "    </tr>\n",
       "    <tr>\n",
       "      <th>4</th>\n",
       "      <td>https://www.gofundme.com/f/22kcir7teo</td>\n",
       "      <td>1</td>\n",
       "      <td>0</td>\n",
       "      <td>0</td>\n",
       "      <td>1</td>\n",
       "      <td>1</td>\n",
       "      <td>0</td>\n",
       "      <td>0</td>\n",
       "      <td>1</td>\n",
       "      <td>0</td>\n",
       "      <td>0</td>\n",
       "      <td>0</td>\n",
       "      <td>0</td>\n",
       "      <td>0</td>\n",
       "      <td>1</td>\n",
       "    </tr>\n",
       "  </tbody>\n",
       "</table>\n",
       "</div>"
      ],
      "text/plain": [
       "                                     url  Cardiovascular diseases  \\\n",
       "0  https://www.gofundme.com/f/1v3emdk740                        0   \n",
       "1  https://www.gofundme.com/f/1xizs9mpo0                        0   \n",
       "2  https://www.gofundme.com/f/1zk33nyftc                        0   \n",
       "3    https://www.gofundme.com/f/22efh5hg                        0   \n",
       "4  https://www.gofundme.com/f/22kcir7teo                        1   \n",
       "\n",
       "   Endocrine diseases  Gastrointestinal diseases  Genitourinary diseases  \\\n",
       "0                   0                          0                       0   \n",
       "1                   0                          0                       0   \n",
       "2                   1                          0                       0   \n",
       "3                   0                          0                       0   \n",
       "4                   0                          0                       1   \n",
       "\n",
       "   Infections  Injuries and external causes  \\\n",
       "0           0                             0   \n",
       "1           0                             0   \n",
       "2           0                             0   \n",
       "3           0                             0   \n",
       "4           1                             0   \n",
       "\n",
       "   Mental and substance use disorders  Musculoskeletal diseases  Neoplasms  \\\n",
       "0                                   0                         0          0   \n",
       "1                                   0                         0          0   \n",
       "2                                   1                         0          0   \n",
       "3                                   0                         1          0   \n",
       "4                                   0                         1          0   \n",
       "\n",
       "   Nervous system diseases  Nonspecific  Other noncommunicable diseases  \\\n",
       "0                        0            1                               0   \n",
       "1                        0            0                               0   \n",
       "2                        0            0                               0   \n",
       "3                        0            0                               0   \n",
       "4                        0            0                               0   \n",
       "\n",
       "   Pregnancy and childbirth  Respiratory diseases  \n",
       "0                         0                     0  \n",
       "1                         0                     1  \n",
       "2                         0                     0  \n",
       "3                         0                     0  \n",
       "4                         0                     1  "
      ]
     },
     "execution_count": 187,
     "metadata": {},
     "output_type": "execute_result"
    }
   ],
   "source": [
    "ref.head()"
   ]
  },
  {
   "cell_type": "code",
   "execution_count": 188,
   "metadata": {},
   "outputs": [],
   "source": [
    "ref_urls = ref['url']"
   ]
  },
  {
   "cell_type": "code",
   "execution_count": 189,
   "metadata": {},
   "outputs": [
    {
     "data": {
      "text/plain": [
       "(200, 15)"
      ]
     },
     "execution_count": 189,
     "metadata": {},
     "output_type": "execute_result"
    }
   ],
   "source": [
    "ref.shape"
   ]
  },
  {
   "cell_type": "markdown",
   "metadata": {},
   "source": [
    "### Add blank rows for urls with no identified NER/ER terms"
   ]
  },
  {
   "cell_type": "code",
   "execution_count": 190,
   "metadata": {},
   "outputs": [
    {
     "ename": "KeyError",
     "evalue": "'url'",
     "output_type": "error",
     "traceback": [
      "\u001b[0;31m---------------------------------------------------------------------------\u001b[0m",
      "\u001b[0;31mKeyError\u001b[0m                                  Traceback (most recent call last)",
      "\u001b[0;32m/opt/anaconda3/lib/python3.7/site-packages/pandas/core/indexes/base.py\u001b[0m in \u001b[0;36mget_loc\u001b[0;34m(self, key, method, tolerance)\u001b[0m\n\u001b[1;32m   2645\u001b[0m             \u001b[0;32mtry\u001b[0m\u001b[0;34m:\u001b[0m\u001b[0;34m\u001b[0m\u001b[0;34m\u001b[0m\u001b[0m\n\u001b[0;32m-> 2646\u001b[0;31m                 \u001b[0;32mreturn\u001b[0m \u001b[0mself\u001b[0m\u001b[0;34m.\u001b[0m\u001b[0m_engine\u001b[0m\u001b[0;34m.\u001b[0m\u001b[0mget_loc\u001b[0m\u001b[0;34m(\u001b[0m\u001b[0mkey\u001b[0m\u001b[0;34m)\u001b[0m\u001b[0;34m\u001b[0m\u001b[0;34m\u001b[0m\u001b[0m\n\u001b[0m\u001b[1;32m   2647\u001b[0m             \u001b[0;32mexcept\u001b[0m \u001b[0mKeyError\u001b[0m\u001b[0;34m:\u001b[0m\u001b[0;34m\u001b[0m\u001b[0;34m\u001b[0m\u001b[0m\n",
      "\u001b[0;32mpandas/_libs/index.pyx\u001b[0m in \u001b[0;36mpandas._libs.index.IndexEngine.get_loc\u001b[0;34m()\u001b[0m\n",
      "\u001b[0;32mpandas/_libs/index.pyx\u001b[0m in \u001b[0;36mpandas._libs.index.IndexEngine.get_loc\u001b[0;34m()\u001b[0m\n",
      "\u001b[0;32mpandas/_libs/hashtable_class_helper.pxi\u001b[0m in \u001b[0;36mpandas._libs.hashtable.PyObjectHashTable.get_item\u001b[0;34m()\u001b[0m\n",
      "\u001b[0;32mpandas/_libs/hashtable_class_helper.pxi\u001b[0m in \u001b[0;36mpandas._libs.hashtable.PyObjectHashTable.get_item\u001b[0;34m()\u001b[0m\n",
      "\u001b[0;31mKeyError\u001b[0m: 'url'",
      "\nDuring handling of the above exception, another exception occurred:\n",
      "\u001b[0;31mKeyError\u001b[0m                                  Traceback (most recent call last)",
      "\u001b[0;32m<ipython-input-190-837a745afc5d>\u001b[0m in \u001b[0;36m<module>\u001b[0;34m\u001b[0m\n\u001b[0;32m----> 1\u001b[0;31m \u001b[0murls_to_add\u001b[0m \u001b[0;34m=\u001b[0m \u001b[0mpd\u001b[0m\u001b[0;34m.\u001b[0m\u001b[0mSeries\u001b[0m\u001b[0;34m(\u001b[0m\u001b[0mref_urls\u001b[0m\u001b[0;34m)\u001b[0m\u001b[0;34m[\u001b[0m\u001b[0;34m~\u001b[0m\u001b[0mpd\u001b[0m\u001b[0;34m.\u001b[0m\u001b[0mSeries\u001b[0m\u001b[0;34m(\u001b[0m\u001b[0mref_urls\u001b[0m\u001b[0;34m)\u001b[0m\u001b[0;34m.\u001b[0m\u001b[0misin\u001b[0m\u001b[0;34m(\u001b[0m\u001b[0mpivot\u001b[0m\u001b[0;34m[\u001b[0m\u001b[0;34m'url'\u001b[0m\u001b[0;34m]\u001b[0m\u001b[0;34m.\u001b[0m\u001b[0mtolist\u001b[0m\u001b[0;34m(\u001b[0m\u001b[0;34m)\u001b[0m\u001b[0;34m)\u001b[0m\u001b[0;34m]\u001b[0m\u001b[0;34m.\u001b[0m\u001b[0mtolist\u001b[0m\u001b[0;34m(\u001b[0m\u001b[0;34m)\u001b[0m\u001b[0;34m\u001b[0m\u001b[0;34m\u001b[0m\u001b[0m\n\u001b[0m",
      "\u001b[0;32m/opt/anaconda3/lib/python3.7/site-packages/pandas/core/frame.py\u001b[0m in \u001b[0;36m__getitem__\u001b[0;34m(self, key)\u001b[0m\n\u001b[1;32m   2798\u001b[0m             \u001b[0;32mif\u001b[0m \u001b[0mself\u001b[0m\u001b[0;34m.\u001b[0m\u001b[0mcolumns\u001b[0m\u001b[0;34m.\u001b[0m\u001b[0mnlevels\u001b[0m \u001b[0;34m>\u001b[0m \u001b[0;36m1\u001b[0m\u001b[0;34m:\u001b[0m\u001b[0;34m\u001b[0m\u001b[0;34m\u001b[0m\u001b[0m\n\u001b[1;32m   2799\u001b[0m                 \u001b[0;32mreturn\u001b[0m \u001b[0mself\u001b[0m\u001b[0;34m.\u001b[0m\u001b[0m_getitem_multilevel\u001b[0m\u001b[0;34m(\u001b[0m\u001b[0mkey\u001b[0m\u001b[0;34m)\u001b[0m\u001b[0;34m\u001b[0m\u001b[0;34m\u001b[0m\u001b[0m\n\u001b[0;32m-> 2800\u001b[0;31m             \u001b[0mindexer\u001b[0m \u001b[0;34m=\u001b[0m \u001b[0mself\u001b[0m\u001b[0;34m.\u001b[0m\u001b[0mcolumns\u001b[0m\u001b[0;34m.\u001b[0m\u001b[0mget_loc\u001b[0m\u001b[0;34m(\u001b[0m\u001b[0mkey\u001b[0m\u001b[0;34m)\u001b[0m\u001b[0;34m\u001b[0m\u001b[0;34m\u001b[0m\u001b[0m\n\u001b[0m\u001b[1;32m   2801\u001b[0m             \u001b[0;32mif\u001b[0m \u001b[0mis_integer\u001b[0m\u001b[0;34m(\u001b[0m\u001b[0mindexer\u001b[0m\u001b[0;34m)\u001b[0m\u001b[0;34m:\u001b[0m\u001b[0;34m\u001b[0m\u001b[0;34m\u001b[0m\u001b[0m\n\u001b[1;32m   2802\u001b[0m                 \u001b[0mindexer\u001b[0m \u001b[0;34m=\u001b[0m \u001b[0;34m[\u001b[0m\u001b[0mindexer\u001b[0m\u001b[0;34m]\u001b[0m\u001b[0;34m\u001b[0m\u001b[0;34m\u001b[0m\u001b[0m\n",
      "\u001b[0;32m/opt/anaconda3/lib/python3.7/site-packages/pandas/core/indexes/base.py\u001b[0m in \u001b[0;36mget_loc\u001b[0;34m(self, key, method, tolerance)\u001b[0m\n\u001b[1;32m   2646\u001b[0m                 \u001b[0;32mreturn\u001b[0m \u001b[0mself\u001b[0m\u001b[0;34m.\u001b[0m\u001b[0m_engine\u001b[0m\u001b[0;34m.\u001b[0m\u001b[0mget_loc\u001b[0m\u001b[0;34m(\u001b[0m\u001b[0mkey\u001b[0m\u001b[0;34m)\u001b[0m\u001b[0;34m\u001b[0m\u001b[0;34m\u001b[0m\u001b[0m\n\u001b[1;32m   2647\u001b[0m             \u001b[0;32mexcept\u001b[0m \u001b[0mKeyError\u001b[0m\u001b[0;34m:\u001b[0m\u001b[0;34m\u001b[0m\u001b[0;34m\u001b[0m\u001b[0m\n\u001b[0;32m-> 2648\u001b[0;31m                 \u001b[0;32mreturn\u001b[0m \u001b[0mself\u001b[0m\u001b[0;34m.\u001b[0m\u001b[0m_engine\u001b[0m\u001b[0;34m.\u001b[0m\u001b[0mget_loc\u001b[0m\u001b[0;34m(\u001b[0m\u001b[0mself\u001b[0m\u001b[0;34m.\u001b[0m\u001b[0m_maybe_cast_indexer\u001b[0m\u001b[0;34m(\u001b[0m\u001b[0mkey\u001b[0m\u001b[0;34m)\u001b[0m\u001b[0;34m)\u001b[0m\u001b[0;34m\u001b[0m\u001b[0;34m\u001b[0m\u001b[0m\n\u001b[0m\u001b[1;32m   2649\u001b[0m         \u001b[0mindexer\u001b[0m \u001b[0;34m=\u001b[0m \u001b[0mself\u001b[0m\u001b[0;34m.\u001b[0m\u001b[0mget_indexer\u001b[0m\u001b[0;34m(\u001b[0m\u001b[0;34m[\u001b[0m\u001b[0mkey\u001b[0m\u001b[0;34m]\u001b[0m\u001b[0;34m,\u001b[0m \u001b[0mmethod\u001b[0m\u001b[0;34m=\u001b[0m\u001b[0mmethod\u001b[0m\u001b[0;34m,\u001b[0m \u001b[0mtolerance\u001b[0m\u001b[0;34m=\u001b[0m\u001b[0mtolerance\u001b[0m\u001b[0;34m)\u001b[0m\u001b[0;34m\u001b[0m\u001b[0;34m\u001b[0m\u001b[0m\n\u001b[1;32m   2650\u001b[0m         \u001b[0;32mif\u001b[0m \u001b[0mindexer\u001b[0m\u001b[0;34m.\u001b[0m\u001b[0mndim\u001b[0m \u001b[0;34m>\u001b[0m \u001b[0;36m1\u001b[0m \u001b[0;32mor\u001b[0m \u001b[0mindexer\u001b[0m\u001b[0;34m.\u001b[0m\u001b[0msize\u001b[0m \u001b[0;34m>\u001b[0m \u001b[0;36m1\u001b[0m\u001b[0;34m:\u001b[0m\u001b[0;34m\u001b[0m\u001b[0;34m\u001b[0m\u001b[0m\n",
      "\u001b[0;32mpandas/_libs/index.pyx\u001b[0m in \u001b[0;36mpandas._libs.index.IndexEngine.get_loc\u001b[0;34m()\u001b[0m\n",
      "\u001b[0;32mpandas/_libs/index.pyx\u001b[0m in \u001b[0;36mpandas._libs.index.IndexEngine.get_loc\u001b[0;34m()\u001b[0m\n",
      "\u001b[0;32mpandas/_libs/hashtable_class_helper.pxi\u001b[0m in \u001b[0;36mpandas._libs.hashtable.PyObjectHashTable.get_item\u001b[0;34m()\u001b[0m\n",
      "\u001b[0;32mpandas/_libs/hashtable_class_helper.pxi\u001b[0m in \u001b[0;36mpandas._libs.hashtable.PyObjectHashTable.get_item\u001b[0;34m()\u001b[0m\n",
      "\u001b[0;31mKeyError\u001b[0m: 'url'"
     ]
    }
   ],
   "source": [
    "urls_to_add = pd.Series(ref_urls)[~pd.Series(ref_urls).isin(pivot['url'].tolist())].tolist()"
   ]
  },
  {
   "cell_type": "code",
   "execution_count": 163,
   "metadata": {},
   "outputs": [],
   "source": [
    "r = []\n",
    "cols = pivot.columns[1:].values.tolist()\n",
    "for url in urls_to_add:\n",
    "    line = {}\n",
    "    line['url'] = url\n",
    "    for col in cols:\n",
    "        line[col] = 0\n",
    "    r.append(line)"
   ]
  },
  {
   "cell_type": "code",
   "execution_count": 164,
   "metadata": {},
   "outputs": [],
   "source": [
    "df_to_add = pd.DataFrame(r)"
   ]
  },
  {
   "cell_type": "code",
   "execution_count": 165,
   "metadata": {},
   "outputs": [],
   "source": [
    "pivot = pd.concat([pivot, df_to_add])"
   ]
  },
  {
   "cell_type": "code",
   "execution_count": 166,
   "metadata": {},
   "outputs": [],
   "source": [
    "pivot = pivot.sort_values('url')"
   ]
  },
  {
   "cell_type": "markdown",
   "metadata": {},
   "source": [
    "### Check that ER and reference urls are aligned"
   ]
  },
  {
   "cell_type": "code",
   "execution_count": 167,
   "metadata": {},
   "outputs": [
    {
     "data": {
      "text/plain": [
       "False"
      ]
     },
     "execution_count": 167,
     "metadata": {},
     "output_type": "execute_result"
    }
   ],
   "source": [
    "ref['url'].equals(pivot['url'])"
   ]
  },
  {
   "cell_type": "code",
   "execution_count": 168,
   "metadata": {},
   "outputs": [
    {
     "data": {
      "text/html": [
       "<div>\n",
       "<style scoped>\n",
       "    .dataframe tbody tr th:only-of-type {\n",
       "        vertical-align: middle;\n",
       "    }\n",
       "\n",
       "    .dataframe tbody tr th {\n",
       "        vertical-align: top;\n",
       "    }\n",
       "\n",
       "    .dataframe thead th {\n",
       "        text-align: right;\n",
       "    }\n",
       "</style>\n",
       "<table border=\"1\" class=\"dataframe\">\n",
       "  <thead>\n",
       "    <tr style=\"text-align: right;\">\n",
       "      <th></th>\n",
       "      <th>url</th>\n",
       "      <th>Cardiovascular diseases</th>\n",
       "      <th>Endocrine diseases</th>\n",
       "      <th>Gastrointestinal diseases</th>\n",
       "      <th>Genitourinary diseases</th>\n",
       "      <th>Infections</th>\n",
       "      <th>Injuries and external causes</th>\n",
       "      <th>Mental and substance use disorders</th>\n",
       "      <th>Musculoskeletal diseases</th>\n",
       "      <th>Neoplasms</th>\n",
       "      <th>Nervous system diseases</th>\n",
       "      <th>Nonspecific</th>\n",
       "      <th>Other noncommunicable diseases</th>\n",
       "      <th>Pregnancy and childbirth</th>\n",
       "      <th>Respiratory diseases</th>\n",
       "    </tr>\n",
       "  </thead>\n",
       "  <tbody>\n",
       "  </tbody>\n",
       "</table>\n",
       "</div>"
      ],
      "text/plain": [
       "Empty DataFrame\n",
       "Columns: [url, Cardiovascular diseases, Endocrine diseases, Gastrointestinal diseases, Genitourinary diseases, Infections, Injuries and external causes, Mental and substance use disorders, Musculoskeletal diseases, Neoplasms, Nervous system diseases, Nonspecific, Other noncommunicable diseases, Pregnancy and childbirth, Respiratory diseases]\n",
       "Index: []"
      ]
     },
     "execution_count": 168,
     "metadata": {},
     "output_type": "execute_result"
    }
   ],
   "source": [
    "ref[~ref['url'].isin(pivot['url'])]"
   ]
  },
  {
   "cell_type": "code",
   "execution_count": 169,
   "metadata": {},
   "outputs": [
    {
     "data": {
      "text/html": [
       "<div>\n",
       "<style scoped>\n",
       "    .dataframe tbody tr th:only-of-type {\n",
       "        vertical-align: middle;\n",
       "    }\n",
       "\n",
       "    .dataframe tbody tr th {\n",
       "        vertical-align: top;\n",
       "    }\n",
       "\n",
       "    .dataframe thead th {\n",
       "        text-align: right;\n",
       "    }\n",
       "</style>\n",
       "<table border=\"1\" class=\"dataframe\">\n",
       "  <thead>\n",
       "    <tr style=\"text-align: right;\">\n",
       "      <th></th>\n",
       "      <th>url</th>\n",
       "      <th>Cardiovascular diseases</th>\n",
       "      <th>Endocrine diseases</th>\n",
       "      <th>Gastrointestinal diseases</th>\n",
       "      <th>Genitourinary diseases</th>\n",
       "      <th>Infections</th>\n",
       "      <th>Injuries and external causes</th>\n",
       "      <th>Mental and substance use disorders</th>\n",
       "      <th>Musculoskeletal diseases</th>\n",
       "      <th>Neoplasms</th>\n",
       "      <th>Nervous system diseases</th>\n",
       "      <th>Nonspecific</th>\n",
       "      <th>Other noncommunicable diseases</th>\n",
       "      <th>Pregnancy and childbirth</th>\n",
       "      <th>Respiratory diseases</th>\n",
       "    </tr>\n",
       "  </thead>\n",
       "  <tbody>\n",
       "    <tr>\n",
       "      <th>63</th>\n",
       "      <td>https://www.gofundme.com/f/esperanza-para-mi-v...</td>\n",
       "      <td>0</td>\n",
       "      <td>0</td>\n",
       "      <td>0</td>\n",
       "      <td>0</td>\n",
       "      <td>0</td>\n",
       "      <td>0</td>\n",
       "      <td>0</td>\n",
       "      <td>0</td>\n",
       "      <td>1</td>\n",
       "      <td>0</td>\n",
       "      <td>0</td>\n",
       "      <td>1</td>\n",
       "      <td>0</td>\n",
       "      <td>0</td>\n",
       "    </tr>\n",
       "  </tbody>\n",
       "</table>\n",
       "</div>"
      ],
      "text/plain": [
       "                                                  url  \\\n",
       "63  https://www.gofundme.com/f/esperanza-para-mi-v...   \n",
       "\n",
       "    Cardiovascular diseases  Endocrine diseases  Gastrointestinal diseases  \\\n",
       "63                        0                   0                          0   \n",
       "\n",
       "    Genitourinary diseases  Infections  Injuries and external causes  \\\n",
       "63                       0           0                             0   \n",
       "\n",
       "    Mental and substance use disorders  Musculoskeletal diseases  Neoplasms  \\\n",
       "63                                   0                         0          1   \n",
       "\n",
       "    Nervous system diseases  Nonspecific  Other noncommunicable diseases  \\\n",
       "63                        0            0                               1   \n",
       "\n",
       "    Pregnancy and childbirth  Respiratory diseases  \n",
       "63                         0                     0  "
      ]
     },
     "execution_count": 169,
     "metadata": {},
     "output_type": "execute_result"
    }
   ],
   "source": [
    "pivot[~pivot['url'].isin(ref['url'])]"
   ]
  },
  {
   "cell_type": "code",
   "execution_count": 170,
   "metadata": {},
   "outputs": [],
   "source": [
    "ref = ref[ref['url'].isin(pivot['url'])]\n",
    "pivot = pivot[pivot['url'].isin(ref['url'])]"
   ]
  },
  {
   "cell_type": "code",
   "execution_count": 171,
   "metadata": {},
   "outputs": [
    {
     "data": {
      "text/plain": [
       "(200, 15)"
      ]
     },
     "execution_count": 171,
     "metadata": {},
     "output_type": "execute_result"
    }
   ],
   "source": [
    "ref.shape"
   ]
  },
  {
   "cell_type": "code",
   "execution_count": 172,
   "metadata": {},
   "outputs": [
    {
     "data": {
      "text/plain": [
       "(200, 15)"
      ]
     },
     "execution_count": 172,
     "metadata": {},
     "output_type": "execute_result"
    }
   ],
   "source": [
    "pivot.shape"
   ]
  },
  {
   "cell_type": "code",
   "execution_count": 173,
   "metadata": {},
   "outputs": [],
   "source": [
    "ref = ref.reset_index()\n",
    "pivot = pivot.reset_index()"
   ]
  },
  {
   "cell_type": "code",
   "execution_count": 174,
   "metadata": {},
   "outputs": [
    {
     "data": {
      "text/plain": [
       "True"
      ]
     },
     "execution_count": 174,
     "metadata": {},
     "output_type": "execute_result"
    }
   ],
   "source": [
    "ref['url'].equals(pivot['url'])"
   ]
  },
  {
   "cell_type": "code",
   "execution_count": null,
   "metadata": {},
   "outputs": [],
   "source": []
  },
  {
   "cell_type": "code",
   "execution_count": 747,
   "metadata": {},
   "outputs": [],
   "source": [
    "more_cats = pd.read_csv('../data/more_cats.csv')"
   ]
  },
  {
   "cell_type": "code",
   "execution_count": 748,
   "metadata": {},
   "outputs": [
    {
     "data": {
      "text/html": [
       "<div>\n",
       "<style scoped>\n",
       "    .dataframe tbody tr th:only-of-type {\n",
       "        vertical-align: middle;\n",
       "    }\n",
       "\n",
       "    .dataframe tbody tr th {\n",
       "        vertical-align: top;\n",
       "    }\n",
       "\n",
       "    .dataframe thead th {\n",
       "        text-align: right;\n",
       "    }\n",
       "</style>\n",
       "<table border=\"1\" class=\"dataframe\">\n",
       "  <thead>\n",
       "    <tr style=\"text-align: right;\">\n",
       "      <th></th>\n",
       "      <th>url</th>\n",
       "      <th>gu</th>\n",
       "      <th>resp</th>\n",
       "      <th>cv</th>\n",
       "      <th>onc</th>\n",
       "      <th>msk</th>\n",
       "    </tr>\n",
       "  </thead>\n",
       "  <tbody>\n",
       "    <tr>\n",
       "      <th>0</th>\n",
       "      <td>https://www.gofundme.com/f/dawns-breast-cancer...</td>\n",
       "      <td>0</td>\n",
       "      <td>0</td>\n",
       "      <td>0</td>\n",
       "      <td>1</td>\n",
       "      <td>0</td>\n",
       "    </tr>\n",
       "    <tr>\n",
       "      <th>1</th>\n",
       "      <td>https://www.gofundme.com/f/dqgsnc24</td>\n",
       "      <td>0</td>\n",
       "      <td>1</td>\n",
       "      <td>0</td>\n",
       "      <td>0</td>\n",
       "      <td>0</td>\n",
       "    </tr>\n",
       "    <tr>\n",
       "      <th>2</th>\n",
       "      <td>https://www.gofundme.com/f/NathanaelRodriguezR...</td>\n",
       "      <td>1</td>\n",
       "      <td>0</td>\n",
       "      <td>0</td>\n",
       "      <td>0</td>\n",
       "      <td>0</td>\n",
       "    </tr>\n",
       "    <tr>\n",
       "      <th>3</th>\n",
       "      <td>https://www.gofundme.com/f/dxv7w-helping-with-...</td>\n",
       "      <td>0</td>\n",
       "      <td>1</td>\n",
       "      <td>0</td>\n",
       "      <td>0</td>\n",
       "      <td>0</td>\n",
       "    </tr>\n",
       "    <tr>\n",
       "      <th>4</th>\n",
       "      <td>https://www.gofundme.com/f/be-one-lolo-rey039s...</td>\n",
       "      <td>1</td>\n",
       "      <td>0</td>\n",
       "      <td>0</td>\n",
       "      <td>0</td>\n",
       "      <td>0</td>\n",
       "    </tr>\n",
       "  </tbody>\n",
       "</table>\n",
       "</div>"
      ],
      "text/plain": [
       "                                                 url  gu  resp  cv  onc  msk\n",
       "0  https://www.gofundme.com/f/dawns-breast-cancer...   0     0   0    1    0\n",
       "1                https://www.gofundme.com/f/dqgsnc24   0     1   0    0    0\n",
       "2  https://www.gofundme.com/f/NathanaelRodriguezR...   1     0   0    0    0\n",
       "3  https://www.gofundme.com/f/dxv7w-helping-with-...   0     1   0    0    0\n",
       "4  https://www.gofundme.com/f/be-one-lolo-rey039s...   1     0   0    0    0"
      ]
     },
     "execution_count": 748,
     "metadata": {},
     "output_type": "execute_result"
    }
   ],
   "source": [
    "more_cats.head()"
   ]
  },
  {
   "cell_type": "code",
   "execution_count": 749,
   "metadata": {},
   "outputs": [],
   "source": [
    "urls = []\n",
    "gus = []\n",
    "resps = []\n",
    "cvs = []\n",
    "oncs = []\n",
    "msks = []\n",
    "\n",
    "\n",
    "\n",
    "for index, row in pivot.iterrows():\n",
    "    url = row['url']\n",
    "    if url in more_cats['url'].tolist():\n",
    "        gu = row['Genitourinary diseases']\n",
    "        resp = row['Respiratory diseases']\n",
    "        cv = row['Cardiovascular diseases']\n",
    "        onc = row['Neoplasms']\n",
    "        msk = row['Musculoskeletal diseases']\n",
    "        \n",
    "        sub = more_cats[more_cats['url'] == url]\n",
    "        \n",
    "        urls.append(url)\n",
    "        \n",
    "        if sub['gu'].tolist()[0] != 0:\n",
    "            if gu == 0:\n",
    "                gus.append(1)\n",
    "            else:\n",
    "                gus.append(0)\n",
    "        else:\n",
    "            gus.append(0)            \n",
    "            \n",
    "        if sub['resp'].tolist()[0] != 0:\n",
    "            if resp == 0:\n",
    "                resps.append(1)\n",
    "            else:\n",
    "                resps.append(0)\n",
    "        else:\n",
    "            resps.append(0)   \n",
    "        \n",
    "        if sub['cv'].tolist()[0] != 0:\n",
    "            if cv == 0:\n",
    "                cvs.append(1)\n",
    "            else:\n",
    "                cvs.append(0)\n",
    "        else:\n",
    "            cvs.append(0)     \n",
    "            \n",
    "        if sub['onc'].tolist()[0] != 0:\n",
    "            if onc == 0:\n",
    "                oncs.append(1)\n",
    "            else:\n",
    "                oncs.append(0)\n",
    "        else:\n",
    "            oncs.append(0)   \n",
    "        \n",
    "        if sub['msk'].tolist()[0] != 0:\n",
    "            if msk == 0:\n",
    "                msks.append(1)\n",
    "            else:\n",
    "                msks.append(0)\n",
    "        else:\n",
    "            msks.append(0)    \n",
    "            \n",
    "            "
   ]
  },
  {
   "cell_type": "code",
   "execution_count": 750,
   "metadata": {},
   "outputs": [],
   "source": [
    "to_add = pd.DataFrame({'url':urls,'gu':gus,'resp':resps,'cv':cvs,'onc':oncs,'msk':msks})"
   ]
  },
  {
   "cell_type": "code",
   "execution_count": 751,
   "metadata": {},
   "outputs": [
    {
     "data": {
      "text/html": [
       "<div>\n",
       "<style scoped>\n",
       "    .dataframe tbody tr th:only-of-type {\n",
       "        vertical-align: middle;\n",
       "    }\n",
       "\n",
       "    .dataframe tbody tr th {\n",
       "        vertical-align: top;\n",
       "    }\n",
       "\n",
       "    .dataframe thead th {\n",
       "        text-align: right;\n",
       "    }\n",
       "</style>\n",
       "<table border=\"1\" class=\"dataframe\">\n",
       "  <thead>\n",
       "    <tr style=\"text-align: right;\">\n",
       "      <th></th>\n",
       "      <th>url</th>\n",
       "      <th>gu</th>\n",
       "      <th>resp</th>\n",
       "      <th>cv</th>\n",
       "      <th>onc</th>\n",
       "      <th>msk</th>\n",
       "    </tr>\n",
       "  </thead>\n",
       "  <tbody>\n",
       "    <tr>\n",
       "      <th>0</th>\n",
       "      <td>https://www.gofundme.com/f/Mizmig</td>\n",
       "      <td>1</td>\n",
       "      <td>0</td>\n",
       "      <td>0</td>\n",
       "      <td>0</td>\n",
       "      <td>0</td>\n",
       "    </tr>\n",
       "    <tr>\n",
       "      <th>1</th>\n",
       "      <td>https://www.gofundme.com/f/TeamDanica-Monica</td>\n",
       "      <td>0</td>\n",
       "      <td>0</td>\n",
       "      <td>0</td>\n",
       "      <td>1</td>\n",
       "      <td>0</td>\n",
       "    </tr>\n",
       "    <tr>\n",
       "      <th>2</th>\n",
       "      <td>https://www.gofundme.com/f/WestonGernentz</td>\n",
       "      <td>0</td>\n",
       "      <td>0</td>\n",
       "      <td>0</td>\n",
       "      <td>0</td>\n",
       "      <td>0</td>\n",
       "    </tr>\n",
       "    <tr>\n",
       "      <th>3</th>\n",
       "      <td>https://www.gofundme.com/f/bailey-finch-medica...</td>\n",
       "      <td>0</td>\n",
       "      <td>0</td>\n",
       "      <td>1</td>\n",
       "      <td>0</td>\n",
       "      <td>0</td>\n",
       "    </tr>\n",
       "    <tr>\n",
       "      <th>4</th>\n",
       "      <td>https://www.gofundme.com/f/barry039s-medical-fees</td>\n",
       "      <td>1</td>\n",
       "      <td>0</td>\n",
       "      <td>0</td>\n",
       "      <td>0</td>\n",
       "      <td>0</td>\n",
       "    </tr>\n",
       "    <tr>\n",
       "      <th>5</th>\n",
       "      <td>https://www.gofundme.com/f/evp227-fernando-diaz</td>\n",
       "      <td>0</td>\n",
       "      <td>0</td>\n",
       "      <td>0</td>\n",
       "      <td>0</td>\n",
       "      <td>0</td>\n",
       "    </tr>\n",
       "    <tr>\n",
       "      <th>6</th>\n",
       "      <td>https://www.gofundme.com/f/javier-montenegros-...</td>\n",
       "      <td>1</td>\n",
       "      <td>0</td>\n",
       "      <td>0</td>\n",
       "      <td>0</td>\n",
       "      <td>0</td>\n",
       "    </tr>\n",
       "    <tr>\n",
       "      <th>7</th>\n",
       "      <td>https://www.gofundme.com/f/s7wc7c</td>\n",
       "      <td>1</td>\n",
       "      <td>0</td>\n",
       "      <td>0</td>\n",
       "      <td>0</td>\n",
       "      <td>0</td>\n",
       "    </tr>\n",
       "    <tr>\n",
       "      <th>8</th>\n",
       "      <td>https://www.gofundme.com/f/taylor-raye-heart-w...</td>\n",
       "      <td>0</td>\n",
       "      <td>0</td>\n",
       "      <td>0</td>\n",
       "      <td>0</td>\n",
       "      <td>0</td>\n",
       "    </tr>\n",
       "  </tbody>\n",
       "</table>\n",
       "</div>"
      ],
      "text/plain": [
       "                                                 url  gu  resp  cv  onc  msk\n",
       "0                  https://www.gofundme.com/f/Mizmig   1     0   0    0    0\n",
       "1       https://www.gofundme.com/f/TeamDanica-Monica   0     0   0    1    0\n",
       "2          https://www.gofundme.com/f/WestonGernentz   0     0   0    0    0\n",
       "3  https://www.gofundme.com/f/bailey-finch-medica...   0     0   1    0    0\n",
       "4  https://www.gofundme.com/f/barry039s-medical-fees   1     0   0    0    0\n",
       "5    https://www.gofundme.com/f/evp227-fernando-diaz   0     0   0    0    0\n",
       "6  https://www.gofundme.com/f/javier-montenegros-...   1     0   0    0    0\n",
       "7                  https://www.gofundme.com/f/s7wc7c   1     0   0    0    0\n",
       "8  https://www.gofundme.com/f/taylor-raye-heart-w...   0     0   0    0    0"
      ]
     },
     "execution_count": 751,
     "metadata": {},
     "output_type": "execute_result"
    }
   ],
   "source": [
    "to_add"
   ]
  },
  {
   "cell_type": "code",
   "execution_count": 752,
   "metadata": {},
   "outputs": [],
   "source": [
    "pivot.loc[pivot['url'] == to_add['url'][0],'Genitourinary diseases'] = 1\n",
    "pivot.loc[pivot['url'] == to_add['url'][1],'Neoplasms'] = 1\n",
    "pivot.loc[pivot['url'] == to_add['url'][3],'Cardiovascular diseases'] = 1\n",
    "pivot.loc[pivot['url'] == to_add['url'][4],'Genitourinary diseases'] = 1\n",
    "pivot.loc[pivot['url'] == to_add['url'][6],'Genitourinary diseases'] = 1\n",
    "pivot.loc[pivot['url'] == to_add['url'][7],'Genitourinary diseases'] = 1"
   ]
  },
  {
   "cell_type": "code",
   "execution_count": 175,
   "metadata": {},
   "outputs": [],
   "source": [
    "ref_urls = ref['url']\n",
    "\n",
    "del ref['url']\n",
    "del pivot['url']"
   ]
  },
  {
   "cell_type": "code",
   "execution_count": 176,
   "metadata": {},
   "outputs": [],
   "source": [
    "del ref['index']\n",
    "del pivot['index']"
   ]
  },
  {
   "cell_type": "code",
   "execution_count": null,
   "metadata": {},
   "outputs": [],
   "source": []
  },
  {
   "cell_type": "markdown",
   "metadata": {},
   "source": [
    "### Compute metrics"
   ]
  },
  {
   "cell_type": "code",
   "execution_count": 191,
   "metadata": {},
   "outputs": [],
   "source": [
    "from sklearn.metrics import recall_score, precision_score, f1_score, accuracy_score, classification_report"
   ]
  },
  {
   "cell_type": "code",
   "execution_count": 1,
   "metadata": {},
   "outputs": [
    {
     "ename": "NameError",
     "evalue": "name 'pd' is not defined",
     "output_type": "error",
     "traceback": [
      "\u001b[0;31m---------------------------------------------------------------------------\u001b[0m",
      "\u001b[0;31mNameError\u001b[0m                                 Traceback (most recent call last)",
      "\u001b[0;32m<ipython-input-1-6b086031a94c>\u001b[0m in \u001b[0;36m<module>\u001b[0;34m\u001b[0m\n\u001b[0;32m----> 1\u001b[0;31m \u001b[0mer_dh\u001b[0m \u001b[0;34m=\u001b[0m \u001b[0mpd\u001b[0m\u001b[0;34m.\u001b[0m\u001b[0mread_csv\u001b[0m\u001b[0;34m(\u001b[0m\u001b[0;34m'../data/er_dh.csv'\u001b[0m\u001b[0;34m)\u001b[0m\u001b[0;34m\u001b[0m\u001b[0;34m\u001b[0m\u001b[0m\n\u001b[0m",
      "\u001b[0;31mNameError\u001b[0m: name 'pd' is not defined"
     ]
    }
   ],
   "source": [
    "er_dh = pd.read_csv('../data/er_dh.csv')"
   ]
  },
  {
   "cell_type": "code",
   "execution_count": 200,
   "metadata": {},
   "outputs": [],
   "source": [
    "y_true = er_dh['level_2_eval'].tolist()\n",
    "y_pred = er_dh['Level 2'].tolist()"
   ]
  },
  {
   "cell_type": "code",
   "execution_count": 201,
   "metadata": {},
   "outputs": [
    {
     "name": "stdout",
     "output_type": "stream",
     "text": [
      "                                                                 precision    recall  f1-score   support\n",
      "\n",
      "                            Abnormal findings without diagnosis       0.00      0.00      0.00         0\n",
      "                                                  Breast cancer       1.00      0.67      0.80         6\n",
      "                                                           COPD       1.00      1.00      1.00         3\n",
      "                   Cardiac and circulatory congenital anomalies       1.00      1.00      1.00         2\n",
      "                                      Chromosomal abnormalities       0.75      1.00      0.86         3\n",
      "                                         Chronic kidney disease       1.00      1.00      1.00         1\n",
      "                                 Circulatory signs and symptoms       0.00      0.00      0.00         0\n",
      "                                        Coronary artery disease       1.00      1.00      1.00         1\n",
      "                                                       Diabetes       1.00      1.00      1.00         1\n",
      "                                  Diseases of white blood cells       0.00      0.00      0.00         0\n",
      "                General sensation/perception signs and symptoms       0.00      0.00      0.00         0\n",
      "                                                  Heart failure       0.00      0.00      0.00         1\n",
      "                                       Hematologic malignancies       1.00      1.00      1.00         9\n",
      "                                                 Liver diseases       1.00      1.00      1.00         2\n",
      "                                                    Lung cancer       1.00      1.00      1.00         1\n",
      "                          Musculoskeletal congenital conditions       1.00      0.50      0.67         2\n",
      "                                                      NOTAMATCH       0.00      0.00      0.00        13\n",
      "                            Nervous system congenital anomalies       1.00      0.67      0.80         3\n",
      "                                     Neurodegenerative diseases       1.00      0.67      0.80         3\n",
      "                                                          Other       0.00      0.00      0.00         1\n",
      "                                 Other cardiovascular disorders       1.00      1.00      1.00        10\n",
      "                                      Other endocrine disorders       1.00      1.00      1.00         6\n",
      "                               Other gastrointestinal disorders       0.67      1.00      0.80         2\n",
      "                               Other general signs and symptoms       0.00      0.00      0.00         0\n",
      "                                  Other genitourinary disorders       1.00      0.89      0.94         9\n",
      "                                               Other infections       0.43      0.33      0.38         9\n",
      "                             Other injuries and external causes       0.92      0.92      0.92        13\n",
      "                                         Other mental disorders       0.83      0.71      0.77        14\n",
      "                                Other musculoskeletal disorders       1.00      1.00      1.00         5\n",
      "                                                Other neoplasms       0.90      0.98      0.94        47\n",
      "                                     Other neurologic disorders       0.86      0.86      0.86        14\n",
      "                                    Other respiratory disorders       1.00      0.86      0.92         7\n",
      "           Other specified and unspecified congenital anomalies       0.00      0.00      0.00         0\n",
      "           Other specified and unspecified perinatal conditions       0.00      0.00      0.00         0\n",
      "                 Other specified and unspecified skin disorders       0.00      0.00      0.00         0\n",
      "                                  Other specified eye disorders       1.00      1.00      1.00         1\n",
      "                 Other specified inflammatory condition of skin       0.00      0.00      0.00         0\n",
      "                                           Perinatal infections       0.00      0.00      0.00         0\n",
      "                                Respiratory perinatal condition       0.00      0.00      0.00         0\n",
      "                                        Rheumatologic disorders       1.00      0.71      0.83         7\n",
      "Short gestation; low birth weight; and fetal growth retardation       1.00      1.00      1.00         1\n",
      "                                                         Stroke       1.00      1.00      1.00         5\n",
      "                                        Substance use disorders       1.00      1.00      1.00         1\n",
      "                Symptoms of mental and substance use conditions       0.00      0.00      0.00         0\n",
      "\n",
      "                                                       accuracy                           0.81       203\n",
      "                                                      macro avg       0.62      0.59      0.60       203\n",
      "                                                   weighted avg       0.84      0.81      0.82       203\n",
      "\n"
     ]
    }
   ],
   "source": [
    "print(classification_report(y_true, y_pred))"
   ]
  },
  {
   "cell_type": "code",
   "execution_count": null,
   "metadata": {},
   "outputs": [],
   "source": []
  },
  {
   "cell_type": "code",
   "execution_count": null,
   "metadata": {},
   "outputs": [],
   "source": []
  },
  {
   "cell_type": "code",
   "execution_count": 177,
   "metadata": {},
   "outputs": [],
   "source": [
    "import numpy as np\n",
    "from sklearn.metrics import recall_score, precision_score, f1_score, accuracy_score"
   ]
  },
  {
   "cell_type": "code",
   "execution_count": 178,
   "metadata": {},
   "outputs": [
    {
     "name": "stderr",
     "output_type": "stream",
     "text": [
      "/opt/anaconda3/lib/python3.7/site-packages/sklearn/metrics/_classification.py:1272: UndefinedMetricWarning: Precision is ill-defined and being set to 0.0 due to no predicted samples. Use `zero_division` parameter to control this behavior.\n",
      "  _warn_prf(average, modifier, msg_start, len(result))\n"
     ]
    }
   ],
   "source": [
    "cat = []\n",
    "precision = []\n",
    "recall = []\n",
    "f1 = []\n",
    "acc = []\n",
    "refe = []\n",
    "piv = []\n",
    "for col in pivot.columns:\n",
    "    cat.append(col)\n",
    "    precision.append(round(precision_score(ref[col], pivot[col]),2))\n",
    "    recall.append(round(recall_score(ref[col], pivot[col]),2))\n",
    "    f1.append(round(f1_score(ref[col], pivot[col]),2))\n",
    "    acc.append(round(accuracy_score(ref[col], pivot[col]),2))\n",
    "    refe.append(sum(ref[col]))\n",
    "    piv.append(sum(pivot[col]))"
   ]
  },
  {
   "cell_type": "code",
   "execution_count": 179,
   "metadata": {},
   "outputs": [],
   "source": [
    "df = pd.DataFrame({'category':cat, \n",
    "                   'ref_count':refe,\n",
    "                   'test_count':piv,\n",
    "              'precision':precision,\n",
    "              'recall':recall,\n",
    "             'f1':f1,\n",
    "            'acc':acc})"
   ]
  },
  {
   "cell_type": "code",
   "execution_count": 435,
   "metadata": {},
   "outputs": [
    {
     "data": {
      "text/html": [
       "<div>\n",
       "<style scoped>\n",
       "    .dataframe tbody tr th:only-of-type {\n",
       "        vertical-align: middle;\n",
       "    }\n",
       "\n",
       "    .dataframe tbody tr th {\n",
       "        vertical-align: top;\n",
       "    }\n",
       "\n",
       "    .dataframe thead th {\n",
       "        text-align: right;\n",
       "    }\n",
       "</style>\n",
       "<table border=\"1\" class=\"dataframe\">\n",
       "  <thead>\n",
       "    <tr style=\"text-align: right;\">\n",
       "      <th></th>\n",
       "      <th>category</th>\n",
       "      <th>ref_count</th>\n",
       "      <th>test_count</th>\n",
       "      <th>precision</th>\n",
       "      <th>recall</th>\n",
       "      <th>f1</th>\n",
       "      <th>acc</th>\n",
       "    </tr>\n",
       "  </thead>\n",
       "  <tbody>\n",
       "    <tr>\n",
       "      <th>0</th>\n",
       "      <td>Cardiovascular diseases</td>\n",
       "      <td>31</td>\n",
       "      <td>17</td>\n",
       "      <td>0.94</td>\n",
       "      <td>0.52</td>\n",
       "      <td>0.67</td>\n",
       "      <td>0.92</td>\n",
       "    </tr>\n",
       "    <tr>\n",
       "      <th>1</th>\n",
       "      <td>Endocrine diseases</td>\n",
       "      <td>12</td>\n",
       "      <td>5</td>\n",
       "      <td>1.00</td>\n",
       "      <td>0.42</td>\n",
       "      <td>0.59</td>\n",
       "      <td>0.96</td>\n",
       "    </tr>\n",
       "    <tr>\n",
       "      <th>2</th>\n",
       "      <td>Gastrointestinal diseases</td>\n",
       "      <td>9</td>\n",
       "      <td>4</td>\n",
       "      <td>0.50</td>\n",
       "      <td>0.22</td>\n",
       "      <td>0.31</td>\n",
       "      <td>0.95</td>\n",
       "    </tr>\n",
       "    <tr>\n",
       "      <th>3</th>\n",
       "      <td>Genitourinary diseases</td>\n",
       "      <td>21</td>\n",
       "      <td>13</td>\n",
       "      <td>1.00</td>\n",
       "      <td>0.62</td>\n",
       "      <td>0.76</td>\n",
       "      <td>0.96</td>\n",
       "    </tr>\n",
       "    <tr>\n",
       "      <th>4</th>\n",
       "      <td>Infections</td>\n",
       "      <td>16</td>\n",
       "      <td>15</td>\n",
       "      <td>0.73</td>\n",
       "      <td>0.69</td>\n",
       "      <td>0.71</td>\n",
       "      <td>0.95</td>\n",
       "    </tr>\n",
       "    <tr>\n",
       "      <th>5</th>\n",
       "      <td>Injuries and external causes</td>\n",
       "      <td>29</td>\n",
       "      <td>10</td>\n",
       "      <td>1.00</td>\n",
       "      <td>0.34</td>\n",
       "      <td>0.51</td>\n",
       "      <td>0.90</td>\n",
       "    </tr>\n",
       "    <tr>\n",
       "      <th>6</th>\n",
       "      <td>Mental and substance use disorders</td>\n",
       "      <td>17</td>\n",
       "      <td>13</td>\n",
       "      <td>0.85</td>\n",
       "      <td>0.65</td>\n",
       "      <td>0.73</td>\n",
       "      <td>0.96</td>\n",
       "    </tr>\n",
       "    <tr>\n",
       "      <th>7</th>\n",
       "      <td>Musculoskeletal diseases</td>\n",
       "      <td>19</td>\n",
       "      <td>12</td>\n",
       "      <td>1.00</td>\n",
       "      <td>0.63</td>\n",
       "      <td>0.77</td>\n",
       "      <td>0.96</td>\n",
       "    </tr>\n",
       "    <tr>\n",
       "      <th>8</th>\n",
       "      <td>Neoplasms</td>\n",
       "      <td>79</td>\n",
       "      <td>77</td>\n",
       "      <td>0.96</td>\n",
       "      <td>0.94</td>\n",
       "      <td>0.95</td>\n",
       "      <td>0.96</td>\n",
       "    </tr>\n",
       "    <tr>\n",
       "      <th>9</th>\n",
       "      <td>Nervous system diseases</td>\n",
       "      <td>36</td>\n",
       "      <td>18</td>\n",
       "      <td>0.83</td>\n",
       "      <td>0.42</td>\n",
       "      <td>0.56</td>\n",
       "      <td>0.88</td>\n",
       "    </tr>\n",
       "    <tr>\n",
       "      <th>10</th>\n",
       "      <td>Nonspecific</td>\n",
       "      <td>45</td>\n",
       "      <td>22</td>\n",
       "      <td>0.23</td>\n",
       "      <td>0.11</td>\n",
       "      <td>0.15</td>\n",
       "      <td>0.71</td>\n",
       "    </tr>\n",
       "    <tr>\n",
       "      <th>11</th>\n",
       "      <td>Other noncommunicable diseases</td>\n",
       "      <td>13</td>\n",
       "      <td>14</td>\n",
       "      <td>0.21</td>\n",
       "      <td>0.23</td>\n",
       "      <td>0.22</td>\n",
       "      <td>0.89</td>\n",
       "    </tr>\n",
       "    <tr>\n",
       "      <th>12</th>\n",
       "      <td>Pregnancy and childbirth</td>\n",
       "      <td>2</td>\n",
       "      <td>0</td>\n",
       "      <td>0.00</td>\n",
       "      <td>0.00</td>\n",
       "      <td>0.00</td>\n",
       "      <td>0.99</td>\n",
       "    </tr>\n",
       "    <tr>\n",
       "      <th>13</th>\n",
       "      <td>Respiratory diseases</td>\n",
       "      <td>16</td>\n",
       "      <td>12</td>\n",
       "      <td>0.83</td>\n",
       "      <td>0.62</td>\n",
       "      <td>0.71</td>\n",
       "      <td>0.96</td>\n",
       "    </tr>\n",
       "  </tbody>\n",
       "</table>\n",
       "</div>"
      ],
      "text/plain": [
       "                              category  ref_count  test_count  precision  \\\n",
       "0              Cardiovascular diseases         31          17       0.94   \n",
       "1                   Endocrine diseases         12           5       1.00   \n",
       "2            Gastrointestinal diseases          9           4       0.50   \n",
       "3               Genitourinary diseases         21          13       1.00   \n",
       "4                           Infections         16          15       0.73   \n",
       "5         Injuries and external causes         29          10       1.00   \n",
       "6   Mental and substance use disorders         17          13       0.85   \n",
       "7             Musculoskeletal diseases         19          12       1.00   \n",
       "8                            Neoplasms         79          77       0.96   \n",
       "9              Nervous system diseases         36          18       0.83   \n",
       "10                         Nonspecific         45          22       0.23   \n",
       "11      Other noncommunicable diseases         13          14       0.21   \n",
       "12            Pregnancy and childbirth          2           0       0.00   \n",
       "13                Respiratory diseases         16          12       0.83   \n",
       "\n",
       "    recall    f1   acc  \n",
       "0     0.52  0.67  0.92  \n",
       "1     0.42  0.59  0.96  \n",
       "2     0.22  0.31  0.95  \n",
       "3     0.62  0.76  0.96  \n",
       "4     0.69  0.71  0.95  \n",
       "5     0.34  0.51  0.90  \n",
       "6     0.65  0.73  0.96  \n",
       "7     0.63  0.77  0.96  \n",
       "8     0.94  0.95  0.96  \n",
       "9     0.42  0.56  0.88  \n",
       "10    0.11  0.15  0.71  \n",
       "11    0.23  0.22  0.89  \n",
       "12    0.00  0.00  0.99  \n",
       "13    0.62  0.71  0.96  "
      ]
     },
     "execution_count": 435,
     "metadata": {},
     "output_type": "execute_result"
    }
   ],
   "source": [
    "df"
   ]
  },
  {
   "cell_type": "code",
   "execution_count": 180,
   "metadata": {},
   "outputs": [],
   "source": [
    "#remove categories that will not be included in further analysis\n",
    "df = df[~df['category'].isin(['Nonspecific','Pregnancy and childbirth','Other noncommunicable diseases'])]"
   ]
  },
  {
   "cell_type": "code",
   "execution_count": 666,
   "metadata": {},
   "outputs": [
    {
     "name": "stdout",
     "output_type": "stream",
     "text": [
      "Weighted precision: 0.9081754385964912\n",
      "Weighted recall: 0.6071228070175438\n",
      "Weighted f1: 0.7077894736842105\n",
      "Weighted accuracy: 0.936561403508772\n"
     ]
    }
   ],
   "source": [
    "print('Weighted precision:', np.average(df['precision'], weights=df['ref_count']))\n",
    "print('Weighted recall:', np.average(df['recall'], weights=df['ref_count']))\n",
    "print('Weighted f1:', np.average(df['f1'], weights=df['ref_count']))\n",
    "print('Weighted accuracy:', np.average(df['acc'], weights=df['ref_count']))"
   ]
  },
  {
   "cell_type": "code",
   "execution_count": 309,
   "metadata": {},
   "outputs": [
    {
     "name": "stdout",
     "output_type": "stream",
     "text": [
      "Weighted precision: 0.9237894736842104\n",
      "Weighted recall: 0.6110526315789473\n",
      "Weighted f1: 0.7123859649122807\n",
      "Weighted accuracy: 0.936561403508772\n"
     ]
    }
   ],
   "source": [
    "print('Weighted precision:', np.average(df['precision'], weights=df['ref_count']))\n",
    "print('Weighted recall:', np.average(df['recall'], weights=df['ref_count']))\n",
    "print('Weighted f1:', np.average(df['f1'], weights=df['ref_count']))\n",
    "print('Weighted accuracy:', np.average(df['acc'], weights=df['ref_count']))"
   ]
  },
  {
   "cell_type": "code",
   "execution_count": 437,
   "metadata": {},
   "outputs": [
    {
     "name": "stdout",
     "output_type": "stream",
     "text": [
      "Weighted precision: 0.9114736842105262\n",
      "Weighted recall: 0.6294035087719297\n",
      "Weighted f1: 0.7240701754385963\n",
      "Weighted accuracy: 0.9385614035087719\n"
     ]
    }
   ],
   "source": [
    "print('Weighted precision:', np.average(df['precision'], weights=df['ref_count']))\n",
    "print('Weighted recall:', np.average(df['recall'], weights=df['ref_count']))\n",
    "print('Weighted f1:', np.average(df['f1'], weights=df['ref_count']))\n",
    "print('Weighted accuracy:', np.average(df['acc'], weights=df['ref_count']))"
   ]
  },
  {
   "cell_type": "code",
   "execution_count": 647,
   "metadata": {},
   "outputs": [
    {
     "name": "stdout",
     "output_type": "stream",
     "text": [
      "Weighted precision: 0.8176842105263159\n",
      "Weighted recall: 0.7190877192982457\n",
      "Weighted f1: 0.756140350877193\n",
      "Weighted accuracy: 0.94\n"
     ]
    }
   ],
   "source": [
    "print('Weighted precision:', np.average(df['precision'], weights=df['ref_count']))\n",
    "print('Weighted recall:', np.average(df['recall'], weights=df['ref_count']))\n",
    "print('Weighted f1:', np.average(df['f1'], weights=df['ref_count']))\n",
    "print('Weighted accuracy:', np.average(df['acc'], weights=df['ref_count']))"
   ]
  },
  {
   "cell_type": "code",
   "execution_count": 758,
   "metadata": {},
   "outputs": [
    {
     "name": "stdout",
     "output_type": "stream",
     "text": [
      "Weighted precision: 0.8171228070175439\n",
      "Weighted recall: 0.7363508771929825\n",
      "Weighted f1: 0.7673333333333333\n",
      "Weighted accuracy: 0.9414736842105262\n"
     ]
    }
   ],
   "source": [
    "print('Weighted precision:', np.average(df['precision'], weights=df['ref_count']))\n",
    "print('Weighted recall:', np.average(df['recall'], weights=df['ref_count']))\n",
    "print('Weighted f1:', np.average(df['f1'], weights=df['ref_count']))\n",
    "print('Weighted accuracy:', np.average(df['acc'], weights=df['ref_count']))"
   ]
  },
  {
   "cell_type": "code",
   "execution_count": 759,
   "metadata": {},
   "outputs": [
    {
     "data": {
      "text/html": [
       "<div>\n",
       "<style scoped>\n",
       "    .dataframe tbody tr th:only-of-type {\n",
       "        vertical-align: middle;\n",
       "    }\n",
       "\n",
       "    .dataframe tbody tr th {\n",
       "        vertical-align: top;\n",
       "    }\n",
       "\n",
       "    .dataframe thead th {\n",
       "        text-align: right;\n",
       "    }\n",
       "</style>\n",
       "<table border=\"1\" class=\"dataframe\">\n",
       "  <thead>\n",
       "    <tr style=\"text-align: right;\">\n",
       "      <th></th>\n",
       "      <th>category</th>\n",
       "      <th>ref_count</th>\n",
       "      <th>test_count</th>\n",
       "      <th>precision</th>\n",
       "      <th>recall</th>\n",
       "      <th>f1</th>\n",
       "      <th>acc</th>\n",
       "    </tr>\n",
       "  </thead>\n",
       "  <tbody>\n",
       "    <tr>\n",
       "      <th>0</th>\n",
       "      <td>Cardiovascular diseases</td>\n",
       "      <td>31</td>\n",
       "      <td>26</td>\n",
       "      <td>0.88</td>\n",
       "      <td>0.74</td>\n",
       "      <td>0.81</td>\n",
       "      <td>0.94</td>\n",
       "    </tr>\n",
       "    <tr>\n",
       "      <th>1</th>\n",
       "      <td>Endocrine diseases</td>\n",
       "      <td>12</td>\n",
       "      <td>9</td>\n",
       "      <td>0.78</td>\n",
       "      <td>0.58</td>\n",
       "      <td>0.67</td>\n",
       "      <td>0.96</td>\n",
       "    </tr>\n",
       "    <tr>\n",
       "      <th>2</th>\n",
       "      <td>Gastrointestinal diseases</td>\n",
       "      <td>9</td>\n",
       "      <td>7</td>\n",
       "      <td>0.43</td>\n",
       "      <td>0.33</td>\n",
       "      <td>0.38</td>\n",
       "      <td>0.95</td>\n",
       "    </tr>\n",
       "    <tr>\n",
       "      <th>3</th>\n",
       "      <td>Genitourinary diseases</td>\n",
       "      <td>21</td>\n",
       "      <td>14</td>\n",
       "      <td>0.93</td>\n",
       "      <td>0.62</td>\n",
       "      <td>0.74</td>\n",
       "      <td>0.95</td>\n",
       "    </tr>\n",
       "    <tr>\n",
       "      <th>4</th>\n",
       "      <td>Infections</td>\n",
       "      <td>16</td>\n",
       "      <td>23</td>\n",
       "      <td>0.65</td>\n",
       "      <td>0.94</td>\n",
       "      <td>0.77</td>\n",
       "      <td>0.95</td>\n",
       "    </tr>\n",
       "    <tr>\n",
       "      <th>5</th>\n",
       "      <td>Injuries and external causes</td>\n",
       "      <td>29</td>\n",
       "      <td>30</td>\n",
       "      <td>0.67</td>\n",
       "      <td>0.69</td>\n",
       "      <td>0.68</td>\n",
       "      <td>0.90</td>\n",
       "    </tr>\n",
       "    <tr>\n",
       "      <th>6</th>\n",
       "      <td>Mental and substance use disorders</td>\n",
       "      <td>17</td>\n",
       "      <td>18</td>\n",
       "      <td>0.56</td>\n",
       "      <td>0.59</td>\n",
       "      <td>0.57</td>\n",
       "      <td>0.92</td>\n",
       "    </tr>\n",
       "    <tr>\n",
       "      <th>7</th>\n",
       "      <td>Musculoskeletal diseases</td>\n",
       "      <td>19</td>\n",
       "      <td>19</td>\n",
       "      <td>0.63</td>\n",
       "      <td>0.63</td>\n",
       "      <td>0.63</td>\n",
       "      <td>0.93</td>\n",
       "    </tr>\n",
       "    <tr>\n",
       "      <th>8</th>\n",
       "      <td>Neoplasms</td>\n",
       "      <td>79</td>\n",
       "      <td>79</td>\n",
       "      <td>0.96</td>\n",
       "      <td>0.96</td>\n",
       "      <td>0.96</td>\n",
       "      <td>0.97</td>\n",
       "    </tr>\n",
       "    <tr>\n",
       "      <th>9</th>\n",
       "      <td>Nervous system diseases</td>\n",
       "      <td>36</td>\n",
       "      <td>22</td>\n",
       "      <td>0.86</td>\n",
       "      <td>0.53</td>\n",
       "      <td>0.66</td>\n",
       "      <td>0.90</td>\n",
       "    </tr>\n",
       "    <tr>\n",
       "      <th>13</th>\n",
       "      <td>Respiratory diseases</td>\n",
       "      <td>16</td>\n",
       "      <td>13</td>\n",
       "      <td>0.92</td>\n",
       "      <td>0.75</td>\n",
       "      <td>0.83</td>\n",
       "      <td>0.97</td>\n",
       "    </tr>\n",
       "  </tbody>\n",
       "</table>\n",
       "</div>"
      ],
      "text/plain": [
       "                              category  ref_count  test_count  precision  \\\n",
       "0              Cardiovascular diseases         31          26       0.88   \n",
       "1                   Endocrine diseases         12           9       0.78   \n",
       "2            Gastrointestinal diseases          9           7       0.43   \n",
       "3               Genitourinary diseases         21          14       0.93   \n",
       "4                           Infections         16          23       0.65   \n",
       "5         Injuries and external causes         29          30       0.67   \n",
       "6   Mental and substance use disorders         17          18       0.56   \n",
       "7             Musculoskeletal diseases         19          19       0.63   \n",
       "8                            Neoplasms         79          79       0.96   \n",
       "9              Nervous system diseases         36          22       0.86   \n",
       "13                Respiratory diseases         16          13       0.92   \n",
       "\n",
       "    recall    f1   acc  \n",
       "0     0.74  0.81  0.94  \n",
       "1     0.58  0.67  0.96  \n",
       "2     0.33  0.38  0.95  \n",
       "3     0.62  0.74  0.95  \n",
       "4     0.94  0.77  0.95  \n",
       "5     0.69  0.68  0.90  \n",
       "6     0.59  0.57  0.92  \n",
       "7     0.63  0.63  0.93  \n",
       "8     0.96  0.96  0.97  \n",
       "9     0.53  0.66  0.90  \n",
       "13    0.75  0.83  0.97  "
      ]
     },
     "execution_count": 759,
     "metadata": {},
     "output_type": "execute_result"
    }
   ],
   "source": [
    "df"
   ]
  },
  {
   "cell_type": "code",
   "execution_count": 181,
   "metadata": {},
   "outputs": [
    {
     "name": "stdout",
     "output_type": "stream",
     "text": [
      "Weighted precision: 0.8193684210526316\n",
      "Weighted recall: 0.732280701754386\n",
      "Weighted f1: 0.7629473684210526\n",
      "Weighted accuracy: 0.9454736842105262\n"
     ]
    }
   ],
   "source": [
    "print('Weighted precision:', np.average(df['precision'], weights=df['ref_count']))\n",
    "print('Weighted recall:', np.average(df['recall'], weights=df['ref_count']))\n",
    "print('Weighted f1:', np.average(df['f1'], weights=df['ref_count']))\n",
    "print('Weighted accuracy:', np.average(df['acc'], weights=df['ref_count']))"
   ]
  },
  {
   "cell_type": "code",
   "execution_count": null,
   "metadata": {},
   "outputs": [],
   "source": []
  }
 ],
 "metadata": {
  "kernelspec": {
   "display_name": "Python 3",
   "language": "python",
   "name": "python3"
  },
  "language_info": {
   "codemirror_mode": {
    "name": "ipython",
    "version": 3
   },
   "file_extension": ".py",
   "mimetype": "text/x-python",
   "name": "python",
   "nbconvert_exporter": "python",
   "pygments_lexer": "ipython3",
   "version": "3.7.6"
  }
 },
 "nbformat": 4,
 "nbformat_minor": 4
}
