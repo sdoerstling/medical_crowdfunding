{
 "cells": [
  {
   "cell_type": "markdown",
   "metadata": {},
   "source": [
    "### Import packages"
   ]
  },
  {
   "cell_type": "code",
   "execution_count": 30,
   "metadata": {},
   "outputs": [],
   "source": [
    "import sqlite3\n",
    "import pandas as pd\n",
    "import json\n",
    "from itertools import chain\n",
    "from random import sample\n",
    "import numpy as np\n",
    "import os\n",
    "from bs4 import BeautifulSoup\n",
    "import string\n",
    "import re\n",
    "import fasttext\n",
    "\n",
    "import urllib.request as req\n",
    "from reportlab.lib.enums import TA_JUSTIFY, TA_CENTER\n",
    "from reportlab.lib.pagesizes import letter\n",
    "from reportlab.platypus import SimpleDocTemplate, Paragraph, Spacer, Image\n",
    "from reportlab.lib.units import cm\n",
    "from reportlab.lib import utils\n",
    "from reportlab.lib.styles import ParagraphStyle"
   ]
  },
  {
   "cell_type": "markdown",
   "metadata": {},
   "source": [
    "### Query database"
   ]
  },
  {
   "cell_type": "code",
   "execution_count": 31,
   "metadata": {},
   "outputs": [],
   "source": [
    "conn = sqlite3.connect(\"gfm.db\")\n",
    "feed = pd.read_sql_query(\"SELECT * FROM feed_tb\", conn)"
   ]
  },
  {
   "cell_type": "markdown",
   "metadata": {},
   "source": [
    "### Remove non-English campaigns"
   ]
  },
  {
   "cell_type": "code",
   "execution_count": 32,
   "metadata": {},
   "outputs": [],
   "source": [
    "feed = feed.drop_duplicates('url')\n",
    "feed['fund_description'] = [x.replace('\\n','') for x in feed['fund_description']]\n",
    "feed['nchar']= [len(x) for x in feed['fund_description']]\n",
    "feed = feed[feed['nchar'] >= 100]"
   ]
  },
  {
   "cell_type": "code",
   "execution_count": 33,
   "metadata": {},
   "outputs": [],
   "source": [
    "def GetLanguage(df):\n",
    "    path_to_pretrained_model = 'fasttext_models/lid.176.bin'\n",
    "    fmodel = fasttext.load_model(path_to_pretrained_model)\n",
    "    r = fmodel.predict(feed['fund_description'].to_list())\n",
    "    labels = r[0]\n",
    "    labels = [i[0].split('__')[2] for i in labels]\n",
    "    scores = r[1]\n",
    "    scores = [i[0] for i in scores]\n",
    "    return labels, scores"
   ]
  },
  {
   "cell_type": "code",
   "execution_count": 34,
   "metadata": {},
   "outputs": [
    {
     "name": "stderr",
     "output_type": "stream",
     "text": [
      "Warning : `load_model` does not return WordVectorModel or SupervisedModel any more, but a `FastText` object which is very similar.\n"
     ]
    }
   ],
   "source": [
    "feed['language'], feed['lang_score'] = GetLanguage(feed)"
   ]
  },
  {
   "cell_type": "code",
   "execution_count": 35,
   "metadata": {},
   "outputs": [],
   "source": [
    "feed = feed[feed['language'] == 'en']"
   ]
  },
  {
   "cell_type": "code",
   "execution_count": 36,
   "metadata": {},
   "outputs": [
    {
     "data": {
      "text/plain": [
       "89676"
      ]
     },
     "execution_count": 36,
     "metadata": {},
     "output_type": "execute_result"
    }
   ],
   "source": [
    "len(feed)"
   ]
  },
  {
   "cell_type": "markdown",
   "metadata": {},
   "source": [
    "### Clean text"
   ]
  },
  {
   "cell_type": "code",
   "execution_count": 37,
   "metadata": {},
   "outputs": [],
   "source": [
    "feed['fund_description'] = [x.replace('\\xa0','') for x in feed['fund_description']]"
   ]
  },
  {
   "cell_type": "markdown",
   "metadata": {},
   "source": [
    "### Identify super earners"
   ]
  },
  {
   "cell_type": "code",
   "execution_count": 38,
   "metadata": {},
   "outputs": [],
   "source": [
    "feed.loc[:,'earner_category'] = np.where(feed['current_amount'] > 100_000, 'se', 'non_se')"
   ]
  },
  {
   "cell_type": "code",
   "execution_count": 39,
   "metadata": {},
   "outputs": [],
   "source": [
    "se = feed[feed['earner_category'] == 'se']"
   ]
  },
  {
   "cell_type": "code",
   "execution_count": 40,
   "metadata": {},
   "outputs": [],
   "source": [
    "non_se = feed[feed['earner_category'] == 'non_se']"
   ]
  },
  {
   "cell_type": "markdown",
   "metadata": {},
   "source": [
    "### How much do super earners ask for?"
   ]
  },
  {
   "cell_type": "code",
   "execution_count": 41,
   "metadata": {},
   "outputs": [
    {
     "data": {
      "text/plain": [
       "<matplotlib.axes._subplots.AxesSubplot at 0x7fd9eaa542d0>"
      ]
     },
     "execution_count": 41,
     "metadata": {},
     "output_type": "execute_result"
    },
    {
     "data": {
      "image/png": "[encoded data removed]",
      "text/plain": [
       "<Figure size 432x288 with 1 Axes>"
      ]
     },
     "metadata": {
      "needs_background": "light"
     },
     "output_type": "display_data"
    }
   ],
   "source": [
    "se['goal_amount'].hist(bins=50)"
   ]
  },
  {
   "cell_type": "code",
   "execution_count": 42,
   "metadata": {},
   "outputs": [
    {
     "data": {
      "text/plain": [
       "0.00        100.0\n",
       "0.25     110000.0\n",
       "0.50     187000.0\n",
       "0.75     250000.0\n",
       "1.00    2695000.0\n",
       "Name: goal_amount, dtype: float64"
      ]
     },
     "execution_count": 42,
     "metadata": {},
     "output_type": "execute_result"
    }
   ],
   "source": [
    "se['goal_amount'].quantile([0,.25,.5,.75, 1])"
   ]
  },
  {
   "cell_type": "markdown",
   "metadata": {},
   "source": [
    "### Control group # 1: Super earner fails\n",
    "\n",
    "- First, we will assign super earners to a goal amount quartile\n",
    "- Second, we will randomly sample 2x campaigns in that goal amount quartile who make < 100_000 and start within 6 months of corresponding super earner"
   ]
  },
  {
   "cell_type": "code",
   "execution_count": 43,
   "metadata": {},
   "outputs": [
    {
     "name": "stderr",
     "output_type": "stream",
     "text": [
      "/opt/anaconda3/lib/python3.7/site-packages/ipykernel_launcher.py:1: SettingWithCopyWarning: \n",
      "A value is trying to be set on a copy of a slice from a DataFrame.\n",
      "Try using .loc[row_indexer,col_indexer] = value instead\n",
      "\n",
      "See the caveats in the documentation: https://pandas.pydata.org/pandas-docs/stable/user_guide/indexing.html#returning-a-view-versus-a-copy\n",
      "  \"\"\"Entry point for launching an IPython kernel.\n"
     ]
    }
   ],
   "source": [
    "se['quart'] = pd.qcut(se['goal_amount'], 4, labels=False)"
   ]
  },
  {
   "cell_type": "code",
   "execution_count": 44,
   "metadata": {},
   "outputs": [],
   "source": [
    "from copy import deepcopy\n",
    "from dateutil.relativedelta import relativedelta"
   ]
  },
  {
   "cell_type": "code",
   "execution_count": 49,
   "metadata": {},
   "outputs": [],
   "source": [
    "def GetControl1(se, non_se):\n",
    "    #define results container to store urls of control campaigns\n",
    "    r = []\n",
    "    #define copy of non_se pool\n",
    "    non_se_copy = deepcopy(non_se)\n",
    "    #ensure dates are properly formatted\n",
    "    se.loc[:,'launch_date'] = pd.to_datetime(se['launch_date'], utc=True)  \n",
    "    non_se_copy.loc[:,'launch_date'] = pd.to_datetime(non_se_copy['launch_date'], utc=True) \n",
    "    #loop through SE campaigns, sample\n",
    "    for index, row in se.iterrows():\n",
    "        quart = row['quart']\n",
    "        date = row['launch_date']\n",
    "        #get subset of candidate campaigns based on goal amount quartile\n",
    "        if quart == 0:\n",
    "            cand = non_se_copy[(non_se_copy['goal_amount'] > 100) & (non_se_copy['goal_amount'] <= 110000)]\n",
    "        elif quart == 1:\n",
    "            cand = non_se_copy[(non_se_copy['goal_amount'] > 110000) & (non_se_copy['goal_amount'] <= 187000)]\n",
    "        elif quart == 2:\n",
    "            cand = non_se_copy[(non_se_copy['goal_amount'] > 187000) & (non_se_copy['goal_amount'] <= 250000)]\n",
    "        elif quart == 3:\n",
    "            cand = non_se_copy[(non_se_copy['goal_amount'] > 250000) & (non_se_copy['goal_amount'] <= 2695000)]\n",
    "        #subset candidate campaigns based on launch date\n",
    "        six_mo_before = date + relativedelta(months=-3)\n",
    "        six_mo_after = date + relativedelta(months=+3)\n",
    "        date_mask = (cand['launch_date'] >= six_mo_before) & (cand['launch_date'] <= six_mo_after)\n",
    "        cand = cand.loc[date_mask]\n",
    "        if len(cand) < 2:\n",
    "            print('no candidates for {0}'.format(row['url']))\n",
    "            continue\n",
    "        #sample candidate campaigns 2:1\n",
    "        cand = cand.sample(2)\n",
    "        #store urls in results container\n",
    "        [r.append(url) for url in cand['url'].tolist()]\n",
    "        #remove urls in results from candidate pool\n",
    "        non_se_copy = non_se_copy[~non_se_copy['url'].isin(r)]\n",
    "\n",
    "    return r"
   ]
  },
  {
   "cell_type": "code",
   "execution_count": 50,
   "metadata": {},
   "outputs": [],
   "source": [
    "con_1_urls = GetControl1(se, non_se)"
   ]
  },
  {
   "cell_type": "code",
   "execution_count": 51,
   "metadata": {},
   "outputs": [],
   "source": [
    "con_1 = non_se[non_se['url'].isin(con_1_urls)]"
   ]
  },
  {
   "cell_type": "code",
   "execution_count": 52,
   "metadata": {},
   "outputs": [
    {
     "data": {
      "text/plain": [
       "<matplotlib.axes._subplots.AxesSubplot at 0x7fda1e702690>"
      ]
     },
     "execution_count": 52,
     "metadata": {},
     "output_type": "execute_result"
    },
    {
     "data": {
      "image/png": "[encoded data removed]",
      "text/plain": [
       "<Figure size 432x288 with 1 Axes>"
      ]
     },
     "metadata": {
      "needs_background": "light"
     },
     "output_type": "display_data"
    }
   ],
   "source": [
    "con_1['goal_amount'].hist(bins=50)"
   ]
  },
  {
   "cell_type": "markdown",
   "metadata": {},
   "source": [
    "### Control group # 2: Average campaign\n",
    "- we will randomly sample 2x remaining campaigns that start within 6 months of corresponding super earner"
   ]
  },
  {
   "cell_type": "code",
   "execution_count": 53,
   "metadata": {},
   "outputs": [],
   "source": [
    "def GetControl2(se, non_se):\n",
    "    #define results container to store urls of control campaigns\n",
    "    r = []\n",
    "    #define copy of non_se pool\n",
    "    non_se_copy = deepcopy(non_se)\n",
    "    #ensure dates are properly formatted\n",
    "    se.loc[:,'launch_date'] = pd.to_datetime(se['launch_date'], utc=True)  \n",
    "    non_se_copy.loc[:,'launch_date'] = pd.to_datetime(non_se_copy['launch_date'], utc=True) \n",
    "    #loop through SE campaigns, sample\n",
    "    for index, row in se.iterrows():\n",
    "        date = row['launch_date']\n",
    "        #subset candidate campaigns based on launch date\n",
    "        six_mo_before = date + relativedelta(months=-3)\n",
    "        six_mo_after = date + relativedelta(months=+3)\n",
    "        cand = non_se_copy\n",
    "        date_mask = (cand['launch_date'] >= six_mo_before) & (cand['launch_date'] <= six_mo_after)\n",
    "        cand = cand.loc[date_mask]\n",
    "        if len(cand) < 2:\n",
    "            print('no candidates for {0}'.format(row['url']))\n",
    "            continue\n",
    "        #sample candidate campaigns 2:1\n",
    "        cand = cand.sample(2)\n",
    "        #store urls in results container\n",
    "        [r.append(url) for url in cand['url'].tolist()]\n",
    "        #remove urls in results from candidate pool\n",
    "        non_se_copy = non_se_copy[~non_se_copy['url'].isin(r)]\n",
    "\n",
    "    return r"
   ]
  },
  {
   "cell_type": "code",
   "execution_count": 54,
   "metadata": {},
   "outputs": [],
   "source": [
    "con_2_urls = GetControl2(se, non_se[~non_se['url'].isin(con_1['url'].tolist())])"
   ]
  },
  {
   "cell_type": "code",
   "execution_count": 55,
   "metadata": {},
   "outputs": [],
   "source": [
    "con_2 = non_se[non_se['url'].isin(con_2_urls)]"
   ]
  },
  {
   "cell_type": "code",
   "execution_count": 56,
   "metadata": {},
   "outputs": [
    {
     "data": {
      "text/plain": [
       "<matplotlib.axes._subplots.AxesSubplot at 0x7fda1e310510>"
      ]
     },
     "execution_count": 56,
     "metadata": {},
     "output_type": "execute_result"
    },
    {
     "data": {
      "image/png": "[encoded data removed]",
      "text/plain": [
       "<Figure size 432x288 with 1 Axes>"
      ]
     },
     "metadata": {
      "needs_background": "light"
     },
     "output_type": "display_data"
    }
   ],
   "source": [
    "con_2['goal_amount'].hist(bins=50)"
   ]
  },
  {
   "cell_type": "code",
   "execution_count": 22,
   "metadata": {},
   "outputs": [],
   "source": [
    "df = feed[feed['nchar'] > 5000].sample(1)"
   ]
  },
  {
   "cell_type": "markdown",
   "metadata": {},
   "source": [
    "### Comparing goal amount distributions"
   ]
  },
  {
   "cell_type": "code",
   "execution_count": 60,
   "metadata": {},
   "outputs": [
    {
     "data": {
      "text/plain": [
       "Text(0, 0.5, 'Frequency')"
      ]
     },
     "execution_count": 60,
     "metadata": {},
     "output_type": "execute_result"
    },
    {
     "data": {
      "image/png": "[encoded data removed]",
      "text/plain": [
       "<Figure size 1080x216 with 3 Axes>"
      ]
     },
     "metadata": {
      "needs_background": "light"
     },
     "output_type": "display_data"
    }
   ],
   "source": [
    "import matplotlib.pyplot as plt\n",
    "\n",
    "fig, axes = plt.subplots(1, 3, figsize=(15,3))\n",
    "\n",
    "se.loc[:,'goal_amount_div'] = se['goal_amount']/1000000\n",
    "con_1.loc[:,'goal_amount_div'] = con_1['goal_amount']/1000000\n",
    "con_2.loc[:,'goal_amount_div'] = con_2['goal_amount']/1000000\n",
    "\n",
    "se.hist('goal_amount_div', bins=50, ax=axes[0], range=[0, 3])\n",
    "con_1.hist('goal_amount_div', bins=50, ax=axes[1], range=[0, 3])\n",
    "con_2.hist('goal_amount_div', bins=50, ax=axes[2], range=[0, 3])\n",
    "\n",
    "axes[0].set_title('SE')\n",
    "axes[1].set_title('CON1')\n",
    "axes[2].set_title('CON2')\n",
    "\n",
    "axes[0].set_xlabel(\"Goal Amount ($ millions)\")\n",
    "axes[1].set_xlabel(\"Goal Amount ($ millions)\")\n",
    "axes[2].set_xlabel(\"Goal Amount ($ millions)\")\n",
    "\n",
    "axes[0].set_ylabel(\"Frequency\")\n",
    "axes[1].set_ylabel(\"Frequency\")\n",
    "axes[2].set_ylabel(\"Frequency\")"
   ]
  },
  {
   "cell_type": "code",
   "execution_count": 62,
   "metadata": {},
   "outputs": [
    {
     "name": "stdout",
     "output_type": "stream",
     "text": [
      "(157, 72)\n",
      "(314, 71)\n",
      "(314, 71)\n"
     ]
    }
   ],
   "source": [
    "print(se.shape)\n",
    "print(con_1.shape)\n",
    "print(con_2.shape)"
   ]
  },
  {
   "cell_type": "markdown",
   "metadata": {},
   "source": [
    "### Export data to save for future imports given that data are sampled"
   ]
  },
  {
   "cell_type": "code",
   "execution_count": 63,
   "metadata": {},
   "outputs": [],
   "source": [
    "#se.to_csv('Super earners/data/super_earner.csv', index=False)\n",
    "#con_1.to_csv('Super earners/data/control_1.csv', index=False)\n",
    "#con_2.to_csv('Super earners/data/control_2.csv', index=False)"
   ]
  },
  {
   "cell_type": "markdown",
   "metadata": {},
   "source": [
    "### Get sample of 20 campaigns for first round of review"
   ]
  },
  {
   "cell_type": "code",
   "execution_count": 65,
   "metadata": {},
   "outputs": [],
   "source": [
    "frames = [se, con_1, con_2]\n",
    "common_cols = list(set.intersection(*(set(df.columns) for df in frames)))\n",
    "\n",
    "sample_20 = pd.concat([df[common_cols].sample(7) for df in frames], ignore_index=True).iloc[:20]"
   ]
  },
  {
   "cell_type": "code",
   "execution_count": 67,
   "metadata": {},
   "outputs": [],
   "source": [
    "#sample_20.to_csv('Super earners/data/sample_20.csv', index=False)"
   ]
  },
  {
   "cell_type": "markdown",
   "metadata": {},
   "source": [
    "### Download photos"
   ]
  },
  {
   "cell_type": "code",
   "execution_count": 68,
   "metadata": {},
   "outputs": [],
   "source": [
    "def SavePhotos(feed):\n",
    "    for index, row in feed.iterrows():\n",
    "        url = row['default_url']\n",
    "        imgurl = row['campaign_photo_url']\n",
    "        req.urlretrieve(imgurl, \"Super earners/photos/{0}.jpg\".format(url))\n",
    "    return \"all done\""
   ]
  },
  {
   "cell_type": "code",
   "execution_count": 69,
   "metadata": {},
   "outputs": [
    {
     "data": {
      "text/plain": [
       "'all done'"
      ]
     },
     "execution_count": 69,
     "metadata": {},
     "output_type": "execute_result"
    }
   ],
   "source": [
    "SavePhotos(sample_20)"
   ]
  },
  {
   "cell_type": "markdown",
   "metadata": {},
   "source": [
    "### Construct PDF"
   ]
  },
  {
   "cell_type": "code",
   "execution_count": 74,
   "metadata": {},
   "outputs": [],
   "source": [
    "def AddTitle(doc, title):\n",
    "    doc.append(Spacer(1,20))\n",
    "    doc.append(Paragraph(title, ParagraphStyle(name='Name', fontSize=20, alignment=TA_CENTER)))\n",
    "    doc.append(Spacer(1,50))\n",
    "    return doc"
   ]
  },
  {
   "cell_type": "code",
   "execution_count": 75,
   "metadata": {},
   "outputs": [],
   "source": [
    "def AddParagraph(doc, desc):\n",
    "    soup = BeautifulSoup(desc)\n",
    "    text = soup.get_text(separator=\"\\n\")\n",
    "    for line in text.split('\\n'):\n",
    "        doc.append(Paragraph(line, ParagraphStyle(name='Name', fontSize=11)))\n",
    "        doc.append(Spacer(1,12))\n",
    "    return doc"
   ]
  },
  {
   "cell_type": "code",
   "execution_count": 76,
   "metadata": {},
   "outputs": [],
   "source": [
    "def GetImage(path, width=1*cm):\n",
    "    img = utils.ImageReader(path)\n",
    "    iw, ih = img.getSize()\n",
    "    aspect = ih / float(iw)\n",
    "    return Image(path, width=width, height=(width * aspect))"
   ]
  },
  {
   "cell_type": "code",
   "execution_count": 77,
   "metadata": {},
   "outputs": [],
   "source": [
    "def MakePDF(feed):\n",
    "    for index, row in feed.iterrows():\n",
    "        img_url = row['default_url']\n",
    "        title = row['fund_name']\n",
    "        desc = row['fund_description']\n",
    "        document = []\n",
    "        document.append(GetImage('Super earners/photos/{0}.jpg'.format(img_url), width=10*cm))\n",
    "        document = AddTitle(document, title)\n",
    "        SimpleDocTemplate('Super earners/pdfs/{0}.pdf'.format(img_url), \n",
    "                          pagesize=letter,\n",
    "                          rightMargin=24,\n",
    "                          leftMargin=24,\n",
    "                          topMargin=24,\n",
    "                          bottomMargin=24\n",
    "                         ).build(AddParagraph(document, desc))\n",
    "    return \"all done\""
   ]
  },
  {
   "cell_type": "code",
   "execution_count": 79,
   "metadata": {},
   "outputs": [
    {
     "data": {
      "text/plain": [
       "'all done'"
      ]
     },
     "execution_count": 79,
     "metadata": {},
     "output_type": "execute_result"
    }
   ],
   "source": [
    "MakePDF(sample_20)"
   ]
  },
  {
   "cell_type": "code",
   "execution_count": null,
   "metadata": {},
   "outputs": [],
   "source": []
  }
 ],
 "metadata": {
  "kernelspec": {
   "display_name": "Python 3",
   "language": "python",
   "name": "python3"
  },
  "language_info": {
   "codemirror_mode": {
    "name": "ipython",
    "version": 3
   },
   "file_extension": ".py",
   "mimetype": "text/x-python",
   "name": "python",
   "nbconvert_exporter": "python",
   "pygments_lexer": "ipython3",
   "version": "3.7.6"
  }
 },
 "nbformat": 4,
 "nbformat_minor": 4
}
