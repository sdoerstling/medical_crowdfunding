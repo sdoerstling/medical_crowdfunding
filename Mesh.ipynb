{
 "cells": [
  {
   "cell_type": "code",
   "execution_count": 24,
   "metadata": {},
   "outputs": [],
   "source": [
    "from xml.etree import cElementTree as ET"
   ]
  },
  {
   "cell_type": "code",
   "execution_count": 25,
   "metadata": {},
   "outputs": [],
   "source": [
    "tree = ET.parse('desc2021.xml')\n",
    "root = tree.getroot()"
   ]
  },
  {
   "cell_type": "code",
   "execution_count": 26,
   "metadata": {},
   "outputs": [],
   "source": [
    "descName = []\n",
    "descUI = []\n",
    "descTree = []\n",
    "conceptName = []\n",
    "conceptUI = []\n",
    "term = []\n",
    "\n",
    "\n",
    "#loop through DescriptorRecords\n",
    "for DescriptorRecord in root.findall('DescriptorRecord'):\n",
    "    \n",
    "    #loop through DescriptorNames (should only be 1 per DescriptorRecord)\n",
    "    r = []\n",
    "    for DescriptorName in DescriptorRecord.findall('DescriptorName'):\n",
    "        r.append(DescriptorName.find('String').text)\n",
    "    descName.append(r)\n",
    "    \n",
    "    #loop through DescriptorUIs (should only be 1 per DescriptorRecord)\n",
    "    r = []\n",
    "    for DescriptorUI in DescriptorRecord.findall('DescriptorUI'):\n",
    "        r.append(DescriptorUI.text)\n",
    "    descUI.append(r)\n",
    "    \n",
    "    #loop thourgh Descriptor Tree assignments (can be multiple)\n",
    "    r = []\n",
    "    for TreeNumberList in DescriptorRecord.findall('TreeNumberList'):\n",
    "        for tree in TreeNumberList.findall('TreeNumber'):\n",
    "            r.append(tree.text)\n",
    "    descTree.append(r)\n",
    "    \n",
    "    #loop through Concepts in each DescriptorRecord (can be multiple)\n",
    "    name_r = []\n",
    "    ui_r = []\n",
    "    term_r = []\n",
    "    for ConceptList in DescriptorRecord.findall('ConceptList'):\n",
    "        for Concept in ConceptList.findall('Concept'):\n",
    "            #select preferred concept\n",
    "            if Concept.attrib['PreferredConceptYN'] == 'Y':\n",
    "                #loop through name and id for preferred concept (should only be 1 each)\n",
    "                for name in Concept.findall('ConceptName'):\n",
    "                    name_r.append(name.find('String').text)\n",
    "                for ui in Concept.findall('ConceptUI'):\n",
    "                    ui_r.append(ui.text)\n",
    "                #loop through terms for preferred concept\n",
    "                for TermList in Concept.findall('TermList'):\n",
    "                    for Term in TermList.findall('Term'):\n",
    "                        #label term as preferred or not\n",
    "                        if Term.attrib['ConceptPreferredTermYN'] == 'Y':\n",
    "                            term_r.append({'termName':Term.find('String').text, 'preferred': 'Y'})\n",
    "                        else:\n",
    "                            term_r.append({'termName':Term.find('String').text, 'preferred': 'N'})\n",
    "            else:\n",
    "                continue\n",
    "    conceptName.append(name_r)\n",
    "    conceptUI.append(ui_r)\n",
    "    term.append(term_r)"
   ]
  },
  {
   "cell_type": "code",
   "execution_count": 27,
   "metadata": {},
   "outputs": [],
   "source": [
    "import pandas as pd\n",
    "df = pd.DataFrame({'descName':descName,'descUI':descUI,'tree':descTree,'conceptName':conceptName,'conceptUI':conceptUI, 'term':term})"
   ]
  },
  {
   "cell_type": "code",
   "execution_count": 28,
   "metadata": {},
   "outputs": [
    {
     "data": {
      "text/html": [
       "<div>\n",
       "<style scoped>\n",
       "    .dataframe tbody tr th:only-of-type {\n",
       "        vertical-align: middle;\n",
       "    }\n",
       "\n",
       "    .dataframe tbody tr th {\n",
       "        vertical-align: top;\n",
       "    }\n",
       "\n",
       "    .dataframe thead th {\n",
       "        text-align: right;\n",
       "    }\n",
       "</style>\n",
       "<table border=\"1\" class=\"dataframe\">\n",
       "  <thead>\n",
       "    <tr style=\"text-align: right;\">\n",
       "      <th></th>\n",
       "      <th>descName</th>\n",
       "      <th>descUI</th>\n",
       "      <th>tree</th>\n",
       "      <th>conceptName</th>\n",
       "      <th>conceptUI</th>\n",
       "      <th>term</th>\n",
       "    </tr>\n",
       "  </thead>\n",
       "  <tbody>\n",
       "    <tr>\n",
       "      <th>0</th>\n",
       "      <td>[Calcimycin]</td>\n",
       "      <td>[D000001]</td>\n",
       "      <td>[D03.633.100.221.173]</td>\n",
       "      <td>[Calcimycin]</td>\n",
       "      <td>[M0000001]</td>\n",
       "      <td>[{'termName': 'Calcimycin', 'preferred': 'Y'}]</td>\n",
       "    </tr>\n",
       "    <tr>\n",
       "      <th>1</th>\n",
       "      <td>[Temefos]</td>\n",
       "      <td>[D000002]</td>\n",
       "      <td>[D02.705.400.625.800, D02.705.539.345.800, D02...</td>\n",
       "      <td>[Temefos]</td>\n",
       "      <td>[M0000002]</td>\n",
       "      <td>[{'termName': 'Temefos', 'preferred': 'Y'}, {'...</td>\n",
       "    </tr>\n",
       "    <tr>\n",
       "      <th>2</th>\n",
       "      <td>[Abattoirs]</td>\n",
       "      <td>[D000003]</td>\n",
       "      <td>[J01.576.423.200.700.100, J03.540.020]</td>\n",
       "      <td>[Abattoirs]</td>\n",
       "      <td>[M0000003]</td>\n",
       "      <td>[{'termName': 'Abattoirs', 'preferred': 'Y'}, ...</td>\n",
       "    </tr>\n",
       "    <tr>\n",
       "      <th>3</th>\n",
       "      <td>[Abbreviations as Topic]</td>\n",
       "      <td>[D000004]</td>\n",
       "      <td>[L01.559.598.400.556.131]</td>\n",
       "      <td>[Abbreviations as Topic]</td>\n",
       "      <td>[M0000004]</td>\n",
       "      <td>[{'termName': 'Abbreviations as Topic', 'prefe...</td>\n",
       "    </tr>\n",
       "    <tr>\n",
       "      <th>4</th>\n",
       "      <td>[Abdomen]</td>\n",
       "      <td>[D000005]</td>\n",
       "      <td>[A01.923.047]</td>\n",
       "      <td>[Abdomen]</td>\n",
       "      <td>[M0000005]</td>\n",
       "      <td>[{'termName': 'Abdomen', 'preferred': 'Y'}, {'...</td>\n",
       "    </tr>\n",
       "  </tbody>\n",
       "</table>\n",
       "</div>"
      ],
      "text/plain": [
       "                   descName     descUI  \\\n",
       "0              [Calcimycin]  [D000001]   \n",
       "1                 [Temefos]  [D000002]   \n",
       "2               [Abattoirs]  [D000003]   \n",
       "3  [Abbreviations as Topic]  [D000004]   \n",
       "4                 [Abdomen]  [D000005]   \n",
       "\n",
       "                                                tree  \\\n",
       "0                              [D03.633.100.221.173]   \n",
       "1  [D02.705.400.625.800, D02.705.539.345.800, D02...   \n",
       "2             [J01.576.423.200.700.100, J03.540.020]   \n",
       "3                          [L01.559.598.400.556.131]   \n",
       "4                                      [A01.923.047]   \n",
       "\n",
       "                conceptName   conceptUI  \\\n",
       "0              [Calcimycin]  [M0000001]   \n",
       "1                 [Temefos]  [M0000002]   \n",
       "2               [Abattoirs]  [M0000003]   \n",
       "3  [Abbreviations as Topic]  [M0000004]   \n",
       "4                 [Abdomen]  [M0000005]   \n",
       "\n",
       "                                                term  \n",
       "0     [{'termName': 'Calcimycin', 'preferred': 'Y'}]  \n",
       "1  [{'termName': 'Temefos', 'preferred': 'Y'}, {'...  \n",
       "2  [{'termName': 'Abattoirs', 'preferred': 'Y'}, ...  \n",
       "3  [{'termName': 'Abbreviations as Topic', 'prefe...  \n",
       "4  [{'termName': 'Abdomen', 'preferred': 'Y'}, {'...  "
      ]
     },
     "execution_count": 28,
     "metadata": {},
     "output_type": "execute_result"
    }
   ],
   "source": [
    "df.head()"
   ]
  },
  {
   "cell_type": "code",
   "execution_count": 29,
   "metadata": {},
   "outputs": [
    {
     "data": {
      "text/plain": [
       "(29917, 6)"
      ]
     },
     "execution_count": 29,
     "metadata": {},
     "output_type": "execute_result"
    }
   ],
   "source": [
    "df.shape"
   ]
  },
  {
   "cell_type": "code",
   "execution_count": 30,
   "metadata": {},
   "outputs": [],
   "source": [
    "df.loc[:,'descName'] = [x[0] for x in df['descName']]\n",
    "df.loc[:,'descUI'] = [x[0] for x in df['descUI']]\n",
    "df.loc[:,'conceptName'] = [x[0] for x in df['conceptName']]\n",
    "df.loc[:,'conceptUI'] = [x[0] for x in df['conceptUI']]"
   ]
  },
  {
   "cell_type": "code",
   "execution_count": 31,
   "metadata": {},
   "outputs": [],
   "source": [
    "df = df.explode('tree')"
   ]
  },
  {
   "cell_type": "code",
   "execution_count": 33,
   "metadata": {},
   "outputs": [],
   "source": [
    "df.loc[:,'tree_parent'] = [str(x)[:3] for x in df['tree']]"
   ]
  },
  {
   "cell_type": "code",
   "execution_count": 34,
   "metadata": {},
   "outputs": [],
   "source": [
    "df.loc[:,'tree_length'] = [len(str(x)) for x in df['tree']]"
   ]
  },
  {
   "cell_type": "code",
   "execution_count": 36,
   "metadata": {},
   "outputs": [],
   "source": [
    "disease = df[df['tree_parent'].str.startswith('C')]"
   ]
  },
  {
   "cell_type": "code",
   "execution_count": 37,
   "metadata": {},
   "outputs": [],
   "source": [
    "mental_health = df[df['tree_parent'] == 'F03']"
   ]
  },
  {
   "cell_type": "code",
   "execution_count": 38,
   "metadata": {},
   "outputs": [],
   "source": [
    "mesh = pd.concat([disease, mental_health])"
   ]
  },
  {
   "cell_type": "code",
   "execution_count": 41,
   "metadata": {},
   "outputs": [],
   "source": [
    "def Mode(l):\n",
    "    return max(set(l), key=l.count)"
   ]
  },
  {
   "cell_type": "code",
   "execution_count": 42,
   "metadata": {},
   "outputs": [],
   "source": [
    "def Mini(l):\n",
    "    return min(set(l), key=l.count)"
   ]
  },
  {
   "cell_type": "code",
   "execution_count": 43,
   "metadata": {},
   "outputs": [],
   "source": [
    "def descui_to_single_category(mesh):\n",
    "\n",
    "    r = {'descUI':[],'group':[]}\n",
    "\n",
    "    for ui in mesh['descUI'].unique():\n",
    "        df_ = mesh[mesh['descUI'] == ui]\n",
    "        counts = df_['tree_parent'].value_counts().to_dict()\n",
    "        if len(counts) == 1:\n",
    "            r['descUI'].append(ui)\n",
    "            r['group'].append([x for x in counts.keys()][0])\n",
    "        else:\n",
    "            l = df_['tree_parent'].tolist()\n",
    "            mode = Mode(l)\n",
    "            mini = Mini(l)\n",
    "            if mode == mini:\n",
    "                #then pick the broadest category\n",
    "                min_tree = min(df_['tree_length'].tolist())\n",
    "                r['descUI'].append(ui)\n",
    "                r['group'].append(df_[df_['tree_length'] == min_tree]['tree_parent'].tolist()[0])\n",
    "            else:\n",
    "                r['descUI'].append(ui)\n",
    "                r['group'].append(mode)\n",
    "    \n",
    "    return pd.DataFrame(r)"
   ]
  },
  {
   "cell_type": "code",
   "execution_count": 44,
   "metadata": {},
   "outputs": [],
   "source": [
    "single_category = descui_to_single_category(mesh)"
   ]
  },
  {
   "cell_type": "code",
   "execution_count": 45,
   "metadata": {},
   "outputs": [],
   "source": [
    "df = pd.merge(mesh, single_category, on='descUI')"
   ]
  },
  {
   "cell_type": "code",
   "execution_count": 46,
   "metadata": {},
   "outputs": [],
   "source": [
    "df = df.explode('term')"
   ]
  },
  {
   "cell_type": "code",
   "execution_count": 47,
   "metadata": {},
   "outputs": [],
   "source": [
    "df.loc[:,'termName'] = [x['termName'] for x in df['term']]\n",
    "df.loc[:,'termPref'] = [x['preferred'] for x in df['term']]\n",
    "del df['term']"
   ]
  },
  {
   "cell_type": "code",
   "execution_count": 51,
   "metadata": {},
   "outputs": [
    {
     "data": {
      "text/html": [
       "<div>\n",
       "<style scoped>\n",
       "    .dataframe tbody tr th:only-of-type {\n",
       "        vertical-align: middle;\n",
       "    }\n",
       "\n",
       "    .dataframe tbody tr th {\n",
       "        vertical-align: top;\n",
       "    }\n",
       "\n",
       "    .dataframe thead th {\n",
       "        text-align: right;\n",
       "    }\n",
       "</style>\n",
       "<table border=\"1\" class=\"dataframe\">\n",
       "  <thead>\n",
       "    <tr style=\"text-align: right;\">\n",
       "      <th></th>\n",
       "      <th>descName</th>\n",
       "      <th>descUI</th>\n",
       "      <th>tree</th>\n",
       "      <th>conceptName</th>\n",
       "      <th>conceptUI</th>\n",
       "      <th>tree_parent</th>\n",
       "      <th>tree_length</th>\n",
       "      <th>group</th>\n",
       "      <th>termName</th>\n",
       "      <th>termPref</th>\n",
       "    </tr>\n",
       "  </thead>\n",
       "  <tbody>\n",
       "    <tr>\n",
       "      <th>12394</th>\n",
       "      <td>Schizophrenia</td>\n",
       "      <td>D012559</td>\n",
       "      <td>F03.700.750</td>\n",
       "      <td>Schizophrenia</td>\n",
       "      <td>M0019489</td>\n",
       "      <td>F03</td>\n",
       "      <td>11</td>\n",
       "      <td>F03</td>\n",
       "      <td>Schizophrenia</td>\n",
       "      <td>Y</td>\n",
       "    </tr>\n",
       "    <tr>\n",
       "      <th>12394</th>\n",
       "      <td>Schizophrenia</td>\n",
       "      <td>D012559</td>\n",
       "      <td>F03.700.750</td>\n",
       "      <td>Schizophrenia</td>\n",
       "      <td>M0019489</td>\n",
       "      <td>F03</td>\n",
       "      <td>11</td>\n",
       "      <td>F03</td>\n",
       "      <td>Schizophrenias</td>\n",
       "      <td>N</td>\n",
       "    </tr>\n",
       "    <tr>\n",
       "      <th>12394</th>\n",
       "      <td>Schizophrenia</td>\n",
       "      <td>D012559</td>\n",
       "      <td>F03.700.750</td>\n",
       "      <td>Schizophrenia</td>\n",
       "      <td>M0019489</td>\n",
       "      <td>F03</td>\n",
       "      <td>11</td>\n",
       "      <td>F03</td>\n",
       "      <td>Schizophrenic Disorders</td>\n",
       "      <td>N</td>\n",
       "    </tr>\n",
       "    <tr>\n",
       "      <th>12394</th>\n",
       "      <td>Schizophrenia</td>\n",
       "      <td>D012559</td>\n",
       "      <td>F03.700.750</td>\n",
       "      <td>Schizophrenia</td>\n",
       "      <td>M0019489</td>\n",
       "      <td>F03</td>\n",
       "      <td>11</td>\n",
       "      <td>F03</td>\n",
       "      <td>Disorder, Schizophrenic</td>\n",
       "      <td>N</td>\n",
       "    </tr>\n",
       "    <tr>\n",
       "      <th>12394</th>\n",
       "      <td>Schizophrenia</td>\n",
       "      <td>D012559</td>\n",
       "      <td>F03.700.750</td>\n",
       "      <td>Schizophrenia</td>\n",
       "      <td>M0019489</td>\n",
       "      <td>F03</td>\n",
       "      <td>11</td>\n",
       "      <td>F03</td>\n",
       "      <td>Disorders, Schizophrenic</td>\n",
       "      <td>N</td>\n",
       "    </tr>\n",
       "    <tr>\n",
       "      <th>12394</th>\n",
       "      <td>Schizophrenia</td>\n",
       "      <td>D012559</td>\n",
       "      <td>F03.700.750</td>\n",
       "      <td>Schizophrenia</td>\n",
       "      <td>M0019489</td>\n",
       "      <td>F03</td>\n",
       "      <td>11</td>\n",
       "      <td>F03</td>\n",
       "      <td>Schizophrenic Disorder</td>\n",
       "      <td>N</td>\n",
       "    </tr>\n",
       "    <tr>\n",
       "      <th>12394</th>\n",
       "      <td>Schizophrenia</td>\n",
       "      <td>D012559</td>\n",
       "      <td>F03.700.750</td>\n",
       "      <td>Schizophrenia</td>\n",
       "      <td>M0019489</td>\n",
       "      <td>F03</td>\n",
       "      <td>11</td>\n",
       "      <td>F03</td>\n",
       "      <td>Dementia Praecox</td>\n",
       "      <td>N</td>\n",
       "    </tr>\n",
       "  </tbody>\n",
       "</table>\n",
       "</div>"
      ],
      "text/plain": [
       "            descName   descUI         tree    conceptName conceptUI  \\\n",
       "12394  Schizophrenia  D012559  F03.700.750  Schizophrenia  M0019489   \n",
       "12394  Schizophrenia  D012559  F03.700.750  Schizophrenia  M0019489   \n",
       "12394  Schizophrenia  D012559  F03.700.750  Schizophrenia  M0019489   \n",
       "12394  Schizophrenia  D012559  F03.700.750  Schizophrenia  M0019489   \n",
       "12394  Schizophrenia  D012559  F03.700.750  Schizophrenia  M0019489   \n",
       "12394  Schizophrenia  D012559  F03.700.750  Schizophrenia  M0019489   \n",
       "12394  Schizophrenia  D012559  F03.700.750  Schizophrenia  M0019489   \n",
       "\n",
       "      tree_parent  tree_length group                  termName termPref  \n",
       "12394         F03           11   F03             Schizophrenia        Y  \n",
       "12394         F03           11   F03            Schizophrenias        N  \n",
       "12394         F03           11   F03   Schizophrenic Disorders        N  \n",
       "12394         F03           11   F03   Disorder, Schizophrenic        N  \n",
       "12394         F03           11   F03  Disorders, Schizophrenic        N  \n",
       "12394         F03           11   F03    Schizophrenic Disorder        N  \n",
       "12394         F03           11   F03          Dementia Praecox        N  "
      ]
     },
     "execution_count": 51,
     "metadata": {},
     "output_type": "execute_result"
    }
   ],
   "source": [
    "df[df['tree'] == 'F03.700.750']"
   ]
  },
  {
   "cell_type": "code",
   "execution_count": 52,
   "metadata": {},
   "outputs": [],
   "source": [
    "def FormatTerm(df):\n",
    "    r = []\n",
    "    for term in df['termName']:\n",
    "        term = term.lower()\n",
    "        split = term.split(',')\n",
    "        if len(split) > 1:\n",
    "            #reverse list\n",
    "            new_item = ' '.join([x for x in reversed(split)])\n",
    "            r.append(new_item.lstrip())\n",
    "        else:\n",
    "            r.append(term.lstrip())\n",
    "    return r"
   ]
  },
  {
   "cell_type": "code",
   "execution_count": 53,
   "metadata": {},
   "outputs": [],
   "source": [
    "df.loc[:,'term_clean'] = FormatTerm(df)"
   ]
  },
  {
   "cell_type": "code",
   "execution_count": 54,
   "metadata": {},
   "outputs": [],
   "source": [
    "df.loc[:,'termName'] = [x.lower().replace(',','') for x in df['termName']]"
   ]
  },
  {
   "cell_type": "code",
   "execution_count": 56,
   "metadata": {},
   "outputs": [],
   "source": [
    "df.to_csv('mesh_with_mental_health.csv', index=False)"
   ]
  },
  {
   "cell_type": "code",
   "execution_count": null,
   "metadata": {},
   "outputs": [],
   "source": []
  },
  {
   "cell_type": "code",
   "execution_count": 55,
   "metadata": {},
   "outputs": [
    {
     "data": {
      "text/plain": [
       "C10    18149\n",
       "C01    11789\n",
       "C04    10895\n",
       "C16    10486\n",
       "C18     9855\n",
       "C14     6749\n",
       "C05     4583\n",
       "C23     3741\n",
       "C06     3581\n",
       "C15     3332\n",
       "C08     2935\n",
       "C11     2755\n",
       "C17     2730\n",
       "C07     2088\n",
       "C12     1984\n",
       "C13     1770\n",
       "C26     1741\n",
       "C19     1506\n",
       "C20     1318\n",
       "F03     1277\n",
       "C25      832\n",
       "C22      819\n",
       "C09      659\n",
       "C24      123\n",
       "C21       57\n",
       "Name: group, dtype: int64"
      ]
     },
     "execution_count": 55,
     "metadata": {},
     "output_type": "execute_result"
    }
   ],
   "source": [
    "df['group'].value_counts()"
   ]
  },
  {
   "cell_type": "code",
   "execution_count": null,
   "metadata": {},
   "outputs": [],
   "source": []
  }
 ],
 "metadata": {
  "kernelspec": {
   "display_name": "Python 3",
   "language": "python",
   "name": "python3"
  },
  "language_info": {
   "codemirror_mode": {
    "name": "ipython",
    "version": 3
   },
   "file_extension": ".py",
   "mimetype": "text/x-python",
   "name": "python",
   "nbconvert_exporter": "python",
   "pygments_lexer": "ipython3",
   "version": "3.7.6"
  }
 },
 "nbformat": 4,
 "nbformat_minor": 4
}
